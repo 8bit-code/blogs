{
 "cells": [
  {
   "cell_type": "code",
   "execution_count": 3,
   "metadata": {},
   "outputs": [],
   "source": [
    "from neo4j.v1 import GraphDatabase\n",
    "import numpy as np"
   ]
  },
  {
   "cell_type": "code",
   "execution_count": 2,
   "metadata": {},
   "outputs": [],
   "source": [
    "driver = GraphDatabase.driver('bolt://localhost:7687',auth=('neo4j', 'password'))\n"
   ]
  },
  {
   "cell_type": "code",
   "execution_count": 4,
   "metadata": {},
   "outputs": [],
   "source": [
    "def print_results(array):\n",
    "    a = np.array(array)\n",
    "    print('Average response: {}ms'.format(a.mean()))\n",
    "    print('Max response: {}ms'.format(max(a)))\n",
    "    print('Min response: {}ms'.format(min(a)))\n",
    "    for p in [25,50,75,90,95,99]:\n",
    "        print('{}th percentile: {}ms'.format(p, np.percentile(a,p)))\n",
    "        \n",
    "def test_query(query):\n",
    "    session = driver.session()\n",
    "    results = []\n",
    "    for _ in range(1000):\n",
    "        r = session.run(query)\n",
    "        summary = r.summary()\n",
    "        millis = summary.result_available_after + summary.result_consumed_after\n",
    "        results.append(millis)\n",
    "    session.close()\n",
    "    print_results(results)\n",
    "    \n",
    "def import_query(query):\n",
    "    with driver.session() as session:\n",
    "        session.run(query)\n",
    "\n",
    "def delete_db_query():\n",
    "    delete_query = \"\"\"\n",
    "    CALL apoc.periodic.commit('MATCH (n) WITH n limit $limit \n",
    "                           DETACH DELETE n RETURN count(*)', \n",
    "                          {limit:100000})\n",
    "    \"\"\"\n",
    "    with driver.session() as session:\n",
    "        session.run(delete_query)"
   ]
  },
  {
   "cell_type": "markdown",
   "metadata": {},
   "source": [
    "# First example with reaction type as attribute"
   ]
  },
  {
   "cell_type": "markdown",
   "metadata": {},
   "source": [
    "## Import"
   ]
  },
  {
   "cell_type": "code",
   "execution_count": 6,
   "metadata": {},
   "outputs": [],
   "source": [
    "import_as_attribute = \"\"\"\n",
    "\n",
    "CALL apoc.periodic.iterate(\n",
    "\"UNWIND range(0,100) as i\n",
    "return i\",\n",
    "\"CREATE (post:Post{id:i})\n",
    "WITH i,post\n",
    "UNWIND range (0,10000) as j\n",
    "WITH i,j,post, CASE j%6 WHEN 0 THEN 'like'\n",
    "WHEN 1 THEN 'love'\n",
    "WHEN 2 THEN 'haha'\n",
    "WHEN 3 THEN 'wow'\n",
    "WHEN 4 THEN 'sad'\n",
    "WHEN 5 THEN 'angry' END as reaction\n",
    "CREATE (post)<-[:REACTION{type:reaction}]-(:User)\",\n",
    "{parallel:True})\n",
    "\n",
    "\"\"\"\n",
    "\n",
    "import_query(import_as_attribute)"
   ]
  },
  {
   "cell_type": "markdown",
   "metadata": {},
   "source": [
    "## Load test"
   ]
  },
  {
   "cell_type": "code",
   "execution_count": 9,
   "metadata": {},
   "outputs": [
    {
     "name": "stdout",
     "output_type": "stream",
     "text": [
      "Average response: 993.477ms\n",
      "Max response: 2046ms\n",
      "Min response: 801ms\n",
      "25th percentile: 848.0ms\n",
      "50th percentile: 936.0ms\n",
      "75th percentile: 1073.0ms\n",
      "90th percentile: 1238.3000000000002ms\n",
      "95th percentile: 1352.05ms\n",
      "99th percentile: 1696.02ms\n"
     ]
    }
   ],
   "source": [
    "attribute_first_query = \"\"\"\n",
    "MATCH (p:Post)<-[rel]-()\n",
    "RETURN p.id as id, rel.type as type, count(*) AS count\n",
    "ORDER by count DESC limit 5\n",
    "\"\"\"\n",
    "test_query(attribute_first_query)"
   ]
  },
  {
   "cell_type": "code",
   "execution_count": 10,
   "metadata": {},
   "outputs": [
    {
     "name": "stdout",
     "output_type": "stream",
     "text": [
      "Average response: 753.792ms\n",
      "Max response: 1493ms\n",
      "Min response: 677ms\n",
      "25th percentile: 694.0ms\n",
      "50th percentile: 711.0ms\n",
      "75th percentile: 769.25ms\n",
      "90th percentile: 874.2ms\n",
      "95th percentile: 966.05ms\n",
      "99th percentile: 1125.1ms\n"
     ]
    }
   ],
   "source": [
    "attribute_second_query = \"\"\"\n",
    "MATCH (p:Post)<-[rel]-()\n",
    "WITH p, rel.type as type, count(*) AS count\n",
    "ORDER by count DESC limit 5\n",
    "RETURN p.id,type,count\n",
    "\n",
    "\"\"\"\n",
    "test_query(attribute_second_query)"
   ]
  },
  {
   "cell_type": "markdown",
   "metadata": {},
   "source": [
    "# Second example with reaction type as node label"
   ]
  },
  {
   "cell_type": "code",
   "execution_count": 12,
   "metadata": {},
   "outputs": [],
   "source": [
    "delete_db_query()"
   ]
  },
  {
   "cell_type": "markdown",
   "metadata": {},
   "source": [
    "## Import"
   ]
  },
  {
   "cell_type": "code",
   "execution_count": 14,
   "metadata": {},
   "outputs": [],
   "source": [
    "import_as_node_label = \"\"\"\n",
    "CALL apoc.periodic.iterate(\n",
    "\"UNWIND range(0,100) as i\n",
    "return i\",\n",
    "\"CREATE (post:Post{id:i})\n",
    "with i,post\n",
    "UNWIND range(0,10000) as j\n",
    "WITH i,post, CASE j%6 WHEN 0 THEN 'like'\n",
    "WHEN 1 THEN 'love'\n",
    "WHEN 2 THEN 'haha'\n",
    "WHEN 3 THEN 'wow'\n",
    "WHEN 4 THEN 'sad'\n",
    "WHEN 5 THEN 'angry' END as reaction\n",
    "// Create node with a dynamic label\n",
    "call apoc.create.node([reaction], {}) yield node\n",
    "CREATE (post)<-[:TO]-(node)\n",
    "CREATE (node)<-[:REACTION]-(:User)\",\n",
    "{parallel:True})\n",
    "\"\"\"\n",
    "import_query(import_as_node_label)"
   ]
  },
  {
   "cell_type": "markdown",
   "metadata": {},
   "source": [
    "## Load test"
   ]
  },
  {
   "cell_type": "code",
   "execution_count": 16,
   "metadata": {},
   "outputs": [
    {
     "name": "stdout",
     "output_type": "stream",
     "text": [
      "Average response: 659.676ms\n",
      "Max response: 1092ms\n",
      "Min response: 596ms\n",
      "25th percentile: 607.0ms\n",
      "50th percentile: 628.0ms\n",
      "75th percentile: 675.25ms\n",
      "90th percentile: 756.2ms\n",
      "95th percentile: 843.0ms\n",
      "99th percentile: 1029.06ms\n"
     ]
    }
   ],
   "source": [
    "second_query = \"\"\"\n",
    "MATCH (p:Post)<--(reaction)\n",
    "WITH p,labels(reaction) as labels,count(*) as count\n",
    "ORDER BY count DESC LIMIT 5\n",
    "RETURN p.id as id,labels[0] as type,count(*)\n",
    "\n",
    "\"\"\"\n",
    "test_query(second_query)"
   ]
  },
  {
   "cell_type": "markdown",
   "metadata": {},
   "source": [
    "# Third example with reaction type as relationship type"
   ]
  },
  {
   "cell_type": "code",
   "execution_count": 17,
   "metadata": {},
   "outputs": [],
   "source": [
    "delete_db_query()"
   ]
  },
  {
   "cell_type": "markdown",
   "metadata": {},
   "source": [
    "## Import"
   ]
  },
  {
   "cell_type": "code",
   "execution_count": 18,
   "metadata": {},
   "outputs": [],
   "source": [
    "import_type_as_rel_type = \"\"\"\n",
    "CALL apoc.periodic.iterate(\n",
    "\"UNWIND range(0,100) as i\n",
    "return i\",\n",
    "\"CREATE (post:Post{id:i})\n",
    "with i,post\n",
    "UNWIND range(0,10000) as j\n",
    "CREATE (u:User)\n",
    "WITH i,post,u, CASE j%6 WHEN 0 THEN 'like'\n",
    "WHEN 1 THEN 'love'\n",
    "WHEN 2 THEN 'haha'\n",
    "WHEN 3 THEN 'wow'\n",
    "WHEN 4 THEN 'sad'\n",
    "WHEN 5 THEN 'angry' END as reaction\n",
    "// Create relationship with a dynamic type\n",
    "CALL apoc.create.relationship(u, reaction, {}, post) YIELD rel\n",
    "RETURN rel\",\n",
    "{parallel:True})\n",
    "\"\"\"\n",
    "import_query(import_type_as_rel_type)"
   ]
  },
  {
   "cell_type": "markdown",
   "metadata": {},
   "source": [
    "## Load test"
   ]
  },
  {
   "cell_type": "code",
   "execution_count": 19,
   "metadata": {},
   "outputs": [
    {
     "name": "stdout",
     "output_type": "stream",
     "text": [
      "Average response: 712.257ms\n",
      "Max response: 927ms\n",
      "Min response: 699ms\n",
      "25th percentile: 705.0ms\n",
      "50th percentile: 708.0ms\n",
      "75th percentile: 712.0ms\n",
      "90th percentile: 723.0ms\n",
      "95th percentile: 742.05ms\n",
      "99th percentile: 777.0ms\n"
     ]
    }
   ],
   "source": [
    "rel_type_first_query = \"\"\"\n",
    "MATCH (p:Post)<-[rel]-()\n",
    "WITH p,type(rel) as type,count(*) as count\n",
    "ORDER BY count DESC limit 5 \n",
    "RETURN p.id as id,type,count\n",
    "\n",
    "\"\"\"\n",
    "test_query(rel_type_first_query)"
   ]
  },
  {
   "cell_type": "code",
   "execution_count": 20,
   "metadata": {},
   "outputs": [
    {
     "name": "stdout",
     "output_type": "stream",
     "text": [
      "Average response: 1.085ms\n",
      "Max response: 93ms\n",
      "Min response: 0ms\n",
      "25th percentile: 1.0ms\n",
      "50th percentile: 1.0ms\n",
      "75th percentile: 1.0ms\n",
      "90th percentile: 2.0ms\n",
      "95th percentile: 2.0ms\n",
      "99th percentile: 2.0ms\n"
     ]
    }
   ],
   "source": [
    "rel_type_second_query = \"\"\"\n",
    "MATCH (p:Post)\n",
    "WITH p\n",
    "UNWIND [{key:'like',count:size((p)<-[:like]-())},\n",
    "        {key:'love',count:size((p)<-[:love]-())},\n",
    "        {key:'haha',count:size((p)<-[:haha]-())},\n",
    "        {key:'wow', count: size((p)<-[:wow]-())},\n",
    "        {key:'sad', count: size((p)<-[:sad]-())},\n",
    "        {key:'angry',count: size((p)<-[:angry]-())}] as k\n",
    "WITH p,k.key as key,k.count as count\n",
    "ORDER BY count DESC LIMIT 5\n",
    "RETURN p.id as id,key,count\n",
    "\n",
    "\"\"\"\n",
    "test_query(rel_type_second_query)"
   ]
  },
  {
   "cell_type": "code",
   "execution_count": 21,
   "metadata": {},
   "outputs": [
    {
     "name": "stdout",
     "output_type": "stream",
     "text": [
      "Average response: 1.969ms\n",
      "Max response: 63ms\n",
      "Min response: 1ms\n",
      "25th percentile: 1.0ms\n",
      "50th percentile: 2.0ms\n",
      "75th percentile: 2.0ms\n",
      "90th percentile: 3.0ms\n",
      "95th percentile: 3.0ms\n",
      "99th percentile: 4.0ms\n"
     ]
    }
   ],
   "source": [
    "rel_type_apoc_query = \"\"\"\n",
    "\n",
    "MATCH (p:Post)\n",
    "UNWIND apoc.node.relationship.types(p) as type\n",
    "WITH p, type, apoc.node.degree.in(p, type) as count\n",
    "ORDER BY count DESC LIMIT 5\n",
    "RETURN p.id as post, type, count\n",
    "\n",
    "\"\"\"\n",
    "test_query(rel_type_apoc_query)"
   ]
  },
  {
   "cell_type": "code",
   "execution_count": null,
   "metadata": {},
   "outputs": [],
   "source": []
  }
 ],
 "metadata": {
  "kernelspec": {
   "display_name": "Python 3",
   "language": "python",
   "name": "python3"
  },
  "language_info": {
   "codemirror_mode": {
    "name": "ipython",
    "version": 3
   },
   "file_extension": ".py",
   "mimetype": "text/x-python",
   "name": "python",
   "nbconvert_exporter": "python",
   "pygments_lexer": "ipython3",
   "version": "3.5.2"
  }
 },
 "nbformat": 4,
 "nbformat_minor": 2
}
