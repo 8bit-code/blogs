{
 "cells": [
  {
   "cell_type": "code",
   "execution_count": 11,
   "metadata": {},
   "outputs": [],
   "source": [
    "# Define Neo4j connections\n",
    "from neo4j import GraphDatabase\n",
    "host = 'bolt://localhost:7687'\n",
    "user = 'neo4j'\n",
    "password = 'password'\n",
    "driver = GraphDatabase.driver(host,auth=(user, password))\n",
    "\n",
    "def drop_graph(name):\n",
    "    with driver.session() as session:\n",
    "        drop_graph_query = \"\"\"\n",
    "        CALL gds.graph.drop('{}');\n",
    "        \"\"\".format(name)\n",
    "        session.run(drop_graph_query)"
   ]
  },
  {
   "cell_type": "code",
   "execution_count": 4,
   "metadata": {},
   "outputs": [],
   "source": [
    "# Import libraries\n",
    "import pandas as pd\n",
    "\n",
    "def read_query(query):\n",
    "    with driver.session() as session:\n",
    "        result = session.run(query)\n",
    "        return pd.DataFrame([r.values() for r in result], columns=result.keys())"
   ]
  },
  {
   "cell_type": "code",
   "execution_count": 6,
   "metadata": {},
   "outputs": [
    {
     "data": {
      "text/html": [
       "<div>\n",
       "<style scoped>\n",
       "    .dataframe tbody tr th:only-of-type {\n",
       "        vertical-align: middle;\n",
       "    }\n",
       "\n",
       "    .dataframe tbody tr th {\n",
       "        vertical-align: top;\n",
       "    }\n",
       "\n",
       "    .dataframe thead th {\n",
       "        text-align: right;\n",
       "    }\n",
       "</style>\n",
       "<table border=\"1\" class=\"dataframe\">\n",
       "  <thead>\n",
       "    <tr style=\"text-align: right;\">\n",
       "      <th></th>\n",
       "    </tr>\n",
       "  </thead>\n",
       "  <tbody>\n",
       "  </tbody>\n",
       "</table>\n",
       "</div>"
      ],
      "text/plain": [
       "Empty DataFrame\n",
       "Columns: []\n",
       "Index: []"
      ]
     },
     "execution_count": 6,
     "metadata": {},
     "output_type": "execute_result"
    }
   ],
   "source": [
    "# Import the graph\n",
    "\n",
    "import_query = \"\"\"\n",
    "CREATE (t:Entity{name:'Tomaz'}),\n",
    "       (n:Entity{name:'Neo4j'})\n",
    "CREATE (t)-[:LIKES{weight:1}]->(n),\n",
    "       (t)-[:LOVES{weight:2}]->(n),\n",
    "       (t)-[:PRESENTED_FOR{weight:0.5}]->(n),\n",
    "       (t)-[:PRESENTED_FOR{weight:1.5}]->(n);\n",
    "\"\"\"\n",
    "read_query(import_query)"
   ]
  },
  {
   "cell_type": "markdown",
   "metadata": {},
   "source": [
    "## Relationships without own identity\n",
    "\n",
    "In the context of the GDS library, relationships without own identity imply that we ignore the type of relationships in the process of projecting the graph.\n",
    "\n",
    "### Native projection\n",
    "\n",
    "We will start with native projection examples. If we use the wildcard operator * to define the relationships we want to project, we ignore their type and bundle them all together. This can be understood as losing their own identity (type in the context of Neo4j).\n",
    "\n",
    "#### Default aggregation strategy\n",
    "\n",
    "In the first example, we will observe the default behavior of the graph projection process."
   ]
  },
  {
   "cell_type": "code",
   "execution_count": 7,
   "metadata": {},
   "outputs": [
    {
     "data": {
      "text/html": [
       "<div>\n",
       "<style scoped>\n",
       "    .dataframe tbody tr th:only-of-type {\n",
       "        vertical-align: middle;\n",
       "    }\n",
       "\n",
       "    .dataframe tbody tr th {\n",
       "        vertical-align: top;\n",
       "    }\n",
       "\n",
       "    .dataframe thead th {\n",
       "        text-align: right;\n",
       "    }\n",
       "</style>\n",
       "<table border=\"1\" class=\"dataframe\">\n",
       "  <thead>\n",
       "    <tr style=\"text-align: right;\">\n",
       "      <th></th>\n",
       "      <th>graphName</th>\n",
       "      <th>nodeProjection</th>\n",
       "      <th>relationshipProjection</th>\n",
       "      <th>nodeCount</th>\n",
       "      <th>relationshipCount</th>\n",
       "      <th>createMillis</th>\n",
       "    </tr>\n",
       "  </thead>\n",
       "  <tbody>\n",
       "    <tr>\n",
       "      <th>0</th>\n",
       "      <td>default_agg</td>\n",
       "      <td>{'*': {'properties': {}, 'label': '*'}}</td>\n",
       "      <td>{'*': {'properties': {'weight': {'defaultValue...</td>\n",
       "      <td>2</td>\n",
       "      <td>4</td>\n",
       "      <td>38</td>\n",
       "    </tr>\n",
       "  </tbody>\n",
       "</table>\n",
       "</div>"
      ],
      "text/plain": [
       "     graphName                           nodeProjection  \\\n",
       "0  default_agg  {'*': {'properties': {}, 'label': '*'}}   \n",
       "\n",
       "                              relationshipProjection  nodeCount  \\\n",
       "0  {'*': {'properties': {'weight': {'defaultValue...          2   \n",
       "\n",
       "   relationshipCount  createMillis  \n",
       "0                  4            38  "
      ]
     },
     "execution_count": 7,
     "metadata": {},
     "output_type": "execute_result"
    }
   ],
   "source": [
    "default_agg_strategy = \"\"\"\n",
    "\n",
    "CALL gds.graph.create('default_agg','*','*',\n",
    "    {relationshipProperties: ['weight']})\n",
    "\n",
    "\"\"\"\n",
    "\n",
    "read_query(default_agg_strategy)"
   ]
  },
  {
   "cell_type": "markdown",
   "metadata": {},
   "source": [
    "The default aggregation strategy actually doesn't perform any aggregations and projects all the relationships from the stored graph to memory without any transformations. If we check the relationshipCount, we observe that four relationships have been projected. To double-check the projected graph, we can use the degree centrality."
   ]
  },
  {
   "cell_type": "code",
   "execution_count": 9,
   "metadata": {},
   "outputs": [
    {
     "data": {
      "text/html": [
       "<div>\n",
       "<style scoped>\n",
       "    .dataframe tbody tr th:only-of-type {\n",
       "        vertical-align: middle;\n",
       "    }\n",
       "\n",
       "    .dataframe tbody tr th {\n",
       "        vertical-align: top;\n",
       "    }\n",
       "\n",
       "    .dataframe thead th {\n",
       "        text-align: right;\n",
       "    }\n",
       "</style>\n",
       "<table border=\"1\" class=\"dataframe\">\n",
       "  <thead>\n",
       "    <tr style=\"text-align: right;\">\n",
       "      <th></th>\n",
       "      <th>name</th>\n",
       "      <th>degree</th>\n",
       "    </tr>\n",
       "  </thead>\n",
       "  <tbody>\n",
       "    <tr>\n",
       "      <th>0</th>\n",
       "      <td>Tomaz</td>\n",
       "      <td>4.0</td>\n",
       "    </tr>\n",
       "    <tr>\n",
       "      <th>1</th>\n",
       "      <td>Neo4j</td>\n",
       "      <td>0.0</td>\n",
       "    </tr>\n",
       "  </tbody>\n",
       "</table>\n",
       "</div>"
      ],
      "text/plain": [
       "    name  degree\n",
       "0  Tomaz     4.0\n",
       "1  Neo4j     0.0"
      ]
     },
     "execution_count": 9,
     "metadata": {},
     "output_type": "execute_result"
    }
   ],
   "source": [
    "default_agg_strategy_check = \"\"\"\n",
    "\n",
    "CALL gds.alpha.degree.stream('default_agg')\n",
    "YIELD nodeId, score\n",
    "RETURN gds.util.asNode(nodeId).name AS name, \n",
    "       score AS degree\n",
    "ORDER BY degree DESC\n",
    "\n",
    "\"\"\"\n",
    "\n",
    "read_query(default_agg_strategy_check)"
   ]
  },
  {
   "cell_type": "markdown",
   "metadata": {},
   "source": [
    "As we expected, all four relationships have been projected. To have a reference for the future let's also calculate the weighted degree centrality. By adding the <code>relationshipWeightProperty</code> parameter, we indicate we want to use the weighted variant of the algorithm."
   ]
  },
  {
   "cell_type": "code",
   "execution_count": 10,
   "metadata": {},
   "outputs": [
    {
     "data": {
      "text/html": [
       "<div>\n",
       "<style scoped>\n",
       "    .dataframe tbody tr th:only-of-type {\n",
       "        vertical-align: middle;\n",
       "    }\n",
       "\n",
       "    .dataframe tbody tr th {\n",
       "        vertical-align: top;\n",
       "    }\n",
       "\n",
       "    .dataframe thead th {\n",
       "        text-align: right;\n",
       "    }\n",
       "</style>\n",
       "<table border=\"1\" class=\"dataframe\">\n",
       "  <thead>\n",
       "    <tr style=\"text-align: right;\">\n",
       "      <th></th>\n",
       "      <th>name</th>\n",
       "      <th>weighted_degree</th>\n",
       "    </tr>\n",
       "  </thead>\n",
       "  <tbody>\n",
       "    <tr>\n",
       "      <th>0</th>\n",
       "      <td>Tomaz</td>\n",
       "      <td>5.0</td>\n",
       "    </tr>\n",
       "    <tr>\n",
       "      <th>1</th>\n",
       "      <td>Neo4j</td>\n",
       "      <td>0.0</td>\n",
       "    </tr>\n",
       "  </tbody>\n",
       "</table>\n",
       "</div>"
      ],
      "text/plain": [
       "    name  weighted_degree\n",
       "0  Tomaz              5.0\n",
       "1  Neo4j              0.0"
      ]
     },
     "execution_count": 10,
     "metadata": {},
     "output_type": "execute_result"
    }
   ],
   "source": [
    "default_agg_strategy_weight_check = \"\"\"\n",
    "\n",
    "CALL gds.alpha.degree.stream('default_agg', \n",
    "    {relationshipWeightProperty:'weight'})\n",
    "YIELD nodeId, score \n",
    "RETURN gds.util.asNode(nodeId).name AS name,\n",
    "       score AS weighted_degree ORDER BY weighted_degree DESC\n",
    "\"\"\"\n",
    "\n",
    "read_query(default_agg_strategy_weight_check)"
   ]
  },
  {
   "cell_type": "markdown",
   "metadata": {},
   "source": [
    "The result is the sum of weights of all the considered relationships. We have no use of this projected graph anymore, so remember to release it from memory."
   ]
  },
  {
   "cell_type": "code",
   "execution_count": 12,
   "metadata": {},
   "outputs": [],
   "source": [
    "drop_graph('default_agg')"
   ]
  },
  {
   "cell_type": "markdown",
   "metadata": {},
   "source": [
    "#### Single-graph strategy\n",
    "\n",
    "Depending on the use case, we might want to reduce our multigraph to a single graph during the projection process. This can be easily achieved with the <code>aggregation</code> parameter. We have to use the configuration map variant for the relationship definition."
   ]
  },
  {
   "cell_type": "code",
   "execution_count": 13,
   "metadata": {},
   "outputs": [
    {
     "data": {
      "text/html": [
       "<div>\n",
       "<style scoped>\n",
       "    .dataframe tbody tr th:only-of-type {\n",
       "        vertical-align: middle;\n",
       "    }\n",
       "\n",
       "    .dataframe tbody tr th {\n",
       "        vertical-align: top;\n",
       "    }\n",
       "\n",
       "    .dataframe thead th {\n",
       "        text-align: right;\n",
       "    }\n",
       "</style>\n",
       "<table border=\"1\" class=\"dataframe\">\n",
       "  <thead>\n",
       "    <tr style=\"text-align: right;\">\n",
       "      <th></th>\n",
       "      <th>graphName</th>\n",
       "      <th>nodeProjection</th>\n",
       "      <th>relationshipProjection</th>\n",
       "      <th>nodeCount</th>\n",
       "      <th>relationshipCount</th>\n",
       "      <th>createMillis</th>\n",
       "    </tr>\n",
       "  </thead>\n",
       "  <tbody>\n",
       "    <tr>\n",
       "      <th>0</th>\n",
       "      <td>single_rel_strategy</td>\n",
       "      <td>{'*': {'properties': {}, 'label': '*'}}</td>\n",
       "      <td>{'TYPE': {'properties': {}, 'type': '*', 'orie...</td>\n",
       "      <td>2</td>\n",
       "      <td>1</td>\n",
       "      <td>79</td>\n",
       "    </tr>\n",
       "  </tbody>\n",
       "</table>\n",
       "</div>"
      ],
      "text/plain": [
       "             graphName                           nodeProjection  \\\n",
       "0  single_rel_strategy  {'*': {'properties': {}, 'label': '*'}}   \n",
       "\n",
       "                              relationshipProjection  nodeCount  \\\n",
       "0  {'TYPE': {'properties': {}, 'type': '*', 'orie...          2   \n",
       "\n",
       "   relationshipCount  createMillis  \n",
       "0                  1            79  "
      ]
     },
     "execution_count": 13,
     "metadata": {},
     "output_type": "execute_result"
    }
   ],
   "source": [
    "single_rel_graph = \"\"\"\n",
    "CALL gds.graph.create('single_rel_strategy','*', \n",
    "    {TYPE:{type:'*', aggregation:'SINGLE'}})\n",
    "\n",
    "\"\"\"\n",
    "\n",
    "read_query(single_rel_graph)"
   ]
  },
  {
   "cell_type": "markdown",
   "metadata": {},
   "source": [
    "We notice by looking at the <code>relationshipCount</code>, that only a single relationship has been projected. If we want to double-check with the degree centrality:"
   ]
  },
  {
   "cell_type": "code",
   "execution_count": 14,
   "metadata": {},
   "outputs": [
    {
     "data": {
      "text/html": [
       "<div>\n",
       "<style scoped>\n",
       "    .dataframe tbody tr th:only-of-type {\n",
       "        vertical-align: middle;\n",
       "    }\n",
       "\n",
       "    .dataframe tbody tr th {\n",
       "        vertical-align: top;\n",
       "    }\n",
       "\n",
       "    .dataframe thead th {\n",
       "        text-align: right;\n",
       "    }\n",
       "</style>\n",
       "<table border=\"1\" class=\"dataframe\">\n",
       "  <thead>\n",
       "    <tr style=\"text-align: right;\">\n",
       "      <th></th>\n",
       "      <th>name</th>\n",
       "      <th>degree</th>\n",
       "    </tr>\n",
       "  </thead>\n",
       "  <tbody>\n",
       "    <tr>\n",
       "      <th>0</th>\n",
       "      <td>Tomaz</td>\n",
       "      <td>1.0</td>\n",
       "    </tr>\n",
       "    <tr>\n",
       "      <th>1</th>\n",
       "      <td>Neo4j</td>\n",
       "      <td>0.0</td>\n",
       "    </tr>\n",
       "  </tbody>\n",
       "</table>\n",
       "</div>"
      ],
      "text/plain": [
       "    name  degree\n",
       "0  Tomaz     1.0\n",
       "1  Neo4j     0.0"
      ]
     },
     "execution_count": 14,
     "metadata": {},
     "output_type": "execute_result"
    }
   ],
   "source": [
    "single_rel_graph_check = \"\"\"\n",
    "\n",
    "CALL gds.alpha.degree.stream('single_rel_strategy')\n",
    "YIELD nodeId, score\n",
    "RETURN gds.util.asNode(nodeId).name AS name,\n",
    "       score AS degree\n",
    "ORDER BY degree DESC\n",
    "\n",
    "\"\"\"\n",
    "\n",
    "read_query(single_rel_graph_check)"
   ]
  },
  {
   "cell_type": "code",
   "execution_count": 15,
   "metadata": {},
   "outputs": [],
   "source": [
    "drop_graph('single_rel_strategy')"
   ]
  },
  {
   "cell_type": "markdown",
   "metadata": {},
   "source": [
    "#### Property aggregation strategies\n",
    "\n",
    "We have looked at the unweighted multigraph so far. Now it is time to look at what happens when we are dealing with a weighted multigraph and we want to reduce it to a single graph. There are three different strategies we can pick for property aggregations:\n",
    "\n",
    "* MIN: minimum value of all weights is projected\n",
    "* MAX: maximum value of all weights is projected\n",
    "* SUM: the sum of all weights is projected\n",
    "\n",
    "In our next example, we will use the <code>MIN</code> property aggregation strategy to reduce a weighted multigraph to a single graph. By providing the property aggregation parameter, we indicate we want to reduce the stored graph to a single graph in the projection process."
   ]
  },
  {
   "cell_type": "code",
   "execution_count": 16,
   "metadata": {},
   "outputs": [
    {
     "data": {
      "text/html": [
       "<div>\n",
       "<style scoped>\n",
       "    .dataframe tbody tr th:only-of-type {\n",
       "        vertical-align: middle;\n",
       "    }\n",
       "\n",
       "    .dataframe tbody tr th {\n",
       "        vertical-align: top;\n",
       "    }\n",
       "\n",
       "    .dataframe thead th {\n",
       "        text-align: right;\n",
       "    }\n",
       "</style>\n",
       "<table border=\"1\" class=\"dataframe\">\n",
       "  <thead>\n",
       "    <tr style=\"text-align: right;\">\n",
       "      <th></th>\n",
       "      <th>graphName</th>\n",
       "      <th>nodeProjection</th>\n",
       "      <th>relationshipProjection</th>\n",
       "      <th>nodeCount</th>\n",
       "      <th>relationshipCount</th>\n",
       "      <th>createMillis</th>\n",
       "    </tr>\n",
       "  </thead>\n",
       "  <tbody>\n",
       "    <tr>\n",
       "      <th>0</th>\n",
       "      <td>min_aggregation</td>\n",
       "      <td>{'*': {'properties': {}, 'label': '*'}}</td>\n",
       "      <td>{'*': {'properties': {'weight': {'defaultValue...</td>\n",
       "      <td>2</td>\n",
       "      <td>1</td>\n",
       "      <td>32</td>\n",
       "    </tr>\n",
       "  </tbody>\n",
       "</table>\n",
       "</div>"
      ],
      "text/plain": [
       "         graphName                           nodeProjection  \\\n",
       "0  min_aggregation  {'*': {'properties': {}, 'label': '*'}}   \n",
       "\n",
       "                              relationshipProjection  nodeCount  \\\n",
       "0  {'*': {'properties': {'weight': {'defaultValue...          2   \n",
       "\n",
       "   relationshipCount  createMillis  \n",
       "0                  1            32  "
      ]
     },
     "execution_count": 16,
     "metadata": {},
     "output_type": "execute_result"
    }
   ],
   "source": [
    "min_agg_strategy = \"\"\"\n",
    "\n",
    "CALL gds.graph.create('min_aggregation','*','*',\n",
    "    {relationshipProperties: {weight: {property: 'weight', aggregation: 'MIN'}}})\n",
    "\n",
    "\"\"\"\n",
    "\n",
    "read_query(min_agg_strategy)"
   ]
  },
  {
   "cell_type": "markdown",
   "metadata": {},
   "source": [
    "We can observe that the <code>relationshipCount</code> is 1, which means our multigraph has been successfully reduced to a single graph. To validate the <code>MIN</code> property aggregation, let's also calculate the weighted degree centrality."
   ]
  },
  {
   "cell_type": "code",
   "execution_count": 17,
   "metadata": {},
   "outputs": [
    {
     "data": {
      "text/html": [
       "<div>\n",
       "<style scoped>\n",
       "    .dataframe tbody tr th:only-of-type {\n",
       "        vertical-align: middle;\n",
       "    }\n",
       "\n",
       "    .dataframe tbody tr th {\n",
       "        vertical-align: top;\n",
       "    }\n",
       "\n",
       "    .dataframe thead th {\n",
       "        text-align: right;\n",
       "    }\n",
       "</style>\n",
       "<table border=\"1\" class=\"dataframe\">\n",
       "  <thead>\n",
       "    <tr style=\"text-align: right;\">\n",
       "      <th></th>\n",
       "      <th>name</th>\n",
       "      <th>weighted_degree</th>\n",
       "    </tr>\n",
       "  </thead>\n",
       "  <tbody>\n",
       "    <tr>\n",
       "      <th>0</th>\n",
       "      <td>Tomaz</td>\n",
       "      <td>0.5</td>\n",
       "    </tr>\n",
       "    <tr>\n",
       "      <th>1</th>\n",
       "      <td>Neo4j</td>\n",
       "      <td>0.0</td>\n",
       "    </tr>\n",
       "  </tbody>\n",
       "</table>\n",
       "</div>"
      ],
      "text/plain": [
       "    name  weighted_degree\n",
       "0  Tomaz              0.5\n",
       "1  Neo4j              0.0"
      ]
     },
     "execution_count": 17,
     "metadata": {},
     "output_type": "execute_result"
    }
   ],
   "source": [
    "min_agg_strategy_check = \"\"\"\n",
    "\n",
    "CALL gds.alpha.degree.stream('min_aggregation', \n",
    "    {relationshipWeightProperty:'weight'})\n",
    "YIELD nodeId, score\n",
    "RETURN gds.util.asNode(nodeId).name AS name, \n",
    "       score AS weighted_degree\n",
    "ORDER BY weighted_degree DESC\n",
    "\n",
    "\"\"\"\n",
    "\n",
    "read_query(min_agg_strategy_check)"
   ]
  },
  {
   "cell_type": "markdown",
   "metadata": {},
   "source": [
    "As we expected with the MIN property aggregation strategy, the reduced single weight was the smallest one. Again, as we finished with the example,  don't forget to drop the projected graph."
   ]
  },
  {
   "cell_type": "code",
   "execution_count": 18,
   "metadata": {},
   "outputs": [],
   "source": [
    "drop_graph('min_aggregation')"
   ]
  },
  {
   "cell_type": "markdown",
   "metadata": {},
   "source": [
    "### Cypher projection\n",
    "\n",
    "Let's recreate the above examples with cypher projection. To lose the identity of the relationships and bundle them all together, we avoid providing the type column in the return of the relationship statement.\n",
    "\n",
    "#### Default aggregation strategy\n",
    "\n",
    "Similarly to native projection, the default setting in cypher projection is to project all the relationships without any transformation during the projection process."
   ]
  },
  {
   "cell_type": "code",
   "execution_count": 19,
   "metadata": {},
   "outputs": [
    {
     "data": {
      "text/html": [
       "<div>\n",
       "<style scoped>\n",
       "    .dataframe tbody tr th:only-of-type {\n",
       "        vertical-align: middle;\n",
       "    }\n",
       "\n",
       "    .dataframe tbody tr th {\n",
       "        vertical-align: top;\n",
       "    }\n",
       "\n",
       "    .dataframe thead th {\n",
       "        text-align: right;\n",
       "    }\n",
       "</style>\n",
       "<table border=\"1\" class=\"dataframe\">\n",
       "  <thead>\n",
       "    <tr style=\"text-align: right;\">\n",
       "      <th></th>\n",
       "      <th>graphName</th>\n",
       "      <th>nodeProjection</th>\n",
       "      <th>relationshipProjection</th>\n",
       "      <th>nodeCount</th>\n",
       "      <th>relationshipCount</th>\n",
       "      <th>createMillis</th>\n",
       "    </tr>\n",
       "  </thead>\n",
       "  <tbody>\n",
       "    <tr>\n",
       "      <th>0</th>\n",
       "      <td>cypher_default_strategy</td>\n",
       "      <td>{'*': {'properties': {}, 'label': '*'}}</td>\n",
       "      <td>{'*': {'properties': {}, 'type': '*', 'orienta...</td>\n",
       "      <td>2</td>\n",
       "      <td>4</td>\n",
       "      <td>132</td>\n",
       "    </tr>\n",
       "  </tbody>\n",
       "</table>\n",
       "</div>"
      ],
      "text/plain": [
       "                 graphName                           nodeProjection  \\\n",
       "0  cypher_default_strategy  {'*': {'properties': {}, 'label': '*'}}   \n",
       "\n",
       "                              relationshipProjection  nodeCount  \\\n",
       "0  {'*': {'properties': {}, 'type': '*', 'orienta...          2   \n",
       "\n",
       "   relationshipCount  createMillis  \n",
       "0                  4           132  "
      ]
     },
     "execution_count": 19,
     "metadata": {},
     "output_type": "execute_result"
    }
   ],
   "source": [
    "cypher_default_agg = \"\"\"\n",
    "\n",
    "CALL gds.graph.create.cypher('cypher_default_strategy', \n",
    "    'MATCH (n:Entity) RETURN id(n) AS id', \n",
    "    'MATCH (n:Entity)-[r]->(m:Entity)\n",
    "     RETURN id(n) AS source, id(m) AS target')\n",
    "\n",
    "\"\"\"\n",
    "\n",
    "read_query(cypher_default_agg)"
   ]
  },
  {
   "cell_type": "markdown",
   "metadata": {},
   "source": [
    "By looking at the relationshipCount, we observe that all four relationships have been projected as intended.To verify the projected graph, we run the degree centrality."
   ]
  },
  {
   "cell_type": "code",
   "execution_count": 20,
   "metadata": {},
   "outputs": [
    {
     "data": {
      "text/html": [
       "<div>\n",
       "<style scoped>\n",
       "    .dataframe tbody tr th:only-of-type {\n",
       "        vertical-align: middle;\n",
       "    }\n",
       "\n",
       "    .dataframe tbody tr th {\n",
       "        vertical-align: top;\n",
       "    }\n",
       "\n",
       "    .dataframe thead th {\n",
       "        text-align: right;\n",
       "    }\n",
       "</style>\n",
       "<table border=\"1\" class=\"dataframe\">\n",
       "  <thead>\n",
       "    <tr style=\"text-align: right;\">\n",
       "      <th></th>\n",
       "      <th>name</th>\n",
       "      <th>degree</th>\n",
       "    </tr>\n",
       "  </thead>\n",
       "  <tbody>\n",
       "    <tr>\n",
       "      <th>0</th>\n",
       "      <td>Tomaz</td>\n",
       "      <td>4.0</td>\n",
       "    </tr>\n",
       "    <tr>\n",
       "      <th>1</th>\n",
       "      <td>Neo4j</td>\n",
       "      <td>0.0</td>\n",
       "    </tr>\n",
       "  </tbody>\n",
       "</table>\n",
       "</div>"
      ],
      "text/plain": [
       "    name  degree\n",
       "0  Tomaz     4.0\n",
       "1  Neo4j     0.0"
      ]
     },
     "execution_count": 20,
     "metadata": {},
     "output_type": "execute_result"
    }
   ],
   "source": [
    "cypher_default_agg_check = \"\"\"\n",
    "\n",
    "CALL gds.alpha.degree.stream('cypher_default_strategy')\n",
    "YIELD nodeId, score\n",
    "RETURN gds.util.asNode(nodeId).name AS name,\n",
    "       score AS degree\n",
    "ORDER BY degree DESC\n",
    "\n",
    "\"\"\"\n",
    "\n",
    "read_query(cypher_default_agg_check)"
   ]
  },
  {
   "cell_type": "markdown",
   "metadata": {},
   "source": [
    "#### Single relationship strategy\n",
    "\n",
    "With cypher projection, we don't have access to relationship level aggregation strategies. This is no problem at all as it is very easy to reduce the multigraph to a single graph using only the cypher query language. We simply add the <code>DISTINCT</code> clause in the return of the relationship statement and it should be good to go."
   ]
  },
  {
   "cell_type": "code",
   "execution_count": 21,
   "metadata": {},
   "outputs": [
    {
     "data": {
      "text/html": [
       "<div>\n",
       "<style scoped>\n",
       "    .dataframe tbody tr th:only-of-type {\n",
       "        vertical-align: middle;\n",
       "    }\n",
       "\n",
       "    .dataframe tbody tr th {\n",
       "        vertical-align: top;\n",
       "    }\n",
       "\n",
       "    .dataframe thead th {\n",
       "        text-align: right;\n",
       "    }\n",
       "</style>\n",
       "<table border=\"1\" class=\"dataframe\">\n",
       "  <thead>\n",
       "    <tr style=\"text-align: right;\">\n",
       "      <th></th>\n",
       "      <th>graphName</th>\n",
       "      <th>nodeProjection</th>\n",
       "      <th>relationshipProjection</th>\n",
       "      <th>nodeCount</th>\n",
       "      <th>relationshipCount</th>\n",
       "      <th>createMillis</th>\n",
       "    </tr>\n",
       "  </thead>\n",
       "  <tbody>\n",
       "    <tr>\n",
       "      <th>0</th>\n",
       "      <td>cypher_single_strategy</td>\n",
       "      <td>{'*': {'properties': {}, 'label': '*'}}</td>\n",
       "      <td>{'*': {'properties': {}, 'type': '*', 'orienta...</td>\n",
       "      <td>2</td>\n",
       "      <td>1</td>\n",
       "      <td>80</td>\n",
       "    </tr>\n",
       "  </tbody>\n",
       "</table>\n",
       "</div>"
      ],
      "text/plain": [
       "                graphName                           nodeProjection  \\\n",
       "0  cypher_single_strategy  {'*': {'properties': {}, 'label': '*'}}   \n",
       "\n",
       "                              relationshipProjection  nodeCount  \\\n",
       "0  {'*': {'properties': {}, 'type': '*', 'orienta...          2   \n",
       "\n",
       "   relationshipCount  createMillis  \n",
       "0                  1            80  "
      ]
     },
     "execution_count": 21,
     "metadata": {},
     "output_type": "execute_result"
    }
   ],
   "source": [
    "cypher_single_agg = \"\"\"\n",
    "\n",
    "CALL gds.graph.create.cypher('cypher_single_strategy',\n",
    "    'MATCH (n:Entity) RETURN id(n) AS id',\n",
    "    'MATCH (n:Entity)-[r]->(m:Entity)\n",
    "     RETURN DISTINCT id(n) AS source, id(m) AS target' )\n",
    "\n",
    "\"\"\"\n",
    "\n",
    "read_query(cypher_single_agg)"
   ]
  },
  {
   "cell_type": "markdown",
   "metadata": {},
   "source": [
    "The relationship count is one, which means we have successfully reduced the multigraph. Remember to drop the projected graph."
   ]
  },
  {
   "cell_type": "code",
   "execution_count": 22,
   "metadata": {},
   "outputs": [],
   "source": [
    "drop_graph('cypher_single_strategy')"
   ]
  },
  {
   "cell_type": "markdown",
   "metadata": {},
   "source": [
    "#### Property aggregation strategies\n",
    "\n",
    "On the other hand, with cypher projection, we do have access to property level aggregation strategies. We don't really \"need\" them as we can accomplish all the transformation using only cypher. To show you what I mean by that, we can apply the minimum property strategy aggregation using plain cypher like:"
   ]
  },
  {
   "cell_type": "code",
   "execution_count": 23,
   "metadata": {},
   "outputs": [
    {
     "data": {
      "text/html": [
       "<div>\n",
       "<style scoped>\n",
       "    .dataframe tbody tr th:only-of-type {\n",
       "        vertical-align: middle;\n",
       "    }\n",
       "\n",
       "    .dataframe tbody tr th {\n",
       "        vertical-align: top;\n",
       "    }\n",
       "\n",
       "    .dataframe thead th {\n",
       "        text-align: right;\n",
       "    }\n",
       "</style>\n",
       "<table border=\"1\" class=\"dataframe\">\n",
       "  <thead>\n",
       "    <tr style=\"text-align: right;\">\n",
       "      <th></th>\n",
       "      <th>graphName</th>\n",
       "      <th>nodeProjection</th>\n",
       "      <th>relationshipProjection</th>\n",
       "      <th>nodeCount</th>\n",
       "      <th>relationshipCount</th>\n",
       "      <th>createMillis</th>\n",
       "    </tr>\n",
       "  </thead>\n",
       "  <tbody>\n",
       "    <tr>\n",
       "      <th>0</th>\n",
       "      <td>cypher_min_strategy</td>\n",
       "      <td>{'*': {'properties': {}, 'label': '*'}}</td>\n",
       "      <td>{'*': {'properties': {'weight': {'defaultValue...</td>\n",
       "      <td>2</td>\n",
       "      <td>1</td>\n",
       "      <td>37</td>\n",
       "    </tr>\n",
       "  </tbody>\n",
       "</table>\n",
       "</div>"
      ],
      "text/plain": [
       "             graphName                           nodeProjection  \\\n",
       "0  cypher_min_strategy  {'*': {'properties': {}, 'label': '*'}}   \n",
       "\n",
       "                              relationshipProjection  nodeCount  \\\n",
       "0  {'*': {'properties': {'weight': {'defaultValue...          2   \n",
       "\n",
       "   relationshipCount  createMillis  \n",
       "0                  1            37  "
      ]
     },
     "execution_count": 23,
     "metadata": {},
     "output_type": "execute_result"
    }
   ],
   "source": [
    "cypher_min_agg = \"\"\"\n",
    "\n",
    "CALL gds.graph.create.cypher('cypher_min_strategy', \n",
    "    'MATCH (n:Entity) RETURN id(n) AS id', \n",
    "    'MATCH (n:Entity)-[r]->(m:Entity)\n",
    "     RETURN id(n) AS source, id(m) AS target, min(r.weight) as weight' )\n",
    "\n",
    "\"\"\"\n",
    "\n",
    "read_query(cypher_min_agg)"
   ]
  },
  {
   "cell_type": "markdown",
   "metadata": {},
   "source": [
    ">One drawback of that approach is that we put more pressure on the Cypher execution engine and the query result >consumes additional memory. An alternative approach is to use relationshipProperties as part of the optional >configuration map. The syntax is identical to the property mappings used in the native projection.\n",
    "\n",
    "So, to conserve memory, we can use the property level aggregation strategies in the configuration map."
   ]
  },
  {
   "cell_type": "code",
   "execution_count": 24,
   "metadata": {},
   "outputs": [
    {
     "data": {
      "text/html": [
       "<div>\n",
       "<style scoped>\n",
       "    .dataframe tbody tr th:only-of-type {\n",
       "        vertical-align: middle;\n",
       "    }\n",
       "\n",
       "    .dataframe tbody tr th {\n",
       "        vertical-align: top;\n",
       "    }\n",
       "\n",
       "    .dataframe thead th {\n",
       "        text-align: right;\n",
       "    }\n",
       "</style>\n",
       "<table border=\"1\" class=\"dataframe\">\n",
       "  <thead>\n",
       "    <tr style=\"text-align: right;\">\n",
       "      <th></th>\n",
       "      <th>graphName</th>\n",
       "      <th>nodeProjection</th>\n",
       "      <th>relationshipProjection</th>\n",
       "      <th>nodeCount</th>\n",
       "      <th>relationshipCount</th>\n",
       "      <th>createMillis</th>\n",
       "    </tr>\n",
       "  </thead>\n",
       "  <tbody>\n",
       "    <tr>\n",
       "      <th>0</th>\n",
       "      <td>cypher_min_improved</td>\n",
       "      <td>{'*': {'properties': {}, 'label': '*'}}</td>\n",
       "      <td>{'*': {'properties': {'minWeight': {'defaultVa...</td>\n",
       "      <td>2</td>\n",
       "      <td>1</td>\n",
       "      <td>29</td>\n",
       "    </tr>\n",
       "  </tbody>\n",
       "</table>\n",
       "</div>"
      ],
      "text/plain": [
       "             graphName                           nodeProjection  \\\n",
       "0  cypher_min_improved  {'*': {'properties': {}, 'label': '*'}}   \n",
       "\n",
       "                              relationshipProjection  nodeCount  \\\n",
       "0  {'*': {'properties': {'minWeight': {'defaultVa...          2   \n",
       "\n",
       "   relationshipCount  createMillis  \n",
       "0                  1            29  "
      ]
     },
     "execution_count": 24,
     "metadata": {},
     "output_type": "execute_result"
    }
   ],
   "source": [
    "cypher_min_agg_improved = \"\"\"\n",
    "\n",
    "CALL gds.graph.create.cypher('cypher_min_improved',\n",
    "    'MATCH (n:Entity) RETURN id(n) AS id',\n",
    "    'MATCH (n:Entity)-[r]->(m:Entity)\n",
    "     RETURN id(n) AS source, id(m) AS target, r.weight as weight',\n",
    "    {relationshipProperties: {minWeight: {property: 'weight',\n",
    "                                          aggregation: 'MIN'}}})\n",
    "\n",
    "\"\"\"\n",
    "\n",
    "read_query(cypher_min_agg_improved)"
   ]
  },
  {
   "cell_type": "markdown",
   "metadata": {},
   "source": [
    "The relationshipCount is 1, which confirms our successful multigraph reduction. Just to make sure, we can run the weighted centrality and validate results."
   ]
  },
  {
   "cell_type": "code",
   "execution_count": 25,
   "metadata": {},
   "outputs": [
    {
     "data": {
      "text/html": [
       "<div>\n",
       "<style scoped>\n",
       "    .dataframe tbody tr th:only-of-type {\n",
       "        vertical-align: middle;\n",
       "    }\n",
       "\n",
       "    .dataframe tbody tr th {\n",
       "        vertical-align: top;\n",
       "    }\n",
       "\n",
       "    .dataframe thead th {\n",
       "        text-align: right;\n",
       "    }\n",
       "</style>\n",
       "<table border=\"1\" class=\"dataframe\">\n",
       "  <thead>\n",
       "    <tr style=\"text-align: right;\">\n",
       "      <th></th>\n",
       "      <th>name</th>\n",
       "      <th>weighted_degree</th>\n",
       "    </tr>\n",
       "  </thead>\n",
       "  <tbody>\n",
       "    <tr>\n",
       "      <th>0</th>\n",
       "      <td>Tomaz</td>\n",
       "      <td>0.5</td>\n",
       "    </tr>\n",
       "    <tr>\n",
       "      <th>1</th>\n",
       "      <td>Neo4j</td>\n",
       "      <td>0.0</td>\n",
       "    </tr>\n",
       "  </tbody>\n",
       "</table>\n",
       "</div>"
      ],
      "text/plain": [
       "    name  weighted_degree\n",
       "0  Tomaz              0.5\n",
       "1  Neo4j              0.0"
      ]
     },
     "execution_count": 25,
     "metadata": {},
     "output_type": "execute_result"
    }
   ],
   "source": [
    "cypher_min_agg_check = \"\"\"\n",
    "\n",
    "CALL gds.alpha.degree.stream('cypher_min_improved',\n",
    "    {relationshipWeightProperty:'minWeight'})\n",
    "YIELD nodeId, score \n",
    "RETURN gds.util.asNode(nodeId).name AS name,\n",
    "       score AS weighted_degree\n",
    "ORDER BY weighted_degree DESC\n",
    "\n",
    "\"\"\"\n",
    "\n",
    "read_query(cypher_min_agg_check)"
   ]
  },
  {
   "cell_type": "markdown",
   "metadata": {},
   "source": [
    "With everything in order, we can release both projected graphs from memory."
   ]
  },
  {
   "cell_type": "code",
   "execution_count": 26,
   "metadata": {},
   "outputs": [],
   "source": [
    "drop_graph('cypher_min_improved')\n",
    "drop_graph('cypher_min_strategy')"
   ]
  },
  {
   "cell_type": "markdown",
   "metadata": {},
   "source": [
    "## Relationships with own identity\n",
    "\n",
    "We also have the option to retain the type of relationships during the projection process. Among other things, this allows us to perform additional filtering when executing graph algorithms. However, we have to be careful, as projecting relationships with a preserved type is a bit different in the context of multigraphs.\n",
    "\n",
    "### Native projection\n",
    "\n",
    "It is simple to declare that we want to preserve the type of relationships with the native projection. All we have to do is specify which relationship types we want to consider and the GDS engine will automatically bundle relationships under the specific relationship type. Let's take a look at some examples to gain a better understanding.\n",
    "\n",
    "#### Default aggregation strategy\n",
    "\n",
    "From previous examples we already know that the default aggregation strategy does not perform any transformations. By defining the relationship types we indicate to the GDS library we want to retain their type after the projection process."
   ]
  },
  {
   "cell_type": "code",
   "execution_count": 27,
   "metadata": {},
   "outputs": [
    {
     "data": {
      "text/html": [
       "<div>\n",
       "<style scoped>\n",
       "    .dataframe tbody tr th:only-of-type {\n",
       "        vertical-align: middle;\n",
       "    }\n",
       "\n",
       "    .dataframe tbody tr th {\n",
       "        vertical-align: top;\n",
       "    }\n",
       "\n",
       "    .dataframe thead th {\n",
       "        text-align: right;\n",
       "    }\n",
       "</style>\n",
       "<table border=\"1\" class=\"dataframe\">\n",
       "  <thead>\n",
       "    <tr style=\"text-align: right;\">\n",
       "      <th></th>\n",
       "      <th>graphName</th>\n",
       "      <th>nodeProjection</th>\n",
       "      <th>relationshipProjection</th>\n",
       "      <th>nodeCount</th>\n",
       "      <th>relationshipCount</th>\n",
       "      <th>createMillis</th>\n",
       "    </tr>\n",
       "  </thead>\n",
       "  <tbody>\n",
       "    <tr>\n",
       "      <th>0</th>\n",
       "      <td>type_default</td>\n",
       "      <td>{'*': {'properties': {}, 'label': '*'}}</td>\n",
       "      <td>{'LIKES': {'properties': {}, 'type': 'LIKES', ...</td>\n",
       "      <td>2</td>\n",
       "      <td>4</td>\n",
       "      <td>33</td>\n",
       "    </tr>\n",
       "  </tbody>\n",
       "</table>\n",
       "</div>"
      ],
      "text/plain": [
       "      graphName                           nodeProjection  \\\n",
       "0  type_default  {'*': {'properties': {}, 'label': '*'}}   \n",
       "\n",
       "                              relationshipProjection  nodeCount  \\\n",
       "0  {'LIKES': {'properties': {}, 'type': 'LIKES', ...          2   \n",
       "\n",
       "   relationshipCount  createMillis  \n",
       "0                  4            33  "
      ]
     },
     "execution_count": 27,
     "metadata": {},
     "output_type": "execute_result"
    }
   ],
   "source": [
    "default_type = \"\"\"\n",
    "\n",
    "CALL gds.graph.create('type_default','*',\n",
    "    ['PRESENTED_FOR','LIKES','LOVES'])\n",
    "\n",
    "\"\"\"\n",
    "\n",
    "read_query(default_type)"
   ]
  },
  {
   "cell_type": "markdown",
   "metadata": {},
   "source": [
    "As expected, the <code>relationshipsCount</code> is 4."
   ]
  },
  {
   "cell_type": "code",
   "execution_count": 28,
   "metadata": {},
   "outputs": [],
   "source": [
    "drop_graph('type_default')"
   ]
  },
  {
   "cell_type": "markdown",
   "metadata": {},
   "source": [
    "#### Single relationship strategy\n",
    "\n",
    "Like before, we can reduce our unweighted multigraph to a single graph with the relationship level aggregation parameter. We have to provide the aggregation parameter for each relationship type separately."
   ]
  },
  {
   "cell_type": "code",
   "execution_count": 31,
   "metadata": {},
   "outputs": [
    {
     "data": {
      "text/html": [
       "<div>\n",
       "<style scoped>\n",
       "    .dataframe tbody tr th:only-of-type {\n",
       "        vertical-align: middle;\n",
       "    }\n",
       "\n",
       "    .dataframe tbody tr th {\n",
       "        vertical-align: top;\n",
       "    }\n",
       "\n",
       "    .dataframe thead th {\n",
       "        text-align: right;\n",
       "    }\n",
       "</style>\n",
       "<table border=\"1\" class=\"dataframe\">\n",
       "  <thead>\n",
       "    <tr style=\"text-align: right;\">\n",
       "      <th></th>\n",
       "      <th>graphName</th>\n",
       "      <th>nodeProjection</th>\n",
       "      <th>relationshipProjection</th>\n",
       "      <th>nodeCount</th>\n",
       "      <th>relationshipCount</th>\n",
       "      <th>createMillis</th>\n",
       "    </tr>\n",
       "  </thead>\n",
       "  <tbody>\n",
       "    <tr>\n",
       "      <th>0</th>\n",
       "      <td>type_single</td>\n",
       "      <td>{'*': {'properties': {}, 'label': '*'}}</td>\n",
       "      <td>{'LIKES': {'properties': {}, 'type': 'LIKES', ...</td>\n",
       "      <td>2</td>\n",
       "      <td>3</td>\n",
       "      <td>35</td>\n",
       "    </tr>\n",
       "  </tbody>\n",
       "</table>\n",
       "</div>"
      ],
      "text/plain": [
       "     graphName                           nodeProjection  \\\n",
       "0  type_single  {'*': {'properties': {}, 'label': '*'}}   \n",
       "\n",
       "                              relationshipProjection  nodeCount  \\\n",
       "0  {'LIKES': {'properties': {}, 'type': 'LIKES', ...          2   \n",
       "\n",
       "   relationshipCount  createMillis  \n",
       "0                  3            35  "
      ]
     },
     "execution_count": 31,
     "metadata": {},
     "output_type": "execute_result"
    }
   ],
   "source": [
    "type_single_agg = \"\"\"\n",
    "\n",
    "CALL gds.graph.create('type_single','*',\n",
    "   {LIKES:{type:'LIKES',aggregation:'SINGLE'},\n",
    "    LOVES:{type:'LOVES',aggregation:'SINGLE'},\n",
    "    PRESENTED_FOR:{type:'PRESENTED_FOR',aggregation:'SINGLE'}})\n",
    "\n",
    "\"\"\"\n",
    "\n",
    "read_query(type_single_agg)"
   ]
  },
  {
   "cell_type": "markdown",
   "metadata": {},
   "source": [
    "Ok, so we reduced to a single graph, but the relationshipCount is 3. Why is it so? The multigraph reduction process works on the relationship type level and because we have three relationship types, a single relationship for each type has been projected. Let's calculate the degree centrality on the whole in-memory graph."
   ]
  },
  {
   "cell_type": "code",
   "execution_count": 32,
   "metadata": {},
   "outputs": [
    {
     "data": {
      "text/html": [
       "<div>\n",
       "<style scoped>\n",
       "    .dataframe tbody tr th:only-of-type {\n",
       "        vertical-align: middle;\n",
       "    }\n",
       "\n",
       "    .dataframe tbody tr th {\n",
       "        vertical-align: top;\n",
       "    }\n",
       "\n",
       "    .dataframe thead th {\n",
       "        text-align: right;\n",
       "    }\n",
       "</style>\n",
       "<table border=\"1\" class=\"dataframe\">\n",
       "  <thead>\n",
       "    <tr style=\"text-align: right;\">\n",
       "      <th></th>\n",
       "      <th>name</th>\n",
       "      <th>degree</th>\n",
       "    </tr>\n",
       "  </thead>\n",
       "  <tbody>\n",
       "    <tr>\n",
       "      <th>0</th>\n",
       "      <td>Tomaz</td>\n",
       "      <td>3.0</td>\n",
       "    </tr>\n",
       "    <tr>\n",
       "      <th>1</th>\n",
       "      <td>Neo4j</td>\n",
       "      <td>0.0</td>\n",
       "    </tr>\n",
       "  </tbody>\n",
       "</table>\n",
       "</div>"
      ],
      "text/plain": [
       "    name  degree\n",
       "0  Tomaz     3.0\n",
       "1  Neo4j     0.0"
      ]
     },
     "execution_count": 32,
     "metadata": {},
     "output_type": "execute_result"
    }
   ],
   "source": [
    "type_single_agg_check = \"\"\"\n",
    "\n",
    "CALL gds.alpha.degree.stream('type_single')\n",
    "YIELD nodeId, score\n",
    "RETURN gds.util.asNode(nodeId).name AS name,\n",
    "       score AS degree\n",
    "ORDER BY degree DESC\n",
    "\n",
    "\"\"\"\n",
    "\n",
    "read_query(type_single_agg_check)"
   ]
  },
  {
   "cell_type": "markdown",
   "metadata": {},
   "source": [
    "As we explained, even though we have reduced each relationship type separately, we are still dealing with a multigraph on the whole. When running graph algorithms, you have to pay close attention to whether you are dealing with multigraph or not, have you projected multiple relationship types or just a single one and have you performed any transformations, as all of this will affect the algorithm results. We can now drop this graph."
   ]
  },
  {
   "cell_type": "code",
   "execution_count": 33,
   "metadata": {},
   "outputs": [],
   "source": [
    "drop_graph('type_single')\n"
   ]
  },
  {
   "cell_type": "markdown",
   "metadata": {},
   "source": [
    "#### Property aggregation strategies\n",
    "\n",
    "Property aggregation strategies are very similar to before when we were dealing with relationships without identity. The only change is that now the aggregations are grouped by the relationship type."
   ]
  },
  {
   "cell_type": "code",
   "execution_count": 34,
   "metadata": {},
   "outputs": [
    {
     "data": {
      "text/html": [
       "<div>\n",
       "<style scoped>\n",
       "    .dataframe tbody tr th:only-of-type {\n",
       "        vertical-align: middle;\n",
       "    }\n",
       "\n",
       "    .dataframe tbody tr th {\n",
       "        vertical-align: top;\n",
       "    }\n",
       "\n",
       "    .dataframe thead th {\n",
       "        text-align: right;\n",
       "    }\n",
       "</style>\n",
       "<table border=\"1\" class=\"dataframe\">\n",
       "  <thead>\n",
       "    <tr style=\"text-align: right;\">\n",
       "      <th></th>\n",
       "      <th>graphName</th>\n",
       "      <th>nodeProjection</th>\n",
       "      <th>relationshipProjection</th>\n",
       "      <th>nodeCount</th>\n",
       "      <th>relationshipCount</th>\n",
       "      <th>createMillis</th>\n",
       "    </tr>\n",
       "  </thead>\n",
       "  <tbody>\n",
       "    <tr>\n",
       "      <th>0</th>\n",
       "      <td>type_min</td>\n",
       "      <td>{'*': {'properties': {}, 'label': '*'}}</td>\n",
       "      <td>{'LIKES': {'properties': {'weight': {'defaultV...</td>\n",
       "      <td>2</td>\n",
       "      <td>3</td>\n",
       "      <td>20</td>\n",
       "    </tr>\n",
       "  </tbody>\n",
       "</table>\n",
       "</div>"
      ],
      "text/plain": [
       "  graphName                           nodeProjection  \\\n",
       "0  type_min  {'*': {'properties': {}, 'label': '*'}}   \n",
       "\n",
       "                              relationshipProjection  nodeCount  \\\n",
       "0  {'LIKES': {'properties': {'weight': {'defaultV...          2   \n",
       "\n",
       "   relationshipCount  createMillis  \n",
       "0                  3            20  "
      ]
     },
     "execution_count": 34,
     "metadata": {},
     "output_type": "execute_result"
    }
   ],
   "source": [
    "type_min_agg = \"\"\"\n",
    "\n",
    "CALL gds.graph.create('type_min','*',\n",
    "    ['PRESENTED_FOR','LIKES','LOVES'], \n",
    "    {relationshipProperties: {weight: {property: 'weight',\n",
    "                                       aggregation: 'MIN'}}})\n",
    "\n",
    "\"\"\"\n",
    "\n",
    "read_query(type_min_agg)"
   ]
  },
  {
   "cell_type": "markdown",
   "metadata": {},
   "source": [
    "We get 3 relationships projected as we have learned that the aggregations happen on the relationship type level. We will double-check the results with the weighted degree."
   ]
  },
  {
   "cell_type": "code",
   "execution_count": 36,
   "metadata": {},
   "outputs": [
    {
     "data": {
      "text/html": [
       "<div>\n",
       "<style scoped>\n",
       "    .dataframe tbody tr th:only-of-type {\n",
       "        vertical-align: middle;\n",
       "    }\n",
       "\n",
       "    .dataframe tbody tr th {\n",
       "        vertical-align: top;\n",
       "    }\n",
       "\n",
       "    .dataframe thead th {\n",
       "        text-align: right;\n",
       "    }\n",
       "</style>\n",
       "<table border=\"1\" class=\"dataframe\">\n",
       "  <thead>\n",
       "    <tr style=\"text-align: right;\">\n",
       "      <th></th>\n",
       "      <th>name</th>\n",
       "      <th>weighted_degree</th>\n",
       "    </tr>\n",
       "  </thead>\n",
       "  <tbody>\n",
       "    <tr>\n",
       "      <th>0</th>\n",
       "      <td>Tomaz</td>\n",
       "      <td>3.5</td>\n",
       "    </tr>\n",
       "    <tr>\n",
       "      <th>1</th>\n",
       "      <td>Neo4j</td>\n",
       "      <td>0.0</td>\n",
       "    </tr>\n",
       "  </tbody>\n",
       "</table>\n",
       "</div>"
      ],
      "text/plain": [
       "    name  weighted_degree\n",
       "0  Tomaz              3.5\n",
       "1  Neo4j              0.0"
      ]
     },
     "execution_count": 36,
     "metadata": {},
     "output_type": "execute_result"
    }
   ],
   "source": [
    "type_min_agg_check = \"\"\"\n",
    "\n",
    "CALL gds.alpha.degree.stream('type_min',\n",
    "    {relationshipWeightProperty:'weight'})\n",
    "YIELD nodeId, score\n",
    "RETURN gds.util.asNode(nodeId).name AS name,\n",
    "       score AS weighted_degree\n",
    "ORDER BY weighted_degree DESC\n",
    "\n",
    "\"\"\"\n",
    "\n",
    "read_query(type_min_agg_check)"
   ]
  },
  {
   "cell_type": "code",
   "execution_count": 37,
   "metadata": {},
   "outputs": [],
   "source": [
    "drop_graph('type_min')"
   ]
  },
  {
   "cell_type": "code",
   "execution_count": null,
   "metadata": {},
   "outputs": [],
   "source": []
  }
 ],
 "metadata": {
  "kernelspec": {
   "display_name": "Python 3",
   "language": "python",
   "name": "python3"
  },
  "language_info": {
   "codemirror_mode": {
    "name": "ipython",
    "version": 3
   },
   "file_extension": ".py",
   "mimetype": "text/x-python",
   "name": "python",
   "nbconvert_exporter": "python",
   "pygments_lexer": "ipython3",
   "version": "3.5.2"
  }
 },
 "nbformat": 4,
 "nbformat_minor": 2
}
