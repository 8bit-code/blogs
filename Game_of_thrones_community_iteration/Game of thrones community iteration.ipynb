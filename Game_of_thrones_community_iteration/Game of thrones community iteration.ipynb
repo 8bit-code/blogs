{
 "cells": [
  {
   "cell_type": "code",
   "execution_count": 1,
   "metadata": {},
   "outputs": [],
   "source": [
    "from neo4j import GraphDatabase\n",
    "host = 'bolt://localhost:7687'\n",
    "user = 'neo4j'\n",
    "password = 'password'\n",
    "driver = GraphDatabase.driver(host,auth=(user, password))"
   ]
  },
  {
   "cell_type": "code",
   "execution_count": 2,
   "metadata": {},
   "outputs": [],
   "source": [
    "def run_query(query):\n",
    "    with driver.session() as session:\n",
    "        session.run(query)"
   ]
  },
  {
   "cell_type": "code",
   "execution_count": 3,
   "metadata": {},
   "outputs": [],
   "source": [
    "from IPython.display import IFrame, HTML\n",
    "import json\n",
    "import uuid\n",
    "\n",
    "\n",
    "def generate_vis(host, user, password, cypher, labels_json, relationships_json):\n",
    "    html = \"\"\"\\\n",
    "<html>\n",
    "<head>\n",
    "    <title>Neovis.js Simple Example</title>\n",
    "            <style type=\"text/css\">\n",
    "                html, body {{\n",
    "                    font: 16pt arial;\n",
    "                }}\n",
    "                #viz {{\n",
    "                    width: 600px;\n",
    "                    height: 800px;\n",
    "                    font: 22pt arial;\n",
    "                }}\n",
    "            </style>\n",
    "            <script src=\"https://cdn.neo4jlabs.com/neovis.js/v1.1.0/neovis.js\"></script>\n",
    "            <script\n",
    "                    src=\"https://code.jquery.com/jquery-3.2.1.min.js\"\n",
    "                    integrity=\"sha256-hwg4gsxgFZhOsEEamdOYGBf13FyQuiTwlAQgxVSNgt4=\"\n",
    "                    crossorigin=\"anonymous\"></script>\n",
    "            <script type=\"text/javascript\">\n",
    "                var viz;\n",
    "                function draw() {{\n",
    "                    var config = {{\n",
    "                        container_id: \"viz\",\n",
    "                        server_url: \"{host}\",\n",
    "                        server_user: \"{user}\",\n",
    "                        server_password: \"{password}\",\n",
    "                        labels: {labels},\n",
    "                        relationships: {relationships},\n",
    "                        initial_cypher: \"{cypher}\"\n",
    "                    }};\n",
    "                    viz = new NeoVis.default(config);\n",
    "                    viz.render();                    \n",
    "                    viz.onVisualizationRendered(function(ctx) {{\n",
    "                        let imageSrc = document.getElementsByTagName(\"canvas\")[0].toDataURL();\n",
    "                        console.log(imageSrc);\n",
    "                        document.getElementById(\"viz-image\").src=imageSrc;\n",
    "                        //document.getElementById(\"viz\").style=\"display:none\";\n",
    "                        \n",
    "                        let kernel = IPython.notebook.kernel;\n",
    "                        //let command = 'display(HTML('<img id=\"viz-image\" width=\"300px\" src=\"' + imageSrc + '\" />';\n",
    "                        let command = \"foo = 'bar'\";\n",
    "                        kernel.execute(command);\n",
    "                        \n",
    "                    }});\n",
    "                }}\n",
    "            </script>\n",
    "         </head>\n",
    "        <body onload=\"draw()\">\n",
    "            <div id=\"viz\"></div>\n",
    "        </body>\n",
    "    </html>\n",
    "    \"\"\"\n",
    "\n",
    "    html = html.format(\n",
    "        host=host,\n",
    "        user=user,\n",
    "        password=password,\n",
    "        cypher=cypher,\n",
    "        labels = json.dumps(labels_json),\n",
    "        relationships=json.dumps(relationships_json)\n",
    "    )\n",
    "\n",
    "    unique_id = str(uuid.uuid4())\n",
    "    filename = \"graph-{}.html\".format(unique_id)\n",
    "\n",
    "    with open(filename, \"w\") as f:\n",
    "        f.write(html)\n",
    "    return IFrame(src=filename, width=1000, height=800)\n"
   ]
  },
  {
   "cell_type": "code",
   "execution_count": 4,
   "metadata": {},
   "outputs": [],
   "source": [
    "def visualize_level(level, community):\n",
    "    # Define cypher query\n",
    "    if level > 1:\n",
    "        cypher = \"\"\"MATCH (p1:Person)-[r:INTERACTS_{rel_level}|:INTERACTS_{prev_level}]-(p2:Person) \\\n",
    "                    WHERE p1.community_{level} = {community} RETURN *\"\"\".format(\n",
    "            rel_level=level if level != 4 else 45,level=level, prev_level=level -1, community=community)\n",
    "    else:\n",
    "        cypher = \"\"\"MATCH (p1:Person)-[r:INTERACTS_{level}]-(p2:Person) \\\n",
    "                    WHERE p1.community_{level} = {community} RETURN *\"\"\".format(level=level, community=community)\n",
    "    print(cypher)\n",
    "    # Define relationships_json\n",
    "    relationships_json = dict()\n",
    "    for l in [level-1,level]:\n",
    "        relationships_json[\"INTERACTS_{}\".format(l if l != 4 else 45)] = {\n",
    "                \"caption\": False\n",
    "            }\n",
    "    # Define labels_json    \n",
    "    labels_json = {\n",
    "        \"Person\": {\n",
    "            \"caption\": \"id\",\n",
    "            \"community\": \"community_{}\".format(level)\n",
    "        }\n",
    "    }\n",
    "\n",
    "    return generate_vis(host, user, password, cypher, labels_json, relationships_json)"
   ]
  },
  {
   "cell_type": "markdown",
   "metadata": {},
   "source": [
    "# Import"
   ]
  },
  {
   "cell_type": "code",
   "execution_count": 5,
   "metadata": {},
   "outputs": [],
   "source": [
    "constraint_query = \"\"\"CREATE CONSTRAINT ON (p:Person) ASSERT p.id IS UNIQUE;\"\"\"\n",
    "run_query(constraint_query)"
   ]
  },
  {
   "cell_type": "code",
   "execution_count": 6,
   "metadata": {},
   "outputs": [],
   "source": [
    "# https://networkofthrones.wordpress.com/\n",
    "import_networks = \"\"\"\n",
    "\n",
    "UNWIND ['1','2','3','45'] as book\n",
    "LOAD CSV WITH HEADERS FROM \n",
    "'https://raw.githubusercontent.com/mathbeveridge/asoiaf/master/data/asoiaf-book' + book + '-edges.csv' as value\n",
    "MERGE (source:Person{id:value.Source})\n",
    "MERGE (target:Person{id:value.Target})\n",
    "WITH source,target,value.weight as weight,book\n",
    "CALL apoc.merge.relationship(source,'INTERACTS_' + book, {}, {weight:toFloat(weight)}, target) YIELD rel\n",
    "RETURN distinct 'done'\n",
    "\n",
    "\"\"\"\n",
    "run_query(import_networks)"
   ]
  },
  {
   "cell_type": "code",
   "execution_count": 7,
   "metadata": {},
   "outputs": [],
   "source": [
    "# https://www.kaggle.com/mylesoneill/game-of-thrones\n",
    "import_deaths = \"\"\"\n",
    "\n",
    "LOAD CSV WITH HEADERS FROM \"file:///character-deaths.csv\" as row\n",
    "WITH row WHERE row.`Book of Death` IS NOT NULL\n",
    "MATCH (p:Person)\n",
    "WHERE p.id = replace(row.Name,' ','-')\n",
    "SET p.death_book = toInteger(row.`Book of Death`)\n",
    "\n",
    "\"\"\"\n",
    "run_query(import_deaths)"
   ]
  },
  {
   "cell_type": "markdown",
   "metadata": {},
   "source": [
    "# Book 1"
   ]
  },
  {
   "cell_type": "code",
   "execution_count": 8,
   "metadata": {},
   "outputs": [],
   "source": [
    "louvain_book1 = \"\"\"\n",
    "\n",
    "CALL algo.louvain('MATCH (p:Person)\n",
    "WHERE (p)-[:INTERACTS_1]-()\n",
    "RETURN id(p) as id'\n",
    ",\n",
    "'MATCH (p:Person)-[:INTERACTS_1]-(p1:Person)\n",
    "RETURN id(p) as source, id(p1) as target'\n",
    ",{graph:'cypher',direction:'BOTH',writeProperty:'community_1'})\n",
    "\n",
    "\"\"\"\n",
    "run_query(louvain_book1)"
   ]
  },
  {
   "cell_type": "code",
   "execution_count": 9,
   "metadata": {},
   "outputs": [
    {
     "name": "stdout",
     "output_type": "stream",
     "text": [
      "3\n"
     ]
    }
   ],
   "source": [
    "# Get Daenerys' community id \n",
    "get_daenerys_community_query = \"\"\"\n",
    "MATCH (p:Person{id:'Daenerys-Targaryen'})\n",
    "RETURN p.community_1 as community\n",
    "\"\"\"\n",
    "with driver.session() as session:\n",
    "    r = session.run(get_daenerys_community_query)\n",
    "\n",
    "daenerys_community = list(r)[0]['community']\n",
    "print(daenerys_community)"
   ]
  },
  {
   "cell_type": "code",
   "execution_count": 10,
   "metadata": {},
   "outputs": [
    {
     "name": "stdout",
     "output_type": "stream",
     "text": [
      "MATCH (p1:Person)-[r:INTERACTS_1]-(p2:Person)                     WHERE p1.community_1 = 3 RETURN *\n"
     ]
    },
    {
     "data": {
      "text/html": [
       "\n",
       "        <iframe\n",
       "            width=\"1000\"\n",
       "            height=\"800\"\n",
       "            src=\"graph-1c1b329b-7ffd-4ceb-bd41-adb85cb0b9ff.html\"\n",
       "            frameborder=\"0\"\n",
       "            allowfullscreen\n",
       "        ></iframe>\n",
       "        "
      ],
      "text/plain": [
       "<IPython.lib.display.IFrame at 0x7f11211cff98>"
      ]
     },
     "execution_count": 10,
     "metadata": {},
     "output_type": "execute_result"
    }
   ],
   "source": [
    "visualize_level(level=1,community=daenerys_community)"
   ]
  },
  {
   "cell_type": "markdown",
   "metadata": {},
   "source": [
    "# Book 2"
   ]
  },
  {
   "cell_type": "code",
   "execution_count": 11,
   "metadata": {},
   "outputs": [],
   "source": [
    "louvain_book2 = \"\"\"\n",
    "\n",
    "CALL algo.louvain('MATCH (s:Person) WITH max(s.community_1) as max\n",
    "                   MATCH (p:Person)\n",
    "                   WHERE (p)-[:INTERACTS_1|:INTERACTS_2]-() AND NOT coalesce(p.death_book,10) < 2\n",
    "                   RETURN id(p) as id,coalesce(p.community_1, max + id(p)) as community_1'\n",
    "                   ,\n",
    "                   'MATCH (p:Person)-[:INTERACTS_1|:INTERACTS_2]-(p1:Person)\n",
    "                    RETURN id(p) as source, id(p1) as target'\n",
    "                   ,{graph:'cypher',direction:'BOTH',writeProperty:'community_2',seedProperty:'community_1'})\n",
    "\n",
    "\"\"\"\n",
    "run_query(louvain_book2)"
   ]
  },
  {
   "cell_type": "code",
   "execution_count": 12,
   "metadata": {},
   "outputs": [
    {
     "name": "stdout",
     "output_type": "stream",
     "text": [
      "MATCH (p1:Person)-[r:INTERACTS_2|:INTERACTS_1]-(p2:Person)                     WHERE p1.community_2 = 3 RETURN *\n"
     ]
    },
    {
     "data": {
      "text/html": [
       "\n",
       "        <iframe\n",
       "            width=\"1000\"\n",
       "            height=\"800\"\n",
       "            src=\"graph-57910c93-9a66-4402-a022-2658dc4d5408.html\"\n",
       "            frameborder=\"0\"\n",
       "            allowfullscreen\n",
       "        ></iframe>\n",
       "        "
      ],
      "text/plain": [
       "<IPython.lib.display.IFrame at 0x7f11211e56d8>"
      ]
     },
     "execution_count": 12,
     "metadata": {},
     "output_type": "execute_result"
    }
   ],
   "source": [
    "visualize_level(level=2,community=daenerys_community)"
   ]
  },
  {
   "cell_type": "markdown",
   "metadata": {},
   "source": [
    "# Book 3"
   ]
  },
  {
   "cell_type": "code",
   "execution_count": 13,
   "metadata": {},
   "outputs": [],
   "source": [
    "louvain_book3 = \"\"\"\n",
    "\n",
    "CALL algo.louvain('MATCH (s:Person) WITH max(s.community_2) as max\n",
    "                   MATCH (p:Person)\n",
    "                   WHERE (p)-[:INTERACTS_2|:INTERACTS_3]-() AND NOT coalesce(p.death_book,10) < 3\n",
    "                   RETURN id(p) as id,coalesce(p.community_2, max + id(p)) as community_2'\n",
    "                    ,\n",
    "                    'MATCH (p:Person)-[:INTERACTS_2|:INTERACTS_3]-(p1:Person)\n",
    "                    RETURN id(p) as source, id(p1) as target'\n",
    "                    ,{graph:'cypher',direction:'BOTH',writeProperty:'community_3',seedProperty:'community_2'})\n",
    "\n",
    "\"\"\"\n",
    "run_query(louvain_book3)"
   ]
  },
  {
   "cell_type": "code",
   "execution_count": 14,
   "metadata": {},
   "outputs": [
    {
     "name": "stdout",
     "output_type": "stream",
     "text": [
      "MATCH (p1:Person)-[r:INTERACTS_3|:INTERACTS_2]-(p2:Person)                     WHERE p1.community_3 = 3 RETURN *\n"
     ]
    },
    {
     "data": {
      "text/html": [
       "\n",
       "        <iframe\n",
       "            width=\"1000\"\n",
       "            height=\"800\"\n",
       "            src=\"graph-fcfff088-d35d-4add-8758-70b7bbfbfe1d.html\"\n",
       "            frameborder=\"0\"\n",
       "            allowfullscreen\n",
       "        ></iframe>\n",
       "        "
      ],
      "text/plain": [
       "<IPython.lib.display.IFrame at 0x7f11211e5860>"
      ]
     },
     "execution_count": 14,
     "metadata": {},
     "output_type": "execute_result"
    }
   ],
   "source": [
    "visualize_level(level=3,community=daenerys_community)"
   ]
  },
  {
   "cell_type": "markdown",
   "metadata": {},
   "source": [
    "# Book 4"
   ]
  },
  {
   "cell_type": "code",
   "execution_count": 15,
   "metadata": {},
   "outputs": [],
   "source": [
    "louvain_book4 = \"\"\"\n",
    "\n",
    "CALL algo.louvain('MATCH (s:Person) WITH max(s.community_3) as max\n",
    "MATCH (p:Person)\n",
    "WHERE (p)-[:INTERACTS_3|:INTERACTS_45]-() AND NOT coalesce(p.death_book,10) < 4\n",
    "RETURN id(p) as id,coalesce(p.community_3, max + id(p)) as community_3'\n",
    ",\n",
    "'MATCH (p:Person)-[:INTERACTS_3|:INTERACTS_45]-(p1:Person)\n",
    "RETURN id(p) as source, id(p1) as target'\n",
    ",{graph:'cypher',direction:'BOTH',writeProperty:'community_4',seedProperty:'community_3'})\n",
    "\n",
    "\"\"\"\n",
    "run_query(louvain_book4)"
   ]
  },
  {
   "cell_type": "code",
   "execution_count": 16,
   "metadata": {},
   "outputs": [
    {
     "name": "stdout",
     "output_type": "stream",
     "text": [
      "MATCH (p1:Person)-[r:INTERACTS_45|:INTERACTS_3]-(p2:Person)                     WHERE p1.community_4 = 3 RETURN *\n"
     ]
    },
    {
     "data": {
      "text/html": [
       "\n",
       "        <iframe\n",
       "            width=\"1000\"\n",
       "            height=\"800\"\n",
       "            src=\"graph-3419e926-7776-432d-abb7-05dd8cb7c1c5.html\"\n",
       "            frameborder=\"0\"\n",
       "            allowfullscreen\n",
       "        ></iframe>\n",
       "        "
      ],
      "text/plain": [
       "<IPython.lib.display.IFrame at 0x7f11211e5b00>"
      ]
     },
     "execution_count": 16,
     "metadata": {},
     "output_type": "execute_result"
    }
   ],
   "source": [
    "visualize_level(level=4,community=daenerys_community)"
   ]
  },
  {
   "cell_type": "code",
   "execution_count": null,
   "metadata": {},
   "outputs": [],
   "source": []
  }
 ],
 "metadata": {
  "kernelspec": {
   "display_name": "Python 3",
   "language": "python",
   "name": "python3"
  },
  "language_info": {
   "codemirror_mode": {
    "name": "ipython",
    "version": 3
   },
   "file_extension": ".py",
   "mimetype": "text/x-python",
   "name": "python",
   "nbconvert_exporter": "python",
   "pygments_lexer": "ipython3",
   "version": "3.5.2"
  }
 },
 "nbformat": 4,
 "nbformat_minor": 2
}
