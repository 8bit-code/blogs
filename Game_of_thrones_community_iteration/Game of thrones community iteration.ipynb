{
  "cells": [
    {
      "cell_type": "markdown",
      "metadata": {
        "id": "view-in-github",
        "colab_type": "text"
      },
      "source": [
        "<a href=\"https://colab.research.google.com/github/tomasonjo/blogs/blob/master/Game_of_thrones_community_iteration/Game%20of%20thrones%20community%20iteration.ipynb\" target=\"_parent\"><img src=\"https://colab.research.google.com/assets/colab-badge.svg\" alt=\"Open In Colab\"/></a>"
      ]
    },
    {
      "cell_type": "markdown",
      "source": [
        "* Updated to GDS 2.0 version\n",
        "* Link to original blog post: https://towardsdatascience.com/community-detection-through-time-using-seed-property-in-neo4j-on-the-game-of-thrones-dataset-a2e520a6c79f"
      ],
      "metadata": {
        "id": "_2CaCA2vDGbC"
      }
    },
    {
      "cell_type": "code",
      "source": [
        "!pip install neo4j"
      ],
      "metadata": {
        "id": "PG1voNyVDIfn",
        "outputId": "ba912efc-e226-4e11-b840-a5959c3f7435",
        "colab": {
          "base_uri": "https://localhost:8080/"
        }
      },
      "execution_count": 1,
      "outputs": [
        {
          "output_type": "stream",
          "name": "stdout",
          "text": [
            "Collecting neo4j\n",
            "  Downloading neo4j-4.4.2.tar.gz (89 kB)\n",
            "\u001b[?25l\r\u001b[K     |███▋                            | 10 kB 23.3 MB/s eta 0:00:01\r\u001b[K     |███████▎                        | 20 kB 12.3 MB/s eta 0:00:01\r\u001b[K     |███████████                     | 30 kB 8.8 MB/s eta 0:00:01\r\u001b[K     |██████████████▋                 | 40 kB 3.9 MB/s eta 0:00:01\r\u001b[K     |██████████████████▎             | 51 kB 3.8 MB/s eta 0:00:01\r\u001b[K     |██████████████████████          | 61 kB 4.5 MB/s eta 0:00:01\r\u001b[K     |█████████████████████████▋      | 71 kB 4.7 MB/s eta 0:00:01\r\u001b[K     |█████████████████████████████▎  | 81 kB 4.9 MB/s eta 0:00:01\r\u001b[K     |████████████████████████████████| 89 kB 3.5 MB/s \n",
            "\u001b[?25hRequirement already satisfied: pytz in /usr/local/lib/python3.7/dist-packages (from neo4j) (2018.9)\n",
            "Building wheels for collected packages: neo4j\n",
            "  Building wheel for neo4j (setup.py) ... \u001b[?25l\u001b[?25hdone\n",
            "  Created wheel for neo4j: filename=neo4j-4.4.2-py3-none-any.whl size=115365 sha256=4b6b3195024550cad7621ab4012c1b3dc9630377b161e72e6b622ee512cff2c6\n",
            "  Stored in directory: /root/.cache/pip/wheels/10/d6/28/95029d7f69690dbc3b93e4933197357987de34fbd44b50a0e4\n",
            "Successfully built neo4j\n",
            "Installing collected packages: neo4j\n",
            "Successfully installed neo4j-4.4.2\n"
          ]
        }
      ]
    },
    {
      "cell_type": "code",
      "execution_count": 2,
      "metadata": {
        "id": "gOf9wc5_CvHx"
      },
      "outputs": [],
      "source": [
        "from neo4j import GraphDatabase\n",
        "host = 'bolt://3.235.2.228:7687'\n",
        "user = 'neo4j'\n",
        "password = 'seats-drunks-carbon'\n",
        "driver = GraphDatabase.driver(host,auth=(user, password))"
      ]
    },
    {
      "cell_type": "code",
      "execution_count": 30,
      "metadata": {
        "id": "GZG8ZuroCvH1"
      },
      "outputs": [],
      "source": [
        "import pandas as pd\n",
        "\n",
        "def run_query(query, params={}):\n",
        "    with driver.session() as session:\n",
        "        result = session.run(query, params)\n",
        "        return pd.DataFrame([r.values() for r in result], columns=result.keys())"
      ]
    },
    {
      "cell_type": "code",
      "execution_count": 4,
      "metadata": {
        "id": "TfpDkC2aCvH2"
      },
      "outputs": [],
      "source": [
        "from IPython.display import IFrame, HTML\n",
        "import json\n",
        "import uuid\n",
        "\n",
        "\n",
        "def generate_vis(host, user, password, cypher, labels_json, relationships_json):\n",
        "    html = \"\"\"\\\n",
        "<html>\n",
        "<head>\n",
        "    <title>Neovis.js Simple Example</title>\n",
        "            <style type=\"text/css\">\n",
        "                html, body {{\n",
        "                    font: 16pt arial;\n",
        "                }}\n",
        "                #viz {{\n",
        "                    width: 600px;\n",
        "                    height: 800px;\n",
        "                    font: 22pt arial;\n",
        "                }}\n",
        "            </style>\n",
        "            <script src=\"https://cdn.neo4jlabs.com/neovis.js/v1.1.0/neovis.js\"></script>\n",
        "            <script\n",
        "                    src=\"https://code.jquery.com/jquery-3.2.1.min.js\"\n",
        "                    integrity=\"sha256-hwg4gsxgFZhOsEEamdOYGBf13FyQuiTwlAQgxVSNgt4=\"\n",
        "                    crossorigin=\"anonymous\"></script>\n",
        "            <script type=\"text/javascript\">\n",
        "                var viz;\n",
        "                function draw() {{\n",
        "                    var config = {{\n",
        "                        container_id: \"viz\",\n",
        "                        server_url: \"{host}\",\n",
        "                        server_user: \"{user}\",\n",
        "                        server_password: \"{password}\",\n",
        "                        labels: {labels},\n",
        "                        relationships: {relationships},\n",
        "                        initial_cypher: \"{cypher}\"\n",
        "                    }};\n",
        "                    viz = new NeoVis.default(config);\n",
        "                    viz.render();                    \n",
        "                    viz.onVisualizationRendered(function(ctx) {{\n",
        "                        let imageSrc = document.getElementsByTagName(\"canvas\")[0].toDataURL();\n",
        "                        console.log(imageSrc);\n",
        "                        document.getElementById(\"viz-image\").src=imageSrc;\n",
        "                        //document.getElementById(\"viz\").style=\"display:none\";\n",
        "                        \n",
        "                        let kernel = IPython.notebook.kernel;\n",
        "                        //let command = 'display(HTML('<img id=\"viz-image\" width=\"300px\" src=\"' + imageSrc + '\" />';\n",
        "                        let command = \"foo = 'bar'\";\n",
        "                        kernel.execute(command);\n",
        "                        \n",
        "                    }});\n",
        "                }}\n",
        "            </script>\n",
        "         </head>\n",
        "        <body onload=\"draw()\">\n",
        "            <div id=\"viz\"></div>\n",
        "        </body>\n",
        "    </html>\n",
        "    \"\"\"\n",
        "\n",
        "    html = html.format(\n",
        "        host=host,\n",
        "        user=user,\n",
        "        password=password,\n",
        "        cypher=cypher,\n",
        "        labels = json.dumps(labels_json),\n",
        "        relationships=json.dumps(relationships_json)\n",
        "    )\n",
        "\n",
        "    unique_id = str(uuid.uuid4())\n",
        "    filename = \"graph-{}.html\".format(unique_id)\n",
        "\n",
        "    with open(filename, \"w\") as f:\n",
        "        f.write(html)\n",
        "    return IFrame(src=filename, width=1000, height=800)\n"
      ]
    },
    {
      "cell_type": "code",
      "execution_count": 5,
      "metadata": {
        "id": "7PBPz29RCvH3"
      },
      "outputs": [],
      "source": [
        "def visualize_level(level, community):\n",
        "    # Define cypher query\n",
        "    if level > 1:\n",
        "        cypher = \"\"\"MATCH (p1:Person)-[r:INTERACTS_{rel_level}|:INTERACTS_{prev_level}]-(p2:Person) \\\n",
        "                    WHERE p1.community_{level} = {community} RETURN *\"\"\".format(\n",
        "            rel_level=level if level != 4 else 45,level=level, prev_level=level -1, community=community)\n",
        "    else:\n",
        "        cypher = \"\"\"MATCH (p1:Person)-[r:INTERACTS_{level}]-(p2:Person) \\\n",
        "                    WHERE p1.community_{level} = {community} RETURN *\"\"\".format(level=level, community=community)\n",
        "    print(cypher)\n",
        "    # Define relationships_json\n",
        "    relationships_json = dict()\n",
        "    for l in [level-1,level]:\n",
        "        relationships_json[\"INTERACTS_{}\".format(l if l != 4 else 45)] = {\n",
        "                \"caption\": False\n",
        "            }\n",
        "    # Define labels_json    \n",
        "    labels_json = {\n",
        "        \"Person\": {\n",
        "            \"caption\": \"id\",\n",
        "            \"community\": \"community_{}\".format(level)\n",
        "        }\n",
        "    }\n",
        "\n",
        "    return generate_vis(host, user, password, cypher, labels_json, relationships_json)"
      ]
    },
    {
      "cell_type": "markdown",
      "metadata": {
        "id": "SjP8vjfWCvH4"
      },
      "source": [
        "# Import"
      ]
    },
    {
      "cell_type": "code",
      "execution_count": 31,
      "metadata": {
        "id": "udyBibdJCvH5",
        "outputId": "0cc93822-b5ac-4cc4-e60b-b1689ccfa7bd",
        "colab": {
          "base_uri": "https://localhost:8080/",
          "height": 49
        }
      },
      "outputs": [
        {
          "output_type": "execute_result",
          "data": {
            "text/plain": [
              "Empty DataFrame\n",
              "Columns: []\n",
              "Index: []"
            ],
            "text/html": [
              "\n",
              "  <div id=\"df-f7c83d5a-8cb7-44af-a6b6-9afe52a8ece9\">\n",
              "    <div class=\"colab-df-container\">\n",
              "      <div>\n",
              "<style scoped>\n",
              "    .dataframe tbody tr th:only-of-type {\n",
              "        vertical-align: middle;\n",
              "    }\n",
              "\n",
              "    .dataframe tbody tr th {\n",
              "        vertical-align: top;\n",
              "    }\n",
              "\n",
              "    .dataframe thead th {\n",
              "        text-align: right;\n",
              "    }\n",
              "</style>\n",
              "<table border=\"1\" class=\"dataframe\">\n",
              "  <thead>\n",
              "    <tr style=\"text-align: right;\">\n",
              "      <th></th>\n",
              "    </tr>\n",
              "  </thead>\n",
              "  <tbody>\n",
              "  </tbody>\n",
              "</table>\n",
              "</div>\n",
              "      <button class=\"colab-df-convert\" onclick=\"convertToInteractive('df-f7c83d5a-8cb7-44af-a6b6-9afe52a8ece9')\"\n",
              "              title=\"Convert this dataframe to an interactive table.\"\n",
              "              style=\"display:none;\">\n",
              "        \n",
              "  <svg xmlns=\"http://www.w3.org/2000/svg\" height=\"24px\"viewBox=\"0 0 24 24\"\n",
              "       width=\"24px\">\n",
              "    <path d=\"M0 0h24v24H0V0z\" fill=\"none\"/>\n",
              "    <path d=\"M18.56 5.44l.94 2.06.94-2.06 2.06-.94-2.06-.94-.94-2.06-.94 2.06-2.06.94zm-11 1L8.5 8.5l.94-2.06 2.06-.94-2.06-.94L8.5 2.5l-.94 2.06-2.06.94zm10 10l.94 2.06.94-2.06 2.06-.94-2.06-.94-.94-2.06-.94 2.06-2.06.94z\"/><path d=\"M17.41 7.96l-1.37-1.37c-.4-.4-.92-.59-1.43-.59-.52 0-1.04.2-1.43.59L10.3 9.45l-7.72 7.72c-.78.78-.78 2.05 0 2.83L4 21.41c.39.39.9.59 1.41.59.51 0 1.02-.2 1.41-.59l7.78-7.78 2.81-2.81c.8-.78.8-2.07 0-2.86zM5.41 20L4 18.59l7.72-7.72 1.47 1.35L5.41 20z\"/>\n",
              "  </svg>\n",
              "      </button>\n",
              "      \n",
              "  <style>\n",
              "    .colab-df-container {\n",
              "      display:flex;\n",
              "      flex-wrap:wrap;\n",
              "      gap: 12px;\n",
              "    }\n",
              "\n",
              "    .colab-df-convert {\n",
              "      background-color: #E8F0FE;\n",
              "      border: none;\n",
              "      border-radius: 50%;\n",
              "      cursor: pointer;\n",
              "      display: none;\n",
              "      fill: #1967D2;\n",
              "      height: 32px;\n",
              "      padding: 0 0 0 0;\n",
              "      width: 32px;\n",
              "    }\n",
              "\n",
              "    .colab-df-convert:hover {\n",
              "      background-color: #E2EBFA;\n",
              "      box-shadow: 0px 1px 2px rgba(60, 64, 67, 0.3), 0px 1px 3px 1px rgba(60, 64, 67, 0.15);\n",
              "      fill: #174EA6;\n",
              "    }\n",
              "\n",
              "    [theme=dark] .colab-df-convert {\n",
              "      background-color: #3B4455;\n",
              "      fill: #D2E3FC;\n",
              "    }\n",
              "\n",
              "    [theme=dark] .colab-df-convert:hover {\n",
              "      background-color: #434B5C;\n",
              "      box-shadow: 0px 1px 3px 1px rgba(0, 0, 0, 0.15);\n",
              "      filter: drop-shadow(0px 1px 2px rgba(0, 0, 0, 0.3));\n",
              "      fill: #FFFFFF;\n",
              "    }\n",
              "  </style>\n",
              "\n",
              "      <script>\n",
              "        const buttonEl =\n",
              "          document.querySelector('#df-f7c83d5a-8cb7-44af-a6b6-9afe52a8ece9 button.colab-df-convert');\n",
              "        buttonEl.style.display =\n",
              "          google.colab.kernel.accessAllowed ? 'block' : 'none';\n",
              "\n",
              "        async function convertToInteractive(key) {\n",
              "          const element = document.querySelector('#df-f7c83d5a-8cb7-44af-a6b6-9afe52a8ece9');\n",
              "          const dataTable =\n",
              "            await google.colab.kernel.invokeFunction('convertToInteractive',\n",
              "                                                     [key], {});\n",
              "          if (!dataTable) return;\n",
              "\n",
              "          const docLinkHtml = 'Like what you see? Visit the ' +\n",
              "            '<a target=\"_blank\" href=https://colab.research.google.com/notebooks/data_table.ipynb>data table notebook</a>'\n",
              "            + ' to learn more about interactive tables.';\n",
              "          element.innerHTML = '';\n",
              "          dataTable['output_type'] = 'display_data';\n",
              "          await google.colab.output.renderOutput(dataTable, element);\n",
              "          const docLink = document.createElement('div');\n",
              "          docLink.innerHTML = docLinkHtml;\n",
              "          element.appendChild(docLink);\n",
              "        }\n",
              "      </script>\n",
              "    </div>\n",
              "  </div>\n",
              "  "
            ]
          },
          "metadata": {},
          "execution_count": 31
        }
      ],
      "source": [
        "constraint_query = \"\"\"CREATE CONSTRAINT IF NOT EXISTS ON (p:Person) ASSERT p.id IS UNIQUE;\"\"\"\n",
        "run_query(constraint_query)"
      ]
    },
    {
      "cell_type": "code",
      "execution_count": 7,
      "metadata": {
        "id": "DEcCdTlNCvH6"
      },
      "outputs": [],
      "source": [
        "# https://networkofthrones.wordpress.com/\n",
        "import_networks = \"\"\"\n",
        "\n",
        "UNWIND ['1','2','3','45'] as book\n",
        "LOAD CSV WITH HEADERS FROM \n",
        "'https://raw.githubusercontent.com/mathbeveridge/asoiaf/master/data/asoiaf-book' + book + '-edges.csv' as value\n",
        "MERGE (source:Person{id:value.Source})\n",
        "MERGE (target:Person{id:value.Target})\n",
        "WITH source,target,value.weight as weight,book\n",
        "CALL apoc.merge.relationship(source,'INTERACTS_' + book, {}, {weight:toFloat(weight)}, target) YIELD rel\n",
        "RETURN distinct 'done'\n",
        "\n",
        "\"\"\"\n",
        "run_query(import_networks)"
      ]
    },
    {
      "cell_type": "code",
      "source": [
        "def write_louvain(book):\n",
        "  project_graph_query = f\"\"\"\n",
        "   CALL gds.graph.project.cypher('book',\n",
        "  'MATCH (p:Person)\n",
        "  WHERE (p)-[:INTERACTS_{book}]-()\n",
        "  RETURN id(p) as id',\n",
        "  'MATCH (p:Person)-[:INTERACTS_{book}]-(p1:Person)\n",
        "  RETURN id(p) as source, id(p1) as target')\n",
        "\"\"\"\n",
        "\n",
        "  louvain_book = f\"\"\"\n",
        "  CALL gds.louvain.write('book'\n",
        "  ,{{writeProperty:'community_{book}'}})\n",
        "  \"\"\"\n",
        "\n",
        "  drop_graph = \"\"\"\n",
        "  CALL gds.graph.drop('book')\n",
        "  \"\"\"\n",
        "  run_query(project_graph_query)\n",
        "  run_query(louvain_book)\n",
        "  run_query(drop_graph)"
      ],
      "metadata": {
        "id": "g4-CauAHEIIo"
      },
      "execution_count": 32,
      "outputs": []
    },
    {
      "cell_type": "markdown",
      "metadata": {
        "id": "rtmxB-ytCvH7"
      },
      "source": [
        "# Book 1"
      ]
    },
    {
      "cell_type": "code",
      "execution_count": 33,
      "metadata": {
        "id": "ZTtOdPv-CvH8"
      },
      "outputs": [],
      "source": [
        "write_louvain(\"1\")"
      ]
    },
    {
      "cell_type": "code",
      "execution_count": 36,
      "metadata": {
        "id": "Hr2r-5U1CvH8"
      },
      "outputs": [],
      "source": [
        "# Get Daenerys' community id \n",
        "get_daenerys_community_query = \"\"\"\n",
        "MATCH (p:Person{id:'Daenerys-Targaryen'})\n",
        "RETURN p.community_1 as community\n",
        "\"\"\"\n",
        "\n",
        "daenerys_community = run_query(get_daenerys_community_query)['community'][0]"
      ]
    },
    {
      "cell_type": "code",
      "execution_count": 38,
      "metadata": {
        "id": "jTi8TtCUCvH9",
        "outputId": "2d6073df-7ed1-45e5-be44-2369660652cd",
        "colab": {
          "base_uri": "https://localhost:8080/",
          "height": 839
        }
      },
      "outputs": [
        {
          "output_type": "stream",
          "name": "stdout",
          "text": [
            "MATCH (p1:Person)-[r:INTERACTS_1]-(p2:Person)                     WHERE p1.community_1 = 52 RETURN *\n"
          ]
        },
        {
          "output_type": "execute_result",
          "data": {
            "text/plain": [
              "<IPython.lib.display.IFrame at 0x7f9ce6a71850>"
            ],
            "text/html": [
              "\n",
              "        <iframe\n",
              "            width=\"1000\"\n",
              "            height=\"800\"\n",
              "            src=\"graph-ff5e288b-fa70-43ce-9c28-befeae56032f.html\"\n",
              "            frameborder=\"0\"\n",
              "            allowfullscreen\n",
              "        ></iframe>\n",
              "        "
            ]
          },
          "metadata": {},
          "execution_count": 38
        }
      ],
      "source": [
        "visualize_level(level=1,community=daenerys_community)"
      ]
    },
    {
      "cell_type": "markdown",
      "metadata": {
        "id": "Ye6-xWwdCvH-"
      },
      "source": [
        "# Book 2"
      ]
    },
    {
      "cell_type": "code",
      "execution_count": 39,
      "metadata": {
        "id": "SkCJduILCvH-"
      },
      "outputs": [],
      "source": [
        "write_louvain(\"2\")"
      ]
    },
    {
      "cell_type": "code",
      "execution_count": null,
      "metadata": {
        "id": "nTNS2AK1CvH-",
        "outputId": "b155bc72-1b22-4609-b915-c34314c21408"
      },
      "outputs": [
        {
          "name": "stdout",
          "output_type": "stream",
          "text": [
            "MATCH (p1:Person)-[r:INTERACTS_2|:INTERACTS_1]-(p2:Person)                     WHERE p1.community_2 = 3 RETURN *\n"
          ]
        },
        {
          "data": {
            "text/html": [
              "\n",
              "        <iframe\n",
              "            width=\"1000\"\n",
              "            height=\"800\"\n",
              "            src=\"graph-57910c93-9a66-4402-a022-2658dc4d5408.html\"\n",
              "            frameborder=\"0\"\n",
              "            allowfullscreen\n",
              "        ></iframe>\n",
              "        "
            ],
            "text/plain": [
              "<IPython.lib.display.IFrame at 0x7f11211e56d8>"
            ]
          },
          "execution_count": 12,
          "metadata": {},
          "output_type": "execute_result"
        }
      ],
      "source": [
        "visualize_level(level=2,community=daenerys_community)"
      ]
    },
    {
      "cell_type": "markdown",
      "metadata": {
        "id": "niEQO5pwCvH_"
      },
      "source": [
        "# Book 3"
      ]
    },
    {
      "cell_type": "code",
      "execution_count": 41,
      "metadata": {
        "id": "MIITSfdACvH_"
      },
      "outputs": [],
      "source": [
        "write_louvain(\"3\")"
      ]
    },
    {
      "cell_type": "code",
      "execution_count": null,
      "metadata": {
        "id": "K0GJcsFqCvH_",
        "outputId": "36d8e774-d0ec-4a4d-f9f0-898f867c851f"
      },
      "outputs": [
        {
          "name": "stdout",
          "output_type": "stream",
          "text": [
            "MATCH (p1:Person)-[r:INTERACTS_3|:INTERACTS_2]-(p2:Person)                     WHERE p1.community_3 = 3 RETURN *\n"
          ]
        },
        {
          "data": {
            "text/html": [
              "\n",
              "        <iframe\n",
              "            width=\"1000\"\n",
              "            height=\"800\"\n",
              "            src=\"graph-fcfff088-d35d-4add-8758-70b7bbfbfe1d.html\"\n",
              "            frameborder=\"0\"\n",
              "            allowfullscreen\n",
              "        ></iframe>\n",
              "        "
            ],
            "text/plain": [
              "<IPython.lib.display.IFrame at 0x7f11211e5860>"
            ]
          },
          "execution_count": 14,
          "metadata": {},
          "output_type": "execute_result"
        }
      ],
      "source": [
        "visualize_level(level=3,community=daenerys_community)"
      ]
    },
    {
      "cell_type": "markdown",
      "metadata": {
        "id": "zCadSySZCvIA"
      },
      "source": [
        "# Book 4"
      ]
    },
    {
      "cell_type": "code",
      "execution_count": 43,
      "metadata": {
        "id": "B5wN4bd4CvIA"
      },
      "outputs": [],
      "source": [
        "write_louvain(\"45\")"
      ]
    },
    {
      "cell_type": "code",
      "execution_count": null,
      "metadata": {
        "id": "Tc4FVKVTCvIA",
        "outputId": "afc17880-1ac3-4428-83c5-fbe8eb332517"
      },
      "outputs": [
        {
          "name": "stdout",
          "output_type": "stream",
          "text": [
            "MATCH (p1:Person)-[r:INTERACTS_45|:INTERACTS_3]-(p2:Person)                     WHERE p1.community_4 = 3 RETURN *\n"
          ]
        },
        {
          "data": {
            "text/html": [
              "\n",
              "        <iframe\n",
              "            width=\"1000\"\n",
              "            height=\"800\"\n",
              "            src=\"graph-3419e926-7776-432d-abb7-05dd8cb7c1c5.html\"\n",
              "            frameborder=\"0\"\n",
              "            allowfullscreen\n",
              "        ></iframe>\n",
              "        "
            ],
            "text/plain": [
              "<IPython.lib.display.IFrame at 0x7f11211e5b00>"
            ]
          },
          "execution_count": 16,
          "metadata": {},
          "output_type": "execute_result"
        }
      ],
      "source": [
        "visualize_level(level=4,community=daenerys_community)"
      ]
    },
    {
      "cell_type": "code",
      "execution_count": null,
      "metadata": {
        "id": "uWD1_qV3CvIA"
      },
      "outputs": [],
      "source": [
        ""
      ]
    }
  ],
  "metadata": {
    "kernelspec": {
      "display_name": "Python 3",
      "language": "python",
      "name": "python3"
    },
    "language_info": {
      "codemirror_mode": {
        "name": "ipython",
        "version": 3
      },
      "file_extension": ".py",
      "mimetype": "text/x-python",
      "name": "python",
      "nbconvert_exporter": "python",
      "pygments_lexer": "ipython3",
      "version": "3.5.2"
    },
    "colab": {
      "name": "Game of thrones community iteration.ipynb",
      "provenance": [],
      "include_colab_link": true
    }
  },
  "nbformat": 4,
  "nbformat_minor": 0
}