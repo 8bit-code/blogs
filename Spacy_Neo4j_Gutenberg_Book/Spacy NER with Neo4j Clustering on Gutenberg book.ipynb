{
 "cells": [
  {
   "cell_type": "markdown",
   "metadata": {},
   "source": [
    "# Data preprocessing"
   ]
  },
  {
   "cell_type": "code",
   "execution_count": 49,
   "metadata": {},
   "outputs": [],
   "source": [
    "# https://www.gutenberg.org/ebooks/95 Prisoner of Zelda\n",
    "target_url = 'https://www.gutenberg.org/files/95/95-0.txt'\n",
    "import urllib.request\n",
    "data = urllib.request.urlopen(target_url)\n",
    "raw_data = data.read().decode('utf8').strip()"
   ]
  },
  {
   "cell_type": "code",
   "execution_count": 50,
   "metadata": {},
   "outputs": [],
   "source": [
    "import re\n",
    "# Clean the data a bit\n",
    "#chapters = raw_data.replace('\\n',' ').replace('\\r','').replace('').split('CHAPTER')[1:]\n",
    "chapters = re.sub('[^A-z0-9 -]', ' ', raw_data).split('CHAPTER')[1:]"
   ]
  },
  {
   "cell_type": "code",
   "execution_count": 51,
   "metadata": {},
   "outputs": [],
   "source": [
    "chapters[-1] = chapters[-1].split('End of the Project Gutenberg EBook')[0]"
   ]
  },
  {
   "cell_type": "markdown",
   "metadata": {},
   "source": [
    "# Import into Neo4j"
   ]
  },
  {
   "cell_type": "code",
   "execution_count": 52,
   "metadata": {},
   "outputs": [],
   "source": [
    "import spacy\n",
    "nlp = spacy.load(\"en_core_web_lg\")\n"
   ]
  },
  {
   "cell_type": "code",
   "execution_count": 53,
   "metadata": {},
   "outputs": [],
   "source": [
    "import neo4j\n",
    "driver = neo4j.GraphDatabase.driver(\"bolt://localhost:7687\", auth=(\"neo4j\", \"burek123\"))\n"
   ]
  },
  {
   "cell_type": "code",
   "execution_count": 54,
   "metadata": {},
   "outputs": [
    {
     "name": "stdout",
     "output_type": "stream",
     "text": [
      "Elphbergs Rudolf\n",
      "Rudolf Rose\n",
      "Robert Ancestry\n",
      "Ancestry Rose\n",
      "Robert Robert\n",
      "Rudolf Rose\n",
      "Rudolf Robert\n",
      "Robert Rudolf\n",
      "Ruritania Burlesdon\n",
      "Burlesdon George II\n",
      "George II King\n",
      "Rudolf the Third Ruritania  \n",
      "Burlesdon Amelia\n",
      "James Burlesdon\n",
      "Burlesdon a Knight of the Garter\n",
      "a Knight of the Garter Rudolf\n",
      "a Knight of the Garter Ruritania  \n",
      "Rudolf Ruritania  \n",
      "Jacob Jacob\n",
      "Jacob Rudolf\n",
      "Elphbergs Elphberg\n",
      "Elphberg Rudolf\n",
      "Bob Rose\n"
     ]
    }
   ],
   "source": [
    "c = chapters[0]\n",
    "# Get involved\n",
    "doc=nlp(c)\n",
    "save_query =\"\"\"\n",
    "MERGE (p1:Person{name:$name1})\n",
    "MERGE (p2:Person{name:$name2})\n",
    "MERGE (p1)-[r:RELATED]-(p2)\n",
    "ON CREATE SET r.score = 1\n",
    "ON MATCH SET r.score = r.score + 1\"\"\"\n",
    "\n",
    "#define constraint\n",
    "constraint_query=\"CREATE CONSTRAINT ON (p:Person) ASSERT p.name IS UNIQUE;\"\n",
    "with driver.session() as session:\n",
    "    session.run(constraint_query)\n",
    "    # Define the mapping\n",
    "    involved = list(set([ent.text for ent in doc.ents if ent.label_=='PERSON']))\n",
    "    decode = dict()\n",
    "    for i,x in enumerate(involved):\n",
    "        # Get mapping\n",
    "        decode['$${}$$'.format(i)] = x\n",
    "        # Preprocess text\n",
    "        c = c.replace(x,' $${}$$ '.format(i))\n",
    "    # Split chapter into words\n",
    "    ws = c.split()\n",
    "    l = len(ws)\n",
    "    for wi,w in enumerate(ws):\n",
    "        # Skip if the word is not a person\n",
    "        #print(w[:2])\n",
    "        if not w[:2] == '$$':\n",
    "            continue\n",
    "        # Check next x words for any involved person\n",
    "        x = 14\n",
    "        for i in range(wi+1,wi+x):\n",
    "            # Avoid list index error\n",
    "            if i >= l:\n",
    "                break\n",
    "            # Skip if the word is not a person\n",
    "            if not ws[i][:2] == '$$':\n",
    "                continue\n",
    "            # Store to Neo4j\n",
    "            # Todo: Maybe some automated mapping of name to surnames etc..\n",
    "            params = {'name1':decode[ws[wi]],'name2':decode[ws[i]]}\n",
    "            session.run(save_query, params)\n",
    "            print(decode[ws[wi]],decode[ws[i]])\n",
    "        "
   ]
  },
  {
   "cell_type": "markdown",
   "metadata": {},
   "source": [
    "# Graph Analysis"
   ]
  },
  {
   "cell_type": "code",
   "execution_count": 55,
   "metadata": {},
   "outputs": [],
   "source": [
    "pagerank =\"\"\"\n",
    "CALL algo.pageRank('Person','RELATED',{direction:'BOTH'})\n",
    "\"\"\"\n",
    "louvain = \"\"\"\n",
    "CALL algo.louvain('Person','RELATED',{direction:'BOTH'})\n",
    "\"\"\"\n",
    "with driver.session() as session:\n",
    "    session.run(pagerank)\n",
    "    session.run(louvain)"
   ]
  },
  {
   "cell_type": "markdown",
   "metadata": {},
   "source": [
    "# Vizualizations\n"
   ]
  },
  {
   "cell_type": "code",
   "execution_count": 56,
   "metadata": {},
   "outputs": [],
   "source": [
    "from IPython.display import IFrame, HTML\n",
    "import json\n",
    "import uuid\n",
    "\n",
    "\n",
    "def generate_vis(host, user, password, cypher, labels_json, relationships_json):\n",
    "    html = \"\"\"\\\n",
    "<html>\n",
    "<head>\n",
    "    <title>Neovis.js Simple Example</title>\n",
    "            <style type=\"text/css\">\n",
    "                html, body {{\n",
    "                    font: 16pt arial;\n",
    "                }}\n",
    "                #viz {{\n",
    "                    width: 400px;\n",
    "                    height: 450px;\n",
    "                    font: 22pt arial;\n",
    "                }}\n",
    "            </style>\n",
    "            <script src=\"https://cdn.neo4jlabs.com/neovis.js/v1.1.0/neovis.js\"></script>\n",
    "            <script\n",
    "                    src=\"https://code.jquery.com/jquery-3.2.1.min.js\"\n",
    "                    integrity=\"sha256-hwg4gsxgFZhOsEEamdOYGBf13FyQuiTwlAQgxVSNgt4=\"\n",
    "                    crossorigin=\"anonymous\"></script>\n",
    "            <script type=\"text/javascript\">\n",
    "                var viz;\n",
    "                function draw() {{\n",
    "                    var config = {{\n",
    "                        container_id: \"viz\",\n",
    "                        server_url: \"{host}\",\n",
    "                        server_user: \"{user}\",\n",
    "                        server_password: \"{password}\",\n",
    "                        labels: {labels},\n",
    "                        relationships: {relationships},\n",
    "                        initial_cypher: \"{cypher}\"\n",
    "                    }};\n",
    "                    viz = new NeoVis.default(config);\n",
    "                    viz.render();                    \n",
    "                    viz.onVisualizationRendered(function(ctx) {{\n",
    "                        let imageSrc = document.getElementsByTagName(\"canvas\")[0].toDataURL();\n",
    "                        console.log(imageSrc);\n",
    "                        document.getElementById(\"viz-image\").src=imageSrc;\n",
    "                        //document.getElementById(\"viz\").style=\"display:none\";\n",
    "                        \n",
    "                        let kernel = IPython.notebook.kernel;\n",
    "                        //let command = 'display(HTML('<img id=\"viz-image\" width=\"300px\" src=\"' + imageSrc + '\" />';\n",
    "                        let command = \"foo = 'bar'\";\n",
    "                        kernel.execute(command);\n",
    "                        \n",
    "                    }});\n",
    "                }}\n",
    "            </script>\n",
    "         </head>\n",
    "        <body onload=\"draw()\">\n",
    "            <div id=\"viz\"></div>\n",
    "        </body>\n",
    "    </html>\n",
    "    \"\"\"\n",
    "\n",
    "    html = html.format(\n",
    "        host=host,\n",
    "        user=user,\n",
    "        password=password,\n",
    "        cypher=cypher,\n",
    "        labels = json.dumps(labels_json),\n",
    "        relationships=json.dumps(relationships_json)\n",
    "        # relationships=json.dumps(relationships).replace(\"{\", \"{{\").replace(\"}\", \"}}\")\n",
    "    )\n",
    "\n",
    "    unique_id = str(uuid.uuid4())\n",
    "    filename = \"figure/graph-{}.html\".format(unique_id)\n",
    "\n",
    "    with open(filename, \"w\") as f:\n",
    "        f.write(html)\n",
    "    return IFrame(src=filename, width=700, height=600)\n",
    "\n",
    "        "
   ]
  },
  {
   "cell_type": "code",
   "execution_count": 57,
   "metadata": {},
   "outputs": [
    {
     "data": {
      "text/html": [
       "\n",
       "        <iframe\n",
       "            width=\"700\"\n",
       "            height=\"600\"\n",
       "            src=\"figure/graph-5cfff976-931c-4c4f-a397-36bc695bb9ed.html\"\n",
       "            frameborder=\"0\"\n",
       "            allowfullscreen\n",
       "        ></iframe>\n",
       "        "
      ],
      "text/plain": [
       "<IPython.lib.display.IFrame at 0x7f4bba7fe240>"
      ]
     },
     "execution_count": 57,
     "metadata": {},
     "output_type": "execute_result"
    }
   ],
   "source": [
    "cypher = \"MATCH (p1:Person)-[r:RELATED]->(p2:Person) RETURN *\"\n",
    "\n",
    "labels_json = {\n",
    "    \"Person\": {\n",
    "        \"caption\": \"name\",\n",
    "        \"size\": \"pagerank\",\n",
    "        \"community\": \"community\"\n",
    "    }\n",
    "}\n",
    "\n",
    "relationships_json = {\n",
    "    \"RELATED\": {\n",
    "        \"thickness\": \"score\",\n",
    "        \"caption\": False\n",
    "    }\n",
    "}\n",
    "\n",
    "host = \"bolt://localhost:7687\"\n",
    "user = 'neo4j'\n",
    "password = 'burek123'\n",
    "\n",
    "generate_vis(host, user, password, cypher, labels_json, relationships_json)"
   ]
  },
  {
   "cell_type": "code",
   "execution_count": null,
   "metadata": {},
   "outputs": [],
   "source": []
  },
  {
   "cell_type": "code",
   "execution_count": 114,
   "metadata": {},
   "outputs": [
    {
     "name": "stdout",
     "output_type": "stream",
     "text": [
      "['House', 'Royal House', 'Rassendylls', 'Embassy', 'the English Court', 'Strelsau', 'Court']\n",
      "Strelsau Burlesdon\n",
      "House Elphberg\n"
     ]
    }
   ],
   "source": [
    "# Additional options\n",
    "# Add orgs\n",
    "c = chapters[0]\n",
    "doc = nlp(c)\n",
    "\n",
    "save_query = \"\"\"\n",
    "\n",
    "MERGE (p:Person{name:$person})\n",
    "MERGE (o:Organization{name:$org})\n",
    "MERGE (p)-[r:PART_OF]->(o)\n",
    "ON CREATE SET r.score = 1\n",
    "ON MATCH SET r.score = r.score + 1\n",
    "\n",
    "\"\"\"\n",
    "\n",
    "with driver.session() as session:\n",
    "    # Define the mapping\n",
    "    persons = list(set([ent.text for ent in doc.ents if ent.label_=='PERSON']))\n",
    "    orgs = list(set([ent.text for ent in doc.ents if ent.label_=='ORG']))\n",
    "    decode_org = dict()\n",
    "    decode_person = dict()\n",
    "    # Replace person\n",
    "    for i,p in enumerate(persons):\n",
    "        decode_person['$${}$$'.format(i)] = p\n",
    "        r = ' $${}$$ '.format(i)\n",
    "        c = c.replace(p,r)\n",
    "    # Replace organizations\n",
    "    print(orgs)\n",
    "    for i,o in enumerate(orgs):\n",
    "        decode_org['&&{}&&'.format(i)] = o\n",
    "        c = c.replace(o,' &&{}&& '.format(i))    \n",
    "    # Split chapter into words\n",
    "    ws = c.split()\n",
    "    l = len(ws)\n",
    "    for wi,w in enumerate(ws):\n",
    "        # Skip if the word is not a organization\n",
    "        if not w[:2] == '&&':\n",
    "            continue\n",
    "        # Check previous and next x words for any involved person\n",
    "        x = 5\n",
    "        for i in range(wi-x,wi+x):\n",
    "            # Avoid list index error\n",
    "            if i >= l:\n",
    "                break\n",
    "            # Skip if the word is not a person\n",
    "            if (ws[i][:2]!='$$') or (i==wi):\n",
    "                continue\n",
    "            # Store to Neo4j\n",
    "            # Todo: Maybe some automated mapping of name to surnames etc..\n",
    "            params = {'org':decode_org[ws[wi]],'person':decode_person[ws[i]]}\n",
    "            session.run(save_query, params)\n",
    "            print(decode_org[ws[wi]],decode_person[ws[i]])"
   ]
  }
 ],
 "metadata": {
  "kernelspec": {
   "display_name": "Python 3",
   "language": "python",
   "name": "python3"
  },
  "language_info": {
   "codemirror_mode": {
    "name": "ipython",
    "version": 3
   },
   "file_extension": ".py",
   "mimetype": "text/x-python",
   "name": "python",
   "nbconvert_exporter": "python",
   "pygments_lexer": "ipython3",
   "version": "3.5.2"
  }
 },
 "nbformat": 4,
 "nbformat_minor": 2
}
