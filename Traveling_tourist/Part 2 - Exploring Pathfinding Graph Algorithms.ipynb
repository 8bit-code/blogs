{
 "cells": [
  {
   "cell_type": "code",
   "execution_count": 16,
   "metadata": {},
   "outputs": [],
   "source": [
    "# Define Neo4j connections\n",
    "import pandas as pd\n",
    "from neo4j import GraphDatabase\n",
    "host = 'neo4j://localhost:7687'\n",
    "user = 'neo4j'\n",
    "password = 'letmein'\n",
    "driver = GraphDatabase.driver(host,auth=(user, password))\n",
    "\n",
    "def run_query(query, parameters = {}):\n",
    "    with driver.session() as session:\n",
    "        result = session.run(query,parameters)\n",
    "        return pd.DataFrame([r.values() for r in result], columns=result.keys())"
   ]
  },
  {
   "cell_type": "markdown",
   "metadata": {},
   "source": [
    "In the first part of the series, we constructed a knowledge graph of monuments located in Spain from WikiData API. Now we'll put on our graph data science goggles and explore various pathfinding algorithms available in the Neo4j Graph Data Science library. To top it off, we'll look at a brute force solution for a Santa Claus problem. Now, you might wonder what a Santa Claus problem is. It is a variation of the traveling salesman problem, except we don't require the solution to end in the same city as it started. This is because of the Santa Claus' ability to bend the time-space continuum and instantly fly back to the North Pole once he's finished with delivering goodies.\n",
    "## Agenda\n",
    "* Infer spatial network of monuments\n",
    "* Load the in-memory projected graph with cypher projection\n",
    "* Weakly connected component algorithm\n",
    "* Shortest path algorithm\n",
    "* Yen's k-shortest path algorithm\n",
    "* Single source shortest paths algorithm\n",
    "* Minimum spanning tree algorithm\n",
    "* Random walk algorithm\n",
    "* Traveling salesman problem\n",
    "* Conclusion\n",
    "\n",
    "### Infer spatial network of monuments\n",
    "Currently, we have no direct relationships between the monuments in our graph. We do, however, have their GPS locations, which allows us to identify which monuments are nearby. This way, we can infer a spatial network of monuments.\n",
    "The process is very similar to inferring a similarity network. We usually don't want to end up with a complete graph, where each node is connected to all the other ones. It would defeat the purpose of demonstrating pathfinding algorithms as the shortest path between any two nodes would always be a straight line, which would be represented as a direct relationship between the two nodes. In our case, we will connect each monument to the five closest monuments that are less than 100 kilometers away. These two numbers are entirely arbitrary. You can pick any other depending on your scenario."
   ]
  },
  {
   "cell_type": "code",
   "execution_count": 2,
   "metadata": {},
   "outputs": [
    {
     "data": {
      "text/html": [
       "<div>\n",
       "<style scoped>\n",
       "    .dataframe tbody tr th:only-of-type {\n",
       "        vertical-align: middle;\n",
       "    }\n",
       "\n",
       "    .dataframe tbody tr th {\n",
       "        vertical-align: top;\n",
       "    }\n",
       "\n",
       "    .dataframe thead th {\n",
       "        text-align: right;\n",
       "    }\n",
       "</style>\n",
       "<table border=\"1\" class=\"dataframe\">\n",
       "  <thead>\n",
       "    <tr style=\"text-align: right;\">\n",
       "      <th></th>\n",
       "    </tr>\n",
       "  </thead>\n",
       "  <tbody>\n",
       "  </tbody>\n",
       "</table>\n",
       "</div>"
      ],
      "text/plain": [
       "Empty DataFrame\n",
       "Columns: []\n",
       "Index: []"
      ]
     },
     "execution_count": 2,
     "metadata": {},
     "output_type": "execute_result"
    }
   ],
   "source": [
    "infer_spatial_network = \"\"\"\n",
    "\n",
    "MATCH (m1:Monument),(m2:Monument) \n",
    "WHERE id(m1) > id(m2) \n",
    "WITH m1,m2, distance(m1.location_point,m2.location_point) as distance \n",
    "ORDER BY distance ASC\n",
    "WHERE distance < 100000\n",
    "WITH m1,collect({node:m2,distance:distance})[..5] as nearest \n",
    "UNWIND nearest as near \n",
    "WITH m1, near, near.node as nearest_node \n",
    "MERGE (m1)-[m:NEAR]-(nearest_node) SET m.distance = near.distance\n",
    "\n",
    "\"\"\"\n",
    "\n",
    "run_query(infer_spatial_network)"
   ]
  },
  {
   "cell_type": "markdown",
   "metadata": {},
   "source": [
    "### Load the in-memory projected graph with cypher projection\n",
    "Let's just quickly refresh how does the GDS library work.\n",
    "\n",
    "The graph analytics pipeline consists of three parts. In the first part, the graph loader reads the stored graph from Neo4j and loads it as an in-memory projected graph. We can use either native projection or cypher projection to load the projected graph. In the second step, we execute the graph algorithms in sequence. We can use the results of one graph algorithm as an input to another. Last but not least, we store or stream the results back to Neo4j.\n",
    "Here, we will use the cypher projection to load the in-memory graph. I suggest you take a look at the official documentation for more details regarding how it works. In the node statement, we will describe all monuments in our graph and add their architecture style as a node label. Adding a custom node label will allow us to filter nodes by architectural style at algorithm execution time. In the relationship statement, we will describe all the links between monuments and include the distance property, that we will use as a relationship weight."
   ]
  },
  {
   "cell_type": "code",
   "execution_count": 4,
   "metadata": {},
   "outputs": [
    {
     "data": {
      "text/html": [
       "<div>\n",
       "<style scoped>\n",
       "    .dataframe tbody tr th:only-of-type {\n",
       "        vertical-align: middle;\n",
       "    }\n",
       "\n",
       "    .dataframe tbody tr th {\n",
       "        vertical-align: top;\n",
       "    }\n",
       "\n",
       "    .dataframe thead th {\n",
       "        text-align: right;\n",
       "    }\n",
       "</style>\n",
       "<table border=\"1\" class=\"dataframe\">\n",
       "  <thead>\n",
       "    <tr style=\"text-align: right;\">\n",
       "      <th></th>\n",
       "      <th>nodeQuery</th>\n",
       "      <th>relationshipQuery</th>\n",
       "      <th>graphName</th>\n",
       "      <th>nodeCount</th>\n",
       "      <th>relationshipCount</th>\n",
       "      <th>createMillis</th>\n",
       "    </tr>\n",
       "  </thead>\n",
       "  <tbody>\n",
       "    <tr>\n",
       "      <th>0</th>\n",
       "      <td>MATCH (m:Monument)-[:ARCHITECTURE]-&gt;(a) \\n   R...</td>\n",
       "      <td>MATCH (m1:Monument)-[r:NEAR]-(m2:Monument) \\n ...</td>\n",
       "      <td>monuments</td>\n",
       "      <td>1401</td>\n",
       "      <td>13360</td>\n",
       "      <td>71</td>\n",
       "    </tr>\n",
       "  </tbody>\n",
       "</table>\n",
       "</div>"
      ],
      "text/plain": [
       "                                           nodeQuery  \\\n",
       "0  MATCH (m:Monument)-[:ARCHITECTURE]->(a) \\n   R...   \n",
       "\n",
       "                                   relationshipQuery  graphName  nodeCount  \\\n",
       "0  MATCH (m1:Monument)-[r:NEAR]-(m2:Monument) \\n ...  monuments       1401   \n",
       "\n",
       "   relationshipCount  createMillis  \n",
       "0              13360            71  "
      ]
     },
     "execution_count": 4,
     "metadata": {},
     "output_type": "execute_result"
    }
   ],
   "source": [
    "load_projected_graph = \"\"\"\n",
    "\n",
    "CALL gds.graph.create.cypher('monuments',\n",
    "  'MATCH (m:Monument)-[:ARCHITECTURE]->(a) \n",
    "   RETURN id(m) as id, collect(a.name) as labels',\n",
    "  'MATCH (m1:Monument)-[r:NEAR]-(m2:Monument) \n",
    "   RETURN id(m1) as source, id(m2) as target, r.distance as distance')\n",
    "\n",
    "\"\"\"\n",
    "\n",
    "run_query(load_projected_graph)"
   ]
  },
  {
   "cell_type": "markdown",
   "metadata": {},
   "source": [
    "### Weakly connected component algorithm\n",
    "Even though the weakly connected component algorithm is not a pathfinding algorithm, it is part of almost every graph analysis. It is used to find disconnected components or islands within our graph. We'll begin by running the stats mode of the algorithm."
   ]
  },
  {
   "cell_type": "code",
   "execution_count": 5,
   "metadata": {},
   "outputs": [
    {
     "data": {
      "text/html": [
       "<div>\n",
       "<style scoped>\n",
       "    .dataframe tbody tr th:only-of-type {\n",
       "        vertical-align: middle;\n",
       "    }\n",
       "\n",
       "    .dataframe tbody tr th {\n",
       "        vertical-align: top;\n",
       "    }\n",
       "\n",
       "    .dataframe thead th {\n",
       "        text-align: right;\n",
       "    }\n",
       "</style>\n",
       "<table border=\"1\" class=\"dataframe\">\n",
       "  <thead>\n",
       "    <tr style=\"text-align: right;\">\n",
       "      <th></th>\n",
       "      <th>componentCount</th>\n",
       "      <th>componentDistribution</th>\n",
       "    </tr>\n",
       "  </thead>\n",
       "  <tbody>\n",
       "    <tr>\n",
       "      <th>0</th>\n",
       "      <td>6</td>\n",
       "      <td>{'p99': 1381, 'min': 1, 'max': 1381, 'mean': 2...</td>\n",
       "    </tr>\n",
       "  </tbody>\n",
       "</table>\n",
       "</div>"
      ],
      "text/plain": [
       "   componentCount                              componentDistribution\n",
       "0               6  {'p99': 1381, 'min': 1, 'max': 1381, 'mean': 2..."
      ]
     },
     "execution_count": 5,
     "metadata": {},
     "output_type": "execute_result"
    }
   ],
   "source": [
    "wcc_stats_query = \"\"\"\n",
    "CALL gds.wcc.stats('monuments') \n",
    "YIELD componentCount, componentDistribution\n",
    "\"\"\"\n",
    "\n",
    "run_query(wcc_stats_query)"
   ]
  },
  {
   "cell_type": "markdown",
   "metadata": {},
   "source": [
    "There are six separate components within our monuments network. The results are typical for a real-world dataset. We have a single super component that contains 98% of all nodes and a couple of tiny islands floating around. Let's examine the smaller components."
   ]
  },
  {
   "cell_type": "code",
   "execution_count": 6,
   "metadata": {},
   "outputs": [
    {
     "data": {
      "text/html": [
       "<div>\n",
       "<style scoped>\n",
       "    .dataframe tbody tr th:only-of-type {\n",
       "        vertical-align: middle;\n",
       "    }\n",
       "\n",
       "    .dataframe tbody tr th {\n",
       "        vertical-align: top;\n",
       "    }\n",
       "\n",
       "    .dataframe thead th {\n",
       "        text-align: right;\n",
       "    }\n",
       "</style>\n",
       "<table border=\"1\" class=\"dataframe\">\n",
       "  <thead>\n",
       "    <tr style=\"text-align: right;\">\n",
       "      <th></th>\n",
       "      <th>componentId</th>\n",
       "      <th>component_size</th>\n",
       "      <th>monuments</th>\n",
       "      <th>state</th>\n",
       "    </tr>\n",
       "  </thead>\n",
       "  <tbody>\n",
       "    <tr>\n",
       "      <th>0</th>\n",
       "      <td>170</td>\n",
       "      <td>11</td>\n",
       "      <td>[Basilica of Candelaria, Basílica de Nuestra S...</td>\n",
       "      <td>[Canarias]</td>\n",
       "    </tr>\n",
       "    <tr>\n",
       "      <th>1</th>\n",
       "      <td>198</td>\n",
       "      <td>5</td>\n",
       "      <td>[Arab Baths of Palma de Mallorca, Casal Soller...</td>\n",
       "      <td>[Illes Balears]</td>\n",
       "    </tr>\n",
       "    <tr>\n",
       "      <th>2</th>\n",
       "      <td>588</td>\n",
       "      <td>2</td>\n",
       "      <td>[San Ginés, Arrecife, Iglesia de Nuestra Señor...</td>\n",
       "      <td>[Canarias]</td>\n",
       "    </tr>\n",
       "    <tr>\n",
       "      <th>3</th>\n",
       "      <td>1</td>\n",
       "      <td>1</td>\n",
       "      <td>[Fortín de Reina Regente, Melilla]</td>\n",
       "      <td>[]</td>\n",
       "    </tr>\n",
       "    <tr>\n",
       "      <th>4</th>\n",
       "      <td>876</td>\n",
       "      <td>1</td>\n",
       "      <td>[Church of Nuestra Señora de la Concepción, Va...</td>\n",
       "      <td>[Canarias]</td>\n",
       "    </tr>\n",
       "  </tbody>\n",
       "</table>\n",
       "</div>"
      ],
      "text/plain": [
       "   componentId  component_size  \\\n",
       "0          170              11   \n",
       "1          198               5   \n",
       "2          588               2   \n",
       "3            1               1   \n",
       "4          876               1   \n",
       "\n",
       "                                           monuments            state  \n",
       "0  [Basilica of Candelaria, Basílica de Nuestra S...       [Canarias]  \n",
       "1  [Arab Baths of Palma de Mallorca, Casal Soller...  [Illes Balears]  \n",
       "2  [San Ginés, Arrecife, Iglesia de Nuestra Señor...       [Canarias]  \n",
       "3                 [Fortín de Reina Regente, Melilla]               []  \n",
       "4  [Church of Nuestra Señora de la Concepción, Va...       [Canarias]  "
      ]
     },
     "execution_count": 6,
     "metadata": {},
     "output_type": "execute_result"
    }
   ],
   "source": [
    "examine_wcc_components_query = \"\"\"\n",
    "\n",
    "CALL gds.wcc.stream('monuments')\n",
    "YIELD nodeId, componentId \n",
    "WITH componentId, gds.util.asNode(nodeId) as node\n",
    "OPTIONAL MATCH (node)-[:IS_IN*2..2]->(state)\n",
    "RETURN componentId, \n",
    "       count(*) as component_size,\n",
    "       collect(node.name) as monuments, \n",
    "       collect(distinct state.id) as state\n",
    "ORDER BY component_size DESC \n",
    "SKIP 1\n",
    "\n",
    "\"\"\"\n",
    "\n",
    "run_query(examine_wcc_components_query)"
   ]
  },
  {
   "cell_type": "markdown",
   "metadata": {},
   "source": [
    "hree of the five smaller components are located in the Canaries archipelago, and one is located in the Balearic Islands, specifically on Majorca. With the Neomap application, developed by Estelle Scifo, we can visualize the Canaries archipelago components on a map."
   ]
  },
  {
   "cell_type": "markdown",
   "metadata": {},
   "source": [
    "### Shortest Path algorithm\n",
    "The first pathfinding graph algorithm we will use is the Shortest Path algorithm. It finds the shortest weighted path between two nodes. We define the start node and the end node and specify which relationship weight property should the algorithm take into consideration when calculating the shortest path."
   ]
  },
  {
   "cell_type": "code",
   "execution_count": 7,
   "metadata": {},
   "outputs": [
    {
     "data": {
      "text/html": [
       "<div>\n",
       "<style scoped>\n",
       "    .dataframe tbody tr th:only-of-type {\n",
       "        vertical-align: middle;\n",
       "    }\n",
       "\n",
       "    .dataframe tbody tr th {\n",
       "        vertical-align: top;\n",
       "    }\n",
       "\n",
       "    .dataframe thead th {\n",
       "        text-align: right;\n",
       "    }\n",
       "</style>\n",
       "<table border=\"1\" class=\"dataframe\">\n",
       "  <thead>\n",
       "    <tr style=\"text-align: right;\">\n",
       "      <th></th>\n",
       "      <th>monument</th>\n",
       "      <th>cost</th>\n",
       "    </tr>\n",
       "  </thead>\n",
       "  <tbody>\n",
       "    <tr>\n",
       "      <th>0</th>\n",
       "      <td>Iglesia de Santo Domingo</td>\n",
       "      <td>0.000000</td>\n",
       "    </tr>\n",
       "    <tr>\n",
       "      <th>1</th>\n",
       "      <td>Iglesia de San Isidoro</td>\n",
       "      <td>363.694539</td>\n",
       "    </tr>\n",
       "    <tr>\n",
       "      <th>2</th>\n",
       "      <td>Iglesia de San Emeterio</td>\n",
       "      <td>39815.236290</td>\n",
       "    </tr>\n",
       "    <tr>\n",
       "      <th>3</th>\n",
       "      <td>Santo Toribio de Liébana</td>\n",
       "      <td>105572.257779</td>\n",
       "    </tr>\n",
       "    <tr>\n",
       "      <th>4</th>\n",
       "      <td>Colegiata de Santa María de Piasca</td>\n",
       "      <td>112507.001728</td>\n",
       "    </tr>\n",
       "  </tbody>\n",
       "</table>\n",
       "</div>"
      ],
      "text/plain": [
       "                             monument           cost\n",
       "0            Iglesia de Santo Domingo       0.000000\n",
       "1              Iglesia de San Isidoro     363.694539\n",
       "2             Iglesia de San Emeterio   39815.236290\n",
       "3            Santo Toribio de Liébana  105572.257779\n",
       "4  Colegiata de Santa María de Piasca  112507.001728"
      ]
     },
     "execution_count": 7,
     "metadata": {},
     "output_type": "execute_result"
    }
   ],
   "source": [
    "shortest_path_query = \"\"\"\n",
    "\n",
    "MATCH (s:Monument{name:'Iglesia de Santo Domingo'}),  \n",
    "      (e:Monument{name:'Colegiata de Santa María de Piasca'})\n",
    "CALL gds.alpha.shortestPath.stream('monuments',{\n",
    "  startNode:s,\n",
    "  endNode:e,\n",
    "  relationshipWeightProperty:'distance'})\n",
    "YIELD nodeId, cost\n",
    "RETURN gds.util.asNode(nodeId).name as monument, cost\n",
    "\n",
    "\"\"\"\n",
    "\n",
    "run_query(shortest_path_query)"
   ]
  },
  {
   "cell_type": "markdown",
   "metadata": {},
   "source": [
    "What if we wanted to plan a trip for an architectural class and visit only monuments that were influenced by either Gothic or Romanesque architecture along the way? Planning such a trip is very easy with the GDS library, as we can filter which nodes can the algorithm visit with the nodeLabels parameter."
   ]
  },
  {
   "cell_type": "code",
   "execution_count": 8,
   "metadata": {},
   "outputs": [
    {
     "data": {
      "text/html": [
       "<div>\n",
       "<style scoped>\n",
       "    .dataframe tbody tr th:only-of-type {\n",
       "        vertical-align: middle;\n",
       "    }\n",
       "\n",
       "    .dataframe tbody tr th {\n",
       "        vertical-align: top;\n",
       "    }\n",
       "\n",
       "    .dataframe thead th {\n",
       "        text-align: right;\n",
       "    }\n",
       "</style>\n",
       "<table border=\"1\" class=\"dataframe\">\n",
       "  <thead>\n",
       "    <tr style=\"text-align: right;\">\n",
       "      <th></th>\n",
       "      <th>monument</th>\n",
       "      <th>cost</th>\n",
       "    </tr>\n",
       "  </thead>\n",
       "  <tbody>\n",
       "    <tr>\n",
       "      <th>0</th>\n",
       "      <td>Iglesia de Santo Domingo</td>\n",
       "      <td>0.000000</td>\n",
       "    </tr>\n",
       "    <tr>\n",
       "      <th>1</th>\n",
       "      <td>San Vicente of Oviedo</td>\n",
       "      <td>477.324409</td>\n",
       "    </tr>\n",
       "    <tr>\n",
       "      <th>2</th>\n",
       "      <td>San Esteban</td>\n",
       "      <td>16864.749992</td>\n",
       "    </tr>\n",
       "    <tr>\n",
       "      <th>3</th>\n",
       "      <td>Iglesia de Santa María de la Oliva (Villaviciosa)</td>\n",
       "      <td>45379.584890</td>\n",
       "    </tr>\n",
       "    <tr>\n",
       "      <th>4</th>\n",
       "      <td>Santo Toribio de Liébana</td>\n",
       "      <td>118722.294126</td>\n",
       "    </tr>\n",
       "    <tr>\n",
       "      <th>5</th>\n",
       "      <td>Colegiata de Santa María de Piasca</td>\n",
       "      <td>125657.038075</td>\n",
       "    </tr>\n",
       "  </tbody>\n",
       "</table>\n",
       "</div>"
      ],
      "text/plain": [
       "                                            monument           cost\n",
       "0                           Iglesia de Santo Domingo       0.000000\n",
       "1                              San Vicente of Oviedo     477.324409\n",
       "2                                        San Esteban   16864.749992\n",
       "3  Iglesia de Santa María de la Oliva (Villaviciosa)   45379.584890\n",
       "4                           Santo Toribio de Liébana  118722.294126\n",
       "5                 Colegiata de Santa María de Piasca  125657.038075"
      ]
     },
     "execution_count": 8,
     "metadata": {},
     "output_type": "execute_result"
    }
   ],
   "source": [
    "shortest_path_filter_query = \"\"\"\n",
    "\n",
    "MATCH (s:Monument{name:'Iglesia de Santo Domingo'}),  \n",
    "      (t:Monument{name:'Colegiata de Santa María de Piasca'})\n",
    "CALL gds.alpha.shortestPath.stream('monuments',{\n",
    "  startNode:s,\n",
    "  endNode:t,\n",
    "  relationshipWeightProperty:'distance',\n",
    "  nodeLabels:['Gothic architecture','Romanesque architecture']}) \n",
    "YIELD nodeId, cost\n",
    "RETURN gds.util.asNode(nodeId).name as monument, cost\n",
    "\n",
    "\"\"\"\n",
    "\n",
    "run_query(shortest_path_filter_query)"
   ]
  },
  {
   "cell_type": "markdown",
   "metadata": {},
   "source": [
    "The route is a bit different this time as the algorithm can only visit monuments that were influenced by Gothic or Romanesque architecture style.\n",
    "\n",
    "### Yen's k-shortest path algorithm\n",
    "We have learned how to calculate the shortest weighted path between a pair of nodes. What if we were more cautious tourists and wanted to find the top three shortest paths? Having a backup plan if something unexpected might happen along the way is always a good idea. In this scenario, we could use the Yen's k-shortest path algorithm. The syntax is almost identical to the Shortest Path algorithm, except for the added k parameter, which defines how many shortest paths we would like to find."
   ]
  },
  {
   "cell_type": "code",
   "execution_count": 9,
   "metadata": {},
   "outputs": [
    {
     "data": {
      "text/html": [
       "<div>\n",
       "<style scoped>\n",
       "    .dataframe tbody tr th:only-of-type {\n",
       "        vertical-align: middle;\n",
       "    }\n",
       "\n",
       "    .dataframe tbody tr th {\n",
       "        vertical-align: top;\n",
       "    }\n",
       "\n",
       "    .dataframe thead th {\n",
       "        text-align: right;\n",
       "    }\n",
       "</style>\n",
       "<table border=\"1\" class=\"dataframe\">\n",
       "  <thead>\n",
       "    <tr style=\"text-align: right;\">\n",
       "      <th></th>\n",
       "      <th>index</th>\n",
       "      <th>monuments</th>\n",
       "      <th>total_cost</th>\n",
       "    </tr>\n",
       "  </thead>\n",
       "  <tbody>\n",
       "    <tr>\n",
       "      <th>0</th>\n",
       "      <td>0</td>\n",
       "      <td>[Iglesia de Santo Domingo, Iglesia de San Isid...</td>\n",
       "      <td>112507.001728</td>\n",
       "    </tr>\n",
       "    <tr>\n",
       "      <th>1</th>\n",
       "      <td>1</td>\n",
       "      <td>[Iglesia de Santo Domingo, Church of San Tirso...</td>\n",
       "      <td>112793.297326</td>\n",
       "    </tr>\n",
       "    <tr>\n",
       "      <th>2</th>\n",
       "      <td>2</td>\n",
       "      <td>[Iglesia de Santo Domingo, Palacio de los Cond...</td>\n",
       "      <td>112830.095755</td>\n",
       "    </tr>\n",
       "  </tbody>\n",
       "</table>\n",
       "</div>"
      ],
      "text/plain": [
       "   index                                          monuments     total_cost\n",
       "0      0  [Iglesia de Santo Domingo, Iglesia de San Isid...  112507.001728\n",
       "1      1  [Iglesia de Santo Domingo, Church of San Tirso...  112793.297326\n",
       "2      2  [Iglesia de Santo Domingo, Palacio de los Cond...  112830.095755"
      ]
     },
     "execution_count": 9,
     "metadata": {},
     "output_type": "execute_result"
    }
   ],
   "source": [
    "yens_shortest_path_query = \"\"\"\n",
    "\n",
    "MATCH (s:Monument{name:'Iglesia de Santo Domingo'}),\n",
    "      (t:Monument{name:'Colegiata de Santa María de Piasca'})\n",
    "CALL gds.alpha.kShortestPaths.stream('monuments',{\n",
    "  startNode:s,\n",
    "  endNode:t,\n",
    "  k:3,\n",
    "  relationshipWeightProperty:'distance'}) \n",
    "YIELD index,nodeIds,costs\n",
    "RETURN index,[nodeId in nodeIds | gds.util.asNode(nodeId).name] as monuments,apoc.coll.sum(costs) as total_cost\n",
    "\n",
    "\"\"\"\n",
    "\n",
    "run_query(yens_shortest_path_query)"
   ]
  },
  {
   "cell_type": "markdown",
   "metadata": {},
   "source": [
    "The three paths are almost the same length, just a couple hundred meters of difference. If you look closely, only the second stop is different among the three variants. Such a small difference can be attributed to the nature of our spatial network and the example pair of nodes.\n",
    "### Single source shortest path algorithm\n",
    "With the Single Source Shortest Path algorithm, we define the start node and search for the shortest weighted path to all the other nodes in the network. We'll inspect one of the Canaries components to limit the number of shortest paths to a reasonable number.\n",
    "We'll examine the Tenerife - Gran Canaria component and choose the Cathedral of La Laguna as the starting node. The algorithm tries to find the shortest paths to all the other nodes in the network, and if no such way exists, it returns Infinity value as a result. We will filter out the unreachable nodes with the gds.util.isFinite procedure."
   ]
  },
  {
   "cell_type": "code",
   "execution_count": 10,
   "metadata": {},
   "outputs": [
    {
     "data": {
      "text/html": [
       "<div>\n",
       "<style scoped>\n",
       "    .dataframe tbody tr th:only-of-type {\n",
       "        vertical-align: middle;\n",
       "    }\n",
       "\n",
       "    .dataframe tbody tr th {\n",
       "        vertical-align: top;\n",
       "    }\n",
       "\n",
       "    .dataframe thead th {\n",
       "        text-align: right;\n",
       "    }\n",
       "</style>\n",
       "<table border=\"1\" class=\"dataframe\">\n",
       "  <thead>\n",
       "    <tr style=\"text-align: right;\">\n",
       "      <th></th>\n",
       "      <th>monument</th>\n",
       "      <th>distance</th>\n",
       "    </tr>\n",
       "  </thead>\n",
       "  <tbody>\n",
       "    <tr>\n",
       "      <th>0</th>\n",
       "      <td>Cathedral of La Laguna</td>\n",
       "      <td>0.000000</td>\n",
       "    </tr>\n",
       "    <tr>\n",
       "      <th>1</th>\n",
       "      <td>Iglesia de la Concepción</td>\n",
       "      <td>420.110622</td>\n",
       "    </tr>\n",
       "    <tr>\n",
       "      <th>2</th>\n",
       "      <td>Iglesia de San Francisco de Asís</td>\n",
       "      <td>6953.377218</td>\n",
       "    </tr>\n",
       "    <tr>\n",
       "      <th>3</th>\n",
       "      <td>Iglesia de la Concepción</td>\n",
       "      <td>7141.925011</td>\n",
       "    </tr>\n",
       "    <tr>\n",
       "      <th>4</th>\n",
       "      <td>Basilica of Candelaria</td>\n",
       "      <td>16192.932014</td>\n",
       "    </tr>\n",
       "    <tr>\n",
       "      <th>5</th>\n",
       "      <td>Immaculate Conception Church</td>\n",
       "      <td>23252.693912</td>\n",
       "    </tr>\n",
       "    <tr>\n",
       "      <th>6</th>\n",
       "      <td>Shrine of Our Lady of Mount Carmel</td>\n",
       "      <td>28684.806894</td>\n",
       "    </tr>\n",
       "    <tr>\n",
       "      <th>7</th>\n",
       "      <td>Church of San Juan Bautista, Arico</td>\n",
       "      <td>40221.460702</td>\n",
       "    </tr>\n",
       "    <tr>\n",
       "      <th>8</th>\n",
       "      <td>Basílica de Nuestra Señora del Pino</td>\n",
       "      <td>89360.846045</td>\n",
       "    </tr>\n",
       "    <tr>\n",
       "      <th>9</th>\n",
       "      <td>Cathedral of Santa Ana</td>\n",
       "      <td>98388.990460</td>\n",
       "    </tr>\n",
       "    <tr>\n",
       "      <th>10</th>\n",
       "      <td>Basilica of San Juan Bautista, Telde</td>\n",
       "      <td>102667.956306</td>\n",
       "    </tr>\n",
       "  </tbody>\n",
       "</table>\n",
       "</div>"
      ],
      "text/plain": [
       "                                monument       distance\n",
       "0                 Cathedral of La Laguna       0.000000\n",
       "1               Iglesia de la Concepción     420.110622\n",
       "2       Iglesia de San Francisco de Asís    6953.377218\n",
       "3               Iglesia de la Concepción    7141.925011\n",
       "4                 Basilica of Candelaria   16192.932014\n",
       "5           Immaculate Conception Church   23252.693912\n",
       "6     Shrine of Our Lady of Mount Carmel   28684.806894\n",
       "7     Church of San Juan Bautista, Arico   40221.460702\n",
       "8    Basílica de Nuestra Señora del Pino   89360.846045\n",
       "9                 Cathedral of Santa Ana   98388.990460\n",
       "10  Basilica of San Juan Bautista, Telde  102667.956306"
      ]
     },
     "execution_count": 10,
     "metadata": {},
     "output_type": "execute_result"
    }
   ],
   "source": [
    "sssp_query = \"\"\"\n",
    "\n",
    "MATCH (start:Monument{name:'Cathedral of La Laguna'})\n",
    "CALL gds.alpha.shortestPaths.stream('monuments',\n",
    " {startNode:start, relationshipWeightProperty:'distance'})\n",
    "YIELD nodeId, distance\n",
    "WHERE gds.util.isFinite(distance) = True\n",
    "RETURN gds.util.asNode(nodeId).name as monument,distance\n",
    "ORDER BY distance ASC\n",
    "\n",
    "\"\"\"\n",
    "\n",
    "run_query(sssp_query)"
   ]
  },
  {
   "cell_type": "markdown",
   "metadata": {},
   "source": [
    "The closest monument to the Cathedral of La Laguna is the Iglesia de la Concepción, which is just 420 meters away. It seems that there are two Iglesia de la Concepción on Tenerife Island as we can observe that it shows up twice in our results. The farthest reachable monument in our network from the Cathedral of La Laguna is Basilica of San Juan Bautista.\n",
    "If we wanted to find the cost of the shortest path to all the reachable neoclassical monuments from the Cathedral of La Laguna, we could effortlessly achieve this with the nodeLabels parameter."
   ]
  },
  {
   "cell_type": "code",
   "execution_count": null,
   "metadata": {},
   "outputs": [],
   "source": [
    "sssp_filter_query = \"\"\"\n",
    "\n",
    "MATCH (start:Monument{name:'Cathedral of La Laguna'})\n",
    "CALL gds.alpha.shortestPaths.stream('monuments',\n",
    " {startNode:start, relationshipWeightProperty:'distance',    \n",
    "  nodeLabels:['Neoclassical architecture']})\n",
    "YIELD nodeId, distance\n",
    "WHERE gds.util.isFinite(distance) = True\n",
    "RETURN gds.util.asNode(nodeId).name as monument,\n",
    " distance\n",
    "ORDER BY distance ASC\n",
    "\n",
    "\"\"\"\n",
    "\n",
    "run_query(sssp_filter_queryCurrently, only the write mode of the algorithm is available. We can visualize our potential cable route with Neomap.)"
   ]
  },
  {
   "cell_type": "markdown",
   "metadata": {},
   "source": [
    "It seems there are only four neoclassical monuments on Tenerife and Gran Canaria islands.\n",
    "### Minimum weight spanning tree algorithm\n",
    "The Minimum Weight Spanning Tree algorithm starts from a given node and calculates a spanning tree connecting all reachable nodes with the minimum possible sum of relationship weights. For example, if we wanted to connect all the monuments in Tenerife and Gran Canaria with an optical or electric cable, we would use the Minimum Weight Spanning Tree algorithm."
   ]
  },
  {
   "cell_type": "code",
   "execution_count": 12,
   "metadata": {},
   "outputs": [
    {
     "data": {
      "text/html": [
       "<div>\n",
       "<style scoped>\n",
       "    .dataframe tbody tr th:only-of-type {\n",
       "        vertical-align: middle;\n",
       "    }\n",
       "\n",
       "    .dataframe tbody tr th {\n",
       "        vertical-align: top;\n",
       "    }\n",
       "\n",
       "    .dataframe thead th {\n",
       "        text-align: right;\n",
       "    }\n",
       "</style>\n",
       "<table border=\"1\" class=\"dataframe\">\n",
       "  <thead>\n",
       "    <tr style=\"text-align: right;\">\n",
       "      <th></th>\n",
       "      <th>effectiveNodeCount</th>\n",
       "    </tr>\n",
       "  </thead>\n",
       "  <tbody>\n",
       "    <tr>\n",
       "      <th>0</th>\n",
       "      <td>11</td>\n",
       "    </tr>\n",
       "  </tbody>\n",
       "</table>\n",
       "</div>"
      ],
      "text/plain": [
       "   effectiveNodeCount\n",
       "0                  11"
      ]
     },
     "execution_count": 12,
     "metadata": {},
     "output_type": "execute_result"
    }
   ],
   "source": [
    "mwst_query = \"\"\"\n",
    "\n",
    "MATCH (start:Monument{name:'Cathedral of La Laguna'})\n",
    "CALL gds.alpha.spanningTree.minimum.write('monuments',{\n",
    " startNodeId:id(start),\n",
    " relationshipWeightProperty:'distance',\n",
    " weightWriteProperty:'cost'})\n",
    "YIELD effectiveNodeCount\n",
    "RETURN effectiveNodeCount\n",
    "\n",
    "\"\"\"\n",
    "\n",
    "run_query(mwst_query)"
   ]
  },
  {
   "cell_type": "markdown",
   "metadata": {},
   "source": [
    "Currently, only the write mode of the algorithm is available. We can visualize our potential cable route with Neomap.\n",
    "### Random walk algorithm\n",
    "We can imagine the Random Walk algorithm trying to mimic a drunk crowd traversing the network. They might go left, or right, take two steps forward, one step back, we never really know. It depends on how drunk the crowd is. We can use this algorithm to provide random trip recommendations. Imagine we have just visited the University of Barcelona historical building and are not sure which monuments we should take a look at next."
   ]
  },
  {
   "cell_type": "code",
   "execution_count": 13,
   "metadata": {},
   "outputs": [
    {
     "data": {
      "text/html": [
       "<div>\n",
       "<style scoped>\n",
       "    .dataframe tbody tr th:only-of-type {\n",
       "        vertical-align: middle;\n",
       "    }\n",
       "\n",
       "    .dataframe tbody tr th {\n",
       "        vertical-align: top;\n",
       "    }\n",
       "\n",
       "    .dataframe thead th {\n",
       "        text-align: right;\n",
       "    }\n",
       "</style>\n",
       "<table border=\"1\" class=\"dataframe\">\n",
       "  <thead>\n",
       "    <tr style=\"text-align: right;\">\n",
       "      <th></th>\n",
       "      <th>result</th>\n",
       "    </tr>\n",
       "  </thead>\n",
       "  <tbody>\n",
       "    <tr>\n",
       "      <th>0</th>\n",
       "      <td>[University of Barcelona historical building, ...</td>\n",
       "    </tr>\n",
       "    <tr>\n",
       "      <th>1</th>\n",
       "      <td>[University of Barcelona historical building, ...</td>\n",
       "    </tr>\n",
       "    <tr>\n",
       "      <th>2</th>\n",
       "      <td>[University of Barcelona historical building, ...</td>\n",
       "    </tr>\n",
       "  </tbody>\n",
       "</table>\n",
       "</div>"
      ],
      "text/plain": [
       "                                              result\n",
       "0  [University of Barcelona historical building, ...\n",
       "1  [University of Barcelona historical building, ...\n",
       "2  [University of Barcelona historical building, ..."
      ]
     },
     "execution_count": 13,
     "metadata": {},
     "output_type": "execute_result"
    }
   ],
   "source": [
    "random_walk_1 = \"\"\"\n",
    "\n",
    "MATCH (m:Monument{name:\"University of Barcelona historical building\"})\n",
    "CALL gds.alpha.randomWalk.stream('monuments',\n",
    "  {start:id(m), walks:3, steps:5})\n",
    "YIELD nodeIds\n",
    "RETURN [nodeId in nodeIds | gds.util.asNode(nodeId).name] as result\n",
    "\n",
    "\"\"\"\n",
    "\n",
    "run_query(random_walk_1)"
   ]
  },
  {
   "cell_type": "markdown",
   "metadata": {},
   "source": [
    "Remember, we mentioned that the Random Walk algorithm tries to mimic a drunk person traversing the network. Well, an intoxicated person might visit the same monument twice and not care. For example, in the first and third suggestions, a single monument shows up twice. Luckily, we have some options to influence how the algorithm should traverse the network in the node2vec mode with the following two parameters:\n",
    ">return: This parameter controls the likelihood of immediately revisiting a node in a walk. Setting it to a high value (> max(inOut, 1)) ensures that we are less likely to sample an already visited node in the following two steps.\n",
    "\n",
    ">inOut: This parameter allows the search to differentiate between \"inward\" and \"outward\" nodes. If inOut > 1, the random walk is biased towards nodes close to node t. In contrast, if inOut < 1, the walk is more inclined to visit nodes that are further away from the node t.\n",
    "\n",
    "The definition of the two parameters is summarized from the original Node2vec paper.\n",
    "We want to recommend monuments close to our starting point, so we choose the inOut parameter to be greater than 1. And we definitely would like to avoid revisiting an already visited node during the walk, so we choose the return parameter to be greater than the inOut parameter."
   ]
  },
  {
   "cell_type": "code",
   "execution_count": 14,
   "metadata": {},
   "outputs": [
    {
     "data": {
      "text/html": [
       "<div>\n",
       "<style scoped>\n",
       "    .dataframe tbody tr th:only-of-type {\n",
       "        vertical-align: middle;\n",
       "    }\n",
       "\n",
       "    .dataframe tbody tr th {\n",
       "        vertical-align: top;\n",
       "    }\n",
       "\n",
       "    .dataframe thead th {\n",
       "        text-align: right;\n",
       "    }\n",
       "</style>\n",
       "<table border=\"1\" class=\"dataframe\">\n",
       "  <thead>\n",
       "    <tr style=\"text-align: right;\">\n",
       "      <th></th>\n",
       "      <th>result</th>\n",
       "    </tr>\n",
       "  </thead>\n",
       "  <tbody>\n",
       "    <tr>\n",
       "      <th>0</th>\n",
       "      <td>[University of Barcelona historical building, ...</td>\n",
       "    </tr>\n",
       "    <tr>\n",
       "      <th>1</th>\n",
       "      <td>[University of Barcelona historical building, ...</td>\n",
       "    </tr>\n",
       "    <tr>\n",
       "      <th>2</th>\n",
       "      <td>[University of Barcelona historical building, ...</td>\n",
       "    </tr>\n",
       "  </tbody>\n",
       "</table>\n",
       "</div>"
      ],
      "text/plain": [
       "                                              result\n",
       "0  [University of Barcelona historical building, ...\n",
       "1  [University of Barcelona historical building, ...\n",
       "2  [University of Barcelona historical building, ..."
      ]
     },
     "execution_count": 14,
     "metadata": {},
     "output_type": "execute_result"
    }
   ],
   "source": [
    "random_walk_2 = \"\"\"\n",
    "\n",
    "MATCH (m:Monument{name:\"University of Barcelona historical building\"})\n",
    "CALL gds.alpha.randomWalk.stream('monuments',\n",
    "  {start:id(m), walks:3, steps:5, \n",
    "   mode:'node2vec', inOut:5, return:10})\n",
    "YIELD nodeIds\n",
    "RETURN [nodeId in nodeIds | gds.util.asNode(nodeId).name] as result\n",
    "\n",
    "\"\"\"\n",
    "\n",
    "run_query(random_walk_2)"
   ]
  },
  {
   "cell_type": "markdown",
   "metadata": {},
   "source": [
    "Unfortunately, the return parameter ensures that we are less likely to sample an already visited node in the following two steps. This means that we can't be sure that duplicates won't show up later during our walk.  In our example, Casa Batlló appears twice in the first suggestion. We can circumnavigate this problem by creating longer walk suggestions and filtering out duplicates before showing the results to the user. In the following query, we calculate nine steps long walks, filter out duplicates, and return only the first five results."
   ]
  },
  {
   "cell_type": "code",
   "execution_count": 17,
   "metadata": {},
   "outputs": [
    {
     "data": {
      "text/html": [
       "<div>\n",
       "<style scoped>\n",
       "    .dataframe tbody tr th:only-of-type {\n",
       "        vertical-align: middle;\n",
       "    }\n",
       "\n",
       "    .dataframe tbody tr th {\n",
       "        vertical-align: top;\n",
       "    }\n",
       "\n",
       "    .dataframe thead th {\n",
       "        text-align: right;\n",
       "    }\n",
       "</style>\n",
       "<table border=\"1\" class=\"dataframe\">\n",
       "  <thead>\n",
       "    <tr style=\"text-align: right;\">\n",
       "      <th></th>\n",
       "      <th>result</th>\n",
       "    </tr>\n",
       "  </thead>\n",
       "  <tbody>\n",
       "    <tr>\n",
       "      <th>0</th>\n",
       "      <td>[University of Barcelona historical building, ...</td>\n",
       "    </tr>\n",
       "    <tr>\n",
       "      <th>1</th>\n",
       "      <td>[University of Barcelona historical building, ...</td>\n",
       "    </tr>\n",
       "    <tr>\n",
       "      <th>2</th>\n",
       "      <td>[University of Barcelona historical building, ...</td>\n",
       "    </tr>\n",
       "  </tbody>\n",
       "</table>\n",
       "</div>"
      ],
      "text/plain": [
       "                                              result\n",
       "0  [University of Barcelona historical building, ...\n",
       "1  [University of Barcelona historical building, ...\n",
       "2  [University of Barcelona historical building, ..."
      ]
     },
     "execution_count": 17,
     "metadata": {},
     "output_type": "execute_result"
    }
   ],
   "source": [
    "random_walk_3 = \"\"\"\n",
    "\n",
    "MATCH (m:Monument{name:\"University of Barcelona historical building\"})\n",
    "CALL gds.alpha.randomWalk.stream('monuments',\n",
    "  {start:id(m), walks:3, steps:9, \n",
    "   mode:'node2vec', inOut:5, return:10})\n",
    "YIELD nodeIds\n",
    "RETURN apoc.coll.toSet([nodeId in nodeIds | gds.util.asNode(nodeId).name])[..5] as result\n",
    "\n",
    "\"\"\"\n",
    "\n",
    "run_query(random_walk_3)"
   ]
  },
  {
   "cell_type": "markdown",
   "metadata": {},
   "source": [
    "This way, we make sure the results never contain duplicates. Now we can visualize the results with our trip recommendation application.\n",
    "\n",
    "### Traveling salesman problem\n",
    "To top it off, we will solve the Santa Claus variation of the traveling salesman problem. As mentioned, the only difference is that we omit the requirement to end up in the same location as we started. I found the inspiration for this problem in the Gaming the Christmas Market post written by David Barton. I give all the credits to David Barton for conjuring up the solution. My contribution is to update it to work with Neo4j 4.0 and the GDS library.\n",
    "Say we want to find the optimal route between this monuments:"
   ]
  },
  {
   "cell_type": "code",
   "execution_count": 18,
   "metadata": {},
   "outputs": [],
   "source": [
    "selection = [\"Castell de Santa Pau\",\"Castell de Sant Jaume\",\"Castell de Vilaüt\",\"Castell de Sarraí\",\"Castell de Solius\",\"Portal d'Albanyà\",\"Castell de Sant Gregori\",\"Casa Frigola\"]"
   ]
  },
  {
   "cell_type": "markdown",
   "metadata": {},
   "source": [
    "We split the solution into two steps. First, we calculate the shortest path between all pairs of selected monuments with the gds.alpha.shortestPath algorithm and store the results as the SHORTEST_ROUTE_TO relationship between the given pair of nodes. We save the total cost and all the intermediate nodes along the shortest path as the properties of the SHORTEST_ROUTE_TO relationship."
   ]
  },
  {
   "cell_type": "code",
   "execution_count": 19,
   "metadata": {},
   "outputs": [
    {
     "data": {
      "text/html": [
       "<div>\n",
       "<style scoped>\n",
       "    .dataframe tbody tr th:only-of-type {\n",
       "        vertical-align: middle;\n",
       "    }\n",
       "\n",
       "    .dataframe tbody tr th {\n",
       "        vertical-align: top;\n",
       "    }\n",
       "\n",
       "    .dataframe thead th {\n",
       "        text-align: right;\n",
       "    }\n",
       "</style>\n",
       "<table border=\"1\" class=\"dataframe\">\n",
       "  <thead>\n",
       "    <tr style=\"text-align: right;\">\n",
       "      <th></th>\n",
       "    </tr>\n",
       "  </thead>\n",
       "  <tbody>\n",
       "  </tbody>\n",
       "</table>\n",
       "</div>"
      ],
      "text/plain": [
       "Empty DataFrame\n",
       "Columns: []\n",
       "Index: []"
      ]
     },
     "execution_count": 19,
     "metadata": {},
     "output_type": "execute_result"
    }
   ],
   "source": [
    "traveling_salesman_part1 = \"\"\"\n",
    "\n",
    "WITH $selection as selection\n",
    "MATCH (c:Monument)\n",
    "WHERE c.name in selection\n",
    "WITH collect(c) as monuments\n",
    "UNWIND monuments as c1\n",
    "WITH c1,\n",
    "    [c in monuments where c.name > c1.name | c] as c2s,\n",
    "    monuments\n",
    "UNWIND c2s as c2\n",
    "CALL gds.alpha.shortestPath.stream('monuments',{startNode:c1,endNode:c2,relationshipWeightProperty:'distance'})\n",
    "YIELD nodeId, cost\n",
    "WITH c1,\n",
    "     c2,\n",
    "     max(cost) as totalCost,\n",
    "     collect(nodeId) as shortestHopNodeIds\n",
    "MERGE (c1) -[r:SHORTEST_ROUTE_TO]- (c2)\n",
    "SET r.cost = totalCost,\n",
    "    r.shortestHopNodeIds = shortestHopNodeIds\n",
    "\n",
    "\"\"\"\n",
    "\n",
    "run_query(traveling_salesman_part1, {'selection': selection})"
   ]
  },
  {
   "cell_type": "markdown",
   "metadata": {},
   "source": [
    "In the second step, we will use the apoc.path.expandConfig procedure. It enables us to perform variable-length path traversals with fine-grained control over the traversals. Check out the documentation for more details.\n",
    "We allow the procedure to traverse only SHORTEST_ROUTE_TO relationships with the relationshipFilter parameter and visit only the selected monuments with the whitelistNodes parameter. We ensure that all selected nodes must be visited exactly once by defining the number of hops or levels traversed (minLevel and maxLevel) and with the uniqueness parameter. I know it is a lot to comprehend, and if you need some help, I would suggest asking questions on the Neo4j community site. We then select the path with the minimum sum of relationship weights as the solution. Because we calculate all the possible routes between the chosen monuments, this is a brute-force solution of the traveling salesman problem."
   ]
  },
  {
   "cell_type": "code",
   "execution_count": 20,
   "metadata": {},
   "outputs": [
    {
     "data": {
      "text/html": [
       "<div>\n",
       "<style scoped>\n",
       "    .dataframe tbody tr th:only-of-type {\n",
       "        vertical-align: middle;\n",
       "    }\n",
       "\n",
       "    .dataframe tbody tr th {\n",
       "        vertical-align: top;\n",
       "    }\n",
       "\n",
       "    .dataframe thead th {\n",
       "        text-align: right;\n",
       "    }\n",
       "</style>\n",
       "<table border=\"1\" class=\"dataframe\">\n",
       "  <thead>\n",
       "    <tr style=\"text-align: right;\">\n",
       "      <th></th>\n",
       "      <th>path</th>\n",
       "      <th>total_distance</th>\n",
       "      <th>optional_stops</th>\n",
       "    </tr>\n",
       "  </thead>\n",
       "  <tbody>\n",
       "    <tr>\n",
       "      <th>0</th>\n",
       "      <td>[Castell de Sant Jaume, Castell de Vilaüt, Cas...</td>\n",
       "      <td>126261.0</td>\n",
       "      <td>[Sant Domènec, Torre de guaita de Sant Llorenç...</td>\n",
       "    </tr>\n",
       "  </tbody>\n",
       "</table>\n",
       "</div>"
      ],
      "text/plain": [
       "                                                path  total_distance  \\\n",
       "0  [Castell de Sant Jaume, Castell de Vilaüt, Cas...        126261.0   \n",
       "\n",
       "                                      optional_stops  \n",
       "0  [Sant Domènec, Torre de guaita de Sant Llorenç...  "
      ]
     },
     "execution_count": 20,
     "metadata": {},
     "output_type": "execute_result"
    }
   ],
   "source": [
    "traveling_salesman_part2 = \"\"\"\n",
    "\n",
    "WITH $selection as selection\n",
    "MATCH (c:Monument) \n",
    "WHERE c.name in selection\n",
    "WITH collect(c) as monuments\n",
    "UNWIND monuments as c1\n",
    "WITH c1,\n",
    "    [c in monuments where c.name > c1.name | c] as c2s,\n",
    "    monuments,\n",
    "    (size(monuments) - 1) as level\n",
    "UNWIND c2s as c2\n",
    "CALL apoc.path.expandConfig(c1, {\n",
    "  relationshipFilter: 'SHORTEST_ROUTE_TO',\n",
    "  minLevel: level,\n",
    "  maxLevel: level,\n",
    "  whitelistNodes: monuments,\n",
    "  terminatorNodes: [c2],\n",
    "  uniqueness: 'NODE_PATH'}) \n",
    "YIELD path\n",
    "WITH path,\n",
    "    reduce(cost = 0, x in relationships(path) | cost + x.cost) as totalCost\n",
    "ORDER BY totalCost LIMIT 1\n",
    "WITH path,\n",
    "     totalCost,\n",
    "     apoc.coll.flatten([r in relationships(path) | r.shortestHopNodeIds]) as intermediate_stops,\n",
    "     [n in nodes(path) | id(n)] as node_ids\n",
    "RETURN  [n in nodes(path) | n.name] as path,\n",
    "        round(totalCost) as total_distance,\n",
    "        [optional in intermediate_stops where not optional in node_ids | gds.util.asNode(optional).name] as optional_stops\n",
    "\n",
    "\"\"\"\n",
    "\n",
    "run_query(traveling_salesman_part2, {'selection': selection})"
   ]
  },
  {
   "cell_type": "markdown",
   "metadata": {},
   "source": [
    "In the path column of the results, we have an ordered array of selected monuments to visit. Our travel would start with Castell de Sant Jaume and continue to Castell de Vilaüt and so on. We could dub this the Spanish castle-visiting trip as we selected six castles, and we have an option to see four more along the way. The total air distance of the path is 126 kilometers."
   ]
  },
  {
   "cell_type": "code",
   "execution_count": null,
   "metadata": {},
   "outputs": [],
   "source": []
  }
 ],
 "metadata": {
  "kernelspec": {
   "display_name": "Python 3",
   "language": "python",
   "name": "python3"
  },
  "language_info": {
   "codemirror_mode": {
    "name": "ipython",
    "version": 3
   },
   "file_extension": ".py",
   "mimetype": "text/x-python",
   "name": "python",
   "nbconvert_exporter": "python",
   "pygments_lexer": "ipython3",
   "version": "3.8.2"
  }
 },
 "nbformat": 4,
 "nbformat_minor": 4
}
