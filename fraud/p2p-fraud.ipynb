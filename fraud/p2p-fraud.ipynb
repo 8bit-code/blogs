{
 "cells": [
  {
   "cell_type": "code",
   "execution_count": 1,
   "id": "1213d20e",
   "metadata": {},
   "outputs": [
    {
     "name": "stdout",
     "output_type": "stream",
     "text": [
      "2.0.3\n"
     ]
    }
   ],
   "source": [
    "from graphdatascience import GraphDataScience\n",
    "\n",
    "host = \"bolt://localhost:7687\"\n",
    "user = \"neo4j\"\n",
    "password= \"letmein\"\n",
    "\n",
    "gds = GraphDataScience(host, auth=(user, password))\n",
    "\n",
    "print(gds.version())"
   ]
  },
  {
   "cell_type": "code",
   "execution_count": 2,
   "id": "12b63e96",
   "metadata": {},
   "outputs": [
    {
     "data": {
      "text/html": [
       "<div>\n",
       "<style scoped>\n",
       "    .dataframe tbody tr th:only-of-type {\n",
       "        vertical-align: middle;\n",
       "    }\n",
       "\n",
       "    .dataframe tbody tr th {\n",
       "        vertical-align: top;\n",
       "    }\n",
       "\n",
       "    .dataframe thead th {\n",
       "        text-align: right;\n",
       "    }\n",
       "</style>\n",
       "<table border=\"1\" class=\"dataframe\">\n",
       "  <thead>\n",
       "    <tr style=\"text-align: right;\">\n",
       "      <th></th>\n",
       "      <th>labelCount</th>\n",
       "      <th>relTypeCount</th>\n",
       "      <th>propertyKeyCount</th>\n",
       "      <th>nodeCount</th>\n",
       "      <th>relCount</th>\n",
       "      <th>labels</th>\n",
       "      <th>relTypes</th>\n",
       "      <th>relTypesCount</th>\n",
       "      <th>stats</th>\n",
       "    </tr>\n",
       "  </thead>\n",
       "  <tbody>\n",
       "    <tr>\n",
       "      <th>0</th>\n",
       "      <td>4</td>\n",
       "      <td>5</td>\n",
       "      <td>16</td>\n",
       "      <td>789856</td>\n",
       "      <td>1776743</td>\n",
       "      <td>{'User': 33732, 'Device': 51451, 'IP': 585855,...</td>\n",
       "      <td>{'()-[:HAS_CC]-&gt;()': 128066, '()-[:HAS_CC]-&gt;(:...</td>\n",
       "      <td>{'HAS_IP': 1488949, 'REFERRED': 1870, 'USED': ...</td>\n",
       "      <td>{'relTypeCount': 5, 'propertyKeyCount': 16, 'l...</td>\n",
       "    </tr>\n",
       "  </tbody>\n",
       "</table>\n",
       "</div>"
      ],
      "text/plain": [
       "   labelCount  relTypeCount  propertyKeyCount  nodeCount  relCount  \\\n",
       "0           4             5                16     789856   1776743   \n",
       "\n",
       "                                              labels  \\\n",
       "0  {'User': 33732, 'Device': 51451, 'IP': 585855,...   \n",
       "\n",
       "                                            relTypes  \\\n",
       "0  {'()-[:HAS_CC]->()': 128066, '()-[:HAS_CC]->(:...   \n",
       "\n",
       "                                       relTypesCount  \\\n",
       "0  {'HAS_IP': 1488949, 'REFERRED': 1870, 'USED': ...   \n",
       "\n",
       "                                               stats  \n",
       "0  {'relTypeCount': 5, 'propertyKeyCount': 16, 'l...  "
      ]
     },
     "execution_count": 2,
     "metadata": {},
     "output_type": "execute_result"
    }
   ],
   "source": [
    "gds.run_cypher(\"\"\"\n",
    "CALL apoc.meta.stats()\n",
    "\"\"\")"
   ]
  },
  {
   "cell_type": "code",
   "execution_count": 3,
   "id": "5381aec2",
   "metadata": {},
   "outputs": [],
   "source": [
    "df = gds.run_cypher(\"\"\"\n",
    "MATCH (u:User)\n",
    "RETURN u.guid AS user_id,\n",
    "       u.fraudRisk AS fraudRisk,\n",
    "       u.moneyTransferErrorCancelAmount AS moneyTransferErrorCancelAmount,\n",
    "       size((u)-[:USED]->()) AS numberOfDevices,\n",
    "       size((u)-[:HAS_CC]->()) AS numberOfCCs,\n",
    "       size((u)-[:HAS_IP]->()) AS numberOfIps,\n",
    "       coalesce(apoc.coll.sum([(u)-[out:P2P]->() | out.totalAmount]), 0) AS totalOutgoingAmount,\n",
    "       coalesce(apoc.coll.avg([(u)-[out:P2P]->() | out.totalAmount]), 0) AS avgOutgoingAmount,\n",
    "       coalesce(apoc.coll.max([(u)-[out:P2P]->() | out.totalAmount]), 0) AS maxOutgoingAmount,\n",
    "       coalesce(apoc.coll.sum([(u)<-[in:P2P]-() | in.totalAmount]), 0) AS totalIncomingAmount,\n",
    "       coalesce(apoc.coll.avg([(u)<-[in:P2P]-() | in.totalAmount]), 0) AS avgIncomingAmount,\n",
    "       coalesce(apoc.coll.max([(u)<-[in:P2P]-() | in.totalAmount]), 0) AS maxIncomingAmount,\n",
    "       size((u)-[:P2P]->()) AS outgoingTransactions,\n",
    "       size((u)<-[:P2P]-()) AS incomingTransactions\n",
    "\"\"\")"
   ]
  },
  {
   "cell_type": "code",
   "execution_count": 4,
   "id": "3ca0b417",
   "metadata": {},
   "outputs": [
    {
     "data": {
      "text/html": [
       "<div>\n",
       "<style scoped>\n",
       "    .dataframe tbody tr th:only-of-type {\n",
       "        vertical-align: middle;\n",
       "    }\n",
       "\n",
       "    .dataframe tbody tr th {\n",
       "        vertical-align: top;\n",
       "    }\n",
       "\n",
       "    .dataframe thead th {\n",
       "        text-align: right;\n",
       "    }\n",
       "</style>\n",
       "<table border=\"1\" class=\"dataframe\">\n",
       "  <thead>\n",
       "    <tr style=\"text-align: right;\">\n",
       "      <th></th>\n",
       "      <th>user_id</th>\n",
       "      <th>fraudRisk</th>\n",
       "      <th>moneyTransferErrorCancelAmount</th>\n",
       "      <th>numberOfDevices</th>\n",
       "      <th>numberOfCCs</th>\n",
       "      <th>numberOfIps</th>\n",
       "      <th>totalOutgoingAmount</th>\n",
       "      <th>avgOutgoingAmount</th>\n",
       "      <th>maxOutgoingAmount</th>\n",
       "      <th>totalIncomingAmount</th>\n",
       "      <th>avgIncomingAmount</th>\n",
       "      <th>maxIncomingAmount</th>\n",
       "      <th>outgoingTransactions</th>\n",
       "      <th>incomingTransactions</th>\n",
       "    </tr>\n",
       "  </thead>\n",
       "  <tbody>\n",
       "    <tr>\n",
       "      <th>0</th>\n",
       "      <td>6f5ff01e3c3d9213b330c1a36e4e0d56</td>\n",
       "      <td>0</td>\n",
       "      <td>16752.39</td>\n",
       "      <td>1</td>\n",
       "      <td>5</td>\n",
       "      <td>73</td>\n",
       "      <td>2272.0</td>\n",
       "      <td>98.782609</td>\n",
       "      <td>300.0</td>\n",
       "      <td>1000.00</td>\n",
       "      <td>83.333333</td>\n",
       "      <td>170.00</td>\n",
       "      <td>23</td>\n",
       "      <td>12</td>\n",
       "    </tr>\n",
       "    <tr>\n",
       "      <th>1</th>\n",
       "      <td>42489b0de3619b7558c170791fda29c3</td>\n",
       "      <td>0</td>\n",
       "      <td>14940.54</td>\n",
       "      <td>1</td>\n",
       "      <td>8</td>\n",
       "      <td>88</td>\n",
       "      <td>100.0</td>\n",
       "      <td>100.000000</td>\n",
       "      <td>100.0</td>\n",
       "      <td>100.00</td>\n",
       "      <td>100.000000</td>\n",
       "      <td>100.00</td>\n",
       "      <td>1</td>\n",
       "      <td>1</td>\n",
       "    </tr>\n",
       "    <tr>\n",
       "      <th>2</th>\n",
       "      <td>227146a1ca295356b58e812e00490df5</td>\n",
       "      <td>0</td>\n",
       "      <td>52773.22</td>\n",
       "      <td>1</td>\n",
       "      <td>13</td>\n",
       "      <td>171</td>\n",
       "      <td>206.0</td>\n",
       "      <td>206.000000</td>\n",
       "      <td>206.0</td>\n",
       "      <td>206.00</td>\n",
       "      <td>206.000000</td>\n",
       "      <td>206.00</td>\n",
       "      <td>1</td>\n",
       "      <td>1</td>\n",
       "    </tr>\n",
       "    <tr>\n",
       "      <th>3</th>\n",
       "      <td>665c3c081e8993803548d971b4e1814b</td>\n",
       "      <td>0</td>\n",
       "      <td>233.00</td>\n",
       "      <td>1</td>\n",
       "      <td>2</td>\n",
       "      <td>6</td>\n",
       "      <td>122.0</td>\n",
       "      <td>122.000000</td>\n",
       "      <td>122.0</td>\n",
       "      <td>167.22</td>\n",
       "      <td>83.610000</td>\n",
       "      <td>117.22</td>\n",
       "      <td>1</td>\n",
       "      <td>2</td>\n",
       "    </tr>\n",
       "    <tr>\n",
       "      <th>4</th>\n",
       "      <td>fda32eea75f7aab6b81f0654dd2120d0</td>\n",
       "      <td>0</td>\n",
       "      <td>734.29</td>\n",
       "      <td>1</td>\n",
       "      <td>7</td>\n",
       "      <td>39</td>\n",
       "      <td>0.0</td>\n",
       "      <td>0.000000</td>\n",
       "      <td>0.0</td>\n",
       "      <td>210.00</td>\n",
       "      <td>105.000000</td>\n",
       "      <td>200.00</td>\n",
       "      <td>0</td>\n",
       "      <td>2</td>\n",
       "    </tr>\n",
       "  </tbody>\n",
       "</table>\n",
       "</div>"
      ],
      "text/plain": [
       "                            user_id  fraudRisk  \\\n",
       "0  6f5ff01e3c3d9213b330c1a36e4e0d56          0   \n",
       "1  42489b0de3619b7558c170791fda29c3          0   \n",
       "2  227146a1ca295356b58e812e00490df5          0   \n",
       "3  665c3c081e8993803548d971b4e1814b          0   \n",
       "4  fda32eea75f7aab6b81f0654dd2120d0          0   \n",
       "\n",
       "   moneyTransferErrorCancelAmount  numberOfDevices  numberOfCCs  numberOfIps  \\\n",
       "0                        16752.39                1            5           73   \n",
       "1                        14940.54                1            8           88   \n",
       "2                        52773.22                1           13          171   \n",
       "3                          233.00                1            2            6   \n",
       "4                          734.29                1            7           39   \n",
       "\n",
       "   totalOutgoingAmount  avgOutgoingAmount  maxOutgoingAmount  \\\n",
       "0               2272.0          98.782609              300.0   \n",
       "1                100.0         100.000000              100.0   \n",
       "2                206.0         206.000000              206.0   \n",
       "3                122.0         122.000000              122.0   \n",
       "4                  0.0           0.000000                0.0   \n",
       "\n",
       "   totalIncomingAmount  avgIncomingAmount  maxIncomingAmount  \\\n",
       "0              1000.00          83.333333             170.00   \n",
       "1               100.00         100.000000             100.00   \n",
       "2               206.00         206.000000             206.00   \n",
       "3               167.22          83.610000             117.22   \n",
       "4               210.00         105.000000             200.00   \n",
       "\n",
       "   outgoingTransactions  incomingTransactions  \n",
       "0                    23                    12  \n",
       "1                     1                     1  \n",
       "2                     1                     1  \n",
       "3                     1                     2  \n",
       "4                     0                     2  "
      ]
     },
     "execution_count": 4,
     "metadata": {},
     "output_type": "execute_result"
    }
   ],
   "source": [
    "df.head()"
   ]
  },
  {
   "cell_type": "code",
   "execution_count": 5,
   "id": "66632cba",
   "metadata": {},
   "outputs": [
    {
     "data": {
      "text/html": [
       "<div>\n",
       "<style scoped>\n",
       "    .dataframe tbody tr th:only-of-type {\n",
       "        vertical-align: middle;\n",
       "    }\n",
       "\n",
       "    .dataframe tbody tr th {\n",
       "        vertical-align: top;\n",
       "    }\n",
       "\n",
       "    .dataframe thead th {\n",
       "        text-align: right;\n",
       "    }\n",
       "</style>\n",
       "<table border=\"1\" class=\"dataframe\">\n",
       "  <thead>\n",
       "    <tr style=\"text-align: right;\">\n",
       "      <th></th>\n",
       "      <th>fraudRisk</th>\n",
       "      <th>0</th>\n",
       "    </tr>\n",
       "  </thead>\n",
       "  <tbody>\n",
       "    <tr>\n",
       "      <th>0</th>\n",
       "      <td>0</td>\n",
       "      <td>33521</td>\n",
       "    </tr>\n",
       "    <tr>\n",
       "      <th>1</th>\n",
       "      <td>1</td>\n",
       "      <td>211</td>\n",
       "    </tr>\n",
       "  </tbody>\n",
       "</table>\n",
       "</div>"
      ],
      "text/plain": [
       "   fraudRisk      0\n",
       "0          0  33521\n",
       "1          1    211"
      ]
     },
     "execution_count": 5,
     "metadata": {},
     "output_type": "execute_result"
    }
   ],
   "source": [
    "df.groupby('fraudRisk').size().reset_index()"
   ]
  },
  {
   "cell_type": "code",
   "execution_count": 6,
   "id": "cb367423",
   "metadata": {},
   "outputs": [
    {
     "data": {
      "text/plain": [
       "<AxesSubplot:>"
      ]
     },
     "execution_count": 6,
     "metadata": {},
     "output_type": "execute_result"
    },
    {
     "data": {
      "image/png": "[encoded data removed]",
      "text/plain": [
       "<Figure size 432x288 with 2 Axes>"
      ]
     },
     "metadata": {
      "needs_background": "light"
     },
     "output_type": "display_data"
    }
   ],
   "source": [
    "import seaborn as sns\n",
    "corr = df.corr()\n",
    "sns.heatmap(corr, \n",
    "            xticklabels=corr.columns.values,\n",
    "            yticklabels=corr.columns.values,\n",
    "            cmap=\"Blues\")"
   ]
  },
  {
   "cell_type": "code",
   "execution_count": 7,
   "id": "d3abee73",
   "metadata": {},
   "outputs": [],
   "source": [
    "import pandas as pd\n",
    "\n",
    "from imblearn.over_sampling import SMOTE\n",
    "from sklearn.preprocessing import LabelBinarizer, MinMaxScaler, StandardScaler\n",
    "from sklearn.model_selection import train_test_split\n",
    "from sklearn.metrics import confusion_matrix, classification_report, plot_roc_curve\n",
    "from sklearn.metrics import ConfusionMatrixDisplay\n",
    "\n",
    "\n",
    "from sklearn.ensemble import RandomForestClassifier"
   ]
  },
  {
   "cell_type": "code",
   "execution_count": 8,
   "id": "2b049b2f",
   "metadata": {},
   "outputs": [],
   "source": [
    "def feature_importance(columns, classifier):        \n",
    "    features = list(zip(columns, classifier.feature_importances_))\n",
    "    sorted_features = sorted(features, key = lambda x: x[1]*-1)\n",
    "    \n",
    "    keys = [value[0] for value in sorted_features]\n",
    "    values = [value[1] for value in sorted_features]\n",
    "    return pd.DataFrame(data={'feature': keys, 'value': values})\n",
    "\n",
    "def get_roc_curve(df):\n",
    "    df_X = df.drop('fraudRisk', axis=1)\n",
    "    df_y = df[['fraudRisk']]\n",
    "\n",
    "    X = df_X.values\n",
    "    y = df_y.values\n",
    "\n",
    "    y = LabelBinarizer().fit_transform(y)\n",
    "    \n",
    "    # Test/train data split\n",
    "    X_train, X_test, y_train, y_test = train_test_split(X, y, test_size = 0.2, random_state=42, stratify=y)\n",
    "    \n",
    "    # Oversample only the training data\n",
    "    oversample = SMOTE(random_state=42)\n",
    "    X_train, y_train = oversample.fit_resample(X_train, y_train)\n",
    "\n",
    "    # Random forrest classification\n",
    "    model = RandomForestClassifier(n_estimators=500, random_state=42, max_depth=5, bootstrap=True, class_weight='balanced')\n",
    "    model = model.fit(X_train, y_train)\n",
    "    \n",
    "    y_pred_test = model.predict(X_test)\n",
    "    \n",
    "    cm = confusion_matrix(y_test, y_pred_test, labels=model.classes_, normalize='true')\n",
    "    disp = ConfusionMatrixDisplay(confusion_matrix=cm,\n",
    "                              display_labels=model.classes_)\n",
    "    disp.plot()\n",
    "    \n",
    "    plot_roc_curve(model, X_test, y_test)\n",
    "    print(classification_report(y_test, y_pred_test))\n",
    "    \n",
    "    return feature_importance(df_X.columns.to_list(), model)"
   ]
  },
  {
   "cell_type": "code",
   "execution_count": 9,
   "id": "19e86468",
   "metadata": {},
   "outputs": [],
   "source": [
    "final_df = df[['fraudRisk', 'moneyTransferErrorCancelAmount', 'numberOfDevices', 'numberOfCCs', 'numberOfIps', \n",
    "               'totalOutgoingAmount','maxOutgoingAmount', 'avgOutgoingAmount',\n",
    "               'totalIncomingAmount', 'maxIncomingAmount', 'avgIncomingAmount',\n",
    "               'outgoingTransactions','incomingTransactions']]"
   ]
  },
  {
   "cell_type": "code",
   "execution_count": 10,
   "id": "537dcb9f",
   "metadata": {},
   "outputs": [
    {
     "name": "stdout",
     "output_type": "stream",
     "text": [
      "              precision    recall  f1-score   support\n",
      "\n",
      "           0       1.00      0.86      0.92      6705\n",
      "           1       0.02      0.48      0.04        42\n",
      "\n",
      "    accuracy                           0.86      6747\n",
      "   macro avg       0.51      0.67      0.48      6747\n",
      "weighted avg       0.99      0.86      0.92      6747\n",
      "\n"
     ]
    },
    {
     "data": {
      "image/png": "[encoded data removed]",
      "text/plain": [
       "<Figure size 432x288 with 2 Axes>"
      ]
     },
     "metadata": {
      "needs_background": "light"
     },
     "output_type": "display_data"
    },
    {
     "data": {
      "image/png": "[encoded data removed]",
      "text/plain": [
       "<Figure size 432x288 with 1 Axes>"
      ]
     },
     "metadata": {
      "needs_background": "light"
     },
     "output_type": "display_data"
    }
   ],
   "source": [
    "importance, plot = get_roc_curve(final_df)\n"
   ]
  },
  {
   "cell_type": "code",
   "execution_count": 11,
   "id": "d70e167b",
   "metadata": {},
   "outputs": [
    {
     "data": {
      "text/plain": [
       "'feature'"
      ]
     },
     "execution_count": 11,
     "metadata": {},
     "output_type": "execute_result"
    }
   ],
   "source": [
    "importance"
   ]
  },
  {
   "cell_type": "code",
   "execution_count": 12,
   "id": "9d854376",
   "metadata": {},
   "outputs": [],
   "source": [
    "# Enter graph"
   ]
  },
  {
   "cell_type": "code",
   "execution_count": 13,
   "id": "dc970138",
   "metadata": {},
   "outputs": [],
   "source": [
    "G, res = gds.graph.project('fraud', ['User', 'Card'], \n",
    "    {'HAS_CC':{\n",
    "       'type':'HAS_CC'\n",
    "    },\n",
    "    'P2P':{\n",
    "       'type':'P2P',\n",
    "       'properties':{\n",
    "          'totalAmount':{\n",
    "             'aggregation':'SUM'\n",
    "          }\n",
    "       }\n",
    "    }})"
   ]
  },
  {
   "cell_type": "code",
   "execution_count": 14,
   "id": "d55901cc",
   "metadata": {},
   "outputs": [],
   "source": [
    "# User - Card WCC\n",
    "graph_features = gds.wcc.stream(G, nodeLabels=['User', 'Card'], relationshipTypes=['HAS_CC'])\n",
    "graph_features['node_object'] = gds.util.asNodes(graph_features['nodeId'].to_list())\n",
    "# Filter only user nodes\n",
    "graph_features = graph_features[[list(x.labels)[0] == 'User' for x in graph_features['node_object']]]\n",
    "# Get component sizes\n",
    "graph_features = graph_features.merge(graph_features.groupby('componentId').size().to_frame('componentSize').reset_index(), on=\"componentId\")\n",
    "graph_features['part_of_community'] = graph_features['componentSize'] > 1\n",
    "graph_features['part_of_community'] = graph_features['part_of_community'].astype(int)\n",
    "\n",
    "# Get user ids\n",
    "graph_features['user_id'] = [el.get('guid') for el in graph_features['node_object']]"
   ]
  },
  {
   "cell_type": "code",
   "execution_count": 15,
   "id": "9983c200",
   "metadata": {},
   "outputs": [],
   "source": [
    "# pagerank\n",
    "pr = gds.pageRank.stream(G, nodeLabels=['User'], relationshipTypes=['P2P'], relationshipWeightProperty='totalAmount')\n",
    "pr['pagerank'] = pr['score']\n",
    "graph_features = graph_features.merge(pr[['nodeId', 'pagerank']], on='nodeId')\n",
    "# Closeness centrality\n",
    "bc = gds.beta.closeness.stream(G, nodeLabels=['User'], relationshipTypes=['P2P'])\n",
    "bc['closeness'] = bc['score']\n",
    "graph_features = graph_features.merge(bc[['nodeId', 'closeness']], on='nodeId')\n",
    "# Merge to original df\n",
    "df = df.merge(graph_features[['user_id', 'componentSize', 'part_of_community', 'pagerank', 'closeness']], on='user_id')"
   ]
  },
  {
   "cell_type": "code",
   "execution_count": 16,
   "id": "1424d7e4",
   "metadata": {},
   "outputs": [],
   "source": [
    "# Drop the projected graph\n",
    "G.drop()"
   ]
  },
  {
   "cell_type": "code",
   "execution_count": 17,
   "id": "0b914683",
   "metadata": {},
   "outputs": [],
   "source": [
    "final_df = df[['fraudRisk', 'moneyTransferErrorCancelAmount', 'numberOfDevices', 'numberOfCCs', 'numberOfIps', \n",
    "               'totalOutgoingAmount','maxOutgoingAmount', 'avgOutgoingAmount',\n",
    "               'totalIncomingAmount', 'maxIncomingAmount', 'avgIncomingAmount',\n",
    "               'outgoingTransactions','incomingTransactions', 'componentSize', 'part_of_community', 'pagerank', 'closeness']]"
   ]
  },
  {
   "cell_type": "code",
   "execution_count": 18,
   "id": "9aabaf01",
   "metadata": {},
   "outputs": [
    {
     "name": "stdout",
     "output_type": "stream",
     "text": [
      "              precision    recall  f1-score   support\n",
      "\n",
      "           0       1.00      0.90      0.95      6705\n",
      "           1       0.05      0.76      0.09        42\n",
      "\n",
      "    accuracy                           0.90      6747\n",
      "   macro avg       0.52      0.83      0.52      6747\n",
      "weighted avg       0.99      0.90      0.94      6747\n",
      "\n"
     ]
    },
    {
     "data": {
      "image/png": "[encoded data removed]",
      "text/plain": [
       "<Figure size 432x288 with 2 Axes>"
      ]
     },
     "metadata": {
      "needs_background": "light"
     },
     "output_type": "display_data"
    },
    {
     "data": {
      "image/png": "[encoded data removed]",
      "text/plain": [
       "<Figure size 432x288 with 1 Axes>"
      ]
     },
     "metadata": {
      "needs_background": "light"
     },
     "output_type": "display_data"
    }
   ],
   "source": [
    "importance = get_roc_curve(final_df)"
   ]
  },
  {
   "cell_type": "code",
   "execution_count": 19,
   "id": "b0e04212",
   "metadata": {},
   "outputs": [
    {
     "data": {
      "text/html": [
       "<div>\n",
       "<style scoped>\n",
       "    .dataframe tbody tr th:only-of-type {\n",
       "        vertical-align: middle;\n",
       "    }\n",
       "\n",
       "    .dataframe tbody tr th {\n",
       "        vertical-align: top;\n",
       "    }\n",
       "\n",
       "    .dataframe thead th {\n",
       "        text-align: right;\n",
       "    }\n",
       "</style>\n",
       "<table border=\"1\" class=\"dataframe\">\n",
       "  <thead>\n",
       "    <tr style=\"text-align: right;\">\n",
       "      <th></th>\n",
       "      <th>feature</th>\n",
       "      <th>value</th>\n",
       "    </tr>\n",
       "  </thead>\n",
       "  <tbody>\n",
       "    <tr>\n",
       "      <th>0</th>\n",
       "      <td>componentSize</td>\n",
       "      <td>0.404256</td>\n",
       "    </tr>\n",
       "    <tr>\n",
       "      <th>1</th>\n",
       "      <td>part_of_community</td>\n",
       "      <td>0.288862</td>\n",
       "    </tr>\n",
       "    <tr>\n",
       "      <th>2</th>\n",
       "      <td>numberOfDevices</td>\n",
       "      <td>0.088540</td>\n",
       "    </tr>\n",
       "    <tr>\n",
       "      <th>3</th>\n",
       "      <td>incomingTransactions</td>\n",
       "      <td>0.044568</td>\n",
       "    </tr>\n",
       "    <tr>\n",
       "      <th>4</th>\n",
       "      <td>maxIncomingAmount</td>\n",
       "      <td>0.036755</td>\n",
       "    </tr>\n",
       "    <tr>\n",
       "      <th>5</th>\n",
       "      <td>closeness</td>\n",
       "      <td>0.028991</td>\n",
       "    </tr>\n",
       "    <tr>\n",
       "      <th>6</th>\n",
       "      <td>avgIncomingAmount</td>\n",
       "      <td>0.028216</td>\n",
       "    </tr>\n",
       "    <tr>\n",
       "      <th>7</th>\n",
       "      <td>totalIncomingAmount</td>\n",
       "      <td>0.019441</td>\n",
       "    </tr>\n",
       "    <tr>\n",
       "      <th>8</th>\n",
       "      <td>numberOfIps</td>\n",
       "      <td>0.012721</td>\n",
       "    </tr>\n",
       "    <tr>\n",
       "      <th>9</th>\n",
       "      <td>numberOfCCs</td>\n",
       "      <td>0.010989</td>\n",
       "    </tr>\n",
       "    <tr>\n",
       "      <th>10</th>\n",
       "      <td>pagerank</td>\n",
       "      <td>0.010243</td>\n",
       "    </tr>\n",
       "    <tr>\n",
       "      <th>11</th>\n",
       "      <td>moneyTransferErrorCancelAmount</td>\n",
       "      <td>0.006547</td>\n",
       "    </tr>\n",
       "    <tr>\n",
       "      <th>12</th>\n",
       "      <td>avgOutgoingAmount</td>\n",
       "      <td>0.005448</td>\n",
       "    </tr>\n",
       "    <tr>\n",
       "      <th>13</th>\n",
       "      <td>outgoingTransactions</td>\n",
       "      <td>0.005240</td>\n",
       "    </tr>\n",
       "    <tr>\n",
       "      <th>14</th>\n",
       "      <td>maxOutgoingAmount</td>\n",
       "      <td>0.004805</td>\n",
       "    </tr>\n",
       "    <tr>\n",
       "      <th>15</th>\n",
       "      <td>totalOutgoingAmount</td>\n",
       "      <td>0.004378</td>\n",
       "    </tr>\n",
       "  </tbody>\n",
       "</table>\n",
       "</div>"
      ],
      "text/plain": [
       "                           feature     value\n",
       "0                    componentSize  0.404256\n",
       "1                part_of_community  0.288862\n",
       "2                  numberOfDevices  0.088540\n",
       "3             incomingTransactions  0.044568\n",
       "4                maxIncomingAmount  0.036755\n",
       "5                        closeness  0.028991\n",
       "6                avgIncomingAmount  0.028216\n",
       "7              totalIncomingAmount  0.019441\n",
       "8                      numberOfIps  0.012721\n",
       "9                      numberOfCCs  0.010989\n",
       "10                        pagerank  0.010243\n",
       "11  moneyTransferErrorCancelAmount  0.006547\n",
       "12               avgOutgoingAmount  0.005448\n",
       "13            outgoingTransactions  0.005240\n",
       "14               maxOutgoingAmount  0.004805\n",
       "15             totalOutgoingAmount  0.004378"
      ]
     },
     "execution_count": 19,
     "metadata": {},
     "output_type": "execute_result"
    }
   ],
   "source": [
    "importance"
   ]
  },
  {
   "cell_type": "code",
   "execution_count": null,
   "id": "f103e9c6",
   "metadata": {},
   "outputs": [],
   "source": []
  }
 ],
 "metadata": {
  "kernelspec": {
   "display_name": "Python 3",
   "language": "python",
   "name": "python3"
  },
  "language_info": {
   "codemirror_mode": {
    "name": "ipython",
    "version": 3
   },
   "file_extension": ".py",
   "mimetype": "text/x-python",
   "name": "python",
   "nbconvert_exporter": "python",
   "pygments_lexer": "ipython3",
   "version": "3.8.8"
  }
 },
 "nbformat": 4,
 "nbformat_minor": 5
}
