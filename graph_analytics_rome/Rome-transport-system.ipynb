{
 "cells": [
  {
   "cell_type": "code",
   "execution_count": 1,
   "metadata": {},
   "outputs": [],
   "source": [
    "from neo4j.v1 import GraphDatabase\n",
    "driver = GraphDatabase.driver('bolt://localhost:7687',auth=('neo4j', 'password'))"
   ]
  },
  {
   "cell_type": "code",
   "execution_count": 2,
   "metadata": {},
   "outputs": [],
   "source": [
    "def run_query(query):\n",
    "    with driver.session() as session:\n",
    "        session.run(query)"
   ]
  },
  {
   "cell_type": "markdown",
   "metadata": {},
   "source": [
    "## Constraints"
   ]
  },
  {
   "cell_type": "code",
   "execution_count": 3,
   "metadata": {},
   "outputs": [],
   "source": [
    "spot_constraint_query = \"CREATE CONSTRAINT ON (m:Stop) ASSERT m.id IS UNIQUE;\"\n",
    "run_query(spot_constraint_query)"
   ]
  },
  {
   "cell_type": "markdown",
   "metadata": {},
   "source": [
    "## Import data"
   ]
  },
  {
   "cell_type": "code",
   "execution_count": 4,
   "metadata": {},
   "outputs": [],
   "source": [
    "import_nodes_query = \"\"\"\n",
    "\n",
    "LOAD CSV WITH HEADERS FROM \"file:///network_nodes.csv\" as row FIELDTERMINATOR \";\"\n",
    "MERGE (s:Stop{id:row.stop_I})\n",
    "SET s+=apoc.map.clean(row,['stop_I'],[])\n",
    "\n",
    "\"\"\""
   ]
  },
  {
   "cell_type": "code",
   "execution_count": 5,
   "metadata": {},
   "outputs": [],
   "source": [
    "run_query(import_nodes_query)"
   ]
  },
  {
   "cell_type": "code",
   "execution_count": 6,
   "metadata": {},
   "outputs": [],
   "source": [
    "import_rels_query = \"\"\"\n",
    "\n",
    "UNWIND ['walk','bus','tram','rail','subway'] as mode\n",
    "LOAD CSV WITH HEADERS FROM \"file:///network_\" + mode + \".csv\" as row FIELDTERMINATOR \";\"\n",
    "MATCH (from:Stop{id:row.from_stop_I}),(to:Stop{id:row.to_stop_I})\n",
    "CALL apoc.create.relationship(from, toUpper(mode),\n",
    "{distance:toInteger(row.d),duration_avg:toFloat(row.duration_avg)}, to) YIELD rel\n",
    "RETURN distinct 'done'\n",
    "\n",
    "\"\"\""
   ]
  },
  {
   "cell_type": "code",
   "execution_count": 7,
   "metadata": {},
   "outputs": [],
   "source": [
    "run_query(import_rels_query)"
   ]
  },
  {
   "cell_type": "markdown",
   "metadata": {},
   "source": [
    "## Preprocess attributes"
   ]
  },
  {
   "cell_type": "code",
   "execution_count": 8,
   "metadata": {},
   "outputs": [],
   "source": [
    "walking_duration_calculation = \"\"\"\n",
    "WITH 1.38889 as walking_speed\n",
    "MATCH (:Stop)-[w:WALK]->()\n",
    "SET w.duration_avg = toFloat(w.distance) / walking_speed\n",
    "\"\"\""
   ]
  },
  {
   "cell_type": "code",
   "execution_count": 9,
   "metadata": {},
   "outputs": [],
   "source": [
    "run_query(walking_duration_calculation)"
   ]
  },
  {
   "cell_type": "markdown",
   "metadata": {},
   "source": [
    "# Graph algorithms"
   ]
  },
  {
   "cell_type": "markdown",
   "metadata": {},
   "source": [
    "## Load the graph"
   ]
  },
  {
   "cell_type": "code",
   "execution_count": 10,
   "metadata": {},
   "outputs": [],
   "source": [
    "load_algo_graph = \"\"\"\n",
    "CALL algo.graph.load('rome','Stop',\n",
    "    'BUS | RAIL | SUBWAY | TRAM | WALK',\n",
    "    { \n",
    "       duplicateRelationships:'min',\n",
    "       relationshipProperties:{ \n",
    "          distance:{ \n",
    "             property:'distance'\n",
    "          },\n",
    "          duration:{ \n",
    "             property:'duration_avg'\n",
    "          }\n",
    "       }\n",
    "    })\n",
    "\"\"\""
   ]
  },
  {
   "cell_type": "code",
   "execution_count": 11,
   "metadata": {},
   "outputs": [],
   "source": [
    "run_query(load_algo_graph)"
   ]
  },
  {
   "cell_type": "markdown",
   "metadata": {},
   "source": [
    "## PageRank"
   ]
  },
  {
   "cell_type": "code",
   "execution_count": 12,
   "metadata": {},
   "outputs": [],
   "source": [
    "import pandas as pd\n",
    "\n",
    "def read_query(query):\n",
    "    with driver.session() as session:\n",
    "        result = session.run(query)\n",
    "        return pd.DataFrame([r.values() for r in result], columns=result.keys())\n",
    "    "
   ]
  },
  {
   "cell_type": "code",
   "execution_count": 13,
   "metadata": {},
   "outputs": [],
   "source": [
    "# Pagerank on a single relationship type\n",
    "pagerank_single_rel = \"\"\"\n",
    "CALL algo.pageRank.stream('Stop','TRAM',{graph:'rome'})\n",
    "YIELD nodeId, score\n",
    "WITH nodeId, score\n",
    "ORDER BY score DESC LIMIT 5\n",
    "RETURN algo.asNode(nodeId).name as name, score\n",
    "\"\"\""
   ]
  },
  {
   "cell_type": "code",
   "execution_count": 14,
   "metadata": {},
   "outputs": [
    {
     "data": {
      "text/html": [
       "<div>\n",
       "<style scoped>\n",
       "    .dataframe tbody tr th:only-of-type {\n",
       "        vertical-align: middle;\n",
       "    }\n",
       "\n",
       "    .dataframe tbody tr th {\n",
       "        vertical-align: top;\n",
       "    }\n",
       "\n",
       "    .dataframe thead th {\n",
       "        text-align: right;\n",
       "    }\n",
       "</style>\n",
       "<table border=\"1\" class=\"dataframe\">\n",
       "  <thead>\n",
       "    <tr style=\"text-align: right;\">\n",
       "      <th></th>\n",
       "      <th>name</th>\n",
       "      <th>score</th>\n",
       "    </tr>\n",
       "  </thead>\n",
       "  <tbody>\n",
       "    <tr>\n",
       "      <th>0</th>\n",
       "      <td>LABICANO/PORTA MAGGIORE</td>\n",
       "      <td>2.088341</td>\n",
       "    </tr>\n",
       "    <tr>\n",
       "      <th>1</th>\n",
       "      <td>PRENESTINA/TOR DE' SCHIAVI</td>\n",
       "      <td>1.728012</td>\n",
       "    </tr>\n",
       "    <tr>\n",
       "      <th>2</th>\n",
       "      <td>TRASTEVERE/MIN. P.ISTRUZIONE</td>\n",
       "      <td>1.699413</td>\n",
       "    </tr>\n",
       "    <tr>\n",
       "      <th>3</th>\n",
       "      <td>PRENESTINA/OLEVANO ROMANO</td>\n",
       "      <td>1.613868</td>\n",
       "    </tr>\n",
       "    <tr>\n",
       "      <th>4</th>\n",
       "      <td>TRASTEVERE/BERNARD. DA FELTRE</td>\n",
       "      <td>1.587089</td>\n",
       "    </tr>\n",
       "  </tbody>\n",
       "</table>\n",
       "</div>"
      ],
      "text/plain": [
       "                            name     score\n",
       "0        LABICANO/PORTA MAGGIORE  2.088341\n",
       "1     PRENESTINA/TOR DE' SCHIAVI  1.728012\n",
       "2   TRASTEVERE/MIN. P.ISTRUZIONE  1.699413\n",
       "3      PRENESTINA/OLEVANO ROMANO  1.613868\n",
       "4  TRASTEVERE/BERNARD. DA FELTRE  1.587089"
      ]
     },
     "execution_count": 14,
     "metadata": {},
     "output_type": "execute_result"
    }
   ],
   "source": [
    "read_query(pagerank_single_rel)"
   ]
  },
  {
   "cell_type": "code",
   "execution_count": 15,
   "metadata": {},
   "outputs": [],
   "source": [
    "# Pagerank on multi relatioship types\n",
    "pagerank_multi_rel = \"\"\"\n",
    "CALL algo.pageRank.stream('Stop','TRAM | RAIL | BUS',{graph:'rome'})\n",
    "YIELD nodeId, score\n",
    "WITH nodeId, score\n",
    "ORDER BY score DESC LIMIT 5\n",
    "RETURN algo.asNode(nodeId).name as name, score\n",
    "\"\"\""
   ]
  },
  {
   "cell_type": "code",
   "execution_count": 16,
   "metadata": {},
   "outputs": [
    {
     "data": {
      "text/html": [
       "<div>\n",
       "<style scoped>\n",
       "    .dataframe tbody tr th:only-of-type {\n",
       "        vertical-align: middle;\n",
       "    }\n",
       "\n",
       "    .dataframe tbody tr th {\n",
       "        vertical-align: top;\n",
       "    }\n",
       "\n",
       "    .dataframe thead th {\n",
       "        text-align: right;\n",
       "    }\n",
       "</style>\n",
       "<table border=\"1\" class=\"dataframe\">\n",
       "  <thead>\n",
       "    <tr style=\"text-align: right;\">\n",
       "      <th></th>\n",
       "      <th>name</th>\n",
       "      <th>score</th>\n",
       "    </tr>\n",
       "  </thead>\n",
       "  <tbody>\n",
       "    <tr>\n",
       "      <th>0</th>\n",
       "      <td>LGT SASSIA/S. SPIRITO (H)</td>\n",
       "      <td>5.348166</td>\n",
       "    </tr>\n",
       "    <tr>\n",
       "      <th>1</th>\n",
       "      <td>TUSCOLANA/ROCCELLA JONICA</td>\n",
       "      <td>4.598942</td>\n",
       "    </tr>\n",
       "    <tr>\n",
       "      <th>2</th>\n",
       "      <td>LAURENTINA/DOUHET</td>\n",
       "      <td>4.121394</td>\n",
       "    </tr>\n",
       "    <tr>\n",
       "      <th>3</th>\n",
       "      <td>PETROSELLI</td>\n",
       "      <td>4.097599</td>\n",
       "    </tr>\n",
       "    <tr>\n",
       "      <th>4</th>\n",
       "      <td>ANAGNINA/CASALE FERRANTI</td>\n",
       "      <td>4.037861</td>\n",
       "    </tr>\n",
       "  </tbody>\n",
       "</table>\n",
       "</div>"
      ],
      "text/plain": [
       "                        name     score\n",
       "0  LGT SASSIA/S. SPIRITO (H)  5.348166\n",
       "1  TUSCOLANA/ROCCELLA JONICA  4.598942\n",
       "2          LAURENTINA/DOUHET  4.121394\n",
       "3                 PETROSELLI  4.097599\n",
       "4   ANAGNINA/CASALE FERRANTI  4.037861"
      ]
     },
     "execution_count": 16,
     "metadata": {},
     "output_type": "execute_result"
    }
   ],
   "source": [
    "read_query(pagerank_multi_rel)"
   ]
  },
  {
   "cell_type": "code",
   "execution_count": 17,
   "metadata": {},
   "outputs": [],
   "source": [
    "# Connected components writeback\n",
    "connected_components_query = \"\"\"\n",
    "UNWIND [\"BUS\",\"RAIL\",\"SUBWAY\",\"TRAM\",\"WALK\"] as mode\n",
    "CALL algo.unionFind('Stop',mode,{writeProperty:toLower(mode) + \"_component\"})\n",
    "YIELD computeMillis\n",
    "RETURN distinct 'done'\n",
    "\"\"\""
   ]
  },
  {
   "cell_type": "code",
   "execution_count": 18,
   "metadata": {},
   "outputs": [],
   "source": [
    "run_query(connected_components_query)"
   ]
  },
  {
   "cell_type": "code",
   "execution_count": 19,
   "metadata": {},
   "outputs": [],
   "source": [
    "# Explore subway network components\n",
    "explore_subway_component_query = \"\"\"\n",
    "MATCH (s:Stop)\n",
    "WHERE exists(s.subway_component)\n",
    "RETURN s.subway_component as component,\n",
    "       collect(s.name)[..3] as example_members,\n",
    "count(*) as size\n",
    "ORDER BY size DESC\n",
    "LIMIT 10\n",
    "\"\"\""
   ]
  },
  {
   "cell_type": "code",
   "execution_count": 20,
   "metadata": {},
   "outputs": [
    {
     "data": {
      "text/html": [
       "<div>\n",
       "<style scoped>\n",
       "    .dataframe tbody tr th:only-of-type {\n",
       "        vertical-align: middle;\n",
       "    }\n",
       "\n",
       "    .dataframe tbody tr th {\n",
       "        vertical-align: top;\n",
       "    }\n",
       "\n",
       "    .dataframe thead th {\n",
       "        text-align: right;\n",
       "    }\n",
       "</style>\n",
       "<table border=\"1\" class=\"dataframe\">\n",
       "  <thead>\n",
       "    <tr style=\"text-align: right;\">\n",
       "      <th></th>\n",
       "      <th>component</th>\n",
       "      <th>example_members</th>\n",
       "      <th>size</th>\n",
       "    </tr>\n",
       "  </thead>\n",
       "  <tbody>\n",
       "    <tr>\n",
       "      <th>0</th>\n",
       "      <td>7748</td>\n",
       "      <td>[ANAGNINA, FURIO CAMILLO, PONTE LUNGO]</td>\n",
       "      <td>27</td>\n",
       "    </tr>\n",
       "    <tr>\n",
       "      <th>1</th>\n",
       "      <td>7721</td>\n",
       "      <td>[BATTISTINI, BARBERINI, REPUBBLICA]</td>\n",
       "      <td>27</td>\n",
       "    </tr>\n",
       "    <tr>\n",
       "      <th>2</th>\n",
       "      <td>7801</td>\n",
       "      <td>[LAURENTINA, COLOSSEO, CAVOUR]</td>\n",
       "      <td>26</td>\n",
       "    </tr>\n",
       "    <tr>\n",
       "      <th>3</th>\n",
       "      <td>7775</td>\n",
       "      <td>[REBIBBIA, CASTRO PRETORIO, TERMINI]</td>\n",
       "      <td>26</td>\n",
       "    </tr>\n",
       "    <tr>\n",
       "      <th>4</th>\n",
       "      <td>7848</td>\n",
       "      <td>[PANTANO, GRANITI, FINOCCHIO]</td>\n",
       "      <td>21</td>\n",
       "    </tr>\n",
       "    <tr>\n",
       "      <th>5</th>\n",
       "      <td>7827</td>\n",
       "      <td>[PANTANO, GRANITI, FINOCCHIO]</td>\n",
       "      <td>21</td>\n",
       "    </tr>\n",
       "    <tr>\n",
       "      <th>6</th>\n",
       "      <td>6</td>\n",
       "      <td>[Villa Bonelli]</td>\n",
       "      <td>1</td>\n",
       "    </tr>\n",
       "    <tr>\n",
       "      <th>7</th>\n",
       "      <td>5</td>\n",
       "      <td>[Muratella]</td>\n",
       "      <td>1</td>\n",
       "    </tr>\n",
       "    <tr>\n",
       "      <th>8</th>\n",
       "      <td>2</td>\n",
       "      <td>[La Storta]</td>\n",
       "      <td>1</td>\n",
       "    </tr>\n",
       "    <tr>\n",
       "      <th>9</th>\n",
       "      <td>4</td>\n",
       "      <td>[Torricola]</td>\n",
       "      <td>1</td>\n",
       "    </tr>\n",
       "  </tbody>\n",
       "</table>\n",
       "</div>"
      ],
      "text/plain": [
       "   component                         example_members  size\n",
       "0       7748  [ANAGNINA, FURIO CAMILLO, PONTE LUNGO]    27\n",
       "1       7721     [BATTISTINI, BARBERINI, REPUBBLICA]    27\n",
       "2       7801          [LAURENTINA, COLOSSEO, CAVOUR]    26\n",
       "3       7775    [REBIBBIA, CASTRO PRETORIO, TERMINI]    26\n",
       "4       7848           [PANTANO, GRANITI, FINOCCHIO]    21\n",
       "5       7827           [PANTANO, GRANITI, FINOCCHIO]    21\n",
       "6          6                         [Villa Bonelli]     1\n",
       "7          5                             [Muratella]     1\n",
       "8          2                             [La Storta]     1\n",
       "9          4                             [Torricola]     1"
      ]
     },
     "execution_count": 20,
     "metadata": {},
     "output_type": "execute_result"
    }
   ],
   "source": [
    "read_query(explore_subway_component_query)"
   ]
  },
  {
   "cell_type": "markdown",
   "metadata": {},
   "source": [
    "## Shortest Path"
   ]
  },
  {
   "cell_type": "code",
   "execution_count": 21,
   "metadata": {},
   "outputs": [],
   "source": [
    "# Shortest path using single relationship type\n",
    "shortest_path_single_rel_query = \"\"\"\n",
    "MATCH (start:Stop{name:'Parco Leonardo'}),(end:Stop{name:'Roma Trastevere'})\n",
    "CALL algo.shortestPath.stream(start,end,'distance',{graph:'rome',relationshipQuery:'RAIL'})\n",
    "YIELD nodeId,cost\n",
    "RETURN algo.asNode(nodeId).name as name, cost as meters\n",
    "\"\"\""
   ]
  },
  {
   "cell_type": "code",
   "execution_count": 22,
   "metadata": {},
   "outputs": [
    {
     "data": {
      "text/html": [
       "<div>\n",
       "<style scoped>\n",
       "    .dataframe tbody tr th:only-of-type {\n",
       "        vertical-align: middle;\n",
       "    }\n",
       "\n",
       "    .dataframe tbody tr th {\n",
       "        vertical-align: top;\n",
       "    }\n",
       "\n",
       "    .dataframe thead th {\n",
       "        text-align: right;\n",
       "    }\n",
       "</style>\n",
       "<table border=\"1\" class=\"dataframe\">\n",
       "  <thead>\n",
       "    <tr style=\"text-align: right;\">\n",
       "      <th></th>\n",
       "      <th>name</th>\n",
       "      <th>meters</th>\n",
       "    </tr>\n",
       "  </thead>\n",
       "  <tbody>\n",
       "    <tr>\n",
       "      <th>0</th>\n",
       "      <td>Parco Leonardo</td>\n",
       "      <td>0.0</td>\n",
       "    </tr>\n",
       "    <tr>\n",
       "      <th>1</th>\n",
       "      <td>Fiera di Roma</td>\n",
       "      <td>2217.0</td>\n",
       "    </tr>\n",
       "    <tr>\n",
       "      <th>2</th>\n",
       "      <td>Ponte Galeria</td>\n",
       "      <td>4537.0</td>\n",
       "    </tr>\n",
       "    <tr>\n",
       "      <th>3</th>\n",
       "      <td>Muratella</td>\n",
       "      <td>9886.0</td>\n",
       "    </tr>\n",
       "    <tr>\n",
       "      <th>4</th>\n",
       "      <td>Magliana</td>\n",
       "      <td>12020.0</td>\n",
       "    </tr>\n",
       "    <tr>\n",
       "      <th>5</th>\n",
       "      <td>Villa Bonelli</td>\n",
       "      <td>14529.0</td>\n",
       "    </tr>\n",
       "    <tr>\n",
       "      <th>6</th>\n",
       "      <td>Roma Trastevere</td>\n",
       "      <td>17403.0</td>\n",
       "    </tr>\n",
       "  </tbody>\n",
       "</table>\n",
       "</div>"
      ],
      "text/plain": [
       "              name   meters\n",
       "0   Parco Leonardo      0.0\n",
       "1    Fiera di Roma   2217.0\n",
       "2    Ponte Galeria   4537.0\n",
       "3        Muratella   9886.0\n",
       "4         Magliana  12020.0\n",
       "5    Villa Bonelli  14529.0\n",
       "6  Roma Trastevere  17403.0"
      ]
     },
     "execution_count": 22,
     "metadata": {},
     "output_type": "execute_result"
    }
   ],
   "source": [
    "read_query(shortest_path_single_rel_query)"
   ]
  },
  {
   "cell_type": "code",
   "execution_count": 23,
   "metadata": {},
   "outputs": [],
   "source": [
    "# Shortest path using multi relationship types\n",
    "shortest_path_multi_rel_query = \"\"\"\n",
    "MATCH (start:Stop{name:'LABICANO/PORTA MAGGIORE'}),(end:Stop{name:'TARDINI'})\n",
    "CALL algo.shortestPath.stream(start,end,'distance',{graph:'rome',relationshipQuery:'WALK | RAIL'})\n",
    "YIELD nodeId, cost\n",
    "RETURN algo.asNode(nodeId).name as name, cost \n",
    "\"\"\""
   ]
  },
  {
   "cell_type": "code",
   "execution_count": 24,
   "metadata": {},
   "outputs": [
    {
     "data": {
      "text/html": [
       "<div>\n",
       "<style scoped>\n",
       "    .dataframe tbody tr th:only-of-type {\n",
       "        vertical-align: middle;\n",
       "    }\n",
       "\n",
       "    .dataframe tbody tr th {\n",
       "        vertical-align: top;\n",
       "    }\n",
       "\n",
       "    .dataframe thead th {\n",
       "        text-align: right;\n",
       "    }\n",
       "</style>\n",
       "<table border=\"1\" class=\"dataframe\">\n",
       "  <thead>\n",
       "    <tr style=\"text-align: right;\">\n",
       "      <th></th>\n",
       "      <th>name</th>\n",
       "      <th>cost</th>\n",
       "    </tr>\n",
       "  </thead>\n",
       "  <tbody>\n",
       "    <tr>\n",
       "      <th>0</th>\n",
       "      <td>LABICANO/PORTA MAGGIORE</td>\n",
       "      <td>0.0</td>\n",
       "    </tr>\n",
       "    <tr>\n",
       "      <th>1</th>\n",
       "      <td>PORTA MAGGIORE</td>\n",
       "      <td>67.0</td>\n",
       "    </tr>\n",
       "    <tr>\n",
       "      <th>2</th>\n",
       "      <td>Termini Laziali</td>\n",
       "      <td>1002.0</td>\n",
       "    </tr>\n",
       "    <tr>\n",
       "      <th>3</th>\n",
       "      <td>Roma San Pietro</td>\n",
       "      <td>5296.0</td>\n",
       "    </tr>\n",
       "    <tr>\n",
       "      <th>4</th>\n",
       "      <td>GREGORIO VII/STAZ. S. PIETRO (FS)</td>\n",
       "      <td>5676.0</td>\n",
       "    </tr>\n",
       "    <tr>\n",
       "      <th>5</th>\n",
       "      <td>AURELIA/PAOLO III</td>\n",
       "      <td>6239.0</td>\n",
       "    </tr>\n",
       "    <tr>\n",
       "      <th>6</th>\n",
       "      <td>VALLE AURELIA (MA)</td>\n",
       "      <td>6727.0</td>\n",
       "    </tr>\n",
       "    <tr>\n",
       "      <th>7</th>\n",
       "      <td>PATETTA/D'AMELIO</td>\n",
       "      <td>7420.0</td>\n",
       "    </tr>\n",
       "    <tr>\n",
       "      <th>8</th>\n",
       "      <td>TARDINI</td>\n",
       "      <td>7906.0</td>\n",
       "    </tr>\n",
       "  </tbody>\n",
       "</table>\n",
       "</div>"
      ],
      "text/plain": [
       "                                name    cost\n",
       "0            LABICANO/PORTA MAGGIORE     0.0\n",
       "1                     PORTA MAGGIORE    67.0\n",
       "2                    Termini Laziali  1002.0\n",
       "3                    Roma San Pietro  5296.0\n",
       "4  GREGORIO VII/STAZ. S. PIETRO (FS)  5676.0\n",
       "5                  AURELIA/PAOLO III  6239.0\n",
       "6                 VALLE AURELIA (MA)  6727.0\n",
       "7                   PATETTA/D'AMELIO  7420.0\n",
       "8                            TARDINI  7906.0"
      ]
     },
     "execution_count": 24,
     "metadata": {},
     "output_type": "execute_result"
    }
   ],
   "source": [
    "read_query(shortest_path_multi_rel_query)"
   ]
  },
  {
   "cell_type": "code",
   "execution_count": 25,
   "metadata": {},
   "outputs": [],
   "source": [
    "# Shortest path by duration\n",
    "shortest_path_duration_query = \"\"\"\n",
    "MATCH (start:Stop{name:'LABICANO/PORTA MAGGIORE'}),(end:Stop{name:'TARDINI'})\n",
    "CALL algo.shortestPath.stream(start,end,'duration',{graph:'rome',relationshipQuery:'WALK | RAIL'})\n",
    "YIELD nodeId, cost\n",
    "RETURN algo.asNode(nodeId).name as name, cost / 60 as minutes\n",
    "\"\"\""
   ]
  },
  {
   "cell_type": "code",
   "execution_count": 26,
   "metadata": {},
   "outputs": [
    {
     "data": {
      "text/html": [
       "<div>\n",
       "<style scoped>\n",
       "    .dataframe tbody tr th:only-of-type {\n",
       "        vertical-align: middle;\n",
       "    }\n",
       "\n",
       "    .dataframe tbody tr th {\n",
       "        vertical-align: top;\n",
       "    }\n",
       "\n",
       "    .dataframe thead th {\n",
       "        text-align: right;\n",
       "    }\n",
       "</style>\n",
       "<table border=\"1\" class=\"dataframe\">\n",
       "  <thead>\n",
       "    <tr style=\"text-align: right;\">\n",
       "      <th></th>\n",
       "      <th>name</th>\n",
       "      <th>minutes</th>\n",
       "    </tr>\n",
       "  </thead>\n",
       "  <tbody>\n",
       "    <tr>\n",
       "      <th>0</th>\n",
       "      <td>LABICANO/PORTA MAGGIORE</td>\n",
       "      <td>0.000000</td>\n",
       "    </tr>\n",
       "    <tr>\n",
       "      <th>1</th>\n",
       "      <td>PORTA MAGGIORE</td>\n",
       "      <td>0.803999</td>\n",
       "    </tr>\n",
       "    <tr>\n",
       "      <th>2</th>\n",
       "      <td>S. BIBIANA</td>\n",
       "      <td>2.670666</td>\n",
       "    </tr>\n",
       "    <tr>\n",
       "      <th>3</th>\n",
       "      <td>TERMINI LAZIALI</td>\n",
       "      <td>4.653999</td>\n",
       "    </tr>\n",
       "    <tr>\n",
       "      <th>4</th>\n",
       "      <td>Termini Laziali</td>\n",
       "      <td>4.797999</td>\n",
       "    </tr>\n",
       "    <tr>\n",
       "      <th>5</th>\n",
       "      <td>Roma San Pietro</td>\n",
       "      <td>17.297999</td>\n",
       "    </tr>\n",
       "    <tr>\n",
       "      <th>6</th>\n",
       "      <td>Valle Aurelia</td>\n",
       "      <td>21.321529</td>\n",
       "    </tr>\n",
       "    <tr>\n",
       "      <th>7</th>\n",
       "      <td>STAMPINI</td>\n",
       "      <td>28.773523</td>\n",
       "    </tr>\n",
       "    <tr>\n",
       "      <th>8</th>\n",
       "      <td>TARDINI</td>\n",
       "      <td>36.969516</td>\n",
       "    </tr>\n",
       "  </tbody>\n",
       "</table>\n",
       "</div>"
      ],
      "text/plain": [
       "                      name    minutes\n",
       "0  LABICANO/PORTA MAGGIORE   0.000000\n",
       "1           PORTA MAGGIORE   0.803999\n",
       "2               S. BIBIANA   2.670666\n",
       "3          TERMINI LAZIALI   4.653999\n",
       "4          Termini Laziali   4.797999\n",
       "5          Roma San Pietro  17.297999\n",
       "6            Valle Aurelia  21.321529\n",
       "7                 STAMPINI  28.773523\n",
       "8                  TARDINI  36.969516"
      ]
     },
     "execution_count": 26,
     "metadata": {},
     "output_type": "execute_result"
    }
   ],
   "source": [
    "read_query(shortest_path_duration_query)"
   ]
  },
  {
   "cell_type": "code",
   "execution_count": null,
   "metadata": {},
   "outputs": [],
   "source": []
  }
 ],
 "metadata": {
  "kernelspec": {
   "display_name": "Python 3",
   "language": "python",
   "name": "python3"
  },
  "language_info": {
   "codemirror_mode": {
    "name": "ipython",
    "version": 3
   },
   "file_extension": ".py",
   "mimetype": "text/x-python",
   "name": "python",
   "nbconvert_exporter": "python",
   "pygments_lexer": "ipython3",
   "version": "3.5.2"
  }
 },
 "nbformat": 4,
 "nbformat_minor": 2
}
