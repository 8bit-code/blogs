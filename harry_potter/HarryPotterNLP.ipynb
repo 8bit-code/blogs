{
  "nbformat": 4,
  "nbformat_minor": 0,
  "metadata": {
    "colab": {
      "name": "HarryPotterNLP.ipynb",
      "provenance": [],
      "authorship_tag": "ABX9TyPcf9190ZJ8ufkcg52dHunp",
      "include_colab_link": true
    },
    "kernelspec": {
      "name": "python3",
      "display_name": "Python 3"
    },
    "language_info": {
      "name": "python"
    }
  },
  "cells": [
    {
      "cell_type": "markdown",
      "metadata": {
        "id": "view-in-github",
        "colab_type": "text"
      },
      "source": [
        "<a href=\"https://colab.research.google.com/github/tomasonjo/blogs/blob/master/harry_potter/HarryPotterNLP.ipynb\" target=\"_parent\"><img src=\"https://colab.research.google.com/assets/colab-badge.svg\" alt=\"Open In Colab\"/></a>"
      ]
    },
    {
      "cell_type": "code",
      "metadata": {
        "colab": {
          "base_uri": "https://localhost:8080/"
        },
        "id": "83XBTfrC3jss",
        "outputId": "2922fb87-b5cd-429b-9a32-8ce86a107759"
      },
      "source": [
        "# Install dependencies\n",
        "!pip install selenium neo4j spacy==2.3.2 neo4j\n",
        "\n",
        "# Setup selenium\n",
        "!apt-get update\n",
        "!apt install chromium-chromedriver\n",
        "!cp /usr/lib/chromium-browser/chromedriver /usr/bin\n",
        "import sys\n",
        "sys.path.insert(0,'/usr/lib/chromium-browser/chromedriver')\n",
        "from selenium import webdriver\n",
        "chrome_options = webdriver.ChromeOptions()\n",
        "chrome_options.add_argument('--headless')\n",
        "chrome_options.add_argument('--no-sandbox')\n",
        "chrome_options.add_argument('--disable-dev-shm-usage')\n",
        "wd = webdriver.Chrome('chromedriver',chrome_options=chrome_options)\n",
        "\n",
        "# Setup SpaCy and NeuralCoref\n",
        "from google.colab import drive\n",
        "drive.mount('/content/gdrive')\n",
        "\n",
        "!git clone https://github.com/huggingface/neuralcoref.git\n",
        "!pip install -U \n",
        "!python -m spacy download en_core_web_sm\n",
        "\n",
        "%cd neuralcoref\n",
        "\n",
        "!pip install -r requirements.txt\n",
        "!pip install -e ."
      ],
      "execution_count": 2,
      "outputs": [
        {
          "output_type": "stream",
          "text": [
            "Requirement already satisfied: spacy in /usr/local/lib/python3.7/dist-packages (2.3.2)\n",
            "Requirement already satisfied: selenium in /usr/local/lib/python3.7/dist-packages (3.141.0)\n",
            "Requirement already satisfied: wasabi<1.1.0,>=0.4.0 in /usr/local/lib/python3.7/dist-packages (from spacy) (0.8.2)\n",
            "Requirement already satisfied: setuptools in /usr/local/lib/python3.7/dist-packages (from spacy) (57.0.0)\n",
            "Requirement already satisfied: murmurhash<1.1.0,>=0.28.0 in /usr/local/lib/python3.7/dist-packages (from spacy) (1.0.5)\n",
            "Requirement already satisfied: plac<1.2.0,>=0.9.6 in /usr/local/lib/python3.7/dist-packages (from spacy) (1.1.3)\n",
            "Requirement already satisfied: srsly<1.1.0,>=1.0.2 in /usr/local/lib/python3.7/dist-packages (from spacy) (1.0.5)\n",
            "Requirement already satisfied: tqdm<5.0.0,>=4.38.0 in /usr/local/lib/python3.7/dist-packages (from spacy) (4.41.1)\n",
            "Requirement already satisfied: preshed<3.1.0,>=3.0.2 in /usr/local/lib/python3.7/dist-packages (from spacy) (3.0.5)\n",
            "Requirement already satisfied: blis<0.5.0,>=0.4.0 in /usr/local/lib/python3.7/dist-packages (from spacy) (0.4.1)\n",
            "Requirement already satisfied: cymem<2.1.0,>=2.0.2 in /usr/local/lib/python3.7/dist-packages (from spacy) (2.0.5)\n",
            "Requirement already satisfied: thinc==7.4.1 in /usr/local/lib/python3.7/dist-packages (from spacy) (7.4.1)\n",
            "Requirement already satisfied: numpy>=1.15.0 in /usr/local/lib/python3.7/dist-packages (from spacy) (1.19.5)\n",
            "Requirement already satisfied: catalogue<1.1.0,>=0.0.7 in /usr/local/lib/python3.7/dist-packages (from spacy) (1.0.0)\n",
            "Requirement already satisfied: requests<3.0.0,>=2.13.0 in /usr/local/lib/python3.7/dist-packages (from spacy) (2.23.0)\n",
            "Requirement already satisfied: urllib3 in /usr/local/lib/python3.7/dist-packages (from selenium) (1.24.3)\n",
            "Requirement already satisfied: importlib-metadata>=0.20; python_version < \"3.8\" in /usr/local/lib/python3.7/dist-packages (from catalogue<1.1.0,>=0.0.7->spacy) (4.6.0)\n",
            "Requirement already satisfied: idna<3,>=2.5 in /usr/local/lib/python3.7/dist-packages (from requests<3.0.0,>=2.13.0->spacy) (2.10)\n",
            "Requirement already satisfied: certifi>=2017.4.17 in /usr/local/lib/python3.7/dist-packages (from requests<3.0.0,>=2.13.0->spacy) (2021.5.30)\n",
            "Requirement already satisfied: chardet<4,>=3.0.2 in /usr/local/lib/python3.7/dist-packages (from requests<3.0.0,>=2.13.0->spacy) (3.0.4)\n",
            "Requirement already satisfied: zipp>=0.5 in /usr/local/lib/python3.7/dist-packages (from importlib-metadata>=0.20; python_version < \"3.8\"->catalogue<1.1.0,>=0.0.7->spacy) (3.4.1)\n",
            "Requirement already satisfied: typing-extensions>=3.6.4; python_version < \"3.8\" in /usr/local/lib/python3.7/dist-packages (from importlib-metadata>=0.20; python_version < \"3.8\"->catalogue<1.1.0,>=0.0.7->spacy) (3.7.4.3)\n",
            "Hit:1 https://cloud.r-project.org/bin/linux/ubuntu bionic-cran40/ InRelease\n",
            "Ign:2 https://developer.download.nvidia.com/compute/cuda/repos/ubuntu1804/x86_64  InRelease\n",
            "Hit:3 http://security.ubuntu.com/ubuntu bionic-security InRelease\n",
            "Ign:4 https://developer.download.nvidia.com/compute/machine-learning/repos/ubuntu1804/x86_64  InRelease\n",
            "Hit:5 https://developer.download.nvidia.com/compute/cuda/repos/ubuntu1804/x86_64  Release\n",
            "Hit:6 https://developer.download.nvidia.com/compute/machine-learning/repos/ubuntu1804/x86_64  Release\n",
            "Hit:7 http://ppa.launchpad.net/c2d4u.team/c2d4u4.0+/ubuntu bionic InRelease\n",
            "Hit:8 http://archive.ubuntu.com/ubuntu bionic InRelease\n",
            "Hit:10 http://ppa.launchpad.net/cran/libgit2/ubuntu bionic InRelease\n",
            "Hit:11 http://archive.ubuntu.com/ubuntu bionic-updates InRelease\n",
            "Hit:13 http://archive.ubuntu.com/ubuntu bionic-backports InRelease\n",
            "Hit:14 http://ppa.launchpad.net/deadsnakes/ppa/ubuntu bionic InRelease\n",
            "Hit:15 http://ppa.launchpad.net/graphics-drivers/ppa/ubuntu bionic InRelease\n",
            "Reading package lists... Done\n",
            "Reading package lists... Done\n",
            "Building dependency tree       \n",
            "Reading state information... Done\n",
            "chromium-chromedriver is already the newest version (91.0.4472.101-0ubuntu0.18.04.1).\n",
            "0 upgraded, 0 newly installed, 0 to remove and 58 not upgraded.\n",
            "cp: '/usr/lib/chromium-browser/chromedriver' and '/usr/bin/chromedriver' are the same file\n"
          ],
          "name": "stdout"
        },
        {
          "output_type": "stream",
          "text": [
            "/usr/local/lib/python3.7/dist-packages/ipykernel_launcher.py:13: DeprecationWarning: use options instead of chrome_options\n",
            "  del sys.path[0]\n"
          ],
          "name": "stderr"
        }
      ]
    },
    {
      "cell_type": "code",
      "metadata": {
        "id": "y48YBwODZLU_"
      },
      "source": [
        "def enrich_single_item(item, index):\n",
        "  global wd\n",
        "  try:\n",
        "    div = wd.find_element_by_xpath(f\"//div[@data-source = '{item}']\")\n",
        "    try:\n",
        "      result = find_element_by_name(\"a\").text\n",
        "    except:\n",
        "      result = find_element_by_name(\"div\").text\n",
        "    character_dict[chapter][index][item] = result\n",
        "  except:\n",
        "    pass\n",
        "  "
      ],
      "execution_count": 62,
      "outputs": []
    },
    {
      "cell_type": "code",
      "metadata": {
        "id": "sPV9wtbaP4zx"
      },
      "source": [
        "import time\n",
        "\n",
        "c1characters = \"https://harrypotter.fandom.com/wiki/Harry_Potter_and_the_Philosopher%27s_Stone_(character_index)\"\n",
        "\n",
        "def get_characters(url):\n",
        "  # Get the list of characters by chapter\n",
        "  wd.get(url)\n",
        "  character_dict = dict()\n",
        "  elem = wd.find_element_by_class_name(\"mw-parser-output\")\n",
        "  \n",
        "  # Locate character by chapter\n",
        "  tables = elem.find_elements_by_tag_name('table')\n",
        "  for i, chapter in enumerate(tables):\n",
        "    list_of_characters = []\n",
        "    characters = chapter.find_elements_by_tag_name('a')\n",
        "    for character in characters:\n",
        "      if not character.get_attribute('title'):\n",
        "        continue\n",
        "      list_of_characters.append({'title': character.get_attribute('title'), 'url': character.get_attribute('href')})\n",
        "    character_dict['chapter_' + str(i + 1)] = list_of_characters\n",
        "  \n",
        "  # Enrich characters with additional information\n",
        "  for chapter in character_dict:\n",
        "    for index, character in enumerate(character_dict[chapter]):\n",
        "      # Get the character page with selenium\n",
        "      wd.get(character['url'])\n",
        "      # Enrich aliases\n",
        "      try:\n",
        "        alias_div = wd.find_element_by_xpath(\"//div[@data-source = 'alias']\")\n",
        "        aliases = alias_div.find_elements_by_tag_name('li')\n",
        "        result = []\n",
        "        for a in aliases:\n",
        "          # Ignore under the cloak-guise and the name he told\n",
        "          if \"disguise\" in a.text or \"the name he told\" in a.text:\n",
        "            continue\n",
        "          alias = a.text.split('[')[0].split('(')[0].strip()\n",
        "          result.append(alias)\n",
        "        character_dict[chapter][index]['aliases'] = result\n",
        "      except:\n",
        "        pass\n",
        "      # Enrich loyalties\n",
        "      try:\n",
        "        loyalty_div = wd.find_element_by_xpath(\"//div[@data-source = 'loyalty']\")\n",
        "        loyalties = loyalty_div.find_elements_by_tag_name('li')\n",
        "        result = []\n",
        "        for l in loyalties:\n",
        "          # Ignore under the cloak-guise and the name he told\n",
        "          loyalty = l.text.split('[')[0].split('(')[0].strip()\n",
        "          result.append(loyalty)\n",
        "        character_dict[chapter][index]['loyalty'] = result\n",
        "      except:\n",
        "        pass\n",
        "      # Enrich family relationships\n",
        "      try:\n",
        "        family_div = wd.find_element_by_xpath(\"//div[@data-source = 'loyalty']\")\n",
        "        relationships = loyalty_div.find_elements_by_tag_name('li')\n",
        "        result = []\n",
        "        for r in relationships:\n",
        "          # Ignore under the cloak-guise and the name he told\n",
        "          rel = l.text.split('[')[0].split('(')[0].strip()\n",
        "          rel_type = l.text.split('(')[-1][:-1]\n",
        "          result.append({'person':rel, 'type': rel_type})\n",
        "        character_dict[chapter][index]['family'] = result\n",
        "      except:\n",
        "        pass\n",
        "      # Enrich blood\n",
        "      enrich_single_item('blood', index)\n",
        "      # Enrich nationality\n",
        "      enrich_single_item('nationality', index)\n",
        "      # Enrich marital status\n",
        "      enrich_single_item('marital', index)\n",
        "      # Enrich species\n",
        "      enrich_single_item('species', index)\n",
        "      # Enrich house\n",
        "      enrich_single_item('house', index)\n",
        "      # Enrich gender\n",
        "      enrich_single_item('gender', index)\n",
        "\n",
        "\n",
        "\n",
        "\n",
        "    "
      ],
      "execution_count": 71,
      "outputs": []
    },
    {
      "cell_type": "code",
      "metadata": {
        "colab": {
          "base_uri": "https://localhost:8080/",
          "height": 527
        },
        "id": "Qbuweyr_dvXd",
        "outputId": "5b7eb7a5-1c72-42db-b230-c779c81e5ea3"
      },
      "source": [
        "get_characters(\"https://harrypotter.fandom.com/wiki/Harry_Potter_and_the_Philosopher%27s_Stone_(character_index)\")"
      ],
      "execution_count": 72,
      "outputs": [
        {
          "output_type": "error",
          "ename": "MaxRetryError",
          "evalue": "ignored",
          "traceback": [
            "\u001b[0;31m---------------------------------------------------------------------------\u001b[0m",
            "\u001b[0;31mConnectionRefusedError\u001b[0m                    Traceback (most recent call last)",
            "\u001b[0;32m/usr/local/lib/python3.7/dist-packages/urllib3/connection.py\u001b[0m in \u001b[0;36m_new_conn\u001b[0;34m(self)\u001b[0m\n\u001b[1;32m    158\u001b[0m             conn = connection.create_connection(\n\u001b[0;32m--> 159\u001b[0;31m                 (self._dns_host, self.port), self.timeout, **extra_kw)\n\u001b[0m\u001b[1;32m    160\u001b[0m \u001b[0;34m\u001b[0m\u001b[0m\n",
            "\u001b[0;32m/usr/local/lib/python3.7/dist-packages/urllib3/util/connection.py\u001b[0m in \u001b[0;36mcreate_connection\u001b[0;34m(address, timeout, source_address, socket_options)\u001b[0m\n\u001b[1;32m     79\u001b[0m     \u001b[0;32mif\u001b[0m \u001b[0merr\u001b[0m \u001b[0;32mis\u001b[0m \u001b[0;32mnot\u001b[0m \u001b[0;32mNone\u001b[0m\u001b[0;34m:\u001b[0m\u001b[0;34m\u001b[0m\u001b[0;34m\u001b[0m\u001b[0m\n\u001b[0;32m---> 80\u001b[0;31m         \u001b[0;32mraise\u001b[0m \u001b[0merr\u001b[0m\u001b[0;34m\u001b[0m\u001b[0;34m\u001b[0m\u001b[0m\n\u001b[0m\u001b[1;32m     81\u001b[0m \u001b[0;34m\u001b[0m\u001b[0m\n",
            "\u001b[0;32m/usr/local/lib/python3.7/dist-packages/urllib3/util/connection.py\u001b[0m in \u001b[0;36mcreate_connection\u001b[0;34m(address, timeout, source_address, socket_options)\u001b[0m\n\u001b[1;32m     69\u001b[0m                 \u001b[0msock\u001b[0m\u001b[0;34m.\u001b[0m\u001b[0mbind\u001b[0m\u001b[0;34m(\u001b[0m\u001b[0msource_address\u001b[0m\u001b[0;34m)\u001b[0m\u001b[0;34m\u001b[0m\u001b[0;34m\u001b[0m\u001b[0m\n\u001b[0;32m---> 70\u001b[0;31m             \u001b[0msock\u001b[0m\u001b[0;34m.\u001b[0m\u001b[0mconnect\u001b[0m\u001b[0;34m(\u001b[0m\u001b[0msa\u001b[0m\u001b[0;34m)\u001b[0m\u001b[0;34m\u001b[0m\u001b[0;34m\u001b[0m\u001b[0m\n\u001b[0m\u001b[1;32m     71\u001b[0m             \u001b[0;32mreturn\u001b[0m \u001b[0msock\u001b[0m\u001b[0;34m\u001b[0m\u001b[0;34m\u001b[0m\u001b[0m\n",
            "\u001b[0;31mConnectionRefusedError\u001b[0m: [Errno 111] Connection refused",
            "\nDuring handling of the above exception, another exception occurred:\n",
            "\u001b[0;31mNewConnectionError\u001b[0m                        Traceback (most recent call last)",
            "\u001b[0;32m/usr/local/lib/python3.7/dist-packages/urllib3/connectionpool.py\u001b[0m in \u001b[0;36murlopen\u001b[0;34m(self, method, url, body, headers, retries, redirect, assert_same_host, timeout, pool_timeout, release_conn, chunked, body_pos, **response_kw)\u001b[0m\n\u001b[1;32m    599\u001b[0m                                                   \u001b[0mbody\u001b[0m\u001b[0;34m=\u001b[0m\u001b[0mbody\u001b[0m\u001b[0;34m,\u001b[0m \u001b[0mheaders\u001b[0m\u001b[0;34m=\u001b[0m\u001b[0mheaders\u001b[0m\u001b[0;34m,\u001b[0m\u001b[0;34m\u001b[0m\u001b[0;34m\u001b[0m\u001b[0m\n\u001b[0;32m--> 600\u001b[0;31m                                                   chunked=chunked)\n\u001b[0m\u001b[1;32m    601\u001b[0m \u001b[0;34m\u001b[0m\u001b[0m\n",
            "\u001b[0;32m/usr/local/lib/python3.7/dist-packages/urllib3/connectionpool.py\u001b[0m in \u001b[0;36m_make_request\u001b[0;34m(self, conn, method, url, timeout, chunked, **httplib_request_kw)\u001b[0m\n\u001b[1;32m    353\u001b[0m         \u001b[0;32melse\u001b[0m\u001b[0;34m:\u001b[0m\u001b[0;34m\u001b[0m\u001b[0;34m\u001b[0m\u001b[0m\n\u001b[0;32m--> 354\u001b[0;31m             \u001b[0mconn\u001b[0m\u001b[0;34m.\u001b[0m\u001b[0mrequest\u001b[0m\u001b[0;34m(\u001b[0m\u001b[0mmethod\u001b[0m\u001b[0;34m,\u001b[0m \u001b[0murl\u001b[0m\u001b[0;34m,\u001b[0m \u001b[0;34m**\u001b[0m\u001b[0mhttplib_request_kw\u001b[0m\u001b[0;34m)\u001b[0m\u001b[0;34m\u001b[0m\u001b[0;34m\u001b[0m\u001b[0m\n\u001b[0m\u001b[1;32m    355\u001b[0m \u001b[0;34m\u001b[0m\u001b[0m\n",
            "\u001b[0;32m/usr/lib/python3.7/http/client.py\u001b[0m in \u001b[0;36mrequest\u001b[0;34m(self, method, url, body, headers, encode_chunked)\u001b[0m\n\u001b[1;32m   1276\u001b[0m         \u001b[0;34m\"\"\"Send a complete request to the server.\"\"\"\u001b[0m\u001b[0;34m\u001b[0m\u001b[0;34m\u001b[0m\u001b[0m\n\u001b[0;32m-> 1277\u001b[0;31m         \u001b[0mself\u001b[0m\u001b[0;34m.\u001b[0m\u001b[0m_send_request\u001b[0m\u001b[0;34m(\u001b[0m\u001b[0mmethod\u001b[0m\u001b[0;34m,\u001b[0m \u001b[0murl\u001b[0m\u001b[0;34m,\u001b[0m \u001b[0mbody\u001b[0m\u001b[0;34m,\u001b[0m \u001b[0mheaders\u001b[0m\u001b[0;34m,\u001b[0m \u001b[0mencode_chunked\u001b[0m\u001b[0;34m)\u001b[0m\u001b[0;34m\u001b[0m\u001b[0;34m\u001b[0m\u001b[0m\n\u001b[0m\u001b[1;32m   1278\u001b[0m \u001b[0;34m\u001b[0m\u001b[0m\n",
            "\u001b[0;32m/usr/lib/python3.7/http/client.py\u001b[0m in \u001b[0;36m_send_request\u001b[0;34m(self, method, url, body, headers, encode_chunked)\u001b[0m\n\u001b[1;32m   1322\u001b[0m             \u001b[0mbody\u001b[0m \u001b[0;34m=\u001b[0m \u001b[0m_encode\u001b[0m\u001b[0;34m(\u001b[0m\u001b[0mbody\u001b[0m\u001b[0;34m,\u001b[0m \u001b[0;34m'body'\u001b[0m\u001b[0;34m)\u001b[0m\u001b[0;34m\u001b[0m\u001b[0;34m\u001b[0m\u001b[0m\n\u001b[0;32m-> 1323\u001b[0;31m         \u001b[0mself\u001b[0m\u001b[0;34m.\u001b[0m\u001b[0mendheaders\u001b[0m\u001b[0;34m(\u001b[0m\u001b[0mbody\u001b[0m\u001b[0;34m,\u001b[0m \u001b[0mencode_chunked\u001b[0m\u001b[0;34m=\u001b[0m\u001b[0mencode_chunked\u001b[0m\u001b[0;34m)\u001b[0m\u001b[0;34m\u001b[0m\u001b[0;34m\u001b[0m\u001b[0m\n\u001b[0m\u001b[1;32m   1324\u001b[0m \u001b[0;34m\u001b[0m\u001b[0m\n",
            "\u001b[0;32m/usr/lib/python3.7/http/client.py\u001b[0m in \u001b[0;36mendheaders\u001b[0;34m(self, message_body, encode_chunked)\u001b[0m\n\u001b[1;32m   1271\u001b[0m             \u001b[0;32mraise\u001b[0m \u001b[0mCannotSendHeader\u001b[0m\u001b[0;34m(\u001b[0m\u001b[0;34m)\u001b[0m\u001b[0;34m\u001b[0m\u001b[0;34m\u001b[0m\u001b[0m\n\u001b[0;32m-> 1272\u001b[0;31m         \u001b[0mself\u001b[0m\u001b[0;34m.\u001b[0m\u001b[0m_send_output\u001b[0m\u001b[0;34m(\u001b[0m\u001b[0mmessage_body\u001b[0m\u001b[0;34m,\u001b[0m \u001b[0mencode_chunked\u001b[0m\u001b[0;34m=\u001b[0m\u001b[0mencode_chunked\u001b[0m\u001b[0;34m)\u001b[0m\u001b[0;34m\u001b[0m\u001b[0;34m\u001b[0m\u001b[0m\n\u001b[0m\u001b[1;32m   1273\u001b[0m \u001b[0;34m\u001b[0m\u001b[0m\n",
            "\u001b[0;32m/usr/lib/python3.7/http/client.py\u001b[0m in \u001b[0;36m_send_output\u001b[0;34m(self, message_body, encode_chunked)\u001b[0m\n\u001b[1;32m   1031\u001b[0m         \u001b[0;32mdel\u001b[0m \u001b[0mself\u001b[0m\u001b[0;34m.\u001b[0m\u001b[0m_buffer\u001b[0m\u001b[0;34m[\u001b[0m\u001b[0;34m:\u001b[0m\u001b[0;34m]\u001b[0m\u001b[0;34m\u001b[0m\u001b[0;34m\u001b[0m\u001b[0m\n\u001b[0;32m-> 1032\u001b[0;31m         \u001b[0mself\u001b[0m\u001b[0;34m.\u001b[0m\u001b[0msend\u001b[0m\u001b[0;34m(\u001b[0m\u001b[0mmsg\u001b[0m\u001b[0;34m)\u001b[0m\u001b[0;34m\u001b[0m\u001b[0;34m\u001b[0m\u001b[0m\n\u001b[0m\u001b[1;32m   1033\u001b[0m \u001b[0;34m\u001b[0m\u001b[0m\n",
            "\u001b[0;32m/usr/lib/python3.7/http/client.py\u001b[0m in \u001b[0;36msend\u001b[0;34m(self, data)\u001b[0m\n\u001b[1;32m    971\u001b[0m             \u001b[0;32mif\u001b[0m \u001b[0mself\u001b[0m\u001b[0;34m.\u001b[0m\u001b[0mauto_open\u001b[0m\u001b[0;34m:\u001b[0m\u001b[0;34m\u001b[0m\u001b[0;34m\u001b[0m\u001b[0m\n\u001b[0;32m--> 972\u001b[0;31m                 \u001b[0mself\u001b[0m\u001b[0;34m.\u001b[0m\u001b[0mconnect\u001b[0m\u001b[0;34m(\u001b[0m\u001b[0;34m)\u001b[0m\u001b[0;34m\u001b[0m\u001b[0;34m\u001b[0m\u001b[0m\n\u001b[0m\u001b[1;32m    973\u001b[0m             \u001b[0;32melse\u001b[0m\u001b[0;34m:\u001b[0m\u001b[0;34m\u001b[0m\u001b[0;34m\u001b[0m\u001b[0m\n",
            "\u001b[0;32m/usr/local/lib/python3.7/dist-packages/urllib3/connection.py\u001b[0m in \u001b[0;36mconnect\u001b[0;34m(self)\u001b[0m\n\u001b[1;32m    180\u001b[0m     \u001b[0;32mdef\u001b[0m \u001b[0mconnect\u001b[0m\u001b[0;34m(\u001b[0m\u001b[0mself\u001b[0m\u001b[0;34m)\u001b[0m\u001b[0;34m:\u001b[0m\u001b[0;34m\u001b[0m\u001b[0;34m\u001b[0m\u001b[0m\n\u001b[0;32m--> 181\u001b[0;31m         \u001b[0mconn\u001b[0m \u001b[0;34m=\u001b[0m \u001b[0mself\u001b[0m\u001b[0;34m.\u001b[0m\u001b[0m_new_conn\u001b[0m\u001b[0;34m(\u001b[0m\u001b[0;34m)\u001b[0m\u001b[0;34m\u001b[0m\u001b[0;34m\u001b[0m\u001b[0m\n\u001b[0m\u001b[1;32m    182\u001b[0m         \u001b[0mself\u001b[0m\u001b[0;34m.\u001b[0m\u001b[0m_prepare_conn\u001b[0m\u001b[0;34m(\u001b[0m\u001b[0mconn\u001b[0m\u001b[0;34m)\u001b[0m\u001b[0;34m\u001b[0m\u001b[0;34m\u001b[0m\u001b[0m\n",
            "\u001b[0;32m/usr/local/lib/python3.7/dist-packages/urllib3/connection.py\u001b[0m in \u001b[0;36m_new_conn\u001b[0;34m(self)\u001b[0m\n\u001b[1;32m    167\u001b[0m             raise NewConnectionError(\n\u001b[0;32m--> 168\u001b[0;31m                 self, \"Failed to establish a new connection: %s\" % e)\n\u001b[0m\u001b[1;32m    169\u001b[0m \u001b[0;34m\u001b[0m\u001b[0m\n",
            "\u001b[0;31mNewConnectionError\u001b[0m: <urllib3.connection.HTTPConnection object at 0x7f82a1953750>: Failed to establish a new connection: [Errno 111] Connection refused",
            "\nDuring handling of the above exception, another exception occurred:\n",
            "\u001b[0;31mMaxRetryError\u001b[0m                             Traceback (most recent call last)",
            "\u001b[0;32m<ipython-input-72-f230a01ab252>\u001b[0m in \u001b[0;36m<module>\u001b[0;34m()\u001b[0m\n\u001b[0;32m----> 1\u001b[0;31m \u001b[0mget_characters\u001b[0m\u001b[0;34m(\u001b[0m\u001b[0;34m\"https://harrypotter.fandom.com/wiki/Harry_Potter_and_the_Philosopher%27s_Stone_(character_index)\"\u001b[0m\u001b[0;34m)\u001b[0m\u001b[0;34m\u001b[0m\u001b[0;34m\u001b[0m\u001b[0m\n\u001b[0m",
            "\u001b[0;32m<ipython-input-71-7fd7ecfc37a5>\u001b[0m in \u001b[0;36mget_characters\u001b[0;34m(url)\u001b[0m\n\u001b[1;32m      5\u001b[0m \u001b[0;32mdef\u001b[0m \u001b[0mget_characters\u001b[0m\u001b[0;34m(\u001b[0m\u001b[0murl\u001b[0m\u001b[0;34m)\u001b[0m\u001b[0;34m:\u001b[0m\u001b[0;34m\u001b[0m\u001b[0;34m\u001b[0m\u001b[0m\n\u001b[1;32m      6\u001b[0m   \u001b[0;31m# Get the list of characters by chapter\u001b[0m\u001b[0;34m\u001b[0m\u001b[0;34m\u001b[0m\u001b[0;34m\u001b[0m\u001b[0m\n\u001b[0;32m----> 7\u001b[0;31m   \u001b[0mwd\u001b[0m\u001b[0;34m.\u001b[0m\u001b[0mget\u001b[0m\u001b[0;34m(\u001b[0m\u001b[0murl\u001b[0m\u001b[0;34m)\u001b[0m\u001b[0;34m\u001b[0m\u001b[0;34m\u001b[0m\u001b[0m\n\u001b[0m\u001b[1;32m      8\u001b[0m   \u001b[0mcharacter_dict\u001b[0m \u001b[0;34m=\u001b[0m \u001b[0mdict\u001b[0m\u001b[0;34m(\u001b[0m\u001b[0;34m)\u001b[0m\u001b[0;34m\u001b[0m\u001b[0;34m\u001b[0m\u001b[0m\n\u001b[1;32m      9\u001b[0m   \u001b[0melem\u001b[0m \u001b[0;34m=\u001b[0m \u001b[0mwd\u001b[0m\u001b[0;34m.\u001b[0m\u001b[0mfind_element_by_class_name\u001b[0m\u001b[0;34m(\u001b[0m\u001b[0;34m\"mw-parser-output\"\u001b[0m\u001b[0;34m)\u001b[0m\u001b[0;34m\u001b[0m\u001b[0;34m\u001b[0m\u001b[0m\n",
            "\u001b[0;32m/usr/local/lib/python3.7/dist-packages/selenium/webdriver/remote/webdriver.py\u001b[0m in \u001b[0;36mget\u001b[0;34m(self, url)\u001b[0m\n\u001b[1;32m    331\u001b[0m         \u001b[0mLoads\u001b[0m \u001b[0ma\u001b[0m \u001b[0mweb\u001b[0m \u001b[0mpage\u001b[0m \u001b[0;32min\u001b[0m \u001b[0mthe\u001b[0m \u001b[0mcurrent\u001b[0m \u001b[0mbrowser\u001b[0m \u001b[0msession\u001b[0m\u001b[0;34m.\u001b[0m\u001b[0;34m\u001b[0m\u001b[0;34m\u001b[0m\u001b[0m\n\u001b[1;32m    332\u001b[0m         \"\"\"\n\u001b[0;32m--> 333\u001b[0;31m         \u001b[0mself\u001b[0m\u001b[0;34m.\u001b[0m\u001b[0mexecute\u001b[0m\u001b[0;34m(\u001b[0m\u001b[0mCommand\u001b[0m\u001b[0;34m.\u001b[0m\u001b[0mGET\u001b[0m\u001b[0;34m,\u001b[0m \u001b[0;34m{\u001b[0m\u001b[0;34m'url'\u001b[0m\u001b[0;34m:\u001b[0m \u001b[0murl\u001b[0m\u001b[0;34m}\u001b[0m\u001b[0;34m)\u001b[0m\u001b[0;34m\u001b[0m\u001b[0;34m\u001b[0m\u001b[0m\n\u001b[0m\u001b[1;32m    334\u001b[0m \u001b[0;34m\u001b[0m\u001b[0m\n\u001b[1;32m    335\u001b[0m     \u001b[0;34m@\u001b[0m\u001b[0mproperty\u001b[0m\u001b[0;34m\u001b[0m\u001b[0;34m\u001b[0m\u001b[0m\n",
            "\u001b[0;32m/usr/local/lib/python3.7/dist-packages/selenium/webdriver/remote/webdriver.py\u001b[0m in \u001b[0;36mexecute\u001b[0;34m(self, driver_command, params)\u001b[0m\n\u001b[1;32m    317\u001b[0m \u001b[0;34m\u001b[0m\u001b[0m\n\u001b[1;32m    318\u001b[0m         \u001b[0mparams\u001b[0m \u001b[0;34m=\u001b[0m \u001b[0mself\u001b[0m\u001b[0;34m.\u001b[0m\u001b[0m_wrap_value\u001b[0m\u001b[0;34m(\u001b[0m\u001b[0mparams\u001b[0m\u001b[0;34m)\u001b[0m\u001b[0;34m\u001b[0m\u001b[0;34m\u001b[0m\u001b[0m\n\u001b[0;32m--> 319\u001b[0;31m         \u001b[0mresponse\u001b[0m \u001b[0;34m=\u001b[0m \u001b[0mself\u001b[0m\u001b[0;34m.\u001b[0m\u001b[0mcommand_executor\u001b[0m\u001b[0;34m.\u001b[0m\u001b[0mexecute\u001b[0m\u001b[0;34m(\u001b[0m\u001b[0mdriver_command\u001b[0m\u001b[0;34m,\u001b[0m \u001b[0mparams\u001b[0m\u001b[0;34m)\u001b[0m\u001b[0;34m\u001b[0m\u001b[0;34m\u001b[0m\u001b[0m\n\u001b[0m\u001b[1;32m    320\u001b[0m         \u001b[0;32mif\u001b[0m \u001b[0mresponse\u001b[0m\u001b[0;34m:\u001b[0m\u001b[0;34m\u001b[0m\u001b[0;34m\u001b[0m\u001b[0m\n\u001b[1;32m    321\u001b[0m             \u001b[0mself\u001b[0m\u001b[0;34m.\u001b[0m\u001b[0merror_handler\u001b[0m\u001b[0;34m.\u001b[0m\u001b[0mcheck_response\u001b[0m\u001b[0;34m(\u001b[0m\u001b[0mresponse\u001b[0m\u001b[0;34m)\u001b[0m\u001b[0;34m\u001b[0m\u001b[0;34m\u001b[0m\u001b[0m\n",
            "\u001b[0;32m/usr/local/lib/python3.7/dist-packages/selenium/webdriver/remote/remote_connection.py\u001b[0m in \u001b[0;36mexecute\u001b[0;34m(self, command, params)\u001b[0m\n\u001b[1;32m    372\u001b[0m         \u001b[0mdata\u001b[0m \u001b[0;34m=\u001b[0m \u001b[0mutils\u001b[0m\u001b[0;34m.\u001b[0m\u001b[0mdump_json\u001b[0m\u001b[0;34m(\u001b[0m\u001b[0mparams\u001b[0m\u001b[0;34m)\u001b[0m\u001b[0;34m\u001b[0m\u001b[0;34m\u001b[0m\u001b[0m\n\u001b[1;32m    373\u001b[0m         \u001b[0murl\u001b[0m \u001b[0;34m=\u001b[0m \u001b[0;34m'%s%s'\u001b[0m \u001b[0;34m%\u001b[0m \u001b[0;34m(\u001b[0m\u001b[0mself\u001b[0m\u001b[0;34m.\u001b[0m\u001b[0m_url\u001b[0m\u001b[0;34m,\u001b[0m \u001b[0mpath\u001b[0m\u001b[0;34m)\u001b[0m\u001b[0;34m\u001b[0m\u001b[0;34m\u001b[0m\u001b[0m\n\u001b[0;32m--> 374\u001b[0;31m         \u001b[0;32mreturn\u001b[0m \u001b[0mself\u001b[0m\u001b[0;34m.\u001b[0m\u001b[0m_request\u001b[0m\u001b[0;34m(\u001b[0m\u001b[0mcommand_info\u001b[0m\u001b[0;34m[\u001b[0m\u001b[0;36m0\u001b[0m\u001b[0;34m]\u001b[0m\u001b[0;34m,\u001b[0m \u001b[0murl\u001b[0m\u001b[0;34m,\u001b[0m \u001b[0mbody\u001b[0m\u001b[0;34m=\u001b[0m\u001b[0mdata\u001b[0m\u001b[0;34m)\u001b[0m\u001b[0;34m\u001b[0m\u001b[0;34m\u001b[0m\u001b[0m\n\u001b[0m\u001b[1;32m    375\u001b[0m \u001b[0;34m\u001b[0m\u001b[0m\n\u001b[1;32m    376\u001b[0m     \u001b[0;32mdef\u001b[0m \u001b[0m_request\u001b[0m\u001b[0;34m(\u001b[0m\u001b[0mself\u001b[0m\u001b[0;34m,\u001b[0m \u001b[0mmethod\u001b[0m\u001b[0;34m,\u001b[0m \u001b[0murl\u001b[0m\u001b[0;34m,\u001b[0m \u001b[0mbody\u001b[0m\u001b[0;34m=\u001b[0m\u001b[0;32mNone\u001b[0m\u001b[0;34m)\u001b[0m\u001b[0;34m:\u001b[0m\u001b[0;34m\u001b[0m\u001b[0;34m\u001b[0m\u001b[0m\n",
            "\u001b[0;32m/usr/local/lib/python3.7/dist-packages/selenium/webdriver/remote/remote_connection.py\u001b[0m in \u001b[0;36m_request\u001b[0;34m(self, method, url, body)\u001b[0m\n\u001b[1;32m    395\u001b[0m \u001b[0;34m\u001b[0m\u001b[0m\n\u001b[1;32m    396\u001b[0m         \u001b[0;32mif\u001b[0m \u001b[0mself\u001b[0m\u001b[0;34m.\u001b[0m\u001b[0mkeep_alive\u001b[0m\u001b[0;34m:\u001b[0m\u001b[0;34m\u001b[0m\u001b[0;34m\u001b[0m\u001b[0m\n\u001b[0;32m--> 397\u001b[0;31m             \u001b[0mresp\u001b[0m \u001b[0;34m=\u001b[0m \u001b[0mself\u001b[0m\u001b[0;34m.\u001b[0m\u001b[0m_conn\u001b[0m\u001b[0;34m.\u001b[0m\u001b[0mrequest\u001b[0m\u001b[0;34m(\u001b[0m\u001b[0mmethod\u001b[0m\u001b[0;34m,\u001b[0m \u001b[0murl\u001b[0m\u001b[0;34m,\u001b[0m \u001b[0mbody\u001b[0m\u001b[0;34m=\u001b[0m\u001b[0mbody\u001b[0m\u001b[0;34m,\u001b[0m \u001b[0mheaders\u001b[0m\u001b[0;34m=\u001b[0m\u001b[0mheaders\u001b[0m\u001b[0;34m)\u001b[0m\u001b[0;34m\u001b[0m\u001b[0;34m\u001b[0m\u001b[0m\n\u001b[0m\u001b[1;32m    398\u001b[0m \u001b[0;34m\u001b[0m\u001b[0m\n\u001b[1;32m    399\u001b[0m             \u001b[0mstatuscode\u001b[0m \u001b[0;34m=\u001b[0m \u001b[0mresp\u001b[0m\u001b[0;34m.\u001b[0m\u001b[0mstatus\u001b[0m\u001b[0;34m\u001b[0m\u001b[0;34m\u001b[0m\u001b[0m\n",
            "\u001b[0;32m/usr/local/lib/python3.7/dist-packages/urllib3/request.py\u001b[0m in \u001b[0;36mrequest\u001b[0;34m(self, method, url, fields, headers, **urlopen_kw)\u001b[0m\n\u001b[1;32m     70\u001b[0m             return self.request_encode_body(method, url, fields=fields,\n\u001b[1;32m     71\u001b[0m                                             \u001b[0mheaders\u001b[0m\u001b[0;34m=\u001b[0m\u001b[0mheaders\u001b[0m\u001b[0;34m,\u001b[0m\u001b[0;34m\u001b[0m\u001b[0;34m\u001b[0m\u001b[0m\n\u001b[0;32m---> 72\u001b[0;31m                                             **urlopen_kw)\n\u001b[0m\u001b[1;32m     73\u001b[0m \u001b[0;34m\u001b[0m\u001b[0m\n\u001b[1;32m     74\u001b[0m     def request_encode_url(self, method, url, fields=None, headers=None,\n",
            "\u001b[0;32m/usr/local/lib/python3.7/dist-packages/urllib3/request.py\u001b[0m in \u001b[0;36mrequest_encode_body\u001b[0;34m(self, method, url, fields, headers, encode_multipart, multipart_boundary, **urlopen_kw)\u001b[0m\n\u001b[1;32m    148\u001b[0m         \u001b[0mextra_kw\u001b[0m\u001b[0;34m.\u001b[0m\u001b[0mupdate\u001b[0m\u001b[0;34m(\u001b[0m\u001b[0murlopen_kw\u001b[0m\u001b[0;34m)\u001b[0m\u001b[0;34m\u001b[0m\u001b[0;34m\u001b[0m\u001b[0m\n\u001b[1;32m    149\u001b[0m \u001b[0;34m\u001b[0m\u001b[0m\n\u001b[0;32m--> 150\u001b[0;31m         \u001b[0;32mreturn\u001b[0m \u001b[0mself\u001b[0m\u001b[0;34m.\u001b[0m\u001b[0murlopen\u001b[0m\u001b[0;34m(\u001b[0m\u001b[0mmethod\u001b[0m\u001b[0;34m,\u001b[0m \u001b[0murl\u001b[0m\u001b[0;34m,\u001b[0m \u001b[0;34m**\u001b[0m\u001b[0mextra_kw\u001b[0m\u001b[0;34m)\u001b[0m\u001b[0;34m\u001b[0m\u001b[0;34m\u001b[0m\u001b[0m\n\u001b[0m",
            "\u001b[0;32m/usr/local/lib/python3.7/dist-packages/urllib3/poolmanager.py\u001b[0m in \u001b[0;36murlopen\u001b[0;34m(self, method, url, redirect, **kw)\u001b[0m\n\u001b[1;32m    322\u001b[0m             \u001b[0mresponse\u001b[0m \u001b[0;34m=\u001b[0m \u001b[0mconn\u001b[0m\u001b[0;34m.\u001b[0m\u001b[0murlopen\u001b[0m\u001b[0;34m(\u001b[0m\u001b[0mmethod\u001b[0m\u001b[0;34m,\u001b[0m \u001b[0murl\u001b[0m\u001b[0;34m,\u001b[0m \u001b[0;34m**\u001b[0m\u001b[0mkw\u001b[0m\u001b[0;34m)\u001b[0m\u001b[0;34m\u001b[0m\u001b[0;34m\u001b[0m\u001b[0m\n\u001b[1;32m    323\u001b[0m         \u001b[0;32melse\u001b[0m\u001b[0;34m:\u001b[0m\u001b[0;34m\u001b[0m\u001b[0;34m\u001b[0m\u001b[0m\n\u001b[0;32m--> 324\u001b[0;31m             \u001b[0mresponse\u001b[0m \u001b[0;34m=\u001b[0m \u001b[0mconn\u001b[0m\u001b[0;34m.\u001b[0m\u001b[0murlopen\u001b[0m\u001b[0;34m(\u001b[0m\u001b[0mmethod\u001b[0m\u001b[0;34m,\u001b[0m \u001b[0mu\u001b[0m\u001b[0;34m.\u001b[0m\u001b[0mrequest_uri\u001b[0m\u001b[0;34m,\u001b[0m \u001b[0;34m**\u001b[0m\u001b[0mkw\u001b[0m\u001b[0;34m)\u001b[0m\u001b[0;34m\u001b[0m\u001b[0;34m\u001b[0m\u001b[0m\n\u001b[0m\u001b[1;32m    325\u001b[0m \u001b[0;34m\u001b[0m\u001b[0m\n\u001b[1;32m    326\u001b[0m         \u001b[0mredirect_location\u001b[0m \u001b[0;34m=\u001b[0m \u001b[0mredirect\u001b[0m \u001b[0;32mand\u001b[0m \u001b[0mresponse\u001b[0m\u001b[0;34m.\u001b[0m\u001b[0mget_redirect_location\u001b[0m\u001b[0;34m(\u001b[0m\u001b[0;34m)\u001b[0m\u001b[0;34m\u001b[0m\u001b[0;34m\u001b[0m\u001b[0m\n",
            "\u001b[0;32m/usr/local/lib/python3.7/dist-packages/urllib3/connectionpool.py\u001b[0m in \u001b[0;36murlopen\u001b[0;34m(self, method, url, body, headers, retries, redirect, assert_same_host, timeout, pool_timeout, release_conn, chunked, body_pos, **response_kw)\u001b[0m\n\u001b[1;32m    665\u001b[0m                                 \u001b[0mtimeout\u001b[0m\u001b[0;34m=\u001b[0m\u001b[0mtimeout\u001b[0m\u001b[0;34m,\u001b[0m \u001b[0mpool_timeout\u001b[0m\u001b[0;34m=\u001b[0m\u001b[0mpool_timeout\u001b[0m\u001b[0;34m,\u001b[0m\u001b[0;34m\u001b[0m\u001b[0;34m\u001b[0m\u001b[0m\n\u001b[1;32m    666\u001b[0m                                 \u001b[0mrelease_conn\u001b[0m\u001b[0;34m=\u001b[0m\u001b[0mrelease_conn\u001b[0m\u001b[0;34m,\u001b[0m \u001b[0mbody_pos\u001b[0m\u001b[0;34m=\u001b[0m\u001b[0mbody_pos\u001b[0m\u001b[0;34m,\u001b[0m\u001b[0;34m\u001b[0m\u001b[0;34m\u001b[0m\u001b[0m\n\u001b[0;32m--> 667\u001b[0;31m                                 **response_kw)\n\u001b[0m\u001b[1;32m    668\u001b[0m \u001b[0;34m\u001b[0m\u001b[0m\n\u001b[1;32m    669\u001b[0m         \u001b[0;32mdef\u001b[0m \u001b[0mdrain_and_release_conn\u001b[0m\u001b[0;34m(\u001b[0m\u001b[0mresponse\u001b[0m\u001b[0;34m)\u001b[0m\u001b[0;34m:\u001b[0m\u001b[0;34m\u001b[0m\u001b[0;34m\u001b[0m\u001b[0m\n",
            "\u001b[0;32m/usr/local/lib/python3.7/dist-packages/urllib3/connectionpool.py\u001b[0m in \u001b[0;36murlopen\u001b[0;34m(self, method, url, body, headers, retries, redirect, assert_same_host, timeout, pool_timeout, release_conn, chunked, body_pos, **response_kw)\u001b[0m\n\u001b[1;32m    665\u001b[0m                                 \u001b[0mtimeout\u001b[0m\u001b[0;34m=\u001b[0m\u001b[0mtimeout\u001b[0m\u001b[0;34m,\u001b[0m \u001b[0mpool_timeout\u001b[0m\u001b[0;34m=\u001b[0m\u001b[0mpool_timeout\u001b[0m\u001b[0;34m,\u001b[0m\u001b[0;34m\u001b[0m\u001b[0;34m\u001b[0m\u001b[0m\n\u001b[1;32m    666\u001b[0m                                 \u001b[0mrelease_conn\u001b[0m\u001b[0;34m=\u001b[0m\u001b[0mrelease_conn\u001b[0m\u001b[0;34m,\u001b[0m \u001b[0mbody_pos\u001b[0m\u001b[0;34m=\u001b[0m\u001b[0mbody_pos\u001b[0m\u001b[0;34m,\u001b[0m\u001b[0;34m\u001b[0m\u001b[0;34m\u001b[0m\u001b[0m\n\u001b[0;32m--> 667\u001b[0;31m                                 **response_kw)\n\u001b[0m\u001b[1;32m    668\u001b[0m \u001b[0;34m\u001b[0m\u001b[0m\n\u001b[1;32m    669\u001b[0m         \u001b[0;32mdef\u001b[0m \u001b[0mdrain_and_release_conn\u001b[0m\u001b[0;34m(\u001b[0m\u001b[0mresponse\u001b[0m\u001b[0;34m)\u001b[0m\u001b[0;34m:\u001b[0m\u001b[0;34m\u001b[0m\u001b[0;34m\u001b[0m\u001b[0m\n",
            "\u001b[0;32m/usr/local/lib/python3.7/dist-packages/urllib3/connectionpool.py\u001b[0m in \u001b[0;36murlopen\u001b[0;34m(self, method, url, body, headers, retries, redirect, assert_same_host, timeout, pool_timeout, release_conn, chunked, body_pos, **response_kw)\u001b[0m\n\u001b[1;32m    665\u001b[0m                                 \u001b[0mtimeout\u001b[0m\u001b[0;34m=\u001b[0m\u001b[0mtimeout\u001b[0m\u001b[0;34m,\u001b[0m \u001b[0mpool_timeout\u001b[0m\u001b[0;34m=\u001b[0m\u001b[0mpool_timeout\u001b[0m\u001b[0;34m,\u001b[0m\u001b[0;34m\u001b[0m\u001b[0;34m\u001b[0m\u001b[0m\n\u001b[1;32m    666\u001b[0m                                 \u001b[0mrelease_conn\u001b[0m\u001b[0;34m=\u001b[0m\u001b[0mrelease_conn\u001b[0m\u001b[0;34m,\u001b[0m \u001b[0mbody_pos\u001b[0m\u001b[0;34m=\u001b[0m\u001b[0mbody_pos\u001b[0m\u001b[0;34m,\u001b[0m\u001b[0;34m\u001b[0m\u001b[0;34m\u001b[0m\u001b[0m\n\u001b[0;32m--> 667\u001b[0;31m                                 **response_kw)\n\u001b[0m\u001b[1;32m    668\u001b[0m \u001b[0;34m\u001b[0m\u001b[0m\n\u001b[1;32m    669\u001b[0m         \u001b[0;32mdef\u001b[0m \u001b[0mdrain_and_release_conn\u001b[0m\u001b[0;34m(\u001b[0m\u001b[0mresponse\u001b[0m\u001b[0;34m)\u001b[0m\u001b[0;34m:\u001b[0m\u001b[0;34m\u001b[0m\u001b[0;34m\u001b[0m\u001b[0m\n",
            "\u001b[0;32m/usr/local/lib/python3.7/dist-packages/urllib3/connectionpool.py\u001b[0m in \u001b[0;36murlopen\u001b[0;34m(self, method, url, body, headers, retries, redirect, assert_same_host, timeout, pool_timeout, release_conn, chunked, body_pos, **response_kw)\u001b[0m\n\u001b[1;32m    636\u001b[0m \u001b[0;34m\u001b[0m\u001b[0m\n\u001b[1;32m    637\u001b[0m             retries = retries.increment(method, url, error=e, _pool=self,\n\u001b[0;32m--> 638\u001b[0;31m                                         _stacktrace=sys.exc_info()[2])\n\u001b[0m\u001b[1;32m    639\u001b[0m             \u001b[0mretries\u001b[0m\u001b[0;34m.\u001b[0m\u001b[0msleep\u001b[0m\u001b[0;34m(\u001b[0m\u001b[0;34m)\u001b[0m\u001b[0;34m\u001b[0m\u001b[0;34m\u001b[0m\u001b[0m\n\u001b[1;32m    640\u001b[0m \u001b[0;34m\u001b[0m\u001b[0m\n",
            "\u001b[0;32m/usr/local/lib/python3.7/dist-packages/urllib3/util/retry.py\u001b[0m in \u001b[0;36mincrement\u001b[0;34m(self, method, url, response, error, _pool, _stacktrace)\u001b[0m\n\u001b[1;32m    397\u001b[0m \u001b[0;34m\u001b[0m\u001b[0m\n\u001b[1;32m    398\u001b[0m         \u001b[0;32mif\u001b[0m \u001b[0mnew_retry\u001b[0m\u001b[0;34m.\u001b[0m\u001b[0mis_exhausted\u001b[0m\u001b[0;34m(\u001b[0m\u001b[0;34m)\u001b[0m\u001b[0;34m:\u001b[0m\u001b[0;34m\u001b[0m\u001b[0;34m\u001b[0m\u001b[0m\n\u001b[0;32m--> 399\u001b[0;31m             \u001b[0;32mraise\u001b[0m \u001b[0mMaxRetryError\u001b[0m\u001b[0;34m(\u001b[0m\u001b[0m_pool\u001b[0m\u001b[0;34m,\u001b[0m \u001b[0murl\u001b[0m\u001b[0;34m,\u001b[0m \u001b[0merror\u001b[0m \u001b[0;32mor\u001b[0m \u001b[0mResponseError\u001b[0m\u001b[0;34m(\u001b[0m\u001b[0mcause\u001b[0m\u001b[0;34m)\u001b[0m\u001b[0;34m)\u001b[0m\u001b[0;34m\u001b[0m\u001b[0;34m\u001b[0m\u001b[0m\n\u001b[0m\u001b[1;32m    400\u001b[0m \u001b[0;34m\u001b[0m\u001b[0m\n\u001b[1;32m    401\u001b[0m         \u001b[0mlog\u001b[0m\u001b[0;34m.\u001b[0m\u001b[0mdebug\u001b[0m\u001b[0;34m(\u001b[0m\u001b[0;34m\"Incremented Retry for (url='%s'): %r\"\u001b[0m\u001b[0;34m,\u001b[0m \u001b[0murl\u001b[0m\u001b[0;34m,\u001b[0m \u001b[0mnew_retry\u001b[0m\u001b[0;34m)\u001b[0m\u001b[0;34m\u001b[0m\u001b[0;34m\u001b[0m\u001b[0m\n",
            "\u001b[0;31mMaxRetryError\u001b[0m: HTTPConnectionPool(host='127.0.0.1', port=37155): Max retries exceeded with url: /session/e1ea86b84dbe77d000877b3b3ae00d86/url (Caused by NewConnectionError('<urllib3.connection.HTTPConnection object at 0x7f82a1953750>: Failed to establish a new connection: [Errno 111] Connection refused'))"
          ]
        }
      ]
    },
    {
      "cell_type": "code",
      "metadata": {
        "id": "aiL14Fjetfz7"
      },
      "source": [
        "import requests"
      ],
      "execution_count": 5,
      "outputs": []
    },
    {
      "cell_type": "code",
      "metadata": {
        "id": "uTYPaNjNtzIV"
      },
      "source": [
        "master = \"https://raw.githubusercontent.com/amephraim/nlp/master/texts/J.%20K.%20Rowling%20-%20Harry%20Potter%201%20-%20Sorcerer's%20Stone.txt\"\n",
        "req = requests.get(master)\n",
        "req = req.text"
      ],
      "execution_count": 6,
      "outputs": []
    },
    {
      "cell_type": "code",
      "metadata": {
        "colab": {
          "base_uri": "https://localhost:8080/"
        },
        "id": "Y_ux1TNM0xbs",
        "outputId": "fda52003-a7b8-49c6-964d-60b8537bd866"
      },
      "source": [
        "import spacy\n",
        "from spacy.matcher import Matcher\n",
        "import neuralcoref\n",
        "\n",
        "nlp = spacy.load('en_core_web_sm')\n",
        "neuralcoref.add_to_pipe(nlp)\n",
        "\n",
        "doc1 = nlp('My sister has a dog. She loves him.')\n",
        "print(doc1._.coref_clusters)"
      ],
      "execution_count": 7,
      "outputs": [
        {
          "output_type": "stream",
          "text": [
            "[My sister: [My sister, She], a dog: [a dog, him]]\n"
          ],
          "name": "stdout"
        }
      ]
    },
    {
      "cell_type": "code",
      "metadata": {
        "id": "ao2_gk2t1E6H"
      },
      "source": [
        "def coref_resolution(text):\n",
        "    \"\"\"Function that executes coreference resolution on a given text\"\"\"\n",
        "    doc = nlp(text)\n",
        "    # fetches tokens with whitespaces from spacy document\n",
        "    tok_list = list(token.text_with_ws for token in doc)\n",
        "    for cluster in doc._.coref_clusters:\n",
        "        # get tokens from representative cluster name\n",
        "        cluster_main_words = set(cluster.main.text.split(' '))\n",
        "        for coref in cluster:\n",
        "            if coref != cluster.main:  # if coreference element is not the representative element of that cluster\n",
        "                if coref.text != cluster.main.text and bool(set(coref.text.split(' ')).intersection(cluster_main_words)) == False:\n",
        "                    # if coreference element text and representative element text are not equal and none of the coreference element words are in representative element. This was done to handle nested coreference scenarios\n",
        "                    tok_list[coref.start] = cluster.main.text + \\\n",
        "                        doc[coref.end-1].whitespace_\n",
        "                    for i in range(coref.start+1, coref.end):\n",
        "                        tok_list[i] = \"\"\n",
        "\n",
        "    return \"\".join(tok_list)"
      ],
      "execution_count": 8,
      "outputs": []
    },
    {
      "cell_type": "code",
      "metadata": {
        "id": "bZQcLB0tPj7A"
      },
      "source": [
        "def get_character_dict(chapter):\n",
        "  super_list = list()\n",
        "  dicts = [character_dict['chapter_' + str(i)] for i in range(1,chapter + 1)]\n",
        "  for d in dicts:\n",
        "    for item in d:\n",
        "      super_list.append(item)\n",
        "  return super_list"
      ],
      "execution_count": 9,
      "outputs": []
    },
    {
      "cell_type": "code",
      "metadata": {
        "id": "P_p_6YPT4t_K"
      },
      "source": [
        "import sys\n",
        "import random\n",
        "\n",
        "hardcoded_options = dict()\n",
        "hardcoded_options['Malfoy'] = ['Draco Malfoy']\n",
        "hardcoded_options['Patil'] = ['Padma Patil', 'Parvati Patil']\n",
        "hardcoded_options['Tom'] = ['Tom']\n",
        "\n",
        "\n",
        "\n",
        "def handle_multiple_options(result, start, doc):\n",
        "  needs_deduplication = [(i,x) for i,x in enumerate(result) if len(x['string_id']) > 1 and x['text'] != 'Dursley']\n",
        "  for index, multiple_options in needs_deduplication:\n",
        "    # Special logic for Dursleys, if there if Mr. then Vernon, if Mrs. then Petunia\n",
        "    prefix = doc[start-3:start]\n",
        "    if (multiple_options['text'] == 'Dursley') and (\"Mr.\" in prefix.text):\n",
        "      resolution = [\"Vernon Dursley\"]\n",
        "    elif (multiple_options['text'] == 'Dursley') and (\"Mrs.\" in prefix.text):\n",
        "      resolution = [\"Petunia Dursley\"]\n",
        "    # Find nearest entity\n",
        "    else:\n",
        "      end_char = multiple_options['end']\n",
        "      distance = sys.maxsize\n",
        "      resolution = []\n",
        "      for possible_option in result:\n",
        "        # Skip multiple options and entities that don't have any of the multiple option\n",
        "        if (not len(possible_option['string_id']) == 1) or (not possible_option['string_id'][0] in multiple_options['string_id']):\n",
        "          continue\n",
        "        new_distance = abs(multiple_options['end'] - possible_option['end'])\n",
        "        if new_distance < distance:\n",
        "          distance = new_distance\n",
        "          resolution = possible_option['string_id']\n",
        "      \n",
        "      if not resolution:\n",
        "        try:\n",
        "          ho = hardcoded_options[multiple_options['text']]\n",
        "          if len(ho) == 1:\n",
        "            resolution = ho\n",
        "          else:\n",
        "            resolution = [random.choice(ho)]\n",
        "        except:\n",
        "          print(f\"no way to disambiguate {multiple_options['text']} from options: {multiple_options['string_id']}\")\n",
        "      result[index]['string_id'] = resolution\n",
        "  print([el for el in result if len(el['string_id']) > 1])\n",
        "  return result"
      ],
      "execution_count": 56,
      "outputs": []
    },
    {
      "cell_type": "code",
      "metadata": {
        "id": "Exid13U8U_Vv"
      },
      "source": [
        "from collections import Counter\n",
        "\n",
        "def get_distances(result):\n",
        "  #sort by start character\n",
        "  result = sorted(result, key=lambda k: k['start'])\n",
        "  compact_entities = []\n",
        "  for entity in result:\n",
        "    # If the same entity occurs, prolong the end \n",
        "    if (len(compact_entities) > 0) and (compact_entities[-1]['string_id'] == entity['string_id']):\n",
        "      compact_entities[-1]['end'] = entity['end']\n",
        "    else:\n",
        "      compact_entities.append(entity)\n",
        "  distances = list()\n",
        "  # We can skip the last entity\n",
        "  for index, source in enumerate(compact_entities[:-1]):\n",
        "    for target in compact_entities[index + 1:]:\n",
        "      if (source['string_id'] != target['string_id']) and (abs(source['end'] - target['start']) < 20):\n",
        "        try:\n",
        "          link = sorted([source['string_id'][0], target['string_id'][0]])\n",
        "        except:\n",
        "          print(source['string_id'], target['string_id'])\n",
        "        distances.append(link)\n",
        "      else:\n",
        "        break\n",
        "  return Counter(map(tuple, distances))\n",
        "  \n",
        "\n"
      ],
      "execution_count": 12,
      "outputs": []
    },
    {
      "cell_type": "code",
      "metadata": {
        "id": "00XAYT0cMXXt"
      },
      "source": [
        "chapters = req.split(\"CHAPTER\")[1:]\n",
        "stop_words = ['of', 'the', 'at', 'family', 'keeper', 'wizard', 'fat', 'de', 'hogwarts']\n",
        "\n",
        "def get_characters_in_chapter(chapter):\n",
        "  c = chapters[chapter - 1]\n",
        "  # Prepare characters matcher\n",
        "  matcher = Matcher(nlp.vocab)\n",
        "  for character in get_character_dict(chapter):\n",
        "    names = [el for el in character['title'].split(' ') if len(el) > 2]\n",
        "    matcher_pattern = []\n",
        "    matcher_pattern.append([{\"LOWER\": n.lower(), \"IS_TITLE\": True} for n in names])\n",
        "\n",
        "    if not \"'\" in character['title']:\n",
        "      for n in names:\n",
        "        if n.lower() in stop_words:\n",
        "          continue\n",
        "        matcher_pattern.append([{\"LOWER\": n.lower(), \"IS_TITLE\": True}])\n",
        "        # Special case for Ronald Weasley -> Also add Ron\n",
        "        if n == \"Ronald\":\n",
        "          matcher_pattern.append([{\"LOWER\": \"ron\", \"IS_TITLE\": True}])\n",
        "\n",
        "    matcher.add(character['title'], matcher_pattern)\n",
        "\n",
        "  # Prepare text\n",
        "  lines = c.split('\\n')[1:]\n",
        "  lines = list(filter(None, lines))\n",
        "  chapter_title = lines[0]\n",
        "  print(chapter_title)\n",
        "  text = \" \".join(lines[1:])\n",
        "  text = coref_resolution(text)\n",
        "\n",
        "  # Find matches\n",
        "  doc = nlp(text)\n",
        "  matches = matcher(doc)\n",
        "  result = []\n",
        "  for match_id, start, end in matches:\n",
        "      string_id = nlp.vocab.strings[match_id]  # Get string representation\n",
        "      span = doc[start:end]  # The matched span\n",
        "      exists_longer = [(start == e['start'] and end < e['end']) or (start > e['start'] and end == e['end']) for e in result]\n",
        "      same = [start == e['start'] and end == e['end'] for e in result]\n",
        "      shorter_end = [start == e['start'] and end > e['end'] for e in result]\n",
        "      shorter_start = [start < e['start'] and end == e['end'] for e in result]\n",
        "      # If there is a longer version already skip\n",
        "      if any(exists_longer):\n",
        "        continue\n",
        "      # If it exists but has a longer end\n",
        "      if any(shorter_end):\n",
        "        del result[shorter_end.index(True)]\n",
        "        result.append({'string_id': [string_id], 'start': start, 'end': end, 'text': span.text})\n",
        "      #  \n",
        "      elif any(shorter_start):\n",
        "        del result[shorter_start.index(True)]\n",
        "        result.append =({'string_id': [string_id], 'start': start, 'end': end, 'text': span.text})\n",
        "      # If not exists \n",
        "      elif not any(same):\n",
        "        result.append({'string_id': [string_id], 'start': start, 'end': end, 'text': span.text})\n",
        "      else:\n",
        "        i = same.index(True)\n",
        "        # Add more entities to a single span\n",
        "        result[i]['string_id'].append(string_id)\n",
        "  handle_multiple_options(result, start, doc)\n",
        "  return result\n",
        "\n",
        "\n"
      ],
      "execution_count": 54,
      "outputs": []
    },
    {
      "cell_type": "code",
      "metadata": {
        "id": "nhSSNmDTS2e2"
      },
      "source": [
        "from neo4j import GraphDatabase\n",
        "host = 'bolt://3.239.224.171:7687'\n",
        "user = 'neo4j'\n",
        "password = 'rainbow-mittens-track'\n",
        "driver = GraphDatabase.driver(host,auth=(user, password))\n",
        "\n",
        "def store_to_neo4j(distances):\n",
        "  data = [{'source': el[0], 'target': el[1], 'weight': distances[el]} for el in distances]\n",
        "  with driver.session() as session:\n",
        "    session.run(\"\"\"\n",
        "    UNWIND $data as row\n",
        "    MERGE (c:Character{name:row.source})\n",
        "    MERGE (t:Character{name:row.target})\n",
        "    MERGE (c)-[i:INTERACTS]-(t)\n",
        "    SET i.weight = coalesce(i.weight,0) + row.weight\n",
        "    \"\"\", {'data': data})"
      ],
      "execution_count": null,
      "outputs": []
    },
    {
      "cell_type": "code",
      "metadata": {
        "colab": {
          "base_uri": "https://localhost:8080/"
        },
        "id": "YM1pT6Ul9Hka",
        "outputId": "40c118cf-1517-42de-8031-3f1766550a61"
      },
      "source": [
        "for c in range(1,18):\n",
        "  end = get_characters_in_chapter(c)\n",
        "  distances = get_distances(end)\n",
        "  store_to_neo4j(distances)"
      ],
      "execution_count": 57,
      "outputs": [
        {
          "output_type": "stream",
          "text": [
            "THE BOY WHO LIVED\n",
            "[{'string_id': ['Vernon Dursley', 'Petunia Dursley', 'Dudley Dursley'], 'start': 3, 'end': 4, 'text': 'Dursley'}, {'string_id': ['Vernon Dursley', 'Petunia Dursley', 'Dudley Dursley'], 'start': 20, 'end': 21, 'text': 'Dursley'}, {'string_id': ['Vernon Dursley', 'Petunia Dursley', 'Dudley Dursley'], 'start': 40, 'end': 41, 'text': 'Dursley'}, {'string_id': ['Vernon Dursley', 'Petunia Dursley', 'Dudley Dursley'], 'start': 68, 'end': 69, 'text': 'Dursley'}, {'string_id': ['Vernon Dursley', 'Petunia Dursley', 'Dudley Dursley'], 'start': 85, 'end': 86, 'text': 'Dursley'}, {'string_id': ['Vernon Dursley', 'Petunia Dursley', 'Dudley Dursley'], 'start': 100, 'end': 101, 'text': 'Dursley'}, {'string_id': ['Vernon Dursley', 'Petunia Dursley', 'Dudley Dursley'], 'start': 114, 'end': 115, 'text': 'Dursley'}, {'string_id': ['Vernon Dursley', 'Petunia Dursley', 'Dudley Dursley'], 'start': 123, 'end': 124, 'text': 'Dursley'}, {'string_id': ['Vernon Dursley', 'Petunia Dursley', 'Dudley Dursley'], 'start': 145, 'end': 146, 'text': 'Dursley'}, {'string_id': ['Vernon Dursley', 'Petunia Dursley', 'Dudley Dursley'], 'start': 151, 'end': 152, 'text': 'Dursley'}, {'string_id': ['Vernon Dursley', 'Petunia Dursley', 'Dudley Dursley'], 'start': 224, 'end': 225, 'text': 'Dursley'}, {'string_id': ['Vernon Dursley', 'Petunia Dursley', 'Dudley Dursley'], 'start': 227, 'end': 228, 'text': 'Dursley'}, {'string_id': ['Vernon Dursley', 'Petunia Dursley', 'Dudley Dursley'], 'start': 244, 'end': 245, 'text': 'Dursley'}, {'string_id': ['Vernon Dursley', 'Petunia Dursley', 'Dudley Dursley'], 'start': 247, 'end': 248, 'text': 'Dursley'}, {'string_id': ['Vernon Dursley', 'Petunia Dursley', 'Dudley Dursley'], 'start': 256, 'end': 257, 'text': 'Dursley'}, {'string_id': ['Vernon Dursley', 'Petunia Dursley', 'Dudley Dursley'], 'start': 260, 'end': 261, 'text': 'Dursley'}, {'string_id': ['Vernon Dursley', 'Petunia Dursley', 'Dudley Dursley'], 'start': 361, 'end': 362, 'text': 'Dursley'}, {'string_id': ['Vernon Dursley', 'Petunia Dursley', 'Dudley Dursley'], 'start': 399, 'end': 400, 'text': 'Dursley'}, {'string_id': ['Vernon Dursley', 'Petunia Dursley', 'Dudley Dursley'], 'start': 403, 'end': 404, 'text': 'Dursley'}, {'string_id': ['Vernon Dursley', 'Petunia Dursley', 'Dudley Dursley'], 'start': 407, 'end': 408, 'text': 'Dursley'}, {'string_id': ['Vernon Dursley', 'Petunia Dursley', 'Dudley Dursley'], 'start': 416, 'end': 417, 'text': 'Dursley'}, {'string_id': ['Vernon Dursley', 'Petunia Dursley', 'Dudley Dursley'], 'start': 422, 'end': 423, 'text': 'Dursley'}, {'string_id': ['Vernon Dursley', 'Petunia Dursley', 'Dudley Dursley'], 'start': 429, 'end': 430, 'text': 'Dursley'}, {'string_id': ['Vernon Dursley', 'Petunia Dursley', 'Dudley Dursley'], 'start': 453, 'end': 454, 'text': 'Dursley'}, {'string_id': ['Vernon Dursley', 'Petunia Dursley', 'Dudley Dursley'], 'start': 457, 'end': 458, 'text': 'Dursley'}, {'string_id': ['Vernon Dursley', 'Petunia Dursley', 'Dudley Dursley'], 'start': 462, 'end': 463, 'text': 'Dursley'}, {'string_id': ['Vernon Dursley', 'Petunia Dursley', 'Dudley Dursley'], 'start': 500, 'end': 501, 'text': 'Dursley'}, {'string_id': ['Vernon Dursley', 'Petunia Dursley', 'Dudley Dursley'], 'start': 503, 'end': 504, 'text': 'Dursley'}, {'string_id': ['Vernon Dursley', 'Petunia Dursley', 'Dudley Dursley'], 'start': 509, 'end': 510, 'text': 'Dursley'}, {'string_id': ['Vernon Dursley', 'Petunia Dursley', 'Dudley Dursley'], 'start': 513, 'end': 514, 'text': 'Dursley'}, {'string_id': ['Vernon Dursley', 'Petunia Dursley', 'Dudley Dursley'], 'start': 534, 'end': 535, 'text': 'Dursley'}, {'string_id': ['Vernon Dursley', 'Petunia Dursley', 'Dudley Dursley'], 'start': 554, 'end': 555, 'text': 'Dursley'}, {'string_id': ['Vernon Dursley', 'Petunia Dursley', 'Dudley Dursley'], 'start': 560, 'end': 561, 'text': 'Dursley'}, {'string_id': ['Vernon Dursley', 'Petunia Dursley', 'Dudley Dursley'], 'start': 566, 'end': 567, 'text': 'Dursley'}, {'string_id': ['Vernon Dursley', 'Petunia Dursley', 'Dudley Dursley'], 'start': 569, 'end': 570, 'text': 'Dursley'}, {'string_id': ['Vernon Dursley', 'Petunia Dursley', 'Dudley Dursley'], 'start': 601, 'end': 602, 'text': 'Dursley'}, {'string_id': ['Vernon Dursley', 'Petunia Dursley', 'Dudley Dursley'], 'start': 618, 'end': 619, 'text': 'Dursley'}, {'string_id': ['Vernon Dursley', 'Petunia Dursley', 'Dudley Dursley'], 'start': 627, 'end': 628, 'text': 'Dursley'}, {'string_id': ['Vernon Dursley', 'Petunia Dursley', 'Dudley Dursley'], 'start': 633, 'end': 634, 'text': 'Dursley'}, {'string_id': ['Vernon Dursley', 'Petunia Dursley', 'Dudley Dursley'], 'start': 644, 'end': 645, 'text': 'Dursley'}, {'string_id': ['Vernon Dursley', 'Petunia Dursley', 'Dudley Dursley'], 'start': 650, 'end': 651, 'text': 'Dursley'}, {'string_id': ['Vernon Dursley', 'Petunia Dursley', 'Dudley Dursley'], 'start': 680, 'end': 681, 'text': 'Dursley'}, {'string_id': ['Vernon Dursley', 'Petunia Dursley', 'Dudley Dursley'], 'start': 683, 'end': 684, 'text': 'Dursley'}, {'string_id': ['Vernon Dursley', 'Petunia Dursley', 'Dudley Dursley'], 'start': 694, 'end': 695, 'text': 'Dursley'}, {'string_id': ['Vernon Dursley', 'Petunia Dursley', 'Dudley Dursley'], 'start': 699, 'end': 700, 'text': 'Dursley'}, {'string_id': ['Vernon Dursley', 'Petunia Dursley', 'Dudley Dursley'], 'start': 704, 'end': 705, 'text': 'Dursley'}, {'string_id': ['Vernon Dursley', 'Petunia Dursley', 'Dudley Dursley'], 'start': 715, 'end': 716, 'text': 'Dursley'}, {'string_id': ['Vernon Dursley', 'Petunia Dursley', 'Dudley Dursley'], 'start': 736, 'end': 737, 'text': 'Dursley'}, {'string_id': ['Vernon Dursley', 'Petunia Dursley', 'Dudley Dursley'], 'start': 744, 'end': 745, 'text': 'Dursley'}, {'string_id': ['Vernon Dursley', 'Petunia Dursley', 'Dudley Dursley'], 'start': 754, 'end': 755, 'text': 'Dursley'}, {'string_id': ['Vernon Dursley', 'Petunia Dursley', 'Dudley Dursley'], 'start': 777, 'end': 778, 'text': 'Dursley'}, {'string_id': ['Vernon Dursley', 'Petunia Dursley', 'Dudley Dursley'], 'start': 797, 'end': 798, 'text': 'Dursley'}, {'string_id': ['Vernon Dursley', 'Petunia Dursley', 'Dudley Dursley'], 'start': 807, 'end': 808, 'text': 'Dursley'}, {'string_id': ['Vernon Dursley', 'Petunia Dursley', 'Dudley Dursley'], 'start': 810, 'end': 811, 'text': 'Dursley'}, {'string_id': ['Vernon Dursley', 'Petunia Dursley', 'Dudley Dursley'], 'start': 818, 'end': 819, 'text': 'Dursley'}, {'string_id': ['Vernon Dursley', 'Petunia Dursley', 'Dudley Dursley'], 'start': 839, 'end': 840, 'text': 'Dursley'}, {'string_id': ['Vernon Dursley', 'Petunia Dursley', 'Dudley Dursley'], 'start': 858, 'end': 859, 'text': 'Dursley'}, {'string_id': ['Vernon Dursley', 'Petunia Dursley', 'Dudley Dursley'], 'start': 865, 'end': 866, 'text': 'Dursley'}, {'string_id': ['Vernon Dursley', 'Petunia Dursley', 'Dudley Dursley'], 'start': 880, 'end': 881, 'text': 'Dursley'}, {'string_id': ['Vernon Dursley', 'Petunia Dursley', 'Dudley Dursley'], 'start': 890, 'end': 891, 'text': 'Dursley'}, {'string_id': ['Vernon Dursley', 'Petunia Dursley', 'Dudley Dursley'], 'start': 925, 'end': 926, 'text': 'Dursley'}, {'string_id': ['Vernon Dursley', 'Petunia Dursley', 'Dudley Dursley'], 'start': 934, 'end': 935, 'text': 'Dursley'}, {'string_id': ['Vernon Dursley', 'Petunia Dursley', 'Dudley Dursley'], 'start': 941, 'end': 942, 'text': 'Dursley'}, {'string_id': ['Vernon Dursley', 'Petunia Dursley', 'Dudley Dursley'], 'start': 946, 'end': 947, 'text': 'Dursley'}, {'string_id': ['Vernon Dursley', 'Petunia Dursley', 'Dudley Dursley'], 'start': 953, 'end': 954, 'text': 'Dursley'}, {'string_id': ['Vernon Dursley', 'Petunia Dursley', 'Dudley Dursley'], 'start': 962, 'end': 963, 'text': 'Dursley'}, {'string_id': ['Vernon Dursley', 'Petunia Dursley', 'Dudley Dursley'], 'start': 967, 'end': 968, 'text': 'Dursley'}, {'string_id': ['Vernon Dursley', 'Petunia Dursley', 'Dudley Dursley'], 'start': 981, 'end': 982, 'text': 'Dursley'}, {'string_id': ['Vernon Dursley', 'Petunia Dursley', 'Dudley Dursley'], 'start': 1032, 'end': 1033, 'text': 'Dursley'}, {'string_id': ['Vernon Dursley', 'Petunia Dursley', 'Dudley Dursley'], 'start': 1047, 'end': 1048, 'text': 'Dursley'}, {'string_id': ['Vernon Dursley', 'Petunia Dursley', 'Dudley Dursley'], 'start': 1055, 'end': 1056, 'text': 'Dursley'}, {'string_id': ['Vernon Dursley', 'Petunia Dursley', 'Dudley Dursley'], 'start': 1068, 'end': 1069, 'text': 'Dursley'}, {'string_id': ['Vernon Dursley', 'Petunia Dursley', 'Dudley Dursley'], 'start': 1080, 'end': 1081, 'text': 'Dursley'}, {'string_id': ['Vernon Dursley', 'Petunia Dursley', 'Dudley Dursley'], 'start': 1086, 'end': 1087, 'text': 'Dursley'}, {'string_id': ['Vernon Dursley', 'Petunia Dursley', 'Dudley Dursley'], 'start': 1096, 'end': 1097, 'text': 'Dursley'}, {'string_id': ['Vernon Dursley', 'Petunia Dursley', 'Dudley Dursley'], 'start': 1114, 'end': 1115, 'text': 'Dursley'}, {'string_id': ['Vernon Dursley', 'Petunia Dursley', 'Dudley Dursley'], 'start': 1130, 'end': 1131, 'text': 'Dursley'}, {'string_id': ['Vernon Dursley', 'Petunia Dursley', 'Dudley Dursley'], 'start': 1139, 'end': 1140, 'text': 'Dursley'}, {'string_id': ['Vernon Dursley', 'Petunia Dursley', 'Dudley Dursley'], 'start': 1143, 'end': 1144, 'text': 'Dursley'}, {'string_id': ['Vernon Dursley', 'Petunia Dursley', 'Dudley Dursley'], 'start': 1156, 'end': 1157, 'text': 'Dursley'}, {'string_id': ['Vernon Dursley', 'Petunia Dursley', 'Dudley Dursley'], 'start': 1171, 'end': 1172, 'text': 'Dursley'}, {'string_id': ['Vernon Dursley', 'Petunia Dursley', 'Dudley Dursley'], 'start': 1184, 'end': 1185, 'text': 'Dursley'}, {'string_id': ['Vernon Dursley', 'Petunia Dursley', 'Dudley Dursley'], 'start': 1203, 'end': 1204, 'text': 'Dursley'}, {'string_id': ['Vernon Dursley', 'Petunia Dursley', 'Dudley Dursley'], 'start': 1239, 'end': 1240, 'text': 'Dursley'}, {'string_id': ['Vernon Dursley', 'Petunia Dursley', 'Dudley Dursley'], 'start': 1251, 'end': 1252, 'text': 'Dursley'}, {'string_id': ['Vernon Dursley', 'Petunia Dursley', 'Dudley Dursley'], 'start': 1259, 'end': 1260, 'text': 'Dursley'}, {'string_id': ['Vernon Dursley', 'Petunia Dursley', 'Dudley Dursley'], 'start': 1273, 'end': 1274, 'text': 'Dursley'}, {'string_id': ['Vernon Dursley', 'Petunia Dursley', 'Dudley Dursley'], 'start': 1294, 'end': 1295, 'text': 'Dursley'}, {'string_id': ['Vernon Dursley', 'Petunia Dursley', 'Dudley Dursley'], 'start': 1310, 'end': 1311, 'text': 'Dursley'}, {'string_id': ['Vernon Dursley', 'Petunia Dursley', 'Dudley Dursley'], 'start': 1321, 'end': 1322, 'text': 'Dursley'}, {'string_id': ['Vernon Dursley', 'Petunia Dursley', 'Dudley Dursley'], 'start': 1332, 'end': 1333, 'text': 'Dursley'}, {'string_id': ['Vernon Dursley', 'Petunia Dursley', 'Dudley Dursley'], 'start': 1341, 'end': 1342, 'text': 'Dursley'}, {'string_id': ['Vernon Dursley', 'Petunia Dursley', 'Dudley Dursley'], 'start': 1355, 'end': 1356, 'text': 'Dursley'}, {'string_id': ['Vernon Dursley', 'Petunia Dursley', 'Dudley Dursley'], 'start': 1365, 'end': 1366, 'text': 'Dursley'}, {'string_id': ['Vernon Dursley', 'Petunia Dursley', 'Dudley Dursley'], 'start': 1373, 'end': 1374, 'text': 'Dursley'}, {'string_id': ['Vernon Dursley', 'Petunia Dursley', 'Dudley Dursley'], 'start': 1382, 'end': 1383, 'text': 'Dursley'}, {'string_id': ['Vernon Dursley', 'Petunia Dursley', 'Dudley Dursley'], 'start': 1396, 'end': 1397, 'text': 'Dursley'}, {'string_id': ['Vernon Dursley', 'Petunia Dursley', 'Dudley Dursley'], 'start': 1409, 'end': 1410, 'text': 'Dursley'}, {'string_id': ['Lily J. Potter', 'James Potter I', 'Harry Potter'], 'start': 1414, 'end': 1415, 'text': 'Potter'}, {'string_id': ['Lily J. Potter', 'James Potter I', 'Harry Potter'], 'start': 1422, 'end': 1423, 'text': 'Potter'}, {'string_id': ['Lily J. Potter', 'James Potter I', 'Harry Potter'], 'start': 1431, 'end': 1432, 'text': 'Potter'}, {'string_id': ['Lily J. Potter', 'James Potter I', 'Harry Potter'], 'start': 1445, 'end': 1446, 'text': 'Potter'}, {'string_id': ['Lily J. Potter', 'James Potter I', 'Harry Potter'], 'start': 1450, 'end': 1451, 'text': 'Potter'}, {'string_id': ['Vernon Dursley', 'Petunia Dursley', 'Dudley Dursley'], 'start': 1479, 'end': 1480, 'text': 'Dursley'}, {'string_id': ['Vernon Dursley', 'Petunia Dursley', 'Dudley Dursley'], 'start': 1482, 'end': 1483, 'text': 'Dursley'}, {'string_id': ['Vernon Dursley', 'Petunia Dursley', 'Dudley Dursley'], 'start': 1492, 'end': 1493, 'text': 'Dursley'}, {'string_id': ['Lily J. Potter', 'James Potter I', 'Harry Potter'], 'start': 1495, 'end': 1496, 'text': 'Potter'}, {'string_id': ['Vernon Dursley', 'Petunia Dursley', 'Dudley Dursley'], 'start': 1500, 'end': 1501, 'text': 'Dursley'}, {'string_id': ['Lily J. Potter', 'James Potter I', 'Harry Potter'], 'start': 1520, 'end': 1521, 'text': 'Potter'}, {'string_id': ['Lily J. Potter', 'James Potter I', 'Harry Potter'], 'start': 1534, 'end': 1535, 'text': 'Potter'}, {'string_id': ['Lily J. Potter', 'James Potter I', 'Harry Potter'], 'start': 1542, 'end': 1543, 'text': 'Potter'}, {'string_id': ['Lily J. Potter', 'James Potter I', 'Harry Potter'], 'start': 1548, 'end': 1549, 'text': 'Potter'}, {'string_id': ['Lily J. Potter', 'James Potter I', 'Harry Potter'], 'start': 1562, 'end': 1563, 'text': 'Potter'}, {'string_id': ['Vernon Dursley', 'Petunia Dursley', 'Dudley Dursley'], 'start': 1582, 'end': 1583, 'text': 'Dursley'}, {'string_id': ['Vernon Dursley', 'Petunia Dursley', 'Dudley Dursley'], 'start': 1691, 'end': 1692, 'text': 'Dursley'}, {'string_id': ['Vernon Dursley', 'Petunia Dursley', 'Dudley Dursley'], 'start': 1700, 'end': 1701, 'text': 'Dursley'}, {'string_id': ['Vernon Dursley', 'Petunia Dursley', 'Dudley Dursley'], 'start': 1708, 'end': 1709, 'text': 'Dursley'}, {'string_id': ['Vernon Dursley', 'Petunia Dursley', 'Dudley Dursley'], 'start': 1718, 'end': 1719, 'text': 'Dursley'}, {'string_id': ['Vernon Dursley', 'Petunia Dursley', 'Dudley Dursley'], 'start': 1722, 'end': 1723, 'text': 'Dursley'}, {'string_id': ['Vernon Dursley', 'Petunia Dursley', 'Dudley Dursley'], 'start': 1734, 'end': 1735, 'text': 'Dursley'}, {'string_id': ['Vernon Dursley', 'Petunia Dursley', 'Dudley Dursley'], 'start': 1739, 'end': 1740, 'text': 'Dursley'}, {'string_id': ['Vernon Dursley', 'Petunia Dursley', 'Dudley Dursley'], 'start': 1743, 'end': 1744, 'text': 'Dursley'}, {'string_id': ['Vernon Dursley', 'Petunia Dursley', 'Dudley Dursley'], 'start': 1753, 'end': 1754, 'text': 'Dursley'}, {'string_id': ['Vernon Dursley', 'Petunia Dursley', 'Dudley Dursley'], 'start': 1760, 'end': 1761, 'text': 'Dursley'}, {'string_id': ['Vernon Dursley', 'Petunia Dursley', 'Dudley Dursley'], 'start': 1768, 'end': 1769, 'text': 'Dursley'}, {'string_id': ['Vernon Dursley', 'Petunia Dursley', 'Dudley Dursley'], 'start': 1777, 'end': 1778, 'text': 'Dursley'}, {'string_id': ['Vernon Dursley', 'Petunia Dursley', 'Dudley Dursley'], 'start': 1790, 'end': 1791, 'text': 'Dursley'}, {'string_id': ['Vernon Dursley', 'Petunia Dursley', 'Dudley Dursley'], 'start': 1799, 'end': 1800, 'text': 'Dursley'}, {'string_id': ['Vernon Dursley', 'Petunia Dursley', 'Dudley Dursley'], 'start': 1825, 'end': 1826, 'text': 'Dursley'}, {'string_id': ['Vernon Dursley', 'Petunia Dursley', 'Dudley Dursley'], 'start': 1830, 'end': 1831, 'text': 'Dursley'}, {'string_id': ['Vernon Dursley', 'Petunia Dursley', 'Dudley Dursley'], 'start': 1875, 'end': 1876, 'text': 'Dursley'}, {'string_id': ['Vernon Dursley', 'Petunia Dursley', 'Dudley Dursley'], 'start': 1895, 'end': 1896, 'text': 'Dursley'}, {'string_id': ['Vernon Dursley', 'Petunia Dursley', 'Dudley Dursley'], 'start': 1907, 'end': 1908, 'text': 'Dursley'}, {'string_id': ['Vernon Dursley', 'Petunia Dursley', 'Dudley Dursley'], 'start': 1914, 'end': 1915, 'text': 'Dursley'}, {'string_id': ['Vernon Dursley', 'Petunia Dursley', 'Dudley Dursley'], 'start': 1918, 'end': 1919, 'text': 'Dursley'}, {'string_id': ['Vernon Dursley', 'Petunia Dursley', 'Dudley Dursley'], 'start': 1921, 'end': 1922, 'text': 'Dursley'}, {'string_id': ['Vernon Dursley', 'Petunia Dursley', 'Dudley Dursley'], 'start': 1927, 'end': 1928, 'text': 'Dursley'}, {'string_id': ['Vernon Dursley', 'Petunia Dursley', 'Dudley Dursley'], 'start': 1937, 'end': 1938, 'text': 'Dursley'}, {'string_id': ['Vernon Dursley', 'Petunia Dursley', 'Dudley Dursley'], 'start': 1941, 'end': 1942, 'text': 'Dursley'}, {'string_id': ['Vernon Dursley', 'Petunia Dursley', 'Dudley Dursley'], 'start': 1951, 'end': 1952, 'text': 'Dursley'}, {'string_id': ['Vernon Dursley', 'Petunia Dursley', 'Dudley Dursley'], 'start': 1954, 'end': 1955, 'text': 'Dursley'}, {'string_id': ['Vernon Dursley', 'Petunia Dursley', 'Dudley Dursley'], 'start': 1966, 'end': 1967, 'text': 'Dursley'}, {'string_id': ['Vernon Dursley', 'Petunia Dursley', 'Dudley Dursley'], 'start': 1985, 'end': 1986, 'text': 'Dursley'}, {'string_id': ['Vernon Dursley', 'Petunia Dursley', 'Dudley Dursley'], 'start': 2226, 'end': 2227, 'text': 'Dursley'}, {'string_id': ['Vernon Dursley', 'Petunia Dursley', 'Dudley Dursley'], 'start': 2231, 'end': 2232, 'text': 'Dursley'}, {'string_id': ['Vernon Dursley', 'Petunia Dursley', 'Dudley Dursley'], 'start': 2265, 'end': 2266, 'text': 'Dursley'}, {'string_id': ['Vernon Dursley', 'Petunia Dursley', 'Dudley Dursley'], 'start': 2290, 'end': 2291, 'text': 'Dursley'}, {'string_id': ['Vernon Dursley', 'Petunia Dursley', 'Dudley Dursley'], 'start': 2293, 'end': 2294, 'text': 'Dursley'}, {'string_id': ['Vernon Dursley', 'Petunia Dursley', 'Dudley Dursley'], 'start': 2296, 'end': 2297, 'text': 'Dursley'}, {'string_id': ['Vernon Dursley', 'Petunia Dursley', 'Dudley Dursley'], 'start': 2322, 'end': 2323, 'text': 'Dursley'}, {'string_id': ['Vernon Dursley', 'Petunia Dursley', 'Dudley Dursley'], 'start': 2327, 'end': 2328, 'text': 'Dursley'}, {'string_id': ['Vernon Dursley', 'Petunia Dursley', 'Dudley Dursley'], 'start': 2340, 'end': 2341, 'text': 'Dursley'}, {'string_id': ['Vernon Dursley', 'Petunia Dursley', 'Dudley Dursley'], 'start': 2352, 'end': 2353, 'text': 'Dursley'}, {'string_id': ['Vernon Dursley', 'Petunia Dursley', 'Dudley Dursley'], 'start': 2369, 'end': 2370, 'text': 'Dursley'}, {'string_id': ['Vernon Dursley', 'Petunia Dursley', 'Dudley Dursley'], 'start': 2399, 'end': 2400, 'text': 'Dursley'}, {'string_id': ['Vernon Dursley', 'Petunia Dursley', 'Dudley Dursley'], 'start': 2421, 'end': 2422, 'text': 'Dursley'}, {'string_id': ['Vernon Dursley', 'Petunia Dursley', 'Dudley Dursley'], 'start': 2426, 'end': 2427, 'text': 'Dursley'}, {'string_id': ['Vernon Dursley', 'Petunia Dursley', 'Dudley Dursley'], 'start': 2429, 'end': 2430, 'text': 'Dursley'}, {'string_id': ['Vernon Dursley', 'Petunia Dursley', 'Dudley Dursley'], 'start': 2436, 'end': 2437, 'text': 'Dursley'}, {'string_id': ['Vernon Dursley', 'Petunia Dursley', 'Dudley Dursley'], 'start': 2440, 'end': 2441, 'text': 'Dursley'}, {'string_id': ['Vernon Dursley', 'Petunia Dursley', 'Dudley Dursley'], 'start': 2444, 'end': 2445, 'text': 'Dursley'}, {'string_id': ['Lily J. Potter', 'James Potter I', 'Harry Potter'], 'start': 2451, 'end': 2452, 'text': 'Potter'}, {'string_id': ['Vernon Dursley', 'Petunia Dursley', 'Dudley Dursley'], 'start': 2455, 'end': 2456, 'text': 'Dursley'}, {'string_id': ['Vernon Dursley', 'Petunia Dursley', 'Dudley Dursley'], 'start': 2458, 'end': 2459, 'text': 'Dursley'}, {'string_id': ['Vernon Dursley', 'Petunia Dursley', 'Dudley Dursley'], 'start': 2465, 'end': 2466, 'text': 'Dursley'}, {'string_id': ['Vernon Dursley', 'Petunia Dursley', 'Dudley Dursley'], 'start': 2472, 'end': 2473, 'text': 'Dursley'}, {'string_id': ['Vernon Dursley', 'Petunia Dursley', 'Dudley Dursley'], 'start': 2502, 'end': 2503, 'text': 'Dursley'}, {'string_id': ['Vernon Dursley', 'Petunia Dursley', 'Dudley Dursley'], 'start': 2542, 'end': 2543, 'text': 'Dursley'}, {'string_id': ['Vernon Dursley', 'Petunia Dursley', 'Dudley Dursley'], 'start': 2545, 'end': 2546, 'text': 'Dursley'}, {'string_id': ['Vernon Dursley', 'Petunia Dursley', 'Dudley Dursley'], 'start': 2559, 'end': 2560, 'text': 'Dursley'}, {'string_id': ['Vernon Dursley', 'Petunia Dursley', 'Dudley Dursley'], 'start': 2577, 'end': 2578, 'text': 'Dursley'}, {'string_id': ['Vernon Dursley', 'Petunia Dursley', 'Dudley Dursley'], 'start': 2584, 'end': 2585, 'text': 'Dursley'}, {'string_id': ['Vernon Dursley', 'Petunia Dursley', 'Dudley Dursley'], 'start': 2622, 'end': 2623, 'text': 'Dursley'}, {'string_id': ['Vernon Dursley', 'Petunia Dursley', 'Dudley Dursley'], 'start': 2657, 'end': 2658, 'text': 'Dursley'}, {'string_id': ['Vernon Dursley', 'Petunia Dursley', 'Dudley Dursley'], 'start': 2662, 'end': 2663, 'text': 'Dursley'}, {'string_id': ['Vernon Dursley', 'Petunia Dursley', 'Dudley Dursley'], 'start': 2674, 'end': 2675, 'text': 'Dursley'}, {'string_id': ['Vernon Dursley', 'Petunia Dursley', 'Dudley Dursley'], 'start': 2680, 'end': 2681, 'text': 'Dursley'}, {'string_id': ['Vernon Dursley', 'Petunia Dursley', 'Dudley Dursley'], 'start': 2690, 'end': 2691, 'text': 'Dursley'}, {'string_id': ['Vernon Dursley', 'Petunia Dursley', 'Dudley Dursley'], 'start': 2694, 'end': 2695, 'text': 'Dursley'}, {'string_id': ['Vernon Dursley', 'Petunia Dursley', 'Dudley Dursley'], 'start': 2701, 'end': 2702, 'text': 'Dursley'}, {'string_id': ['Vernon Dursley', 'Petunia Dursley', 'Dudley Dursley'], 'start': 2724, 'end': 2725, 'text': 'Dursley'}, {'string_id': ['Vernon Dursley', 'Petunia Dursley', 'Dudley Dursley'], 'start': 2727, 'end': 2728, 'text': 'Dursley'}, {'string_id': ['Vernon Dursley', 'Petunia Dursley', 'Dudley Dursley'], 'start': 2736, 'end': 2737, 'text': 'Dursley'}, {'string_id': ['Vernon Dursley', 'Petunia Dursley', 'Dudley Dursley'], 'start': 2749, 'end': 2750, 'text': 'Dursley'}, {'string_id': ['Vernon Dursley', 'Petunia Dursley', 'Dudley Dursley'], 'start': 2755, 'end': 2756, 'text': 'Dursley'}, {'string_id': ['Vernon Dursley', 'Petunia Dursley', 'Dudley Dursley'], 'start': 2771, 'end': 2772, 'text': 'Dursley'}, {'string_id': ['Vernon Dursley', 'Petunia Dursley', 'Dudley Dursley'], 'start': 2789, 'end': 2790, 'text': 'Dursley'}, {'string_id': ['Vernon Dursley', 'Petunia Dursley', 'Dudley Dursley'], 'start': 2793, 'end': 2794, 'text': 'Dursley'}, {'string_id': ['Vernon Dursley', 'Petunia Dursley', 'Dudley Dursley'], 'start': 3278, 'end': 3279, 'text': 'Dursley'}, {'string_id': ['Lily J. Potter', 'James Potter I', 'Harry Potter'], 'start': 4559, 'end': 4560, 'text': 'Potter'}, {'string_id': ['Vernon Dursley', 'Petunia Dursley', 'Dudley Dursley'], 'start': 6403, 'end': 6404, 'text': 'Dursley'}, {'string_id': ['Vernon Dursley', 'Petunia Dursley', 'Dudley Dursley'], 'start': 6408, 'end': 6409, 'text': 'Dursley'}]\n",
            "[{'string_id': ['Vernon Dursley', 'Petunia Dursley', 'Dudley Dursley'], 'start': 3, 'end': 4, 'text': 'Dursley'}, {'string_id': ['Vernon Dursley', 'Petunia Dursley', 'Dudley Dursley'], 'start': 20, 'end': 21, 'text': 'Dursley'}, {'string_id': ['Vernon Dursley', 'Petunia Dursley', 'Dudley Dursley'], 'start': 40, 'end': 41, 'text': 'Dursley'}, {'string_id': ['Vernon Dursley', 'Petunia Dursley', 'Dudley Dursley'], 'start': 68, 'end': 69, 'text': 'Dursley'}, {'string_id': ['Vernon Dursley', 'Petunia Dursley', 'Dudley Dursley'], 'start': 85, 'end': 86, 'text': 'Dursley'}, {'string_id': ['Vernon Dursley', 'Petunia Dursley', 'Dudley Dursley'], 'start': 100, 'end': 101, 'text': 'Dursley'}, {'string_id': ['Vernon Dursley', 'Petunia Dursley', 'Dudley Dursley'], 'start': 114, 'end': 115, 'text': 'Dursley'}, {'string_id': ['Vernon Dursley', 'Petunia Dursley', 'Dudley Dursley'], 'start': 123, 'end': 124, 'text': 'Dursley'}, {'string_id': ['Vernon Dursley', 'Petunia Dursley', 'Dudley Dursley'], 'start': 145, 'end': 146, 'text': 'Dursley'}, {'string_id': ['Vernon Dursley', 'Petunia Dursley', 'Dudley Dursley'], 'start': 151, 'end': 152, 'text': 'Dursley'}, {'string_id': ['Vernon Dursley', 'Petunia Dursley', 'Dudley Dursley'], 'start': 224, 'end': 225, 'text': 'Dursley'}, {'string_id': ['Vernon Dursley', 'Petunia Dursley', 'Dudley Dursley'], 'start': 227, 'end': 228, 'text': 'Dursley'}, {'string_id': ['Vernon Dursley', 'Petunia Dursley', 'Dudley Dursley'], 'start': 244, 'end': 245, 'text': 'Dursley'}, {'string_id': ['Vernon Dursley', 'Petunia Dursley', 'Dudley Dursley'], 'start': 247, 'end': 248, 'text': 'Dursley'}, {'string_id': ['Vernon Dursley', 'Petunia Dursley', 'Dudley Dursley'], 'start': 256, 'end': 257, 'text': 'Dursley'}, {'string_id': ['Vernon Dursley', 'Petunia Dursley', 'Dudley Dursley'], 'start': 260, 'end': 261, 'text': 'Dursley'}, {'string_id': ['Vernon Dursley', 'Petunia Dursley', 'Dudley Dursley'], 'start': 361, 'end': 362, 'text': 'Dursley'}, {'string_id': ['Vernon Dursley', 'Petunia Dursley', 'Dudley Dursley'], 'start': 399, 'end': 400, 'text': 'Dursley'}, {'string_id': ['Vernon Dursley', 'Petunia Dursley', 'Dudley Dursley'], 'start': 403, 'end': 404, 'text': 'Dursley'}, {'string_id': ['Vernon Dursley', 'Petunia Dursley', 'Dudley Dursley'], 'start': 407, 'end': 408, 'text': 'Dursley'}, {'string_id': ['Vernon Dursley', 'Petunia Dursley', 'Dudley Dursley'], 'start': 416, 'end': 417, 'text': 'Dursley'}, {'string_id': ['Vernon Dursley', 'Petunia Dursley', 'Dudley Dursley'], 'start': 422, 'end': 423, 'text': 'Dursley'}, {'string_id': ['Vernon Dursley', 'Petunia Dursley', 'Dudley Dursley'], 'start': 429, 'end': 430, 'text': 'Dursley'}, {'string_id': ['Vernon Dursley', 'Petunia Dursley', 'Dudley Dursley'], 'start': 453, 'end': 454, 'text': 'Dursley'}, {'string_id': ['Vernon Dursley', 'Petunia Dursley', 'Dudley Dursley'], 'start': 457, 'end': 458, 'text': 'Dursley'}, {'string_id': ['Vernon Dursley', 'Petunia Dursley', 'Dudley Dursley'], 'start': 462, 'end': 463, 'text': 'Dursley'}, {'string_id': ['Vernon Dursley', 'Petunia Dursley', 'Dudley Dursley'], 'start': 500, 'end': 501, 'text': 'Dursley'}, {'string_id': ['Vernon Dursley', 'Petunia Dursley', 'Dudley Dursley'], 'start': 503, 'end': 504, 'text': 'Dursley'}, {'string_id': ['Vernon Dursley', 'Petunia Dursley', 'Dudley Dursley'], 'start': 509, 'end': 510, 'text': 'Dursley'}, {'string_id': ['Vernon Dursley', 'Petunia Dursley', 'Dudley Dursley'], 'start': 513, 'end': 514, 'text': 'Dursley'}, {'string_id': ['Vernon Dursley', 'Petunia Dursley', 'Dudley Dursley'], 'start': 534, 'end': 535, 'text': 'Dursley'}, {'string_id': ['Vernon Dursley', 'Petunia Dursley', 'Dudley Dursley'], 'start': 554, 'end': 555, 'text': 'Dursley'}, {'string_id': ['Vernon Dursley', 'Petunia Dursley', 'Dudley Dursley'], 'start': 560, 'end': 561, 'text': 'Dursley'}, {'string_id': ['Vernon Dursley', 'Petunia Dursley', 'Dudley Dursley'], 'start': 566, 'end': 567, 'text': 'Dursley'}, {'string_id': ['Vernon Dursley', 'Petunia Dursley', 'Dudley Dursley'], 'start': 569, 'end': 570, 'text': 'Dursley'}, {'string_id': ['Vernon Dursley', 'Petunia Dursley', 'Dudley Dursley'], 'start': 601, 'end': 602, 'text': 'Dursley'}, {'string_id': ['Vernon Dursley', 'Petunia Dursley', 'Dudley Dursley'], 'start': 618, 'end': 619, 'text': 'Dursley'}, {'string_id': ['Vernon Dursley', 'Petunia Dursley', 'Dudley Dursley'], 'start': 627, 'end': 628, 'text': 'Dursley'}, {'string_id': ['Vernon Dursley', 'Petunia Dursley', 'Dudley Dursley'], 'start': 633, 'end': 634, 'text': 'Dursley'}, {'string_id': ['Vernon Dursley', 'Petunia Dursley', 'Dudley Dursley'], 'start': 644, 'end': 645, 'text': 'Dursley'}, {'string_id': ['Vernon Dursley', 'Petunia Dursley', 'Dudley Dursley'], 'start': 650, 'end': 651, 'text': 'Dursley'}, {'string_id': ['Vernon Dursley', 'Petunia Dursley', 'Dudley Dursley'], 'start': 680, 'end': 681, 'text': 'Dursley'}, {'string_id': ['Vernon Dursley', 'Petunia Dursley', 'Dudley Dursley'], 'start': 683, 'end': 684, 'text': 'Dursley'}, {'string_id': ['Vernon Dursley', 'Petunia Dursley', 'Dudley Dursley'], 'start': 694, 'end': 695, 'text': 'Dursley'}, {'string_id': ['Vernon Dursley', 'Petunia Dursley', 'Dudley Dursley'], 'start': 699, 'end': 700, 'text': 'Dursley'}, {'string_id': ['Vernon Dursley', 'Petunia Dursley', 'Dudley Dursley'], 'start': 704, 'end': 705, 'text': 'Dursley'}, {'string_id': ['Vernon Dursley', 'Petunia Dursley', 'Dudley Dursley'], 'start': 715, 'end': 716, 'text': 'Dursley'}, {'string_id': ['Vernon Dursley', 'Petunia Dursley', 'Dudley Dursley'], 'start': 736, 'end': 737, 'text': 'Dursley'}, {'string_id': ['Vernon Dursley', 'Petunia Dursley', 'Dudley Dursley'], 'start': 744, 'end': 745, 'text': 'Dursley'}, {'string_id': ['Vernon Dursley', 'Petunia Dursley', 'Dudley Dursley'], 'start': 754, 'end': 755, 'text': 'Dursley'}, {'string_id': ['Vernon Dursley', 'Petunia Dursley', 'Dudley Dursley'], 'start': 777, 'end': 778, 'text': 'Dursley'}, {'string_id': ['Vernon Dursley', 'Petunia Dursley', 'Dudley Dursley'], 'start': 797, 'end': 798, 'text': 'Dursley'}, {'string_id': ['Vernon Dursley', 'Petunia Dursley', 'Dudley Dursley'], 'start': 807, 'end': 808, 'text': 'Dursley'}, {'string_id': ['Vernon Dursley', 'Petunia Dursley', 'Dudley Dursley'], 'start': 810, 'end': 811, 'text': 'Dursley'}, {'string_id': ['Vernon Dursley', 'Petunia Dursley', 'Dudley Dursley'], 'start': 818, 'end': 819, 'text': 'Dursley'}, {'string_id': ['Vernon Dursley', 'Petunia Dursley', 'Dudley Dursley'], 'start': 839, 'end': 840, 'text': 'Dursley'}, {'string_id': ['Vernon Dursley', 'Petunia Dursley', 'Dudley Dursley'], 'start': 858, 'end': 859, 'text': 'Dursley'}, {'string_id': ['Vernon Dursley', 'Petunia Dursley', 'Dudley Dursley'], 'start': 865, 'end': 866, 'text': 'Dursley'}, {'string_id': ['Vernon Dursley', 'Petunia Dursley', 'Dudley Dursley'], 'start': 880, 'end': 881, 'text': 'Dursley'}, {'string_id': ['Vernon Dursley', 'Petunia Dursley', 'Dudley Dursley'], 'start': 890, 'end': 891, 'text': 'Dursley'}, {'string_id': ['Vernon Dursley', 'Petunia Dursley', 'Dudley Dursley'], 'start': 925, 'end': 926, 'text': 'Dursley'}, {'string_id': ['Vernon Dursley', 'Petunia Dursley', 'Dudley Dursley'], 'start': 934, 'end': 935, 'text': 'Dursley'}, {'string_id': ['Vernon Dursley', 'Petunia Dursley', 'Dudley Dursley'], 'start': 941, 'end': 942, 'text': 'Dursley'}, {'string_id': ['Vernon Dursley', 'Petunia Dursley', 'Dudley Dursley'], 'start': 946, 'end': 947, 'text': 'Dursley'}, {'string_id': ['Vernon Dursley', 'Petunia Dursley', 'Dudley Dursley'], 'start': 953, 'end': 954, 'text': 'Dursley'}, {'string_id': ['Vernon Dursley', 'Petunia Dursley', 'Dudley Dursley'], 'start': 962, 'end': 963, 'text': 'Dursley'}, {'string_id': ['Vernon Dursley', 'Petunia Dursley', 'Dudley Dursley'], 'start': 967, 'end': 968, 'text': 'Dursley'}, {'string_id': ['Vernon Dursley', 'Petunia Dursley', 'Dudley Dursley'], 'start': 981, 'end': 982, 'text': 'Dursley'}, {'string_id': ['Vernon Dursley', 'Petunia Dursley', 'Dudley Dursley'], 'start': 1032, 'end': 1033, 'text': 'Dursley'}, {'string_id': ['Vernon Dursley', 'Petunia Dursley', 'Dudley Dursley'], 'start': 1047, 'end': 1048, 'text': 'Dursley'}, {'string_id': ['Vernon Dursley', 'Petunia Dursley', 'Dudley Dursley'], 'start': 1055, 'end': 1056, 'text': 'Dursley'}, {'string_id': ['Vernon Dursley', 'Petunia Dursley', 'Dudley Dursley'], 'start': 1068, 'end': 1069, 'text': 'Dursley'}, {'string_id': ['Vernon Dursley', 'Petunia Dursley', 'Dudley Dursley'], 'start': 1080, 'end': 1081, 'text': 'Dursley'}, {'string_id': ['Vernon Dursley', 'Petunia Dursley', 'Dudley Dursley'], 'start': 1086, 'end': 1087, 'text': 'Dursley'}, {'string_id': ['Vernon Dursley', 'Petunia Dursley', 'Dudley Dursley'], 'start': 1096, 'end': 1097, 'text': 'Dursley'}, {'string_id': ['Vernon Dursley', 'Petunia Dursley', 'Dudley Dursley'], 'start': 1114, 'end': 1115, 'text': 'Dursley'}, {'string_id': ['Vernon Dursley', 'Petunia Dursley', 'Dudley Dursley'], 'start': 1130, 'end': 1131, 'text': 'Dursley'}, {'string_id': ['Vernon Dursley', 'Petunia Dursley', 'Dudley Dursley'], 'start': 1139, 'end': 1140, 'text': 'Dursley'}, {'string_id': ['Vernon Dursley', 'Petunia Dursley', 'Dudley Dursley'], 'start': 1143, 'end': 1144, 'text': 'Dursley'}, {'string_id': ['Vernon Dursley', 'Petunia Dursley', 'Dudley Dursley'], 'start': 1156, 'end': 1157, 'text': 'Dursley'}, {'string_id': ['Vernon Dursley', 'Petunia Dursley', 'Dudley Dursley'], 'start': 1171, 'end': 1172, 'text': 'Dursley'}, {'string_id': ['Vernon Dursley', 'Petunia Dursley', 'Dudley Dursley'], 'start': 1184, 'end': 1185, 'text': 'Dursley'}, {'string_id': ['Vernon Dursley', 'Petunia Dursley', 'Dudley Dursley'], 'start': 1203, 'end': 1204, 'text': 'Dursley'}, {'string_id': ['Vernon Dursley', 'Petunia Dursley', 'Dudley Dursley'], 'start': 1239, 'end': 1240, 'text': 'Dursley'}, {'string_id': ['Vernon Dursley', 'Petunia Dursley', 'Dudley Dursley'], 'start': 1251, 'end': 1252, 'text': 'Dursley'}, {'string_id': ['Vernon Dursley', 'Petunia Dursley', 'Dudley Dursley'], 'start': 1259, 'end': 1260, 'text': 'Dursley'}, {'string_id': ['Vernon Dursley', 'Petunia Dursley', 'Dudley Dursley'], 'start': 1273, 'end': 1274, 'text': 'Dursley'}, {'string_id': ['Vernon Dursley', 'Petunia Dursley', 'Dudley Dursley'], 'start': 1294, 'end': 1295, 'text': 'Dursley'}, {'string_id': ['Vernon Dursley', 'Petunia Dursley', 'Dudley Dursley'], 'start': 1310, 'end': 1311, 'text': 'Dursley'}, {'string_id': ['Vernon Dursley', 'Petunia Dursley', 'Dudley Dursley'], 'start': 1321, 'end': 1322, 'text': 'Dursley'}, {'string_id': ['Vernon Dursley', 'Petunia Dursley', 'Dudley Dursley'], 'start': 1332, 'end': 1333, 'text': 'Dursley'}, {'string_id': ['Vernon Dursley', 'Petunia Dursley', 'Dudley Dursley'], 'start': 1341, 'end': 1342, 'text': 'Dursley'}, {'string_id': ['Vernon Dursley', 'Petunia Dursley', 'Dudley Dursley'], 'start': 1355, 'end': 1356, 'text': 'Dursley'}, {'string_id': ['Vernon Dursley', 'Petunia Dursley', 'Dudley Dursley'], 'start': 1365, 'end': 1366, 'text': 'Dursley'}, {'string_id': ['Vernon Dursley', 'Petunia Dursley', 'Dudley Dursley'], 'start': 1373, 'end': 1374, 'text': 'Dursley'}, {'string_id': ['Vernon Dursley', 'Petunia Dursley', 'Dudley Dursley'], 'start': 1382, 'end': 1383, 'text': 'Dursley'}, {'string_id': ['Vernon Dursley', 'Petunia Dursley', 'Dudley Dursley'], 'start': 1396, 'end': 1397, 'text': 'Dursley'}, {'string_id': ['Vernon Dursley', 'Petunia Dursley', 'Dudley Dursley'], 'start': 1409, 'end': 1410, 'text': 'Dursley'}, {'string_id': ['Vernon Dursley', 'Petunia Dursley', 'Dudley Dursley'], 'start': 1479, 'end': 1480, 'text': 'Dursley'}, {'string_id': ['Vernon Dursley', 'Petunia Dursley', 'Dudley Dursley'], 'start': 1482, 'end': 1483, 'text': 'Dursley'}, {'string_id': ['Vernon Dursley', 'Petunia Dursley', 'Dudley Dursley'], 'start': 1492, 'end': 1493, 'text': 'Dursley'}, {'string_id': ['Vernon Dursley', 'Petunia Dursley', 'Dudley Dursley'], 'start': 1500, 'end': 1501, 'text': 'Dursley'}, {'string_id': ['Vernon Dursley', 'Petunia Dursley', 'Dudley Dursley'], 'start': 1582, 'end': 1583, 'text': 'Dursley'}, {'string_id': ['Vernon Dursley', 'Petunia Dursley', 'Dudley Dursley'], 'start': 1691, 'end': 1692, 'text': 'Dursley'}, {'string_id': ['Vernon Dursley', 'Petunia Dursley', 'Dudley Dursley'], 'start': 1700, 'end': 1701, 'text': 'Dursley'}, {'string_id': ['Vernon Dursley', 'Petunia Dursley', 'Dudley Dursley'], 'start': 1708, 'end': 1709, 'text': 'Dursley'}, {'string_id': ['Vernon Dursley', 'Petunia Dursley', 'Dudley Dursley'], 'start': 1718, 'end': 1719, 'text': 'Dursley'}, {'string_id': ['Vernon Dursley', 'Petunia Dursley', 'Dudley Dursley'], 'start': 1722, 'end': 1723, 'text': 'Dursley'}, {'string_id': ['Vernon Dursley', 'Petunia Dursley', 'Dudley Dursley'], 'start': 1734, 'end': 1735, 'text': 'Dursley'}, {'string_id': ['Vernon Dursley', 'Petunia Dursley', 'Dudley Dursley'], 'start': 1739, 'end': 1740, 'text': 'Dursley'}, {'string_id': ['Vernon Dursley', 'Petunia Dursley', 'Dudley Dursley'], 'start': 1743, 'end': 1744, 'text': 'Dursley'}, {'string_id': ['Vernon Dursley', 'Petunia Dursley', 'Dudley Dursley'], 'start': 1753, 'end': 1754, 'text': 'Dursley'}, {'string_id': ['Vernon Dursley', 'Petunia Dursley', 'Dudley Dursley'], 'start': 1760, 'end': 1761, 'text': 'Dursley'}, {'string_id': ['Vernon Dursley', 'Petunia Dursley', 'Dudley Dursley'], 'start': 1768, 'end': 1769, 'text': 'Dursley'}, {'string_id': ['Vernon Dursley', 'Petunia Dursley', 'Dudley Dursley'], 'start': 1777, 'end': 1778, 'text': 'Dursley'}, {'string_id': ['Vernon Dursley', 'Petunia Dursley', 'Dudley Dursley'], 'start': 1790, 'end': 1791, 'text': 'Dursley'}, {'string_id': ['Vernon Dursley', 'Petunia Dursley', 'Dudley Dursley'], 'start': 1799, 'end': 1800, 'text': 'Dursley'}, {'string_id': ['Vernon Dursley', 'Petunia Dursley', 'Dudley Dursley'], 'start': 1825, 'end': 1826, 'text': 'Dursley'}, {'string_id': ['Vernon Dursley', 'Petunia Dursley', 'Dudley Dursley'], 'start': 1830, 'end': 1831, 'text': 'Dursley'}, {'string_id': ['Vernon Dursley', 'Petunia Dursley', 'Dudley Dursley'], 'start': 1875, 'end': 1876, 'text': 'Dursley'}, {'string_id': ['Vernon Dursley', 'Petunia Dursley', 'Dudley Dursley'], 'start': 1895, 'end': 1896, 'text': 'Dursley'}, {'string_id': ['Vernon Dursley', 'Petunia Dursley', 'Dudley Dursley'], 'start': 1907, 'end': 1908, 'text': 'Dursley'}, {'string_id': ['Vernon Dursley', 'Petunia Dursley', 'Dudley Dursley'], 'start': 1914, 'end': 1915, 'text': 'Dursley'}, {'string_id': ['Vernon Dursley', 'Petunia Dursley', 'Dudley Dursley'], 'start': 1918, 'end': 1919, 'text': 'Dursley'}, {'string_id': ['Vernon Dursley', 'Petunia Dursley', 'Dudley Dursley'], 'start': 1921, 'end': 1922, 'text': 'Dursley'}, {'string_id': ['Vernon Dursley', 'Petunia Dursley', 'Dudley Dursley'], 'start': 1927, 'end': 1928, 'text': 'Dursley'}, {'string_id': ['Vernon Dursley', 'Petunia Dursley', 'Dudley Dursley'], 'start': 1937, 'end': 1938, 'text': 'Dursley'}, {'string_id': ['Vernon Dursley', 'Petunia Dursley', 'Dudley Dursley'], 'start': 1941, 'end': 1942, 'text': 'Dursley'}, {'string_id': ['Vernon Dursley', 'Petunia Dursley', 'Dudley Dursley'], 'start': 1951, 'end': 1952, 'text': 'Dursley'}, {'string_id': ['Vernon Dursley', 'Petunia Dursley', 'Dudley Dursley'], 'start': 1954, 'end': 1955, 'text': 'Dursley'}, {'string_id': ['Vernon Dursley', 'Petunia Dursley', 'Dudley Dursley'], 'start': 1966, 'end': 1967, 'text': 'Dursley'}, {'string_id': ['Vernon Dursley', 'Petunia Dursley', 'Dudley Dursley'], 'start': 1985, 'end': 1986, 'text': 'Dursley'}, {'string_id': ['Vernon Dursley', 'Petunia Dursley', 'Dudley Dursley'], 'start': 2226, 'end': 2227, 'text': 'Dursley'}, {'string_id': ['Vernon Dursley', 'Petunia Dursley', 'Dudley Dursley'], 'start': 2231, 'end': 2232, 'text': 'Dursley'}, {'string_id': ['Vernon Dursley', 'Petunia Dursley', 'Dudley Dursley'], 'start': 2265, 'end': 2266, 'text': 'Dursley'}, {'string_id': ['Vernon Dursley', 'Petunia Dursley', 'Dudley Dursley'], 'start': 2290, 'end': 2291, 'text': 'Dursley'}, {'string_id': ['Vernon Dursley', 'Petunia Dursley', 'Dudley Dursley'], 'start': 2293, 'end': 2294, 'text': 'Dursley'}, {'string_id': ['Vernon Dursley', 'Petunia Dursley', 'Dudley Dursley'], 'start': 2296, 'end': 2297, 'text': 'Dursley'}, {'string_id': ['Vernon Dursley', 'Petunia Dursley', 'Dudley Dursley'], 'start': 2322, 'end': 2323, 'text': 'Dursley'}, {'string_id': ['Vernon Dursley', 'Petunia Dursley', 'Dudley Dursley'], 'start': 2327, 'end': 2328, 'text': 'Dursley'}, {'string_id': ['Vernon Dursley', 'Petunia Dursley', 'Dudley Dursley'], 'start': 2340, 'end': 2341, 'text': 'Dursley'}, {'string_id': ['Vernon Dursley', 'Petunia Dursley', 'Dudley Dursley'], 'start': 2352, 'end': 2353, 'text': 'Dursley'}, {'string_id': ['Vernon Dursley', 'Petunia Dursley', 'Dudley Dursley'], 'start': 2369, 'end': 2370, 'text': 'Dursley'}, {'string_id': ['Vernon Dursley', 'Petunia Dursley', 'Dudley Dursley'], 'start': 2399, 'end': 2400, 'text': 'Dursley'}, {'string_id': ['Vernon Dursley', 'Petunia Dursley', 'Dudley Dursley'], 'start': 2421, 'end': 2422, 'text': 'Dursley'}, {'string_id': ['Vernon Dursley', 'Petunia Dursley', 'Dudley Dursley'], 'start': 2426, 'end': 2427, 'text': 'Dursley'}, {'string_id': ['Vernon Dursley', 'Petunia Dursley', 'Dudley Dursley'], 'start': 2429, 'end': 2430, 'text': 'Dursley'}, {'string_id': ['Vernon Dursley', 'Petunia Dursley', 'Dudley Dursley'], 'start': 2436, 'end': 2437, 'text': 'Dursley'}, {'string_id': ['Vernon Dursley', 'Petunia Dursley', 'Dudley Dursley'], 'start': 2440, 'end': 2441, 'text': 'Dursley'}, {'string_id': ['Vernon Dursley', 'Petunia Dursley', 'Dudley Dursley'], 'start': 2444, 'end': 2445, 'text': 'Dursley'}, {'string_id': ['Vernon Dursley', 'Petunia Dursley', 'Dudley Dursley'], 'start': 2455, 'end': 2456, 'text': 'Dursley'}, {'string_id': ['Vernon Dursley', 'Petunia Dursley', 'Dudley Dursley'], 'start': 2458, 'end': 2459, 'text': 'Dursley'}, {'string_id': ['Vernon Dursley', 'Petunia Dursley', 'Dudley Dursley'], 'start': 2465, 'end': 2466, 'text': 'Dursley'}, {'string_id': ['Vernon Dursley', 'Petunia Dursley', 'Dudley Dursley'], 'start': 2472, 'end': 2473, 'text': 'Dursley'}, {'string_id': ['Vernon Dursley', 'Petunia Dursley', 'Dudley Dursley'], 'start': 2502, 'end': 2503, 'text': 'Dursley'}, {'string_id': ['Vernon Dursley', 'Petunia Dursley', 'Dudley Dursley'], 'start': 2542, 'end': 2543, 'text': 'Dursley'}, {'string_id': ['Vernon Dursley', 'Petunia Dursley', 'Dudley Dursley'], 'start': 2545, 'end': 2546, 'text': 'Dursley'}, {'string_id': ['Vernon Dursley', 'Petunia Dursley', 'Dudley Dursley'], 'start': 2559, 'end': 2560, 'text': 'Dursley'}, {'string_id': ['Vernon Dursley', 'Petunia Dursley', 'Dudley Dursley'], 'start': 2577, 'end': 2578, 'text': 'Dursley'}, {'string_id': ['Vernon Dursley', 'Petunia Dursley', 'Dudley Dursley'], 'start': 2584, 'end': 2585, 'text': 'Dursley'}, {'string_id': ['Vernon Dursley', 'Petunia Dursley', 'Dudley Dursley'], 'start': 2622, 'end': 2623, 'text': 'Dursley'}, {'string_id': ['Vernon Dursley', 'Petunia Dursley', 'Dudley Dursley'], 'start': 2657, 'end': 2658, 'text': 'Dursley'}, {'string_id': ['Vernon Dursley', 'Petunia Dursley', 'Dudley Dursley'], 'start': 2662, 'end': 2663, 'text': 'Dursley'}, {'string_id': ['Vernon Dursley', 'Petunia Dursley', 'Dudley Dursley'], 'start': 2674, 'end': 2675, 'text': 'Dursley'}, {'string_id': ['Vernon Dursley', 'Petunia Dursley', 'Dudley Dursley'], 'start': 2680, 'end': 2681, 'text': 'Dursley'}, {'string_id': ['Vernon Dursley', 'Petunia Dursley', 'Dudley Dursley'], 'start': 2690, 'end': 2691, 'text': 'Dursley'}, {'string_id': ['Vernon Dursley', 'Petunia Dursley', 'Dudley Dursley'], 'start': 2694, 'end': 2695, 'text': 'Dursley'}, {'string_id': ['Vernon Dursley', 'Petunia Dursley', 'Dudley Dursley'], 'start': 2701, 'end': 2702, 'text': 'Dursley'}, {'string_id': ['Vernon Dursley', 'Petunia Dursley', 'Dudley Dursley'], 'start': 2724, 'end': 2725, 'text': 'Dursley'}, {'string_id': ['Vernon Dursley', 'Petunia Dursley', 'Dudley Dursley'], 'start': 2727, 'end': 2728, 'text': 'Dursley'}, {'string_id': ['Vernon Dursley', 'Petunia Dursley', 'Dudley Dursley'], 'start': 2736, 'end': 2737, 'text': 'Dursley'}, {'string_id': ['Vernon Dursley', 'Petunia Dursley', 'Dudley Dursley'], 'start': 2749, 'end': 2750, 'text': 'Dursley'}, {'string_id': ['Vernon Dursley', 'Petunia Dursley', 'Dudley Dursley'], 'start': 2755, 'end': 2756, 'text': 'Dursley'}, {'string_id': ['Vernon Dursley', 'Petunia Dursley', 'Dudley Dursley'], 'start': 2771, 'end': 2772, 'text': 'Dursley'}, {'string_id': ['Vernon Dursley', 'Petunia Dursley', 'Dudley Dursley'], 'start': 2789, 'end': 2790, 'text': 'Dursley'}, {'string_id': ['Vernon Dursley', 'Petunia Dursley', 'Dudley Dursley'], 'start': 2793, 'end': 2794, 'text': 'Dursley'}, {'string_id': ['Vernon Dursley', 'Petunia Dursley', 'Dudley Dursley'], 'start': 3278, 'end': 3279, 'text': 'Dursley'}, {'string_id': ['Vernon Dursley', 'Petunia Dursley', 'Dudley Dursley'], 'start': 6403, 'end': 6404, 'text': 'Dursley'}, {'string_id': ['Vernon Dursley', 'Petunia Dursley', 'Dudley Dursley'], 'start': 6408, 'end': 6409, 'text': 'Dursley'}]\n",
            "THE VANISHING GLASS\n",
            "[{'string_id': ['Vernon Dursley', 'Petunia Dursley', 'Dudley Dursley', 'Marjorie Dursley'], 'start': 76, 'end': 77, 'text': 'Dursley'}, {'string_id': ['Vernon Dursley', 'Petunia Dursley', 'Dudley Dursley', 'Marjorie Dursley'], 'start': 146, 'end': 147, 'text': 'Dursley'}]\n",
            "[{'string_id': ['Vernon Dursley', 'Petunia Dursley', 'Dudley Dursley', 'Marjorie Dursley'], 'start': 76, 'end': 77, 'text': 'Dursley'}, {'string_id': ['Vernon Dursley', 'Petunia Dursley', 'Dudley Dursley', 'Marjorie Dursley'], 'start': 146, 'end': 147, 'text': 'Dursley'}]\n",
            "THE LETTERS FROM NO ONE\n",
            "[{'string_id': ['Lily J. Potter', 'James Potter I', 'Harry Potter'], 'start': 1076, 'end': 1077, 'text': 'Potter'}, {'string_id': ['Lily J. Potter', 'James Potter I', 'Harry Potter'], 'start': 2511, 'end': 2512, 'text': 'Potter'}, {'string_id': ['Lily J. Potter', 'James Potter I', 'Harry Potter'], 'start': 3804, 'end': 3805, 'text': 'Potter'}, {'string_id': ['Lily J. Potter', 'James Potter I', 'Harry Potter'], 'start': 3840, 'end': 3841, 'text': 'Potter'}]\n",
            "[]\n",
            "THE KEEPER OF THE KEYS\n",
            "[{'string_id': ['Vernon Dursley', 'Petunia Dursley', 'Dudley Dursley', 'Marjorie Dursley'], 'start': 443, 'end': 444, 'text': 'Dursley'}, {'string_id': ['Vernon Dursley', 'Petunia Dursley', 'Dudley Dursley', 'Marjorie Dursley'], 'start': 960, 'end': 961, 'text': 'Dursley'}, {'string_id': ['Vernon Dursley', 'Petunia Dursley', 'Dudley Dursley', 'Marjorie Dursley'], 'start': 1604, 'end': 1605, 'text': 'Dursley'}, {'string_id': ['Lily J. Potter', 'James Potter I', 'Harry Potter'], 'start': 1801, 'end': 1802, 'text': 'Potter'}, {'string_id': ['Lily J. Potter', 'James Potter I', 'Harry Potter'], 'start': 1862, 'end': 1863, 'text': 'Potter'}, {'string_id': ['Lily J. Potter', 'James Potter I', 'Harry Potter'], 'start': 2493, 'end': 2494, 'text': 'Potter'}, {'string_id': ['Lily J. Potter', 'James Potter I', 'Harry Potter'], 'start': 2633, 'end': 2634, 'text': 'Potter'}, {'string_id': ['Lily J. Potter', 'James Potter I', 'Harry Potter'], 'start': 2645, 'end': 2646, 'text': 'Potter'}, {'string_id': ['Vernon Dursley', 'Petunia Dursley', 'Dudley Dursley', 'Marjorie Dursley'], 'start': 3795, 'end': 3796, 'text': 'Dursley'}]\n",
            "[{'string_id': ['Vernon Dursley', 'Petunia Dursley', 'Dudley Dursley', 'Marjorie Dursley'], 'start': 443, 'end': 444, 'text': 'Dursley'}, {'string_id': ['Vernon Dursley', 'Petunia Dursley', 'Dudley Dursley', 'Marjorie Dursley'], 'start': 960, 'end': 961, 'text': 'Dursley'}, {'string_id': ['Vernon Dursley', 'Petunia Dursley', 'Dudley Dursley', 'Marjorie Dursley'], 'start': 1604, 'end': 1605, 'text': 'Dursley'}, {'string_id': ['Vernon Dursley', 'Petunia Dursley', 'Dudley Dursley', 'Marjorie Dursley'], 'start': 3795, 'end': 3796, 'text': 'Dursley'}]\n",
            "DIAGON ALLEY\n",
            "[{'string_id': ['Tom Riddle', 'Tom'], 'start': 2349, 'end': 2350, 'text': 'Tom'}, {'string_id': ['Lily J. Potter', 'James Potter I', 'Harry Potter'], 'start': 2459, 'end': 2460, 'text': 'Potter'}, {'string_id': ['Lily J. Potter', 'James Potter I', 'Harry Potter'], 'start': 2540, 'end': 2541, 'text': 'Potter'}, {'string_id': ['Lily J. Potter', 'James Potter I', 'Harry Potter'], 'start': 2558, 'end': 2559, 'text': 'Potter'}, {'string_id': ['Lily J. Potter', 'James Potter I', 'Harry Potter'], 'start': 2587, 'end': 2588, 'text': 'Potter'}, {'string_id': ['Lily J. Potter', 'James Potter I', 'Harry Potter'], 'start': 2734, 'end': 2735, 'text': 'Potter'}, {'string_id': ['Lily J. Potter', 'James Potter I', 'Harry Potter'], 'start': 2822, 'end': 2823, 'text': 'Potter'}, {'string_id': ['Lily J. Potter', 'James Potter I', 'Harry Potter'], 'start': 7700, 'end': 7701, 'text': 'Potter'}, {'string_id': ['Lily J. Potter', 'James Potter I', 'Harry Potter'], 'start': 7801, 'end': 7802, 'text': 'Potter'}, {'string_id': ['Lily J. Potter', 'James Potter I', 'Harry Potter'], 'start': 7920, 'end': 7921, 'text': 'Potter'}, {'string_id': ['Lily J. Potter', 'James Potter I', 'Harry Potter'], 'start': 8310, 'end': 8311, 'text': 'Potter'}]\n",
            "[]\n",
            "THE JOURNEY FROM PLATFORM NINE AND THREE-QUARTERS\n",
            "[{'string_id': ['Ginevra Weasley', 'Molly Weasley', 'Percy Weasley', 'Fred Weasley', 'George Weasley', 'Ronald Weasley', 'William Weasley', 'Charles Weasley', 'Arthur Weasley'], 'start': 6408, 'end': 6409, 'text': 'Weasley'}, {'string_id': ['Draco Malfoy', 'Lucius Malfoy', 'Narcissa Malfoy'], 'start': 7339, 'end': 7340, 'text': 'Malfoy'}, {'string_id': ['Draco Malfoy', 'Lucius Malfoy', 'Narcissa Malfoy'], 'start': 7618, 'end': 7619, 'text': 'Malfoy'}, {'string_id': ['Draco Malfoy', 'Lucius Malfoy', 'Narcissa Malfoy'], 'start': 7730, 'end': 7731, 'text': 'Malfoy'}, {'string_id': ['Draco Malfoy', 'Lucius Malfoy', 'Narcissa Malfoy'], 'start': 7763, 'end': 7764, 'text': 'Malfoy'}, {'string_id': ['Draco Malfoy', 'Lucius Malfoy', 'Narcissa Malfoy'], 'start': 7775, 'end': 7776, 'text': 'Malfoy'}, {'string_id': ['Draco Malfoy', 'Lucius Malfoy', 'Narcissa Malfoy'], 'start': 7883, 'end': 7884, 'text': 'Malfoy'}, {'string_id': ['Draco Malfoy', 'Lucius Malfoy', 'Narcissa Malfoy'], 'start': 7896, 'end': 7897, 'text': 'Malfoy'}, {'string_id': ['Draco Malfoy', 'Lucius Malfoy', 'Narcissa Malfoy'], 'start': 7953, 'end': 7954, 'text': 'Malfoy'}]\n",
            "[]\n",
            "THE SORTING HAT\n",
            "[{'string_id': ['Bones family', 'Susan Bones'], 'start': 1964, 'end': 1965, 'text': 'Bones'}, {'string_id': ['Draco Malfoy', 'Lucius Malfoy', 'Narcissa Malfoy'], 'start': 2406, 'end': 2407, 'text': 'Malfoy'}, {'string_id': ['Draco Malfoy', 'Lucius Malfoy', 'Narcissa Malfoy'], 'start': 2441, 'end': 2442, 'text': 'Malfoy'}, {'string_id': ['Draco Malfoy', 'Lucius Malfoy', 'Narcissa Malfoy'], 'start': 2445, 'end': 2446, 'text': 'Malfoy'}, {'string_id': ['Draco Malfoy', 'Lucius Malfoy', 'Narcissa Malfoy'], 'start': 2454, 'end': 2455, 'text': 'Malfoy'}, {'string_id': ['Padma Patil', 'Parvati Patil'], 'start': 2481, 'end': 2482, 'text': 'Patil'}, {'string_id': ['Padma Patil', 'Parvati Patil'], 'start': 2485, 'end': 2486, 'text': 'Patil'}, {'string_id': ['Lily J. Potter', 'James Potter I', 'Harry Potter'], 'start': 2502, 'end': 2503, 'text': 'Potter'}, {'string_id': ['Lily J. Potter', 'James Potter I', 'Harry Potter'], 'start': 2526, 'end': 2527, 'text': 'Potter'}, {'string_id': ['Ginevra Weasley', 'Molly Weasley', 'Percy Weasley', 'Fred Weasley', 'George Weasley', 'Ronald Weasley', 'William Weasley', 'Charles Weasley', 'Arthur Weasley'], 'start': 2786, 'end': 2787, 'text': 'Weasley'}, {'string_id': ['Ginevra Weasley', 'Molly Weasley', 'Percy Weasley', 'Fred Weasley', 'George Weasley', 'Ronald Weasley', 'William Weasley', 'Charles Weasley', 'Arthur Weasley'], 'start': 2792, 'end': 2793, 'text': 'Weasley'}, {'string_id': ['Lily J. Potter', 'James Potter I', 'Harry Potter'], 'start': 2795, 'end': 2796, 'text': 'Potter'}, {'string_id': ['Ginevra Weasley', 'Molly Weasley', 'Percy Weasley', 'Fred Weasley', 'George Weasley', 'Ronald Weasley', 'William Weasley', 'Charles Weasley', 'Arthur Weasley'], 'start': 2798, 'end': 2799, 'text': 'Weasley'}, {'string_id': ['Lily J. Potter', 'James Potter I', 'Harry Potter'], 'start': 2801, 'end': 2802, 'text': 'Potter'}, {'string_id': ['Draco Malfoy', 'Lucius Malfoy', 'Narcissa Malfoy'], 'start': 3884, 'end': 3885, 'text': 'Malfoy'}, {'string_id': ['Ginevra Weasley', 'Molly Weasley', 'Percy Weasley', 'Fred Weasley', 'George Weasley', 'Ronald Weasley', 'William Weasley', 'Charles Weasley', 'Arthur Weasley'], 'start': 4714, 'end': 4715, 'text': 'Weasley'}, {'string_id': ['Ginevra Weasley', 'Molly Weasley', 'Percy Weasley', 'Fred Weasley', 'George Weasley', 'Ronald Weasley', 'William Weasley', 'Charles Weasley', 'Arthur Weasley'], 'start': 5110, 'end': 5111, 'text': 'Weasley'}, {'string_id': ['Ginevra Weasley', 'Molly Weasley', 'Percy Weasley', 'Fred Weasley', 'George Weasley', 'Ronald Weasley', 'William Weasley', 'Charles Weasley', 'Arthur Weasley'], 'start': 5126, 'end': 5127, 'text': 'Weasley'}, {'string_id': ['Ginevra Weasley', 'Molly Weasley', 'Percy Weasley', 'Fred Weasley', 'George Weasley', 'Ronald Weasley', 'William Weasley', 'Charles Weasley', 'Arthur Weasley'], 'start': 5138, 'end': 5139, 'text': 'Weasley'}, {'string_id': ['Draco Malfoy', 'Lucius Malfoy', 'Narcissa Malfoy'], 'start': 5935, 'end': 5936, 'text': 'Malfoy'}, {'string_id': ['Draco Malfoy', 'Lucius Malfoy', 'Narcissa Malfoy'], 'start': 5946, 'end': 5947, 'text': 'Malfoy'}]\n",
            "[]\n",
            "THE POTIONS MASTER\n",
            "[{'string_id': ['Ginevra Weasley', 'Molly Weasley', 'Percy Weasley', 'Fred Weasley', 'George Weasley', 'Ronald Weasley', 'William Weasley', 'Charles Weasley', 'Arthur Weasley'], 'start': 569, 'end': 570, 'text': 'Weasley'}, {'string_id': ['Ginevra Weasley', 'Molly Weasley', 'Percy Weasley', 'Fred Weasley', 'George Weasley', 'Ronald Weasley', 'William Weasley', 'Charles Weasley', 'Arthur Weasley'], 'start': 1227, 'end': 1228, 'text': 'Weasley'}, {'string_id': ['Lily J. Potter', 'James Potter I', 'Harry Potter'], 'start': 2109, 'end': 2110, 'text': 'Potter'}, {'string_id': ['Lily J. Potter', 'James Potter I', 'Harry Potter'], 'start': 2211, 'end': 2212, 'text': 'Potter'}, {'string_id': ['Draco Malfoy', 'Lucius Malfoy', 'Narcissa Malfoy'], 'start': 2266, 'end': 2267, 'text': 'Malfoy'}, {'string_id': ['Lily J. Potter', 'James Potter I', 'Harry Potter'], 'start': 2301, 'end': 2302, 'text': 'Potter'}, {'string_id': ['Lily J. Potter', 'James Potter I', 'Harry Potter'], 'start': 2359, 'end': 2360, 'text': 'Potter'}, {'string_id': ['Lily J. Potter', 'James Potter I', 'Harry Potter'], 'start': 2448, 'end': 2449, 'text': 'Potter'}, {'string_id': ['Lily J. Potter', 'James Potter I', 'Harry Potter'], 'start': 2557, 'end': 2558, 'text': 'Potter'}, {'string_id': ['Draco Malfoy', 'Lucius Malfoy', 'Narcissa Malfoy'], 'start': 2617, 'end': 2618, 'text': 'Malfoy'}, {'string_id': ['Draco Malfoy', 'Lucius Malfoy', 'Narcissa Malfoy'], 'start': 2638, 'end': 2639, 'text': 'Malfoy'}, {'string_id': ['Lily J. Potter', 'James Potter I', 'Harry Potter'], 'start': 2831, 'end': 2832, 'text': 'Potter'}, {'string_id': ['Ginevra Weasley', 'Molly Weasley', 'Percy Weasley', 'Fred Weasley', 'George Weasley', 'Ronald Weasley', 'William Weasley', 'Charles Weasley', 'Arthur Weasley'], 'start': 3245, 'end': 3246, 'text': 'Weasley'}]\n",
            "[]\n",
            "THE MIDNIGHT DUEL\n",
            "[{'string_id': ['Draco Malfoy', 'Lucius Malfoy', 'Narcissa Malfoy'], 'start': 47, 'end': 48, 'text': 'Malfoy'}, {'string_id': ['Draco Malfoy', 'Lucius Malfoy', 'Narcissa Malfoy'], 'start': 120, 'end': 121, 'text': 'Malfoy'}, {'string_id': ['Draco Malfoy', 'Lucius Malfoy', 'Narcissa Malfoy'], 'start': 161, 'end': 162, 'text': 'Malfoy'}, {'string_id': ['Draco Malfoy', 'Lucius Malfoy', 'Narcissa Malfoy'], 'start': 513, 'end': 514, 'text': 'Malfoy'}, {'string_id': ['Draco Malfoy', 'Lucius Malfoy', 'Narcissa Malfoy'], 'start': 523, 'end': 524, 'text': 'Malfoy'}, {'string_id': ['Draco Malfoy', 'Lucius Malfoy', 'Narcissa Malfoy'], 'start': 530, 'end': 531, 'text': 'Malfoy'}, {'string_id': ['Draco Malfoy', 'Lucius Malfoy', 'Narcissa Malfoy'], 'start': 541, 'end': 542, 'text': 'Malfoy'}, {'string_id': ['Draco Malfoy', 'Lucius Malfoy', 'Narcissa Malfoy'], 'start': 738, 'end': 739, 'text': 'Malfoy'}, {'string_id': ['Draco Malfoy', 'Lucius Malfoy', 'Narcissa Malfoy'], 'start': 749, 'end': 750, 'text': 'Malfoy'}, {'string_id': ['Draco Malfoy', 'Lucius Malfoy', 'Narcissa Malfoy'], 'start': 764, 'end': 765, 'text': 'Malfoy'}, {'string_id': ['Draco Malfoy', 'Lucius Malfoy', 'Narcissa Malfoy'], 'start': 768, 'end': 769, 'text': 'Malfoy'}, {'string_id': ['Draco Malfoy', 'Lucius Malfoy', 'Narcissa Malfoy'], 'start': 776, 'end': 777, 'text': 'Malfoy'}, {'string_id': ['Draco Malfoy', 'Lucius Malfoy', 'Narcissa Malfoy'], 'start': 1150, 'end': 1151, 'text': 'Malfoy'}, {'string_id': ['Draco Malfoy', 'Lucius Malfoy', 'Narcissa Malfoy'], 'start': 1473, 'end': 1474, 'text': 'Malfoy'}, {'string_id': ['Draco Malfoy', 'Lucius Malfoy', 'Narcissa Malfoy'], 'start': 1500, 'end': 1501, 'text': 'Malfoy'}, {'string_id': ['Neville Longbottom', 'Augusta Longbottom', 'Algie Longbottom'], 'start': 1513, 'end': 1514, 'text': 'Longbottom'}, {'string_id': ['Draco Malfoy', 'Lucius Malfoy', 'Narcissa Malfoy'], 'start': 1545, 'end': 1546, 'text': 'Malfoy'}, {'string_id': ['Neville Longbottom', 'Augusta Longbottom', 'Algie Longbottom'], 'start': 1563, 'end': 1564, 'text': 'Longbottom'}, {'string_id': ['Draco Malfoy', 'Lucius Malfoy', 'Narcissa Malfoy'], 'start': 1588, 'end': 1589, 'text': 'Malfoy'}, {'string_id': ['Draco Malfoy', 'Lucius Malfoy', 'Narcissa Malfoy'], 'start': 1601, 'end': 1602, 'text': 'Malfoy'}, {'string_id': ['Neville Longbottom', 'Augusta Longbottom', 'Algie Longbottom'], 'start': 1614, 'end': 1615, 'text': 'Longbottom'}, {'string_id': ['Draco Malfoy', 'Lucius Malfoy', 'Narcissa Malfoy'], 'start': 1637, 'end': 1638, 'text': 'Malfoy'}, {'string_id': ['Lily J. Potter', 'James Potter I', 'Harry Potter'], 'start': 1686, 'end': 1687, 'text': 'Potter'}, {'string_id': ['Draco Malfoy', 'Lucius Malfoy', 'Narcissa Malfoy'], 'start': 1827, 'end': 1828, 'text': 'Malfoy'}, {'string_id': ['Draco Malfoy', 'Lucius Malfoy', 'Narcissa Malfoy'], 'start': 1831, 'end': 1832, 'text': 'Malfoy'}, {'string_id': ['Draco Malfoy', 'Lucius Malfoy', 'Narcissa Malfoy'], 'start': 1862, 'end': 1863, 'text': 'Malfoy'}, {'string_id': ['Draco Malfoy', 'Lucius Malfoy', 'Narcissa Malfoy'], 'start': 1903, 'end': 1904, 'text': 'Malfoy'}, {'string_id': ['Draco Malfoy', 'Lucius Malfoy', 'Narcissa Malfoy'], 'start': 1946, 'end': 1947, 'text': 'Malfoy'}, {'string_id': ['Draco Malfoy', 'Lucius Malfoy', 'Narcissa Malfoy'], 'start': 1959, 'end': 1960, 'text': 'Malfoy'}, {'string_id': ['Padma Patil', 'Parvati Patil'], 'start': 2178, 'end': 2179, 'text': 'Patil'}, {'string_id': ['Draco Malfoy', 'Lucius Malfoy', 'Narcissa Malfoy'], 'start': 2181, 'end': 2182, 'text': 'Malfoy'}, {'string_id': ['Ginevra Weasley', 'Molly Weasley', 'Percy Weasley', 'Fred Weasley', 'George Weasley', 'Ronald Weasley', 'William Weasley', 'Charles Weasley', 'Arthur Weasley'], 'start': 2190, 'end': 2191, 'text': 'Weasley'}, {'string_id': ['Draco Malfoy', 'Lucius Malfoy', 'Narcissa Malfoy'], 'start': 2207, 'end': 2208, 'text': 'Malfoy'}, {'string_id': ['Ginevra Weasley', 'Molly Weasley', 'Percy Weasley', 'Fred Weasley', 'George Weasley', 'Ronald Weasley', 'William Weasley', 'Charles Weasley', 'Arthur Weasley'], 'start': 2753, 'end': 2754, 'text': 'Weasley'}, {'string_id': ['Ginevra Weasley', 'Molly Weasley', 'Percy Weasley', 'Fred Weasley', 'George Weasley', 'Ronald Weasley', 'William Weasley', 'Charles Weasley', 'Arthur Weasley'], 'start': 2769, 'end': 2770, 'text': 'Weasley'}, {'string_id': ['Lily J. Potter', 'James Potter I', 'Harry Potter'], 'start': 2785, 'end': 2786, 'text': 'Potter'}, {'string_id': ['Ginevra Weasley', 'Molly Weasley', 'Percy Weasley', 'Fred Weasley', 'George Weasley', 'Ronald Weasley', 'William Weasley', 'Charles Weasley', 'Arthur Weasley'], 'start': 2789, 'end': 2790, 'text': 'Weasley'}, {'string_id': ['Gregory Goyle', 'Gregory the Smarmy'], 'start': 3278, 'end': 3279, 'text': 'Gregory'}, {'string_id': ['Draco Malfoy', 'Lucius Malfoy', 'Narcissa Malfoy'], 'start': 3313, 'end': 3314, 'text': 'Malfoy'}, {'string_id': ['Draco Malfoy', 'Lucius Malfoy', 'Narcissa Malfoy'], 'start': 3426, 'end': 3427, 'text': 'Malfoy'}, {'string_id': ['Draco Malfoy', 'Lucius Malfoy', 'Narcissa Malfoy'], 'start': 3487, 'end': 3488, 'text': 'Malfoy'}, {'string_id': ['Draco Malfoy', 'Lucius Malfoy', 'Narcissa Malfoy'], 'start': 3504, 'end': 3505, 'text': 'Malfoy'}, {'string_id': ['Draco Malfoy', 'Lucius Malfoy', 'Narcissa Malfoy'], 'start': 3528, 'end': 3529, 'text': 'Malfoy'}, {'string_id': ['Draco Malfoy', 'Lucius Malfoy', 'Narcissa Malfoy'], 'start': 3736, 'end': 3737, 'text': 'Malfoy'}, {'string_id': ['Draco Malfoy', 'Lucius Malfoy', 'Narcissa Malfoy'], 'start': 3959, 'end': 3960, 'text': 'Malfoy'}, {'string_id': ['Draco Malfoy', 'Lucius Malfoy', 'Narcissa Malfoy'], 'start': 4820, 'end': 4821, 'text': 'Malfoy'}, {'string_id': ['Draco Malfoy', 'Lucius Malfoy', 'Narcissa Malfoy'], 'start': 4837, 'end': 4838, 'text': 'Malfoy'}, {'string_id': ['Draco Malfoy', 'Lucius Malfoy', 'Narcissa Malfoy'], 'start': 4885, 'end': 4886, 'text': 'Malfoy'}, {'string_id': ['Draco Malfoy', 'Lucius Malfoy', 'Narcissa Malfoy'], 'start': 4940, 'end': 4941, 'text': 'Malfoy'}, {'string_id': ['Draco Malfoy', 'Lucius Malfoy', 'Narcissa Malfoy'], 'start': 5295, 'end': 5296, 'text': 'Malfoy'}, {'string_id': ['Draco Malfoy', 'Lucius Malfoy', 'Narcissa Malfoy'], 'start': 5334, 'end': 5335, 'text': 'Malfoy'}]\n",
            "[]\n",
            "HALLOWEEN\n",
            "[{'string_id': ['Draco Malfoy', 'Lucius Malfoy', 'Narcissa Malfoy'], 'start': 0, 'end': 1, 'text': 'Malfoy'}, {'string_id': ['Draco Malfoy', 'Lucius Malfoy', 'Narcissa Malfoy'], 'start': 4, 'end': 5, 'text': 'Malfoy'}, {'string_id': ['Draco Malfoy', 'Lucius Malfoy', 'Narcissa Malfoy'], 'start': 7, 'end': 8, 'text': 'Malfoy'}, {'string_id': ['Draco Malfoy', 'Lucius Malfoy', 'Narcissa Malfoy'], 'start': 240, 'end': 241, 'text': 'Malfoy'}, {'string_id': ['Draco Malfoy', 'Lucius Malfoy', 'Narcissa Malfoy'], 'start': 512, 'end': 513, 'text': 'Malfoy'}, {'string_id': ['Draco Malfoy', 'Lucius Malfoy', 'Narcissa Malfoy'], 'start': 530, 'end': 531, 'text': 'Malfoy'}, {'string_id': ['Lily J. Potter', 'James Potter I', 'Harry Potter'], 'start': 560, 'end': 561, 'text': 'Potter'}, {'string_id': ['Lily J. Potter', 'James Potter I', 'Harry Potter'], 'start': 567, 'end': 568, 'text': 'Potter'}, {'string_id': ['Draco Malfoy', 'Lucius Malfoy', 'Narcissa Malfoy'], 'start': 606, 'end': 607, 'text': 'Malfoy'}, {'string_id': ['Ginevra Weasley', 'Molly Weasley', 'Percy Weasley', 'Fred Weasley', 'George Weasley', 'Ronald Weasley', 'William Weasley', 'Charles Weasley', 'Arthur Weasley'], 'start': 644, 'end': 645, 'text': 'Weasley'}, {'string_id': ['Draco Malfoy', 'Lucius Malfoy', 'Narcissa Malfoy'], 'start': 655, 'end': 656, 'text': 'Malfoy'}, {'string_id': ['Draco Malfoy', 'Lucius Malfoy', 'Narcissa Malfoy'], 'start': 684, 'end': 685, 'text': 'Malfoy'}, {'string_id': ['Lily J. Potter', 'James Potter I', 'Harry Potter'], 'start': 703, 'end': 704, 'text': 'Potter'}, {'string_id': ['Draco Malfoy', 'Lucius Malfoy', 'Narcissa Malfoy'], 'start': 714, 'end': 715, 'text': 'Malfoy'}, {'string_id': ['Lily J. Potter', 'James Potter I', 'Harry Potter'], 'start': 746, 'end': 747, 'text': 'Potter'}, {'string_id': ['Draco Malfoy', 'Lucius Malfoy', 'Narcissa Malfoy'], 'start': 777, 'end': 778, 'text': 'Malfoy'}, {'string_id': ['Draco Malfoy', 'Lucius Malfoy', 'Narcissa Malfoy'], 'start': 788, 'end': 789, 'text': 'Malfoy'}, {'string_id': ['Draco Malfoy', 'Lucius Malfoy', 'Narcissa Malfoy'], 'start': 797, 'end': 798, 'text': 'Malfoy'}, {'string_id': ['Draco Malfoy', 'Lucius Malfoy', 'Narcissa Malfoy'], 'start': 812, 'end': 813, 'text': 'Malfoy'}, {'string_id': ['Lily J. Potter', 'James Potter I', 'Harry Potter'], 'start': 1231, 'end': 1232, 'text': 'Potter'}, {'string_id': ['Ginevra Weasley', 'Molly Weasley', 'Percy Weasley', 'Fred Weasley', 'George Weasley', 'Ronald Weasley', 'William Weasley', 'Charles Weasley', 'Arthur Weasley'], 'start': 1819, 'end': 1820, 'text': 'Weasley'}, {'string_id': ['Ginevra Weasley', 'Molly Weasley', 'Percy Weasley', 'Fred Weasley', 'George Weasley', 'Ronald Weasley', 'William Weasley', 'Charles Weasley', 'Arthur Weasley'], 'start': 1827, 'end': 1828, 'text': 'Weasley'}, {'string_id': ['Ginevra Weasley', 'Molly Weasley', 'Percy Weasley', 'Fred Weasley', 'George Weasley', 'Ronald Weasley', 'William Weasley', 'Charles Weasley', 'Arthur Weasley'], 'start': 1833, 'end': 1834, 'text': 'Weasley'}, {'string_id': ['Ginevra Weasley', 'Molly Weasley', 'Percy Weasley', 'Fred Weasley', 'George Weasley', 'Ronald Weasley', 'William Weasley', 'Charles Weasley', 'Arthur Weasley'], 'start': 1844, 'end': 1845, 'text': 'Weasley'}, {'string_id': ['Ginevra Weasley', 'Molly Weasley', 'Percy Weasley', 'Fred Weasley', 'George Weasley', 'Ronald Weasley', 'William Weasley', 'Charles Weasley', 'Arthur Weasley'], 'start': 2412, 'end': 2413, 'text': 'Weasley'}, {'string_id': ['Ginevra Weasley', 'Molly Weasley', 'Percy Weasley', 'Fred Weasley', 'George Weasley', 'Ronald Weasley', 'William Weasley', 'Charles Weasley', 'Arthur Weasley'], 'start': 2416, 'end': 2417, 'text': 'Weasley'}, {'string_id': ['Ginevra Weasley', 'Molly Weasley', 'Percy Weasley', 'Fred Weasley', 'George Weasley', 'Ronald Weasley', 'William Weasley', 'Charles Weasley', 'Arthur Weasley'], 'start': 2424, 'end': 2425, 'text': 'Weasley'}, {'string_id': ['Ginevra Weasley', 'Molly Weasley', 'Percy Weasley', 'Fred Weasley', 'George Weasley', 'Ronald Weasley', 'William Weasley', 'Charles Weasley', 'Arthur Weasley'], 'start': 2438, 'end': 2439, 'text': 'Weasley'}, {'string_id': ['Ginevra Weasley', 'Molly Weasley', 'Percy Weasley', 'Fred Weasley', 'George Weasley', 'Ronald Weasley', 'William Weasley', 'Charles Weasley', 'Arthur Weasley'], 'start': 2457, 'end': 2458, 'text': 'Weasley'}]\n",
            "[]\n",
            "QUIDDITCH\n",
            "[{'string_id': ['Lily J. Potter', 'James Potter I', 'Harry Potter'], 'start': 556, 'end': 557, 'text': 'Potter'}, {'string_id': ['Lily J. Potter', 'James Potter I', 'Harry Potter'], 'start': 1458, 'end': 1459, 'text': 'Potter'}, {'string_id': ['Lily J. Potter', 'James Potter I', 'Harry Potter'], 'start': 1821, 'end': 1822, 'text': 'Potter'}, {'string_id': ['Lily J. Potter', 'James Potter I', 'Harry Potter'], 'start': 1828, 'end': 1829, 'text': 'Potter'}, {'string_id': ['Lily J. Potter', 'James Potter I', 'Harry Potter'], 'start': 1834, 'end': 1835, 'text': 'Potter'}, {'string_id': ['Ginevra Weasley', 'Molly Weasley', 'Percy Weasley', 'Fred Weasley', 'George Weasley', 'Ronald Weasley', 'William Weasley', 'Charles Weasley', 'Arthur Weasley'], 'start': 1924, 'end': 1925, 'text': 'Weasley'}]\n",
            "[]\n",
            "THE MIRROR OF ERISED\n",
            "[{'string_id': ['Ginevra Weasley', 'Molly Weasley', 'Percy Weasley', 'Fred Weasley', 'George Weasley', 'Ronald Weasley', 'William Weasley', 'Charles Weasley', 'Arthur Weasley'], 'start': 29, 'end': 30, 'text': 'Weasley'}, {'string_id': ['Ginevra Weasley', 'Molly Weasley', 'Percy Weasley', 'Fred Weasley', 'George Weasley', 'Ronald Weasley', 'William Weasley', 'Charles Weasley', 'Arthur Weasley'], 'start': 40, 'end': 41, 'text': 'Weasley'}, {'string_id': ['Draco Malfoy', 'Lucius Malfoy', 'Narcissa Malfoy'], 'start': 272, 'end': 273, 'text': 'Malfoy'}, {'string_id': ['Draco Malfoy', 'Lucius Malfoy', 'Narcissa Malfoy'], 'start': 292, 'end': 293, 'text': 'Malfoy'}, {'string_id': ['Draco Malfoy', 'Lucius Malfoy', 'Narcissa Malfoy'], 'start': 342, 'end': 343, 'text': 'Malfoy'}, {'string_id': ['Draco Malfoy', 'Lucius Malfoy', 'Narcissa Malfoy'], 'start': 347, 'end': 348, 'text': 'Malfoy'}, {'string_id': ['Ginevra Weasley', 'Molly Weasley', 'Percy Weasley', 'Fred Weasley', 'George Weasley', 'Ronald Weasley', 'William Weasley', 'Charles Weasley', 'Arthur Weasley'], 'start': 447, 'end': 448, 'text': 'Weasley'}, {'string_id': ['Ginevra Weasley', 'Molly Weasley', 'Percy Weasley', 'Fred Weasley', 'George Weasley', 'Ronald Weasley', 'William Weasley', 'Charles Weasley', 'Arthur Weasley'], 'start': 569, 'end': 570, 'text': 'Weasley'}, {'string_id': ['Draco Malfoy', 'Lucius Malfoy', 'Narcissa Malfoy'], 'start': 607, 'end': 608, 'text': 'Malfoy'}, {'string_id': ['Ginevra Weasley', 'Molly Weasley', 'Percy Weasley', 'Fred Weasley', 'George Weasley', 'Ronald Weasley', 'William Weasley', 'Charles Weasley', 'Arthur Weasley'], 'start': 618, 'end': 619, 'text': 'Weasley'}, {'string_id': ['Draco Malfoy', 'Lucius Malfoy', 'Narcissa Malfoy'], 'start': 628, 'end': 629, 'text': 'Malfoy'}, {'string_id': ['Draco Malfoy', 'Lucius Malfoy', 'Narcissa Malfoy'], 'start': 656, 'end': 657, 'text': 'Malfoy'}, {'string_id': ['Ginevra Weasley', 'Molly Weasley', 'Percy Weasley', 'Fred Weasley', 'George Weasley', 'Ronald Weasley', 'William Weasley', 'Charles Weasley', 'Arthur Weasley'], 'start': 690, 'end': 691, 'text': 'Weasley'}, {'string_id': ['Draco Malfoy', 'Lucius Malfoy', 'Narcissa Malfoy'], 'start': 708, 'end': 709, 'text': 'Malfoy'}, {'string_id': ['Draco Malfoy', 'Lucius Malfoy', 'Narcissa Malfoy'], 'start': 743, 'end': 744, 'text': 'Malfoy'}, {'string_id': ['Draco Malfoy', 'Lucius Malfoy', 'Narcissa Malfoy'], 'start': 773, 'end': 774, 'text': 'Malfoy'}, {'string_id': ['Draco Malfoy', 'Lucius Malfoy', 'Narcissa Malfoy'], 'start': 1875, 'end': 1876, 'text': 'Malfoy'}, {'string_id': ['Ginevra Weasley', 'Molly Weasley', 'Percy Weasley', 'Fred Weasley', 'George Weasley', 'Ronald Weasley', 'William Weasley', 'Charles Weasley', 'Arthur Weasley'], 'start': 2402, 'end': 2403, 'text': 'Weasley'}, {'string_id': ['Ginevra Weasley', 'Molly Weasley', 'Percy Weasley', 'Fred Weasley', 'George Weasley', 'Ronald Weasley', 'William Weasley', 'Charles Weasley', 'Arthur Weasley'], 'start': 2925, 'end': 2926, 'text': 'Weasley'}, {'string_id': ['Ginevra Weasley', 'Molly Weasley', 'Percy Weasley', 'Fred Weasley', 'George Weasley', 'Ronald Weasley', 'William Weasley', 'Charles Weasley', 'Arthur Weasley'], 'start': 3084, 'end': 3085, 'text': 'Weasley'}, {'string_id': ['Ginevra Weasley', 'Molly Weasley', 'Percy Weasley', 'Fred Weasley', 'George Weasley', 'Ronald Weasley', 'William Weasley', 'Charles Weasley', 'Arthur Weasley'], 'start': 3094, 'end': 3095, 'text': 'Weasley'}, {'string_id': ['Ginevra Weasley', 'Molly Weasley', 'Percy Weasley', 'Fred Weasley', 'George Weasley', 'Ronald Weasley', 'William Weasley', 'Charles Weasley', 'Arthur Weasley'], 'start': 3102, 'end': 3103, 'text': 'Weasley'}, {'string_id': ['Ginevra Weasley', 'Molly Weasley', 'Percy Weasley', 'Fred Weasley', 'George Weasley', 'Ronald Weasley', 'William Weasley', 'Charles Weasley', 'Arthur Weasley'], 'start': 3106, 'end': 3107, 'text': 'Weasley'}, {'string_id': ['Ginevra Weasley', 'Molly Weasley', 'Percy Weasley', 'Fred Weasley', 'George Weasley', 'Ronald Weasley', 'William Weasley', 'Charles Weasley', 'Arthur Weasley'], 'start': 3116, 'end': 3117, 'text': 'Weasley'}]\n",
            "[]\n",
            "NICOLAS FLAMEL\n",
            "[{'string_id': ['Nicolas Flamel', 'Perenelle Flamel'], 'start': 211, 'end': 212, 'text': 'Flamel'}, {'string_id': ['Draco Malfoy', 'Lucius Malfoy', 'Narcissa Malfoy'], 'start': 942, 'end': 943, 'text': 'Malfoy'}, {'string_id': ['Draco Malfoy', 'Lucius Malfoy', 'Narcissa Malfoy'], 'start': 1065, 'end': 1066, 'text': 'Malfoy'}, {'string_id': ['Draco Malfoy', 'Lucius Malfoy', 'Narcissa Malfoy'], 'start': 1141, 'end': 1142, 'text': 'Malfoy'}, {'string_id': ['Draco Malfoy', 'Lucius Malfoy', 'Narcissa Malfoy'], 'start': 1163, 'end': 1164, 'text': 'Malfoy'}, {'string_id': ['Nicolas Flamel', 'Perenelle Flamel'], 'start': 1277, 'end': 1278, 'text': 'Flamel'}, {'string_id': ['Nicolas Flamel', 'Perenelle Flamel'], 'start': 1686, 'end': 1687, 'text': 'Flamel'}, {'string_id': ['Nicolas Flamel', 'Perenelle Flamel'], 'start': 1741, 'end': 1742, 'text': 'Flamel'}, {'string_id': ['Nicolas Flamel', 'Perenelle Flamel'], 'start': 1749, 'end': 1750, 'text': 'Flamel'}, {'string_id': ['Nicolas Flamel', 'Perenelle Flamel'], 'start': 1761, 'end': 1762, 'text': 'Flamel'}, {'string_id': ['Nicolas Flamel', 'Perenelle Flamel'], 'start': 1772, 'end': 1773, 'text': 'Flamel'}, {'string_id': ['Nicolas Flamel', 'Perenelle Flamel'], 'start': 1786, 'end': 1787, 'text': 'Flamel'}, {'string_id': ['Nicolas Flamel', 'Perenelle Flamel'], 'start': 1839, 'end': 1840, 'text': 'Flamel'}, {'string_id': ['Draco Malfoy', 'Lucius Malfoy', 'Narcissa Malfoy'], 'start': 2320, 'end': 2321, 'text': 'Malfoy'}, {'string_id': ['Lily J. Potter', 'James Potter I', 'Harry Potter'], 'start': 2403, 'end': 2404, 'text': 'Potter'}, {'string_id': ['Draco Malfoy', 'Lucius Malfoy', 'Narcissa Malfoy'], 'start': 2587, 'end': 2588, 'text': 'Malfoy'}, {'string_id': ['Ginevra Weasley', 'Molly Weasley', 'Percy Weasley', 'Fred Weasley', 'George Weasley', 'Ronald Weasley', 'William Weasley', 'Charles Weasley', 'Arthur Weasley'], 'start': 2594, 'end': 2595, 'text': 'Weasley'}, {'string_id': ['Draco Malfoy', 'Lucius Malfoy', 'Narcissa Malfoy'], 'start': 2603, 'end': 2604, 'text': 'Malfoy'}, {'string_id': ['Lily J. Potter', 'James Potter I', 'Harry Potter'], 'start': 2615, 'end': 2616, 'text': 'Potter'}, {'string_id': ['Lily J. Potter', 'James Potter I', 'Harry Potter'], 'start': 2621, 'end': 2622, 'text': 'Potter'}, {'string_id': ['Ginevra Weasley', 'Molly Weasley', 'Percy Weasley', 'Fred Weasley', 'George Weasley', 'Ronald Weasley', 'William Weasley', 'Charles Weasley', 'Arthur Weasley'], 'start': 2635, 'end': 2636, 'text': 'Weasley'}, {'string_id': ['Draco Malfoy', 'Lucius Malfoy', 'Narcissa Malfoy'], 'start': 2710, 'end': 2711, 'text': 'Malfoy'}, {'string_id': ['Lily J. Potter', 'James Potter I', 'Harry Potter'], 'start': 2743, 'end': 2744, 'text': 'Potter'}, {'string_id': ['Neville Longbottom', 'Augusta Longbottom', 'Algie Longbottom'], 'start': 2770, 'end': 2771, 'text': 'Longbottom'}, {'string_id': ['Draco Malfoy', 'Lucius Malfoy', 'Narcissa Malfoy'], 'start': 2790, 'end': 2791, 'text': 'Malfoy'}, {'string_id': ['Draco Malfoy', 'Lucius Malfoy', 'Narcissa Malfoy'], 'start': 2800, 'end': 2801, 'text': 'Malfoy'}, {'string_id': ['Draco Malfoy', 'Lucius Malfoy', 'Narcissa Malfoy'], 'start': 2806, 'end': 2807, 'text': 'Malfoy'}, {'string_id': ['Neville Longbottom', 'Augusta Longbottom', 'Algie Longbottom'], 'start': 2841, 'end': 2842, 'text': 'Longbottom'}, {'string_id': ['Ginevra Weasley', 'Molly Weasley', 'Percy Weasley', 'Fred Weasley', 'George Weasley', 'Ronald Weasley', 'William Weasley', 'Charles Weasley', 'Arthur Weasley'], 'start': 2852, 'end': 2853, 'text': 'Weasley'}, {'string_id': ['Draco Malfoy', 'Lucius Malfoy', 'Narcissa Malfoy'], 'start': 2882, 'end': 2883, 'text': 'Malfoy'}, {'string_id': ['Ginevra Weasley', 'Molly Weasley', 'Percy Weasley', 'Fred Weasley', 'George Weasley', 'Ronald Weasley', 'William Weasley', 'Charles Weasley', 'Arthur Weasley'], 'start': 2950, 'end': 2951, 'text': 'Weasley'}, {'string_id': ['Lily J. Potter', 'James Potter I', 'Harry Potter'], 'start': 2952, 'end': 2953, 'text': 'Potter'}, {'string_id': ['Draco Malfoy', 'Lucius Malfoy', 'Narcissa Malfoy'], 'start': 2964, 'end': 2965, 'text': 'Malfoy'}, {'string_id': ['Draco Malfoy', 'Lucius Malfoy', 'Narcissa Malfoy'], 'start': 2970, 'end': 2971, 'text': 'Malfoy'}, {'string_id': ['Draco Malfoy', 'Lucius Malfoy', 'Narcissa Malfoy'], 'start': 3031, 'end': 3032, 'text': 'Malfoy'}, {'string_id': ['Draco Malfoy', 'Lucius Malfoy', 'Narcissa Malfoy'], 'start': 3982, 'end': 3983, 'text': 'Malfoy'}]\n",
            "[]\n",
            "NORBERT THE NORWEGIAN RIDGEBACK\n",
            "[{'string_id': ['Draco Malfoy', 'Lucius Malfoy', 'Narcissa Malfoy'], 'start': 2220, 'end': 2221, 'text': 'Malfoy'}, {'string_id': ['Draco Malfoy', 'Lucius Malfoy', 'Narcissa Malfoy'], 'start': 2228, 'end': 2229, 'text': 'Malfoy'}, {'string_id': ['Draco Malfoy', 'Lucius Malfoy', 'Narcissa Malfoy'], 'start': 2238, 'end': 2239, 'text': 'Malfoy'}, {'string_id': ['Draco Malfoy', 'Lucius Malfoy', 'Narcissa Malfoy'], 'start': 2248, 'end': 2249, 'text': 'Malfoy'}, {'string_id': ['Draco Malfoy', 'Lucius Malfoy', 'Narcissa Malfoy'], 'start': 2652, 'end': 2653, 'text': 'Malfoy'}, {'string_id': ['Draco Malfoy', 'Lucius Malfoy', 'Narcissa Malfoy'], 'start': 2664, 'end': 2665, 'text': 'Malfoy'}, {'string_id': ['Draco Malfoy', 'Lucius Malfoy', 'Narcissa Malfoy'], 'start': 2899, 'end': 2900, 'text': 'Malfoy'}, {'string_id': ['Draco Malfoy', 'Lucius Malfoy', 'Narcissa Malfoy'], 'start': 3461, 'end': 3462, 'text': 'Malfoy'}, {'string_id': ['Draco Malfoy', 'Lucius Malfoy', 'Narcissa Malfoy'], 'start': 3591, 'end': 3592, 'text': 'Malfoy'}, {'string_id': ['Draco Malfoy', 'Lucius Malfoy', 'Narcissa Malfoy'], 'start': 3595, 'end': 3596, 'text': 'Malfoy'}, {'string_id': ['Draco Malfoy', 'Lucius Malfoy', 'Narcissa Malfoy'], 'start': 3604, 'end': 3605, 'text': 'Malfoy'}, {'string_id': ['Draco Malfoy', 'Lucius Malfoy', 'Narcissa Malfoy'], 'start': 3613, 'end': 3614, 'text': 'Malfoy'}, {'string_id': ['Draco Malfoy', 'Lucius Malfoy', 'Narcissa Malfoy'], 'start': 3615, 'end': 3616, 'text': 'Malfoy'}, {'string_id': ['Draco Malfoy', 'Lucius Malfoy', 'Narcissa Malfoy'], 'start': 3651, 'end': 3652, 'text': 'Malfoy'}, {'string_id': ['Draco Malfoy', 'Lucius Malfoy', 'Narcissa Malfoy'], 'start': 3660, 'end': 3661, 'text': 'Malfoy'}, {'string_id': ['Draco Malfoy', 'Lucius Malfoy', 'Narcissa Malfoy'], 'start': 3744, 'end': 3745, 'text': 'Malfoy'}, {'string_id': ['Draco Malfoy', 'Lucius Malfoy', 'Narcissa Malfoy'], 'start': 3844, 'end': 3845, 'text': 'Malfoy'}, {'string_id': ['Draco Malfoy', 'Lucius Malfoy', 'Narcissa Malfoy'], 'start': 4367, 'end': 4368, 'text': 'Malfoy'}, {'string_id': ['Draco Malfoy', 'Lucius Malfoy', 'Narcissa Malfoy'], 'start': 4445, 'end': 4446, 'text': 'Malfoy'}, {'string_id': ['Draco Malfoy', 'Lucius Malfoy', 'Narcissa Malfoy'], 'start': 4504, 'end': 4505, 'text': 'Malfoy'}, {'string_id': ['Draco Malfoy', 'Lucius Malfoy', 'Narcissa Malfoy'], 'start': 4525, 'end': 4526, 'text': 'Malfoy'}, {'string_id': ['Draco Malfoy', 'Lucius Malfoy', 'Narcissa Malfoy'], 'start': 4660, 'end': 4661, 'text': 'Malfoy'}]\n",
            "[]\n",
            "THE FORIBIDDEN FOREST\n",
            "[{'string_id': ['Draco Malfoy', 'Lucius Malfoy', 'Narcissa Malfoy'], 'start': 250, 'end': 251, 'text': 'Malfoy'}, {'string_id': ['Draco Malfoy', 'Lucius Malfoy', 'Narcissa Malfoy'], 'start': 252, 'end': 253, 'text': 'Malfoy'}, {'string_id': ['Draco Malfoy', 'Lucius Malfoy', 'Narcissa Malfoy'], 'start': 259, 'end': 260, 'text': 'Malfoy'}, {'string_id': ['Draco Malfoy', 'Lucius Malfoy', 'Narcissa Malfoy'], 'start': 269, 'end': 270, 'text': 'Malfoy'}, {'string_id': ['Neville Longbottom', 'Augusta Longbottom', 'Algie Longbottom'], 'start': 442, 'end': 443, 'text': 'Longbottom'}, {'string_id': ['Lily J. Potter', 'James Potter I', 'Harry Potter'], 'start': 565, 'end': 566, 'text': 'Potter'}, {'string_id': ['Lily J. Potter', 'James Potter I', 'Harry Potter'], 'start': 574, 'end': 575, 'text': 'Potter'}, {'string_id': ['Lily J. Potter', 'James Potter I', 'Harry Potter'], 'start': 582, 'end': 583, 'text': 'Potter'}, {'string_id': ['Neville Longbottom', 'Augusta Longbottom', 'Algie Longbottom'], 'start': 593, 'end': 594, 'text': 'Longbottom'}, {'string_id': ['Lily J. Potter', 'James Potter I', 'Harry Potter'], 'start': 692, 'end': 693, 'text': 'Potter'}, {'string_id': ['Lily J. Potter', 'James Potter I', 'Harry Potter'], 'start': 996, 'end': 997, 'text': 'Potter'}, {'string_id': ['Draco Malfoy', 'Lucius Malfoy', 'Narcissa Malfoy'], 'start': 2111, 'end': 2112, 'text': 'Malfoy'}, {'string_id': ['Draco Malfoy', 'Lucius Malfoy', 'Narcissa Malfoy'], 'start': 2118, 'end': 2119, 'text': 'Malfoy'}, {'string_id': ['Draco Malfoy', 'Lucius Malfoy', 'Narcissa Malfoy'], 'start': 2139, 'end': 2140, 'text': 'Malfoy'}, {'string_id': ['Draco Malfoy', 'Lucius Malfoy', 'Narcissa Malfoy'], 'start': 2173, 'end': 2174, 'text': 'Malfoy'}, {'string_id': ['Draco Malfoy', 'Lucius Malfoy', 'Narcissa Malfoy'], 'start': 2461, 'end': 2462, 'text': 'Malfoy'}, {'string_id': ['Draco Malfoy', 'Lucius Malfoy', 'Narcissa Malfoy'], 'start': 2768, 'end': 2769, 'text': 'Malfoy'}, {'string_id': ['Draco Malfoy', 'Lucius Malfoy', 'Narcissa Malfoy'], 'start': 2931, 'end': 2932, 'text': 'Malfoy'}, {'string_id': ['Draco Malfoy', 'Lucius Malfoy', 'Narcissa Malfoy'], 'start': 3150, 'end': 3151, 'text': 'Malfoy'}, {'string_id': ['Draco Malfoy', 'Lucius Malfoy', 'Narcissa Malfoy'], 'start': 3159, 'end': 3160, 'text': 'Malfoy'}, {'string_id': ['Draco Malfoy', 'Lucius Malfoy', 'Narcissa Malfoy'], 'start': 3245, 'end': 3246, 'text': 'Malfoy'}, {'string_id': ['Draco Malfoy', 'Lucius Malfoy', 'Narcissa Malfoy'], 'start': 3399, 'end': 3400, 'text': 'Malfoy'}, {'string_id': ['Draco Malfoy', 'Lucius Malfoy', 'Narcissa Malfoy'], 'start': 4764, 'end': 4765, 'text': 'Malfoy'}, {'string_id': ['Draco Malfoy', 'Lucius Malfoy', 'Narcissa Malfoy'], 'start': 4838, 'end': 4839, 'text': 'Malfoy'}, {'string_id': ['Draco Malfoy', 'Lucius Malfoy', 'Narcissa Malfoy'], 'start': 4852, 'end': 4853, 'text': 'Malfoy'}, {'string_id': ['Draco Malfoy', 'Lucius Malfoy', 'Narcissa Malfoy'], 'start': 4973, 'end': 4974, 'text': 'Malfoy'}, {'string_id': ['Draco Malfoy', 'Lucius Malfoy', 'Narcissa Malfoy'], 'start': 5071, 'end': 5072, 'text': 'Malfoy'}, {'string_id': ['Draco Malfoy', 'Lucius Malfoy', 'Narcissa Malfoy'], 'start': 5196, 'end': 5197, 'text': 'Malfoy'}, {'string_id': ['Draco Malfoy', 'Lucius Malfoy', 'Narcissa Malfoy'], 'start': 5237, 'end': 5238, 'text': 'Malfoy'}, {'string_id': ['Lily J. Potter', 'James Potter I', 'Harry Potter'], 'start': 5478, 'end': 5479, 'text': 'Potter'}, {'string_id': ['Lily J. Potter', 'James Potter I', 'Harry Potter'], 'start': 5628, 'end': 5629, 'text': 'Potter'}, {'string_id': ['Lily J. Potter', 'James Potter I', 'Harry Potter'], 'start': 5634, 'end': 5635, 'text': 'Potter'}, {'string_id': ['Lily J. Potter', 'James Potter I', 'Harry Potter'], 'start': 5651, 'end': 5652, 'text': 'Potter'}, {'string_id': ['Lily J. Potter', 'James Potter I', 'Harry Potter'], 'start': 6221, 'end': 6222, 'text': 'Potter'}]\n",
            "[]\n",
            "THROUGH THE TRAPDOOR\n",
            "[{'string_id': ['Ginevra Weasley', 'Molly Weasley', 'Percy Weasley', 'Fred Weasley', 'George Weasley', 'Ronald Weasley', 'William Weasley', 'Charles Weasley', 'Arthur Weasley'], 'start': 527, 'end': 528, 'text': 'Weasley'}, {'string_id': ['Lily J. Potter', 'James Potter I', 'Harry Potter'], 'start': 1873, 'end': 1874, 'text': 'Potter'}, {'string_id': ['Lily J. Potter', 'James Potter I', 'Harry Potter'], 'start': 1905, 'end': 1906, 'text': 'Potter'}, {'string_id': ['Lily J. Potter', 'James Potter I', 'Harry Potter'], 'start': 2078, 'end': 2079, 'text': 'Potter'}, {'string_id': ['Lily J. Potter', 'James Potter I', 'Harry Potter'], 'start': 2335, 'end': 2336, 'text': 'Potter'}, {'string_id': ['Ginevra Weasley', 'Molly Weasley', 'Percy Weasley', 'Fred Weasley', 'George Weasley', 'Ronald Weasley', 'William Weasley', 'Charles Weasley', 'Arthur Weasley'], 'start': 2628, 'end': 2629, 'text': 'Weasley'}]\n",
            "[]\n",
            "THE MAN WITH TWO FACES\n",
            "[{'string_id': ['Lily J. Potter', 'James Potter I', 'Harry Potter'], 'start': 41, 'end': 42, 'text': 'Potter'}, {'string_id': ['Lily J. Potter', 'James Potter I', 'Harry Potter'], 'start': 362, 'end': 363, 'text': 'Potter'}, {'string_id': ['Lily J. Potter', 'James Potter I', 'Harry Potter'], 'start': 493, 'end': 494, 'text': 'Potter'}, {'string_id': ['Lily J. Potter', 'James Potter I', 'Harry Potter'], 'start': 1283, 'end': 1284, 'text': 'Potter'}, {'string_id': ['Lily J. Potter', 'James Potter I', 'Harry Potter'], 'start': 1605, 'end': 1606, 'text': 'Potter'}, {'string_id': ['Lily J. Potter', 'James Potter I', 'Harry Potter'], 'start': 1792, 'end': 1793, 'text': 'Potter'}, {'string_id': ['Draco Malfoy', 'Lucius Malfoy', 'Narcissa Malfoy'], 'start': 4093, 'end': 4094, 'text': 'Malfoy'}, {'string_id': ['Nicolas Flamel', 'Perenelle Flamel'], 'start': 4698, 'end': 4699, 'text': 'Flamel'}, {'string_id': ['Draco Malfoy', 'Lucius Malfoy', 'Narcissa Malfoy'], 'start': 6465, 'end': 6466, 'text': 'Malfoy'}, {'string_id': ['Lily J. Potter', 'James Potter I', 'Harry Potter'], 'start': 7069, 'end': 7070, 'text': 'Potter'}, {'string_id': ['Ginevra Weasley', 'Molly Weasley', 'Percy Weasley', 'Fred Weasley', 'George Weasley', 'Ronald Weasley', 'William Weasley', 'Charles Weasley', 'Arthur Weasley'], 'start': 7129, 'end': 7130, 'text': 'Weasley'}, {'string_id': ['Ginevra Weasley', 'Molly Weasley', 'Percy Weasley', 'Fred Weasley', 'George Weasley', 'Ronald Weasley', 'William Weasley', 'Charles Weasley', 'Arthur Weasley'], 'start': 7175, 'end': 7176, 'text': 'Weasley'}, {'string_id': ['Ginevra Weasley', 'Molly Weasley', 'Percy Weasley', 'Fred Weasley', 'George Weasley', 'Ronald Weasley', 'William Weasley', 'Charles Weasley', 'Arthur Weasley'], 'start': 7206, 'end': 7207, 'text': 'Weasley'}, {'string_id': ['Ginevra Weasley', 'Molly Weasley', 'Percy Weasley', 'Fred Weasley', 'George Weasley', 'Ronald Weasley', 'William Weasley', 'Charles Weasley', 'Arthur Weasley'], 'start': 7290, 'end': 7291, 'text': 'Weasley'}]\n",
            "[]\n"
          ],
          "name": "stdout"
        }
      ]
    },
    {
      "cell_type": "code",
      "metadata": {
        "id": "c8bMH3n5DHly"
      },
      "source": [
        "\n"
      ],
      "execution_count": 51,
      "outputs": []
    },
    {
      "cell_type": "code",
      "metadata": {
        "id": "Xpc9R99_R1bn"
      },
      "source": [
        ""
      ],
      "execution_count": null,
      "outputs": []
    }
  ]
}