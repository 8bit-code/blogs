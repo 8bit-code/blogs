{
  "nbformat": 4,
  "nbformat_minor": 0,
  "metadata": {
    "colab": {
      "name": "SpaCy-informationextraction.ipynb",
      "provenance": [],
      "authorship_tag": "ABX9TyNrkEDAtJ8q69h/TTBA8zbK",
      "include_colab_link": true
    },
    "kernelspec": {
      "name": "python3",
      "display_name": "Python 3"
    },
    "language_info": {
      "name": "python"
    },
    "accelerator": "GPU"
  },
  "cells": [
    {
      "cell_type": "markdown",
      "metadata": {
        "id": "view-in-github",
        "colab_type": "text"
      },
      "source": [
        "<a href=\"https://colab.research.google.com/github/tomasonjo/blogs/blob/master/ie_pipeline/SpaCy_informationextraction.ipynb\" target=\"_parent\"><img src=\"https://colab.research.google.com/assets/colab-badge.svg\" alt=\"Open In Colab\"/></a>"
      ]
    },
    {
      "cell_type": "code",
      "execution_count": 1,
      "metadata": {
        "colab": {
          "base_uri": "https://localhost:8080/"
        },
        "id": "g2DBtIbZPRbL",
        "outputId": "bd934ce4-d720-4390-d808-cc728d3d8f58"
      },
      "outputs": [
        {
          "output_type": "stream",
          "name": "stdout",
          "text": [
            "Requirement already satisfied: crosslingual-coreference in /usr/local/lib/python3.7/dist-packages (0.2.1)\n",
            "Requirement already satisfied: spacy-transformers in /usr/local/lib/python3.7/dist-packages (1.1.5)\n",
            "Requirement already satisfied: wikipedia in /usr/local/lib/python3.7/dist-packages (1.4.0)\n",
            "Requirement already satisfied: neo4j in /usr/local/lib/python3.7/dist-packages (4.4.3)\n",
            "Requirement already satisfied: torch<1.11.0,>=1.10.0 in /usr/local/lib/python3.7/dist-packages (from crosslingual-coreference) (1.10.2)\n",
            "Requirement already satisfied: allennlp-models<3.0,>=2.8 in /usr/local/lib/python3.7/dist-packages (from crosslingual-coreference) (2.9.3)\n",
            "Requirement already satisfied: spacy<4.0,>=3.1.0 in /usr/local/lib/python3.7/dist-packages (from crosslingual-coreference) (3.2.4)\n",
            "Requirement already satisfied: torchvision<0.12.0 in /usr/local/lib/python3.7/dist-packages (from crosslingual-coreference) (0.11.3)\n",
            "Requirement already satisfied: click<8.1.0 in /usr/local/lib/python3.7/dist-packages (from crosslingual-coreference) (7.1.2)\n",
            "Requirement already satisfied: torchaudio<0.11 in /usr/local/lib/python3.7/dist-packages (from crosslingual-coreference) (0.10.2)\n",
            "Requirement already satisfied: allennlp<3.0,>=2.8 in /usr/local/lib/python3.7/dist-packages (from crosslingual-coreference) (2.9.3)\n",
            "Requirement already satisfied: transformers<4.19,>=4.1 in /usr/local/lib/python3.7/dist-packages (from allennlp<3.0,>=2.8->crosslingual-coreference) (4.18.0)\n",
            "Requirement already satisfied: huggingface-hub>=0.0.16 in /usr/local/lib/python3.7/dist-packages (from allennlp<3.0,>=2.8->crosslingual-coreference) (0.5.1)\n",
            "Requirement already satisfied: h5py in /usr/local/lib/python3.7/dist-packages (from allennlp<3.0,>=2.8->crosslingual-coreference) (3.1.0)\n",
            "Requirement already satisfied: wandb<0.13.0,>=0.10.0 in /usr/local/lib/python3.7/dist-packages (from allennlp<3.0,>=2.8->crosslingual-coreference) (0.12.15)\n",
            "Requirement already satisfied: scikit-learn in /usr/local/lib/python3.7/dist-packages (from allennlp<3.0,>=2.8->crosslingual-coreference) (1.0.2)\n",
            "Requirement already satisfied: requests>=2.18 in /usr/local/lib/python3.7/dist-packages (from allennlp<3.0,>=2.8->crosslingual-coreference) (2.23.0)\n",
            "Requirement already satisfied: typer>=0.4.1 in /usr/local/lib/python3.7/dist-packages (from allennlp<3.0,>=2.8->crosslingual-coreference) (0.4.1)\n",
            "Requirement already satisfied: cached-path<1.2.0,>=1.0.2 in /usr/local/lib/python3.7/dist-packages (from allennlp<3.0,>=2.8->crosslingual-coreference) (1.1.2)\n",
            "Requirement already satisfied: tqdm>=4.62 in /usr/local/lib/python3.7/dist-packages (from allennlp<3.0,>=2.8->crosslingual-coreference) (4.64.0)\n",
            "Requirement already satisfied: sentencepiece in /usr/local/lib/python3.7/dist-packages (from allennlp<3.0,>=2.8->crosslingual-coreference) (0.1.96)\n",
            "Requirement already satisfied: tensorboardX>=1.2 in /usr/local/lib/python3.7/dist-packages (from allennlp<3.0,>=2.8->crosslingual-coreference) (2.5)\n",
            "Requirement already satisfied: jsonnet>=0.10.0 in /usr/local/lib/python3.7/dist-packages (from allennlp<3.0,>=2.8->crosslingual-coreference) (0.18.0)\n",
            "Requirement already satisfied: base58 in /usr/local/lib/python3.7/dist-packages (from allennlp<3.0,>=2.8->crosslingual-coreference) (2.1.1)\n",
            "Requirement already satisfied: scipy in /usr/local/lib/python3.7/dist-packages (from allennlp<3.0,>=2.8->crosslingual-coreference) (1.4.1)\n",
            "Requirement already satisfied: more-itertools in /usr/local/lib/python3.7/dist-packages (from allennlp<3.0,>=2.8->crosslingual-coreference) (8.12.0)\n",
            "Requirement already satisfied: dill in /usr/local/lib/python3.7/dist-packages (from allennlp<3.0,>=2.8->crosslingual-coreference) (0.3.4)\n",
            "Requirement already satisfied: nltk in /usr/local/lib/python3.7/dist-packages (from allennlp<3.0,>=2.8->crosslingual-coreference) (3.7)\n",
            "Requirement already satisfied: fairscale==0.4.6 in /usr/local/lib/python3.7/dist-packages (from allennlp<3.0,>=2.8->crosslingual-coreference) (0.4.6)\n",
            "Requirement already satisfied: filelock<3.7,>=3.3 in /usr/local/lib/python3.7/dist-packages (from allennlp<3.0,>=2.8->crosslingual-coreference) (3.6.0)\n",
            "Requirement already satisfied: lmdb in /usr/local/lib/python3.7/dist-packages (from allennlp<3.0,>=2.8->crosslingual-coreference) (0.99)\n",
            "Requirement already satisfied: numpy in /usr/local/lib/python3.7/dist-packages (from allennlp<3.0,>=2.8->crosslingual-coreference) (1.21.6)\n",
            "Requirement already satisfied: pytest in /usr/local/lib/python3.7/dist-packages (from allennlp<3.0,>=2.8->crosslingual-coreference) (3.6.4)\n",
            "Requirement already satisfied: termcolor==1.1.0 in /usr/local/lib/python3.7/dist-packages (from allennlp<3.0,>=2.8->crosslingual-coreference) (1.1.0)\n",
            "Requirement already satisfied: datasets in /usr/local/lib/python3.7/dist-packages (from allennlp-models<3.0,>=2.8->crosslingual-coreference) (2.1.0)\n",
            "Requirement already satisfied: word2number>=1.1 in /usr/local/lib/python3.7/dist-packages (from allennlp-models<3.0,>=2.8->crosslingual-coreference) (1.1)\n",
            "Requirement already satisfied: ftfy in /usr/local/lib/python3.7/dist-packages (from allennlp-models<3.0,>=2.8->crosslingual-coreference) (6.1.1)\n",
            "Requirement already satisfied: py-rouge==1.1 in /usr/local/lib/python3.7/dist-packages (from allennlp-models<3.0,>=2.8->crosslingual-coreference) (1.1)\n",
            "Requirement already satisfied: conllu==4.4.1 in /usr/local/lib/python3.7/dist-packages (from allennlp-models<3.0,>=2.8->crosslingual-coreference) (4.4.1)\n",
            "Requirement already satisfied: google-cloud-storage<3.0,>=1.0 in /usr/local/lib/python3.7/dist-packages (from cached-path<1.2.0,>=1.0.2->allennlp<3.0,>=2.8->crosslingual-coreference) (2.3.0)\n",
            "Requirement already satisfied: boto3<2.0,>=1.0 in /usr/local/lib/python3.7/dist-packages (from cached-path<1.2.0,>=1.0.2->allennlp<3.0,>=2.8->crosslingual-coreference) (1.22.1)\n",
            "Requirement already satisfied: botocore<1.26.0,>=1.25.1 in /usr/local/lib/python3.7/dist-packages (from boto3<2.0,>=1.0->cached-path<1.2.0,>=1.0.2->allennlp<3.0,>=2.8->crosslingual-coreference) (1.25.2)\n",
            "Requirement already satisfied: s3transfer<0.6.0,>=0.5.0 in /usr/local/lib/python3.7/dist-packages (from boto3<2.0,>=1.0->cached-path<1.2.0,>=1.0.2->allennlp<3.0,>=2.8->crosslingual-coreference) (0.5.2)\n",
            "Requirement already satisfied: jmespath<2.0.0,>=0.7.1 in /usr/local/lib/python3.7/dist-packages (from boto3<2.0,>=1.0->cached-path<1.2.0,>=1.0.2->allennlp<3.0,>=2.8->crosslingual-coreference) (1.0.0)\n",
            "Requirement already satisfied: urllib3<1.27,>=1.25.4 in /usr/local/lib/python3.7/dist-packages (from botocore<1.26.0,>=1.25.1->boto3<2.0,>=1.0->cached-path<1.2.0,>=1.0.2->allennlp<3.0,>=2.8->crosslingual-coreference) (1.25.11)\n",
            "Requirement already satisfied: python-dateutil<3.0.0,>=2.1 in /usr/local/lib/python3.7/dist-packages (from botocore<1.26.0,>=1.25.1->boto3<2.0,>=1.0->cached-path<1.2.0,>=1.0.2->allennlp<3.0,>=2.8->crosslingual-coreference) (2.8.2)\n",
            "Requirement already satisfied: protobuf in /usr/local/lib/python3.7/dist-packages (from google-cloud-storage<3.0,>=1.0->cached-path<1.2.0,>=1.0.2->allennlp<3.0,>=2.8->crosslingual-coreference) (3.17.3)\n",
            "Requirement already satisfied: google-auth<3.0dev,>=1.25.0 in /usr/local/lib/python3.7/dist-packages (from google-cloud-storage<3.0,>=1.0->cached-path<1.2.0,>=1.0.2->allennlp<3.0,>=2.8->crosslingual-coreference) (1.35.0)\n",
            "Requirement already satisfied: google-cloud-core<3.0dev,>=2.3.0 in /usr/local/lib/python3.7/dist-packages (from google-cloud-storage<3.0,>=1.0->cached-path<1.2.0,>=1.0.2->allennlp<3.0,>=2.8->crosslingual-coreference) (2.3.0)\n",
            "Requirement already satisfied: google-resumable-media>=2.3.2 in /usr/local/lib/python3.7/dist-packages (from google-cloud-storage<3.0,>=1.0->cached-path<1.2.0,>=1.0.2->allennlp<3.0,>=2.8->crosslingual-coreference) (2.3.2)\n",
            "Requirement already satisfied: google-api-core!=2.0.*,!=2.1.*,!=2.2.*,!=2.3.0,<3.0.0dev,>=1.31.5 in /usr/local/lib/python3.7/dist-packages (from google-cloud-storage<3.0,>=1.0->cached-path<1.2.0,>=1.0.2->allennlp<3.0,>=2.8->crosslingual-coreference) (1.31.5)\n",
            "Requirement already satisfied: six>=1.13.0 in /usr/local/lib/python3.7/dist-packages (from google-api-core!=2.0.*,!=2.1.*,!=2.2.*,!=2.3.0,<3.0.0dev,>=1.31.5->google-cloud-storage<3.0,>=1.0->cached-path<1.2.0,>=1.0.2->allennlp<3.0,>=2.8->crosslingual-coreference) (1.15.0)\n",
            "Requirement already satisfied: pytz in /usr/local/lib/python3.7/dist-packages (from google-api-core!=2.0.*,!=2.1.*,!=2.2.*,!=2.3.0,<3.0.0dev,>=1.31.5->google-cloud-storage<3.0,>=1.0->cached-path<1.2.0,>=1.0.2->allennlp<3.0,>=2.8->crosslingual-coreference) (2022.1)\n",
            "Requirement already satisfied: setuptools>=40.3.0 in /usr/local/lib/python3.7/dist-packages (from google-api-core!=2.0.*,!=2.1.*,!=2.2.*,!=2.3.0,<3.0.0dev,>=1.31.5->google-cloud-storage<3.0,>=1.0->cached-path<1.2.0,>=1.0.2->allennlp<3.0,>=2.8->crosslingual-coreference) (57.4.0)\n",
            "Requirement already satisfied: googleapis-common-protos<2.0dev,>=1.6.0 in /usr/local/lib/python3.7/dist-packages (from google-api-core!=2.0.*,!=2.1.*,!=2.2.*,!=2.3.0,<3.0.0dev,>=1.31.5->google-cloud-storage<3.0,>=1.0->cached-path<1.2.0,>=1.0.2->allennlp<3.0,>=2.8->crosslingual-coreference) (1.56.0)\n",
            "Requirement already satisfied: packaging>=14.3 in /usr/local/lib/python3.7/dist-packages (from google-api-core!=2.0.*,!=2.1.*,!=2.2.*,!=2.3.0,<3.0.0dev,>=1.31.5->google-cloud-storage<3.0,>=1.0->cached-path<1.2.0,>=1.0.2->allennlp<3.0,>=2.8->crosslingual-coreference) (21.3)\n",
            "Requirement already satisfied: rsa<5,>=3.1.4 in /usr/local/lib/python3.7/dist-packages (from google-auth<3.0dev,>=1.25.0->google-cloud-storage<3.0,>=1.0->cached-path<1.2.0,>=1.0.2->allennlp<3.0,>=2.8->crosslingual-coreference) (4.8)\n",
            "Requirement already satisfied: cachetools<5.0,>=2.0.0 in /usr/local/lib/python3.7/dist-packages (from google-auth<3.0dev,>=1.25.0->google-cloud-storage<3.0,>=1.0->cached-path<1.2.0,>=1.0.2->allennlp<3.0,>=2.8->crosslingual-coreference) (4.2.4)\n",
            "Requirement already satisfied: pyasn1-modules>=0.2.1 in /usr/local/lib/python3.7/dist-packages (from google-auth<3.0dev,>=1.25.0->google-cloud-storage<3.0,>=1.0->cached-path<1.2.0,>=1.0.2->allennlp<3.0,>=2.8->crosslingual-coreference) (0.2.8)\n",
            "Requirement already satisfied: google-crc32c<2.0dev,>=1.0 in /usr/local/lib/python3.7/dist-packages (from google-resumable-media>=2.3.2->google-cloud-storage<3.0,>=1.0->cached-path<1.2.0,>=1.0.2->allennlp<3.0,>=2.8->crosslingual-coreference) (1.3.0)\n",
            "Requirement already satisfied: pyyaml in /usr/local/lib/python3.7/dist-packages (from huggingface-hub>=0.0.16->allennlp<3.0,>=2.8->crosslingual-coreference) (6.0)\n",
            "Requirement already satisfied: typing-extensions>=3.7.4.3 in /usr/local/lib/python3.7/dist-packages (from huggingface-hub>=0.0.16->allennlp<3.0,>=2.8->crosslingual-coreference) (3.10.0.2)\n",
            "Requirement already satisfied: importlib-metadata in /usr/local/lib/python3.7/dist-packages (from huggingface-hub>=0.0.16->allennlp<3.0,>=2.8->crosslingual-coreference) (4.11.3)\n",
            "Requirement already satisfied: regex>=2021.8.3 in /usr/local/lib/python3.7/dist-packages (from nltk->allennlp<3.0,>=2.8->crosslingual-coreference) (2022.4.24)\n",
            "Requirement already satisfied: joblib in /usr/local/lib/python3.7/dist-packages (from nltk->allennlp<3.0,>=2.8->crosslingual-coreference) (1.1.0)\n",
            "Requirement already satisfied: pyparsing!=3.0.5,>=2.0.2 in /usr/local/lib/python3.7/dist-packages (from packaging>=14.3->google-api-core!=2.0.*,!=2.1.*,!=2.2.*,!=2.3.0,<3.0.0dev,>=1.31.5->google-cloud-storage<3.0,>=1.0->cached-path<1.2.0,>=1.0.2->allennlp<3.0,>=2.8->crosslingual-coreference) (3.0.8)\n",
            "Requirement already satisfied: pyasn1<0.5.0,>=0.4.6 in /usr/local/lib/python3.7/dist-packages (from pyasn1-modules>=0.2.1->google-auth<3.0dev,>=1.25.0->google-cloud-storage<3.0,>=1.0->cached-path<1.2.0,>=1.0.2->allennlp<3.0,>=2.8->crosslingual-coreference) (0.4.8)\n",
            "Requirement already satisfied: chardet<4,>=3.0.2 in /usr/local/lib/python3.7/dist-packages (from requests>=2.18->allennlp<3.0,>=2.8->crosslingual-coreference) (3.0.4)\n",
            "Requirement already satisfied: certifi>=2017.4.17 in /usr/local/lib/python3.7/dist-packages (from requests>=2.18->allennlp<3.0,>=2.8->crosslingual-coreference) (2021.10.8)\n",
            "Requirement already satisfied: idna<3,>=2.5 in /usr/local/lib/python3.7/dist-packages (from requests>=2.18->allennlp<3.0,>=2.8->crosslingual-coreference) (2.10)\n",
            "Requirement already satisfied: pathy>=0.3.5 in /usr/local/lib/python3.7/dist-packages (from spacy<4.0,>=3.1.0->crosslingual-coreference) (0.6.1)\n",
            "Requirement already satisfied: spacy-loggers<2.0.0,>=1.0.0 in /usr/local/lib/python3.7/dist-packages (from spacy<4.0,>=3.1.0->crosslingual-coreference) (1.0.2)\n",
            "Requirement already satisfied: wasabi<1.1.0,>=0.8.1 in /usr/local/lib/python3.7/dist-packages (from spacy<4.0,>=3.1.0->crosslingual-coreference) (0.9.1)\n",
            "Requirement already satisfied: spacy-legacy<3.1.0,>=3.0.8 in /usr/local/lib/python3.7/dist-packages (from spacy<4.0,>=3.1.0->crosslingual-coreference) (3.0.9)\n",
            "Requirement already satisfied: pydantic!=1.8,!=1.8.1,<1.9.0,>=1.7.4 in /usr/local/lib/python3.7/dist-packages (from spacy<4.0,>=3.1.0->crosslingual-coreference) (1.8.2)\n",
            "Requirement already satisfied: langcodes<4.0.0,>=3.2.0 in /usr/local/lib/python3.7/dist-packages (from spacy<4.0,>=3.1.0->crosslingual-coreference) (3.3.0)\n",
            "Requirement already satisfied: blis<0.8.0,>=0.4.0 in /usr/local/lib/python3.7/dist-packages (from spacy<4.0,>=3.1.0->crosslingual-coreference) (0.4.1)\n",
            "Requirement already satisfied: jinja2 in /usr/local/lib/python3.7/dist-packages (from spacy<4.0,>=3.1.0->crosslingual-coreference) (2.11.3)\n",
            "Requirement already satisfied: srsly<3.0.0,>=2.4.1 in /usr/local/lib/python3.7/dist-packages (from spacy<4.0,>=3.1.0->crosslingual-coreference) (2.4.3)\n",
            "Requirement already satisfied: catalogue<2.1.0,>=2.0.6 in /usr/local/lib/python3.7/dist-packages (from spacy<4.0,>=3.1.0->crosslingual-coreference) (2.0.7)\n",
            "Requirement already satisfied: murmurhash<1.1.0,>=0.28.0 in /usr/local/lib/python3.7/dist-packages (from spacy<4.0,>=3.1.0->crosslingual-coreference) (1.0.6)\n",
            "Requirement already satisfied: thinc<8.1.0,>=8.0.12 in /usr/local/lib/python3.7/dist-packages (from spacy<4.0,>=3.1.0->crosslingual-coreference) (8.0.15)\n",
            "Requirement already satisfied: cymem<2.1.0,>=2.0.2 in /usr/local/lib/python3.7/dist-packages (from spacy<4.0,>=3.1.0->crosslingual-coreference) (2.0.6)\n",
            "Requirement already satisfied: preshed<3.1.0,>=3.0.2 in /usr/local/lib/python3.7/dist-packages (from spacy<4.0,>=3.1.0->crosslingual-coreference) (3.0.6)\n",
            "Requirement already satisfied: zipp>=0.5 in /usr/local/lib/python3.7/dist-packages (from catalogue<2.1.0,>=2.0.6->spacy<4.0,>=3.1.0->crosslingual-coreference) (3.8.0)\n",
            "Requirement already satisfied: smart-open<6.0.0,>=5.0.0 in /usr/local/lib/python3.7/dist-packages (from pathy>=0.3.5->spacy<4.0,>=3.1.0->crosslingual-coreference) (5.2.1)\n",
            "Requirement already satisfied: pillow!=8.3.0,>=5.3.0 in /usr/local/lib/python3.7/dist-packages (from torchvision<0.12.0->crosslingual-coreference) (7.1.2)\n",
            "Requirement already satisfied: tokenizers!=0.11.3,<0.13,>=0.11.1 in /usr/local/lib/python3.7/dist-packages (from transformers<4.19,>=4.1->allennlp<3.0,>=2.8->crosslingual-coreference) (0.12.1)\n",
            "Requirement already satisfied: sacremoses in /usr/local/lib/python3.7/dist-packages (from transformers<4.19,>=4.1->allennlp<3.0,>=2.8->crosslingual-coreference) (0.0.49)\n",
            "Requirement already satisfied: psutil>=5.0.0 in /usr/local/lib/python3.7/dist-packages (from wandb<0.13.0,>=0.10.0->allennlp<3.0,>=2.8->crosslingual-coreference) (5.4.8)\n",
            "Requirement already satisfied: shortuuid>=0.5.0 in /usr/local/lib/python3.7/dist-packages (from wandb<0.13.0,>=0.10.0->allennlp<3.0,>=2.8->crosslingual-coreference) (1.0.8)\n",
            "Requirement already satisfied: promise<3,>=2.0 in /usr/local/lib/python3.7/dist-packages (from wandb<0.13.0,>=0.10.0->allennlp<3.0,>=2.8->crosslingual-coreference) (2.3)\n",
            "Requirement already satisfied: setproctitle in /usr/local/lib/python3.7/dist-packages (from wandb<0.13.0,>=0.10.0->allennlp<3.0,>=2.8->crosslingual-coreference) (1.2.3)\n",
            "Requirement already satisfied: docker-pycreds>=0.4.0 in /usr/local/lib/python3.7/dist-packages (from wandb<0.13.0,>=0.10.0->allennlp<3.0,>=2.8->crosslingual-coreference) (0.4.0)\n",
            "Requirement already satisfied: pathtools in /usr/local/lib/python3.7/dist-packages (from wandb<0.13.0,>=0.10.0->allennlp<3.0,>=2.8->crosslingual-coreference) (0.1.2)\n",
            "Requirement already satisfied: sentry-sdk>=1.0.0 in /usr/local/lib/python3.7/dist-packages (from wandb<0.13.0,>=0.10.0->allennlp<3.0,>=2.8->crosslingual-coreference) (1.5.10)\n",
            "Requirement already satisfied: GitPython>=1.0.0 in /usr/local/lib/python3.7/dist-packages (from wandb<0.13.0,>=0.10.0->allennlp<3.0,>=2.8->crosslingual-coreference) (3.1.27)\n",
            "Requirement already satisfied: gitdb<5,>=4.0.1 in /usr/local/lib/python3.7/dist-packages (from GitPython>=1.0.0->wandb<0.13.0,>=0.10.0->allennlp<3.0,>=2.8->crosslingual-coreference) (4.0.9)\n",
            "Requirement already satisfied: smmap<6,>=3.0.1 in /usr/local/lib/python3.7/dist-packages (from gitdb<5,>=4.0.1->GitPython>=1.0.0->wandb<0.13.0,>=0.10.0->allennlp<3.0,>=2.8->crosslingual-coreference) (5.0.0)\n",
            "Requirement already satisfied: spacy-alignments<1.0.0,>=0.7.2 in /usr/local/lib/python3.7/dist-packages (from spacy-transformers) (0.8.5)\n",
            "Collecting transformers<4.19,>=4.1\n",
            "  Using cached transformers-4.17.0-py3-none-any.whl (3.8 MB)\n",
            "Requirement already satisfied: beautifulsoup4 in /usr/local/lib/python3.7/dist-packages (from wikipedia) (4.6.3)\n",
            "Requirement already satisfied: multiprocess in /usr/local/lib/python3.7/dist-packages (from datasets->allennlp-models<3.0,>=2.8->crosslingual-coreference) (0.70.12.2)\n",
            "Requirement already satisfied: pyarrow>=5.0.0 in /usr/local/lib/python3.7/dist-packages (from datasets->allennlp-models<3.0,>=2.8->crosslingual-coreference) (6.0.1)\n",
            "Requirement already satisfied: xxhash in /usr/local/lib/python3.7/dist-packages (from datasets->allennlp-models<3.0,>=2.8->crosslingual-coreference) (3.0.0)\n",
            "Requirement already satisfied: responses<0.19 in /usr/local/lib/python3.7/dist-packages (from datasets->allennlp-models<3.0,>=2.8->crosslingual-coreference) (0.18.0)\n",
            "Requirement already satisfied: aiohttp in /usr/local/lib/python3.7/dist-packages (from datasets->allennlp-models<3.0,>=2.8->crosslingual-coreference) (3.8.1)\n",
            "Requirement already satisfied: pandas in /usr/local/lib/python3.7/dist-packages (from datasets->allennlp-models<3.0,>=2.8->crosslingual-coreference) (1.3.5)\n",
            "Requirement already satisfied: fsspec[http]>=2021.05.0 in /usr/local/lib/python3.7/dist-packages (from datasets->allennlp-models<3.0,>=2.8->crosslingual-coreference) (2022.3.0)\n",
            "Requirement already satisfied: frozenlist>=1.1.1 in /usr/local/lib/python3.7/dist-packages (from aiohttp->datasets->allennlp-models<3.0,>=2.8->crosslingual-coreference) (1.3.0)\n",
            "Requirement already satisfied: aiosignal>=1.1.2 in /usr/local/lib/python3.7/dist-packages (from aiohttp->datasets->allennlp-models<3.0,>=2.8->crosslingual-coreference) (1.2.0)\n",
            "Requirement already satisfied: multidict<7.0,>=4.5 in /usr/local/lib/python3.7/dist-packages (from aiohttp->datasets->allennlp-models<3.0,>=2.8->crosslingual-coreference) (6.0.2)\n",
            "Requirement already satisfied: async-timeout<5.0,>=4.0.0a3 in /usr/local/lib/python3.7/dist-packages (from aiohttp->datasets->allennlp-models<3.0,>=2.8->crosslingual-coreference) (4.0.2)\n",
            "Requirement already satisfied: attrs>=17.3.0 in /usr/local/lib/python3.7/dist-packages (from aiohttp->datasets->allennlp-models<3.0,>=2.8->crosslingual-coreference) (21.4.0)\n",
            "Requirement already satisfied: asynctest==0.13.0 in /usr/local/lib/python3.7/dist-packages (from aiohttp->datasets->allennlp-models<3.0,>=2.8->crosslingual-coreference) (0.13.0)\n",
            "Requirement already satisfied: charset-normalizer<3.0,>=2.0 in /usr/local/lib/python3.7/dist-packages (from aiohttp->datasets->allennlp-models<3.0,>=2.8->crosslingual-coreference) (2.0.12)\n",
            "Requirement already satisfied: yarl<2.0,>=1.0 in /usr/local/lib/python3.7/dist-packages (from aiohttp->datasets->allennlp-models<3.0,>=2.8->crosslingual-coreference) (1.7.2)\n",
            "Requirement already satisfied: wcwidth>=0.2.5 in /usr/local/lib/python3.7/dist-packages (from ftfy->allennlp-models<3.0,>=2.8->crosslingual-coreference) (0.2.5)\n",
            "Requirement already satisfied: cached-property in /usr/local/lib/python3.7/dist-packages (from h5py->allennlp<3.0,>=2.8->crosslingual-coreference) (1.5.2)\n",
            "Requirement already satisfied: MarkupSafe>=0.23 in /usr/local/lib/python3.7/dist-packages (from jinja2->spacy<4.0,>=3.1.0->crosslingual-coreference) (2.0.1)\n",
            "Requirement already satisfied: py>=1.5.0 in /usr/local/lib/python3.7/dist-packages (from pytest->allennlp<3.0,>=2.8->crosslingual-coreference) (1.11.0)\n",
            "Requirement already satisfied: atomicwrites>=1.0 in /usr/local/lib/python3.7/dist-packages (from pytest->allennlp<3.0,>=2.8->crosslingual-coreference) (1.4.0)\n",
            "Requirement already satisfied: pluggy<0.8,>=0.5 in /usr/local/lib/python3.7/dist-packages (from pytest->allennlp<3.0,>=2.8->crosslingual-coreference) (0.7.1)\n",
            "Requirement already satisfied: threadpoolctl>=2.0.0 in /usr/local/lib/python3.7/dist-packages (from scikit-learn->allennlp<3.0,>=2.8->crosslingual-coreference) (3.1.0)\n",
            "Installing collected packages: transformers\n",
            "  Attempting uninstall: transformers\n",
            "    Found existing installation: transformers 4.18.0\n",
            "    Uninstalling transformers-4.18.0:\n",
            "      Successfully uninstalled transformers-4.18.0\n",
            "Successfully installed transformers-4.17.0\n",
            "Requirement already satisfied: google-cloud-storage in /usr/local/lib/python3.7/dist-packages (2.3.0)\n",
            "Requirement already satisfied: google-resumable-media>=2.3.2 in /usr/local/lib/python3.7/dist-packages (from google-cloud-storage) (2.3.2)\n",
            "Requirement already satisfied: google-auth<3.0dev,>=1.25.0 in /usr/local/lib/python3.7/dist-packages (from google-cloud-storage) (1.35.0)\n",
            "Requirement already satisfied: google-api-core!=2.0.*,!=2.1.*,!=2.2.*,!=2.3.0,<3.0.0dev,>=1.31.5 in /usr/local/lib/python3.7/dist-packages (from google-cloud-storage) (1.31.5)\n",
            "Requirement already satisfied: requests<3.0.0dev,>=2.18.0 in /usr/local/lib/python3.7/dist-packages (from google-cloud-storage) (2.23.0)\n",
            "Requirement already satisfied: protobuf in /usr/local/lib/python3.7/dist-packages (from google-cloud-storage) (3.17.3)\n",
            "Requirement already satisfied: google-cloud-core<3.0dev,>=2.3.0 in /usr/local/lib/python3.7/dist-packages (from google-cloud-storage) (2.3.0)\n",
            "Requirement already satisfied: six>=1.13.0 in /usr/local/lib/python3.7/dist-packages (from google-api-core!=2.0.*,!=2.1.*,!=2.2.*,!=2.3.0,<3.0.0dev,>=1.31.5->google-cloud-storage) (1.15.0)\n",
            "Requirement already satisfied: packaging>=14.3 in /usr/local/lib/python3.7/dist-packages (from google-api-core!=2.0.*,!=2.1.*,!=2.2.*,!=2.3.0,<3.0.0dev,>=1.31.5->google-cloud-storage) (21.3)\n",
            "Requirement already satisfied: googleapis-common-protos<2.0dev,>=1.6.0 in /usr/local/lib/python3.7/dist-packages (from google-api-core!=2.0.*,!=2.1.*,!=2.2.*,!=2.3.0,<3.0.0dev,>=1.31.5->google-cloud-storage) (1.56.0)\n",
            "Requirement already satisfied: pytz in /usr/local/lib/python3.7/dist-packages (from google-api-core!=2.0.*,!=2.1.*,!=2.2.*,!=2.3.0,<3.0.0dev,>=1.31.5->google-cloud-storage) (2022.1)\n",
            "Requirement already satisfied: setuptools>=40.3.0 in /usr/local/lib/python3.7/dist-packages (from google-api-core!=2.0.*,!=2.1.*,!=2.2.*,!=2.3.0,<3.0.0dev,>=1.31.5->google-cloud-storage) (57.4.0)\n",
            "Requirement already satisfied: rsa<5,>=3.1.4 in /usr/local/lib/python3.7/dist-packages (from google-auth<3.0dev,>=1.25.0->google-cloud-storage) (4.8)\n",
            "Requirement already satisfied: pyasn1-modules>=0.2.1 in /usr/local/lib/python3.7/dist-packages (from google-auth<3.0dev,>=1.25.0->google-cloud-storage) (0.2.8)\n",
            "Requirement already satisfied: cachetools<5.0,>=2.0.0 in /usr/local/lib/python3.7/dist-packages (from google-auth<3.0dev,>=1.25.0->google-cloud-storage) (4.2.4)\n",
            "Requirement already satisfied: google-crc32c<2.0dev,>=1.0 in /usr/local/lib/python3.7/dist-packages (from google-resumable-media>=2.3.2->google-cloud-storage) (1.3.0)\n",
            "Requirement already satisfied: pyparsing!=3.0.5,>=2.0.2 in /usr/local/lib/python3.7/dist-packages (from packaging>=14.3->google-api-core!=2.0.*,!=2.1.*,!=2.2.*,!=2.3.0,<3.0.0dev,>=1.31.5->google-cloud-storage) (3.0.8)\n",
            "Requirement already satisfied: pyasn1<0.5.0,>=0.4.6 in /usr/local/lib/python3.7/dist-packages (from pyasn1-modules>=0.2.1->google-auth<3.0dev,>=1.25.0->google-cloud-storage) (0.4.8)\n",
            "Requirement already satisfied: idna<3,>=2.5 in /usr/local/lib/python3.7/dist-packages (from requests<3.0.0dev,>=2.18.0->google-cloud-storage) (2.10)\n",
            "Requirement already satisfied: urllib3!=1.25.0,!=1.25.1,<1.26,>=1.21.1 in /usr/local/lib/python3.7/dist-packages (from requests<3.0.0dev,>=2.18.0->google-cloud-storage) (1.25.11)\n",
            "Requirement already satisfied: certifi>=2017.4.17 in /usr/local/lib/python3.7/dist-packages (from requests<3.0.0dev,>=2.18.0->google-cloud-storage) (2021.10.8)\n",
            "Requirement already satisfied: chardet<4,>=3.0.2 in /usr/local/lib/python3.7/dist-packages (from requests<3.0.0dev,>=2.18.0->google-cloud-storage) (3.0.4)\n",
            "Requirement already satisfied: transformers in /usr/local/lib/python3.7/dist-packages (4.17.0)\n",
            "Collecting transformers\n",
            "  Using cached transformers-4.18.0-py3-none-any.whl (4.0 MB)\n",
            "Requirement already satisfied: tokenizers!=0.11.3,<0.13,>=0.11.1 in /usr/local/lib/python3.7/dist-packages (from transformers) (0.12.1)\n",
            "Requirement already satisfied: pyyaml>=5.1 in /usr/local/lib/python3.7/dist-packages (from transformers) (6.0)\n",
            "Requirement already satisfied: huggingface-hub<1.0,>=0.1.0 in /usr/local/lib/python3.7/dist-packages (from transformers) (0.5.1)\n",
            "Requirement already satisfied: packaging>=20.0 in /usr/local/lib/python3.7/dist-packages (from transformers) (21.3)\n",
            "Requirement already satisfied: filelock in /usr/local/lib/python3.7/dist-packages (from transformers) (3.6.0)\n",
            "Requirement already satisfied: regex!=2019.12.17 in /usr/local/lib/python3.7/dist-packages (from transformers) (2022.4.24)\n",
            "Requirement already satisfied: sacremoses in /usr/local/lib/python3.7/dist-packages (from transformers) (0.0.49)\n",
            "Requirement already satisfied: importlib-metadata in /usr/local/lib/python3.7/dist-packages (from transformers) (4.11.3)\n",
            "Requirement already satisfied: tqdm>=4.27 in /usr/local/lib/python3.7/dist-packages (from transformers) (4.64.0)\n",
            "Requirement already satisfied: requests in /usr/local/lib/python3.7/dist-packages (from transformers) (2.23.0)\n",
            "Requirement already satisfied: numpy>=1.17 in /usr/local/lib/python3.7/dist-packages (from transformers) (1.21.6)\n",
            "Requirement already satisfied: typing-extensions>=3.7.4.3 in /usr/local/lib/python3.7/dist-packages (from huggingface-hub<1.0,>=0.1.0->transformers) (3.10.0.2)\n",
            "Requirement already satisfied: pyparsing!=3.0.5,>=2.0.2 in /usr/local/lib/python3.7/dist-packages (from packaging>=20.0->transformers) (3.0.8)\n",
            "Requirement already satisfied: zipp>=0.5 in /usr/local/lib/python3.7/dist-packages (from importlib-metadata->transformers) (3.8.0)\n",
            "Requirement already satisfied: idna<3,>=2.5 in /usr/local/lib/python3.7/dist-packages (from requests->transformers) (2.10)\n",
            "Requirement already satisfied: certifi>=2017.4.17 in /usr/local/lib/python3.7/dist-packages (from requests->transformers) (2021.10.8)\n",
            "Requirement already satisfied: urllib3!=1.25.0,!=1.25.1,<1.26,>=1.21.1 in /usr/local/lib/python3.7/dist-packages (from requests->transformers) (1.25.11)\n",
            "Requirement already satisfied: chardet<4,>=3.0.2 in /usr/local/lib/python3.7/dist-packages (from requests->transformers) (3.0.4)\n",
            "Requirement already satisfied: joblib in /usr/local/lib/python3.7/dist-packages (from sacremoses->transformers) (1.1.0)\n",
            "Requirement already satisfied: six in /usr/local/lib/python3.7/dist-packages (from sacremoses->transformers) (1.15.0)\n",
            "Requirement already satisfied: click in /usr/local/lib/python3.7/dist-packages (from sacremoses->transformers) (7.1.2)\n",
            "Installing collected packages: transformers\n",
            "  Attempting uninstall: transformers\n",
            "    Found existing installation: transformers 4.17.0\n",
            "    Uninstalling transformers-4.17.0:\n",
            "      Successfully uninstalled transformers-4.17.0\n",
            "\u001b[31mERROR: pip's dependency resolver does not currently take into account all the packages that are installed. This behaviour is the source of the following dependency conflicts.\n",
            "spacy-transformers 1.1.5 requires transformers<4.18.0,>=3.4.0, but you have transformers 4.18.0 which is incompatible.\u001b[0m\n",
            "Successfully installed transformers-4.18.0\n",
            "Collecting en-core-web-sm==3.2.0\n",
            "  Downloading https://github.com/explosion/spacy-models/releases/download/en_core_web_sm-3.2.0/en_core_web_sm-3.2.0-py3-none-any.whl (13.9 MB)\n",
            "\u001b[K     |████████████████████████████████| 13.9 MB 4.1 MB/s \n",
            "\u001b[?25hRequirement already satisfied: spacy<3.3.0,>=3.2.0 in /usr/local/lib/python3.7/dist-packages (from en-core-web-sm==3.2.0) (3.2.4)\n",
            "Requirement already satisfied: typing-extensions<4.0.0.0,>=3.7.4 in /usr/local/lib/python3.7/dist-packages (from spacy<3.3.0,>=3.2.0->en-core-web-sm==3.2.0) (3.10.0.2)\n",
            "Requirement already satisfied: thinc<8.1.0,>=8.0.12 in /usr/local/lib/python3.7/dist-packages (from spacy<3.3.0,>=3.2.0->en-core-web-sm==3.2.0) (8.0.15)\n",
            "Requirement already satisfied: typer<0.5.0,>=0.3.0 in /usr/local/lib/python3.7/dist-packages (from spacy<3.3.0,>=3.2.0->en-core-web-sm==3.2.0) (0.4.1)\n",
            "Requirement already satisfied: click<8.1.0 in /usr/local/lib/python3.7/dist-packages (from spacy<3.3.0,>=3.2.0->en-core-web-sm==3.2.0) (7.1.2)\n",
            "Requirement already satisfied: murmurhash<1.1.0,>=0.28.0 in /usr/local/lib/python3.7/dist-packages (from spacy<3.3.0,>=3.2.0->en-core-web-sm==3.2.0) (1.0.6)\n",
            "Requirement already satisfied: blis<0.8.0,>=0.4.0 in /usr/local/lib/python3.7/dist-packages (from spacy<3.3.0,>=3.2.0->en-core-web-sm==3.2.0) (0.4.1)\n",
            "Requirement already satisfied: cymem<2.1.0,>=2.0.2 in /usr/local/lib/python3.7/dist-packages (from spacy<3.3.0,>=3.2.0->en-core-web-sm==3.2.0) (2.0.6)\n",
            "Requirement already satisfied: preshed<3.1.0,>=3.0.2 in /usr/local/lib/python3.7/dist-packages (from spacy<3.3.0,>=3.2.0->en-core-web-sm==3.2.0) (3.0.6)\n",
            "Requirement already satisfied: pathy>=0.3.5 in /usr/local/lib/python3.7/dist-packages (from spacy<3.3.0,>=3.2.0->en-core-web-sm==3.2.0) (0.6.1)\n",
            "Requirement already satisfied: spacy-loggers<2.0.0,>=1.0.0 in /usr/local/lib/python3.7/dist-packages (from spacy<3.3.0,>=3.2.0->en-core-web-sm==3.2.0) (1.0.2)\n",
            "Requirement already satisfied: wasabi<1.1.0,>=0.8.1 in /usr/local/lib/python3.7/dist-packages (from spacy<3.3.0,>=3.2.0->en-core-web-sm==3.2.0) (0.9.1)\n",
            "Requirement already satisfied: catalogue<2.1.0,>=2.0.6 in /usr/local/lib/python3.7/dist-packages (from spacy<3.3.0,>=3.2.0->en-core-web-sm==3.2.0) (2.0.7)\n",
            "Requirement already satisfied: requests<3.0.0,>=2.13.0 in /usr/local/lib/python3.7/dist-packages (from spacy<3.3.0,>=3.2.0->en-core-web-sm==3.2.0) (2.23.0)\n",
            "Requirement already satisfied: numpy>=1.15.0 in /usr/local/lib/python3.7/dist-packages (from spacy<3.3.0,>=3.2.0->en-core-web-sm==3.2.0) (1.21.6)\n",
            "Requirement already satisfied: jinja2 in /usr/local/lib/python3.7/dist-packages (from spacy<3.3.0,>=3.2.0->en-core-web-sm==3.2.0) (2.11.3)\n",
            "Requirement already satisfied: spacy-legacy<3.1.0,>=3.0.8 in /usr/local/lib/python3.7/dist-packages (from spacy<3.3.0,>=3.2.0->en-core-web-sm==3.2.0) (3.0.9)\n",
            "Requirement already satisfied: tqdm<5.0.0,>=4.38.0 in /usr/local/lib/python3.7/dist-packages (from spacy<3.3.0,>=3.2.0->en-core-web-sm==3.2.0) (4.64.0)\n",
            "Requirement already satisfied: packaging>=20.0 in /usr/local/lib/python3.7/dist-packages (from spacy<3.3.0,>=3.2.0->en-core-web-sm==3.2.0) (21.3)\n",
            "Requirement already satisfied: setuptools in /usr/local/lib/python3.7/dist-packages (from spacy<3.3.0,>=3.2.0->en-core-web-sm==3.2.0) (57.4.0)\n",
            "Requirement already satisfied: srsly<3.0.0,>=2.4.1 in /usr/local/lib/python3.7/dist-packages (from spacy<3.3.0,>=3.2.0->en-core-web-sm==3.2.0) (2.4.3)\n",
            "Requirement already satisfied: langcodes<4.0.0,>=3.2.0 in /usr/local/lib/python3.7/dist-packages (from spacy<3.3.0,>=3.2.0->en-core-web-sm==3.2.0) (3.3.0)\n",
            "Requirement already satisfied: pydantic!=1.8,!=1.8.1,<1.9.0,>=1.7.4 in /usr/local/lib/python3.7/dist-packages (from spacy<3.3.0,>=3.2.0->en-core-web-sm==3.2.0) (1.8.2)\n",
            "Requirement already satisfied: zipp>=0.5 in /usr/local/lib/python3.7/dist-packages (from catalogue<2.1.0,>=2.0.6->spacy<3.3.0,>=3.2.0->en-core-web-sm==3.2.0) (3.8.0)\n",
            "Requirement already satisfied: pyparsing!=3.0.5,>=2.0.2 in /usr/local/lib/python3.7/dist-packages (from packaging>=20.0->spacy<3.3.0,>=3.2.0->en-core-web-sm==3.2.0) (3.0.8)\n",
            "Requirement already satisfied: smart-open<6.0.0,>=5.0.0 in /usr/local/lib/python3.7/dist-packages (from pathy>=0.3.5->spacy<3.3.0,>=3.2.0->en-core-web-sm==3.2.0) (5.2.1)\n",
            "Requirement already satisfied: chardet<4,>=3.0.2 in /usr/local/lib/python3.7/dist-packages (from requests<3.0.0,>=2.13.0->spacy<3.3.0,>=3.2.0->en-core-web-sm==3.2.0) (3.0.4)\n",
            "Requirement already satisfied: certifi>=2017.4.17 in /usr/local/lib/python3.7/dist-packages (from requests<3.0.0,>=2.13.0->spacy<3.3.0,>=3.2.0->en-core-web-sm==3.2.0) (2021.10.8)\n",
            "Requirement already satisfied: idna<3,>=2.5 in /usr/local/lib/python3.7/dist-packages (from requests<3.0.0,>=2.13.0->spacy<3.3.0,>=3.2.0->en-core-web-sm==3.2.0) (2.10)\n",
            "Requirement already satisfied: urllib3!=1.25.0,!=1.25.1,<1.26,>=1.21.1 in /usr/local/lib/python3.7/dist-packages (from requests<3.0.0,>=2.13.0->spacy<3.3.0,>=3.2.0->en-core-web-sm==3.2.0) (1.25.11)\n",
            "Requirement already satisfied: MarkupSafe>=0.23 in /usr/local/lib/python3.7/dist-packages (from jinja2->spacy<3.3.0,>=3.2.0->en-core-web-sm==3.2.0) (2.0.1)\n",
            "\u001b[38;5;2m✔ Download and installation successful\u001b[0m\n",
            "You can now load the package via spacy.load('en_core_web_sm')\n"
          ]
        }
      ],
      "source": [
        "!pip install crosslingual-coreference spacy-transformers wikipedia neo4j\n",
        "!pip install --upgrade google-cloud-storage\n",
        "!pip install --upgrade transformers\n",
        "!python -m spacy download en_core_web_sm\n"
      ]
    },
    {
      "cell_type": "markdown",
      "source": [
        "# Restart runtime"
      ],
      "metadata": {
        "id": "hJfrLdtEIR9s"
      }
    },
    {
      "cell_type": "code",
      "source": [
        "import spacy\n",
        "import crosslingual_coreference"
      ],
      "metadata": {
        "id": "BrcXpPzTSszu",
        "colab": {
          "base_uri": "https://localhost:8080/"
        },
        "outputId": "b180fc24-a70d-4f47-88ca-99a2f176f4d9"
      },
      "execution_count": 2,
      "outputs": [
        {
          "output_type": "stream",
          "name": "stderr",
          "text": [
            "[nltk_data] Downloading package omw-1.4 to /root/nltk_data...\n",
            "[nltk_data]   Package omw-1.4 is already up-to-date!\n"
          ]
        }
      ]
    },
    {
      "cell_type": "code",
      "source": [
        "# Add rebel component https://github.com/Babelscape/rebel/blob/main/spacy_component.py\n",
        "import requests\n",
        "import hashlib\n",
        "from spacy import Language\n",
        "from typing import List\n",
        "\n",
        "from spacy.tokens import Doc, Span\n",
        "\n",
        "from transformers import pipeline\n",
        "\n",
        "def call_wiki_api(item):\n",
        "  try:\n",
        "    url = f\"https://www.wikidata.org/w/api.php?action=wbsearchentities&search={item}&language=en&format=json\"\n",
        "    data = requests.get(url).json()\n",
        "    # Return the first id (Could upgrade this in the future)\n",
        "    return data['search'][0]['id']\n",
        "  except:\n",
        "    return 'id-less'\n",
        "\n",
        "def extract_triplets(text):\n",
        "    \"\"\"\n",
        "    Function to parse the generated text and extract the triplets\n",
        "    \"\"\"\n",
        "    triplets = []\n",
        "    relation, subject, relation, object_ = '', '', '', ''\n",
        "    text = text.strip()\n",
        "    current = 'x'\n",
        "    for token in text.replace(\"<s>\", \"\").replace(\"<pad>\", \"\").replace(\"</s>\", \"\").split():\n",
        "        if token == \"<triplet>\":\n",
        "            current = 't'\n",
        "            if relation != '':\n",
        "                triplets.append({'head': subject.strip(), 'type': relation.strip(),'tail': object_.strip()})\n",
        "                relation = ''\n",
        "            subject = ''\n",
        "        elif token == \"<subj>\":\n",
        "            current = 's'\n",
        "            if relation != '':\n",
        "                triplets.append({'head': subject.strip(), 'type': relation.strip(),'tail': object_.strip()})\n",
        "            object_ = ''\n",
        "        elif token == \"<obj>\":\n",
        "            current = 'o'\n",
        "            relation = ''\n",
        "        else:\n",
        "            if current == 't':\n",
        "                subject += ' ' + token\n",
        "            elif current == 's':\n",
        "                object_ += ' ' + token\n",
        "            elif current == 'o':\n",
        "                relation += ' ' + token\n",
        "    if subject != '' and relation != '' and object_ != '':\n",
        "        triplets.append({'head': subject.strip(), 'type': relation.strip(),'tail': object_.strip()})\n",
        "\n",
        "    return triplets\n",
        "\n",
        "\n",
        "@Language.factory(\n",
        "    \"rebel\",\n",
        "    requires=[\"doc.sents\"],\n",
        "    assigns=[\"doc._.rel\"],\n",
        "    default_config={\n",
        "        \"model_name\": \"Babelscape/rebel-large\",\n",
        "        \"device\": 0,\n",
        "    },\n",
        ")\n",
        "class RebelComponent:\n",
        "    def __init__(\n",
        "        self,\n",
        "        nlp,\n",
        "        name,\n",
        "        model_name: str,\n",
        "        device: int,\n",
        "    ):\n",
        "        assert model_name is not None, \"\"\n",
        "        self.triplet_extractor = pipeline(\"text2text-generation\", model=model_name, tokenizer=model_name, device=device)\n",
        "        self.entity_mapping = {}\n",
        "        # Register custom extension on the Doc\n",
        "        if not Doc.has_extension(\"rel\"):\n",
        "          Doc.set_extension(\"rel\", default={})\n",
        "\n",
        "    def get_wiki_id(self, item: str):\n",
        "        mapping = self.entity_mapping.get(item)\n",
        "        if mapping:\n",
        "          return mapping\n",
        "        else:\n",
        "          res = call_wiki_api(item)\n",
        "          self.entity_mapping[item] = res\n",
        "          return res\n",
        "\n",
        "    \n",
        "    def _generate_triplets(self, sent: Span) -> List[dict]:\n",
        "          output_ids = self.triplet_extractor(sent.text, return_tensors=True, return_text=False)[0][\"generated_token_ids\"][\"output_ids\"]\n",
        "          extracted_text = self.triplet_extractor.tokenizer.batch_decode(output_ids[0])\n",
        "          extracted_triplets = extract_triplets(extracted_text[0])\n",
        "          return extracted_triplets\n",
        "\n",
        "    def set_annotations(self, doc: Doc, triplets: List[dict]):\n",
        "        for triplet in triplets:\n",
        "\n",
        "            # Remove self-loops (relationships that start and end at the entity)\n",
        "            if triplet['head'] == triplet['tail']:\n",
        "                continue\n",
        "\n",
        "            index = hashlib.sha1(\"\".join([triplet['head'], triplet['tail'], triplet['type']]).encode('utf-8')).hexdigest()\n",
        "            if index not in doc._.rel:\n",
        "                # Get wiki ids and store results\n",
        "                doc._.rel[index] = {\"relation\": triplet[\"type\"], \"head_span\": {'text': triplet['head'], 'id': self.get_wiki_id(triplet['head'])}, \"tail_span\": {'text': triplet['tail'], 'id': self.get_wiki_id(triplet['tail'])}}\n",
        "\n",
        "    def __call__(self, doc: Doc) -> Doc:\n",
        "        for sent in doc.sents:\n",
        "            sentence_triplets = self._generate_triplets(sent)\n",
        "            self.set_annotations(doc, sentence_triplets)\n",
        "        return doc"
      ],
      "metadata": {
        "id": "cGsgtd8lxhVo"
      },
      "execution_count": 3,
      "outputs": []
    },
    {
      "cell_type": "code",
      "source": [
        "DEVICE = 0 # Number of the GPU, -1 if want to use CPU\n",
        "\n",
        "# Add coreference resolution model\n",
        "coref = spacy.load('en_core_web_sm', disable=['ner', 'tagger', 'parser', 'attribute_ruler', 'lemmatizer'])\n",
        "coref.add_pipe(\n",
        "    \"xx_coref\", config={\"chunk_size\": 2500, \"chunk_overlap\": 2, \"device\": DEVICE})\n",
        "\n",
        "# Define rel extraction model\n",
        "\n",
        "rel_ext = spacy.load('en_core_web_sm', disable=['ner', 'lemmatizer', 'attribute_rules', 'tagger'])\n",
        "rel_ext.add_pipe(\"rebel\", config={\n",
        "    'device':DEVICE, # Number of the GPU, -1 if want to use CPU\n",
        "    'model_name':'Babelscape/rebel-large'} # Model used, will default to 'Babelscape/rebel-large' if not given\n",
        "    )\n",
        "\n"
      ],
      "metadata": {
        "colab": {
          "base_uri": "https://localhost:8080/"
        },
        "id": "SSTDfj3nSSca",
        "outputId": "585a47ae-5158-4a12-8484-36509d8a1bdb"
      },
      "execution_count": 4,
      "outputs": [
        {
          "output_type": "stream",
          "name": "stderr",
          "text": [
            "Some weights of the model checkpoint at microsoft/infoxlm-base were not used when initializing XLMRobertaModel: ['lm_head.dense.weight', 'lm_head.dense.bias', 'lm_head.bias', 'lm_head.layer_norm.bias', 'lm_head.decoder.weight', 'lm_head.layer_norm.weight']\n",
            "- This IS expected if you are initializing XLMRobertaModel from the checkpoint of a model trained on another task or with another architecture (e.g. initializing a BertForSequenceClassification model from a BertForPreTraining model).\n",
            "- This IS NOT expected if you are initializing XLMRobertaModel from the checkpoint of a model that you expect to be exactly identical (initializing a BertForSequenceClassification model from a BertForSequenceClassification model).\n"
          ]
        },
        {
          "output_type": "execute_result",
          "data": {
            "text/plain": [
              "<__main__.RebelComponent at 0x7f12349c2810>"
            ]
          },
          "metadata": {},
          "execution_count": 4
        }
      ]
    },
    {
      "cell_type": "code",
      "source": [
        "input_text = \"Christian Drosten works in Germany. He likes to work for Google.\"\n",
        "\n",
        "coref_text = coref(input_text)._.resolved_text\n",
        "\n",
        "doc = rel_ext(coref_text)\n",
        "\n",
        "for span in doc.ents:\n",
        "    print((span.text, span.kb_id_, span.label_, span._.description, span._.score))\n",
        "\n",
        "for value, rel_dict in doc._.rel.items():\n",
        "    print(f\"{value}: {rel_dict}\")"
      ],
      "metadata": {
        "colab": {
          "base_uri": "https://localhost:8080/"
        },
        "id": "-uEgInLc-X3n",
        "outputId": "b2463920-a5e5-4ee5-c721-292970f1d45e"
      },
      "execution_count": 5,
      "outputs": [
        {
          "output_type": "stream",
          "name": "stdout",
          "text": [
            "385d9ac30c35635c7e36a1636ded4a091f830cf3: {'relation': 'country of citizenship', 'head_span': {'text': 'Christian Drosten', 'id': 'Q1079331'}, 'tail_span': {'text': 'Germany', 'id': 'Q183'}}\n",
            "471a35571b66cc8e1e3415e27f7086505310efc6: {'relation': 'employer', 'head_span': {'text': 'Christian Drosten', 'id': 'Q1079331'}, 'tail_span': {'text': 'Google', 'id': 'Q95'}}\n"
          ]
        }
      ]
    },
    {
      "cell_type": "code",
      "source": [
        "import wikipedia"
      ],
      "metadata": {
        "id": "JOfZ0999ykNQ"
      },
      "execution_count": 6,
      "outputs": []
    },
    {
      "cell_type": "code",
      "source": [
        "input_text = wikipedia.page(\"Jennifer Doudna\").summary\n",
        "print(input_text)\n",
        "\n",
        "coref_text = coref(input_text)._.resolved_text\n",
        "print(coref_text)\n",
        "\n",
        "doc = rel_ext(coref_text)\n",
        "\n",
        "for value, rel_dict in doc._.rel.items():\n",
        "    print(f\"{value}: {rel_dict}\")"
      ],
      "metadata": {
        "colab": {
          "base_uri": "https://localhost:8080/"
        },
        "id": "nVD9mMgfXJ7Z",
        "outputId": "feb34593-65f5-48ba-ba73-881ab6ce463d"
      },
      "execution_count": 7,
      "outputs": [
        {
          "output_type": "stream",
          "name": "stdout",
          "text": [
            "Jennifer Anne Doudna  (; born February 19, 1964) is an American biochemist who has done pioneering work in CRISPR gene editing, and made other fundamental contributions in biochemistry and genetics. She received the 2020 Nobel Prize in Chemistry, with Emmanuelle Charpentier, \"for the development of a method for genome editing.\" She is the Li Ka Shing Chancellor's Chair Professor in the Department of Chemistry and the Department of Molecular and Cell Biology at the University of California, Berkeley. She has been an investigator with the Howard Hughes Medical Institute since 1997.\n",
            "Doudna grew up in Hilo, Hawaii. She graduated from Pomona College in 1985 and earned a Ph.D. from Harvard Medical School in 1989. Apart from her professorship at Berkeley, she is also president and chair of the board of the Innovative Genomics Institute, a faculty scientist at Lawrence Berkeley National Laboratory, a senior investigator at the Gladstone Institutes, and an adjunct professor of cellular and molecular pharmacology at the University of California, San Francisco (UCSF). In 2012, Doudna and Emmanuelle Charpentier were the first to propose that CRISPR-Cas9 (enzymes from bacteria that control microbial immunity) could be used for programmable editing of genomes, which has been called one of the most significant discoveries in the history of biology. Since then, Doudna has been a leading figure in what is referred to as the \"CRISPR revolution\" for her fundamental work and leadership in developing CRISPR-mediated genome editing. \n",
            "Her many other prestigious awards and fellowships include the 2000 Alan T. Waterman Award for her research on the structure as determined by X-ray crystallography of a ribozyme, and the 2015 Breakthrough Prize in Life Sciences for CRISPR-Cas9 genome editing technology, with Charpentier. She has been a co-recipient of the Gruber Prize in Genetics (2015), the Tang Prize (2016), the Canada Gairdner International Award (2016), and the Japan Prize (2017).Outside the scientific community, she has been named one of the Time 100 most influential people in 2015 (with Charpentier), and she was listed as a runner-up for Time Person of the Year in 2016 alongside other CRISPR researchers. In 2017, she was the lead author of A Crack in Creation: Gene Editing and the Unthinkable Power to Control Evolution, a rare case of the first-person account of a major scientific breakthrough, aimed at the general public, published shortly after the discovery.\n",
            "\n",
            "\n"
          ]
        },
        {
          "output_type": "stream",
          "name": "stderr",
          "text": [
            "/usr/local/lib/python3.7/dist-packages/allennlp/modules/token_embedders/pretrained_transformer_embedder.py:385: UserWarning: __floordiv__ is deprecated, and its behavior will change in a future version of pytorch. It currently rounds toward 0 (like the 'trunc' function NOT 'floor'). This results in incorrect rounding for negative values. To keep the current behavior, use torch.div(a, b, rounding_mode='trunc'), or for actual floor division, use torch.div(a, b, rounding_mode='floor').\n",
            "  num_effective_segments = (seq_lengths + self._max_length - 1) // self._max_length\n"
          ]
        },
        {
          "output_type": "stream",
          "name": "stdout",
          "text": [
            "Jennifer Anne Doudna  (; born February 19, 1964) is an American biochemist who has done pioneering work in CRISPR gene editing, and made other fundamental contributions in biochemistry and genetics. Jennifer Anne Doudna  (; born February 19, 1964) received the 2020 Nobel Prize in Chemistry, with Emmanuelle Charpentier, \"for the development of a method for genome editing.\" Jennifer Anne Doudna  (; born February 19, 1964) is the Li Ka Shing Chancellor's Chair Professor in the Department of Chemistry and the Department of Molecular and Cell Biology at the University of California, Berkeley. Jennifer Anne Doudna  (; born February 19, 1964) has been an investigator with the Howard Hughes Medical Institute since 1997. Jennifer Anne Doudna  (; born February 19, 1964) grew up in Hilo, Hawaii. Jennifer Anne Doudna  (; born February 19, 1964) graduated from Pomona College in 1985 and earned a Ph.D. from Harvard Medical School in 1989. Apart from Jennifer Anne Doudna  (; born February 19, 1964)'s professorship at the University of California, Berkeley, Jennifer Anne Doudna  (; born February 19, 1964) is also president and chair of the board of the Innovative Genomics Institute, a faculty scientist at Lawrence Berkeley National Laboratory, a senior investigator at the Gladstone Institutes, and an adjunct professor of cellular and molecular pharmacology at the University of California, San Francisco (UCSF). In 2012, Jennifer Anne Doudna  (; born February 19, 1964) and Emmanuelle Charpentier were the first to propose that CRISPR-Cas9 (enzymes from bacteria that control microbial immunity) could be used for programmable editing of genomes, which has been called one of the most significant discoveries in the history of biology. Since then, Jennifer Anne Doudna  (; born February 19, 1964) has been a leading figure in what is referred to as the \"CRISPR revolution\" for Jennifer Anne Doudna  (; born February 19, 1964)'s fundamental work and leadership in developing CRISPR-mediated genome editing.  Jennifer Anne Doudna  (; born February 19, 1964)'s many other prestigious awards and fellowships include the 2000 Alan T. Waterman Award for Jennifer Anne Doudna  (; born February 19, 1964)'s research on the structure as determined by X-ray crystallography of a ribozyme, and the 2015 Breakthrough Prize in Life Sciences for CRISPR-Cas9 genome editing technology, with Emmanuelle Charpentier. Jennifer Anne Doudna  (; born February 19, 1964) has been a co-recipient of the Gruber Prize in Genetics (2015), the Tang Prize (2016), the Canada Gairdner International Award (2016), and the Japan Prize (2017).Outside the scientific community, Jennifer Anne Doudna  (; born February 19, 1964) has been named one of the Time 100 most influential people in 2015 (with Emmanuelle Charpentier), and Jennifer Anne Doudna  (; born February 19, 1964) was listed as a runner-up for Time Person of the Year in 2016 alongside other CRISPR researchers. In 2017, Jennifer Anne Doudna  (; born February 19, 1964) was the lead author of A Crack in Creation: Gene Editing and the Unthinkable Power to Control Evolution, a rare case of the first-person account of a major scientific breakthrough, aimed at the general public, published shortly after the discovery.  \n"
          ]
        },
        {
          "output_type": "stream",
          "name": "stderr",
          "text": [
            "/usr/local/lib/python3.7/dist-packages/transformers/pipelines/base.py:998: UserWarning: You seem to be using the pipelines sequentially on GPU. In order to maximize efficiency please use a dataset\n",
            "  UserWarning,\n"
          ]
        },
        {
          "output_type": "stream",
          "name": "stdout",
          "text": [
            "c7c5a96bc09bb4d44584a6ec1841b69195004e4f: {'relation': 'date of birth', 'head_span': {'text': 'Jennifer Anne Doudna', 'id': 'Q56068'}, 'tail_span': {'text': 'February 19, 1964', 'id': 'Q30059202'}}\n",
            "b799982b8e09cae669cbc9b9f813a0f28cef6b8b: {'relation': 'award received', 'head_span': {'text': 'Jennifer Anne Doudna', 'id': 'Q56068'}, 'tail_span': {'text': 'Nobel Prize in Chemistry', 'id': 'Q44585'}}\n",
            "04675a31d8e35003fc1a083ee1981657c65e3a4b: {'relation': 'award received', 'head_span': {'text': 'Emmanuelle Charpentier', 'id': 'Q17280087'}, 'tail_span': {'text': 'Nobel Prize in Chemistry', 'id': 'Q44585'}}\n",
            "96d414e3eb8ab5e273d6e74735e7940a3145d60e: {'relation': 'employer', 'head_span': {'text': 'Jennifer Anne Doudna', 'id': 'Q56068'}, 'tail_span': {'text': 'University of California, Berkeley', 'id': 'Q168756'}}\n",
            "49c9848979483df1036e5e1cf49908ea5d162f4b: {'relation': 'inception', 'head_span': {'text': 'Howard Hughes Medical Institute', 'id': 'Q1512226'}, 'tail_span': {'text': '1997', 'id': 'Q2088'}}\n",
            "26f0a26f5b2631ef2db8c07cc09eac3dc5256b2f: {'relation': 'educated at', 'head_span': {'text': 'Jennifer Anne Doudna', 'id': 'Q56068'}, 'tail_span': {'text': 'Pomona College', 'id': 'Q7227384'}}\n",
            "193fffd34d4206e7a1f4939cb81aa8c198543753: {'relation': 'educated at', 'head_span': {'text': 'Jennifer Anne Doudna', 'id': 'Q56068'}, 'tail_span': {'text': 'Harvard Medical School', 'id': 'Q49121'}}\n",
            "aeffe148edd235c1123c183ca097f7a1f28ef346: {'relation': 'parent organization', 'head_span': {'text': 'Innovative Genomics Institute', 'id': 'Q107517870'}, 'tail_span': {'text': 'Lawrence Berkeley National Laboratory', 'id': 'Q1133630'}}\n",
            "f2034bc27327496e37b1caedeac5cadec6a034b1: {'relation': 'subsidiary', 'head_span': {'text': 'Lawrence Berkeley National Laboratory', 'id': 'Q1133630'}, 'tail_span': {'text': 'Innovative Genomics Institute', 'id': 'Q107517870'}}\n",
            "8b6e1c9c1b32b5db3c82f4bef3c71fa8d683ed86: {'relation': 'award received', 'head_span': {'text': 'Jennifer Anne Doudna', 'id': 'Q56068'}, 'tail_span': {'text': 'Breakthrough Prize in Life Sciences', 'id': 'Q5019489'}}\n",
            "1ea3263d3589631c2bdca75356f6a531c6f53333: {'relation': 'award received', 'head_span': {'text': 'Emmanuelle Charpentier', 'id': 'Q17280087'}, 'tail_span': {'text': 'Breakthrough Prize in Life Sciences', 'id': 'Q5019489'}}\n",
            "88ea798eb6e40df1def5709f5bdb52e5bf12eda9: {'relation': 'award received', 'head_span': {'text': 'Jennifer Anne Doudna', 'id': 'Q56068'}, 'tail_span': {'text': 'Gruber Prize in Genetics', 'id': 'Q477467'}}\n",
            "c60f3f865f4195e804c91c6107f5ee50d3ce7261: {'relation': 'award received', 'head_span': {'text': 'Jennifer Anne Doudna', 'id': 'Q56068'}, 'tail_span': {'text': 'Tang Prize', 'id': 'Q10922924'}}\n",
            "1940a36fee02ed49b0a9635f51f1c85f9a52c9c0: {'relation': 'award received', 'head_span': {'text': 'Jennifer Anne Doudna', 'id': 'Q56068'}, 'tail_span': {'text': 'Canada Gairdner International Award', 'id': 'Q1031994'}}\n",
            "be2a3a74587e3ae28b807f78de84002cf847fd2d: {'relation': 'award received', 'head_span': {'text': 'Jennifer Anne Doudna', 'id': 'Q56068'}, 'tail_span': {'text': 'Japan Prize', 'id': 'Q908745'}}\n",
            "607d089e9e7cd0160ace6ec019ded21c0e0e3fee: {'relation': 'followed by', 'head_span': {'text': 'World War I', 'id': 'Q361'}, 'tail_span': {'text': 'World War II', 'id': 'Q362'}}\n",
            "bfc228915c5252a0383eac918a5ffc34981b0dc3: {'relation': 'follows', 'head_span': {'text': 'World War II', 'id': 'Q362'}, 'tail_span': {'text': 'World War I', 'id': 'Q361'}}\n"
          ]
        }
      ]
    },
    {
      "cell_type": "code",
      "source": [
        "# Define Neo4j connections\n",
        "from neo4j import GraphDatabase\n",
        "host = 'bolt://35.172.134.253:7687'\n",
        "user = 'neo4j'\n",
        "password = 'depositions-badge-counsel'\n",
        "driver = GraphDatabase.driver(host,auth=(user, password))"
      ],
      "metadata": {
        "id": "v5znqODt_6Cb"
      },
      "execution_count": 8,
      "outputs": []
    },
    {
      "cell_type": "code",
      "source": [
        "import pandas as pd\n",
        "\n",
        "def run_query(query, params={}):\n",
        "    with driver.session() as session:\n",
        "        result = session.run(query, params)\n",
        "        return pd.DataFrame([r.values() for r in result], columns=result.keys())"
      ],
      "metadata": {
        "id": "_yx9q1VSS6FB"
      },
      "execution_count": 9,
      "outputs": []
    },
    {
      "cell_type": "code",
      "source": [
        "params = [rel_dict for value, rel_dict in doc._.rel.items()]\n",
        "\n",
        "import_query = \"\"\"\n",
        "UNWIND $data AS row\n",
        "MERGE (h:Entity {id: CASE WHEN NOT row.head_span.id = 'id-less' THEN row.head_span.id ELSE row.head_span.text END})\n",
        "ON CREATE SET h.text = row.head_span.text\n",
        "MERGE (t:Entity {id: CASE WHEN NOT row.tail_span.id = 'id-less' THEN row.tail_span.id ELSE row.tail_span.text END})\n",
        "ON CREATE SET t.text = row.tail_span.text\n",
        "WITH row, h, t\n",
        "CALL apoc.merge.relationship(h, toUpper(replace(row.relation,' ', '_')),\n",
        "  {},\n",
        "  {},\n",
        "  t,\n",
        "  {}\n",
        ")\n",
        "YIELD rel\n",
        "RETURN distinct 'done' AS result;\n",
        "\"\"\"\n",
        "\n",
        "run_query(import_query, {'data': params})"
      ],
      "metadata": {
        "colab": {
          "base_uri": "https://localhost:8080/",
          "height": 81
        },
        "id": "v7Brgr8WS9xg",
        "outputId": "e9948937-3c30-49aa-ba87-0695707546d9"
      },
      "execution_count": 18,
      "outputs": [
        {
          "output_type": "execute_result",
          "data": {
            "text/plain": [
              "  result\n",
              "0   done"
            ],
            "text/html": [
              "\n",
              "  <div id=\"df-1a11a78d-2e7a-47ac-8216-8c5fdcc3ad98\">\n",
              "    <div class=\"colab-df-container\">\n",
              "      <div>\n",
              "<style scoped>\n",
              "    .dataframe tbody tr th:only-of-type {\n",
              "        vertical-align: middle;\n",
              "    }\n",
              "\n",
              "    .dataframe tbody tr th {\n",
              "        vertical-align: top;\n",
              "    }\n",
              "\n",
              "    .dataframe thead th {\n",
              "        text-align: right;\n",
              "    }\n",
              "</style>\n",
              "<table border=\"1\" class=\"dataframe\">\n",
              "  <thead>\n",
              "    <tr style=\"text-align: right;\">\n",
              "      <th></th>\n",
              "      <th>result</th>\n",
              "    </tr>\n",
              "  </thead>\n",
              "  <tbody>\n",
              "    <tr>\n",
              "      <th>0</th>\n",
              "      <td>done</td>\n",
              "    </tr>\n",
              "  </tbody>\n",
              "</table>\n",
              "</div>\n",
              "      <button class=\"colab-df-convert\" onclick=\"convertToInteractive('df-1a11a78d-2e7a-47ac-8216-8c5fdcc3ad98')\"\n",
              "              title=\"Convert this dataframe to an interactive table.\"\n",
              "              style=\"display:none;\">\n",
              "        \n",
              "  <svg xmlns=\"http://www.w3.org/2000/svg\" height=\"24px\"viewBox=\"0 0 24 24\"\n",
              "       width=\"24px\">\n",
              "    <path d=\"M0 0h24v24H0V0z\" fill=\"none\"/>\n",
              "    <path d=\"M18.56 5.44l.94 2.06.94-2.06 2.06-.94-2.06-.94-.94-2.06-.94 2.06-2.06.94zm-11 1L8.5 8.5l.94-2.06 2.06-.94-2.06-.94L8.5 2.5l-.94 2.06-2.06.94zm10 10l.94 2.06.94-2.06 2.06-.94-2.06-.94-.94-2.06-.94 2.06-2.06.94z\"/><path d=\"M17.41 7.96l-1.37-1.37c-.4-.4-.92-.59-1.43-.59-.52 0-1.04.2-1.43.59L10.3 9.45l-7.72 7.72c-.78.78-.78 2.05 0 2.83L4 21.41c.39.39.9.59 1.41.59.51 0 1.02-.2 1.41-.59l7.78-7.78 2.81-2.81c.8-.78.8-2.07 0-2.86zM5.41 20L4 18.59l7.72-7.72 1.47 1.35L5.41 20z\"/>\n",
              "  </svg>\n",
              "      </button>\n",
              "      \n",
              "  <style>\n",
              "    .colab-df-container {\n",
              "      display:flex;\n",
              "      flex-wrap:wrap;\n",
              "      gap: 12px;\n",
              "    }\n",
              "\n",
              "    .colab-df-convert {\n",
              "      background-color: #E8F0FE;\n",
              "      border: none;\n",
              "      border-radius: 50%;\n",
              "      cursor: pointer;\n",
              "      display: none;\n",
              "      fill: #1967D2;\n",
              "      height: 32px;\n",
              "      padding: 0 0 0 0;\n",
              "      width: 32px;\n",
              "    }\n",
              "\n",
              "    .colab-df-convert:hover {\n",
              "      background-color: #E2EBFA;\n",
              "      box-shadow: 0px 1px 2px rgba(60, 64, 67, 0.3), 0px 1px 3px 1px rgba(60, 64, 67, 0.15);\n",
              "      fill: #174EA6;\n",
              "    }\n",
              "\n",
              "    [theme=dark] .colab-df-convert {\n",
              "      background-color: #3B4455;\n",
              "      fill: #D2E3FC;\n",
              "    }\n",
              "\n",
              "    [theme=dark] .colab-df-convert:hover {\n",
              "      background-color: #434B5C;\n",
              "      box-shadow: 0px 1px 3px 1px rgba(0, 0, 0, 0.15);\n",
              "      filter: drop-shadow(0px 1px 2px rgba(0, 0, 0, 0.3));\n",
              "      fill: #FFFFFF;\n",
              "    }\n",
              "  </style>\n",
              "\n",
              "      <script>\n",
              "        const buttonEl =\n",
              "          document.querySelector('#df-1a11a78d-2e7a-47ac-8216-8c5fdcc3ad98 button.colab-df-convert');\n",
              "        buttonEl.style.display =\n",
              "          google.colab.kernel.accessAllowed ? 'block' : 'none';\n",
              "\n",
              "        async function convertToInteractive(key) {\n",
              "          const element = document.querySelector('#df-1a11a78d-2e7a-47ac-8216-8c5fdcc3ad98');\n",
              "          const dataTable =\n",
              "            await google.colab.kernel.invokeFunction('convertToInteractive',\n",
              "                                                     [key], {});\n",
              "          if (!dataTable) return;\n",
              "\n",
              "          const docLinkHtml = 'Like what you see? Visit the ' +\n",
              "            '<a target=\"_blank\" href=https://colab.research.google.com/notebooks/data_table.ipynb>data table notebook</a>'\n",
              "            + ' to learn more about interactive tables.';\n",
              "          element.innerHTML = '';\n",
              "          dataTable['output_type'] = 'display_data';\n",
              "          await google.colab.output.renderOutput(dataTable, element);\n",
              "          const docLink = document.createElement('div');\n",
              "          docLink.innerHTML = docLinkHtml;\n",
              "          element.appendChild(docLink);\n",
              "        }\n",
              "      </script>\n",
              "    </div>\n",
              "  </div>\n",
              "  "
            ]
          },
          "metadata": {},
          "execution_count": 18
        }
      ]
    },
    {
      "cell_type": "code",
      "source": [
        "params"
      ],
      "metadata": {
        "colab": {
          "base_uri": "https://localhost:8080/"
        },
        "id": "eCFr3nRdUaKW",
        "outputId": "f53d9765-0d5d-48c1-a6c7-01dbace12a7f"
      },
      "execution_count": 14,
      "outputs": [
        {
          "output_type": "execute_result",
          "data": {
            "text/plain": [
              "[{'head_span': {'id': 'Q56068', 'text': 'Jennifer Anne Doudna'},\n",
              "  'relation': 'date of birth',\n",
              "  'tail_span': {'id': 'Q30059202', 'text': 'February 19, 1964'}},\n",
              " {'head_span': {'id': 'Q56068', 'text': 'Jennifer Anne Doudna'},\n",
              "  'relation': 'award received',\n",
              "  'tail_span': {'id': 'Q44585', 'text': 'Nobel Prize in Chemistry'}},\n",
              " {'head_span': {'id': 'Q17280087', 'text': 'Emmanuelle Charpentier'},\n",
              "  'relation': 'award received',\n",
              "  'tail_span': {'id': 'Q44585', 'text': 'Nobel Prize in Chemistry'}},\n",
              " {'head_span': {'id': 'Q56068', 'text': 'Jennifer Anne Doudna'},\n",
              "  'relation': 'employer',\n",
              "  'tail_span': {'id': 'Q168756',\n",
              "   'text': 'University of California, Berkeley'}},\n",
              " {'head_span': {'id': 'Q1512226', 'text': 'Howard Hughes Medical Institute'},\n",
              "  'relation': 'inception',\n",
              "  'tail_span': {'id': 'Q2088', 'text': '1997'}},\n",
              " {'head_span': {'id': 'Q56068', 'text': 'Jennifer Anne Doudna'},\n",
              "  'relation': 'educated at',\n",
              "  'tail_span': {'id': 'Q7227384', 'text': 'Pomona College'}},\n",
              " {'head_span': {'id': 'Q56068', 'text': 'Jennifer Anne Doudna'},\n",
              "  'relation': 'educated at',\n",
              "  'tail_span': {'id': 'Q49121', 'text': 'Harvard Medical School'}},\n",
              " {'head_span': {'id': 'Q107517870', 'text': 'Innovative Genomics Institute'},\n",
              "  'relation': 'parent organization',\n",
              "  'tail_span': {'id': 'Q1133630',\n",
              "   'text': 'Lawrence Berkeley National Laboratory'}},\n",
              " {'head_span': {'id': 'Q1133630',\n",
              "   'text': 'Lawrence Berkeley National Laboratory'},\n",
              "  'relation': 'subsidiary',\n",
              "  'tail_span': {'id': 'Q107517870', 'text': 'Innovative Genomics Institute'}},\n",
              " {'head_span': {'id': 'Q56068', 'text': 'Jennifer Anne Doudna'},\n",
              "  'relation': 'award received',\n",
              "  'tail_span': {'id': 'Q5019489',\n",
              "   'text': 'Breakthrough Prize in Life Sciences'}},\n",
              " {'head_span': {'id': 'Q17280087', 'text': 'Emmanuelle Charpentier'},\n",
              "  'relation': 'award received',\n",
              "  'tail_span': {'id': 'Q5019489',\n",
              "   'text': 'Breakthrough Prize in Life Sciences'}},\n",
              " {'head_span': {'id': 'Q56068', 'text': 'Jennifer Anne Doudna'},\n",
              "  'relation': 'award received',\n",
              "  'tail_span': {'id': 'Q477467', 'text': 'Gruber Prize in Genetics'}},\n",
              " {'head_span': {'id': 'Q56068', 'text': 'Jennifer Anne Doudna'},\n",
              "  'relation': 'award received',\n",
              "  'tail_span': {'id': 'Q10922924', 'text': 'Tang Prize'}},\n",
              " {'head_span': {'id': 'Q56068', 'text': 'Jennifer Anne Doudna'},\n",
              "  'relation': 'award received',\n",
              "  'tail_span': {'id': 'Q1031994',\n",
              "   'text': 'Canada Gairdner International Award'}},\n",
              " {'head_span': {'id': 'Q56068', 'text': 'Jennifer Anne Doudna'},\n",
              "  'relation': 'award received',\n",
              "  'tail_span': {'id': 'Q908745', 'text': 'Japan Prize'}},\n",
              " {'head_span': {'id': 'Q361', 'text': 'World War I'},\n",
              "  'relation': 'followed by',\n",
              "  'tail_span': {'id': 'Q362', 'text': 'World War II'}},\n",
              " {'head_span': {'id': 'Q362', 'text': 'World War II'},\n",
              "  'relation': 'follows',\n",
              "  'tail_span': {'id': 'Q361', 'text': 'World War I'}}]"
            ]
          },
          "metadata": {},
          "execution_count": 14
        }
      ]
    },
    {
      "cell_type": "code",
      "source": [
        ""
      ],
      "metadata": {
        "id": "ePwkCUAZWU_4"
      },
      "execution_count": null,
      "outputs": []
    }
  ]
}