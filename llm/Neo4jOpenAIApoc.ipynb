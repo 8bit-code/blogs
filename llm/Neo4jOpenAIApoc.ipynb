{
  "nbformat": 4,
  "nbformat_minor": 0,
  "metadata": {
    "colab": {
      "provenance": [],
      "authorship_tag": "ABX9TyPAiYIwsdZivRzXtsFxjRQ1",
      "include_colab_link": true
    },
    "kernelspec": {
      "name": "python3",
      "display_name": "Python 3"
    },
    "language_info": {
      "name": "python"
    }
  },
  "cells": [
    {
      "cell_type": "markdown",
      "metadata": {
        "id": "view-in-github",
        "colab_type": "text"
      },
      "source": [
        "<a href=\"https://colab.research.google.com/github/tomasonjo/blogs/blob/master/llm/Neo4jOpenAIApoc.ipynb\" target=\"_parent\"><img src=\"https://colab.research.google.com/assets/colab-badge.svg\" alt=\"Open In Colab\"/></a>"
      ]
    },
    {
      "cell_type": "code",
      "execution_count": 1,
      "metadata": {
        "colab": {
          "base_uri": "https://localhost:8080/"
        },
        "id": "EehUBcly6lRg",
        "outputId": "3fd2c488-3fb5-4c39-b8b0-1bea9228a90a"
      },
      "outputs": [
        {
          "output_type": "stream",
          "name": "stdout",
          "text": [
            "Looking in indexes: https://pypi.org/simple, https://us-python.pkg.dev/colab-wheels/public/simple/\n",
            "Collecting neo4j\n",
            "  Downloading neo4j-5.9.0.tar.gz (188 kB)\n",
            "\u001b[2K     \u001b[90m━━━━━━━━━━━━━━━━━━━━━━━━━━━━━━━━━━━━━━\u001b[0m \u001b[32m188.5/188.5 kB\u001b[0m \u001b[31m10.7 MB/s\u001b[0m eta \u001b[36m0:00:00\u001b[0m\n",
            "\u001b[?25h  Installing build dependencies ... \u001b[?25l\u001b[?25hdone\n",
            "  Getting requirements to build wheel ... \u001b[?25l\u001b[?25hdone\n",
            "  Installing backend dependencies ... \u001b[?25l\u001b[?25hdone\n",
            "  Preparing metadata (pyproject.toml) ... \u001b[?25l\u001b[?25hdone\n",
            "Requirement already satisfied: pytz in /usr/local/lib/python3.10/dist-packages (from neo4j) (2022.7.1)\n",
            "Building wheels for collected packages: neo4j\n",
            "  Building wheel for neo4j (pyproject.toml) ... \u001b[?25l\u001b[?25hdone\n",
            "  Created wheel for neo4j: filename=neo4j-5.9.0-py3-none-any.whl size=259467 sha256=57e9cad008323c6a8975757f51e5db0a43a093542857eb0293800bb3a7e52a3f\n",
            "  Stored in directory: /root/.cache/pip/wheels/aa/d6/e2/3534952aaddb39337f01f3fd66b3f3f2dd65051306a614af92\n",
            "Successfully built neo4j\n",
            "Installing collected packages: neo4j\n",
            "Successfully installed neo4j-5.9.0\n"
          ]
        }
      ],
      "source": [
        "!pip install neo4j"
      ]
    },
    {
      "cell_type": "code",
      "source": [
        "\n",
        "# Define Neo4j connections\n",
        "from neo4j import GraphDatabase\n",
        "host = 'bolt://44.215.124.63:7687'\n",
        "user = 'neo4j'\n",
        "password = 'steel-orders-reproduction'\n",
        "driver = GraphDatabase.driver(host,auth=(user, password))\n",
        "\n",
        "def run_query(query, params={}):\n",
        "    with driver.session() as session:\n",
        "        result = session.run(query, params)\n",
        "        return result.to_df()"
      ],
      "metadata": {
        "id": "QM4VE2Q_6n0D"
      },
      "execution_count": 2,
      "outputs": []
    },
    {
      "cell_type": "code",
      "source": [
        "run_query(\"\"\"\n",
        "MATCH (m:Movie)\n",
        "RETURN m.title AS title\n",
        "LIMIT 3\n",
        "\"\"\")"
      ],
      "metadata": {
        "colab": {
          "base_uri": "https://localhost:8080/",
          "height": 143
        },
        "id": "mBjK-RBu7BXe",
        "outputId": "bff147a6-a599-4284-ae00-70aa695a97e4"
      },
      "execution_count": 3,
      "outputs": [
        {
          "output_type": "execute_result",
          "data": {
            "text/plain": [
              "                    title\n",
              "0              The Matrix\n",
              "1     The Matrix Reloaded\n",
              "2  The Matrix Revolutions"
            ],
            "text/html": [
              "\n",
              "  <div id=\"df-54865e1d-3364-4573-80ed-128a4804ea88\">\n",
              "    <div class=\"colab-df-container\">\n",
              "      <div>\n",
              "<style scoped>\n",
              "    .dataframe tbody tr th:only-of-type {\n",
              "        vertical-align: middle;\n",
              "    }\n",
              "\n",
              "    .dataframe tbody tr th {\n",
              "        vertical-align: top;\n",
              "    }\n",
              "\n",
              "    .dataframe thead th {\n",
              "        text-align: right;\n",
              "    }\n",
              "</style>\n",
              "<table border=\"1\" class=\"dataframe\">\n",
              "  <thead>\n",
              "    <tr style=\"text-align: right;\">\n",
              "      <th></th>\n",
              "      <th>title</th>\n",
              "    </tr>\n",
              "  </thead>\n",
              "  <tbody>\n",
              "    <tr>\n",
              "      <th>0</th>\n",
              "      <td>The Matrix</td>\n",
              "    </tr>\n",
              "    <tr>\n",
              "      <th>1</th>\n",
              "      <td>The Matrix Reloaded</td>\n",
              "    </tr>\n",
              "    <tr>\n",
              "      <th>2</th>\n",
              "      <td>The Matrix Revolutions</td>\n",
              "    </tr>\n",
              "  </tbody>\n",
              "</table>\n",
              "</div>\n",
              "      <button class=\"colab-df-convert\" onclick=\"convertToInteractive('df-54865e1d-3364-4573-80ed-128a4804ea88')\"\n",
              "              title=\"Convert this dataframe to an interactive table.\"\n",
              "              style=\"display:none;\">\n",
              "        \n",
              "  <svg xmlns=\"http://www.w3.org/2000/svg\" height=\"24px\"viewBox=\"0 0 24 24\"\n",
              "       width=\"24px\">\n",
              "    <path d=\"M0 0h24v24H0V0z\" fill=\"none\"/>\n",
              "    <path d=\"M18.56 5.44l.94 2.06.94-2.06 2.06-.94-2.06-.94-.94-2.06-.94 2.06-2.06.94zm-11 1L8.5 8.5l.94-2.06 2.06-.94-2.06-.94L8.5 2.5l-.94 2.06-2.06.94zm10 10l.94 2.06.94-2.06 2.06-.94-2.06-.94-.94-2.06-.94 2.06-2.06.94z\"/><path d=\"M17.41 7.96l-1.37-1.37c-.4-.4-.92-.59-1.43-.59-.52 0-1.04.2-1.43.59L10.3 9.45l-7.72 7.72c-.78.78-.78 2.05 0 2.83L4 21.41c.39.39.9.59 1.41.59.51 0 1.02-.2 1.41-.59l7.78-7.78 2.81-2.81c.8-.78.8-2.07 0-2.86zM5.41 20L4 18.59l7.72-7.72 1.47 1.35L5.41 20z\"/>\n",
              "  </svg>\n",
              "      </button>\n",
              "      \n",
              "  <style>\n",
              "    .colab-df-container {\n",
              "      display:flex;\n",
              "      flex-wrap:wrap;\n",
              "      gap: 12px;\n",
              "    }\n",
              "\n",
              "    .colab-df-convert {\n",
              "      background-color: #E8F0FE;\n",
              "      border: none;\n",
              "      border-radius: 50%;\n",
              "      cursor: pointer;\n",
              "      display: none;\n",
              "      fill: #1967D2;\n",
              "      height: 32px;\n",
              "      padding: 0 0 0 0;\n",
              "      width: 32px;\n",
              "    }\n",
              "\n",
              "    .colab-df-convert:hover {\n",
              "      background-color: #E2EBFA;\n",
              "      box-shadow: 0px 1px 2px rgba(60, 64, 67, 0.3), 0px 1px 3px 1px rgba(60, 64, 67, 0.15);\n",
              "      fill: #174EA6;\n",
              "    }\n",
              "\n",
              "    [theme=dark] .colab-df-convert {\n",
              "      background-color: #3B4455;\n",
              "      fill: #D2E3FC;\n",
              "    }\n",
              "\n",
              "    [theme=dark] .colab-df-convert:hover {\n",
              "      background-color: #434B5C;\n",
              "      box-shadow: 0px 1px 3px 1px rgba(0, 0, 0, 0.15);\n",
              "      filter: drop-shadow(0px 1px 2px rgba(0, 0, 0, 0.3));\n",
              "      fill: #FFFFFF;\n",
              "    }\n",
              "  </style>\n",
              "\n",
              "      <script>\n",
              "        const buttonEl =\n",
              "          document.querySelector('#df-54865e1d-3364-4573-80ed-128a4804ea88 button.colab-df-convert');\n",
              "        buttonEl.style.display =\n",
              "          google.colab.kernel.accessAllowed ? 'block' : 'none';\n",
              "\n",
              "        async function convertToInteractive(key) {\n",
              "          const element = document.querySelector('#df-54865e1d-3364-4573-80ed-128a4804ea88');\n",
              "          const dataTable =\n",
              "            await google.colab.kernel.invokeFunction('convertToInteractive',\n",
              "                                                     [key], {});\n",
              "          if (!dataTable) return;\n",
              "\n",
              "          const docLinkHtml = 'Like what you see? Visit the ' +\n",
              "            '<a target=\"_blank\" href=https://colab.research.google.com/notebooks/data_table.ipynb>data table notebook</a>'\n",
              "            + ' to learn more about interactive tables.';\n",
              "          element.innerHTML = '';\n",
              "          dataTable['output_type'] = 'display_data';\n",
              "          await google.colab.output.renderOutput(dataTable, element);\n",
              "          const docLink = document.createElement('div');\n",
              "          docLink.innerHTML = docLinkHtml;\n",
              "          element.appendChild(docLink);\n",
              "        }\n",
              "      </script>\n",
              "    </div>\n",
              "  </div>\n",
              "  "
            ]
          },
          "metadata": {},
          "execution_count": 3
        }
      ]
    },
    {
      "cell_type": "code",
      "source": [
        "print(run_query(\"\"\"\n",
        "MATCH (m:Movie)\n",
        "MATCH (m)-[r:ACTED_IN|DIRECTED]-(t)\n",
        "WITH m, type(r) as type, collect(t.name) as names\n",
        "WITH m, type+\": \"+reduce(s=\"\", n IN names | s + n + \", \") as types\n",
        "WITH m, collect(types) as contexts\n",
        "WITH m, \"Movie title: \"+ m.title + \" year: \"+coalesce(m.released,\"\") +\" plot: \"+ coalesce(m.tagline,\"\")+\"\\n\" +\n",
        "       reduce(s=\"\", c in contexts | s + substring(c, 0, size(c)-2) +\"\\n\") as context\n",
        "RETURN context LIMIT 1\n",
        "\"\"\")['context'][0])"
      ],
      "metadata": {
        "colab": {
          "base_uri": "https://localhost:8080/"
        },
        "id": "M7_NaY4S7HTa",
        "outputId": "58dbde57-ceb5-4125-fe5c-4cfb6080e38b"
      },
      "execution_count": 8,
      "outputs": [
        {
          "output_type": "stream",
          "name": "stdout",
          "text": [
            "Movie title: The Matrix year: 1999 plot: Welcome to the Real World\n",
            "ACTED_IN: Emil Eifrem, Hugo Weaving, Laurence Fishburne, Carrie-Anne Moss, Keanu Reeves\n",
            "DIRECTED: Lana Wachowski, Lilly Wachowski\n",
            "\n"
          ]
        }
      ]
    },
    {
      "cell_type": "code",
      "source": [
        "openai_api_key = \"OPENAI_API_KEY\""
      ],
      "metadata": {
        "id": "HQuFAs7d_Yl6"
      },
      "execution_count": 39,
      "outputs": []
    },
    {
      "cell_type": "code",
      "source": [
        "run_query(\"\"\"\n",
        "CALL apoc.periodic.iterate(\n",
        "  'MATCH (m:Movie) RETURN id(m) AS id',\n",
        "  'MATCH (m:Movie)\n",
        "   WHERE id(m) = id\n",
        "   MATCH (m)-[r:ACTED_IN|DIRECTED]-(t)\n",
        "   WITH m, type(r) as type, collect(t.name) as names\n",
        "   WITH m, type+\": \"+reduce(s=\"\", n IN names | s + n + \", \") as types\n",
        "   WITH m, collect(types) as contexts\n",
        "   WITH m, \"Movie title: \"+ m.title + \" year: \"+coalesce(m.released,\"\") +\" plot: \"+ coalesce(m.tagline,\"\")+\"\\n\" +\n",
        "        reduce(s=\"\", c in contexts | s + substring(c, 0, size(c)-2) +\"\\n\") as context\n",
        "   CALL apoc.ml.openai.embedding([context], $apiKey) YIELD embedding\n",
        "   SET m.embedding = embedding',\n",
        "  {batchSize:1, retries:3, params: {apiKey: $apiKey}})\n",
        "\"\"\", {'apiKey': openai_api_key})['errorMessages'][0]"
      ],
      "metadata": {
        "colab": {
          "base_uri": "https://localhost:8080/"
        },
        "id": "wzeKmQnT9Mqv",
        "outputId": "efa8d4d6-4028-45bc-e9c7-7e810fd07d9f"
      },
      "execution_count": 42,
      "outputs": [
        {
          "output_type": "execute_result",
          "data": {
            "text/plain": [
              "{}"
            ]
          },
          "metadata": {},
          "execution_count": 42
        }
      ]
    },
    {
      "cell_type": "code",
      "source": [
        "system_prompt = \"\"\"\n",
        "You are an assistant that helps to generate text to form nice and human understandable answers based.\n",
        "The latest prompt contains the information, and you need to generate a human readable response based on the given information.\n",
        "Make the answer sound as a response to the question. Do not mention that you based the result on the given information.\n",
        "Do not add any additional information that is not explicitly provided in the latest prompt.\n",
        "I repeat, do not add any information that is not explicitly given.\n",
        "\"\"\"\n",
        "\n",
        "def generate_user_prompt(question, context):\n",
        "   return f\"\"\"\n",
        "   The question is {question}\n",
        "   Answer the question by using the provided information:\n",
        "   {context}\n",
        "   \"\"\"\n",
        "\n",
        "def retrieve_context(question, k=3):\n",
        "  data = run_query(\"\"\"\n",
        "    // retrieve the embedding of the question\n",
        "    CALL apoc.ml.openai.embedding([$question], $apiKey) YIELD embedding\n",
        "    // match relevant movies\n",
        "    MATCH (m:Movie)\n",
        "    WITH m, gds.similarity.cosine(embedding, m.embedding) AS score\n",
        "    ORDER BY score DESC\n",
        "    LIMIT toInteger($k)\n",
        "    MATCH (m)-[r:ACTED_IN|DIRECTED]-(t)\n",
        "    WITH m, type(r) as type, collect(t.name) as names\n",
        "    WITH m, type+\": \"+reduce(s=\"\", n IN names | s + n + \", \") as types\n",
        "    WITH m, collect(types) as contexts\n",
        "    WITH m, \"Movie title: \"+ m.title + \" year: \"+coalesce(m.released,\"\") +\" plot: \"+ coalesce(m.tagline,\"\")+\"\\n\" +\n",
        "          reduce(s=\"\", c in contexts | s + substring(c, 0, size(c)-2) +\"\\n\") as context\n",
        "    RETURN context\n",
        "  \"\"\", {'question': question, 'k': k, 'apiKey': openai_api_key})\n",
        "  return data['context'].to_list()\n",
        "\n",
        "def generate_answer(question):\n",
        "  # Retrieve context\n",
        "  context = retrieve_context(question)\n",
        "  # Print context\n",
        "  for c in context:\n",
        "    print(c)\n",
        "  # Generate answer\n",
        "  response = run_query(\"\"\"\n",
        "  CALL apoc.ml.openai.chat([{role:'system', content: $system},\n",
        "                      {role: 'user', content: $user}], $apiKey) YIELD value\n",
        "  RETURN value.choices[0].message.content AS answer\n",
        "  \"\"\", {'system': system_prompt, 'user': generate_user_prompt(question, context), 'apiKey': openai_api_key})\n",
        "  return response['answer'][0]\n",
        "\n"
      ],
      "metadata": {
        "id": "E4EGxJuLAm1y"
      },
      "execution_count": 43,
      "outputs": []
    },
    {
      "cell_type": "code",
      "source": [
        "generate_answer(\"Who played in the Matrix?\")"
      ],
      "metadata": {
        "colab": {
          "base_uri": "https://localhost:8080/",
          "height": 276
        },
        "id": "MSiHagee_70-",
        "outputId": "98299006-170d-40d6-b584-cb0ceb364b60"
      },
      "execution_count": 44,
      "outputs": [
        {
          "output_type": "stream",
          "name": "stdout",
          "text": [
            "Movie title: The Matrix year: 1999 plot: Welcome to the Real World\n",
            "ACTED_IN: Emil Eifrem, Hugo Weaving, Laurence Fishburne, Carrie-Anne Moss, Keanu Reeves\n",
            "DIRECTED: Lana Wachowski, Lilly Wachowski\n",
            "\n",
            "Movie title: The Matrix Reloaded year: 2003 plot: Free your mind\n",
            "DIRECTED: Lana Wachowski, Lilly Wachowski\n",
            "ACTED_IN: Hugo Weaving, Laurence Fishburne, Carrie-Anne Moss, Keanu Reeves\n",
            "\n",
            "Movie title: The Matrix Revolutions year: 2003 plot: Everything that has a beginning has an end\n",
            "DIRECTED: Lana Wachowski, Lilly Wachowski\n",
            "ACTED_IN: Hugo Weaving, Laurence Fishburne, Carrie-Anne Moss, Keanu Reeves\n",
            "\n"
          ]
        },
        {
          "output_type": "execute_result",
          "data": {
            "text/plain": [
              "\"Keanu Reeves, Laurence Fishburne, Carrie-Anne Moss, Hugo Weaving, and Emil Eifrem played in the movie 'The Matrix' which was released in 1999. They also starred in the sequels - 'The Matrix Reloaded' and 'The Matrix Revolutions', both released in 2003. All three movies were directed by Lana Wachowski and Lilly Wachowski.\""
            ],
            "application/vnd.google.colaboratory.intrinsic+json": {
              "type": "string"
            }
          },
          "metadata": {},
          "execution_count": 44
        }
      ]
    },
    {
      "cell_type": "code",
      "source": [
        "generate_answer(\"Which movie was released in 2000?\")"
      ],
      "metadata": {
        "colab": {
          "base_uri": "https://localhost:8080/",
          "height": 276
        },
        "id": "Y9FwN7VXDNCM",
        "outputId": "d448f296-7417-4ae8-fd05-308414bc00c9"
      },
      "execution_count": 45,
      "outputs": [
        {
          "output_type": "stream",
          "name": "stdout",
          "text": [
            "Movie title: Cast Away year: 2000 plot: At the edge of the world, his journey begins.\n",
            "ACTED_IN: Helen Hunt, Tom Hanks\n",
            "DIRECTED: Robert Zemeckis\n",
            "\n",
            "Movie title: Jerry Maguire year: 2000 plot: The rest of his life begins now.\n",
            "ACTED_IN: Jerry O'Connell, Bonnie Hunt, Jay Mohr, Cuba Gooding Jr., Jonathan Lipnicki, Renee Zellweger, Kelly Preston, Regina King, Tom Cruise\n",
            "DIRECTED: Cameron Crowe\n",
            "\n",
            "Movie title: The Matrix Reloaded year: 2003 plot: Free your mind\n",
            "DIRECTED: Lana Wachowski, Lilly Wachowski\n",
            "ACTED_IN: Hugo Weaving, Laurence Fishburne, Carrie-Anne Moss, Keanu Reeves\n",
            "\n"
          ]
        },
        {
          "output_type": "execute_result",
          "data": {
            "text/plain": [
              "\"The movie that was released in 2000 is Cast Away. It's a drama film about a man named Chuck Nolan who becomes stranded on a deserted island after a plane crash. The movie stars Tom Hanks and Helen Hunt, and was directed by Robert Zemeckis.\""
            ],
            "application/vnd.google.colaboratory.intrinsic+json": {
              "type": "string"
            }
          },
          "metadata": {},
          "execution_count": 45
        }
      ]
    },
    {
      "cell_type": "code",
      "source": [
        "generate_answer(\"Recommend me a comedy with Jack Nicholson?\")"
      ],
      "metadata": {
        "colab": {
          "base_uri": "https://localhost:8080/",
          "height": 294
        },
        "id": "XepSm2miD7ac",
        "outputId": "5d09eb57-71bf-4eca-dd0c-31b14443ca40"
      },
      "execution_count": 46,
      "outputs": [
        {
          "output_type": "stream",
          "name": "stdout",
          "text": [
            "Movie title: As Good as It Gets year: 1997 plot: A comedy from the heart that goes for the throat.\n",
            "ACTED_IN: Helen Hunt, Jack Nicholson, Cuba Gooding Jr., Greg Kinnear\n",
            "DIRECTED: James L. Brooks\n",
            "\n",
            "Movie title: One Flew Over the Cuckoo's Nest year: 1975 plot: If he's crazy, what does that make you?\n",
            "ACTED_IN: Danny DeVito, Jack Nicholson\n",
            "DIRECTED: Milos Forman\n",
            "\n",
            "Movie title: Something's Gotta Give year: 2003 plot: \n",
            "ACTED_IN: Keanu Reeves, Diane Keaton, Jack Nicholson\n",
            "DIRECTED: Nancy Meyers\n",
            "\n"
          ]
        },
        {
          "output_type": "execute_result",
          "data": {
            "text/plain": [
              "'I would highly recommend the comedy movie \"As Good as It Gets\" starring Jack Nicholson along with other great stars like Helen Hunt, Cuba Gooding Jr., and Greg Kinnear. Directed by James L. Brooks, the movie from the heart that goes for the throat was released in 1997 and is sure to leave you laughing out loud. Another option you can consider is \"Something\\'s Gotta Give\" that released in 2003, directed by Nancy Meyers and also featuring Jack Nicholson along with Keanu Reeves and Diane Keaton.'"
            ],
            "application/vnd.google.colaboratory.intrinsic+json": {
              "type": "string"
            }
          },
          "metadata": {},
          "execution_count": 46
        }
      ]
    },
    {
      "cell_type": "code",
      "source": [],
      "metadata": {
        "id": "DtWRYPGnEgv9"
      },
      "execution_count": null,
      "outputs": []
    }
  ]
}