{
 "cells": [
  {
   "cell_type": "markdown",
   "metadata": {
    "id": "view-in-github",
    "colab_type": "text"
   },
   "source": [
    "<a href=\"https://colab.research.google.com/github/tomasonjo/blogs/blob/master/llm/neo4jvector_langchain_deepdive.ipynb\" target=\"_parent\"><img src=\"https://colab.research.google.com/assets/colab-badge.svg\" alt=\"Open In Colab\"/></a>"
   ]
  },
  {
   "cell_type": "code",
   "execution_count": 1,
   "id": "ea7390e8-b3b6-449e-9819-9cbec935fbdf",
   "metadata": {
    "colab": {
     "base_uri": "https://localhost:8080/"
    },
    "id": "ea7390e8-b3b6-449e-9819-9cbec935fbdf",
    "outputId": "11134899-27fb-49ae-c4bb-a58b60451295"
   },
   "outputs": [
    {
     "output_type": "stream",
     "name": "stdout",
     "text": [
      "Collecting langchain\n",
      "  Downloading langchain-0.0.276-py3-none-any.whl (1.6 MB)\n",
      "\u001b[2K     \u001b[90m━━━━━━━━━━━━━━━━━━━━━━━━━━━━━━━━━━━━━━━━\u001b[0m \u001b[32m1.6/1.6 MB\u001b[0m \u001b[31m12.8 MB/s\u001b[0m eta \u001b[36m0:00:00\u001b[0m\n",
      "\u001b[?25hCollecting openai\n",
      "  Downloading openai-0.27.9-py3-none-any.whl (75 kB)\n",
      "\u001b[2K     \u001b[90m━━━━━━━━━━━━━━━━━━━━━━━━━━━━━━━━━━━━━━━━\u001b[0m \u001b[32m75.5/75.5 kB\u001b[0m \u001b[31m9.5 MB/s\u001b[0m eta \u001b[36m0:00:00\u001b[0m\n",
      "\u001b[?25hCollecting wikipedia\n",
      "  Downloading wikipedia-1.4.0.tar.gz (27 kB)\n",
      "  Preparing metadata (setup.py) ... \u001b[?25l\u001b[?25hdone\n",
      "Collecting tiktoken\n",
      "  Downloading tiktoken-0.4.0-cp310-cp310-manylinux_2_17_x86_64.manylinux2014_x86_64.whl (1.7 MB)\n",
      "\u001b[2K     \u001b[90m━━━━━━━━━━━━━━━━━━━━━━━━━━━━━━━━━━━━━━━━\u001b[0m \u001b[32m1.7/1.7 MB\u001b[0m \u001b[31m26.0 MB/s\u001b[0m eta \u001b[36m0:00:00\u001b[0m\n",
      "\u001b[?25hCollecting neo4j\n",
      "  Downloading neo4j-5.11.0.tar.gz (188 kB)\n",
      "\u001b[2K     \u001b[90m━━━━━━━━━━━━━━━━━━━━━━━━━━━━━━━━━━━━━━\u001b[0m \u001b[32m188.4/188.4 kB\u001b[0m \u001b[31m20.9 MB/s\u001b[0m eta \u001b[36m0:00:00\u001b[0m\n",
      "\u001b[?25h  Installing build dependencies ... \u001b[?25l\u001b[?25hdone\n",
      "  Getting requirements to build wheel ... \u001b[?25l\u001b[?25hdone\n",
      "  Installing backend dependencies ... \u001b[?25l\u001b[?25hdone\n",
      "  Preparing metadata (pyproject.toml) ... \u001b[?25l\u001b[?25hdone\n",
      "Requirement already satisfied: PyYAML>=5.3 in /usr/local/lib/python3.10/dist-packages (from langchain) (6.0.1)\n",
      "Requirement already satisfied: SQLAlchemy<3,>=1.4 in /usr/local/lib/python3.10/dist-packages (from langchain) (2.0.20)\n",
      "Requirement already satisfied: aiohttp<4.0.0,>=3.8.3 in /usr/local/lib/python3.10/dist-packages (from langchain) (3.8.5)\n",
      "Requirement already satisfied: async-timeout<5.0.0,>=4.0.0 in /usr/local/lib/python3.10/dist-packages (from langchain) (4.0.3)\n",
      "Collecting dataclasses-json<0.6.0,>=0.5.7 (from langchain)\n",
      "  Downloading dataclasses_json-0.5.14-py3-none-any.whl (26 kB)\n",
      "Collecting langsmith<0.1.0,>=0.0.21 (from langchain)\n",
      "  Downloading langsmith-0.0.27-py3-none-any.whl (34 kB)\n",
      "Requirement already satisfied: numexpr<3.0.0,>=2.8.4 in /usr/local/lib/python3.10/dist-packages (from langchain) (2.8.5)\n",
      "Requirement already satisfied: numpy<2,>=1 in /usr/local/lib/python3.10/dist-packages (from langchain) (1.23.5)\n",
      "Requirement already satisfied: pydantic<3,>=1 in /usr/local/lib/python3.10/dist-packages (from langchain) (2.2.1)\n",
      "Requirement already satisfied: requests<3,>=2 in /usr/local/lib/python3.10/dist-packages (from langchain) (2.31.0)\n",
      "Requirement already satisfied: tenacity<9.0.0,>=8.1.0 in /usr/local/lib/python3.10/dist-packages (from langchain) (8.2.3)\n",
      "Requirement already satisfied: tqdm in /usr/local/lib/python3.10/dist-packages (from openai) (4.66.1)\n",
      "Requirement already satisfied: beautifulsoup4 in /usr/local/lib/python3.10/dist-packages (from wikipedia) (4.11.2)\n",
      "Requirement already satisfied: regex>=2022.1.18 in /usr/local/lib/python3.10/dist-packages (from tiktoken) (2023.6.3)\n",
      "Requirement already satisfied: pytz in /usr/local/lib/python3.10/dist-packages (from neo4j) (2023.3)\n",
      "Requirement already satisfied: attrs>=17.3.0 in /usr/local/lib/python3.10/dist-packages (from aiohttp<4.0.0,>=3.8.3->langchain) (23.1.0)\n",
      "Requirement already satisfied: charset-normalizer<4.0,>=2.0 in /usr/local/lib/python3.10/dist-packages (from aiohttp<4.0.0,>=3.8.3->langchain) (3.2.0)\n",
      "Requirement already satisfied: multidict<7.0,>=4.5 in /usr/local/lib/python3.10/dist-packages (from aiohttp<4.0.0,>=3.8.3->langchain) (6.0.4)\n",
      "Requirement already satisfied: yarl<2.0,>=1.0 in /usr/local/lib/python3.10/dist-packages (from aiohttp<4.0.0,>=3.8.3->langchain) (1.9.2)\n",
      "Requirement already satisfied: frozenlist>=1.1.1 in /usr/local/lib/python3.10/dist-packages (from aiohttp<4.0.0,>=3.8.3->langchain) (1.4.0)\n",
      "Requirement already satisfied: aiosignal>=1.1.2 in /usr/local/lib/python3.10/dist-packages (from aiohttp<4.0.0,>=3.8.3->langchain) (1.3.1)\n",
      "Collecting marshmallow<4.0.0,>=3.18.0 (from dataclasses-json<0.6.0,>=0.5.7->langchain)\n",
      "  Downloading marshmallow-3.20.1-py3-none-any.whl (49 kB)\n",
      "\u001b[2K     \u001b[90m━━━━━━━━━━━━━━━━━━━━━━━━━━━━━━━━━━━━━━━━\u001b[0m \u001b[32m49.4/49.4 kB\u001b[0m \u001b[31m4.4 MB/s\u001b[0m eta \u001b[36m0:00:00\u001b[0m\n",
      "\u001b[?25hCollecting typing-inspect<1,>=0.4.0 (from dataclasses-json<0.6.0,>=0.5.7->langchain)\n",
      "  Downloading typing_inspect-0.9.0-py3-none-any.whl (8.8 kB)\n",
      "Requirement already satisfied: annotated-types>=0.4.0 in /usr/local/lib/python3.10/dist-packages (from pydantic<3,>=1->langchain) (0.5.0)\n",
      "Requirement already satisfied: pydantic-core==2.6.1 in /usr/local/lib/python3.10/dist-packages (from pydantic<3,>=1->langchain) (2.6.1)\n",
      "Requirement already satisfied: typing-extensions>=4.6.1 in /usr/local/lib/python3.10/dist-packages (from pydantic<3,>=1->langchain) (4.7.1)\n",
      "Requirement already satisfied: idna<4,>=2.5 in /usr/local/lib/python3.10/dist-packages (from requests<3,>=2->langchain) (3.4)\n",
      "Requirement already satisfied: urllib3<3,>=1.21.1 in /usr/local/lib/python3.10/dist-packages (from requests<3,>=2->langchain) (2.0.4)\n",
      "Requirement already satisfied: certifi>=2017.4.17 in /usr/local/lib/python3.10/dist-packages (from requests<3,>=2->langchain) (2023.7.22)\n",
      "Requirement already satisfied: greenlet!=0.4.17 in /usr/local/lib/python3.10/dist-packages (from SQLAlchemy<3,>=1.4->langchain) (2.0.2)\n",
      "Requirement already satisfied: soupsieve>1.2 in /usr/local/lib/python3.10/dist-packages (from beautifulsoup4->wikipedia) (2.4.1)\n",
      "Requirement already satisfied: packaging>=17.0 in /usr/local/lib/python3.10/dist-packages (from marshmallow<4.0.0,>=3.18.0->dataclasses-json<0.6.0,>=0.5.7->langchain) (23.1)\n",
      "Collecting mypy-extensions>=0.3.0 (from typing-inspect<1,>=0.4.0->dataclasses-json<0.6.0,>=0.5.7->langchain)\n",
      "  Downloading mypy_extensions-1.0.0-py3-none-any.whl (4.7 kB)\n",
      "Building wheels for collected packages: wikipedia, neo4j\n",
      "  Building wheel for wikipedia (setup.py) ... \u001b[?25l\u001b[?25hdone\n",
      "  Created wheel for wikipedia: filename=wikipedia-1.4.0-py3-none-any.whl size=11678 sha256=f4eebad20b3e578d907d048fa9e0c110d9a28724fee3f28b8cd35ef7e6246838\n",
      "  Stored in directory: /root/.cache/pip/wheels/5e/b6/c5/93f3dec388ae76edc830cb42901bb0232504dfc0df02fc50de\n",
      "  Building wheel for neo4j (pyproject.toml) ... \u001b[?25l\u001b[?25hdone\n",
      "  Created wheel for neo4j: filename=neo4j-5.11.0-py3-none-any.whl size=259793 sha256=e465b3e7b9a0f93d1b5d14621d68340e645281218d59be115c06e893893b4ce8\n",
      "  Stored in directory: /root/.cache/pip/wheels/5f/9b/72/d893916a92e5bd362c3c28dc8dacc060419009e5a8cebb9461\n",
      "Successfully built wikipedia neo4j\n",
      "Installing collected packages: neo4j, mypy-extensions, marshmallow, wikipedia, typing-inspect, tiktoken, openai, langsmith, dataclasses-json, langchain\n",
      "Successfully installed dataclasses-json-0.5.14 langchain-0.0.276 langsmith-0.0.27 marshmallow-3.20.1 mypy-extensions-1.0.0 neo4j-5.11.0 openai-0.27.9 tiktoken-0.4.0 typing-inspect-0.9.0 wikipedia-1.4.0\n"
     ]
    }
   ],
   "source": [
    "!pip install langchain openai wikipedia tiktoken neo4j"
   ]
  },
  {
   "cell_type": "code",
   "execution_count": 2,
   "id": "e7e57380-e2a7-4dce-94a9-76f291c49e78",
   "metadata": {
    "id": "e7e57380-e2a7-4dce-94a9-76f291c49e78"
   },
   "outputs": [],
   "source": [
    "import os\n",
    "\n",
    "from langchain.vectorstores.neo4j_vector import Neo4jVector\n",
    "from langchain.document_loaders import WikipediaLoader\n",
    "from langchain.embeddings.openai import OpenAIEmbeddings\n",
    "from langchain.text_splitter import CharacterTextSplitter\n",
    "from langchain.docstore.document import Document\n",
    "\n",
    "os.environ[\"OPENAI_API_KEY\"] = \"sk-\""
   ]
  },
  {
   "cell_type": "code",
   "execution_count": 3,
   "id": "bd210816-659c-4e99-80ed-ce17abd9e409",
   "metadata": {
    "colab": {
     "base_uri": "https://localhost:8080/"
    },
    "id": "bd210816-659c-4e99-80ed-ce17abd9e409",
    "outputId": "ed7c797c-4bc7-4f17-ec1b-67a4e4b3bc03"
   },
   "outputs": [
    {
     "output_type": "stream",
     "name": "stderr",
     "text": [
      "/usr/local/lib/python3.10/dist-packages/wikipedia/wikipedia.py:389: GuessedAtParserWarning: No parser was explicitly specified, so I'm using the best available HTML parser for this system (\"lxml\"). This usually isn't a problem, but if you run this code on another system, or in a different virtual environment, it may use a different parser and behave differently.\n",
      "\n",
      "The code that caused this warning is on line 389 of the file /usr/local/lib/python3.10/dist-packages/wikipedia/wikipedia.py. To get rid of this warning, pass the additional argument 'features=\"lxml\"' to the BeautifulSoup constructor.\n",
      "\n",
      "  lis = BeautifulSoup(html).find_all('li')\n"
     ]
    }
   ],
   "source": [
    "# Read the wikipedia article\n",
    "raw_documents = WikipediaLoader(query=\"The Witcher\").load()\n",
    "# Define chunking strategy\n",
    "text_splitter = CharacterTextSplitter.from_tiktoken_encoder(\n",
    "    chunk_size=1000, chunk_overlap=20\n",
    ")\n",
    "# Chunk the document\n",
    "documents = text_splitter.split_documents(raw_documents)\n",
    "for d in documents:\n",
    "    del d.metadata[\"summary\"]"
   ]
  },
  {
   "cell_type": "code",
   "execution_count": 5,
   "id": "380059c2-4651-4773-a9e4-db5ad63cb06d",
   "metadata": {
    "id": "380059c2-4651-4773-a9e4-db5ad63cb06d"
   },
   "outputs": [],
   "source": [
    "url = \"neo4j+s://.databases.neo4j.io\"\n",
    "username = \"neo4j\"\n",
    "password = \"-23VkKvkuXDGne9M\"\n",
    "\n",
    "neo4j_db = Neo4jVector.from_documents(\n",
    "    documents,\n",
    "    OpenAIEmbeddings(),\n",
    "    url=url,\n",
    "    username=username,\n",
    "    password=password,\n",
    "    database=\"neo4j\",  # neo4j by default\n",
    "    index_name=\"wikipedia\",  # vector by default\n",
    "    node_label=\"WikipediaArticle\",  # Chunk by default\n",
    "    text_node_property=\"info\",  # text by default\n",
    "    embedding_node_property=\"vector\",  # embedding by default\n",
    "    create_id_index=True,  # True by default\n",
    ")"
   ]
  },
  {
   "cell_type": "code",
   "execution_count": 6,
   "id": "60087496-a403-4b0f-885f-6ef00601fc46",
   "metadata": {
    "colab": {
     "base_uri": "https://localhost:8080/"
    },
    "id": "60087496-a403-4b0f-885f-6ef00601fc46",
    "outputId": "3db9d249-cafc-48d7-dfcc-77106dd73ca5"
   },
   "outputs": [
    {
     "output_type": "execute_result",
     "data": {
      "text/plain": [
       "[{'id': 4,\n",
       "  'name': 'constraint_e5da4d45',\n",
       "  'type': 'UNIQUENESS',\n",
       "  'entityType': 'NODE',\n",
       "  'labelsOrTypes': ['WikipediaArticle'],\n",
       "  'properties': ['id'],\n",
       "  'ownedIndex': 'constraint_e5da4d45',\n",
       "  'propertyType': None}]"
      ]
     },
     "metadata": {},
     "execution_count": 6
    }
   ],
   "source": [
    "neo4j_db.query(\"SHOW CONSTRAINTS\")"
   ]
  },
  {
   "cell_type": "code",
   "execution_count": 7,
   "id": "64963364-d0fc-4888-b10f-e707812cab22",
   "metadata": {
    "colab": {
     "base_uri": "https://localhost:8080/"
    },
    "id": "64963364-d0fc-4888-b10f-e707812cab22",
    "outputId": "def4aa8d-dfbf-4689-9e5c-869911b1c450"
   },
   "outputs": [
    {
     "output_type": "execute_result",
     "data": {
      "text/plain": [
       "[{'name': 'wikipedia',\n",
       "  'type': 'VECTOR',\n",
       "  'labelsOrTypes': ['WikipediaArticle'],\n",
       "  'properties': ['vector'],\n",
       "  'options': {'indexProvider': 'vector-1.0',\n",
       "   'indexConfig': {'vector.dimensions': 1536,\n",
       "    'vector.similarity_function': 'cosine'}}}]"
      ]
     },
     "metadata": {},
     "execution_count": 7
    }
   ],
   "source": [
    "neo4j_db.query(\n",
    "    \"\"\"SHOW INDEXES\n",
    "       YIELD name, type, labelsOrTypes, properties, options\n",
    "       WHERE type = 'VECTOR'\n",
    "    \"\"\"\n",
    ")"
   ]
  },
  {
   "cell_type": "code",
   "execution_count": 8,
   "id": "7d31a6a4-c4f9-4711-90c8-67d61dd7e7b5",
   "metadata": {
    "colab": {
     "base_uri": "https://localhost:8080/"
    },
    "id": "7d31a6a4-c4f9-4711-90c8-67d61dd7e7b5",
    "outputId": "c8d0f676-1066-409b-f850-052fbc62f910"
   },
   "outputs": [
    {
     "output_type": "stream",
     "name": "stdout",
     "text": [
      "The Witcher (Polish: Wiedźmin pronounced [ˈvʲɛd͡ʑmʲin]) is a series of six fantasy novels and 15 short stories written by Polish author Andrzej Sapkowski. The series revolves around the eponymous \"witcher\", Geralt of Rivia. In Sapkowski's works, \"witchers\" are beast hunters who are given supernatural abilities at a young age to battle wild beasts and monsters. The Witcher began with a titular 1986 short story that Sapkowski entered into a competition held by Fantastyka magazine, marking his debut as an author. Due to reader demand, Sapkowski wrote 14 more stories before starting a series of novels in 1994. Known as The Witcher Saga, he wrote one book a year until the fifth and final installment in 1999. A standalone prequel novel, Season of Storms, was published in 2013.\n",
      "The books have been described as having a cult following in Poland and Central and Eastern European countries. They have been translated into 37 languages and sold over 15 million copies worldwide as of December 2019. They have also been adapted into a film (The Hexer), two television series (The Hexer and The Witcher), a video game series, and a series of comic books. The video games have been even more successful, with more than 50 million copies sold as of May 2020.\n"
     ]
    }
   ],
   "source": [
    "query = \"Who wrote the Witcher?\"\n",
    "\n",
    "results = neo4j_db.similarity_search(query, k=1)\n",
    "\n",
    "# Print only the first paragraph for blog post purposes\n",
    "print(results[0].page_content.split(\"\\n\\n\")[0])"
   ]
  },
  {
   "cell_type": "code",
   "execution_count": 9,
   "id": "6a1d92f2-e222-47a8-9f75-d46a66c2860b",
   "metadata": {
    "colab": {
     "base_uri": "https://localhost:8080/"
    },
    "id": "6a1d92f2-e222-47a8-9f75-d46a66c2860b",
    "outputId": "80f34bc0-7b46-4db9-f065-d7ccd52da683"
   },
   "outputs": [
    {
     "output_type": "stream",
     "name": "stderr",
     "text": [
      "/usr/local/lib/python3.10/dist-packages/wikipedia/wikipedia.py:389: GuessedAtParserWarning: No parser was explicitly specified, so I'm using the best available HTML parser for this system (\"lxml\"). This usually isn't a problem, but if you run this code on another system, or in a different virtual environment, it may use a different parser and behave differently.\n",
      "\n",
      "The code that caused this warning is on line 389 of the file /usr/local/lib/python3.10/dist-packages/wikipedia/wikipedia.py. To get rid of this warning, pass the additional argument 'features=\"lxml\"' to the BeautifulSoup constructor.\n",
      "\n",
      "  lis = BeautifulSoup(html).find_all('li')\n"
     ]
    }
   ],
   "source": [
    "# Read the wikipedia article\n",
    "raw_documents = WikipediaLoader(query=\"Arcane (TV series)\").load()\n",
    "# Define chunking strategy\n",
    "text_splitter = CharacterTextSplitter.from_tiktoken_encoder(\n",
    "    chunk_size=1000, chunk_overlap=20\n",
    ")\n",
    "# Chunk the document\n",
    "arcane_documents = text_splitter.split_documents(raw_documents)\n",
    "for d in arcane_documents:\n",
    "    del d.metadata[\"summary\"]"
   ]
  },
  {
   "cell_type": "code",
   "execution_count": 10,
   "id": "72586084-39f4-4c44-91a6-7d2e28c2bad1",
   "metadata": {
    "colab": {
     "base_uri": "https://localhost:8080/"
    },
    "id": "72586084-39f4-4c44-91a6-7d2e28c2bad1",
    "outputId": "408e5669-3dc3-4e97-c1e3-72769f71c5ec"
   },
   "outputs": [
    {
     "output_type": "execute_result",
     "data": {
      "text/plain": [
       "[0, 1, 2, 3, 4, 5, 6, 7, 8]"
      ]
     },
     "metadata": {},
     "execution_count": 10
    }
   ],
   "source": [
    "neo4j_db.add_documents(arcane_documents, ids=[x for x in range(len(arcane_documents))])"
   ]
  },
  {
   "cell_type": "code",
   "execution_count": 11,
   "id": "79b8582d-bb79-48d3-a278-f59fc02f32f4",
   "metadata": {
    "colab": {
     "base_uri": "https://localhost:8080/"
    },
    "id": "79b8582d-bb79-48d3-a278-f59fc02f32f4",
    "outputId": "0e515e48-1dcb-4499-cf7c-ec53195dd85d"
   },
   "outputs": [
    {
     "output_type": "stream",
     "name": "stdout",
     "text": [
      "Arcane (titled onscreen as Arcane: League of Legends) is an adult animated steampunk action-adventure television series created by Christian Linke and Alex Yee. It was produced by the French animation studio Fortiche under the supervision of Riot Games, and distributed by Netflix. Set in Riot's League of Legends fictional universe, it primarily focuses on sisters Vi and Jinx. The series was announced at the League of Legends 10th anniversary celebration in 2019, and first released in November 2021. Following the conclusion of the first season, Riot Games and Netflix announced that a second season was in production.\n",
      "Arcane's first season was released to universal acclaim, with praise directed at its animation, story, worldbuilding, action sequences, characters, emotional weight, music, and voice acting. Some have noted the series' appeal both to casual viewers who have never played League of Legends and to long-time fans of the game. It also set the record as Netflix's highest-rated series at the time within a week of its premiere, ranked first on the Netflix Top 10 Chart in 52 countries, and ranked second on the chart in the United States. Several critics and publications considered it one of the best video game adaptations ever made. In 2022, the series became the first streaming series to win a Primetime Emmy Award for Outstanding Animated Program and won an Annie Award for Best General Audience Animated Television Broadcast Production.\n"
     ]
    }
   ],
   "source": [
    "query = \"What is the Arcane series about?\"\n",
    "\n",
    "results = neo4j_db.similarity_search(query, k=1)\n",
    "\n",
    "# Print only the first paragraph for blog post purposes\n",
    "print(results[0].page_content.split(\"\\n\\n\")[0])"
   ]
  },
  {
   "cell_type": "code",
   "execution_count": 12,
   "id": "0ee74b7d-c2e5-42e4-8180-edea8f0a7b4c",
   "metadata": {
    "colab": {
     "base_uri": "https://localhost:8080/"
    },
    "id": "0ee74b7d-c2e5-42e4-8180-edea8f0a7b4c",
    "outputId": "bd2bb79d-2691-4852-bd9b-976da2dd6272"
   },
   "outputs": [
    {
     "output_type": "execute_result",
     "data": {
      "text/plain": [
       "[{'n': {'vector': None,\n",
       "   'id': 5,\n",
       "   'source': 'https://en.wikipedia.org/wiki/Heimerdinger',\n",
       "   'title': 'Heimerdinger',\n",
       "   'info': 'Heimerdinger is a surname. Notable people with the surname include:\\n\\nChris Heimerdinger (born 1963), American author\\nFriedrich Heimerdinger (1817–1882), German painter\\nMike Heimerdinger (1952–2011), American football coach\\nCecil B. Heimerdinger, a fictional character in League of Legends and Arcane (TV series)'}}]"
      ]
     },
     "metadata": {},
     "execution_count": 12
    }
   ],
   "source": [
    "neo4j_db.query(\"MATCH (n:WikipediaArticle {id:5}) RETURN n {.*, vector:null}\")"
   ]
  },
  {
   "cell_type": "code",
   "execution_count": 13,
   "id": "7e9c944e-f356-4839-a30e-2cbd4cc46e4c",
   "metadata": {
    "id": "7e9c944e-f356-4839-a30e-2cbd4cc46e4c"
   },
   "outputs": [],
   "source": [
    "existing_index = Neo4jVector.from_existing_index(\n",
    "    OpenAIEmbeddings(),\n",
    "    url=url,\n",
    "    username=username,\n",
    "    password=password,\n",
    "    index_name=\"wikipedia\",\n",
    "    text_node_property=\"info\",  # Need to define if it is not default\n",
    ")"
   ]
  },
  {
   "cell_type": "code",
   "execution_count": 14,
   "id": "9610e8d4-8d42-4de1-b1b2-534bf3e2be78",
   "metadata": {
    "colab": {
     "base_uri": "https://localhost:8080/"
    },
    "id": "9610e8d4-8d42-4de1-b1b2-534bf3e2be78",
    "outputId": "a4dc6b1a-2c5a-46f4-e030-da4673e6def9"
   },
   "outputs": [
    {
     "output_type": "stream",
     "name": "stdout",
     "text": [
      "WikipediaArticle\n",
      "vector\n"
     ]
    }
   ],
   "source": [
    "print(existing_index.node_label)\n",
    "print(existing_index.embedding_node_property)"
   ]
  },
  {
   "cell_type": "code",
   "execution_count": 15,
   "id": "30bae957-6e92-46fa-a67b-4e74f443d1f9",
   "metadata": {
    "colab": {
     "base_uri": "https://localhost:8080/"
    },
    "id": "30bae957-6e92-46fa-a67b-4e74f443d1f9",
    "outputId": "e70a0722-c52c-4f3e-b318-003c6bcee557"
   },
   "outputs": [
    {
     "output_type": "execute_result",
     "data": {
      "text/plain": [
       "['langchain']"
      ]
     },
     "metadata": {},
     "execution_count": 15
    }
   ],
   "source": [
    "existing_index.add_documents(\n",
    "    [\n",
    "        Document(\n",
    "            page_content=\"LangChain is the coolest library since the Library of Alexandria\"\n",
    "        )\n",
    "    ],\n",
    "    ids=[\"langchain\"],\n",
    ")"
   ]
  },
  {
   "cell_type": "code",
   "execution_count": 16,
   "id": "3e209802-0caf-497b-8a61-4619aaf3b85d",
   "metadata": {
    "colab": {
     "base_uri": "https://localhost:8080/"
    },
    "id": "3e209802-0caf-497b-8a61-4619aaf3b85d",
    "outputId": "a571ea81-6048-4b72-83fa-8006dcdd163b"
   },
   "outputs": [
    {
     "output_type": "execute_result",
     "data": {
      "text/plain": [
       "[Document(page_content='LangChain is the coolest library since the Library of Alexandria', metadata={})]"
      ]
     },
     "metadata": {},
     "execution_count": 16
    }
   ],
   "source": [
    "existing_index.similarity_search(\"What do you know about LangChain?\", k=1)"
   ]
  },
  {
   "cell_type": "code",
   "execution_count": 17,
   "id": "82adf310-3eea-4181-bfa1-6fd773b7c254",
   "metadata": {
    "colab": {
     "base_uri": "https://localhost:8080/"
    },
    "id": "82adf310-3eea-4181-bfa1-6fd773b7c254",
    "outputId": "dee9e432-65d4-4204-8f08-ac2bf6da2766"
   },
   "outputs": [
    {
     "output_type": "execute_result",
     "data": {
      "text/plain": [
       "[]"
      ]
     },
     "metadata": {},
     "execution_count": 17
    }
   ],
   "source": [
    "existing_index.query(\n",
    "    \"\"\"MATCH (w:WikipediaArticle {id:'langchain'})\n",
    "       MERGE (w)<-[:EDITED_BY]-(:Person {name:\"Tomaz\"})\n",
    "    \"\"\"\n",
    ")"
   ]
  },
  {
   "cell_type": "code",
   "execution_count": 18,
   "id": "0ee14d6b-745a-44cb-95ae-64f855ff6c2b",
   "metadata": {
    "id": "0ee14d6b-745a-44cb-95ae-64f855ff6c2b"
   },
   "outputs": [],
   "source": [
    "\"\"\"\n",
    "read_query = (\n",
    "    \"CALL db.index.vector.queryNodes($index, $k, $embedding) \"\n",
    "    \"YIELD node, score \"\n",
    ") + retrieval_query\n",
    "\"\"\"\n",
    "\n",
    "existing_index_return = Neo4jVector.from_existing_index(\n",
    "    OpenAIEmbeddings(),\n",
    "    url=url,\n",
    "    username=username,\n",
    "    password=password,\n",
    "    database=\"neo4j\",\n",
    "    index_name=\"wikipedia\",\n",
    "    text_node_property=\"info\",\n",
    "    retrieval_query=\"\"\"\n",
    "       OPTIONAL MATCH (node)<-[:EDITED_BY]-(p)\n",
    "       RETURN node.info AS text, score, {editors: collect(p.name)} AS metadata\n",
    "    \"\"\",\n",
    ")"
   ]
  },
  {
   "cell_type": "code",
   "execution_count": 19,
   "id": "f6f70333-2148-441a-a300-dfec69981451",
   "metadata": {
    "colab": {
     "base_uri": "https://localhost:8080/"
    },
    "id": "f6f70333-2148-441a-a300-dfec69981451",
    "outputId": "e2a6f671-d5b5-4480-b994-520d92336b63"
   },
   "outputs": [
    {
     "output_type": "execute_result",
     "data": {
      "text/plain": [
       "[Document(page_content='LangChain is the coolest library since the Library of Alexandria', metadata={'editors': ['Tomaz']})]"
      ]
     },
     "metadata": {},
     "execution_count": 19
    }
   ],
   "source": [
    "existing_index_return.similarity_search(\"What do you know about LangChain?\", k=1)"
   ]
  },
  {
   "cell_type": "code",
   "execution_count": null,
   "id": "483f76f1-e319-4f79-9600-532cb409ee13",
   "metadata": {
    "id": "483f76f1-e319-4f79-9600-532cb409ee13"
   },
   "outputs": [],
   "source": []
  }
 ],
 "metadata": {
  "kernelspec": {
   "display_name": "Python 3 (ipykernel)",
   "language": "python",
   "name": "python3"
  },
  "language_info": {
   "codemirror_mode": {
    "name": "ipython",
    "version": 3
   },
   "file_extension": ".py",
   "mimetype": "text/x-python",
   "name": "python",
   "nbconvert_exporter": "python",
   "pygments_lexer": "ipython3",
   "version": "3.11.4"
  },
  "colab": {
   "provenance": [],
   "include_colab_link": true
  }
 },
 "nbformat": 4,
 "nbformat_minor": 5
}