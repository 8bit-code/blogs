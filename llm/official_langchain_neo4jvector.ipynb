{
 "cells": [
  {
   "cell_type": "code",
   "execution_count": 1,
   "id": "ea7390e8-b3b6-449e-9819-9cbec935fbdf",
   "metadata": {},
   "outputs": [
    {
     "name": "stdout",
     "output_type": "stream",
     "text": [
      "Requirement already satisfied: langchain in /home/tomaz/anaconda3/envs/myenv/lib/python3.11/site-packages (0.0.273)\n",
      "Requirement already satisfied: openai in /home/tomaz/anaconda3/envs/myenv/lib/python3.11/site-packages (0.27.6)\n",
      "Requirement already satisfied: wikipedia in /home/tomaz/anaconda3/envs/myenv/lib/python3.11/site-packages (1.4.0)\n",
      "Requirement already satisfied: tiktoken in /home/tomaz/anaconda3/envs/myenv/lib/python3.11/site-packages (0.4.0)\n",
      "Requirement already satisfied: neo4j in /home/tomaz/anaconda3/envs/myenv/lib/python3.11/site-packages (5.11.0)\n",
      "Requirement already satisfied: PyYAML>=5.3 in /home/tomaz/anaconda3/envs/myenv/lib/python3.11/site-packages (from langchain) (6.0.1)\n",
      "Requirement already satisfied: SQLAlchemy<3,>=1.4 in /home/tomaz/anaconda3/envs/myenv/lib/python3.11/site-packages (from langchain) (2.0.20)\n",
      "Requirement already satisfied: aiohttp<4.0.0,>=3.8.3 in /home/tomaz/anaconda3/envs/myenv/lib/python3.11/site-packages (from langchain) (3.8.5)\n",
      "Requirement already satisfied: dataclasses-json<0.6.0,>=0.5.7 in /home/tomaz/anaconda3/envs/myenv/lib/python3.11/site-packages (from langchain) (0.5.9)\n",
      "Requirement already satisfied: langsmith<0.1.0,>=0.0.21 in /home/tomaz/anaconda3/envs/myenv/lib/python3.11/site-packages (from langchain) (0.0.25)\n",
      "Requirement already satisfied: numexpr<3.0.0,>=2.8.4 in /home/tomaz/anaconda3/envs/myenv/lib/python3.11/site-packages (from langchain) (2.8.5)\n",
      "Requirement already satisfied: numpy<2,>=1 in /home/tomaz/anaconda3/envs/myenv/lib/python3.11/site-packages (from langchain) (1.24.4)\n",
      "Requirement already satisfied: pydantic<3,>=1 in /home/tomaz/anaconda3/envs/myenv/lib/python3.11/site-packages (from langchain) (1.10.12)\n",
      "Requirement already satisfied: requests<3,>=2 in /home/tomaz/anaconda3/envs/myenv/lib/python3.11/site-packages (from langchain) (2.31.0)\n",
      "Requirement already satisfied: tenacity<9.0.0,>=8.1.0 in /home/tomaz/anaconda3/envs/myenv/lib/python3.11/site-packages (from langchain) (8.2.3)\n",
      "Requirement already satisfied: tqdm in /home/tomaz/anaconda3/envs/myenv/lib/python3.11/site-packages (from openai) (4.66.1)\n",
      "Requirement already satisfied: beautifulsoup4 in /home/tomaz/anaconda3/envs/myenv/lib/python3.11/site-packages (from wikipedia) (4.12.2)\n",
      "Requirement already satisfied: regex>=2022.1.18 in /home/tomaz/anaconda3/envs/myenv/lib/python3.11/site-packages (from tiktoken) (2023.8.8)\n",
      "Requirement already satisfied: pytz in /home/tomaz/anaconda3/envs/myenv/lib/python3.11/site-packages (from neo4j) (2023.3)\n",
      "Requirement already satisfied: attrs>=17.3.0 in /home/tomaz/anaconda3/envs/myenv/lib/python3.11/site-packages (from aiohttp<4.0.0,>=3.8.3->langchain) (23.1.0)\n",
      "Requirement already satisfied: charset-normalizer<4.0,>=2.0 in /home/tomaz/anaconda3/envs/myenv/lib/python3.11/site-packages (from aiohttp<4.0.0,>=3.8.3->langchain) (3.2.0)\n",
      "Requirement already satisfied: multidict<7.0,>=4.5 in /home/tomaz/anaconda3/envs/myenv/lib/python3.11/site-packages (from aiohttp<4.0.0,>=3.8.3->langchain) (6.0.4)\n",
      "Requirement already satisfied: async-timeout<5.0,>=4.0.0a3 in /home/tomaz/anaconda3/envs/myenv/lib/python3.11/site-packages (from aiohttp<4.0.0,>=3.8.3->langchain) (4.0.3)\n",
      "Requirement already satisfied: yarl<2.0,>=1.0 in /home/tomaz/anaconda3/envs/myenv/lib/python3.11/site-packages (from aiohttp<4.0.0,>=3.8.3->langchain) (1.9.2)\n",
      "Requirement already satisfied: frozenlist>=1.1.1 in /home/tomaz/anaconda3/envs/myenv/lib/python3.11/site-packages (from aiohttp<4.0.0,>=3.8.3->langchain) (1.4.0)\n",
      "Requirement already satisfied: aiosignal>=1.1.2 in /home/tomaz/anaconda3/envs/myenv/lib/python3.11/site-packages (from aiohttp<4.0.0,>=3.8.3->langchain) (1.3.1)\n",
      "Requirement already satisfied: marshmallow<4.0.0,>=3.3.0 in /home/tomaz/anaconda3/envs/myenv/lib/python3.11/site-packages (from dataclasses-json<0.6.0,>=0.5.7->langchain) (3.20.1)\n",
      "Requirement already satisfied: marshmallow-enum<2.0.0,>=1.5.1 in /home/tomaz/anaconda3/envs/myenv/lib/python3.11/site-packages (from dataclasses-json<0.6.0,>=0.5.7->langchain) (1.5.1)\n",
      "Requirement already satisfied: typing-inspect>=0.4.0 in /home/tomaz/anaconda3/envs/myenv/lib/python3.11/site-packages (from dataclasses-json<0.6.0,>=0.5.7->langchain) (0.9.0)\n",
      "Requirement already satisfied: typing-extensions>=4.2.0 in /home/tomaz/anaconda3/envs/myenv/lib/python3.11/site-packages (from pydantic<3,>=1->langchain) (4.7.1)\n",
      "Requirement already satisfied: idna<4,>=2.5 in /home/tomaz/anaconda3/envs/myenv/lib/python3.11/site-packages (from requests<3,>=2->langchain) (3.4)\n",
      "Requirement already satisfied: urllib3<3,>=1.21.1 in /home/tomaz/anaconda3/envs/myenv/lib/python3.11/site-packages (from requests<3,>=2->langchain) (2.0.4)\n",
      "Requirement already satisfied: certifi>=2017.4.17 in /home/tomaz/anaconda3/envs/myenv/lib/python3.11/site-packages (from requests<3,>=2->langchain) (2023.7.22)\n",
      "Requirement already satisfied: greenlet!=0.4.17 in /home/tomaz/anaconda3/envs/myenv/lib/python3.11/site-packages (from SQLAlchemy<3,>=1.4->langchain) (2.0.2)\n",
      "Requirement already satisfied: soupsieve>1.2 in /home/tomaz/anaconda3/envs/myenv/lib/python3.11/site-packages (from beautifulsoup4->wikipedia) (2.4.1)\n",
      "Requirement already satisfied: packaging>=17.0 in /home/tomaz/anaconda3/envs/myenv/lib/python3.11/site-packages (from marshmallow<4.0.0,>=3.3.0->dataclasses-json<0.6.0,>=0.5.7->langchain) (23.1)\n",
      "Requirement already satisfied: mypy-extensions>=0.3.0 in /home/tomaz/anaconda3/envs/myenv/lib/python3.11/site-packages (from typing-inspect>=0.4.0->dataclasses-json<0.6.0,>=0.5.7->langchain) (1.0.0)\n"
     ]
    }
   ],
   "source": [
    "!pip install langchain openai wikipedia tiktoken neo4j"
   ]
  },
  {
   "cell_type": "code",
   "execution_count": 2,
   "id": "e7e57380-e2a7-4dce-94a9-76f291c49e78",
   "metadata": {},
   "outputs": [],
   "source": [
    "import os\n",
    "\n",
    "from langchain.vectorstores.neo4j_vector import Neo4jVector\n",
    "from langchain.document_loaders import WikipediaLoader\n",
    "from langchain.embeddings.openai import OpenAIEmbeddings\n",
    "from langchain.text_splitter import CharacterTextSplitter\n",
    "\n",
    "os.environ['OPENAI_API_KEY'] = \"API_KEY\""
   ]
  },
  {
   "cell_type": "code",
   "execution_count": 3,
   "id": "bd210816-659c-4e99-80ed-ce17abd9e409",
   "metadata": {},
   "outputs": [
    {
     "name": "stderr",
     "output_type": "stream",
     "text": [
      "Created a chunk of size 1047, which is longer than the specified 1000\n",
      "Created a chunk of size 1221, which is longer than the specified 1000\n"
     ]
    }
   ],
   "source": [
    "raw_documents = WikipediaLoader(query=\"Leonhard Euler\").load()\n",
    "text_splitter = CharacterTextSplitter.from_tiktoken_encoder(\n",
    "    chunk_size=1000, chunk_overlap=20\n",
    ")\n",
    "documents = text_splitter.split_documents(raw_documents)"
   ]
  },
  {
   "cell_type": "code",
   "execution_count": 4,
   "id": "27c5d780-e0e4-413e-a437-3424d38a7cfd",
   "metadata": {},
   "outputs": [],
   "source": [
    "# Remove summary from metadata\n",
    "for d in documents:\n",
    "    del d.metadata['summary']"
   ]
  },
  {
   "cell_type": "code",
   "execution_count": 5,
   "id": "380059c2-4651-4773-a9e4-db5ad63cb06d",
   "metadata": {},
   "outputs": [],
   "source": [
    "# Neo4j Aura credentials\n",
    "url=\"neo4j+s://.databases.neo4j.io\"\n",
    "username=\"neo4j\"\n",
    "password=\"<insert password>\"\n",
    "\n",
    "db = Neo4jVector.from_documents(\n",
    "    documents,\n",
    "    OpenAIEmbeddings(),\n",
    "    url=url,\n",
    "    username=username,\n",
    "    password=password\n",
    ")"
   ]
  },
  {
   "cell_type": "code",
   "execution_count": 6,
   "id": "7d31a6a4-c4f9-4711-90c8-67d61dd7e7b5",
   "metadata": {},
   "outputs": [
    {
     "name": "stdout",
     "output_type": "stream",
     "text": [
      "== Early life ==\n",
      "Leonhard Euler was born on 15 April 1707, in Basel, Switzerland, to Paul III Euler, a pastor of the Reformed Church, and Marguerite (née Brucker), whose ancestors include a number of well-known scholars in the classics. He was the oldest of four children, having two younger sisters, Anna Maria and Maria Magdalena, and a younger brother, Johann Heinrich. Soon after the birth of Leonhard, the Euler family moved from Basel to the town of Riehen, Switzerland, where his father became pastor in the local church and Leonhard spent most of his childhood.From a young age, Euler received schooling in mathematics from his father\n"
     ]
    }
   ],
   "source": [
    "query = \"Where did Euler grow up?\"\n",
    "\n",
    "results = db.similarity_search(query, k=1)\n",
    "print(results[0].page_content)"
   ]
  },
  {
   "cell_type": "code",
   "execution_count": 7,
   "id": "9e7f27d1-cfb0-4b7b-8f7d-fb12465a17f9",
   "metadata": {},
   "outputs": [],
   "source": [
    "from langchain.chat_models import ChatOpenAI\n",
    "from langchain.chains import RetrievalQAWithSourcesChain\n",
    "\n",
    "chain = RetrievalQAWithSourcesChain.from_chain_type(\n",
    "    ChatOpenAI(temperature=0), chain_type=\"stuff\", retriever=db.as_retriever()\n",
    ")"
   ]
  },
  {
   "cell_type": "code",
   "execution_count": 8,
   "id": "abf2fd1f-ee15-468b-8d3d-d934e2697b21",
   "metadata": {},
   "outputs": [
    {
     "data": {
      "text/plain": [
       "{'answer': \"Euler is credited for popularizing mathematical notation and terminology, including the use of the letter e for the base of the natural logarithm, the Greek letter π to denote the ratio of a circle's circumference to its diameter, and the notation i to denote the imaginary unit. He also introduced the modern notation for functions and trigonometric functions. Additionally, Euler made important contributions to complex analysis and introduced scientific notation. He is widely recognized for his discoveries and contributions in various branches of mathematics. \\n\",\n",
       " 'sources': 'https://en.wikipedia.org/wiki/Contributions_of_Leonhard_Euler_to_mathematics, https://en.wikipedia.org/wiki/Leonhard_Euler'}"
      ]
     },
     "execution_count": 8,
     "metadata": {},
     "output_type": "execute_result"
    }
   ],
   "source": [
    "query = \"What is Euler credited for popularizing?\"\n",
    "\n",
    "chain(\n",
    "    {\"question\": query},\n",
    "    return_only_outputs=True,\n",
    ")"
   ]
  },
  {
   "cell_type": "code",
   "execution_count": 9,
   "id": "5dde9f1e-61a5-4b44-88c7-980c2b8cad86",
   "metadata": {},
   "outputs": [],
   "source": [
    "from langchain.chains import ConversationalRetrievalChain\n",
    "from langchain.memory import ConversationBufferMemory\n",
    "\n",
    "memory = ConversationBufferMemory(memory_key=\"chat_history\", return_messages=True)\n",
    "qa = ConversationalRetrievalChain.from_llm(\n",
    "    ChatOpenAI(temperature=0), db.as_retriever(), memory=memory)"
   ]
  },
  {
   "cell_type": "code",
   "execution_count": 10,
   "id": "f5cef351-611e-4ac9-8bfd-ad2c435fd44e",
   "metadata": {},
   "outputs": [
    {
     "name": "stdout",
     "output_type": "stream",
     "text": [
      "Euler is credited for popularizing several mathematical notations and concepts. Some of these include:\n",
      "\n",
      "1. The use of the Greek letter π (pi) to represent the ratio of a circle's circumference to its diameter.\n",
      "2. The notation f(x) to represent the value of a function.\n",
      "3. The use of the letter i to represent the imaginary unit (√-1).\n",
      "4. The use of the Greek letter Σ (sigma) to represent summations.\n",
      "5. The use of lowercase letters to represent the sides of a triangle and capital letters to represent the angles.\n",
      "6. The definition of the constant e, now known as Euler's number, which is the base of the natural logarithm.\n",
      "\n",
      "These contributions by Euler have had a lasting impact on the field of mathematics and are still widely used today.\n"
     ]
    }
   ],
   "source": [
    "print(qa({\"question\": \"What is Euler credited for popularizing?\"})[\"answer\"])"
   ]
  },
  {
   "cell_type": "code",
   "execution_count": 11,
   "id": "f8221df3-c2ae-4a43-9d55-a0e472d48d96",
   "metadata": {},
   "outputs": [
    {
     "name": "stdout",
     "output_type": "stream",
     "text": [
      "Euler grew up in the town of Riehen, Switzerland.\n"
     ]
    }
   ],
   "source": [
    "print(qa({\"question\": \"Where did he grow up?\"})[\"answer\"])"
   ]
  },
  {
   "cell_type": "code",
   "execution_count": null,
   "id": "7e9c944e-f356-4839-a30e-2cbd4cc46e4c",
   "metadata": {},
   "outputs": [],
   "source": []
  }
 ],
 "metadata": {
  "kernelspec": {
   "display_name": "Python 3 (ipykernel)",
   "language": "python",
   "name": "python3"
  },
  "language_info": {
   "codemirror_mode": {
    "name": "ipython",
    "version": 3
   },
   "file_extension": ".py",
   "mimetype": "text/x-python",
   "name": "python",
   "nbconvert_exporter": "python",
   "pygments_lexer": "ipython3",
   "version": "3.11.4"
  }
 },
 "nbformat": 4,
 "nbformat_minor": 5
}
