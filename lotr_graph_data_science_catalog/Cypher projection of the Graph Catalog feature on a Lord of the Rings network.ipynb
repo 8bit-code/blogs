{
 "cells": [
  {
   "cell_type": "code",
   "execution_count": 2,
   "metadata": {},
   "outputs": [],
   "source": [
    "# Define Neo4j connections\n",
    "from neo4j import GraphDatabase\n",
    "host = 'bolt://localhost:7687'\n",
    "user = 'neo4j'\n",
    "password = 'zeppelin'\n",
    "driver = GraphDatabase.driver(host,auth=(user, password))"
   ]
  },
  {
   "cell_type": "code",
   "execution_count": 3,
   "metadata": {},
   "outputs": [],
   "source": [
    "# Import libraries\n",
    "import pandas as pd\n",
    "\n",
    "def read_query(query):\n",
    "    with driver.session() as session:\n",
    "        result = session.run(query)\n",
    "        return pd.DataFrame([r.values() for r in result], columns=result.keys())\n",
    "    \n",
    "def run_query(query):\n",
    "    with driver.session() as session:\n",
    "        session.run(query)"
   ]
  },
  {
   "cell_type": "markdown",
   "metadata": {},
   "source": [
    "## Import\n",
    "\n",
    "I have used the GoT dataset more times than I can remember, so I decided to explore the internet and search for new exciting graphs. I stumbled upon this Lord of the Rings dataset made available by José Calvo that we will use in this blog post.\n",
    "\n",
    "The dataset describes interactions between persons, places, groups, and things (The Ring). When choosing how to model this dataset, I decided to have \"main\" nodes with two labels, primary label \"Node\" and secondary label one of the following:\n",
    "\n",
    "* Person\n",
    "* Place\n",
    "* Group\n",
    "* Thing"
   ]
  },
  {
   "cell_type": "code",
   "execution_count": 4,
   "metadata": {},
   "outputs": [],
   "source": [
    "# Import nodes\n",
    "import_nodes_query = \"\"\"\n",
    "\n",
    "LOAD CSV WITH HEADERS FROM \n",
    "\"https://raw.githubusercontent.com/morethanbooks/projects/master/LotR/ontologies/ontology.csv\" as row \n",
    "FIELDTERMINATOR \"\\t\" \n",
    "WITH row, CASE row.type WHEN 'per' THEN 'Person' \n",
    "                        WHEN 'gro' THEN 'Group' \n",
    "                        WHEN 'thin'THEN 'Thing' \n",
    "                        WHEN 'pla' THEN 'Place' \n",
    "                        END as label \n",
    "CALL apoc.create.nodes(['Node',label], [apoc.map.clean(row,['type','subtype'],[null,\"\"])]) YIELD node \n",
    "WITH node, row.subtype as class \n",
    "MERGE (c:Class{id:class}) \n",
    "MERGE (node)-[:PART_OF]->(c)\n",
    "\n",
    "\"\"\"\n",
    "\n",
    "run_query(import_nodes_query)"
   ]
  },
  {
   "cell_type": "code",
   "execution_count": 5,
   "metadata": {},
   "outputs": [],
   "source": [
    "# Import relationships\n",
    "import_relationships_query = \"\"\"\n",
    "\n",
    "UNWIND ['1','2','3'] as book \n",
    "LOAD CSV WITH HEADERS FROM \n",
    "\"https://raw.githubusercontent.com/morethanbooks/projects/master/LotR/tables/networks-id-volume\" + book + \".csv\" AS row \n",
    "MATCH (source:Node{id:coalesce(row.IdSource,row.Source)})\n",
    "MATCH (target:Node{id:coalesce(row.IdTarget,row.Target)})\n",
    "CALL apoc.create.relationship(source, \"INTERACTS_\" + book, \n",
    "     {weight:toInteger(row.Weight)}, target) YIELD rel\n",
    "RETURN distinct true\n",
    "\n",
    "\"\"\"\n",
    "\n",
    "run_query(import_relationships_query)"
   ]
  },
  {
   "cell_type": "markdown",
   "metadata": {},
   "source": [
    "## Graph data science\n",
    "\n",
    "### Cypher projection\n",
    "\n",
    "The general syntax to use cypher projection is:\n",
    "<pre>\n",
    "CALL gds.graph.create.cypher(\n",
    "    graphName: String,\n",
    "    nodeQuery: String,\n",
    "    relationshipQuery: String,\n",
    "    configuration: Map\n",
    ")\n",
    "</pre>\n",
    "Node query is a cypher statement used to describe the nodes we want to project. It must return the internal ids of the nodes and optionally any of their properties. Relationship query, on the other hand, describes the relationships we want to project. The cypher statement should return internal ids of source and target nodes of relationships, and optionally their type and any of their properties."
   ]
  },
  {
   "cell_type": "code",
   "execution_count": 6,
   "metadata": {},
   "outputs": [],
   "source": [
    "def drop_graph(name):\n",
    "    with driver.session() as session:\n",
    "        drop_graph_query = \"\"\"\n",
    "        CALL gds.graph.drop('{}');\n",
    "        \"\"\".format(name)\n",
    "        session.run(drop_graph_query)"
   ]
  },
  {
   "cell_type": "markdown",
   "metadata": {},
   "source": [
    "### Whole graph projection\n",
    "\n",
    "We will begin with a simple scenario and project the whole graph in memory. Adding the column type in the relationship query allows the data science engine to distinguish between relationship types, which in turn gives us an option to filter relationships when executing algorithms."
   ]
  },
  {
   "cell_type": "code",
   "execution_count": 9,
   "metadata": {},
   "outputs": [],
   "source": [
    "whole_graph = \"\"\"\n",
    "CALL gds.graph.create.cypher( 'whole-graph', \n",
    "    // nodeQuery \n",
    "    'MATCH (n) RETURN id(n) AS id', \n",
    "    // relationshipQuery 'MATCH (n)-[r]->(m) \n",
    "    'MATCH (n)-[r]->(m) RETURN id(n) AS source, id(m) AS target, type(r) as type')\n",
    "\"\"\"\n",
    "run_query(whole_graph);"
   ]
  },
  {
   "cell_type": "markdown",
   "metadata": {},
   "source": [
    "As in the previous blog post, we will start with the weakly connected components algorithm. It is used to examine how many islands or disconnected components are there in our graph, which will help us better understand results from other graph algorithms. Also, sometimes we might want to run other graph algorithms only on the largest connected component."
   ]
  },
  {
   "cell_type": "code",
   "execution_count": 11,
   "metadata": {},
   "outputs": [
    {
     "data": {
      "text/html": [
       "<div>\n",
       "<style scoped>\n",
       "    .dataframe tbody tr th:only-of-type {\n",
       "        vertical-align: middle;\n",
       "    }\n",
       "\n",
       "    .dataframe tbody tr th {\n",
       "        vertical-align: top;\n",
       "    }\n",
       "\n",
       "    .dataframe thead th {\n",
       "        text-align: right;\n",
       "    }\n",
       "</style>\n",
       "<table border=\"1\" class=\"dataframe\">\n",
       "  <thead>\n",
       "    <tr style=\"text-align: right;\">\n",
       "      <th></th>\n",
       "      <th>componentId</th>\n",
       "      <th>size</th>\n",
       "    </tr>\n",
       "  </thead>\n",
       "  <tbody>\n",
       "    <tr>\n",
       "      <th>0</th>\n",
       "      <td>0</td>\n",
       "      <td>86</td>\n",
       "    </tr>\n",
       "  </tbody>\n",
       "</table>\n",
       "</div>"
      ],
      "text/plain": [
       "   componentId  size\n",
       "0            0    86"
      ]
     },
     "execution_count": 11,
     "metadata": {},
     "output_type": "execute_result"
    }
   ],
   "source": [
    "wcc_whole = \"\"\"\n",
    "\n",
    "CALL gds.wcc.stream('whole-graph') \n",
    "YIELD nodeId, componentId \n",
    "RETURN componentId, count(*) as size \n",
    "ORDER BY size DESC LIMIT 10\n",
    "\n",
    "\"\"\"\n",
    "read_query(wcc_whole)"
   ]
  },
  {
   "cell_type": "markdown",
   "metadata": {},
   "source": [
    "As there is only one connected component in our graph, we don't have to worry about skewed results from other graph algorithms."
   ]
  },
  {
   "cell_type": "code",
   "execution_count": 13,
   "metadata": {},
   "outputs": [],
   "source": [
    "# Drop whole graph\n",
    "drop_graph('whole-graph')"
   ]
  },
  {
   "cell_type": "markdown",
   "metadata": {},
   "source": [
    "### Undirected weighted relationships graph\n",
    "\n",
    "Next, we are going to project an undirected weighted graph. Let's take a look at how does the native projection handle undirected relationships:\n",
    "\n",
    "* UNDIRECTED: each relationship is projected in both natural and reverse orientation\n",
    "\n",
    "To produce an undirected relationship with the cypher projection, we project a single relationship in both directions, effectively allowing the graph data science engine to traverse the relationship in both directions. Let's take a look at the following example to gain a better understanding. We create two nodes with a single relationship between them.\n",
    "\n",
    "<pre>\n",
    "CREATE (:Test)-[:REL]->(:Test);\n",
    "</pre>\n",
    "\n",
    "To project the relationship in both directions, we only have to omit the direction of the relationship in our <code>MATCH</code> statement and that's it. A tiny, but very important detail!\n",
    "\n",
    "<pre>\n",
    "MATCH (n:Test)-[r]-(m:Test)\n",
    "RETURN id(n) as source, id(m) as target;\n",
    "</pre>\n",
    "\n",
    "Results\n",
    "\n",
    "|source |\ttarget |\n",
    "|-------|----------|\n",
    "|1565   |\t1566   |\n",
    "|1566   |\t1565   |\n",
    "\n",
    "We will also demonstrate a favorable way to project multiple node labels using a UNION statement in the node query."
   ]
  },
  {
   "cell_type": "code",
   "execution_count": 14,
   "metadata": {},
   "outputs": [],
   "source": [
    "undirected_interacts_query = \"\"\"\n",
    "CALL gds.graph.create.cypher('undirected_interactions', \n",
    "    // nodeQuery \n",
    "    'MATCH (n:Person) RETURN id(n) AS id \n",
    "     UNION MATCH (n:Thing) \n",
    "     RETURN id(n) as id', \n",
    "    // relationshipQuery (notice no direction on relationship) \n",
    "    'MATCH (n)-[r:INTERACTS_1|:INTERACTS_2|:INTERACTS_3]-(m) \n",
    "     RETURN id(n) AS source, id(m) AS target, type(r) as type, r.weight as weight')\n",
    "\"\"\"\n",
    "run_query(undirected_interacts_query)"
   ]
  },
  {
   "cell_type": "markdown",
   "metadata": {},
   "source": [
    "### Random walk algorithm\n",
    "\n",
    "To stray away from the common graph algorithms like PageRank or Louvain, let's use the Random Walk algorithm. In essence, it mimics how a drunk person would traverse our graph. It is commonly used in the node2vec algorithms. We define Frodo as the start node and then walk five random steps twice."
   ]
  },
  {
   "cell_type": "code",
   "execution_count": 15,
   "metadata": {},
   "outputs": [
    {
     "data": {
      "text/html": [
       "<div>\n",
       "<style scoped>\n",
       "    .dataframe tbody tr th:only-of-type {\n",
       "        vertical-align: middle;\n",
       "    }\n",
       "\n",
       "    .dataframe tbody tr th {\n",
       "        vertical-align: top;\n",
       "    }\n",
       "\n",
       "    .dataframe thead th {\n",
       "        text-align: right;\n",
       "    }\n",
       "</style>\n",
       "<table border=\"1\" class=\"dataframe\">\n",
       "  <thead>\n",
       "    <tr style=\"text-align: right;\">\n",
       "      <th></th>\n",
       "      <th>result</th>\n",
       "    </tr>\n",
       "  </thead>\n",
       "  <tbody>\n",
       "    <tr>\n",
       "      <th>0</th>\n",
       "      <td>[Frodo, Gimli, Thráin, Gandalf, Celeborn, Arag...</td>\n",
       "    </tr>\n",
       "    <tr>\n",
       "      <th>1</th>\n",
       "      <td>[Frodo, Arathorn, Isildur, Boromir, Merry, Den...</td>\n",
       "    </tr>\n",
       "  </tbody>\n",
       "</table>\n",
       "</div>"
      ],
      "text/plain": [
       "                                              result\n",
       "0  [Frodo, Gimli, Thráin, Gandalf, Celeborn, Arag...\n",
       "1  [Frodo, Arathorn, Isildur, Boromir, Merry, Den..."
      ]
     },
     "execution_count": 15,
     "metadata": {},
     "output_type": "execute_result"
    }
   ],
   "source": [
    "random_walk = \"\"\"\n",
    "\n",
    "MATCH (n:Node{Label:'Frodo'})\n",
    "CALL gds.alpha.randomWalk.stream('undirected_interactions',\n",
    "    {start:id(n), steps:5, walks:2}) \n",
    "YIELD nodeIds \n",
    "RETURN [nodeId in nodeIds | gds.util.asNode(nodeId).Label] as result\n",
    "\n",
    "\"\"\"\n",
    "\n",
    "read_query(random_walk)"
   ]
  },
  {
   "cell_type": "markdown",
   "metadata": {},
   "source": [
    "You will get different results as it is a random walk algorithm after all.\n",
    "\n",
    "### Triangle count and clustering coefficient\n",
    "\n",
    "Another useful algorithm for analyzing social networks is Triangle Counting and Clustering Coefficient algorithm. A triangle composes of three nodes, where each node has a relationship to the other two. The clustering coefficient is a measure of the degree to which nodes in a graph tend to cluster together. This allows us to estimate how tightly-knit nodes in our graph are."
   ]
  },
  {
   "cell_type": "code",
   "execution_count": 16,
   "metadata": {},
   "outputs": [
    {
     "data": {
      "text/html": [
       "<div>\n",
       "<style scoped>\n",
       "    .dataframe tbody tr th:only-of-type {\n",
       "        vertical-align: middle;\n",
       "    }\n",
       "\n",
       "    .dataframe tbody tr th {\n",
       "        vertical-align: top;\n",
       "    }\n",
       "\n",
       "    .dataframe thead th {\n",
       "        text-align: right;\n",
       "    }\n",
       "</style>\n",
       "<table border=\"1\" class=\"dataframe\">\n",
       "  <thead>\n",
       "    <tr style=\"text-align: right;\">\n",
       "      <th></th>\n",
       "      <th>nodeCount</th>\n",
       "      <th>triangleCount</th>\n",
       "      <th>averageClusteringCoefficient</th>\n",
       "    </tr>\n",
       "  </thead>\n",
       "  <tbody>\n",
       "    <tr>\n",
       "      <th>0</th>\n",
       "      <td>44</td>\n",
       "      <td>803</td>\n",
       "      <td>0.542057</td>\n",
       "    </tr>\n",
       "  </tbody>\n",
       "</table>\n",
       "</div>"
      ],
      "text/plain": [
       "   nodeCount  triangleCount  averageClusteringCoefficient\n",
       "0         44            803                      0.542057"
      ]
     },
     "execution_count": 16,
     "metadata": {},
     "output_type": "execute_result"
    }
   ],
   "source": [
    "triangle_count = \"\"\"\n",
    "\n",
    "CALL gds.alpha.triangleCount.write('undirected_interactions', \n",
    "    {relationshipTypes:['INTERACTS_1'], writeProperty:'triangles', clusteringCoefficientProperty:'clustering'}) \n",
    "YIELD nodeCount, triangleCount, averageClusteringCoefficient\n",
    "\n",
    "\"\"\"\n",
    "\n",
    "read_query(triangle_count)"
   ]
  },
  {
   "cell_type": "markdown",
   "metadata": {},
   "source": [
    "The global or average clustering coefficient is 0.54, which means that the persons in our graph are quite tightly-knit. We can also look at individuals and their local clustering coefficients."
   ]
  },
  {
   "cell_type": "code",
   "execution_count": 17,
   "metadata": {},
   "outputs": [
    {
     "data": {
      "text/html": [
       "<div>\n",
       "<style scoped>\n",
       "    .dataframe tbody tr th:only-of-type {\n",
       "        vertical-align: middle;\n",
       "    }\n",
       "\n",
       "    .dataframe tbody tr th {\n",
       "        vertical-align: top;\n",
       "    }\n",
       "\n",
       "    .dataframe thead th {\n",
       "        text-align: right;\n",
       "    }\n",
       "</style>\n",
       "<table border=\"1\" class=\"dataframe\">\n",
       "  <thead>\n",
       "    <tr style=\"text-align: right;\">\n",
       "      <th></th>\n",
       "      <th>person</th>\n",
       "      <th>coefficient</th>\n",
       "      <th>triangles</th>\n",
       "    </tr>\n",
       "  </thead>\n",
       "  <tbody>\n",
       "    <tr>\n",
       "      <th>0</th>\n",
       "      <td>Thráin</td>\n",
       "      <td>1.000000</td>\n",
       "      <td>6</td>\n",
       "    </tr>\n",
       "    <tr>\n",
       "      <th>1</th>\n",
       "      <td>Treebeard</td>\n",
       "      <td>1.000000</td>\n",
       "      <td>1</td>\n",
       "    </tr>\n",
       "    <tr>\n",
       "      <th>2</th>\n",
       "      <td>Goldberry</td>\n",
       "      <td>1.000000</td>\n",
       "      <td>3</td>\n",
       "    </tr>\n",
       "    <tr>\n",
       "      <th>3</th>\n",
       "      <td>Gildor</td>\n",
       "      <td>0.933333</td>\n",
       "      <td>14</td>\n",
       "    </tr>\n",
       "    <tr>\n",
       "      <th>4</th>\n",
       "      <td>Bill</td>\n",
       "      <td>0.857143</td>\n",
       "      <td>24</td>\n",
       "    </tr>\n",
       "  </tbody>\n",
       "</table>\n",
       "</div>"
      ],
      "text/plain": [
       "      person  coefficient  triangles\n",
       "0     Thráin     1.000000          6\n",
       "1  Treebeard     1.000000          1\n",
       "2  Goldberry     1.000000          3\n",
       "3     Gildor     0.933333         14\n",
       "4       Bill     0.857143         24"
      ]
     },
     "execution_count": 17,
     "metadata": {},
     "output_type": "execute_result"
    }
   ],
   "source": [
    "local_clustering = \"\"\"\n",
    "\n",
    "MATCH (p:Person) \n",
    "RETURN p.Label as person,\n",
    "       p.clustering as coefficient,\n",
    "       p.triangles as triangles \n",
    "ORDER BY coefficient DESC LIMIT 5\n",
    "\n",
    "\"\"\"\n",
    "\n",
    "read_query(local_clustering)"
   ]
  },
  {
   "cell_type": "code",
   "execution_count": 18,
   "metadata": {},
   "outputs": [],
   "source": [
    "drop_graph('undirected_interactions')"
   ]
  },
  {
   "cell_type": "markdown",
   "metadata": {},
   "source": [
    "### Categorical PageRank\n",
    "\n",
    "Up until this point, all the above graph analysis could be done with the native projection. Cypher projection can project graphs that exist only at query time or when we want to use more advanced filtering than just node labels or relationship types. \n",
    "\n",
    "Categorical PageRank is a concept first introduced by Kenny Bastani in his blog post. I have also written a blog post about it using the Graph algorithms library. Now it is time to demonstrate it with the Graph Data Science library as well.\n",
    "\n",
    "The idea behind it is pretty simple. As shown in the example above we have a graph of pages that have links between each other and might also belong to one or more categories. To better understand the global pagerank score of nodes in a network, we can breakdown our graph into several subgraphs, one for each category and execute the pagerank algorithm on each of that subgraphs. We store results as a relationship property between category and pages. This way we can break down which are the contributing categories to page’s global pagerank score.\n",
    "\n",
    "We will start by assuming that each interaction is a positive endorsement(I know it's actually not, but let's pretend). We will breakdown our graph into several subgraphs by the class(men, elves), that the characters belong to. For example, when calculating pagerank for the category of men, all nodes will be considered, but only relationships that come from characters that belong to the class of men will be considered."
   ]
  },
  {
   "cell_type": "code",
   "execution_count": 19,
   "metadata": {},
   "outputs": [],
   "source": [
    "categorical_graph = \"\"\"\n",
    "\n",
    "CALL gds.graph.create.cypher( 'categorical_men', \n",
    "    // nodeQuery \n",
    "    'MATCH (n:Person) RETURN id(n) AS id \n",
    "     UNION \n",
    "    MATCH (n:Thing) RETURN id(n) as id',\n",
    "    // relationshipQuery \n",
    "    'MATCH (c:Class)<-[:PART_OF]-(n)-[r:INTERACTS_1|:INTERACTS_2|:INTERACTS_3]-(m) \n",
    "    // Use the parameter\n",
    "    WHERE c.id = $class \n",
    "    RETURN id(n) AS source, id(m) AS target, r.weight as weight,type(r) as type', \n",
    "    {parameters: { class: 'men' }})\n",
    "\n",
    "\"\"\"\n",
    "\n",
    "run_query(categorical_graph)"
   ]
  },
  {
   "cell_type": "markdown",
   "metadata": {},
   "source": [
    "Let us now run the weighted pageRank on this graph."
   ]
  },
  {
   "cell_type": "code",
   "execution_count": 20,
   "metadata": {},
   "outputs": [
    {
     "data": {
      "text/html": [
       "<div>\n",
       "<style scoped>\n",
       "    .dataframe tbody tr th:only-of-type {\n",
       "        vertical-align: middle;\n",
       "    }\n",
       "\n",
       "    .dataframe tbody tr th {\n",
       "        vertical-align: top;\n",
       "    }\n",
       "\n",
       "    .dataframe thead th {\n",
       "        text-align: right;\n",
       "    }\n",
       "</style>\n",
       "<table border=\"1\" class=\"dataframe\">\n",
       "  <thead>\n",
       "    <tr style=\"text-align: right;\">\n",
       "      <th></th>\n",
       "      <th>name</th>\n",
       "      <th>score</th>\n",
       "    </tr>\n",
       "  </thead>\n",
       "  <tbody>\n",
       "    <tr>\n",
       "      <th>0</th>\n",
       "      <td>Gandalf</td>\n",
       "      <td>0.490396</td>\n",
       "    </tr>\n",
       "    <tr>\n",
       "      <th>1</th>\n",
       "      <td>Aragorn</td>\n",
       "      <td>0.472205</td>\n",
       "    </tr>\n",
       "    <tr>\n",
       "      <th>2</th>\n",
       "      <td>Frodo</td>\n",
       "      <td>0.321637</td>\n",
       "    </tr>\n",
       "    <tr>\n",
       "      <th>3</th>\n",
       "      <td>Pippin</td>\n",
       "      <td>0.311533</td>\n",
       "    </tr>\n",
       "    <tr>\n",
       "      <th>4</th>\n",
       "      <td>Théoden</td>\n",
       "      <td>0.307829</td>\n",
       "    </tr>\n",
       "  </tbody>\n",
       "</table>\n",
       "</div>"
      ],
      "text/plain": [
       "      name     score\n",
       "0  Gandalf  0.490396\n",
       "1  Aragorn  0.472205\n",
       "2    Frodo  0.321637\n",
       "3   Pippin  0.311533\n",
       "4  Théoden  0.307829"
      ]
     },
     "execution_count": 20,
     "metadata": {},
     "output_type": "execute_result"
    }
   ],
   "source": [
    "weighted_pagerank = \"\"\"\n",
    "\n",
    "CALL gds.pageRank.stream('categorical_men',\n",
    "    {relationshipWeightProperty:'weight'})\n",
    "YIELD nodeId, score \n",
    "RETURN gds.util.asNode(nodeId).Label as name, score \n",
    "ORDER BY score DESC LIMIT 5\n",
    "\n",
    "\"\"\"\n",
    "\n",
    "read_query(weighted_pagerank)"
   ]
  },
  {
   "cell_type": "markdown",
   "metadata": {},
   "source": [
    "#### Weighted pagerank\n",
    "To let know the algorithm that it should take relationship weights into account, we need to use relationshipWeightProperty parameter."
   ]
  },
  {
   "cell_type": "code",
   "execution_count": 16,
   "metadata": {},
   "outputs": [
    {
     "data": {
      "text/html": [
       "<div>\n",
       "<style scoped>\n",
       "    .dataframe tbody tr th:only-of-type {\n",
       "        vertical-align: middle;\n",
       "    }\n",
       "\n",
       "    .dataframe tbody tr th {\n",
       "        vertical-align: top;\n",
       "    }\n",
       "\n",
       "    .dataframe thead th {\n",
       "        text-align: right;\n",
       "    }\n",
       "</style>\n",
       "<table border=\"1\" class=\"dataframe\">\n",
       "  <thead>\n",
       "    <tr style=\"text-align: right;\">\n",
       "      <th></th>\n",
       "      <th>name</th>\n",
       "      <th>score</th>\n",
       "    </tr>\n",
       "  </thead>\n",
       "  <tbody>\n",
       "    <tr>\n",
       "      <th>0</th>\n",
       "      <td>Frodo</td>\n",
       "      <td>5.101857</td>\n",
       "    </tr>\n",
       "    <tr>\n",
       "      <th>1</th>\n",
       "      <td>Gandalf</td>\n",
       "      <td>3.757264</td>\n",
       "    </tr>\n",
       "    <tr>\n",
       "      <th>2</th>\n",
       "      <td>Sam</td>\n",
       "      <td>3.470734</td>\n",
       "    </tr>\n",
       "    <tr>\n",
       "      <th>3</th>\n",
       "      <td>Aragorn</td>\n",
       "      <td>3.246119</td>\n",
       "    </tr>\n",
       "    <tr>\n",
       "      <th>4</th>\n",
       "      <td>Pippin</td>\n",
       "      <td>2.355584</td>\n",
       "    </tr>\n",
       "  </tbody>\n",
       "</table>\n",
       "</div>"
      ],
      "text/plain": [
       "      name     score\n",
       "0    Frodo  5.101857\n",
       "1  Gandalf  3.757264\n",
       "2      Sam  3.470734\n",
       "3  Aragorn  3.246119\n",
       "4   Pippin  2.355584"
      ]
     },
     "execution_count": 16,
     "metadata": {},
     "output_type": "execute_result"
    }
   ],
   "source": [
    "weigted_pagerank = \"\"\"\n",
    "\n",
    "CALL gds.pageRank.stream('undirected_weighted', {relationshipWeightProperty:'weight'}) \n",
    "YIELD nodeId, score \n",
    "RETURN gds.util.asNode(nodeId).Label as name, score \n",
    "ORDER BY score DESC LIMIT 5\n",
    "\n",
    "\"\"\"\n",
    "\n",
    "read_query(weigted_pagerank)"
   ]
  },
  {
   "cell_type": "markdown",
   "metadata": {},
   "source": [
    "Gandalf comes out on top, with Aragorn following very closely in the second place. I am wondering if Aragorn has the most support from men in the third book, as he becomes their king at the end."
   ]
  },
  {
   "cell_type": "code",
   "execution_count": 21,
   "metadata": {},
   "outputs": [
    {
     "data": {
      "text/html": [
       "<div>\n",
       "<style scoped>\n",
       "    .dataframe tbody tr th:only-of-type {\n",
       "        vertical-align: middle;\n",
       "    }\n",
       "\n",
       "    .dataframe tbody tr th {\n",
       "        vertical-align: top;\n",
       "    }\n",
       "\n",
       "    .dataframe thead th {\n",
       "        text-align: right;\n",
       "    }\n",
       "</style>\n",
       "<table border=\"1\" class=\"dataframe\">\n",
       "  <thead>\n",
       "    <tr style=\"text-align: right;\">\n",
       "      <th></th>\n",
       "      <th>name</th>\n",
       "      <th>score</th>\n",
       "    </tr>\n",
       "  </thead>\n",
       "  <tbody>\n",
       "    <tr>\n",
       "      <th>0</th>\n",
       "      <td>Aragorn</td>\n",
       "      <td>0.517452</td>\n",
       "    </tr>\n",
       "    <tr>\n",
       "      <th>1</th>\n",
       "      <td>Gandalf</td>\n",
       "      <td>0.462588</td>\n",
       "    </tr>\n",
       "    <tr>\n",
       "      <th>2</th>\n",
       "      <td>Pippin</td>\n",
       "      <td>0.423120</td>\n",
       "    </tr>\n",
       "    <tr>\n",
       "      <th>3</th>\n",
       "      <td>Faramir</td>\n",
       "      <td>0.397746</td>\n",
       "    </tr>\n",
       "    <tr>\n",
       "      <th>4</th>\n",
       "      <td>Éomer</td>\n",
       "      <td>0.367025</td>\n",
       "    </tr>\n",
       "  </tbody>\n",
       "</table>\n",
       "</div>"
      ],
      "text/plain": [
       "      name     score\n",
       "0  Aragorn  0.517452\n",
       "1  Gandalf  0.462588\n",
       "2   Pippin  0.423120\n",
       "3  Faramir  0.397746\n",
       "4    Éomer  0.367025"
      ]
     },
     "execution_count": 21,
     "metadata": {},
     "output_type": "execute_result"
    }
   ],
   "source": [
    "weighted_pagerank_third_book = \"\"\"\n",
    "\n",
    "CALL gds.pageRank.stream('categorical_men', \n",
    "    {relationshipTypes:['INTERACTS_3'],\n",
    "     relationshipWeightProperty:'weight'})\n",
    "YIELD nodeId, score \n",
    "RETURN gds.util.asNode(nodeId).Label as name, score \n",
    "ORDER BY score DESC LIMIT 5\n",
    "\n",
    "\"\"\"\n",
    "\n",
    "read_query(weighted_pagerank_third_book)"
   ]
  },
  {
   "cell_type": "markdown",
   "metadata": {},
   "source": [
    "As predicted, Aragorn takes the lead. Frodo is no longer on the list as he is quite isolated from everybody in the third book and walks alone with Sam to Mount Doom. To be honest, if you have Sam by your side, you are never lonely though."
   ]
  },
  {
   "cell_type": "code",
   "execution_count": 22,
   "metadata": {},
   "outputs": [],
   "source": [
    "drop_graph('categorical_men')"
   ]
  },
  {
   "cell_type": "markdown",
   "metadata": {},
   "source": [
    "### Virtual categorical graph\n",
    "\n",
    "We have only looked at the class of men and calculated the categorical pagerank for that specific subgraph. It would be very time consuming if we projected a subgraph for each class separately. That is why we will project a subgraph for each class in a single named graph using virtual relationship types. In the relationship query we have the option to return whatever we feel like as the column type. We will return the original relationship type combined with the class of the person to create virtual relationship types. This will allow us to calculate the categorical pagerank for each class."
   ]
  },
  {
   "cell_type": "code",
   "execution_count": 24,
   "metadata": {},
   "outputs": [],
   "source": [
    "virtual_graph = \"\"\"\n",
    "\n",
    "CALL gds.graph.create.cypher('categorical_virtual',\n",
    "    'MATCH (n:Person) RETURN id(n) AS id \n",
    "     UNION MATCH (n:Thing) \n",
    "     RETURN id(n) as id', \n",
    "    'MATCH (c:Class)<-[:PART_OF]-(n)-[r:INTERACTS_1|:INTERACTS_2|:INTERACTS_3]-(m) \n",
    "     RETURN id(n) AS source, id(m) AS target, type(r) + c.id as type, r.weight as weight')\n",
    "\n",
    "\"\"\"\n",
    "\n",
    "run_query(virtual_graph)"
   ]
  },
  {
   "cell_type": "markdown",
   "metadata": {},
   "source": [
    "We can now calculate the categorical pagerank for the class of elves."
   ]
  },
  {
   "cell_type": "code",
   "execution_count": 25,
   "metadata": {},
   "outputs": [
    {
     "data": {
      "text/html": [
       "<div>\n",
       "<style scoped>\n",
       "    .dataframe tbody tr th:only-of-type {\n",
       "        vertical-align: middle;\n",
       "    }\n",
       "\n",
       "    .dataframe tbody tr th {\n",
       "        vertical-align: top;\n",
       "    }\n",
       "\n",
       "    .dataframe thead th {\n",
       "        text-align: right;\n",
       "    }\n",
       "</style>\n",
       "<table border=\"1\" class=\"dataframe\">\n",
       "  <thead>\n",
       "    <tr style=\"text-align: right;\">\n",
       "      <th></th>\n",
       "      <th>name</th>\n",
       "      <th>score</th>\n",
       "    </tr>\n",
       "  </thead>\n",
       "  <tbody>\n",
       "    <tr>\n",
       "      <th>0</th>\n",
       "      <td>Frodo</td>\n",
       "      <td>0.353865</td>\n",
       "    </tr>\n",
       "    <tr>\n",
       "      <th>1</th>\n",
       "      <td>Aragorn</td>\n",
       "      <td>0.316407</td>\n",
       "    </tr>\n",
       "    <tr>\n",
       "      <th>2</th>\n",
       "      <td>Gandalf</td>\n",
       "      <td>0.251720</td>\n",
       "    </tr>\n",
       "    <tr>\n",
       "      <th>3</th>\n",
       "      <td>Elrond</td>\n",
       "      <td>0.250256</td>\n",
       "    </tr>\n",
       "    <tr>\n",
       "      <th>4</th>\n",
       "      <td>Galadriel</td>\n",
       "      <td>0.240393</td>\n",
       "    </tr>\n",
       "  </tbody>\n",
       "</table>\n",
       "</div>"
      ],
      "text/plain": [
       "        name     score\n",
       "0      Frodo  0.353865\n",
       "1    Aragorn  0.316407\n",
       "2    Gandalf  0.251720\n",
       "3     Elrond  0.250256\n",
       "4  Galadriel  0.240393"
      ]
     },
     "execution_count": 25,
     "metadata": {},
     "output_type": "execute_result"
    }
   ],
   "source": [
    "categorical_elves = \"\"\"\n",
    "\n",
    "CALL gds.pageRank.stream('categorical_virtual',\n",
    "    {relationshipTypes:['INTERACTS_1elves','INTERACTS_2elves','INTERACTS_3elves'],\n",
    "     relationshipWeightProperty:'weight'})\n",
    "YIELD nodeId, score\n",
    "RETURN gds.util.asNode(nodeId).Label as name, score\n",
    "ORDER BY score DESC LIMIT 5\n",
    "\n",
    "\"\"\"\n",
    "\n",
    "read_query(categorical_elves)"
   ]
  },
  {
   "cell_type": "markdown",
   "metadata": {},
   "source": [
    "If we want to calculate categorical pagerank for each class and store the results, we can use the same approach as in the original blog post, where we store the results in the relationship between a class and a person."
   ]
  },
  {
   "cell_type": "code",
   "execution_count": 26,
   "metadata": {},
   "outputs": [],
   "source": [
    "store_categorical = \"\"\"\n",
    "\n",
    "MATCH (c:Class) \n",
    "CALL gds.pageRank.stream('categorical_virtual',\n",
    "    {relationshipTypes:['INTERACTS_1'+c.id,'INTERACTS_2'+c.id,'INTERACTS_3'+c.id],\n",
    "     relationshipWeightProperty:'weight'})\n",
    "YIELD nodeId, score \n",
    "WITH c, gds.util.asNode(nodeId) as node, score \n",
    "WHERE score > 0.151 \n",
    "CREATE (c)-[:PAGERANK{score:score}]->(node)\n",
    "\n",
    "\"\"\"\n",
    "\n",
    "run_query(store_categorical)"
   ]
  },
  {
   "cell_type": "markdown",
   "metadata": {},
   "source": [
    "We can now get the top three members for each class based on their categorical pagerank score."
   ]
  },
  {
   "cell_type": "code",
   "execution_count": 27,
   "metadata": {},
   "outputs": [
    {
     "data": {
      "text/html": [
       "<div>\n",
       "<style scoped>\n",
       "    .dataframe tbody tr th:only-of-type {\n",
       "        vertical-align: middle;\n",
       "    }\n",
       "\n",
       "    .dataframe tbody tr th {\n",
       "        vertical-align: top;\n",
       "    }\n",
       "\n",
       "    .dataframe thead th {\n",
       "        text-align: right;\n",
       "    }\n",
       "</style>\n",
       "<table border=\"1\" class=\"dataframe\">\n",
       "  <thead>\n",
       "    <tr style=\"text-align: right;\">\n",
       "      <th></th>\n",
       "      <th>class</th>\n",
       "      <th>top_3_members</th>\n",
       "    </tr>\n",
       "  </thead>\n",
       "  <tbody>\n",
       "    <tr>\n",
       "      <th>0</th>\n",
       "      <td>hobbit</td>\n",
       "      <td>[Frodo, Sam, Gandalf]</td>\n",
       "    </tr>\n",
       "    <tr>\n",
       "      <th>1</th>\n",
       "      <td>men</td>\n",
       "      <td>[Gandalf, Aragorn, Frodo]</td>\n",
       "    </tr>\n",
       "    <tr>\n",
       "      <th>2</th>\n",
       "      <td>elves</td>\n",
       "      <td>[Frodo, Aragorn, Gandalf]</td>\n",
       "    </tr>\n",
       "    <tr>\n",
       "      <th>3</th>\n",
       "      <td>dwarf</td>\n",
       "      <td>[Gandalf, Gimli, Legolas]</td>\n",
       "    </tr>\n",
       "    <tr>\n",
       "      <th>4</th>\n",
       "      <td>ainur</td>\n",
       "      <td>[Frodo, Bombadil, Gandalf]</td>\n",
       "    </tr>\n",
       "    <tr>\n",
       "      <th>5</th>\n",
       "      <td>animal</td>\n",
       "      <td>[Sam, Gandalf, Frodo]</td>\n",
       "    </tr>\n",
       "    <tr>\n",
       "      <th>6</th>\n",
       "      <td>orcs</td>\n",
       "      <td>[Sam, Frodo, Shelob]</td>\n",
       "    </tr>\n",
       "    <tr>\n",
       "      <th>7</th>\n",
       "      <td>thing</td>\n",
       "      <td>[Frodo, Gandalf, Sam]</td>\n",
       "    </tr>\n",
       "    <tr>\n",
       "      <th>8</th>\n",
       "      <td>ents</td>\n",
       "      <td>[Gandalf, Merry, Pippin]</td>\n",
       "    </tr>\n",
       "  </tbody>\n",
       "</table>\n",
       "</div>"
      ],
      "text/plain": [
       "    class               top_3_members\n",
       "0  hobbit       [Frodo, Sam, Gandalf]\n",
       "1     men   [Gandalf, Aragorn, Frodo]\n",
       "2   elves   [Frodo, Aragorn, Gandalf]\n",
       "3   dwarf   [Gandalf, Gimli, Legolas]\n",
       "4   ainur  [Frodo, Bombadil, Gandalf]\n",
       "5  animal       [Sam, Gandalf, Frodo]\n",
       "6    orcs        [Sam, Frodo, Shelob]\n",
       "7   thing       [Frodo, Gandalf, Sam]\n",
       "8    ents    [Gandalf, Merry, Pippin]"
      ]
     },
     "execution_count": 27,
     "metadata": {},
     "output_type": "execute_result"
    }
   ],
   "source": [
    "top3_by_category = \"\"\"\n",
    "\n",
    "MATCH (c:Class)-[s:PAGERANK]->(p:Person)\n",
    "WITH c, p, s.score as pagerank \n",
    "ORDER BY pagerank DESC \n",
    "RETURN c.id as class,\n",
    "       collect(p.Label)[..3] as top_3_members\n",
    "\n",
    "\"\"\"\n",
    "\n",
    "read_query(top3_by_category)"
   ]
  },
  {
   "cell_type": "code",
   "execution_count": null,
   "metadata": {},
   "outputs": [],
   "source": []
  }
 ],
 "metadata": {
  "kernelspec": {
   "display_name": "Python 3",
   "language": "python",
   "name": "python3"
  },
  "language_info": {
   "codemirror_mode": {
    "name": "ipython",
    "version": 3
   },
   "file_extension": ".py",
   "mimetype": "text/x-python",
   "name": "python",
   "nbconvert_exporter": "python",
   "pygments_lexer": "ipython3",
   "version": "3.5.2"
  }
 },
 "nbformat": 4,
 "nbformat_minor": 2
}
