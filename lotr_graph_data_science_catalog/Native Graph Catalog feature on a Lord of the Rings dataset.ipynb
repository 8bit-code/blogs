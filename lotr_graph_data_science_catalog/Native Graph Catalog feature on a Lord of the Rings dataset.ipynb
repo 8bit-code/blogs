{
 "cells": [
  {
   "cell_type": "code",
   "execution_count": 1,
   "metadata": {},
   "outputs": [],
   "source": [
    "# Define Neo4j connections\n",
    "from neo4j import GraphDatabase\n",
    "host = 'bolt://localhost:7687'\n",
    "user = 'neo4j'\n",
    "password = 'zeppelin'\n",
    "driver = GraphDatabase.driver(host,auth=(user, password))"
   ]
  },
  {
   "cell_type": "code",
   "execution_count": 2,
   "metadata": {},
   "outputs": [],
   "source": [
    "# Import libraries\n",
    "import pandas as pd\n",
    "\n",
    "def read_query(query):\n",
    "    with driver.session() as session:\n",
    "        result = session.run(query)\n",
    "        return pd.DataFrame([r.values() for r in result], columns=result.keys())\n",
    "    \n",
    "def run_query(query):\n",
    "    with driver.session() as session:\n",
    "        session.run(query)"
   ]
  },
  {
   "cell_type": "markdown",
   "metadata": {},
   "source": [
    "## Import\n",
    "\n",
    "I have used the GoT dataset more times than I can remember, so I decided to explore the internet and search for new exciting graphs. I stumbled upon this Lord of the Rings dataset made available by José Calvo that we will use in this blog post.\n",
    "\n",
    "The dataset describes interactions between persons, places, groups, and things (The Ring). When choosing how to model this dataset, I decided to have \"main\" nodes with two labels, primary label \"Node\" and secondary label one of the following:\n",
    "\n",
    "* Person\n",
    "* Place\n",
    "* Group\n",
    "* Thing"
   ]
  },
  {
   "cell_type": "code",
   "execution_count": 3,
   "metadata": {},
   "outputs": [],
   "source": [
    "# Import nodes\n",
    "import_nodes_query = \"\"\"\n",
    "\n",
    "LOAD CSV WITH HEADERS FROM \n",
    "\"https://raw.githubusercontent.com/morethanbooks/projects/master/LotR/ontologies/ontology.csv\" as row \n",
    "FIELDTERMINATOR \"\\t\" \n",
    "WITH row, CASE row.type WHEN 'per' THEN 'Person' \n",
    "                        WHEN 'gro' THEN 'Group' \n",
    "                        WHEN 'thin'THEN 'Thing' \n",
    "                        WHEN 'pla' THEN 'Place' \n",
    "                        END as label \n",
    "CALL apoc.create.nodes(['Node',label], [apoc.map.clean(row,['type','subtype'],[null,\"\"])]) YIELD node \n",
    "WITH node, row.subtype as class \n",
    "MERGE (c:Class{id:class}) \n",
    "MERGE (node)-[:PART_OF]->(c)\n",
    "\n",
    "\"\"\"\n",
    "\n",
    "run_query(import_nodes_query)"
   ]
  },
  {
   "cell_type": "code",
   "execution_count": 4,
   "metadata": {},
   "outputs": [],
   "source": [
    "# Import relationships\n",
    "import_relationships_query = \"\"\"\n",
    "\n",
    "UNWIND ['1','2','3'] as book \n",
    "LOAD CSV WITH HEADERS FROM \n",
    "\"https://raw.githubusercontent.com/morethanbooks/projects/master/LotR/tables/networks-id-volume\" + book + \".csv\" AS row \n",
    "MATCH (source:Node{id:coalesce(row.IdSource,row.Source)})\n",
    "MATCH (target:Node{id:coalesce(row.IdTarget,row.Target)})\n",
    "CALL apoc.create.relationship(source, \"INTERACTS_\" + book, \n",
    "     {weight:toInteger(row.Weight)}, target) YIELD rel\n",
    "RETURN distinct true\n",
    "\n",
    "\"\"\"\n",
    "\n",
    "run_query(import_relationships_query)"
   ]
  },
  {
   "cell_type": "markdown",
   "metadata": {},
   "source": [
    "## Graph data science\n",
    "\n",
    "The syntax for creating named graphs in Graph Catalog is:\n",
    "\n",
    "\n",
    "<code>CALL gds.graph.create(graph name, node label, relationship type).</code>\n",
    "\n",
    "\n",
    "Describing nodes we want to project\n",
    "\n",
    "In general, with the native projection variant, there are three options to describe the nodes we want to project into memory:\n",
    "\n",
    "* Project a single node label using a string:\n",
    "    * 'Label' ('*' is a wildcard operator that projects all nodes)\n",
    "* Project multiple node labels using an array:\n",
    "    * ['Label1', 'Label2', 'Label3']\n",
    "* Project multiple node labels with their properties using a configuration map:\n",
    "    * <pre>{\n",
    "  Label: {\n",
    "    label: \"Label\",\n",
    "    properties: [\n",
    "      \"property1\",\n",
    "      \"property2\"\n",
    "    ]\n",
    "  },\n",
    "  Label2: {\n",
    "    label: \"Label2\",\n",
    "    properties: [\n",
    "      \"foo\",\n",
    "      \"bar\"\n",
    "    ]\n",
    "  }\n",
    "}</pre>\n",
    "\n",
    "An important thing to note regarding projecting node labels:\n",
    "\n",
    ">In the in-memory graph, all projected node labels are merged into a single label. Unlike for relationship >projections, it is currently not possible to specify a filter on projected labels. If the graph is used as input >for an algorithm, all nodes will be considered.\n",
    "\n",
    "While we can filter which node labels we want to project to the in-memory graph, additional filtering of nodes when executing graph algorithm is currently not supported.\n",
    "\n",
    "\n",
    "\n",
    "\n",
    "Describing relationships we want to project\n",
    "\n",
    "The syntax to describe the relationships we want to project is very similar to that of the nodes. \n",
    "\n",
    "* Project a single relationship type using a string:\n",
    "    * 'TYPE' ('*' is a wildcard that projects all relationship-types)\n",
    "* Project multiple relationship types using an array:\n",
    "    * ['TYPE1','TYPE2']\n",
    "* Project more relationship types with their properties using a configuration map:\n",
    "    * <pre>{ALIAS_OF_TYPE: {type:'RELATIONSHIP_TYPE', \n",
    "                 orientation: 'NATURAL',\n",
    "                 aggregation: 'DEFAULT'\n",
    "                 properties:[property1,property2]}</pre>\n",
    "\n",
    "The orientation parameter in the configuration map defines the direction of the relationships we want to project. Possible values are:\n",
    "\n",
    "* 'NATURAL' -> each relationship is projected the same way as it is stored in Neo4j\n",
    "* 'REVERSE' -> each relationship is reversed during graph projection\n",
    "* 'UNDIRECTED' -> each relationship is projected in both natural and reverse orientation\n",
    "\n",
    "An important thing to note is that the GDS library supports running graph algorithms on a multigraph. The aggregation parameter is handy when we want to convert a multigraph to a single graph(not a multigraph), but we'll take a closer look at that in another blog post."
   ]
  },
  {
   "cell_type": "code",
   "execution_count": 8,
   "metadata": {},
   "outputs": [],
   "source": [
    "def drop_graph(name):\n",
    "    with driver.session() as session:\n",
    "        drop_graph_query = \"\"\"\n",
    "        CALL gds.graph.drop('{}');\n",
    "        \"\"\".format(name)\n",
    "        session.run(drop_graph_query)"
   ]
  },
  {
   "cell_type": "markdown",
   "metadata": {},
   "source": [
    "### Whole graph projection\n",
    "\n",
    "Let's start by projecting the entire graph into memory using the wildcard operator for both the nodes and the relationships."
   ]
  },
  {
   "cell_type": "code",
   "execution_count": 5,
   "metadata": {},
   "outputs": [],
   "source": [
    "whole_graph = \"CALL gds.graph.create('whole_graph','*', '*')\"\n",
    "run_query(whole_graph);"
   ]
  },
  {
   "cell_type": "markdown",
   "metadata": {},
   "source": [
    "Most of the time, we start the graph analysis by running the (weakly) connected components algorithm to get an idea of how (dis)connected our graph really is. "
   ]
  },
  {
   "cell_type": "code",
   "execution_count": 6,
   "metadata": {},
   "outputs": [
    {
     "data": {
      "text/html": [
       "<div>\n",
       "<style scoped>\n",
       "    .dataframe tbody tr th:only-of-type {\n",
       "        vertical-align: middle;\n",
       "    }\n",
       "\n",
       "    .dataframe tbody tr th {\n",
       "        vertical-align: top;\n",
       "    }\n",
       "\n",
       "    .dataframe thead th {\n",
       "        text-align: right;\n",
       "    }\n",
       "</style>\n",
       "<table border=\"1\" class=\"dataframe\">\n",
       "  <thead>\n",
       "    <tr style=\"text-align: right;\">\n",
       "      <th></th>\n",
       "      <th>componentId</th>\n",
       "      <th>size</th>\n",
       "    </tr>\n",
       "  </thead>\n",
       "  <tbody>\n",
       "    <tr>\n",
       "      <th>0</th>\n",
       "      <td>0</td>\n",
       "      <td>86</td>\n",
       "    </tr>\n",
       "  </tbody>\n",
       "</table>\n",
       "</div>"
      ],
      "text/plain": [
       "   componentId  size\n",
       "0            0    86"
      ]
     },
     "execution_count": 6,
     "metadata": {},
     "output_type": "execute_result"
    }
   ],
   "source": [
    "wcc_whole = \"\"\"\n",
    "\n",
    "CALL gds.wcc.stream('whole_graph') YIELD nodeId, componentId \n",
    "RETURN componentId, count(*) as size \n",
    "ORDER BY size DESC LIMIT 10\n",
    "\n",
    "\"\"\"\n",
    "read_query(wcc_whole)"
   ]
  },
  {
   "cell_type": "markdown",
   "metadata": {},
   "source": [
    "The graph as a whole consists of a single component. Usually, what you'll get with real-world data is a single super component (85+% of all nodes) and a few small disconnected components."
   ]
  },
  {
   "cell_type": "code",
   "execution_count": 9,
   "metadata": {},
   "outputs": [],
   "source": [
    "# Drop whole graph\n",
    "drop_graph('whole_graph')"
   ]
  },
  {
   "cell_type": "markdown",
   "metadata": {},
   "source": [
    "### Interactions graph\n",
    "\n",
    "In the next step, we want to ignore PART_OF relationships and only focus on INTERACTS_X relationships. We will use an array for describing relationship-types to take into account all three INTERACTS_X relationships."
   ]
  },
  {
   "cell_type": "code",
   "execution_count": 10,
   "metadata": {},
   "outputs": [],
   "source": [
    "interacts_query = \"\"\"\n",
    "CALL gds.graph.create('all_interacts','Node', ['INTERACTS_1', 'INTERACTS_2', 'INTERACTS_3'])\n",
    "\"\"\"\n",
    "run_query(interacts_query)"
   ]
  },
  {
   "cell_type": "markdown",
   "metadata": {},
   "source": [
    "Let's run the weakly connected components algorithm on our new projected graph. "
   ]
  },
  {
   "cell_type": "code",
   "execution_count": 11,
   "metadata": {},
   "outputs": [
    {
     "data": {
      "text/html": [
       "<div>\n",
       "<style scoped>\n",
       "    .dataframe tbody tr th:only-of-type {\n",
       "        vertical-align: middle;\n",
       "    }\n",
       "\n",
       "    .dataframe tbody tr th {\n",
       "        vertical-align: top;\n",
       "    }\n",
       "\n",
       "    .dataframe thead th {\n",
       "        text-align: right;\n",
       "    }\n",
       "</style>\n",
       "<table border=\"1\" class=\"dataframe\">\n",
       "  <thead>\n",
       "    <tr style=\"text-align: right;\">\n",
       "      <th></th>\n",
       "      <th>componentId</th>\n",
       "      <th>size</th>\n",
       "      <th>ids</th>\n",
       "    </tr>\n",
       "  </thead>\n",
       "  <tbody>\n",
       "    <tr>\n",
       "      <th>0</th>\n",
       "      <td>0</td>\n",
       "      <td>73</td>\n",
       "      <td>[Anduin, Aragorn, Arathorn, Arwen, Bag End, Ba...</td>\n",
       "    </tr>\n",
       "    <tr>\n",
       "      <th>1</th>\n",
       "      <td>26</td>\n",
       "      <td>1</td>\n",
       "      <td>[Mirkwood]</td>\n",
       "    </tr>\n",
       "    <tr>\n",
       "      <th>2</th>\n",
       "      <td>25</td>\n",
       "      <td>1</td>\n",
       "      <td>[Old Forest]</td>\n",
       "    </tr>\n",
       "  </tbody>\n",
       "</table>\n",
       "</div>"
      ],
      "text/plain": [
       "   componentId  size                                                ids\n",
       "0            0    73  [Anduin, Aragorn, Arathorn, Arwen, Bag End, Ba...\n",
       "1           26     1                                         [Mirkwood]\n",
       "2           25     1                                       [Old Forest]"
      ]
     },
     "execution_count": 11,
     "metadata": {},
     "output_type": "execute_result"
    }
   ],
   "source": [
    "wcc_interacts = \"\"\"\n",
    "\n",
    "CALL gds.wcc.stream('all_interacts') YIELD nodeId, componentId \n",
    "RETURN componentId, count(*) as size, collect(gds.util.asNode(nodeId).Label) as ids \n",
    "ORDER BY size DESC LIMIT 10\n",
    "\n",
    "\"\"\"\n",
    "\n",
    "read_query(wcc_interacts)"
   ]
  },
  {
   "cell_type": "markdown",
   "metadata": {},
   "source": [
    "Our new graph consists of three components. We have a single super component and two tiny components consisting of only a single node. We can deduce that locations \"Mirkwood\" and \"Old Forest\" have no INTERACTS_X relationships.\n",
    "\n",
    "Let's use the same projected graph and only look at interactions from the first book. We can filter which relationship-types should the graph algorithm consider with the relationshipTypes parameter."
   ]
  },
  {
   "cell_type": "code",
   "execution_count": 12,
   "metadata": {},
   "outputs": [
    {
     "data": {
      "text/html": [
       "<div>\n",
       "<style scoped>\n",
       "    .dataframe tbody tr th:only-of-type {\n",
       "        vertical-align: middle;\n",
       "    }\n",
       "\n",
       "    .dataframe tbody tr th {\n",
       "        vertical-align: top;\n",
       "    }\n",
       "\n",
       "    .dataframe thead th {\n",
       "        text-align: right;\n",
       "    }\n",
       "</style>\n",
       "<table border=\"1\" class=\"dataframe\">\n",
       "  <thead>\n",
       "    <tr style=\"text-align: right;\">\n",
       "      <th></th>\n",
       "      <th>componentId</th>\n",
       "      <th>size</th>\n",
       "      <th>ids</th>\n",
       "    </tr>\n",
       "  </thead>\n",
       "  <tbody>\n",
       "    <tr>\n",
       "      <th>0</th>\n",
       "      <td>0</td>\n",
       "      <td>62</td>\n",
       "      <td>[Anduin, Aragorn, Arathorn, Arwen, Bag End, Ba...</td>\n",
       "    </tr>\n",
       "    <tr>\n",
       "      <th>1</th>\n",
       "      <td>21</td>\n",
       "      <td>1</td>\n",
       "      <td>[Ents]</td>\n",
       "    </tr>\n",
       "    <tr>\n",
       "      <th>2</th>\n",
       "      <td>26</td>\n",
       "      <td>1</td>\n",
       "      <td>[Mirkwood]</td>\n",
       "    </tr>\n",
       "    <tr>\n",
       "      <th>3</th>\n",
       "      <td>23</td>\n",
       "      <td>1</td>\n",
       "      <td>[Eorl]</td>\n",
       "    </tr>\n",
       "    <tr>\n",
       "      <th>4</th>\n",
       "      <td>24</td>\n",
       "      <td>1</td>\n",
       "      <td>[Éowyn]</td>\n",
       "    </tr>\n",
       "    <tr>\n",
       "      <th>5</th>\n",
       "      <td>25</td>\n",
       "      <td>1</td>\n",
       "      <td>[Old Forest]</td>\n",
       "    </tr>\n",
       "    <tr>\n",
       "      <th>6</th>\n",
       "      <td>22</td>\n",
       "      <td>1</td>\n",
       "      <td>[Éomer]</td>\n",
       "    </tr>\n",
       "    <tr>\n",
       "      <th>7</th>\n",
       "      <td>27</td>\n",
       "      <td>1</td>\n",
       "      <td>[Faramir]</td>\n",
       "    </tr>\n",
       "    <tr>\n",
       "      <th>8</th>\n",
       "      <td>38</td>\n",
       "      <td>1</td>\n",
       "      <td>[Gorbag]</td>\n",
       "    </tr>\n",
       "    <tr>\n",
       "      <th>9</th>\n",
       "      <td>6</td>\n",
       "      <td>1</td>\n",
       "      <td>[Beregond]</td>\n",
       "    </tr>\n",
       "  </tbody>\n",
       "</table>\n",
       "</div>"
      ],
      "text/plain": [
       "   componentId  size                                                ids\n",
       "0            0    62  [Anduin, Aragorn, Arathorn, Arwen, Bag End, Ba...\n",
       "1           21     1                                             [Ents]\n",
       "2           26     1                                         [Mirkwood]\n",
       "3           23     1                                             [Eorl]\n",
       "4           24     1                                            [Éowyn]\n",
       "5           25     1                                       [Old Forest]\n",
       "6           22     1                                            [Éomer]\n",
       "7           27     1                                          [Faramir]\n",
       "8           38     1                                           [Gorbag]\n",
       "9            6     1                                         [Beregond]"
      ]
     },
     "execution_count": 12,
     "metadata": {},
     "output_type": "execute_result"
    }
   ],
   "source": [
    "wcc_interacts_first_book = \"\"\"\n",
    "\n",
    "CALL gds.wcc.stream('all_interacts', \n",
    "    {relationshipTypes:['INTERACTS_1']}) YIELD nodeId, componentId\n",
    "RETURN componentId, count(*) as size, \n",
    "       collect(gds.util.asNode(nodeId).Label) as ids\n",
    "ORDER BY size DESC LIMIT 10\n",
    "\n",
    "\"\"\"\n",
    "\n",
    "read_query(wcc_interacts_first_book)"
   ]
  },
  {
   "cell_type": "markdown",
   "metadata": {},
   "source": [
    "We get more disconnected components if we take into account only interactions from the first book. This makes sense as some of the characters/locations haven't yet been introduced in the first book, so they have no INTERACTS_1 relationships."
   ]
  },
  {
   "cell_type": "code",
   "execution_count": 13,
   "metadata": {},
   "outputs": [],
   "source": [
    "drop_graph('all_interacts')"
   ]
  },
  {
   "cell_type": "markdown",
   "metadata": {},
   "source": [
    "### Undirected weighted graph\n",
    "\n",
    "In the last example, we will show how to project an undirected weighted graph. We will consider only nodes labeled Person and Thing, and for relationships, we will project all the INTERACTS_X relationships along with their weight property, which will be treated as undirected."
   ]
  },
  {
   "cell_type": "code",
   "execution_count": 14,
   "metadata": {},
   "outputs": [],
   "source": [
    "load_graph = \"\"\"\n",
    "\n",
    "CALL gds.graph.create('undirected_weighted',['Person', 'Thing'], \n",
    "    {INTERACTS_1:{type: 'INTERACTS_1', \n",
    "                  orientation: 'UNDIRECTED', \n",
    "                  properties:['weight']},\n",
    "     INTERACTS_2:{type:'INTERACTS_2',\n",
    "                  orientation: 'UNDIRECTED',\n",
    "                  properties:['weight']},\n",
    "     INTERACTS_3: {type:'INTERACTS_3', \n",
    "                   orientation:'UNDIRECTED',\n",
    "                   properties:['weight']}});\n",
    "\n",
    "\"\"\"\n",
    "\n",
    "run_query(load_graph)"
   ]
  },
  {
   "cell_type": "markdown",
   "metadata": {},
   "source": [
    "#### Unweighted pagerank\n",
    "\n",
    "To run the unweighted pageRank on our projected graph, we don't have to specify any additional configuration."
   ]
  },
  {
   "cell_type": "code",
   "execution_count": 15,
   "metadata": {},
   "outputs": [
    {
     "data": {
      "text/html": [
       "<div>\n",
       "<style scoped>\n",
       "    .dataframe tbody tr th:only-of-type {\n",
       "        vertical-align: middle;\n",
       "    }\n",
       "\n",
       "    .dataframe tbody tr th {\n",
       "        vertical-align: top;\n",
       "    }\n",
       "\n",
       "    .dataframe thead th {\n",
       "        text-align: right;\n",
       "    }\n",
       "</style>\n",
       "<table border=\"1\" class=\"dataframe\">\n",
       "  <thead>\n",
       "    <tr style=\"text-align: right;\">\n",
       "      <th></th>\n",
       "      <th>name</th>\n",
       "      <th>score</th>\n",
       "    </tr>\n",
       "  </thead>\n",
       "  <tbody>\n",
       "    <tr>\n",
       "      <th>0</th>\n",
       "      <td>Aragorn</td>\n",
       "      <td>2.258092</td>\n",
       "    </tr>\n",
       "    <tr>\n",
       "      <th>1</th>\n",
       "      <td>Gandalf</td>\n",
       "      <td>2.215244</td>\n",
       "    </tr>\n",
       "    <tr>\n",
       "      <th>2</th>\n",
       "      <td>Frodo</td>\n",
       "      <td>2.113063</td>\n",
       "    </tr>\n",
       "    <tr>\n",
       "      <th>3</th>\n",
       "      <td>Sam</td>\n",
       "      <td>1.806280</td>\n",
       "    </tr>\n",
       "    <tr>\n",
       "      <th>4</th>\n",
       "      <td>Gimli</td>\n",
       "      <td>1.646447</td>\n",
       "    </tr>\n",
       "  </tbody>\n",
       "</table>\n",
       "</div>"
      ],
      "text/plain": [
       "      name     score\n",
       "0  Aragorn  2.258092\n",
       "1  Gandalf  2.215244\n",
       "2    Frodo  2.113063\n",
       "3      Sam  1.806280\n",
       "4    Gimli  1.646447"
      ]
     },
     "execution_count": 15,
     "metadata": {},
     "output_type": "execute_result"
    }
   ],
   "source": [
    "unweighted_pagerank = \"\"\"\n",
    "\n",
    "CALL gds.pageRank.stream('undirected_weighted')\n",
    "YIELD nodeId, score\n",
    "RETURN gds.util.asNode(nodeId).Label as name, score \n",
    "ORDER BY score DESC LIMIT 5\n",
    "\n",
    "\"\"\"\n",
    "\n",
    "read_query(unweighted_pagerank)"
   ]
  },
  {
   "cell_type": "markdown",
   "metadata": {},
   "source": [
    "#### Weighted pagerank\n",
    "To let know the algorithm that it should take relationship weights into account, we need to use relationshipWeightProperty parameter."
   ]
  },
  {
   "cell_type": "code",
   "execution_count": 16,
   "metadata": {},
   "outputs": [
    {
     "data": {
      "text/html": [
       "<div>\n",
       "<style scoped>\n",
       "    .dataframe tbody tr th:only-of-type {\n",
       "        vertical-align: middle;\n",
       "    }\n",
       "\n",
       "    .dataframe tbody tr th {\n",
       "        vertical-align: top;\n",
       "    }\n",
       "\n",
       "    .dataframe thead th {\n",
       "        text-align: right;\n",
       "    }\n",
       "</style>\n",
       "<table border=\"1\" class=\"dataframe\">\n",
       "  <thead>\n",
       "    <tr style=\"text-align: right;\">\n",
       "      <th></th>\n",
       "      <th>name</th>\n",
       "      <th>score</th>\n",
       "    </tr>\n",
       "  </thead>\n",
       "  <tbody>\n",
       "    <tr>\n",
       "      <th>0</th>\n",
       "      <td>Frodo</td>\n",
       "      <td>5.101857</td>\n",
       "    </tr>\n",
       "    <tr>\n",
       "      <th>1</th>\n",
       "      <td>Gandalf</td>\n",
       "      <td>3.757264</td>\n",
       "    </tr>\n",
       "    <tr>\n",
       "      <th>2</th>\n",
       "      <td>Sam</td>\n",
       "      <td>3.470734</td>\n",
       "    </tr>\n",
       "    <tr>\n",
       "      <th>3</th>\n",
       "      <td>Aragorn</td>\n",
       "      <td>3.246119</td>\n",
       "    </tr>\n",
       "    <tr>\n",
       "      <th>4</th>\n",
       "      <td>Pippin</td>\n",
       "      <td>2.355584</td>\n",
       "    </tr>\n",
       "  </tbody>\n",
       "</table>\n",
       "</div>"
      ],
      "text/plain": [
       "      name     score\n",
       "0    Frodo  5.101857\n",
       "1  Gandalf  3.757264\n",
       "2      Sam  3.470734\n",
       "3  Aragorn  3.246119\n",
       "4   Pippin  2.355584"
      ]
     },
     "execution_count": 16,
     "metadata": {},
     "output_type": "execute_result"
    }
   ],
   "source": [
    "weigted_pagerank = \"\"\"\n",
    "\n",
    "CALL gds.pageRank.stream('undirected_weighted', {relationshipWeightProperty:'weight'}) \n",
    "YIELD nodeId, score \n",
    "RETURN gds.util.asNode(nodeId).Label as name, score \n",
    "ORDER BY score DESC LIMIT 5\n",
    "\n",
    "\"\"\"\n",
    "\n",
    "read_query(weigted_pagerank)"
   ]
  },
  {
   "cell_type": "markdown",
   "metadata": {},
   "source": [
    "As Frodo has more interactions (defined as weight) with other characters, he comes out on top with the weighted variant of the pageRank."
   ]
  },
  {
   "cell_type": "markdown",
   "metadata": {},
   "source": [
    "### First book analysis\n",
    "\n",
    "To finish this blog post, we will analyze the network of the first book. We start by running the weighted pageRank on the interaction relationships from the first book only."
   ]
  },
  {
   "cell_type": "code",
   "execution_count": 25,
   "metadata": {},
   "outputs": [
    {
     "data": {
      "text/html": [
       "<div>\n",
       "<style scoped>\n",
       "    .dataframe tbody tr th:only-of-type {\n",
       "        vertical-align: middle;\n",
       "    }\n",
       "\n",
       "    .dataframe tbody tr th {\n",
       "        vertical-align: top;\n",
       "    }\n",
       "\n",
       "    .dataframe thead th {\n",
       "        text-align: right;\n",
       "    }\n",
       "</style>\n",
       "<table border=\"1\" class=\"dataframe\">\n",
       "  <thead>\n",
       "    <tr style=\"text-align: right;\">\n",
       "      <th></th>\n",
       "      <th>name</th>\n",
       "      <th>score</th>\n",
       "    </tr>\n",
       "  </thead>\n",
       "  <tbody>\n",
       "    <tr>\n",
       "      <th>0</th>\n",
       "      <td>Frodo</td>\n",
       "      <td>5.518012</td>\n",
       "    </tr>\n",
       "    <tr>\n",
       "      <th>1</th>\n",
       "      <td>Gandalf</td>\n",
       "      <td>2.853371</td>\n",
       "    </tr>\n",
       "    <tr>\n",
       "      <th>2</th>\n",
       "      <td>Aragorn</td>\n",
       "      <td>2.801861</td>\n",
       "    </tr>\n",
       "    <tr>\n",
       "      <th>3</th>\n",
       "      <td>Sam</td>\n",
       "      <td>2.651604</td>\n",
       "    </tr>\n",
       "    <tr>\n",
       "      <th>4</th>\n",
       "      <td>Ring</td>\n",
       "      <td>1.977031</td>\n",
       "    </tr>\n",
       "  </tbody>\n",
       "</table>\n",
       "</div>"
      ],
      "text/plain": [
       "      name     score\n",
       "0    Frodo  5.518012\n",
       "1  Gandalf  2.853371\n",
       "2  Aragorn  2.801861\n",
       "3      Sam  2.651604\n",
       "4     Ring  1.977031"
      ]
     },
     "execution_count": 25,
     "metadata": {},
     "output_type": "execute_result"
    }
   ],
   "source": [
    "first_pagerank = \"\"\"\n",
    "\n",
    "CALL gds.pageRank.stream('undirected_weighted', \n",
    "     {relationshipWeightProperty:'weight', relationshipTypes:['INTERACTS_1']}) \n",
    "YIELD nodeId, score \n",
    "RETURN gds.util.asNode(nodeId).Label as name, score \n",
    "ORDER BY score DESC LIMIT 5\n",
    "\n",
    "\"\"\"\n",
    "\n",
    "read_query(first_pagerank)"
   ]
  },
  {
   "cell_type": "code",
   "execution_count": 26,
   "metadata": {},
   "outputs": [
    {
     "data": {
      "text/html": [
       "<div>\n",
       "<style scoped>\n",
       "    .dataframe tbody tr th:only-of-type {\n",
       "        vertical-align: middle;\n",
       "    }\n",
       "\n",
       "    .dataframe tbody tr th {\n",
       "        vertical-align: top;\n",
       "    }\n",
       "\n",
       "    .dataframe thead th {\n",
       "        text-align: right;\n",
       "    }\n",
       "</style>\n",
       "<table border=\"1\" class=\"dataframe\">\n",
       "  <thead>\n",
       "    <tr style=\"text-align: right;\">\n",
       "      <th></th>\n",
       "      <th>communityId</th>\n",
       "      <th>members</th>\n",
       "    </tr>\n",
       "  </thead>\n",
       "  <tbody>\n",
       "    <tr>\n",
       "      <th>0</th>\n",
       "      <td>36</td>\n",
       "      <td>[Aragorn, Arathorn, Arwen, Boromir, Denethor, ...</td>\n",
       "    </tr>\n",
       "    <tr>\n",
       "      <th>1</th>\n",
       "      <td>18</td>\n",
       "      <td>[Balin, Celeborn, Durin, Galadriel, Gimli, Gló...</td>\n",
       "    </tr>\n",
       "    <tr>\n",
       "      <th>2</th>\n",
       "      <td>34</td>\n",
       "      <td>[Bilbo, Bill, Frodo, Gandalf, Gildor, Merry, P...</td>\n",
       "    </tr>\n",
       "    <tr>\n",
       "      <th>3</th>\n",
       "      <td>42</td>\n",
       "      <td>[Goldberry, Bombadil]</td>\n",
       "    </tr>\n",
       "    <tr>\n",
       "      <th>4</th>\n",
       "      <td>13</td>\n",
       "      <td>[Éomer]</td>\n",
       "    </tr>\n",
       "  </tbody>\n",
       "</table>\n",
       "</div>"
      ],
      "text/plain": [
       "   communityId                                            members\n",
       "0           36  [Aragorn, Arathorn, Arwen, Boromir, Denethor, ...\n",
       "1           18  [Balin, Celeborn, Durin, Galadriel, Gimli, Gló...\n",
       "2           34  [Bilbo, Bill, Frodo, Gandalf, Gildor, Merry, P...\n",
       "3           42                              [Goldberry, Bombadil]\n",
       "4           13                                            [Éomer]"
      ]
     },
     "execution_count": 26,
     "metadata": {},
     "output_type": "execute_result"
    }
   ],
   "source": [
    "l_f = \"\"\"\n",
    "\n",
    "CALL gds.louvain.stream('undirected_weighted', \n",
    "    {relationshipWeightProperty:'weight', relationshipTypes:['INTERACTS_1']})\n",
    "YIELD nodeId, communityId\n",
    "RETURN communityId, collect(gds.util.asNode(nodeId).Label) as members\n",
    "ORDER BY length(members) DESC LIMIT 5\n",
    "\n",
    "\"\"\"\n",
    "\n",
    "read_query(l_f)"
   ]
  },
  {
   "cell_type": "code",
   "execution_count": 27,
   "metadata": {},
   "outputs": [],
   "source": [
    "drop_graph('undirected_weighted')"
   ]
  },
  {
   "cell_type": "code",
   "execution_count": null,
   "metadata": {},
   "outputs": [],
   "source": []
  }
 ],
 "metadata": {
  "kernelspec": {
   "display_name": "Python 3",
   "language": "python",
   "name": "python3"
  },
  "language_info": {
   "codemirror_mode": {
    "name": "ipython",
    "version": 3
   },
   "file_extension": ".py",
   "mimetype": "text/x-python",
   "name": "python",
   "nbconvert_exporter": "python",
   "pygments_lexer": "ipython3",
   "version": "3.5.2"
  }
 },
 "nbformat": 4,
 "nbformat_minor": 2
}
