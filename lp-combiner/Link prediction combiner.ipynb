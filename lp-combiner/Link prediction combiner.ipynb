{
 "cells": [
  {
   "cell_type": "code",
   "execution_count": 1,
   "id": "8eb262b4",
   "metadata": {},
   "outputs": [],
   "source": [
    "# Define Neo4j connections\n",
    "import pandas as pd\n",
    "from neo4j import GraphDatabase\n",
    "host = 'bolt://3.235.89.19:7687'\n",
    "user = 'neo4j'\n",
    "password = 'ballast-set-proficiencies'\n",
    "driver = GraphDatabase.driver(host,auth=(user, password))\n",
    "\n",
    "def run_query(query, params={}):\n",
    "    with driver.session() as session:\n",
    "        result = session.run(query, params)\n",
    "        return pd.DataFrame([r.values() for r in result], columns=result.keys())"
   ]
  },
  {
   "cell_type": "markdown",
   "id": "4824ecc6",
   "metadata": {},
   "source": [
    "# A deep dive into Neo4j Link Prediction pipeline and FastRP embedding algorithm\n",
    "### Learn how to train and optimize Link Prediction models in the Neo4j Graph Data Science library to get the best results\n",
    "In my previous blog post, I introduced the newly available Link Prediction pipeline in the Neo4j Graph Data Science library. Since the post, I took more time to dig deeper and learn the inner workings of the pipeline. I've learned a couple of things along the way that I want to share with you. At first, I intended to show how the Link Prediction pipeline combines node properties to generate input features of the Link Prediction model. However, when I was developing the content, I noticed a couple of insights about using the FastRP embedding algorithm. Therefore, by the end of this blog post, you will hopefully learn more about the FastRP embedding model and how you can combine multiple node features as an input to the Link Prediction model.\n",
    "# Graph import\n",
    "I had to find a small network so I easily visualize results as we go along. I decided to use the interaction network from the first season of the Game of Thrones TV show made available by Andrew Beveridge.\n",
    "The graph model consists of characters and their interactions. We will treat the interaction relationship as undirected, where is character A interacts with character B, this directly implies that character B also interacted with character A. We also know how many times two characters interacted, and we store that information as the relationship property.\n",
    "If you want to follow along with examples in this post, I recommend using a Blank project in Neo4j Sandbox. It is a free cloud instance of Neo4j database that comes pre-installed with both APOC and Graph Data Science plugins.\n",
    "The dataset is available on GitHub, so we can easily import it into Neo4j with the following Cypher query:"
   ]
  },
  {
   "cell_type": "code",
   "execution_count": 2,
   "id": "d115c636",
   "metadata": {},
   "outputs": [
    {
     "data": {
      "text/html": [
       "<div>\n",
       "<style scoped>\n",
       "    .dataframe tbody tr th:only-of-type {\n",
       "        vertical-align: middle;\n",
       "    }\n",
       "\n",
       "    .dataframe tbody tr th {\n",
       "        vertical-align: top;\n",
       "    }\n",
       "\n",
       "    .dataframe thead th {\n",
       "        text-align: right;\n",
       "    }\n",
       "</style>\n",
       "<table border=\"1\" class=\"dataframe\">\n",
       "  <thead>\n",
       "    <tr style=\"text-align: right;\">\n",
       "      <th></th>\n",
       "    </tr>\n",
       "  </thead>\n",
       "  <tbody>\n",
       "  </tbody>\n",
       "</table>\n",
       "</div>"
      ],
      "text/plain": [
       "Empty DataFrame\n",
       "Columns: []\n",
       "Index: []"
      ]
     },
     "execution_count": 2,
     "metadata": {},
     "output_type": "execute_result"
    }
   ],
   "source": [
    "run_query(\"\"\"\n",
    "LOAD CSV WITH HEADERS FROM \"https://raw.githubusercontent.com/mathbeveridge/gameofthrones/master/data/got-s1-edges.csv\" as row\n",
    "MERGE (s:Character{name:row.Source})\n",
    "MERGE (t:Character{name:row.Target})\n",
    "MERGE (s)-[i:INTERACTS]-(t)\n",
    "SET i.weight = toInteger(row.Weight)\n",
    "\"\"\")"
   ]
  },
  {
   "cell_type": "markdown",
   "id": "0c3b0550",
   "metadata": {},
   "source": [
    "Link prediction pipeline\n",
    "Under the hood, the link prediction model in Neo4j uses a logistic regression classifier. We are dealing with a binary classification problem, where we want to predict if a link exists between a pair of nodes or not. On a high level, the link prediction pipeline follows the following steps:\n",
    "* Node Feature engineering\n",
    "* Link Feature combiner\n",
    "* Model training\n",
    "* Predict new links \n",
    "\n",
    "In this post, we will focus on the first two steps.\n",
    "As a first step, you have to define node features. For example, you could use custom node properties such as age or gender. You can also use graph algorithms such as PageRank or Betweenness centrality as initial node features. In this blog post, we will start by using FastRP node embeddings to define initial node features. The nice thing about the FastRP embedding algorithm is that it captures the network information and preserves the similarity in embedding space between neighboring nodes that are close in a graph. At the moment, you can't use pairwise information such as the number of common neighbors or the length of the shortest path between a pair of nodes as input features.\n",
    "In the second step, the link feature combiner creates a single feature from a pair of node properties. Currently, there are three techniques that you can use to combine a pair of node properties into a single link feature vector:\n",
    "* Cosine distance\n",
    "* L2 or Euclidian distance\n",
    "* Hadamard product\n",
    "\n",
    "All the available link feature combiner techniques are order-invariant as the Link Prediction pipeline supports predicting only undirected relationships at the moment. You can use multiple link feature combiners in a single pipeline to define several feature vectors, which are then concatenated as an input to the Link Prediction model. I'll walk you through an example later in the post.\n",
    "Once the node features and link feature combiner are defined, you can train the model to predict new connections.\n",
    "# Node Feature engineering\n",
    "You can preprocess node features before defining the Link Prediction pipeline. You can also include them directly in the pipeline definition if you only use graph algorithms such as node embeddings or centrality measures as node features. In the first example, we will use the FastRP embeddings as our Link Prediction model node features. Therefore, we could potentially include them in the pipeline definition. However, we will first do a short analysis of the node embedding results, so we need to store the node embeddings to the graph before diving into the pipeline definition. We start by projecting an undirected named graph. Take a look at the documentation for more information about the inner workings of the Graph Data Science library."
   ]
  },
  {
   "cell_type": "code",
   "execution_count": 3,
   "id": "f9ee72e1",
   "metadata": {},
   "outputs": [
    {
     "data": {
      "text/html": [
       "<div>\n",
       "<style scoped>\n",
       "    .dataframe tbody tr th:only-of-type {\n",
       "        vertical-align: middle;\n",
       "    }\n",
       "\n",
       "    .dataframe tbody tr th {\n",
       "        vertical-align: top;\n",
       "    }\n",
       "\n",
       "    .dataframe thead th {\n",
       "        text-align: right;\n",
       "    }\n",
       "</style>\n",
       "<table border=\"1\" class=\"dataframe\">\n",
       "  <thead>\n",
       "    <tr style=\"text-align: right;\">\n",
       "      <th></th>\n",
       "      <th>nodeProjection</th>\n",
       "      <th>relationshipProjection</th>\n",
       "      <th>graphName</th>\n",
       "      <th>nodeCount</th>\n",
       "      <th>relationshipCount</th>\n",
       "      <th>createMillis</th>\n",
       "    </tr>\n",
       "  </thead>\n",
       "  <tbody>\n",
       "    <tr>\n",
       "      <th>0</th>\n",
       "      <td>{'Character': {'properties': {}, 'label': 'Cha...</td>\n",
       "      <td>{'INTERACTS': {'orientation': 'UNDIRECTED', 'a...</td>\n",
       "      <td>gots1</td>\n",
       "      <td>126</td>\n",
       "      <td>1098</td>\n",
       "      <td>513</td>\n",
       "    </tr>\n",
       "  </tbody>\n",
       "</table>\n",
       "</div>"
      ],
      "text/plain": [
       "                                      nodeProjection  \\\n",
       "0  {'Character': {'properties': {}, 'label': 'Cha...   \n",
       "\n",
       "                              relationshipProjection graphName  nodeCount  \\\n",
       "0  {'INTERACTS': {'orientation': 'UNDIRECTED', 'a...     gots1        126   \n",
       "\n",
       "   relationshipCount  createMillis  \n",
       "0               1098           513  "
      ]
     },
     "execution_count": 3,
     "metadata": {},
     "output_type": "execute_result"
    }
   ],
   "source": [
    "run_query(\"\"\"\n",
    "CALL gds.graph.create('gots1', 'Character', {INTERACTS:{orientation:'UNDIRECTED', properties:'weight'}})\n",
    "\"\"\")"
   ]
  },
  {
   "cell_type": "markdown",
   "id": "13fa96bc",
   "metadata": {},
   "source": [
    "We will use Louvain, a community detection algorithm, to help us better understand the results of the FastRP embedding algorithm. You can use the following Cypher query to store the community structure information back to the database."
   ]
  },
  {
   "cell_type": "code",
   "execution_count": 4,
   "id": "28e06535",
   "metadata": {},
   "outputs": [
    {
     "data": {
      "text/html": [
       "<div>\n",
       "<style scoped>\n",
       "    .dataframe tbody tr th:only-of-type {\n",
       "        vertical-align: middle;\n",
       "    }\n",
       "\n",
       "    .dataframe tbody tr th {\n",
       "        vertical-align: top;\n",
       "    }\n",
       "\n",
       "    .dataframe thead th {\n",
       "        text-align: right;\n",
       "    }\n",
       "</style>\n",
       "<table border=\"1\" class=\"dataframe\">\n",
       "  <thead>\n",
       "    <tr style=\"text-align: right;\">\n",
       "      <th></th>\n",
       "      <th>writeMillis</th>\n",
       "      <th>nodePropertiesWritten</th>\n",
       "      <th>modularity</th>\n",
       "      <th>modularities</th>\n",
       "      <th>ranLevels</th>\n",
       "      <th>communityCount</th>\n",
       "      <th>communityDistribution</th>\n",
       "      <th>postProcessingMillis</th>\n",
       "      <th>createMillis</th>\n",
       "      <th>computeMillis</th>\n",
       "      <th>configuration</th>\n",
       "    </tr>\n",
       "  </thead>\n",
       "  <tbody>\n",
       "    <tr>\n",
       "      <th>0</th>\n",
       "      <td>404</td>\n",
       "      <td>126</td>\n",
       "      <td>0.528858</td>\n",
       "      <td>[0.5016739965172651, 0.5288576612285539]</td>\n",
       "      <td>2</td>\n",
       "      <td>7</td>\n",
       "      <td>{'p99': 45, 'min': 2, 'max': 45, 'mean': 18.0,...</td>\n",
       "      <td>98</td>\n",
       "      <td>1</td>\n",
       "      <td>2598</td>\n",
       "      <td>{'maxIterations': 10, 'writeConcurrency': 4, '...</td>\n",
       "    </tr>\n",
       "  </tbody>\n",
       "</table>\n",
       "</div>"
      ],
      "text/plain": [
       "   writeMillis  nodePropertiesWritten  modularity  \\\n",
       "0          404                    126    0.528858   \n",
       "\n",
       "                               modularities  ranLevels  communityCount  \\\n",
       "0  [0.5016739965172651, 0.5288576612285539]          2               7   \n",
       "\n",
       "                               communityDistribution  postProcessingMillis  \\\n",
       "0  {'p99': 45, 'min': 2, 'max': 45, 'mean': 18.0,...                    98   \n",
       "\n",
       "   createMillis  computeMillis  \\\n",
       "0             1           2598   \n",
       "\n",
       "                                       configuration  \n",
       "0  {'maxIterations': 10, 'writeConcurrency': 4, '...  "
      ]
     },
     "execution_count": 4,
     "metadata": {},
     "output_type": "execute_result"
    }
   ],
   "source": [
    "run_query(\"\"\"\n",
    "CALL gds.louvain.write('gots1', {writeProperty:'louvain', relationshipWeightProperty:'weight'})\n",
    "\"\"\")"
   ]
  },
  {
   "cell_type": "markdown",
   "id": "41a45d6c",
   "metadata": {},
   "source": [
    "Throughout this blog post, I will be using Neo4j Bloom to visualize the results of algorithms and link predictions. Take a look at this guide if you want to learn how to visualize networks with Bloom.\n",
    "\n",
    "Now we can go ahead and execute the FastRP embedding algorithm. The algorithm will produce an embedding or a fixed-size vector for every node in the graph. My friend CJ Sullivan wrote an [excellent article](https://towardsdatascience.com/behind-the-scenes-on-the-fast-random-projection-algorithm-for-generating-graph-embeddings-efb1db0895) explaining the inner working of the FastRP algorithm."
   ]
  },
  {
   "cell_type": "code",
   "execution_count": 5,
   "id": "e3d2d3f9",
   "metadata": {},
   "outputs": [
    {
     "data": {
      "text/html": [
       "<div>\n",
       "<style scoped>\n",
       "    .dataframe tbody tr th:only-of-type {\n",
       "        vertical-align: middle;\n",
       "    }\n",
       "\n",
       "    .dataframe tbody tr th {\n",
       "        vertical-align: top;\n",
       "    }\n",
       "\n",
       "    .dataframe thead th {\n",
       "        text-align: right;\n",
       "    }\n",
       "</style>\n",
       "<table border=\"1\" class=\"dataframe\">\n",
       "  <thead>\n",
       "    <tr style=\"text-align: right;\">\n",
       "      <th></th>\n",
       "      <th>nodeCount</th>\n",
       "      <th>nodePropertiesWritten</th>\n",
       "      <th>createMillis</th>\n",
       "      <th>computeMillis</th>\n",
       "      <th>writeMillis</th>\n",
       "      <th>configuration</th>\n",
       "    </tr>\n",
       "  </thead>\n",
       "  <tbody>\n",
       "    <tr>\n",
       "      <th>0</th>\n",
       "      <td>126</td>\n",
       "      <td>126</td>\n",
       "      <td>1</td>\n",
       "      <td>299</td>\n",
       "      <td>201</td>\n",
       "      <td>{'writeConcurrency': 4, 'normalizationStrength...</td>\n",
       "    </tr>\n",
       "  </tbody>\n",
       "</table>\n",
       "</div>"
      ],
      "text/plain": [
       "   nodeCount  nodePropertiesWritten  createMillis  computeMillis  writeMillis  \\\n",
       "0        126                    126             1            299          201   \n",
       "\n",
       "                                       configuration  \n",
       "0  {'writeConcurrency': 4, 'normalizationStrength...  "
      ]
     },
     "execution_count": 5,
     "metadata": {},
     "output_type": "execute_result"
    }
   ],
   "source": [
    "run_query(\"\"\"\n",
    "CALL gds.fastRP.write('gots1', {writeProperty:'embedding', embeddingDimension:56, relationshipWeightProperty:'weight'})\n",
    "\"\"\")"
   ]
  },
  {
   "cell_type": "markdown",
   "id": "a37ee29e",
   "metadata": {},
   "source": [
    "First, we will evaluate FastRP embeddings with a t-SNE scatter plot visualization. The stored node embeddings are vectors with a length of 56, as defined by the embeddingDimension parameter. The t-SNE algorithm is a dimensionality reduction algorithm, which we can use to reduce the embedding dimension to two. Having vectors with length two allows us to visualize them with a scatter plot. The Python code I used for dimensionality reduction and scatter plot visualization is:"
   ]
  },
  {
   "cell_type": "code",
   "execution_count": 6,
   "id": "b3211215",
   "metadata": {},
   "outputs": [],
   "source": [
    "from sklearn.manifold import TSNE\n",
    "from matplotlib import pyplot as plt\n",
    "import seaborn as sns\n",
    "\n",
    "\n",
    "def tsne(embeddings, hue=None):\n",
    "    tsne = TSNE(n_components=2, n_iter=300)\n",
    "    tsne_results = tsne.fit_transform(embeddings['embedding'].to_list())\n",
    "\n",
    "    embeddings['tsne_x'] = [x[0] for x in list(tsne_results)]\n",
    "    embeddings['tsne_y'] = [x[1] for x in list(tsne_results)]\n",
    "\n",
    "    plt.figure(figsize=(16,10))\n",
    "    sns.scatterplot(\n",
    "        x=\"tsne_x\", y=\"tsne_y\",\n",
    "        hue=hue,\n",
    "        palette=\"deep\",\n",
    "        data=embeddings,\n",
    "        legend=\"full\",\n",
    "        alpha=0.9\n",
    "    )\n",
    "    # Add captions\n",
    "    #for i in range(embeddings.shape[0]):\n",
    "    #    plt.text(x=embeddings['tsne_x'][i]+0.3,y=embeddings['tsne_y'][i]+0.3,s=embeddings.character[i], \n",
    "    #          fontdict=dict(color='black',size=10),)"
   ]
  },
  {
   "cell_type": "code",
   "execution_count": 7,
   "id": "a792ad8b",
   "metadata": {},
   "outputs": [],
   "source": [
    "tsne_input = run_query(\"\"\"\n",
    "MATCH (c:Character)\n",
    "RETURN c.name as character, c.embedding as embedding, c.louvain as hue \n",
    "\"\"\")"
   ]
  },
  {
   "cell_type": "code",
   "execution_count": 22,
   "id": "84a90a1c",
   "metadata": {},
   "outputs": [
    {
     "data": {
      "image/png": "[encoded data removed]",
      "text/plain": [
       "<Figure size 1152x720 with 1 Axes>"
      ]
     },
     "metadata": {
      "needs_background": "light"
     },
     "output_type": "display_data"
    }
   ],
   "source": [
    "tsne(tsne_input, 'hue')"
   ]
  },
  {
   "cell_type": "markdown",
   "id": "a31814a8",
   "metadata": {},
   "source": [
    "FastRP embeddings and the Louvain algorithm were executed independently, and yet, we can observe that FastRP embeddings cluster nodes in the same community close in the embedding space. This is no surprise as FastRP is a community-based node embedding algorithm, meaning that nodes close in the graph will be also close in the embedding space. Next, we will evaluate the cosine similarity between nodes in the graph."
   ]
  },
  {
   "cell_type": "code",
   "execution_count": 10,
   "id": "ecc1da7e",
   "metadata": {},
   "outputs": [
    {
     "data": {
      "text/html": [
       "<div>\n",
       "<style scoped>\n",
       "    .dataframe tbody tr th:only-of-type {\n",
       "        vertical-align: middle;\n",
       "    }\n",
       "\n",
       "    .dataframe tbody tr th {\n",
       "        vertical-align: top;\n",
       "    }\n",
       "\n",
       "    .dataframe thead th {\n",
       "        text-align: right;\n",
       "    }\n",
       "</style>\n",
       "<table border=\"1\" class=\"dataframe\">\n",
       "  <thead>\n",
       "    <tr style=\"text-align: right;\">\n",
       "      <th></th>\n",
       "      <th>nodes</th>\n",
       "      <th>similarityPairs</th>\n",
       "      <th>min</th>\n",
       "      <th>max</th>\n",
       "      <th>mean</th>\n",
       "      <th>p25</th>\n",
       "      <th>p50</th>\n",
       "      <th>p75</th>\n",
       "      <th>p90</th>\n",
       "      <th>p95</th>\n",
       "      <th>p99</th>\n",
       "    </tr>\n",
       "  </thead>\n",
       "  <tbody>\n",
       "    <tr>\n",
       "      <th>0</th>\n",
       "      <td>126</td>\n",
       "      <td>13546</td>\n",
       "      <td>0.100346</td>\n",
       "      <td>1.000007</td>\n",
       "      <td>0.537947</td>\n",
       "      <td>0.281726</td>\n",
       "      <td>0.496877</td>\n",
       "      <td>0.816959</td>\n",
       "      <td>0.964294</td>\n",
       "      <td>0.984401</td>\n",
       "      <td>0.99615</td>\n",
       "    </tr>\n",
       "  </tbody>\n",
       "</table>\n",
       "</div>"
      ],
      "text/plain": [
       "   nodes  similarityPairs       min       max      mean       p25       p50  \\\n",
       "0    126            13546  0.100346  1.000007  0.537947  0.281726  0.496877   \n",
       "\n",
       "        p75       p90       p95      p99  \n",
       "0  0.816959  0.964294  0.984401  0.99615  "
      ]
     },
     "execution_count": 10,
     "metadata": {},
     "output_type": "execute_result"
    }
   ],
   "source": [
    "run_query(\"\"\"\n",
    "MATCH (c:Character)\n",
    "WITH {item:id(c), weights: c.embedding} AS userData\n",
    "WITH collect(userData) AS data\n",
    "CALL gds.alpha.similarity.cosine.stats({\n",
    "  data: data,\n",
    "  topK: 1000,\n",
    "  similarityCutoff: 0.1\n",
    "})\n",
    "YIELD nodes, similarityPairs, min, max, mean, p25, p50, p75, p90, p95, p99\n",
    "RETURN nodes, similarityPairs, min, max, mean, p25, p50, p75, p90, p95, p99\n",
    "\"\"\")"
   ]
  },
  {
   "cell_type": "markdown",
   "id": "c7b99752",
   "metadata": {},
   "source": [
    "An average cosine similarity coefficient between all nodes in the graph is around 0.5. Around 25% of the node pairs have a cosine similarity greater than 0.81. Nodes are so similar in the embedding space because we have a tiny graph of only 126 nodes. Next, we will evaluate the cosine and euclidian distance between pairs of nodes connected by a relationship."
   ]
  },
  {
   "cell_type": "code",
   "execution_count": 11,
   "id": "e89d4c7d",
   "metadata": {},
   "outputs": [
    {
     "data": {
      "text/plain": [
       "<seaborn.axisgrid.FacetGrid at 0x7fe5f40815e0>"
      ]
     },
     "execution_count": 11,
     "metadata": {},
     "output_type": "execute_result"
    },
    {
     "data": {
      "image/png": "[encoded data removed]",
      "text/plain": [
       "<Figure size 720x360 with 2 Axes>"
      ]
     },
     "metadata": {
      "needs_background": "light"
     },
     "output_type": "display_data"
    }
   ],
   "source": [
    "df = run_query(\"\"\"\n",
    "MATCH (c1:Character)-[:INTERACTS]->(c2:Character)\n",
    "RETURN gds.alpha.similarity.euclideanDistance(c1.embedding, c2.embedding) AS distance, 'euclidian' as metric\n",
    "UNION\n",
    "MATCH (c1:Character)-[:INTERACTS]->(c2:Character)\n",
    "RETURN gds.alpha.similarity.cosine(c1.embedding, c2.embedding) AS distance, 'cosine' as metric\n",
    "\"\"\")\n",
    "\n",
    "sns.displot(data=df, x='distance', col='metric')"
   ]
  },
  {
   "cell_type": "markdown",
   "id": "c11725d2",
   "metadata": {},
   "source": [
    "Most node pairs that are connected with a relationship have a high cosine similarity. Again, this is expected as the FastRP is designed to translate the network topology structure into embedding space. Therefore, we expect the neighboring nodes in the graph to be very similar in the embedding space. We will examine the node pairs connected in the network with a cosine similarity of less than 0.5 as this is a bit more unexpected. First, we have to tag them with Cypher:"
   ]
  },
  {
   "cell_type": "code",
   "execution_count": 12,
   "id": "52687f6e",
   "metadata": {},
   "outputs": [
    {
     "data": {
      "text/html": [
       "<div>\n",
       "<style scoped>\n",
       "    .dataframe tbody tr th:only-of-type {\n",
       "        vertical-align: middle;\n",
       "    }\n",
       "\n",
       "    .dataframe tbody tr th {\n",
       "        vertical-align: top;\n",
       "    }\n",
       "\n",
       "    .dataframe thead th {\n",
       "        text-align: right;\n",
       "    }\n",
       "</style>\n",
       "<table border=\"1\" class=\"dataframe\">\n",
       "  <thead>\n",
       "    <tr style=\"text-align: right;\">\n",
       "      <th></th>\n",
       "    </tr>\n",
       "  </thead>\n",
       "  <tbody>\n",
       "  </tbody>\n",
       "</table>\n",
       "</div>"
      ],
      "text/plain": [
       "Empty DataFrame\n",
       "Columns: []\n",
       "Index: []"
      ]
     },
     "execution_count": 12,
     "metadata": {},
     "output_type": "execute_result"
    }
   ],
   "source": [
    "run_query(\"\"\"\n",
    "MATCH p=(c1:Character)-[i:INTERACTS]->(c2:Character)\n",
    "WHERE gds.alpha.similarity.cosine(c1.embedding, c2.embedding) < 0.5\n",
    "SET i.show = True\n",
    "\"\"\")"
   ]
  },
  {
   "cell_type": "markdown",
   "id": "c8dd6d88",
   "metadata": {},
   "source": [
    "It seems that pairs of connected nodes with a lower cosine similarity mainly occur when we have connections between various clusters or communities in the network. If you remember the t-SNE visualization, the nodes in the same community are nicely grouped in the embedding space. However, we have a couple of relationships between nodes from different communities. When we have connections between nodes from various communities, their similarity decreases. It also seems that these nodes have a higher degree, meaning they have many links within their community and then a couple of links to other communities. Therefore, they are more similar to neighbors within their community and then less similar to neighbors from other clusters.\n",
    "# Link Feature Combiner\n",
    "We've got the embeddings ready, and we know that pairs of connected nodes are highly likely to have a high cosine similarity in the embedding space. Now, we will evaluate how different link feature combiners affect the output of the link prediction model.\n",
    "## Cosine combiner\n",
    "Interestingly enough, the first combiner we will take a look at is the Cosine similarity combiner.\n",
    "Cosine link feature combiner. Image by the author.The Link Feature combiner takes pairs of node features and combines them into a single link feature, which is then used as training data to the logistic regression model that will predict new links. We have already done the cosine similarity analysis, so we know that node pairs with a high cosine similarity are likely to be connected. Therefore, you might imagine that new predicted links will be between pairs of not yet connected nodes with high cosine similarity, as this is precisely how our training data looks.\n",
    "The Python script we will be using to produce link predictions is:"
   ]
  },
  {
   "cell_type": "code",
   "execution_count": 13,
   "id": "6b8e50ff",
   "metadata": {},
   "outputs": [],
   "source": [
    "def generate_links(combiner, predictedRelType):\n",
    "    # Delete all graph models & drop all named graphs\n",
    "    run_query(\"\"\"\n",
    "    CALL gds.graph.list() YIELD graphName\n",
    "    CALL gds.graph.drop(graphName) YIELD graphName as done\n",
    "    RETURN distinct 'dropped named graphs' as result\n",
    "    UNION\n",
    "    CALL gds.beta.model.list() YIELD modelInfo\n",
    "    CALL gds.beta.model.drop(modelInfo.modelName) YIELD modelInfo as done\n",
    "    RETURN distinct 'dropped ML models' as result\n",
    "    \"\"\")\n",
    "    # Define a new LP pipeline\n",
    "    run_query(\"\"\"\n",
    "    CALL gds.alpha.ml.pipeline.linkPrediction.create('lp-pipeline')\n",
    "    \"\"\")\n",
    "    # Define feature combiner\n",
    "    run_query(f\"\"\"\n",
    "    CALL gds.alpha.ml.pipeline.linkPrediction.addFeature('lp-pipeline', '{combiner}', {{\n",
    "      nodeProperties: ['embedding']\n",
    "    }}) YIELD featureSteps;\n",
    "    \"\"\")\n",
    "    # Define train-test split\n",
    "    run_query(\"\"\"\n",
    "    CALL gds.alpha.ml.pipeline.linkPrediction.configureSplit(\n",
    "     'lp-pipeline', {  \n",
    "       testFraction: 0.3,\n",
    "       trainFraction: 0.6,\n",
    "       validationFolds: 7})\n",
    "    YIELD splitConfig;\n",
    "    \"\"\")\n",
    "    # Configure LP model params\n",
    "    run_query(\"\"\"\n",
    "    CALL gds.alpha.ml.pipeline.linkPrediction.configureParams(\n",
    "      'lp-pipeline',  \n",
    "        [{tolerance: 0.001, maxEpochs: 500},    \n",
    "         {penalty:0.001, tolerance: 0.01,  maxEpochs: 500},      \n",
    "         {penalty:0.01, tolerance: 0.01, maxEpochs: 500}])\n",
    "    YIELD parameterSpace;\n",
    "    \"\"\")\n",
    "    # Construct named graph\n",
    "    run_query(\"\"\"\n",
    "    CALL gds.graph.create('lp-graph', \n",
    "      'Character', \n",
    "      {INTERACTS:{orientation:'UNDIRECTED'}},\n",
    "      {nodeProperties:'embedding'});\n",
    "    \"\"\")\n",
    "    # Train the model\n",
    "    run_query(\"\"\"\n",
    "    CALL gds.alpha.ml.pipeline.linkPrediction.train('lp-graph', \n",
    "  {pipeline: 'lp-pipeline',\n",
    "   modelName: 'lp-model',\n",
    "   randomSeed: 42})\n",
    "    YIELD modelInfo\n",
    "    RETURN  modelInfo.bestParameters AS winningModel,  modelInfo.metrics.AUCPR.outerTrain AS trainGraphScore,  modelInfo.metrics.AUCPR.test AS testGraphScore;\n",
    "    \"\"\")\n",
    "    # Predict new relationships\n",
    "    run_query(\"\"\"\n",
    "    CALL gds.alpha.ml.pipeline.linkPrediction.predict.mutate('lp-graph', \n",
    "      {modelName: 'lp-model',  \n",
    "       mutateRelationshipType: 'INTERACTS_PREDICTED',\n",
    "       topN: 20,\n",
    "       threshold: 0.45})\n",
    "    YIELD relationshipsWritten;\n",
    "    \"\"\")\n",
    "    # Store relationships back to graph\n",
    "    predicted_links = run_query(f\"\"\"\n",
    "    CALL gds.graph.streamRelationshipProperty('lp-graph', \n",
    "      'probability', \n",
    "      ['INTERACTS_PREDICTED'])\n",
    "    YIELD  sourceNodeId, targetNodeId, propertyValue as probability\n",
    "    WHERE sourceNodeId < targetNodeId\n",
    "    MATCH (s),(t)\n",
    "    WHERE id(s)=sourceNodeId AND id(t)=targetNodeId\n",
    "    MERGE (s)-[:{predictedRelType}]-(t)\n",
    "    RETURN avg(gds.alpha.similarity.euclideanDistance(s.embedding, t.embedding)) AS euclidian_similarity,\n",
    "           avg(gds.alpha.similarity.cosine(s.embedding, t.embedding)) AS cosine_similarity\n",
    "           \n",
    "    \"\"\")\n",
    "    return predicted_links"
   ]
  },
  {
   "cell_type": "code",
   "execution_count": 14,
   "id": "3f20eb05",
   "metadata": {},
   "outputs": [
    {
     "data": {
      "text/html": [
       "<div>\n",
       "<style scoped>\n",
       "    .dataframe tbody tr th:only-of-type {\n",
       "        vertical-align: middle;\n",
       "    }\n",
       "\n",
       "    .dataframe tbody tr th {\n",
       "        vertical-align: top;\n",
       "    }\n",
       "\n",
       "    .dataframe thead th {\n",
       "        text-align: right;\n",
       "    }\n",
       "</style>\n",
       "<table border=\"1\" class=\"dataframe\">\n",
       "  <thead>\n",
       "    <tr style=\"text-align: right;\">\n",
       "      <th></th>\n",
       "      <th>euclidian_similarity</th>\n",
       "      <th>cosine_similarity</th>\n",
       "    </tr>\n",
       "  </thead>\n",
       "  <tbody>\n",
       "    <tr>\n",
       "      <th>0</th>\n",
       "      <td>0.050814</td>\n",
       "      <td>0.999548</td>\n",
       "    </tr>\n",
       "  </tbody>\n",
       "</table>\n",
       "</div>"
      ],
      "text/plain": [
       "   euclidian_similarity  cosine_similarity\n",
       "0              0.050814           0.999548"
      ]
     },
     "execution_count": 14,
     "metadata": {},
     "output_type": "execute_result"
    }
   ],
   "source": [
    "generate_links('cosine', 'PREDICTED_COSINE')"
   ]
  },
  {
   "cell_type": "code",
   "execution_count": 15,
   "id": "0337e58d",
   "metadata": {},
   "outputs": [
    {
     "data": {
      "text/html": [
       "<div>\n",
       "<style scoped>\n",
       "    .dataframe tbody tr th:only-of-type {\n",
       "        vertical-align: middle;\n",
       "    }\n",
       "\n",
       "    .dataframe tbody tr th {\n",
       "        vertical-align: top;\n",
       "    }\n",
       "\n",
       "    .dataframe thead th {\n",
       "        text-align: right;\n",
       "    }\n",
       "</style>\n",
       "<table border=\"1\" class=\"dataframe\">\n",
       "  <thead>\n",
       "    <tr style=\"text-align: right;\">\n",
       "      <th></th>\n",
       "      <th>euclidian_similarity</th>\n",
       "      <th>cosine_similarity</th>\n",
       "    </tr>\n",
       "  </thead>\n",
       "  <tbody>\n",
       "    <tr>\n",
       "      <th>0</th>\n",
       "      <td>0.039099</td>\n",
       "      <td>0.999503</td>\n",
       "    </tr>\n",
       "  </tbody>\n",
       "</table>\n",
       "</div>"
      ],
      "text/plain": [
       "   euclidian_similarity  cosine_similarity\n",
       "0              0.039099           0.999503"
      ]
     },
     "execution_count": 15,
     "metadata": {},
     "output_type": "execute_result"
    }
   ],
   "source": [
    "generate_links('l2', 'PREDICTED_L2')"
   ]
  },
  {
   "cell_type": "code",
   "execution_count": 16,
   "id": "5bf881f6",
   "metadata": {},
   "outputs": [
    {
     "data": {
      "text/html": [
       "<div>\n",
       "<style scoped>\n",
       "    .dataframe tbody tr th:only-of-type {\n",
       "        vertical-align: middle;\n",
       "    }\n",
       "\n",
       "    .dataframe tbody tr th {\n",
       "        vertical-align: top;\n",
       "    }\n",
       "\n",
       "    .dataframe thead th {\n",
       "        text-align: right;\n",
       "    }\n",
       "</style>\n",
       "<table border=\"1\" class=\"dataframe\">\n",
       "  <thead>\n",
       "    <tr style=\"text-align: right;\">\n",
       "      <th></th>\n",
       "      <th>euclidian_similarity</th>\n",
       "      <th>cosine_similarity</th>\n",
       "    </tr>\n",
       "  </thead>\n",
       "  <tbody>\n",
       "    <tr>\n",
       "      <th>0</th>\n",
       "      <td>0.180325</td>\n",
       "      <td>0.995475</td>\n",
       "    </tr>\n",
       "  </tbody>\n",
       "</table>\n",
       "</div>"
      ],
      "text/plain": [
       "   euclidian_similarity  cosine_similarity\n",
       "0              0.180325           0.995475"
      ]
     },
     "execution_count": 16,
     "metadata": {},
     "output_type": "execute_result"
    }
   ],
   "source": [
    "generate_links('hadamard', 'PREDICTED_HADAMARD')"
   ]
  },
  {
   "cell_type": "markdown",
   "id": "f84e030d",
   "metadata": {},
   "source": [
    "# Using multiple Link Feature Combiners\n",
    "In the previous example, we have only used a single link feature combiner. In the case of Cosine or L2 link feature combiner, we have effectively only used a single input feature to the logistic regression model. In practice, it makes sense to have multiple input features that best describe your domain. As a demonstration, we will add the Preferential attachment input as the second link feature. Looking at the documentation in Neo4j, the Preferential attachment is defined as multiplying node degrees between a pair of nodes. In practice, the preferential attachment model assumes that nodes with a higher node degree are more likely to form new connections. Unfortunately, we can't automatically add the preferential attachment link feature just yet, but we can add it manually. To add the preferential attachment input feature, we will first calculate the node degree values for all nodes. You sometimes want to normalize the input features with logistic regression models, so I will show you how to scale features directly in the Link Prediction pipeline. Then we just need to add the Hadamard link feature combiner, which multiplies the input matrices, in this case, node degrees. So if I understand the math correctly, the resulting link feature should represent preferential attachment as we effectively multiply node degrees between pairs of nodes.\n",
    "\n",
    "In the Link Prediction pipeline, you can have as many link feature combiners as you wish. The results of all link feature combiners are then concatenated into a single vector that is used as an input to the Link Prediction logistic regression model. We can add the degree calculation and scaling directly into the pipeline and don't have to prepare the degree features beforehand."
   ]
  },
  {
   "cell_type": "code",
   "execution_count": 33,
   "id": "04ca4efb",
   "metadata": {},
   "outputs": [],
   "source": [
    "def generate_pa_links(combiner, predictedRelType, scale=True):\n",
    "    # Delete all graph models & drop all named graphs\n",
    "    run_query(\"\"\"\n",
    "    CALL gds.graph.list() YIELD graphName\n",
    "    CALL gds.graph.drop(graphName) YIELD graphName as done\n",
    "    RETURN distinct 'dropped named graphs' as result\n",
    "    UNION\n",
    "    CALL gds.beta.model.list() YIELD modelInfo\n",
    "    CALL gds.beta.model.drop(modelInfo.modelName) YIELD modelInfo as done\n",
    "    RETURN distinct 'dropped ML models' as result\n",
    "    \"\"\")\n",
    "    # Define a new LP pipeline\n",
    "    run_query(\"\"\"\n",
    "    CALL gds.alpha.ml.pipeline.linkPrediction.create('lp-pipeline')\n",
    "    \"\"\")\n",
    "    # Get the degree value of each node\n",
    "    run_query(\"\"\"\n",
    "    CALL gds.alpha.ml.pipeline.linkPrediction.addNodeProperty('lp-pipeline', 'degree', {\n",
    "          mutateProperty: 'degree'\n",
    "    })\"\"\")\n",
    "    if scale:\n",
    "        # Scale the degree using minmax scaler\n",
    "        run_query(\"\"\"\n",
    "        CALL gds.alpha.ml.pipeline.linkPrediction.addNodeProperty('lp-pipeline', 'scaleProperties', {\n",
    "              nodeProperties: ['degree'],\n",
    "              mutateProperty: 'scaledDegree',\n",
    "              scaler:'MinMax'\n",
    "        })\n",
    "        \"\"\")\n",
    "        # Define HADAMARD combiner for node degree combiner\n",
    "        run_query(\"\"\"\n",
    "        CALL gds.alpha.ml.pipeline.linkPrediction.addFeature('lp-pipeline', 'HADAMARD', {\n",
    "          nodeProperties: ['scaledDegree']\n",
    "        }) YIELD featureSteps;\n",
    "        \"\"\")\n",
    "    else:\n",
    "        run_query(\"\"\"\n",
    "        CALL gds.alpha.ml.pipeline.linkPrediction.addFeature('lp-pipeline', 'HADAMARD', {\n",
    "          nodeProperties: ['degree']\n",
    "        }) YIELD featureSteps;\"\"\")\n",
    "        \n",
    "    # Define feature combiner\n",
    "    run_query(f\"\"\"\n",
    "    CALL gds.alpha.ml.pipeline.linkPrediction.addFeature('lp-pipeline', '{combiner}', {{\n",
    "      nodeProperties: ['embedding']\n",
    "    }}) YIELD featureSteps;\n",
    "    \"\"\")\n",
    "    # Define train-test split\n",
    "    run_query(\"\"\"\n",
    "    CALL gds.alpha.ml.pipeline.linkPrediction.configureSplit(\n",
    "     'lp-pipeline', {  \n",
    "       testFraction: 0.3,\n",
    "       trainFraction: 0.6,\n",
    "       validationFolds: 7})\n",
    "    YIELD splitConfig;\n",
    "    \"\"\")\n",
    "    # Configure LP model params\n",
    "    run_query(\"\"\"\n",
    "    CALL gds.alpha.ml.pipeline.linkPrediction.configureParams(\n",
    "      'lp-pipeline',  \n",
    "        [{tolerance: 0.001, maxEpochs: 500},    \n",
    "         {penalty:0.001, tolerance: 0.01,  maxEpochs: 500},      \n",
    "         {penalty:0.01, tolerance: 0.01, maxEpochs: 500}])\n",
    "    YIELD parameterSpace;\n",
    "    \"\"\")\n",
    "    # Construct named graph\n",
    "    run_query(\"\"\"\n",
    "    CALL gds.graph.create('lp-graph', \n",
    "      'Character', \n",
    "      {INTERACTS:{orientation:'UNDIRECTED'}},\n",
    "      {nodeProperties:'embedding'});\n",
    "    \"\"\")\n",
    "    # Train the model\n",
    "    run_query(\"\"\"\n",
    "    CALL gds.alpha.ml.pipeline.linkPrediction.train('lp-graph', \n",
    "  {pipeline: 'lp-pipeline',\n",
    "   modelName: 'lp-model',\n",
    "   randomSeed: 42})\n",
    "    YIELD modelInfo\n",
    "    RETURN  modelInfo.bestParameters AS winningModel,  modelInfo.metrics.AUCPR.outerTrain AS trainGraphScore,  modelInfo.metrics.AUCPR.test AS testGraphScore;\n",
    "    \"\"\")\n",
    "    # Predict new relationships\n",
    "    run_query(\"\"\"\n",
    "    CALL gds.alpha.ml.pipeline.linkPrediction.predict.mutate('lp-graph', \n",
    "      {modelName: 'lp-model',  \n",
    "       mutateRelationshipType: 'INTERACTS_PREDICTED',\n",
    "       topN: 20,\n",
    "       threshold: 0.45})\n",
    "    YIELD relationshipsWritten;\n",
    "    \"\"\")\n",
    "    # Store relationships back to graph\n",
    "    predicted_links = run_query(f\"\"\"\n",
    "    CALL gds.graph.streamRelationshipProperty('lp-graph', \n",
    "      'probability', \n",
    "      ['INTERACTS_PREDICTED'])\n",
    "    YIELD  sourceNodeId, targetNodeId, propertyValue as probability\n",
    "    WHERE sourceNodeId < targetNodeId\n",
    "    MATCH (s),(t)\n",
    "    WHERE id(s)=sourceNodeId AND id(t)=targetNodeId\n",
    "    MERGE (s)-[:{predictedRelType}]-(t)\n",
    "    RETURN avg(gds.alpha.similarity.euclideanDistance(s.embedding, t.embedding)) AS euclidian_similarity,\n",
    "           avg(gds.alpha.similarity.cosine(s.embedding, t.embedding)) AS cosine_similarity\n",
    "    \"\"\")\n",
    "    return predicted_links"
   ]
  },
  {
   "cell_type": "code",
   "execution_count": 34,
   "id": "34184199",
   "metadata": {},
   "outputs": [
    {
     "data": {
      "text/html": [
       "<div>\n",
       "<style scoped>\n",
       "    .dataframe tbody tr th:only-of-type {\n",
       "        vertical-align: middle;\n",
       "    }\n",
       "\n",
       "    .dataframe tbody tr th {\n",
       "        vertical-align: top;\n",
       "    }\n",
       "\n",
       "    .dataframe thead th {\n",
       "        text-align: right;\n",
       "    }\n",
       "</style>\n",
       "<table border=\"1\" class=\"dataframe\">\n",
       "  <thead>\n",
       "    <tr style=\"text-align: right;\">\n",
       "      <th></th>\n",
       "      <th>euclidian_similarity</th>\n",
       "      <th>cosine_similarity</th>\n",
       "    </tr>\n",
       "  </thead>\n",
       "  <tbody>\n",
       "    <tr>\n",
       "      <th>0</th>\n",
       "      <td>0.531211</td>\n",
       "      <td>0.961212</td>\n",
       "    </tr>\n",
       "  </tbody>\n",
       "</table>\n",
       "</div>"
      ],
      "text/plain": [
       "   euclidian_similarity  cosine_similarity\n",
       "0              0.531211           0.961212"
      ]
     },
     "execution_count": 34,
     "metadata": {},
     "output_type": "execute_result"
    }
   ],
   "source": [
    "generate_pa_links('cosine', 'PA_COSINE')"
   ]
  },
  {
   "cell_type": "code",
   "execution_count": 35,
   "id": "a7ab4362",
   "metadata": {},
   "outputs": [
    {
     "data": {
      "text/html": [
       "<div>\n",
       "<style scoped>\n",
       "    .dataframe tbody tr th:only-of-type {\n",
       "        vertical-align: middle;\n",
       "    }\n",
       "\n",
       "    .dataframe tbody tr th {\n",
       "        vertical-align: top;\n",
       "    }\n",
       "\n",
       "    .dataframe thead th {\n",
       "        text-align: right;\n",
       "    }\n",
       "</style>\n",
       "<table border=\"1\" class=\"dataframe\">\n",
       "  <thead>\n",
       "    <tr style=\"text-align: right;\">\n",
       "      <th></th>\n",
       "      <th>euclidian_similarity</th>\n",
       "      <th>cosine_similarity</th>\n",
       "    </tr>\n",
       "  </thead>\n",
       "  <tbody>\n",
       "    <tr>\n",
       "      <th>0</th>\n",
       "      <td>0.039154</td>\n",
       "      <td>0.999498</td>\n",
       "    </tr>\n",
       "  </tbody>\n",
       "</table>\n",
       "</div>"
      ],
      "text/plain": [
       "   euclidian_similarity  cosine_similarity\n",
       "0              0.039154           0.999498"
      ]
     },
     "execution_count": 35,
     "metadata": {},
     "output_type": "execute_result"
    }
   ],
   "source": [
    "generate_pa_links('l2', 'PA_L2')"
   ]
  },
  {
   "cell_type": "code",
   "execution_count": 36,
   "id": "5e6f706c",
   "metadata": {},
   "outputs": [
    {
     "data": {
      "text/html": [
       "<div>\n",
       "<style scoped>\n",
       "    .dataframe tbody tr th:only-of-type {\n",
       "        vertical-align: middle;\n",
       "    }\n",
       "\n",
       "    .dataframe tbody tr th {\n",
       "        vertical-align: top;\n",
       "    }\n",
       "\n",
       "    .dataframe thead th {\n",
       "        text-align: right;\n",
       "    }\n",
       "</style>\n",
       "<table border=\"1\" class=\"dataframe\">\n",
       "  <thead>\n",
       "    <tr style=\"text-align: right;\">\n",
       "      <th></th>\n",
       "      <th>euclidian_similarity</th>\n",
       "      <th>cosine_similarity</th>\n",
       "    </tr>\n",
       "  </thead>\n",
       "  <tbody>\n",
       "    <tr>\n",
       "      <th>0</th>\n",
       "      <td>1.968174</td>\n",
       "      <td>0.48027</td>\n",
       "    </tr>\n",
       "  </tbody>\n",
       "</table>\n",
       "</div>"
      ],
      "text/plain": [
       "   euclidian_similarity  cosine_similarity\n",
       "0              1.968174            0.48027"
      ]
     },
     "execution_count": 36,
     "metadata": {},
     "output_type": "execute_result"
    }
   ],
   "source": [
    "generate_pa_links('l2', 'PA_L2_NOTSCALED1', False)"
   ]
  },
  {
   "cell_type": "code",
   "execution_count": 28,
   "id": "8dbeb46e",
   "metadata": {},
   "outputs": [
    {
     "data": {
      "text/html": [
       "<div>\n",
       "<style scoped>\n",
       "    .dataframe tbody tr th:only-of-type {\n",
       "        vertical-align: middle;\n",
       "    }\n",
       "\n",
       "    .dataframe tbody tr th {\n",
       "        vertical-align: top;\n",
       "    }\n",
       "\n",
       "    .dataframe thead th {\n",
       "        text-align: right;\n",
       "    }\n",
       "</style>\n",
       "<table border=\"1\" class=\"dataframe\">\n",
       "  <thead>\n",
       "    <tr style=\"text-align: right;\">\n",
       "      <th></th>\n",
       "      <th>euclidian_similarity</th>\n",
       "      <th>cosine_similarity</th>\n",
       "    </tr>\n",
       "  </thead>\n",
       "  <tbody>\n",
       "    <tr>\n",
       "      <th>0</th>\n",
       "      <td>0.20511</td>\n",
       "      <td>0.993773</td>\n",
       "    </tr>\n",
       "  </tbody>\n",
       "</table>\n",
       "</div>"
      ],
      "text/plain": [
       "   euclidian_similarity  cosine_similarity\n",
       "0               0.20511           0.993773"
      ]
     },
     "execution_count": 28,
     "metadata": {},
     "output_type": "execute_result"
    }
   ],
   "source": [
    "generate_pa_links('hadamard', 'PA_HADAMARD')"
   ]
  },
  {
   "cell_type": "markdown",
   "id": "af353d42",
   "metadata": {},
   "source": [
    "# Conclusion\n",
    "I have really enjoyed writing this blog post and learned a lot about FastRP embedding algorithm and Link Prediction pipeline along the way. A quick summary would be:\n",
    "* FastRP is more likely to assign high similarity between neighboring nodes with a low degree\n",
    "* On the other hand, the cosine similarity between connected nodes of different communities could be lower than 0.5\n",
    "* Using multiple link feature combiners can help you better describe your domain\n",
    "* Scaling node features influences the result of Link Prediction logistic regression model"
   ]
  },
  {
   "cell_type": "code",
   "execution_count": null,
   "id": "3c058910",
   "metadata": {},
   "outputs": [],
   "source": []
  }
 ],
 "metadata": {
  "kernelspec": {
   "display_name": "Python 3",
   "language": "python",
   "name": "python3"
  },
  "language_info": {
   "codemirror_mode": {
    "name": "ipython",
    "version": 3
   },
   "file_extension": ".py",
   "mimetype": "text/x-python",
   "name": "python",
   "nbconvert_exporter": "python",
   "pygments_lexer": "ipython3",
   "version": "3.8.8"
  }
 },
 "nbformat": 4,
 "nbformat_minor": 5
}
