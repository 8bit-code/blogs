{
  "nbformat": 4,
  "nbformat_minor": 0,
  "metadata": {
    "colab": {
      "name": "Matrix.ipynb",
      "provenance": [],
      "collapsed_sections": [],
      "authorship_tag": "ABX9TyOKqTJ2d0ViIdLZjTBpAhz+",
      "include_colab_link": true
    },
    "kernelspec": {
      "name": "python3",
      "display_name": "Python 3"
    },
    "language_info": {
      "name": "python"
    }
  },
  "cells": [
    {
      "cell_type": "markdown",
      "metadata": {
        "id": "view-in-github",
        "colab_type": "text"
      },
      "source": [
        "<a href=\"https://colab.research.google.com/github/tomasonjo/blogs/blob/master/matrix/MatrixNLP.ipynb\" target=\"_parent\"><img src=\"https://colab.research.google.com/assets/colab-badge.svg\" alt=\"Open In Colab\"/></a>"
      ]
    },
    {
      "cell_type": "code",
      "execution_count": 1,
      "metadata": {
        "colab": {
          "base_uri": "https://localhost:8080/"
        },
        "id": "xU9656o614cy",
        "outputId": "449e8859-2c80-4397-cb6d-ff73722cbf93"
      },
      "outputs": [
        {
          "output_type": "stream",
          "name": "stdout",
          "text": [
            "Reading package lists... Done\n",
            "Building dependency tree       \n",
            "Reading state information... Done\n",
            "tesseract-ocr is already the newest version (4.00~git2288-10f4998a-2).\n",
            "0 upgraded, 0 newly installed, 0 to remove and 69 not upgraded.\n",
            "Reading package lists... Done\n",
            "Building dependency tree       \n",
            "Reading state information... Done\n",
            "poppler-utils is already the newest version (0.62.0-2ubuntu2.12).\n",
            "0 upgraded, 0 newly installed, 0 to remove and 69 not upgraded.\n",
            "Requirement already satisfied: selenium in /usr/local/lib/python3.7/dist-packages (4.1.0)\n",
            "Requirement already satisfied: neo4j in /usr/local/lib/python3.7/dist-packages (4.4.0)\n",
            "Requirement already satisfied: pytesseract in /usr/local/lib/python3.7/dist-packages (0.3.8)\n",
            "Requirement already satisfied: pdf2image in /usr/local/lib/python3.7/dist-packages (1.16.0)\n",
            "Requirement already satisfied: trio~=0.17 in /usr/local/lib/python3.7/dist-packages (from selenium) (0.19.0)\n",
            "Requirement already satisfied: urllib3[secure]~=1.26 in /usr/local/lib/python3.7/dist-packages (from selenium) (1.26.7)\n",
            "Requirement already satisfied: trio-websocket~=0.9 in /usr/local/lib/python3.7/dist-packages (from selenium) (0.9.2)\n",
            "Requirement already satisfied: async-generator>=1.9 in /usr/local/lib/python3.7/dist-packages (from trio~=0.17->selenium) (1.10)\n",
            "Requirement already satisfied: sortedcontainers in /usr/local/lib/python3.7/dist-packages (from trio~=0.17->selenium) (2.4.0)\n",
            "Requirement already satisfied: attrs>=19.2.0 in /usr/local/lib/python3.7/dist-packages (from trio~=0.17->selenium) (21.2.0)\n",
            "Requirement already satisfied: outcome in /usr/local/lib/python3.7/dist-packages (from trio~=0.17->selenium) (1.1.0)\n",
            "Requirement already satisfied: sniffio in /usr/local/lib/python3.7/dist-packages (from trio~=0.17->selenium) (1.2.0)\n",
            "Requirement already satisfied: idna in /usr/local/lib/python3.7/dist-packages (from trio~=0.17->selenium) (2.10)\n",
            "Requirement already satisfied: wsproto>=0.14 in /usr/local/lib/python3.7/dist-packages (from trio-websocket~=0.9->selenium) (1.0.0)\n",
            "Requirement already satisfied: cryptography>=1.3.4 in /usr/local/lib/python3.7/dist-packages (from urllib3[secure]~=1.26->selenium) (36.0.1)\n",
            "Requirement already satisfied: pyOpenSSL>=0.14 in /usr/local/lib/python3.7/dist-packages (from urllib3[secure]~=1.26->selenium) (21.0.0)\n",
            "Requirement already satisfied: certifi in /usr/local/lib/python3.7/dist-packages (from urllib3[secure]~=1.26->selenium) (2021.10.8)\n",
            "Requirement already satisfied: cffi>=1.12 in /usr/local/lib/python3.7/dist-packages (from cryptography>=1.3.4->urllib3[secure]~=1.26->selenium) (1.15.0)\n",
            "Requirement already satisfied: pycparser in /usr/local/lib/python3.7/dist-packages (from cffi>=1.12->cryptography>=1.3.4->urllib3[secure]~=1.26->selenium) (2.21)\n",
            "Requirement already satisfied: six>=1.5.2 in /usr/local/lib/python3.7/dist-packages (from pyOpenSSL>=0.14->urllib3[secure]~=1.26->selenium) (1.15.0)\n",
            "Requirement already satisfied: h11<1,>=0.9.0 in /usr/local/lib/python3.7/dist-packages (from wsproto>=0.14->trio-websocket~=0.9->selenium) (0.12.0)\n",
            "Requirement already satisfied: pytz in /usr/local/lib/python3.7/dist-packages (from neo4j) (2018.9)\n",
            "Requirement already satisfied: Pillow in /usr/local/lib/python3.7/dist-packages (from pytesseract) (7.1.2)\n"
          ]
        }
      ],
      "source": [
        "!sudo apt install tesseract-ocr\n",
        "!sudo apt-get install poppler-utils \n",
        "# Install dependencies\n",
        "!pip install -U selenium neo4j pytesseract pdf2image"
      ]
    },
    {
      "cell_type": "code",
      "source": [
        "# Setup selenium\n",
        "!apt-get update\n",
        "!apt install chromium-chromedriver\n",
        "!cp /usr/lib/chromium-browser/chromedriver /usr/bin\n",
        "import sys\n",
        "sys.path.insert(0,'/usr/lib/chromium-browser/chromedriver')\n",
        "from selenium import webdriver\n",
        "chrome_options = webdriver.ChromeOptions()\n",
        "chrome_options.add_argument('--headless')\n",
        "chrome_options.add_argument('--no-sandbox')\n",
        "chrome_options.add_argument('--disable-dev-shm-usage')\n",
        "wd = webdriver.Chrome('chromedriver',chrome_options=chrome_options)"
      ],
      "metadata": {
        "colab": {
          "base_uri": "https://localhost:8080/"
        },
        "id": "QzliV2US4yQR",
        "outputId": "627e789c-fdd2-4796-dab0-392f9c79fb76"
      },
      "execution_count": 2,
      "outputs": [
        {
          "output_type": "stream",
          "name": "stdout",
          "text": [
            "Hit:1 https://cloud.r-project.org/bin/linux/ubuntu bionic-cran40/ InRelease\n",
            "Ign:2 https://developer.download.nvidia.com/compute/cuda/repos/ubuntu1804/x86_64  InRelease\n",
            "Hit:3 http://security.ubuntu.com/ubuntu bionic-security InRelease\n",
            "Hit:4 http://archive.ubuntu.com/ubuntu bionic InRelease\n",
            "Hit:5 http://ppa.launchpad.net/c2d4u.team/c2d4u4.0+/ubuntu bionic InRelease\n",
            "Ign:6 https://developer.download.nvidia.com/compute/machine-learning/repos/ubuntu1804/x86_64  InRelease\n",
            "Hit:7 https://developer.download.nvidia.com/compute/cuda/repos/ubuntu1804/x86_64  Release\n",
            "Hit:8 https://developer.download.nvidia.com/compute/machine-learning/repos/ubuntu1804/x86_64  Release\n",
            "Hit:9 http://archive.ubuntu.com/ubuntu bionic-updates InRelease\n",
            "Hit:10 http://archive.ubuntu.com/ubuntu bionic-backports InRelease\n",
            "Hit:11 http://ppa.launchpad.net/cran/libgit2/ubuntu bionic InRelease\n",
            "Hit:12 http://ppa.launchpad.net/deadsnakes/ppa/ubuntu bionic InRelease\n",
            "Hit:13 http://ppa.launchpad.net/graphics-drivers/ppa/ubuntu bionic InRelease\n",
            "Reading package lists... Done\n",
            "Reading package lists... Done\n",
            "Building dependency tree       \n",
            "Reading state information... Done\n",
            "chromium-chromedriver is already the newest version (95.0.4638.69-0ubuntu0.18.04.1).\n",
            "0 upgraded, 0 newly installed, 0 to remove and 69 not upgraded.\n",
            "cp: '/usr/lib/chromium-browser/chromedriver' and '/usr/bin/chromedriver' are the same file\n"
          ]
        },
        {
          "output_type": "stream",
          "name": "stderr",
          "text": [
            "/usr/local/lib/python3.7/dist-packages/ipykernel_launcher.py:12: DeprecationWarning: use options instead of chrome_options\n",
            "  if sys.path[0] == '':\n"
          ]
        }
      ]
    },
    {
      "cell_type": "code",
      "source": [
        "wikifan_url = \"https://matrix.fandom.com/wiki/Category:Characters_in_The_Matrix\""
      ],
      "metadata": {
        "id": "Qao8upic21Zd"
      },
      "execution_count": 3,
      "outputs": []
    },
    {
      "cell_type": "code",
      "source": [
        "member_list = []\n",
        "wd.get(wikifan_url)\n",
        "members = wd.find_elements_by_class_name(\"category-page__member-link\")\n",
        "for m in members:\n",
        "  member_list.append({'url':m.get_attribute('href'), 'name': m.text})"
      ],
      "metadata": {
        "colab": {
          "base_uri": "https://localhost:8080/"
        },
        "id": "Kzv8cJ8w38WZ",
        "outputId": "b5a1f55f-be57-49bd-99e0-31bdcacc679a"
      },
      "execution_count": 4,
      "outputs": [
        {
          "output_type": "stream",
          "name": "stderr",
          "text": [
            "/usr/local/lib/python3.7/dist-packages/ipykernel_launcher.py:3: DeprecationWarning: find_elements_by_* commands are deprecated. Please use find_elements() instead\n",
            "  This is separate from the ipykernel package so we can avoid doing imports until\n"
          ]
        }
      ]
    },
    {
      "cell_type": "code",
      "source": [
        "for m in member_list:\n",
        "  print(m)\n",
        "  wd.get(m['url'])\n",
        "  elements = wd.find_elements_by_class_name(\"pi-data\")\n",
        "  for e in elements:\n",
        "    try:\n",
        "      label = e.find_element_by_tag_name(\"h3\")\n",
        "      value = e.find_element_by_tag_name(\"div\")\n",
        "      m[label.text] = value.text\n",
        "    except:\n",
        "      pass\n",
        "\n",
        "  "
      ],
      "metadata": {
        "colab": {
          "base_uri": "https://localhost:8080/"
        },
        "id": "i8kMbdUB5PHV",
        "outputId": "ce51dfa3-405d-4692-c245-e094b48ba339"
      },
      "execution_count": 5,
      "outputs": [
        {
          "output_type": "stream",
          "name": "stdout",
          "text": [
            "{'url': 'https://matrix.fandom.com/wiki/Apoc', 'name': 'Apoc'}\n"
          ]
        },
        {
          "output_type": "stream",
          "name": "stderr",
          "text": [
            "/usr/local/lib/python3.7/dist-packages/ipykernel_launcher.py:4: DeprecationWarning: find_elements_by_* commands are deprecated. Please use find_elements() instead\n",
            "  after removing the cwd from sys.path.\n",
            "/usr/local/lib/python3.7/dist-packages/selenium/webdriver/remote/webelement.py:341: UserWarning: find_element_by_* commands are deprecated. Please use find_element() instead\n",
            "  warnings.warn(\"find_element_by_* commands are deprecated. Please use find_element() instead\")\n"
          ]
        },
        {
          "output_type": "stream",
          "name": "stdout",
          "text": [
            "{'url': 'https://matrix.fandom.com/wiki/Austin', 'name': 'Austin'}\n",
            "{'url': 'https://matrix.fandom.com/wiki/Agent_Brown', 'name': 'Agent Brown'}\n",
            "{'url': 'https://matrix.fandom.com/wiki/Choi', 'name': 'Choi'}\n",
            "{'url': 'https://matrix.fandom.com/wiki/Crawford', 'name': 'Crawford'}\n",
            "{'url': 'https://matrix.fandom.com/wiki/Cypher', 'name': 'Cypher'}\n",
            "{'url': 'https://matrix.fandom.com/wiki/Dozer', 'name': 'Dozer'}\n",
            "{'url': 'https://matrix.fandom.com/wiki/Dujour', 'name': 'Dujour'}\n",
            "{'url': 'https://matrix.fandom.com/wiki/FedEx_Man', 'name': 'FedEx Man'}\n",
            "{'url': 'https://matrix.fandom.com/wiki/Garcia', 'name': 'Garcia'}\n",
            "{'url': 'https://matrix.fandom.com/wiki/Green', 'name': 'Green'}\n",
            "{'url': 'https://matrix.fandom.com/wiki/Agent_Jones', 'name': 'Agent Jones'}\n",
            "{'url': 'https://matrix.fandom.com/wiki/Kim', 'name': 'Kim'}\n",
            "{'url': 'https://matrix.fandom.com/wiki/Law_Enforcement', 'name': 'Law Enforcement'}\n",
            "{'url': 'https://matrix.fandom.com/wiki/Lieutenant', 'name': 'Lieutenant'}\n",
            "{'url': 'https://matrix.fandom.com/wiki/Morpheus', 'name': 'Morpheus'}\n",
            "{'url': 'https://matrix.fandom.com/wiki/Mouse', 'name': 'Mouse'}\n",
            "{'url': 'https://matrix.fandom.com/wiki/Neo', 'name': 'Neo'}\n",
            "{'url': 'https://matrix.fandom.com/wiki/Nguyen', 'name': 'Nguyen'}\n",
            "{'url': 'https://matrix.fandom.com/wiki/Old_Man', 'name': 'Old Man'}\n",
            "{'url': 'https://matrix.fandom.com/wiki/The_Oracle', 'name': 'The Oracle'}\n",
            "{'url': 'https://matrix.fandom.com/wiki/The_Priestess', 'name': 'The Priestess'}\n",
            "{'url': 'https://matrix.fandom.com/wiki/Rhineheart', 'name': 'Rhineheart'}\n",
            "{'url': 'https://matrix.fandom.com/wiki/S.W.A.T.', 'name': 'S.W.A.T.'}\n",
            "{'url': 'https://matrix.fandom.com/wiki/Security_Guard', 'name': 'Security Guard'}\n",
            "{'url': 'https://matrix.fandom.com/wiki/Security_Guards', 'name': 'Security Guards'}\n",
            "{'url': 'https://matrix.fandom.com/wiki/Agent_Smith', 'name': 'Agent Smith'}\n",
            "{'url': 'https://matrix.fandom.com/wiki/Spoon_Boy', 'name': 'Spoon Boy'}\n",
            "{'url': 'https://matrix.fandom.com/wiki/Switch', 'name': 'Switch'}\n",
            "{'url': 'https://matrix.fandom.com/wiki/System_aligned_bluepills', 'name': 'System aligned bluepills'}\n",
            "{'url': 'https://matrix.fandom.com/wiki/Tank', 'name': 'Tank'}\n",
            "{'url': 'https://matrix.fandom.com/wiki/Woman_in_Red', 'name': 'Woman in Red'}\n"
          ]
        }
      ]
    },
    {
      "cell_type": "code",
      "source": [
        "member_list"
      ],
      "metadata": {
        "id": "83fJCzn7_rkL",
        "outputId": "6252eff0-0189-409c-d351-09d14a64dccf",
        "colab": {
          "base_uri": "https://localhost:8080/"
        }
      },
      "execution_count": 6,
      "outputs": [
        {
          "output_type": "execute_result",
          "data": {
            "text/plain": [
              "[{'Appearances': 'The Matrix\\nThe Matrix: Path of Neo',\n",
              "  'Entity': 'Human',\n",
              "  'Eye color': 'Green',\n",
              "  'Gender': 'Male',\n",
              "  'Hair color': 'Black',\n",
              "  'Height': '178 cm',\n",
              "  'name': 'Apoc',\n",
              "  'url': 'https://matrix.fandom.com/wiki/Apoc'},\n",
              " {'name': 'Austin', 'url': 'https://matrix.fandom.com/wiki/Austin'},\n",
              " {'Appearances': 'The Matrix',\n",
              "  'Eye color': 'Brown',\n",
              "  'Height': '177 cm',\n",
              "  'Portrayed by': 'Paul Goddard',\n",
              "  'Purpose': 'Protect the Matrix\\nKeep the Resistance contained',\n",
              "  'name': 'Agent Brown',\n",
              "  'url': 'https://matrix.fandom.com/wiki/Agent_Brown'},\n",
              " {'name': 'Choi', 'url': 'https://matrix.fandom.com/wiki/Choi'},\n",
              " {'name': 'Crawford', 'url': 'https://matrix.fandom.com/wiki/Crawford'},\n",
              " {'Appearances': 'The Matrix\\nThe Matrix: Path of Neo\\nThe Matrix Online (Mentioned only)',\n",
              "  'Eye color': 'Blue',\n",
              "  'Gender': 'Male',\n",
              "  'Hacker name': 'Cypher',\n",
              "  'Hair color': 'Brown',\n",
              "  'Height': '176 cm',\n",
              "  'Real name': 'Mr. Reagan',\n",
              "  'name': 'Cypher',\n",
              "  'url': 'https://matrix.fandom.com/wiki/Cypher'},\n",
              " {'Appearances': 'The Matrix',\n",
              "  'Entity': 'Pilot/health & wellness crewman on the Nebuchadnezzar',\n",
              "  'Eye color': 'Brown',\n",
              "  'Gender': 'Male',\n",
              "  'Hacker name': 'None',\n",
              "  'Hair color': 'Black',\n",
              "  'Real name': 'Dozer',\n",
              "  'name': 'Dozer',\n",
              "  'url': 'https://matrix.fandom.com/wiki/Dozer'},\n",
              " {'name': 'Dujour', 'url': 'https://matrix.fandom.com/wiki/Dujour'},\n",
              " {'name': 'FedEx Man', 'url': 'https://matrix.fandom.com/wiki/FedEx_Man'},\n",
              " {'name': 'Garcia', 'url': 'https://matrix.fandom.com/wiki/Garcia'},\n",
              " {'name': 'Green', 'url': 'https://matrix.fandom.com/wiki/Green'},\n",
              " {'Appearances': 'The Matrix',\n",
              "  'Hair color': 'Brown',\n",
              "  'Height': '1.88 meters',\n",
              "  'Purpose': 'Keep the Resistance contained\\nProtect the Matrix',\n",
              "  'name': 'Agent Jones',\n",
              "  'url': 'https://matrix.fandom.com/wiki/Agent_Jones'},\n",
              " {'name': 'Kim', 'url': 'https://matrix.fandom.com/wiki/Kim'},\n",
              " {'name': 'Law Enforcement',\n",
              "  'url': 'https://matrix.fandom.com/wiki/Law_Enforcement'},\n",
              " {'name': 'Lieutenant', 'url': 'https://matrix.fandom.com/wiki/Lieutenant'},\n",
              " {'Appearances': \"The Matrix\\nThe Matrix Reloaded\\nEnter the Matrix\\nThe Matrix Revolutions\\nThe Matrix: Path of Neo\\nThe Miller's Tale\\nI Kant\\nA Life Less Empty\\nWho Says You Can't Get Good Help These Days?\\nThe Matrix Online\\nThe Matrix Resurrections (unreleased)\",\n",
              "  'Entity': 'Captain of the Nebuchadnezzar',\n",
              "  'Eye color': 'Brown',\n",
              "  'Gender': 'Male',\n",
              "  'Hacker name': 'Morpheus',\n",
              "  'Hair color': 'None',\n",
              "  'Height': '1.83m',\n",
              "  'Portrayed by': 'Original Trilogy:\\nLaurence Fishburne\\nResurrections:\\nYahya Abdul-Mateen II',\n",
              "  'Real name': 'Daniel (possibly)',\n",
              "  'name': 'Morpheus',\n",
              "  'url': 'https://matrix.fandom.com/wiki/Morpheus'},\n",
              " {'Appearances': 'The Matrix\\nThe Matrix: Path of Neo',\n",
              "  'Entity': 'programmer and operative',\n",
              "  'Eye color': 'Blue',\n",
              "  'Gender': 'Male',\n",
              "  'Hacker name': 'Mouse',\n",
              "  'Hair color': 'Brown',\n",
              "  'Height': '171 cm',\n",
              "  'name': 'Mouse',\n",
              "  'url': 'https://matrix.fandom.com/wiki/Mouse'},\n",
              " {'Age': '37',\n",
              "  'Appearances': \"The Matrix\\nKid's Story\\nThe Matrix Reloaded\\nEnter the Matrix\\nThe Matrix Revolutions\\nThe Matrix Online\\nThe Matrix: Path of Neo\\nThe Matrix Resurrections (unreleased)\",\n",
              "  'Enemies': 'Agent Smith',\n",
              "  'Entity': 'The One',\n",
              "  'Eye color': 'Brown',\n",
              "  'Gender': 'Male',\n",
              "  'Hacker name': 'Neo',\n",
              "  'Hair color': 'Black',\n",
              "  'Height': '1.86 meters (6\\'1\")',\n",
              "  'Nationality': 'American',\n",
              "  'Portrayed by': 'Keanu Reeves',\n",
              "  'Real name': 'Thomas A. Anderson',\n",
              "  'Spouse': 'Trinity',\n",
              "  'Status': 'Alive',\n",
              "  'name': 'Neo',\n",
              "  'url': 'https://matrix.fandom.com/wiki/Neo'},\n",
              " {'name': 'Nguyen', 'url': 'https://matrix.fandom.com/wiki/Nguyen'},\n",
              " {'Affiliation': 'The Oracle',\n",
              "  'Eye color': '?',\n",
              "  'Gender': 'Male',\n",
              "  'Hair color': 'White',\n",
              "  'Purpose': 'To guard The Oracle',\n",
              "  'Type of Exile': 'Human',\n",
              "  'name': 'Old Man',\n",
              "  'url': 'https://matrix.fandom.com/wiki/Old_Man'},\n",
              " {'Affiliation': 'The Oracle',\n",
              "  'Eye color': 'Brown',\n",
              "  'Gender': 'Female',\n",
              "  'Hair color': 'Black',\n",
              "  'Purpose': 'Providing assistance to freed Redpills\\n\"Unbalancing\" the equation\\nStudying certain aspects of the human psyche',\n",
              "  'Type of Exile': 'Program',\n",
              "  'name': 'The Oracle',\n",
              "  'url': 'https://matrix.fandom.com/wiki/The_Oracle'},\n",
              " {'Affiliation': 'The Oracle',\n",
              "  'Gender': 'Female',\n",
              "  'Hair color': 'Black',\n",
              "  'Purpose': 'To serve The Oracle',\n",
              "  'name': 'The Priestess',\n",
              "  'url': 'https://matrix.fandom.com/wiki/The_Priestess'},\n",
              " {'name': 'Rhineheart', 'url': 'https://matrix.fandom.com/wiki/Rhineheart'},\n",
              " {'name': 'S.W.A.T.', 'url': 'https://matrix.fandom.com/wiki/S.W.A.T.'},\n",
              " {'name': 'Security Guard',\n",
              "  'url': 'https://matrix.fandom.com/wiki/Security_Guard'},\n",
              " {'name': 'Security Guards',\n",
              "  'url': 'https://matrix.fandom.com/wiki/Security_Guards'},\n",
              " {'Appearances': 'The Matrix\\nEnter the Matrix\\nThe Matrix Reloaded\\nThe Matrix Revolutions\\nThe Matrix: Path of Neo\\nThe Matrix Resurrections (unreleased)',\n",
              "  'Eye color': 'Blue',\n",
              "  'Hair color': 'Brown',\n",
              "  'Height': '1.88 m (6’2)',\n",
              "  'Portrayed by': 'Original Trilogy:\\nHugo Weaving\\nResurrections:\\nJonathan Groff',\n",
              "  'Purpose': 'Protect the Matrix (initially)\\nKeep the Resistance contained',\n",
              "  'name': 'Agent Smith',\n",
              "  'url': 'https://matrix.fandom.com/wiki/Agent_Smith'},\n",
              " {'Affiliation': 'The Oracle',\n",
              "  'Gender': 'Male',\n",
              "  'Hair color': 'Bald',\n",
              "  'name': 'Spoon Boy',\n",
              "  'url': 'https://matrix.fandom.com/wiki/Spoon_Boy'},\n",
              " {'Appearances': 'The Matrix\\nThe Matrix: Path of Neo',\n",
              "  'Eye color': 'Green',\n",
              "  'Gender': 'Female',\n",
              "  'Hacker name': 'Switch',\n",
              "  'Hair color': 'White Blond',\n",
              "  'Height': '1.68 meters',\n",
              "  'Portrayed by': 'Belinda McClory',\n",
              "  'name': 'Switch',\n",
              "  'url': 'https://matrix.fandom.com/wiki/Switch'},\n",
              " {'name': 'System aligned bluepills',\n",
              "  'url': 'https://matrix.fandom.com/wiki/System_aligned_bluepills'},\n",
              " {'Appearances': 'The Matrix\\nThe Matrix: Path of Neo\\nThe Matrix Reloaded (Mentioned only)',\n",
              "  'Entity': 'Operator on the Nebuchadnezzar',\n",
              "  'Eye color': 'Brown',\n",
              "  'Gender': 'Male',\n",
              "  'Hacker name': 'None',\n",
              "  'Hair color': 'Black',\n",
              "  'Real name': 'Tank',\n",
              "  'name': 'Tank',\n",
              "  'url': 'https://matrix.fandom.com/wiki/Tank'},\n",
              " {'Appearances': 'The Matrix, The Matrix Reloaded (as drawing)',\n",
              "  'Entity': 'Construct Program',\n",
              "  'Gender': 'Female',\n",
              "  'Hair color': 'Blond',\n",
              "  'name': 'Woman in Red',\n",
              "  'url': 'https://matrix.fandom.com/wiki/Woman_in_Red'}]"
            ]
          },
          "metadata": {},
          "execution_count": 6
        }
      ]
    },
    {
      "cell_type": "code",
      "source": [
        "import requests\n",
        "import pdf2image\n",
        "import pytesseract\n",
        "\n",
        "pdf_link = \"https://www.dailyscript.com/scripts/the_matrix.pdf\"\n",
        "\n",
        "pdf = requests.get(pdf_link)\n",
        "doc = pdf2image.convert_from_bytes(pdf.content)\n",
        "\n",
        "# Get the article text\n",
        "article = []\n",
        "for page_number, page_data in enumerate(doc):\n",
        "    # First page is the title\n",
        "    if page_number == 0:\n",
        "      continue\n",
        "    txt = pytesseract.image_to_string(page_data, lang='eng', config='--psm 11').encode(\"utf-8\")\n",
        "    article.append(txt.decode(\"utf-8\"))\n",
        "article_txt = \" \".join(article)"
      ],
      "metadata": {
        "id": "XcF4eb3u2qE_",
        "outputId": "bd60f820-1ccf-4f80-d19b-c0dee488ce36",
        "colab": {
          "base_uri": "https://localhost:8080/"
        }
      },
      "execution_count": null,
      "outputs": [
        {
          "output_type": "stream",
          "name": "stderr",
          "text": [
            "/usr/local/lib/python3.7/dist-packages/requests/__init__.py:91: RequestsDependencyWarning: urllib3 (1.26.7) or chardet (3.0.4) doesn't match a supported version!\n",
            "  RequestsDependencyWarning)\n"
          ]
        }
      ]
    },
    {
      "cell_type": "code",
      "source": [
        "article_txt"
      ],
      "metadata": {
        "id": "zW7TY6CRDPvy"
      },
      "execution_count": null,
      "outputs": []
    },
    {
      "cell_type": "code",
      "source": [
        "# a bit of cleaning\n",
        "article_clean_txt = \"\\n\".join([line for line in article_txt.split(\"\\n\") if not \"THE MATRIX\" in line and not \"CONTINUED\" in line])"
      ],
      "metadata": {
        "id": "eEhFVZh5EMSm"
      },
      "execution_count": null,
      "outputs": []
    },
    {
      "cell_type": "code",
      "source": [
        "# Optionally store to file\n",
        "with open('/matrix_script.txt', 'w') as writefile:\n",
        "    writefile.write(article_clean_txt)\n",
        "\n",
        "from google.colab import files\n",
        "files.download('/matrix_script.txt')"
      ],
      "metadata": {
        "id": "irDkqb4u2WBM"
      },
      "execution_count": null,
      "outputs": []
    },
    {
      "cell_type": "code",
      "source": [
        ""
      ],
      "metadata": {
        "id": "0hjOCB1XMXsZ"
      },
      "execution_count": null,
      "outputs": []
    }
  ]
}