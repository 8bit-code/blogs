{
 "cells": [
  {
   "cell_type": "code",
   "execution_count": 1,
   "id": "e437de6e",
   "metadata": {},
   "outputs": [],
   "source": [
    "import numpy as np\n",
    "import pandas as pd\n",
    "\n",
    "from graphdatascience import GraphDataScience\n",
    "\n",
    "from skmultilearn.model_selection import iterative_train_test_split\n",
    "from skmultilearn.problem_transform import LabelPowerset\n",
    "\n",
    "from sklearn.metrics import accuracy_score, precision_score\n",
    "from sklearn.preprocessing import MultiLabelBinarizer\n",
    "from sklearn.linear_model import LogisticRegression\n",
    "\n",
    "import warnings\n",
    "\n",
    "warnings.filterwarnings('ignore')\n",
    "pd.set_option('display.max_colwidth', 100)\n"
   ]
  },
  {
   "cell_type": "code",
   "execution_count": 2,
   "id": "22234ff7",
   "metadata": {},
   "outputs": [],
   "source": [
    "host = \"bolt://3.84.61.96:7687\"\n",
    "user = \"neo4j\"\n",
    "password= \"multitasks-horns-decks\"\n",
    "\n",
    "gds = GraphDataScience(host, auth=(user, password))"
   ]
  },
  {
   "cell_type": "code",
   "execution_count": 3,
   "id": "a8433733",
   "metadata": {},
   "outputs": [],
   "source": [
    "G, metadata = gds.graph.project('tags', ['Article','List'], {'IN_LIST': {'orientation':'UNDIRECTED'}})"
   ]
  },
  {
   "cell_type": "code",
   "execution_count": 4,
   "id": "7b3b202c",
   "metadata": {},
   "outputs": [
    {
     "name": "stdout",
     "output_type": "stream",
     "text": [
      "CPU times: user 31.9 ms, sys: 14.8 ms, total: 46.7 ms\n",
      "Wall time: 4.32 s\n"
     ]
    },
    {
     "data": {
      "text/plain": [
       "nodeCount                                                                                                              59304\n",
       "nodePropertiesWritten                                                                                                  59304\n",
       "preProcessingMillis                                                                                                        0\n",
       "computeMillis                                                                                                            319\n",
       "writeMillis                                                                                                             3370\n",
       "configuration            {'writeConcurrency': 4, 'nodeSelfInfluence': 0, 'propertyRatio': 0.0, 'concurrency': 4, 'jobId':...\n",
       "Name: 0, dtype: object"
      ]
     },
     "execution_count": 4,
     "metadata": {},
     "output_type": "execute_result"
    }
   ],
   "source": [
    "%%time\n",
    "gds.fastRP.write(G, writeProperty='fastrp', embeddingDimension=256)"
   ]
  },
  {
   "cell_type": "code",
   "execution_count": 5,
   "id": "8902966d",
   "metadata": {},
   "outputs": [
    {
     "data": {
      "text/plain": [
       "graphName                                                                                                               tags\n",
       "database                                                                                                               neo4j\n",
       "memoryUsage                                                                                                                 \n",
       "sizeInBytes                                                                                                               -1\n",
       "nodeCount                                                                                                              59304\n",
       "relationshipCount                                                                                                     174590\n",
       "configuration            {'relationshipProjection': {'IN_LIST': {'orientation': 'UNDIRECTED', 'indexInverse': False, 'agg...\n",
       "density                                                                                                              0.00005\n",
       "creationTime                                                                             2023-02-18T13:37:12.940857219+00:00\n",
       "modificationTime                                                                         2023-02-18T13:37:13.001932478+00:00\n",
       "schema                       {'graphProperties': {}, 'relationships': {'IN_LIST': {}}, 'nodes': {'Article': {}, 'List': {}}}\n",
       "schemaWithOrientation    {'graphProperties': {}, 'relationships': {'IN_LIST': {'properties': {}, 'direction': 'UNDIRECTED...\n",
       "Name: 0, dtype: object"
      ]
     },
     "execution_count": 5,
     "metadata": {},
     "output_type": "execute_result"
    }
   ],
   "source": [
    "G.drop()"
   ]
  },
  {
   "cell_type": "code",
   "execution_count": 6,
   "id": "a09c3848",
   "metadata": {},
   "outputs": [
    {
     "data": {
      "text/html": [
       "<div>\n",
       "<style scoped>\n",
       "    .dataframe tbody tr th:only-of-type {\n",
       "        vertical-align: middle;\n",
       "    }\n",
       "\n",
       "    .dataframe tbody tr th {\n",
       "        vertical-align: top;\n",
       "    }\n",
       "\n",
       "    .dataframe thead th {\n",
       "        text-align: right;\n",
       "    }\n",
       "</style>\n",
       "<table border=\"1\" class=\"dataframe\">\n",
       "  <thead>\n",
       "    <tr style=\"text-align: right;\">\n",
       "      <th></th>\n",
       "    </tr>\n",
       "  </thead>\n",
       "  <tbody>\n",
       "  </tbody>\n",
       "</table>\n",
       "</div>"
      ],
      "text/plain": [
       "Empty DataFrame\n",
       "Columns: []\n",
       "Index: []"
      ]
     },
     "execution_count": 6,
     "metadata": {},
     "output_type": "execute_result"
    }
   ],
   "source": [
    "# Tag relevant tags\n",
    "gds.run_cypher(\"\"\"\n",
    "MATCH (t:Tag)\n",
    "WHERE count{(t)<--()} > 100\n",
    "SET t:Target\n",
    "\"\"\")"
   ]
  },
  {
   "cell_type": "code",
   "execution_count": 7,
   "id": "15a25058",
   "metadata": {},
   "outputs": [],
   "source": [
    "data = gds.run_cypher(\"\"\"\n",
    "MATCH (a:Article)-[:HAS_TAG]->(tag:Target)\n",
    "RETURN a.url AS article, a.fastrp AS embedding, collect(tag.name) AS tags\n",
    "\"\"\")"
   ]
  },
  {
   "cell_type": "code",
   "execution_count": 8,
   "id": "5bdd61bc",
   "metadata": {},
   "outputs": [
    {
     "data": {
      "text/html": [
       "<div>\n",
       "<style scoped>\n",
       "    .dataframe tbody tr th:only-of-type {\n",
       "        vertical-align: middle;\n",
       "    }\n",
       "\n",
       "    .dataframe tbody tr th {\n",
       "        vertical-align: top;\n",
       "    }\n",
       "\n",
       "    .dataframe thead th {\n",
       "        text-align: right;\n",
       "    }\n",
       "</style>\n",
       "<table border=\"1\" class=\"dataframe\">\n",
       "  <thead>\n",
       "    <tr style=\"text-align: right;\">\n",
       "      <th></th>\n",
       "      <th>article</th>\n",
       "      <th>embedding</th>\n",
       "      <th>tags</th>\n",
       "    </tr>\n",
       "  </thead>\n",
       "  <tbody>\n",
       "    <tr>\n",
       "      <th>0</th>\n",
       "      <td>https://medium.com/towards-data-science/the-data-scientist-of-the-future-according-to-google-4d8...</td>\n",
       "      <td>[0.0003049038350582123, 0.04504062235355377, 0.0059824008494615555, -0.012860724702477455, 0.057...</td>\n",
       "      <td>[machine-learning, data-science, technology, artificial-intelligence, data]</td>\n",
       "    </tr>\n",
       "    <tr>\n",
       "      <th>1</th>\n",
       "      <td>https://medium.com/towards-artificial-intelligence/how-i-prepared-for-my-amazon-data-scientist-i...</td>\n",
       "      <td>[0.1175345927476883, 0.03312401473522186, -0.1383334845304489, 0.03454393148422241, 0.1424379050...</td>\n",
       "      <td>[machine-learning, data-science, interview]</td>\n",
       "    </tr>\n",
       "    <tr>\n",
       "      <th>2</th>\n",
       "      <td>https://medium.com/towards-data-science/the-concept-of-transformers-and-training-a-transformers-...</td>\n",
       "      <td>[0.07622800022363663, 0.050666384398937225, -0.06187001243233681, 0.04393763095140457, -0.103499...</td>\n",
       "      <td>[machine-learning, deep-learning, artificial-intelligence, nlp, naturallanguageprocessing]</td>\n",
       "    </tr>\n",
       "    <tr>\n",
       "      <th>3</th>\n",
       "      <td>https://medium.com/@odsc/assessment-metrics-for-clustering-algorithms-4a902e00d92d</td>\n",
       "      <td>[0.010879196226596832, 0.038660190999507904, -0.048736028373241425, -0.0357050783932209, -0.0263...</td>\n",
       "      <td>[machine-learning, data-science, technology, data, clustering]</td>\n",
       "    </tr>\n",
       "    <tr>\n",
       "      <th>4</th>\n",
       "      <td>https://medium.com/@sebastian-orbell/discrete-latent-spaces-in-deep-generative-models-1c910e3b3907</td>\n",
       "      <td>[0.03544364497065544, 0.058862850069999695, 0.05388859659433365, -0.059305962175130844, -0.03277...</td>\n",
       "      <td>[machine-learning, deep-learning]</td>\n",
       "    </tr>\n",
       "  </tbody>\n",
       "</table>\n",
       "</div>"
      ],
      "text/plain": [
       "                                                                                               article  \\\n",
       "0  https://medium.com/towards-data-science/the-data-scientist-of-the-future-according-to-google-4d8...   \n",
       "1  https://medium.com/towards-artificial-intelligence/how-i-prepared-for-my-amazon-data-scientist-i...   \n",
       "2  https://medium.com/towards-data-science/the-concept-of-transformers-and-training-a-transformers-...   \n",
       "3                   https://medium.com/@odsc/assessment-metrics-for-clustering-algorithms-4a902e00d92d   \n",
       "4   https://medium.com/@sebastian-orbell/discrete-latent-spaces-in-deep-generative-models-1c910e3b3907   \n",
       "\n",
       "                                                                                             embedding  \\\n",
       "0  [0.0003049038350582123, 0.04504062235355377, 0.0059824008494615555, -0.012860724702477455, 0.057...   \n",
       "1  [0.1175345927476883, 0.03312401473522186, -0.1383334845304489, 0.03454393148422241, 0.1424379050...   \n",
       "2  [0.07622800022363663, 0.050666384398937225, -0.06187001243233681, 0.04393763095140457, -0.103499...   \n",
       "3  [0.010879196226596832, 0.038660190999507904, -0.048736028373241425, -0.0357050783932209, -0.0263...   \n",
       "4  [0.03544364497065544, 0.058862850069999695, 0.05388859659433365, -0.059305962175130844, -0.03277...   \n",
       "\n",
       "                                                                                         tags  \n",
       "0                 [machine-learning, data-science, technology, artificial-intelligence, data]  \n",
       "1                                                 [machine-learning, data-science, interview]  \n",
       "2  [machine-learning, deep-learning, artificial-intelligence, nlp, naturallanguageprocessing]  \n",
       "3                              [machine-learning, data-science, technology, data, clustering]  \n",
       "4                                                           [machine-learning, deep-learning]  "
      ]
     },
     "execution_count": 8,
     "metadata": {},
     "output_type": "execute_result"
    }
   ],
   "source": [
    "data.head()"
   ]
  },
  {
   "cell_type": "code",
   "execution_count": 9,
   "id": "485cb8ff",
   "metadata": {},
   "outputs": [
    {
     "data": {
      "text/html": [
       "<div>\n",
       "<style scoped>\n",
       "    .dataframe tbody tr th:only-of-type {\n",
       "        vertical-align: middle;\n",
       "    }\n",
       "\n",
       "    .dataframe tbody tr th {\n",
       "        vertical-align: top;\n",
       "    }\n",
       "\n",
       "    .dataframe thead th {\n",
       "        text-align: right;\n",
       "    }\n",
       "</style>\n",
       "<table border=\"1\" class=\"dataframe\">\n",
       "  <thead>\n",
       "    <tr style=\"text-align: right;\">\n",
       "      <th></th>\n",
       "      <th>article</th>\n",
       "      <th>embedding</th>\n",
       "      <th>tags</th>\n",
       "      <th>target</th>\n",
       "    </tr>\n",
       "  </thead>\n",
       "  <tbody>\n",
       "    <tr>\n",
       "      <th>0</th>\n",
       "      <td>https://medium.com/towards-data-science/the-data-scientist-of-the-future-according-to-google-4d8...</td>\n",
       "      <td>[0.0003049038350582123, 0.04504062235355377, 0.0059824008494615555, -0.012860724702477455, 0.057...</td>\n",
       "      <td>[machine-learning, data-science, technology, artificial-intelligence, data]</td>\n",
       "      <td>[0, 0, 0, 0, 0, 0, 0, 0, 0, 1, 0, 0, 0, 0, 0, 0, 0, 0, 0, 0, 0, 0, 0, 0, 0, 0, 0, 0, 0, 0, 0, 0,...</td>\n",
       "    </tr>\n",
       "    <tr>\n",
       "      <th>1</th>\n",
       "      <td>https://medium.com/towards-artificial-intelligence/how-i-prepared-for-my-amazon-data-scientist-i...</td>\n",
       "      <td>[0.1175345927476883, 0.03312401473522186, -0.1383334845304489, 0.03454393148422241, 0.1424379050...</td>\n",
       "      <td>[machine-learning, data-science, interview]</td>\n",
       "      <td>[0, 0, 0, 0, 0, 0, 0, 0, 0, 0, 0, 0, 0, 0, 0, 0, 0, 0, 0, 0, 0, 0, 0, 0, 0, 0, 0, 0, 0, 0, 0, 0,...</td>\n",
       "    </tr>\n",
       "    <tr>\n",
       "      <th>2</th>\n",
       "      <td>https://medium.com/towards-data-science/the-concept-of-transformers-and-training-a-transformers-...</td>\n",
       "      <td>[0.07622800022363663, 0.050666384398937225, -0.06187001243233681, 0.04393763095140457, -0.103499...</td>\n",
       "      <td>[machine-learning, deep-learning, artificial-intelligence, nlp, naturallanguageprocessing]</td>\n",
       "      <td>[0, 0, 0, 0, 0, 0, 0, 0, 0, 1, 0, 0, 0, 0, 0, 0, 0, 0, 0, 0, 0, 0, 0, 0, 0, 0, 0, 0, 0, 0, 0, 0,...</td>\n",
       "    </tr>\n",
       "    <tr>\n",
       "      <th>3</th>\n",
       "      <td>https://medium.com/@odsc/assessment-metrics-for-clustering-algorithms-4a902e00d92d</td>\n",
       "      <td>[0.010879196226596832, 0.038660190999507904, -0.048736028373241425, -0.0357050783932209, -0.0263...</td>\n",
       "      <td>[machine-learning, data-science, technology, data, clustering]</td>\n",
       "      <td>[0, 0, 0, 0, 0, 0, 0, 0, 0, 0, 0, 0, 0, 0, 0, 0, 0, 0, 0, 0, 0, 0, 0, 0, 0, 0, 1, 0, 0, 0, 0, 0,...</td>\n",
       "    </tr>\n",
       "    <tr>\n",
       "      <th>4</th>\n",
       "      <td>https://medium.com/@sebastian-orbell/discrete-latent-spaces-in-deep-generative-models-1c910e3b3907</td>\n",
       "      <td>[0.03544364497065544, 0.058862850069999695, 0.05388859659433365, -0.059305962175130844, -0.03277...</td>\n",
       "      <td>[machine-learning, deep-learning]</td>\n",
       "      <td>[0, 0, 0, 0, 0, 0, 0, 0, 0, 0, 0, 0, 0, 0, 0, 0, 0, 0, 0, 0, 0, 0, 0, 0, 0, 0, 0, 0, 0, 0, 0, 0,...</td>\n",
       "    </tr>\n",
       "  </tbody>\n",
       "</table>\n",
       "</div>"
      ],
      "text/plain": [
       "                                                                                               article  \\\n",
       "0  https://medium.com/towards-data-science/the-data-scientist-of-the-future-according-to-google-4d8...   \n",
       "1  https://medium.com/towards-artificial-intelligence/how-i-prepared-for-my-amazon-data-scientist-i...   \n",
       "2  https://medium.com/towards-data-science/the-concept-of-transformers-and-training-a-transformers-...   \n",
       "3                   https://medium.com/@odsc/assessment-metrics-for-clustering-algorithms-4a902e00d92d   \n",
       "4   https://medium.com/@sebastian-orbell/discrete-latent-spaces-in-deep-generative-models-1c910e3b3907   \n",
       "\n",
       "                                                                                             embedding  \\\n",
       "0  [0.0003049038350582123, 0.04504062235355377, 0.0059824008494615555, -0.012860724702477455, 0.057...   \n",
       "1  [0.1175345927476883, 0.03312401473522186, -0.1383334845304489, 0.03454393148422241, 0.1424379050...   \n",
       "2  [0.07622800022363663, 0.050666384398937225, -0.06187001243233681, 0.04393763095140457, -0.103499...   \n",
       "3  [0.010879196226596832, 0.038660190999507904, -0.048736028373241425, -0.0357050783932209, -0.0263...   \n",
       "4  [0.03544364497065544, 0.058862850069999695, 0.05388859659433365, -0.059305962175130844, -0.03277...   \n",
       "\n",
       "                                                                                         tags  \\\n",
       "0                 [machine-learning, data-science, technology, artificial-intelligence, data]   \n",
       "1                                                 [machine-learning, data-science, interview]   \n",
       "2  [machine-learning, deep-learning, artificial-intelligence, nlp, naturallanguageprocessing]   \n",
       "3                              [machine-learning, data-science, technology, data, clustering]   \n",
       "4                                                           [machine-learning, deep-learning]   \n",
       "\n",
       "                                                                                                target  \n",
       "0  [0, 0, 0, 0, 0, 0, 0, 0, 0, 1, 0, 0, 0, 0, 0, 0, 0, 0, 0, 0, 0, 0, 0, 0, 0, 0, 0, 0, 0, 0, 0, 0,...  \n",
       "1  [0, 0, 0, 0, 0, 0, 0, 0, 0, 0, 0, 0, 0, 0, 0, 0, 0, 0, 0, 0, 0, 0, 0, 0, 0, 0, 0, 0, 0, 0, 0, 0,...  \n",
       "2  [0, 0, 0, 0, 0, 0, 0, 0, 0, 1, 0, 0, 0, 0, 0, 0, 0, 0, 0, 0, 0, 0, 0, 0, 0, 0, 0, 0, 0, 0, 0, 0,...  \n",
       "3  [0, 0, 0, 0, 0, 0, 0, 0, 0, 0, 0, 0, 0, 0, 0, 0, 0, 0, 0, 0, 0, 0, 0, 0, 0, 0, 1, 0, 0, 0, 0, 0,...  \n",
       "4  [0, 0, 0, 0, 0, 0, 0, 0, 0, 0, 0, 0, 0, 0, 0, 0, 0, 0, 0, 0, 0, 0, 0, 0, 0, 0, 0, 0, 0, 0, 0, 0,...  "
      ]
     },
     "execution_count": 9,
     "metadata": {},
     "output_type": "execute_result"
    }
   ],
   "source": [
    "#instantiating MultiLabelBinarizer\n",
    "mlb = MultiLabelBinarizer()\n",
    "tags_mlb = mlb.fit_transform(data['tags'])\n",
    "data['target'] = list(tags_mlb)\n",
    "data.head()"
   ]
  },
  {
   "cell_type": "code",
   "execution_count": 10,
   "id": "7ee1ad80",
   "metadata": {},
   "outputs": [
    {
     "name": "stdout",
     "output_type": "stream",
     "text": [
      "(20280, 256)\n",
      "(20280, 161)\n"
     ]
    }
   ],
   "source": [
    "X = np.array(data['embedding'].to_list())\n",
    "y = np.array(data['target'].to_list())\n",
    "\n",
    "x_train, y_train, x_test, y_test = iterative_train_test_split(X, y, test_size = 0.2)\n",
    "\n",
    "print(x_train.shape)\n",
    "print(y_train.shape)"
   ]
  },
  {
   "cell_type": "code",
   "execution_count": 11,
   "id": "29de288f",
   "metadata": {},
   "outputs": [
    {
     "name": "stdout",
     "output_type": "stream",
     "text": [
      "CPU times: user 18min 9s, sys: 6min 6s, total: 24min 16s\n",
      "Wall time: 10min 38s\n"
     ]
    }
   ],
   "source": [
    "%%time\n",
    "# https://towardsdatascience.com/journey-to-the-center-of-multi-label-classification-384c40229bff\n",
    "# initialize label powerset multi-label classifier\n",
    "classifier = LabelPowerset(LogisticRegression())\n",
    "# train\n",
    "classifier.fit(x_train, y_train)\n",
    "# predict\n",
    "predictions = classifier.predict(x_test)\n"
   ]
  },
  {
   "cell_type": "code",
   "execution_count": 12,
   "id": "be79c117",
   "metadata": {},
   "outputs": [
    {
     "name": "stdout",
     "output_type": "stream",
     "text": [
      "Test accuracy is 0.04196519959058342\n"
     ]
    }
   ],
   "source": [
    "print('Test accuracy is {}'.format(accuracy_score(y_test, predictions)))"
   ]
  },
  {
   "cell_type": "code",
   "execution_count": 13,
   "id": "01e8a93b",
   "metadata": {},
   "outputs": [
    {
     "name": "stdout",
     "output_type": "stream",
     "text": [
      "Macro Precision: 0.38\n"
     ]
    }
   ],
   "source": [
    "#https://www.kaggle.com/code/kmkarakaya/multi-label-model-evaluation\n",
    "classes = mlb.classes_\n",
    "\n",
    "totalPrecision= 0\n",
    "for i in range(len(classes)):\n",
    "  p = precision_score(y_test[:,i], predictions.toarray()[:,i])\n",
    "  totalPrecision+= p\n",
    "  #print(\"For {} precision: {:.2f}\".format(classes[i], p))\n",
    "print(\"Macro Precision: {:.2f}\".format(totalPrecision/len(classes)))"
   ]
  },
  {
   "cell_type": "code",
   "execution_count": 14,
   "id": "12cb40f0",
   "metadata": {},
   "outputs": [
    {
     "name": "stdout",
     "output_type": "stream",
     "text": [
      "Weighted Precision: 0.41\n"
     ]
    }
   ],
   "source": [
    "totalPrecision=0\n",
    "totalSupport=0\n",
    "for i in range (len(classes)):\n",
    "  p= precision_score(y_test[:,i], predictions.toarray()[:,i])\n",
    "  support= (y_test[:,i]==1).sum()\n",
    "  totalSupport+=support\n",
    "  totalPrecision+= p*support\n",
    "  #print(\"For {} precision: {:.2f} support: {}\".format(classes[i], p, support ))\n",
    "print(\"Weighted Precision: {:.2f}\".format(totalPrecision/totalSupport))"
   ]
  },
  {
   "cell_type": "code",
   "execution_count": 15,
   "id": "378b6125",
   "metadata": {},
   "outputs": [],
   "source": [
    "preds = gds.run_cypher(\"\"\"\n",
    "MATCH (a:Article)\n",
    "WHERE NOT EXISTS {(a)-[:HAS_TAG]->()}\n",
    "RETURN a.title AS title, a.fastrp AS embedding\n",
    "LIMIT 15\n",
    "\"\"\")"
   ]
  },
  {
   "cell_type": "code",
   "execution_count": 16,
   "id": "e67db2ee",
   "metadata": {},
   "outputs": [
    {
     "data": {
      "text/html": [
       "<div>\n",
       "<style scoped>\n",
       "    .dataframe tbody tr th:only-of-type {\n",
       "        vertical-align: middle;\n",
       "    }\n",
       "\n",
       "    .dataframe tbody tr th {\n",
       "        vertical-align: top;\n",
       "    }\n",
       "\n",
       "    .dataframe thead th {\n",
       "        text-align: right;\n",
       "    }\n",
       "</style>\n",
       "<table border=\"1\" class=\"dataframe\">\n",
       "  <thead>\n",
       "    <tr style=\"text-align: right;\">\n",
       "      <th></th>\n",
       "      <th>title</th>\n",
       "      <th>embedding</th>\n",
       "      <th>tags</th>\n",
       "    </tr>\n",
       "  </thead>\n",
       "  <tbody>\n",
       "    <tr>\n",
       "      <th>0</th>\n",
       "      <td>Scaling Applications with Constant Work Pattern</td>\n",
       "      <td>[0.0002030273899435997, 0.09359394013881683, -0.05615721270442009, -0.10241050273180008, -0.1346...</td>\n",
       "      <td>[distributed-systems]</td>\n",
       "    </tr>\n",
       "    <tr>\n",
       "      <th>1</th>\n",
       "      <td>VQ-Diffusion: Microsoft’s New Text-To-Image AI Tool</td>\n",
       "      <td>[-0.06371483206748962, -0.020012132823467255, 0.0339442677795887, -0.004839659668505192, -0.1673...</td>\n",
       "      <td>[machine-learning]</td>\n",
       "    </tr>\n",
       "    <tr>\n",
       "      <th>2</th>\n",
       "      <td>My Learnings on Snowflake</td>\n",
       "      <td>[0.053007572889328, -0.12442155182361603, -0.021111629903316498, 0.13774339854717255, 0.05044498...</td>\n",
       "      <td>[data]</td>\n",
       "    </tr>\n",
       "    <tr>\n",
       "      <th>3</th>\n",
       "      <td>Google aims at Excel with new Big Data Features</td>\n",
       "      <td>[0.047905296087265015, 0.16040661931037903, 0.10157479345798492, 0.005116358399391174, 0.0300154...</td>\n",
       "      <td>[machine-learning]</td>\n",
       "    </tr>\n",
       "    <tr>\n",
       "      <th>4</th>\n",
       "      <td>Resolving conflicts when merging release to develop</td>\n",
       "      <td>[-0.0888320580124855, 0.058204032480716705, 0.2668755352497101, -0.1405196338891983, 0.135354667...</td>\n",
       "      <td>[python]</td>\n",
       "    </tr>\n",
       "    <tr>\n",
       "      <th>5</th>\n",
       "      <td>Euler’s method simply explained</td>\n",
       "      <td>[-0.057137422263622284, 0.1729966551065445, 0.03504607453942299, -0.06592682003974915, 0.0192024...</td>\n",
       "      <td>[python]</td>\n",
       "    </tr>\n",
       "    <tr>\n",
       "      <th>6</th>\n",
       "      <td>Gold Plating</td>\n",
       "      <td>[0.1429712325334549, 0.03575993701815605, 0.0715198740363121, 0.1429712325334549, 0.035691417753...</td>\n",
       "      <td>[kubernetes]</td>\n",
       "    </tr>\n",
       "    <tr>\n",
       "      <th>7</th>\n",
       "      <td>Don’t Choke Like a Monkey In Your Next Business Pitch</td>\n",
       "      <td>[0.0604727528989315, -0.12482210993766785, 0.0013470649719238281, 0.049697037786245346, -0.03570...</td>\n",
       "      <td>[python]</td>\n",
       "    </tr>\n",
       "    <tr>\n",
       "      <th>8</th>\n",
       "      <td>You Need This Jacket In Your Winter Wardrobe</td>\n",
       "      <td>[-0.15221984684467316, 0.15376326441764832, 0.015957683324813843, -0.26392364501953125, -0.13626...</td>\n",
       "      <td>[python]</td>\n",
       "    </tr>\n",
       "    <tr>\n",
       "      <th>9</th>\n",
       "      <td>Spring Security (Part 1)</td>\n",
       "      <td>[0.011850538663566113, 0.012177404016256332, -0.1848328411579132, -0.03200909122824669, 0.079235...</td>\n",
       "      <td>[spring-boot]</td>\n",
       "    </tr>\n",
       "    <tr>\n",
       "      <th>10</th>\n",
       "      <td>A Beginner Developer’s Journey Project 1 Day 2 — Launching the MVP</td>\n",
       "      <td>[-0.03095799684524536, 0.1388058066368103, 0.030785273760557175, 0.12917973101139069, -0.0408737...</td>\n",
       "      <td>[entrepreneurship, startup]</td>\n",
       "    </tr>\n",
       "    <tr>\n",
       "      <th>11</th>\n",
       "      <td>5 Best Programming Languages for Blockchain &amp; Smart Contract Development</td>\n",
       "      <td>[0.1958647072315216, -0.10655451565980911, -0.18695110082626343, -0.054765552282333374, -0.16854...</td>\n",
       "      <td>[blockchain]</td>\n",
       "    </tr>\n",
       "    <tr>\n",
       "      <th>12</th>\n",
       "      <td>Implement Your Own BERT Model</td>\n",
       "      <td>[-0.10927443206310272, 0.1090165227651596, 0.013708651065826416, -0.01770392246544361, 0.1335130...</td>\n",
       "      <td>[artificial-intelligence, data-science, machine-learning, programming, technology]</td>\n",
       "    </tr>\n",
       "    <tr>\n",
       "      <th>13</th>\n",
       "      <td>Continuous Deployment at Expedia Group</td>\n",
       "      <td>[-0.04053884372115135, 0.13219799101352692, -0.18636733293533325, -0.01183637510985136, -0.06168...</td>\n",
       "      <td>[machine-learning]</td>\n",
       "    </tr>\n",
       "    <tr>\n",
       "      <th>14</th>\n",
       "      <td>Kubernetes The Easy Way</td>\n",
       "      <td>[0.00017635709082242101, -0.014075752347707748, 0.01345222070813179, 0.035148244351148605, -0.02...</td>\n",
       "      <td>[kubernetes]</td>\n",
       "    </tr>\n",
       "  </tbody>\n",
       "</table>\n",
       "</div>"
      ],
      "text/plain": [
       "                                                                       title  \\\n",
       "0                            Scaling Applications with Constant Work Pattern   \n",
       "1                        VQ-Diffusion: Microsoft’s New Text-To-Image AI Tool   \n",
       "2                                                  My Learnings on Snowflake   \n",
       "3                            Google aims at Excel with new Big Data Features   \n",
       "4                        Resolving conflicts when merging release to develop   \n",
       "5                                            Euler’s method simply explained   \n",
       "6                                                               Gold Plating   \n",
       "7                      Don’t Choke Like a Monkey In Your Next Business Pitch   \n",
       "8                               You Need This Jacket In Your Winter Wardrobe   \n",
       "9                                                   Spring Security (Part 1)   \n",
       "10        A Beginner Developer’s Journey Project 1 Day 2 — Launching the MVP   \n",
       "11  5 Best Programming Languages for Blockchain & Smart Contract Development   \n",
       "12                                             Implement Your Own BERT Model   \n",
       "13                                    Continuous Deployment at Expedia Group   \n",
       "14                                                   Kubernetes The Easy Way   \n",
       "\n",
       "                                                                                              embedding  \\\n",
       "0   [0.0002030273899435997, 0.09359394013881683, -0.05615721270442009, -0.10241050273180008, -0.1346...   \n",
       "1   [-0.06371483206748962, -0.020012132823467255, 0.0339442677795887, -0.004839659668505192, -0.1673...   \n",
       "2   [0.053007572889328, -0.12442155182361603, -0.021111629903316498, 0.13774339854717255, 0.05044498...   \n",
       "3   [0.047905296087265015, 0.16040661931037903, 0.10157479345798492, 0.005116358399391174, 0.0300154...   \n",
       "4   [-0.0888320580124855, 0.058204032480716705, 0.2668755352497101, -0.1405196338891983, 0.135354667...   \n",
       "5   [-0.057137422263622284, 0.1729966551065445, 0.03504607453942299, -0.06592682003974915, 0.0192024...   \n",
       "6   [0.1429712325334549, 0.03575993701815605, 0.0715198740363121, 0.1429712325334549, 0.035691417753...   \n",
       "7   [0.0604727528989315, -0.12482210993766785, 0.0013470649719238281, 0.049697037786245346, -0.03570...   \n",
       "8   [-0.15221984684467316, 0.15376326441764832, 0.015957683324813843, -0.26392364501953125, -0.13626...   \n",
       "9   [0.011850538663566113, 0.012177404016256332, -0.1848328411579132, -0.03200909122824669, 0.079235...   \n",
       "10  [-0.03095799684524536, 0.1388058066368103, 0.030785273760557175, 0.12917973101139069, -0.0408737...   \n",
       "11  [0.1958647072315216, -0.10655451565980911, -0.18695110082626343, -0.054765552282333374, -0.16854...   \n",
       "12  [-0.10927443206310272, 0.1090165227651596, 0.013708651065826416, -0.01770392246544361, 0.1335130...   \n",
       "13  [-0.04053884372115135, 0.13219799101352692, -0.18636733293533325, -0.01183637510985136, -0.06168...   \n",
       "14  [0.00017635709082242101, -0.014075752347707748, 0.01345222070813179, 0.035148244351148605, -0.02...   \n",
       "\n",
       "                                                                                  tags  \n",
       "0                                                                [distributed-systems]  \n",
       "1                                                                   [machine-learning]  \n",
       "2                                                                               [data]  \n",
       "3                                                                   [machine-learning]  \n",
       "4                                                                             [python]  \n",
       "5                                                                             [python]  \n",
       "6                                                                         [kubernetes]  \n",
       "7                                                                             [python]  \n",
       "8                                                                             [python]  \n",
       "9                                                                        [spring-boot]  \n",
       "10                                                         [entrepreneurship, startup]  \n",
       "11                                                                        [blockchain]  \n",
       "12  [artificial-intelligence, data-science, machine-learning, programming, technology]  \n",
       "13                                                                  [machine-learning]  \n",
       "14                                                                        [kubernetes]  "
      ]
     },
     "execution_count": 16,
     "metadata": {},
     "output_type": "execute_result"
    }
   ],
   "source": [
    "new_preds = classifier.predict(np.array(preds['embedding'].to_list()))\n",
    "preds['tags'] = [list(mlb.inverse_transform(x)[0]) for x in new_preds]\n",
    "preds"
   ]
  },
  {
   "cell_type": "code",
   "execution_count": null,
   "id": "7e908809",
   "metadata": {},
   "outputs": [],
   "source": []
  }
 ],
 "metadata": {
  "kernelspec": {
   "display_name": "Python 3",
   "language": "python",
   "name": "python3"
  },
  "language_info": {
   "codemirror_mode": {
    "name": "ipython",
    "version": 3
   },
   "file_extension": ".py",
   "mimetype": "text/x-python",
   "name": "python",
   "nbconvert_exporter": "python",
   "pygments_lexer": "ipython3",
   "version": "3.8.8"
  }
 },
 "nbformat": 4,
 "nbformat_minor": 5
}
