{
 "cells": [
  {
   "cell_type": "code",
   "execution_count": 1,
   "id": "YKUmA_sSVHo0",
   "metadata": {
    "colab": {
     "base_uri": "https://localhost:8080/"
    },
    "id": "YKUmA_sSVHo0",
    "outputId": "6ac9626b-b8cf-4914-b969-b1c7372e6219"
   },
   "outputs": [],
   "source": [
    "#!pip install graphdatascience scikit-multilearn scikit-learn"
   ]
  },
  {
   "cell_type": "code",
   "execution_count": 2,
   "id": "e437de6e",
   "metadata": {
    "id": "e437de6e"
   },
   "outputs": [],
   "source": [
    "import numpy as np\n",
    "import pandas as pd\n",
    "\n",
    "from graphdatascience import GraphDataScience\n",
    "\n",
    "from skmultilearn.model_selection import iterative_train_test_split\n",
    "from skmultilearn.problem_transform import LabelPowerset\n",
    "\n",
    "from sklearn.metrics import accuracy_score, precision_score\n",
    "from sklearn.preprocessing import MultiLabelBinarizer\n",
    "from sklearn.linear_model import LogisticRegression\n",
    "\n",
    "import warnings\n",
    "\n",
    "warnings.filterwarnings('ignore')\n",
    "pd.set_option('display.max_colwidth', 100)\n"
   ]
  },
  {
   "cell_type": "code",
   "execution_count": 3,
   "id": "22234ff7",
   "metadata": {
    "id": "22234ff7"
   },
   "outputs": [],
   "source": [
    "host = \"bolt://localhost:7687\"\n",
    "user = \"neo4j\"\n",
    "password= \"pleaseletmein\"\n",
    "\n",
    "gds = GraphDataScience(host, auth=(user, password))"
   ]
  },
  {
   "cell_type": "code",
   "execution_count": 4,
   "id": "1dde6a16",
   "metadata": {},
   "outputs": [
    {
     "data": {
      "text/html": [
       "<div>\n",
       "<style scoped>\n",
       "    .dataframe tbody tr th:only-of-type {\n",
       "        vertical-align: middle;\n",
       "    }\n",
       "\n",
       "    .dataframe tbody tr th {\n",
       "        vertical-align: top;\n",
       "    }\n",
       "\n",
       "    .dataframe thead th {\n",
       "        text-align: right;\n",
       "    }\n",
       "</style>\n",
       "<table border=\"1\" class=\"dataframe\">\n",
       "  <thead>\n",
       "    <tr style=\"text-align: right;\">\n",
       "      <th></th>\n",
       "      <th>exists {(a)-[:IN_LIST]-()}</th>\n",
       "      <th>count</th>\n",
       "    </tr>\n",
       "  </thead>\n",
       "  <tbody>\n",
       "    <tr>\n",
       "      <th>0</th>\n",
       "      <td>True</td>\n",
       "      <td>54931</td>\n",
       "    </tr>\n",
       "  </tbody>\n",
       "</table>\n",
       "</div>"
      ],
      "text/plain": [
       "   exists {(a)-[:IN_LIST]-()}  count\n",
       "0                        True  54931"
      ]
     },
     "execution_count": 4,
     "metadata": {},
     "output_type": "execute_result"
    }
   ],
   "source": [
    "gds.run_cypher(\"\"\"\n",
    "MATCH (a:Article)\n",
    "RETURN exists {(a)-[:IN_LIST]-()}, count(*) AS count\n",
    "ORDER BY count DESC\n",
    "\"\"\")"
   ]
  },
  {
   "cell_type": "code",
   "execution_count": 5,
   "id": "a8433733",
   "metadata": {
    "id": "a8433733"
   },
   "outputs": [
    {
     "data": {
      "application/vnd.jupyter.widget-view+json": {
       "model_id": "871b929ebd1540f88e13e8b0ac4af5d0",
       "version_major": 2,
       "version_minor": 0
      },
      "text/plain": [
       "Loading:   0%|          | 0/100 [00:00<?, ?%/s]"
      ]
     },
     "metadata": {},
     "output_type": "display_data"
    }
   ],
   "source": [
    "G, metadata = gds.graph.project(\n",
    "    \"articles\",\n",
    "    [\"Article\", \"List\"],\n",
    "    'IN_LIST',\n",
    "    nodeProperties=['openaiEmbedding']\n",
    ")\n"
   ]
  },
  {
   "cell_type": "code",
   "execution_count": 6,
   "id": "d0955cac",
   "metadata": {},
   "outputs": [
    {
     "data": {
      "application/vnd.jupyter.widget-view+json": {
       "model_id": "165ba5ea40ed4cc4bc887f3feba5d879",
       "version_major": 2,
       "version_minor": 0
      },
      "text/plain": [
       "NodeSimilarity:   0%|          | 0/100 [00:00<?, ?%/s]"
      ]
     },
     "metadata": {},
     "output_type": "display_data"
    },
    {
     "data": {
      "text/plain": [
       "preProcessingMillis                                                                                                         0\n",
       "computeMillis                                                                                                           75350\n",
       "mutateMillis                                                                                                             1860\n",
       "postProcessingMillis                                                                                                       -1\n",
       "nodesCompared                                                                                                           54931\n",
       "relationshipsWritten                                                                                                 12574857\n",
       "similarityDistribution    {'p1': 0.05263155698776245, 'max': 1.0000075697898865, 'p5': 0.08333343267440796, 'p90': 1.00000...\n",
       "configuration             {'topK': 2000, 'similarityMetric': 'JACCARD', 'bottomK': 10, 'bottomN': 0, 'mutateRelationshipTy...\n",
       "Name: 0, dtype: object"
      ]
     },
     "execution_count": 6,
     "metadata": {},
     "output_type": "execute_result"
    }
   ],
   "source": [
    "gds.nodeSimilarity.mutate(G, topK=2000, mutateProperty='score', mutateRelationshipType='SIMILAR')"
   ]
  },
  {
   "cell_type": "code",
   "execution_count": 7,
   "id": "7b3b202c",
   "metadata": {
    "colab": {
     "base_uri": "https://localhost:8080/"
    },
    "id": "7b3b202c",
    "outputId": "e0b025bb-560e-440b-d8c3-71ebe8dc823c"
   },
   "outputs": [
    {
     "data": {
      "application/vnd.jupyter.widget-view+json": {
       "model_id": "6126c68385994741823cb9402db70fb0",
       "version_major": 2,
       "version_minor": 0
      },
      "text/plain": [
       "FastRP:   0%|          | 0/100 [00:00<?, ?%/s]"
      ]
     },
     "metadata": {},
     "output_type": "display_data"
    },
    {
     "data": {
      "text/plain": [
       "nodeCount                                                                                                              54931\n",
       "nodePropertiesWritten                                                                                                  54931\n",
       "preProcessingMillis                                                                                                        0\n",
       "computeMillis                                                                                                           4158\n",
       "writeMillis                                                                                                             3345\n",
       "configuration            {'writeConcurrency': 4, 'nodeSelfInfluence': 0, 'propertyRatio': 0.0, 'concurrency': 4, 'jobId':...\n",
       "Name: 0, dtype: object"
      ]
     },
     "execution_count": 7,
     "metadata": {},
     "output_type": "execute_result"
    }
   ],
   "source": [
    "gds.fastRP.write(\n",
    "    G,\n",
    "    writeProperty=\"fastrp\",\n",
    "    embeddingDimension=256,\n",
    "    relationshipTypes=[\"SIMILAR\"],\n",
    "    nodeLabels=[\"Article\"],\n",
    ")"
   ]
  },
  {
   "cell_type": "code",
   "execution_count": 8,
   "id": "74187581",
   "metadata": {},
   "outputs": [],
   "source": [
    "wcc = gds.wcc.stream(G)"
   ]
  },
  {
   "cell_type": "code",
   "execution_count": 9,
   "id": "d196357c",
   "metadata": {},
   "outputs": [
    {
     "data": {
      "text/html": [
       "<div>\n",
       "<style scoped>\n",
       "    .dataframe tbody tr th:only-of-type {\n",
       "        vertical-align: middle;\n",
       "    }\n",
       "\n",
       "    .dataframe tbody tr th {\n",
       "        vertical-align: top;\n",
       "    }\n",
       "\n",
       "    .dataframe thead th {\n",
       "        text-align: right;\n",
       "    }\n",
       "</style>\n",
       "<table border=\"1\" class=\"dataframe\">\n",
       "  <thead>\n",
       "    <tr style=\"text-align: right;\">\n",
       "      <th></th>\n",
       "      <th>index</th>\n",
       "      <th>componentId</th>\n",
       "      <th>componentSize</th>\n",
       "    </tr>\n",
       "  </thead>\n",
       "  <tbody>\n",
       "    <tr>\n",
       "      <th>0</th>\n",
       "      <td>0</td>\n",
       "      <td>0</td>\n",
       "      <td>54800</td>\n",
       "    </tr>\n",
       "    <tr>\n",
       "      <th>1</th>\n",
       "      <td>7</td>\n",
       "      <td>149</td>\n",
       "      <td>368</td>\n",
       "    </tr>\n",
       "    <tr>\n",
       "      <th>2</th>\n",
       "      <td>4</td>\n",
       "      <td>124</td>\n",
       "      <td>193</td>\n",
       "    </tr>\n",
       "    <tr>\n",
       "      <th>3</th>\n",
       "      <td>23</td>\n",
       "      <td>374</td>\n",
       "      <td>134</td>\n",
       "    </tr>\n",
       "    <tr>\n",
       "      <th>4</th>\n",
       "      <td>16</td>\n",
       "      <td>288</td>\n",
       "      <td>117</td>\n",
       "    </tr>\n",
       "    <tr>\n",
       "      <th>...</th>\n",
       "      <td>...</td>\n",
       "      <td>...</td>\n",
       "      <td>...</td>\n",
       "    </tr>\n",
       "    <tr>\n",
       "      <th>599</th>\n",
       "      <td>493</td>\n",
       "      <td>25648</td>\n",
       "      <td>2</td>\n",
       "    </tr>\n",
       "    <tr>\n",
       "      <th>600</th>\n",
       "      <td>475</td>\n",
       "      <td>23246</td>\n",
       "      <td>2</td>\n",
       "    </tr>\n",
       "    <tr>\n",
       "      <th>601</th>\n",
       "      <td>490</td>\n",
       "      <td>25231</td>\n",
       "      <td>2</td>\n",
       "    </tr>\n",
       "    <tr>\n",
       "      <th>602</th>\n",
       "      <td>372</td>\n",
       "      <td>14429</td>\n",
       "      <td>2</td>\n",
       "    </tr>\n",
       "    <tr>\n",
       "      <th>603</th>\n",
       "      <td>603</td>\n",
       "      <td>53711</td>\n",
       "      <td>2</td>\n",
       "    </tr>\n",
       "  </tbody>\n",
       "</table>\n",
       "<p>604 rows × 3 columns</p>\n",
       "</div>"
      ],
      "text/plain": [
       "     index  componentId  componentSize\n",
       "0        0            0          54800\n",
       "1        7          149            368\n",
       "2        4          124            193\n",
       "3       23          374            134\n",
       "4       16          288            117\n",
       "..     ...          ...            ...\n",
       "599    493        25648              2\n",
       "600    475        23246              2\n",
       "601    490        25231              2\n",
       "602    372        14429              2\n",
       "603    603        53711              2\n",
       "\n",
       "[604 rows x 3 columns]"
      ]
     },
     "execution_count": 9,
     "metadata": {},
     "output_type": "execute_result"
    }
   ],
   "source": [
    "wcc_grouped = wcc.groupby('componentId').size().to_frame('componentSize').reset_index().sort_values('componentSize', ascending=False).reset_index()\n",
    "wcc_grouped"
   ]
  },
  {
   "cell_type": "code",
   "execution_count": 10,
   "id": "b7d3baec",
   "metadata": {},
   "outputs": [],
   "source": [
    "largest_component = wcc_grouped['componentId'][0]\n",
    "start_node = wcc[wcc['componentId'] == largest_component]['nodeId'][0]"
   ]
  },
  {
   "cell_type": "code",
   "execution_count": 11,
   "id": "1127d708",
   "metadata": {},
   "outputs": [
    {
     "data": {
      "application/vnd.jupyter.widget-view+json": {
       "model_id": "6c6a3470fc994da99776084f01738c83",
       "version_major": 2,
       "version_minor": 0
      },
      "text/plain": [
       "Random walk with restarts sampling:   0%|          | 0/100 [00:00<?, ?%/s]"
      ]
     },
     "metadata": {},
     "output_type": "display_data"
    }
   ],
   "source": [
    "trainG, metadata = gds.alpha.graph.sample.rwr('trainGraph', G, samplingRatio=0.20, startNodes=[int(start_node)], nodeLabels=['Article'], relationshipTypes=['SIMILAR'])"
   ]
  },
  {
   "cell_type": "code",
   "execution_count": 12,
   "id": "f2f19072",
   "metadata": {},
   "outputs": [
    {
     "name": "stdout",
     "output_type": "stream",
     "text": [
      "CPU times: user 48.9 ms, sys: 144 ms, total: 193 ms\n",
      "Wall time: 14min 42s\n"
     ]
    },
    {
     "data": {
      "text/plain": [
       "(GraphSageModel({'modelInfo': {0: {'modelName': 'articleModel', 'modelType': 'graphSage', 'metrics': {'ranIterationsPerEpoch': [10, 10, 10, 10, 10, 10, 10, 10, 10, 10, 10, 10, 10, 10, 10, 10, 10, 10, 10, 10], 'iterationLossesPerEpoch': [[26.130593648069045, 25.276426092010478, 23.359088236977517, 21.772414373789637, 21.795054374826215, 19.65304353559649, 20.282220518387753, 19.162152604907142, 18.539002542795778, 17.72454613224475], [17.70111133496202, 20.242463267551305, 20.180167267050486, 20.443562048732986, 19.198587496620757, 17.839383445773166, 16.8257715377103, 17.31153454977032, 16.440906446381994, 16.994070894402128], [16.714556755413618, 18.675032342650134, 19.9226293849263, 18.436295006281348, 17.9300472767778, 17.71937942880774, 17.74026269675531, 16.064716275946225, 17.162037581107302, 16.220478575941595], [16.564025867613367, 17.987609060409497, 18.15908980653432, 18.477519673081538, 18.532859096543948, 18.084450720177323, 16.554426610206, 17.16501739934058, 16.079663148381837, 16.254187632207483], [15.519173386310873, 18.809363341852, 18.29645632435112, 17.029819362351905, 17.56415979749469, 17.774111917602745, 16.240706846839906, 16.12451512646134, 16.03913346186589, 16.263440725925], [16.312472200816035, 17.378758395756385, 16.700306361150638, 17.53819005619206, 17.25370179586618, 16.09769106463215, 17.158611731154867, 16.524705809865917, 15.343234561437814, 15.75528709714941], [15.534925020430904, 17.800188835412875, 17.75907920193928, 16.796377501111408, 17.649158214534467, 17.094755827905658, 16.935327876269113, 16.718206391720727, 16.080391276088882, 14.798136257259205], [15.314562171963313, 16.35404561163825, 17.195857443236836, 16.44362008699244, 16.267894747965947, 15.861434265926352, 16.307003238017764, 17.506313720536056, 15.623926933851811, 15.393956722755485], [14.867433838342782, 16.520624008141223, 17.91121557464363, 18.13228556970696, 17.326715344140336, 16.40254202758642, 16.209081466080896, 17.257342233342477, 16.014753443977988, 16.882495617302776], [16.090809481130027, 16.49723875864361, 17.350223507407513, 18.042301286101114, 16.513368993407642, 15.431037166428524, 15.784093220948927, 15.465765458015728, 15.940181976591834, 15.290261590458078], [15.432652968643476, 15.806429484900576, 15.86832184993383, 16.494850882950864, 15.322521928886056, 16.76739749519539, 15.735842952427301, 15.36200559443383, 15.616082429556249, 15.55915306882849], [16.469343360035943, 16.364770736927788, 16.743352851414322, 15.794951468991417, 16.169675936523507, 16.54031608670001, 16.84120503814156, 16.939369555167875, 16.17474652999719, 16.630540587943404], [17.04639033148101, 17.040861234794153, 16.235290536958416, 16.88410258794364, 15.658448560967795, 16.652262141854955, 16.568858396366135, 15.702173236425903, 16.34459683179475, 15.481922441198543], [17.31672613466416, 17.063218029433315, 15.578149481178269, 16.84046766997798, 15.164279897741569, 15.735991157770247, 15.805144095717395, 15.763576692844262, 15.708296457751933, 15.215535070011038], [15.87701710689463, 16.024974871607178, 16.03894275080204, 17.662441934769515, 15.394814024440928, 16.847429892873485, 16.541861004297466, 16.185501087841242, 16.777952219278532, 16.10787041389462], [16.83796442894943, 16.939330934087764, 15.979456901134947, 17.00225083308148, 16.50417856452726, 16.385801788976856, 16.166726244373656, 15.605687359098837, 15.356634514232486, 15.769710903223563], [15.97316609805595, 16.611812046584337, 16.66396995512867, 16.870443525850362, 16.172762295908186, 15.90328196446815, 16.555063700059254, 15.804261762099594, 16.048664298013257, 16.635158468747875], [15.674532038876894, 15.821354425194798, 15.923417497213341, 17.32646643423354, 17.276774422937844, 15.907681843686325, 15.7552834520138, 16.381436932317968, 16.58390281083332, 15.694432328148494], [15.554227551320105, 17.365944049064524, 15.886999119306177, 15.989593701678354, 16.669661641938212, 16.516021227454523, 15.628467731814656, 15.752749645868803, 15.913020606875827, 15.721766482703202], [15.468140613182564, 15.85652782261526, 17.18573755991546, 16.36319892940795, 16.267964035343063, 16.885925133192522, 15.35575759853839, 15.2304425665238, 16.020554628378417, 15.565504519216223]], 'didConverge': False, 'ranEpochs': 20, 'epochLosses': [17.72454613224475, 16.994070894402128, 16.220478575941595, 16.254187632207483, 16.263440725925, 15.75528709714941, 14.798136257259205, 15.393956722755485, 16.882495617302776, 15.290261590458078, 15.55915306882849, 16.630540587943404, 15.481922441198543, 15.215535070011038, 16.10787041389462, 15.769710903223563, 16.635158468747875, 15.694432328148494, 15.721766482703202, 15.565504519216223]}}}, 'trainConfig': {0: {'maxIterations': 10, 'negativeSampleWeight': 20, 'searchDepth': 20, 'aggregator': 'MEAN', 'activationFunction': 'RELU', 'penaltyL2': 0.0, 'learningRate': 0.001, 'concurrency': 4, 'jobId': '0f68f59a-fc5c-413a-9759-f8a0be5b2693', 'modelName': 'articleModel', 'embeddingDimension': 512, 'logProgress': True, 'nodeLabels': ['*'], 'sudo': False, 'featureProperties': ['openaiEmbedding'], 'sampleSizes': [30, 30], 'relationshipTypes': ['*'], 'batchSize': 10, 'epochs': 20, 'tolerance': 0.0001}}, 'graphSchema': {0: {'graphProperties': {}, 'relationships': {'SIMILAR': {'score': 'Float (DefaultValue(NaN), TRANSIENT, Aggregation.NONE)'}}, 'nodes': {'Article': {'openaiEmbedding': 'List of Float (DefaultValue(null), PERSISTENT)'}}}}, 'loaded': {0: True}, 'stored': {0: False}, 'creationTime': {0: neo4j.time.DateTime(2023, 2, 19, 22, 2, 56, 643722250, tzinfo=<DstTzInfo 'Europe/Ljubljana' CET+1:00:00 STD>)}, 'shared': {0: False}}),\n",
       " modelInfo        {'modelName': 'articleModel', 'modelType': 'graphSage', 'metrics': {'ranIterationsPerEpoch': [10...\n",
       " configuration    {'maxIterations': 10, 'negativeSampleWeight': 20, 'searchDepth': 20, 'aggregator': 'MEAN', 'acti...\n",
       " trainMillis                                                                                                   882533\n",
       " Name: 0, dtype: object)"
      ]
     },
     "execution_count": 12,
     "metadata": {},
     "output_type": "execute_result"
    }
   ],
   "source": [
    "%%time\n",
    "gds.beta.graphSage.train(trainG, modelName='articleModel', embeddingDimension=512, sampleSizes=[30, 30],\n",
    "                         searchDepth=20, epochs=20, learningRate=0.001, activationFunction='RELU',\n",
    "                         aggregator='MEAN', featureProperties=['openaiEmbedding'], batchSize=10)"
   ]
  },
  {
   "cell_type": "code",
   "execution_count": 13,
   "id": "3a2ff069",
   "metadata": {},
   "outputs": [
    {
     "data": {
      "application/vnd.jupyter.widget-view+json": {
       "model_id": "5c59d59a148b402d935343fbea8189a2",
       "version_major": 2,
       "version_minor": 0
      },
      "text/plain": [
       "GraphSage:   0%|          | 0/100 [00:00<?, ?%/s]"
      ]
     },
     "metadata": {},
     "output_type": "display_data"
    },
    {
     "data": {
      "text/plain": [
       "nodeCount                                                                                                              54931\n",
       "nodePropertiesWritten                                                                                                  54931\n",
       "preProcessingMillis                                                                                                        1\n",
       "computeMillis                                                                                                         869540\n",
       "writeMillis                                                                                                             4204\n",
       "configuration            {'jobId': '31ae8c5b-3ca6-4644-b8af-b19b1eb44e35', 'modelName': 'articleModel', 'writeConcurrency...\n",
       "Name: 0, dtype: object"
      ]
     },
     "execution_count": 13,
     "metadata": {},
     "output_type": "execute_result"
    }
   ],
   "source": [
    "gds.beta.graphSage.write(G, modelName='articleModel', nodeLabels=['Article'], writeProperty='graphSAGE', relationshipTypes=['SIMILAR'])"
   ]
  },
  {
   "cell_type": "code",
   "execution_count": 14,
   "id": "8902966d",
   "metadata": {
    "colab": {
     "base_uri": "https://localhost:8080/"
    },
    "id": "8902966d",
    "outputId": "101f44fd-6316-45c0-aa51-6652b995da79"
   },
   "outputs": [
    {
     "data": {
      "text/plain": [
       "graphName                                                                                                           articles\n",
       "database                                                                                                               neo4j\n",
       "memoryUsage                                                                                                                 \n",
       "sizeInBytes                                                                                                               -1\n",
       "nodeCount                                                                                                              59302\n",
       "relationshipCount                                                                                                   12662148\n",
       "configuration                                                                                                             {}\n",
       "density                                                                                                             0.003601\n",
       "creationTime                                                                             2023-02-19T21:46:43.002477038+01:00\n",
       "modificationTime                                                                         2023-02-19T21:48:02.756756561+01:00\n",
       "schema                   {'graphProperties': {}, 'relationships': {'IN_LIST': {}, 'SIMILAR': {'score': 'Float (DefaultVal...\n",
       "schemaWithOrientation    {'graphProperties': {}, 'relationships': {'IN_LIST': {'properties': {}, 'direction': 'DIRECTED'}...\n",
       "Name: 0, dtype: object"
      ]
     },
     "execution_count": 14,
     "metadata": {},
     "output_type": "execute_result"
    }
   ],
   "source": [
    "G.drop()"
   ]
  },
  {
   "cell_type": "code",
   "execution_count": 15,
   "id": "a09c3848",
   "metadata": {
    "colab": {
     "base_uri": "https://localhost:8080/",
     "height": 49
    },
    "id": "a09c3848",
    "outputId": "ada8dc87-ef73-4781-f009-ddbc99739c6f"
   },
   "outputs": [
    {
     "data": {
      "text/html": [
       "<div>\n",
       "<style scoped>\n",
       "    .dataframe tbody tr th:only-of-type {\n",
       "        vertical-align: middle;\n",
       "    }\n",
       "\n",
       "    .dataframe tbody tr th {\n",
       "        vertical-align: top;\n",
       "    }\n",
       "\n",
       "    .dataframe thead th {\n",
       "        text-align: right;\n",
       "    }\n",
       "</style>\n",
       "<table border=\"1\" class=\"dataframe\">\n",
       "  <thead>\n",
       "    <tr style=\"text-align: right;\">\n",
       "      <th></th>\n",
       "    </tr>\n",
       "  </thead>\n",
       "  <tbody>\n",
       "  </tbody>\n",
       "</table>\n",
       "</div>"
      ],
      "text/plain": [
       "Empty DataFrame\n",
       "Columns: []\n",
       "Index: []"
      ]
     },
     "execution_count": 15,
     "metadata": {},
     "output_type": "execute_result"
    }
   ],
   "source": [
    "# Tag relevant tags\n",
    "gds.run_cypher(\"\"\"\n",
    "MATCH (t:Tag)\n",
    "WHERE count{(t)<--()} > 100\n",
    "SET t:Target\n",
    "\"\"\")"
   ]
  },
  {
   "cell_type": "code",
   "execution_count": 16,
   "id": "15a25058",
   "metadata": {
    "id": "15a25058"
   },
   "outputs": [],
   "source": [
    "data = gds.run_cypher(\"\"\"\n",
    "MATCH (a:Article)-[:HAS_TAG]->(tag:Target)\n",
    "RETURN a.url AS article, a.fastrp AS fastrp, collect(tag.name) AS tags, a.openaiEmbedding AS openai, a.graphSAGE AS graphSAGE\n",
    "\"\"\")"
   ]
  },
  {
   "cell_type": "code",
   "execution_count": 17,
   "id": "485cb8ff",
   "metadata": {
    "colab": {
     "base_uri": "https://localhost:8080/",
     "height": 424
    },
    "id": "485cb8ff",
    "outputId": "55169955-c477-463a-e945-80b15fc5901e"
   },
   "outputs": [
    {
     "data": {
      "text/html": [
       "<div>\n",
       "<style scoped>\n",
       "    .dataframe tbody tr th:only-of-type {\n",
       "        vertical-align: middle;\n",
       "    }\n",
       "\n",
       "    .dataframe tbody tr th {\n",
       "        vertical-align: top;\n",
       "    }\n",
       "\n",
       "    .dataframe thead th {\n",
       "        text-align: right;\n",
       "    }\n",
       "</style>\n",
       "<table border=\"1\" class=\"dataframe\">\n",
       "  <thead>\n",
       "    <tr style=\"text-align: right;\">\n",
       "      <th></th>\n",
       "      <th>article</th>\n",
       "      <th>fastrp</th>\n",
       "      <th>tags</th>\n",
       "      <th>openai</th>\n",
       "      <th>graphSAGE</th>\n",
       "      <th>target</th>\n",
       "    </tr>\n",
       "  </thead>\n",
       "  <tbody>\n",
       "    <tr>\n",
       "      <th>0</th>\n",
       "      <td>https://medium.com/better-programming/this-python-library-can-animate-your-charts-a7c0a98b3463</td>\n",
       "      <td>[0.08663628995418549, -0.06408265978097916, -0.06370709836483002, -0.015515219420194626, 0.23375...</td>\n",
       "      <td>[machine-learning, data-science, technology, artificial-intelligence, programming]</td>\n",
       "      <td>[-0.003536871401593089, 0.00747159868478775, 0.01575239561498165, -0.01385077927261591, 0.005306...</td>\n",
       "      <td>[-0.024850887401985787, -0.01390526928863974, -0.011590916944380048, -0.005315524494654697, -0.0...</td>\n",
       "      <td>[0, 0, 0, 0, 0, 0, 0, 0, 0, 1, 0, 0, 0, 0, 0, 0, 0, 0, 0, 0, 0, 0, 0, 0, 0, 0, 0, 0, 0, 0, 0, 0,...</td>\n",
       "    </tr>\n",
       "    <tr>\n",
       "      <th>1</th>\n",
       "      <td>https://medium.com/datadriveninvestor/list-of-chatgpt-prompts-for-nlp-practitioners-and-nlp-prod...</td>\n",
       "      <td>[-0.007080343551933765, -0.00889026839286089, -0.18236935138702393, -0.14672335982322693, 0.3220...</td>\n",
       "      <td>[machine-learning, data-science, deep-learning, python, naturallanguageprocessing]</td>\n",
       "      <td>[-0.01077286060899496, -0.0017891748575493693, 0.0182870514690876, -0.013639666140079498, 0.0061...</td>\n",
       "      <td>[-0.0029908329879554793, -0.0012797971176591125, -0.00154999756568174, -0.0018629333323836132, 0...</td>\n",
       "      <td>[0, 0, 0, 0, 0, 0, 0, 0, 0, 0, 0, 0, 0, 0, 0, 0, 0, 0, 0, 0, 0, 0, 0, 0, 0, 0, 0, 0, 0, 0, 0, 0,...</td>\n",
       "    </tr>\n",
       "    <tr>\n",
       "      <th>2</th>\n",
       "      <td>https://medium.com/towards-artificial-intelligence/deepminds-clever-idea-to-master-asymmetric-ga...</td>\n",
       "      <td>[-0.21350812911987305, 0.013562796637415886, 0.0765717625617981, -0.12203571945428848, 0.3002116...</td>\n",
       "      <td>[machine-learning, data-science, deep-learning, artificial-intelligence]</td>\n",
       "      <td>[-0.032979629933834076, -0.012398408725857735, 0.022878754884004593, -0.007013346068561077, 0.01...</td>\n",
       "      <td>[-0.011517131737703568, -0.00599713490088639, -0.00411311608871896, -0.006146829890950987, -0.00...</td>\n",
       "      <td>[0, 0, 0, 0, 0, 0, 0, 0, 0, 1, 0, 0, 0, 0, 0, 0, 0, 0, 0, 0, 0, 0, 0, 0, 0, 0, 0, 0, 0, 0, 0, 0,...</td>\n",
       "    </tr>\n",
       "    <tr>\n",
       "      <th>3</th>\n",
       "      <td>https://medium.com/towards-data-science/must-read-papers-on-gans-b665bbae3317</td>\n",
       "      <td>[0.25916963815689087, -0.01417395006865263, 0.09633032977581024, -0.13773560523986816, -0.014066...</td>\n",
       "      <td>[machine-learning, data-science, deep-learning, artificial-intelligence]</td>\n",
       "      <td>[-0.03457323834300041, 0.005550392437726259, 0.028737546876072884, -0.011742711067199707, 0.0239...</td>\n",
       "      <td>[-0.003663774303208057, -0.0017448916705572657, -0.0017310002027370829, -0.0018859679502443221, ...</td>\n",
       "      <td>[0, 0, 0, 0, 0, 0, 0, 0, 0, 1, 0, 0, 0, 0, 0, 0, 0, 0, 0, 0, 0, 0, 0, 0, 0, 0, 0, 0, 0, 0, 0, 0,...</td>\n",
       "    </tr>\n",
       "    <tr>\n",
       "      <th>4</th>\n",
       "      <td>https://medium.com/towards-data-science/understanding-bidirectional-rnn-in-pytorch-5bd25a5dd66</td>\n",
       "      <td>[0.15469515323638916, 0.06696459650993347, -0.08211394399404526, 0.04332730919122696, 0.17559620...</td>\n",
       "      <td>[machine-learning, deep-learning, pytorch]</td>\n",
       "      <td>[-0.02942381054162979, -0.0033131770323961973, 0.00732263782992959, -0.0019605879206210375, 0.01...</td>\n",
       "      <td>[-0.00885533563088848, -0.003836722124383314, -0.003924066660443985, -0.004346797047862697, 0.05...</td>\n",
       "      <td>[0, 0, 0, 0, 0, 0, 0, 0, 0, 0, 0, 0, 0, 0, 0, 0, 0, 0, 0, 0, 0, 0, 0, 0, 0, 0, 0, 0, 0, 0, 0, 0,...</td>\n",
       "    </tr>\n",
       "  </tbody>\n",
       "</table>\n",
       "</div>"
      ],
      "text/plain": [
       "                                                                                               article  \\\n",
       "0       https://medium.com/better-programming/this-python-library-can-animate-your-charts-a7c0a98b3463   \n",
       "1  https://medium.com/datadriveninvestor/list-of-chatgpt-prompts-for-nlp-practitioners-and-nlp-prod...   \n",
       "2  https://medium.com/towards-artificial-intelligence/deepminds-clever-idea-to-master-asymmetric-ga...   \n",
       "3                        https://medium.com/towards-data-science/must-read-papers-on-gans-b665bbae3317   \n",
       "4       https://medium.com/towards-data-science/understanding-bidirectional-rnn-in-pytorch-5bd25a5dd66   \n",
       "\n",
       "                                                                                                fastrp  \\\n",
       "0  [0.08663628995418549, -0.06408265978097916, -0.06370709836483002, -0.015515219420194626, 0.23375...   \n",
       "1  [-0.007080343551933765, -0.00889026839286089, -0.18236935138702393, -0.14672335982322693, 0.3220...   \n",
       "2  [-0.21350812911987305, 0.013562796637415886, 0.0765717625617981, -0.12203571945428848, 0.3002116...   \n",
       "3  [0.25916963815689087, -0.01417395006865263, 0.09633032977581024, -0.13773560523986816, -0.014066...   \n",
       "4  [0.15469515323638916, 0.06696459650993347, -0.08211394399404526, 0.04332730919122696, 0.17559620...   \n",
       "\n",
       "                                                                                 tags  \\\n",
       "0  [machine-learning, data-science, technology, artificial-intelligence, programming]   \n",
       "1  [machine-learning, data-science, deep-learning, python, naturallanguageprocessing]   \n",
       "2            [machine-learning, data-science, deep-learning, artificial-intelligence]   \n",
       "3            [machine-learning, data-science, deep-learning, artificial-intelligence]   \n",
       "4                                          [machine-learning, deep-learning, pytorch]   \n",
       "\n",
       "                                                                                                openai  \\\n",
       "0  [-0.003536871401593089, 0.00747159868478775, 0.01575239561498165, -0.01385077927261591, 0.005306...   \n",
       "1  [-0.01077286060899496, -0.0017891748575493693, 0.0182870514690876, -0.013639666140079498, 0.0061...   \n",
       "2  [-0.032979629933834076, -0.012398408725857735, 0.022878754884004593, -0.007013346068561077, 0.01...   \n",
       "3  [-0.03457323834300041, 0.005550392437726259, 0.028737546876072884, -0.011742711067199707, 0.0239...   \n",
       "4  [-0.02942381054162979, -0.0033131770323961973, 0.00732263782992959, -0.0019605879206210375, 0.01...   \n",
       "\n",
       "                                                                                             graphSAGE  \\\n",
       "0  [-0.024850887401985787, -0.01390526928863974, -0.011590916944380048, -0.005315524494654697, -0.0...   \n",
       "1  [-0.0029908329879554793, -0.0012797971176591125, -0.00154999756568174, -0.0018629333323836132, 0...   \n",
       "2  [-0.011517131737703568, -0.00599713490088639, -0.00411311608871896, -0.006146829890950987, -0.00...   \n",
       "3  [-0.003663774303208057, -0.0017448916705572657, -0.0017310002027370829, -0.0018859679502443221, ...   \n",
       "4  [-0.00885533563088848, -0.003836722124383314, -0.003924066660443985, -0.004346797047862697, 0.05...   \n",
       "\n",
       "                                                                                                target  \n",
       "0  [0, 0, 0, 0, 0, 0, 0, 0, 0, 1, 0, 0, 0, 0, 0, 0, 0, 0, 0, 0, 0, 0, 0, 0, 0, 0, 0, 0, 0, 0, 0, 0,...  \n",
       "1  [0, 0, 0, 0, 0, 0, 0, 0, 0, 0, 0, 0, 0, 0, 0, 0, 0, 0, 0, 0, 0, 0, 0, 0, 0, 0, 0, 0, 0, 0, 0, 0,...  \n",
       "2  [0, 0, 0, 0, 0, 0, 0, 0, 0, 1, 0, 0, 0, 0, 0, 0, 0, 0, 0, 0, 0, 0, 0, 0, 0, 0, 0, 0, 0, 0, 0, 0,...  \n",
       "3  [0, 0, 0, 0, 0, 0, 0, 0, 0, 1, 0, 0, 0, 0, 0, 0, 0, 0, 0, 0, 0, 0, 0, 0, 0, 0, 0, 0, 0, 0, 0, 0,...  \n",
       "4  [0, 0, 0, 0, 0, 0, 0, 0, 0, 0, 0, 0, 0, 0, 0, 0, 0, 0, 0, 0, 0, 0, 0, 0, 0, 0, 0, 0, 0, 0, 0, 0,...  "
      ]
     },
     "execution_count": 17,
     "metadata": {},
     "output_type": "execute_result"
    }
   ],
   "source": [
    "#instantiating MultiLabelBinarizer\n",
    "mlb = MultiLabelBinarizer()\n",
    "tags_mlb = mlb.fit_transform(data['tags'])\n",
    "data['target'] = list(tags_mlb)\n",
    "data.head()"
   ]
  },
  {
   "cell_type": "code",
   "execution_count": 18,
   "id": "b2HE1lM-pmIW",
   "metadata": {
    "id": "b2HE1lM-pmIW"
   },
   "outputs": [],
   "source": [
    "def get_macro_precision(classes, y_true, y_pred):\n",
    "    totalPrecision= 0\n",
    "    for i in range(len(classes)):\n",
    "      p = precision_score(y_true[:,i], y_pred.toarray()[:,i])\n",
    "      totalPrecision+= p\n",
    "    return totalPrecision/len(classes)\n",
    "\n",
    "def get_weighted_precision(classes, y_true, y_pred):\n",
    "    totalPrecision=0\n",
    "    totalSupport=0\n",
    "    for i in range (len(classes)):\n",
    "      p= precision_score(y_true[:,i], y_pred.toarray()[:,i])\n",
    "      support= (y_test[:,i]==1).sum()\n",
    "      totalSupport+=support\n",
    "      totalPrecision+= p*support\n",
    "    return totalPrecision/totalSupport"
   ]
  },
  {
   "cell_type": "code",
   "execution_count": 19,
   "id": "Of07jkfFdkwZ",
   "metadata": {
    "id": "Of07jkfFdkwZ"
   },
   "outputs": [],
   "source": [
    "def train_and_evaluate(df, input_columns):\n",
    "  max_weighted_precision = 0\n",
    "  best_input = \"\"\n",
    "  # Single split data\n",
    "  X = data[input_columns].values\n",
    "  y = np.array(data['target'].to_list())\n",
    "  x_train_all, y_train, x_test_all, y_test = iterative_train_test_split(X, y, test_size = 0.2)\n",
    "  # Train a model for each input option\n",
    "  for i, input_column in enumerate(input_columns):\n",
    "    print(f\"Training a model based on {input_column} column\")\n",
    "    x_train = np.array([x[i] for x in x_train_all])\n",
    "    x_test = np.array([x[i] for x in x_test_all])\n",
    "\n",
    "    # train\n",
    "    classifier = LabelPowerset(LogisticRegression())\n",
    "    classifier.fit(x_train, y_train)\n",
    "    # predict\n",
    "    predictions = classifier.predict(x_test)\n",
    "    print('Test accuracy is {}'.format(accuracy_score(y_test, predictions)))\n",
    "    print(\"Macro Precision: {:.2f}\".format(get_macro_precision(mlb.classes_, y_test, predictions)))\n",
    "    weighted_precision = get_weighted_precision(mlb.classes_, y_test, predictions)\n",
    "    print(\"Weighted Precision: {:.2f}\".format(weighted_precision))\n",
    "    if weighted_precision > max_weighted_precision:\n",
    "      max_weighted_precision = weighted_precision\n",
    "      best_classifier = classifier\n",
    "      best_input = input_column\n",
    "      \n",
    "  return best_classifier, best_input"
   ]
  },
  {
   "cell_type": "code",
   "execution_count": null,
   "id": "7ee1ad80",
   "metadata": {
    "colab": {
     "base_uri": "https://localhost:8080/",
     "height": 432
    },
    "id": "7ee1ad80",
    "outputId": "9ec4c968-31c7-47b5-e8eb-b8cca2eabea7"
   },
   "outputs": [
    {
     "name": "stdout",
     "output_type": "stream",
     "text": [
      "Training a model based on openai column\n"
     ]
    }
   ],
   "source": [
    "%%time\n",
    "classifier = train_and_evaluate(data, ['openai','fastrp','graphSAGE'])"
   ]
  },
  {
   "cell_type": "code",
   "execution_count": null,
   "id": "378b6125",
   "metadata": {
    "id": "378b6125"
   },
   "outputs": [],
   "source": [
    "example = gds.run_cypher(\"\"\"\n",
    "MATCH (a:Article)\n",
    "WHERE NOT EXISTS {(a)-[:HAS_TAG]->()}\n",
    "RETURN a.title AS title, a.fastrp AS embedding\n",
    "LIMIT 15\n",
    "\"\"\")"
   ]
  },
  {
   "cell_type": "code",
   "execution_count": null,
   "id": "e67db2ee",
   "metadata": {
    "colab": {
     "base_uri": "https://localhost:8080/",
     "height": 200
    },
    "id": "e67db2ee",
    "outputId": "dd976afa-7d4d-476c-f98f-9dab4b14aa9e"
   },
   "outputs": [],
   "source": [
    "tags_predicted = classifier.predict(np.array(example['embedding'].to_list()))\n",
    "example['tags'] = [list(mlb.inverse_transform(x)[0]) for x in tags_predicted]\n",
    "example[['title', 'tags']]"
   ]
  },
  {
   "cell_type": "code",
   "execution_count": null,
   "id": "7e908809",
   "metadata": {
    "id": "7e908809"
   },
   "outputs": [],
   "source": []
  }
 ],
 "metadata": {
  "colab": {
   "provenance": []
  },
  "kernelspec": {
   "display_name": "Python 3",
   "language": "python",
   "name": "python3"
  },
  "language_info": {
   "codemirror_mode": {
    "name": "ipython",
    "version": 3
   },
   "file_extension": ".py",
   "mimetype": "text/x-python",
   "name": "python",
   "nbconvert_exporter": "python",
   "pygments_lexer": "ipython3",
   "version": "3.8.8"
  }
 },
 "nbformat": 4,
 "nbformat_minor": 5
}
