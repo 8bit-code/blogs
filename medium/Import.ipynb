{
 "cells": [
  {
   "cell_type": "code",
   "execution_count": null,
   "id": "ee95bb0b",
   "metadata": {},
   "outputs": [],
   "source": [
    "!pip install graphdatascience"
   ]
  },
  {
   "cell_type": "code",
   "execution_count": null,
   "id": "0342d05c",
   "metadata": {},
   "outputs": [],
   "source": [
    "from graphdatascience import GraphDataScience\n",
    "import pandas as pd\n",
    "\n",
    "host = \"bolt://localhost:7687\"\n",
    "user = \"neo4j\"\n",
    "password= \"pleaseletmein\"\n",
    "\n",
    "gds = GraphDataScience(host, auth=(user, password))"
   ]
  },
  {
   "cell_type": "code",
   "execution_count": null,
   "id": "7b0dde99",
   "metadata": {},
   "outputs": [],
   "source": [
    "# Constraints\n",
    "gds.run_cypher(\"\"\"\n",
    "CREATE CONSTRAINT IF NOT EXISTS FOR (a:Article) REQUIRE a.url IS UNIQUE;\n",
    "\"\"\")\n",
    "gds.run_cypher(\"\"\"\n",
    "CREATE CONSTRAINT IF NOT EXISTS FOR (a:Author) REQUIRE a.name IS UNIQUE;\n",
    "\"\"\")\n",
    "gds.run_cypher(\"\"\"\n",
    "CREATE CONSTRAINT IF NOT EXISTS FOR (t:Tag) REQUIRE t.name IS UNIQUE;\n",
    "\"\"\")\n",
    "gds.run_cypher(\"\"\"\n",
    "CREATE CONSTRAINT IF NOT EXISTS FOR (l:List) REQUIRE l.id IS UNIQUE;\n",
    "\"\"\")\n"
   ]
  },
  {
   "cell_type": "code",
   "execution_count": null,
   "id": "1415312f",
   "metadata": {},
   "outputs": [],
   "source": [
    "# Import articles\n",
    "gds.run_cypher(\"\"\"\n",
    "LOAD CSV WITH HEADERS FROM \"https://raw.githubusercontent.com/tomasonjo/blog-datasets/main/medium/medium_articles.csv\" AS row\n",
    "CALL {\n",
    "     WITH row\n",
    "     MERGE (a:Article {url: row.story})\n",
    "     SET a.title = row.title,\n",
    "         a.date = date(CASE WHEN row.date <> \"\" THEN row.date ELSE \"1990-01-01\" END)\n",
    "     MERGE (au:Author {name:coalesce(row.author, \"Unknown\")})\n",
    "     MERGE (au)-[:WROTE]->(a)\n",
    "     WITH a, apoc.convert.fromJsonList(row.tags) AS tags\n",
    "     UNWIND tags AS tag\n",
    "     MERGE (t:Tag {name:tag})\n",
    "     MERGE (a)-[:HAS_TAG]->(t)\n",
    "} IN TRANSACTIONS\n",
    "\"\"\")"
   ]
  },
  {
   "cell_type": "code",
   "execution_count": null,
   "id": "7358034c",
   "metadata": {},
   "outputs": [],
   "source": [
    "# Import lists\n",
    "gds.run_cypher(\"\"\"\n",
    "LOAD CSV WITH HEADERS FROM \"https://raw.githubusercontent.com/tomasonjo/blog-datasets/main/medium/medium_lists.csv\" AS row\n",
    "CALL {\n",
    "    WITH row\n",
    "    MATCH (a:Article {url: row.article})\n",
    "    MERGE (l:List {id: row.list})\n",
    "    MERGE (a)-[:IN_LIST]->(l)\n",
    "} IN TRANSACTIONS\n",
    "\"\"\")"
   ]
  },
  {
   "cell_type": "markdown",
   "id": "13da3fa9",
   "metadata": {},
   "source": [
    "Download and unzip the embeddings file in this folder.\n",
    "The embeddings can be downloaded using the following link:\n",
    "    https://drive.google.com/file/d/1u7_qkNPT-_3q6KZE55MdOwjngoR6IHzl/view?usp=sharing"
   ]
  },
  {
   "cell_type": "code",
   "execution_count": null,
   "id": "f49cada4",
   "metadata": {},
   "outputs": [],
   "source": [
    "# Import openAI embeddings\n",
    "embeddings = pd.read_csv('medium_embedding_full.csv')\n",
    "params = embeddings.values\n",
    "for i in range(0, len(params), 1000):\n",
    "    batch = [{'url':x[0], 'embeddings':x[1]} for x in params[i:i+1000]]\n",
    "    gds.run_cypher(\"\"\"\n",
    "      UNWIND $data AS row \n",
    "      MATCH (a:Article {url:row.url}) \n",
    "      SET a.openaiEmbedding = apoc.convert.fromJsonList(row.embeddings)\"\"\", \n",
    "                   {'data': batch})"
   ]
  },
  {
   "cell_type": "code",
   "execution_count": null,
   "id": "b744b781",
   "metadata": {},
   "outputs": [],
   "source": []
  }
 ],
 "metadata": {
  "kernelspec": {
   "display_name": "Python 3",
   "language": "python",
   "name": "python3"
  },
  "language_info": {
   "codemirror_mode": {
    "name": "ipython",
    "version": 3
   },
   "file_extension": ".py",
   "mimetype": "text/x-python",
   "name": "python",
   "nbconvert_exporter": "python",
   "pygments_lexer": "ipython3",
   "version": "3.8.8"
  }
 },
 "nbformat": 4,
 "nbformat_minor": 5
}
