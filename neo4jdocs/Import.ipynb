{
 "cells": [
  {
   "cell_type": "code",
   "execution_count": 1,
   "id": "dcf2b85e",
   "metadata": {},
   "outputs": [],
   "source": [
    "from graphdatascience import GraphDataScience\n",
    "\n",
    "host = \"bolt://localhost:7687\"\n",
    "user = \"neo4j\"\n",
    "password = \"letmein\"\n",
    "\n",
    "gds = GraphDataScience(host, auth=(user, password))"
   ]
  },
  {
   "cell_type": "code",
   "execution_count": 2,
   "id": "ea5317ac",
   "metadata": {},
   "outputs": [
    {
     "data": {
      "text/html": [
       "<div>\n",
       "<style scoped>\n",
       "    .dataframe tbody tr th:only-of-type {\n",
       "        vertical-align: middle;\n",
       "    }\n",
       "\n",
       "    .dataframe tbody tr th {\n",
       "        vertical-align: top;\n",
       "    }\n",
       "\n",
       "    .dataframe thead th {\n",
       "        text-align: right;\n",
       "    }\n",
       "</style>\n",
       "<table border=\"1\" class=\"dataframe\">\n",
       "  <thead>\n",
       "    <tr style=\"text-align: right;\">\n",
       "      <th></th>\n",
       "    </tr>\n",
       "  </thead>\n",
       "  <tbody>\n",
       "  </tbody>\n",
       "</table>\n",
       "</div>"
      ],
      "text/plain": [
       "Empty DataFrame\n",
       "Columns: []\n",
       "Index: []"
      ]
     },
     "execution_count": 2,
     "metadata": {},
     "output_type": "execute_result"
    }
   ],
   "source": [
    "gds.run_cypher(\n",
    "    \"\"\"\n",
    "CREATE CONSTRAINT IF NOT EXISTS FOR (p:Page) REQUIRE p.url IS UNIQUE;\n",
    "\"\"\"\n",
    ")"
   ]
  },
  {
   "cell_type": "code",
   "execution_count": 3,
   "id": "315f147c",
   "metadata": {},
   "outputs": [
    {
     "data": {
      "text/html": [
       "<div>\n",
       "<style scoped>\n",
       "    .dataframe tbody tr th:only-of-type {\n",
       "        vertical-align: middle;\n",
       "    }\n",
       "\n",
       "    .dataframe tbody tr th {\n",
       "        vertical-align: top;\n",
       "    }\n",
       "\n",
       "    .dataframe thead th {\n",
       "        text-align: right;\n",
       "    }\n",
       "</style>\n",
       "<table border=\"1\" class=\"dataframe\">\n",
       "  <thead>\n",
       "    <tr style=\"text-align: right;\">\n",
       "      <th></th>\n",
       "    </tr>\n",
       "  </thead>\n",
       "  <tbody>\n",
       "  </tbody>\n",
       "</table>\n",
       "</div>"
      ],
      "text/plain": [
       "Empty DataFrame\n",
       "Columns: []\n",
       "Index: []"
      ]
     },
     "execution_count": 3,
     "metadata": {},
     "output_type": "execute_result"
    }
   ],
   "source": [
    "gds.run_cypher(\n",
    "    \"\"\"\n",
    "CREATE CONSTRAINT IF NOT EXISTS FOR (k:Keyword) REQUIRE k.name IS UNIQUE;\n",
    "\"\"\"\n",
    ")"
   ]
  },
  {
   "cell_type": "code",
   "execution_count": null,
   "id": "59e1e956",
   "metadata": {},
   "outputs": [],
   "source": [
    "# importing the module\n",
    "import json\n",
    "\n",
    "# Opening JSON file\n",
    "with open(\"neo4j_docs.json\") as json_file:\n",
    "    data = json.load(json_file)\n",
    "\n",
    "    # Print the type of data variable\n",
    "    print(\"Type:\", type(data))"
   ]
  },
  {
   "cell_type": "code",
   "execution_count": null,
   "id": "3bf11b97",
   "metadata": {},
   "outputs": [],
   "source": [
    "import_query = \"\"\"\n",
    "\n",
    "UNWIND $data AS row\n",
    "MERGE (p:Page {url:row.url})\n",
    "SET p.embedding = row.embedding,\n",
    "    p.has_text = row.has_text\n",
    "FOREACH (l in row.links    | MERGE (p1:Page {url:l}) MERGE (p)-[:LINKS_TO]->(p1))\n",
    "FOREACH (k in row.keywords | MERGE (k1:Keyword {name:k}) MERGE (p)-[:HAS_KEYWORD]->(k1))\n",
    "\"\"\"\n",
    "x = 1\n",
    "params = []\n",
    "for key in data:\n",
    "    params.append(\n",
    "        {\n",
    "            \"url\": key,\n",
    "            \"embedding\": data[key][\"embeddings\"],\n",
    "            \"keywords\": data[key][\"keywords\"],\n",
    "            \"links\": data[key][\"links\"],\n",
    "            \"has_text\": True if data[key][\"text\"] else False,\n",
    "        }\n",
    "    )\n",
    "    # Batch per 500\n",
    "    if len(params) == 500:\n",
    "        gds.run_cypher(import_query, {\"data\": params})\n",
    "        params = []\n",
    "        # Logging\n",
    "        print(f\"Importing {x} batch\")\n",
    "        x += 1\n",
    "\n",
    "# Import the remainder\n",
    "gds.run_cypher(import_query, {\"data\": params})"
   ]
  },
  {
   "cell_type": "code",
   "execution_count": null,
   "id": "ba255e7f",
   "metadata": {},
   "outputs": [],
   "source": []
  }
 ],
 "metadata": {
  "kernelspec": {
   "display_name": "Python 3",
   "language": "python",
   "name": "python3"
  },
  "language_info": {
   "codemirror_mode": {
    "name": "ipython",
    "version": 3
   },
   "file_extension": ".py",
   "mimetype": "text/x-python",
   "name": "python",
   "nbconvert_exporter": "python",
   "pygments_lexer": "ipython3",
   "version": "3.8.8"
  }
 },
 "nbformat": 4,
 "nbformat_minor": 5
}
