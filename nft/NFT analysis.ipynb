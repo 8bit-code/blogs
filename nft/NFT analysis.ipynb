{
 "cells": [
  {
   "cell_type": "code",
   "execution_count": 3,
   "id": "08a820f8",
   "metadata": {},
   "outputs": [],
   "source": [
    "from neo4j import GraphDatabase\n",
    "import pandas as pd\n",
    "\n",
    "host = 'bolt://localhost:7687'\n",
    "user = 'neo4j'\n",
    "password = 'letmein'\n",
    "driver = GraphDatabase.driver(host,auth=(user, password))\n",
    "\n",
    "def neo4j_query(query, params=None):\n",
    "    with driver.session() as session:\n",
    "        result = session.run(query, params)\n",
    "        return pd.DataFrame([r.values() for r in result], columns=result.keys())"
   ]
  },
  {
   "cell_type": "code",
   "execution_count": null,
   "id": "0b7a8826",
   "metadata": {},
   "outputs": [],
   "source": [
    "CALL apoc.warmup.run"
   ]
  },
  {
   "cell_type": "code",
   "execution_count": null,
   "id": "e45aa900",
   "metadata": {},
   "outputs": [],
   "source": [
    "CALL apoc.meta.stats\n",
    "YIELD nodeCount, relCount, labels, relTypesCount"
   ]
  },
  {
   "cell_type": "code",
   "execution_count": null,
   "id": "1741c3fb",
   "metadata": {},
   "outputs": [],
   "source": [
    "# NFTs"
   ]
  },
  {
   "cell_type": "code",
   "execution_count": null,
   "id": "20c9faad",
   "metadata": {},
   "outputs": [],
   "source": [
    "MATCH (n:NFT)<-[:FOR_NFT]-(t:Transaction)\n",
    "WHERE exists (n.Price_USD)\n",
    "WITH n, t.Price_USD as price\n",
    "ORDER BY price DESC LIMIT 5\n",
    "RETURN n.ID_token as token_id, n.Image_url_1 as image_url, price"
   ]
  },
  {
   "cell_type": "code",
   "execution_count": null,
   "id": "bfaf887b",
   "metadata": {},
   "outputs": [],
   "source": [
    "MATCH (n:NFT)<-[:FOR_NFT]-(t:Transaction)\n",
    "WHERE exists(t.Price_USD)\n",
    "WITH n, t.Price_USD as price\n",
    "ORDER BY price DESC LIMIT 5\n",
    "RETURN n.ID_token as token_id, n.Image_url_1 as image_url, price"
   ]
  },
  {
   "cell_type": "code",
   "execution_count": null,
   "id": "c9de24b9",
   "metadata": {},
   "outputs": [],
   "source": [
    "MATCH (n:NFT)<-[:FOR_NFT]-(t:Transaction)\n",
    "WHERE t.Price_USD > 1000000\n",
    "RETURN count(*)"
   ]
  },
  {
   "cell_type": "code",
   "execution_count": null,
   "id": "bd0da3e5",
   "metadata": {},
   "outputs": [],
   "source": [
    "MATCH (collection)<-[:IN_COLLECTION]-(n:NFT)<-[:FOR_NFT]-(t:Transaction)\n",
    "WHERE exists (t.Price_USD)\n",
    "RETURN collection.Collection_cleaned AS collection, \n",
    "       avg(t.Price_USD) AS averagePrice, \n",
    "       count(distinct n) AS numberOfNfts\n",
    "ORDER BY averagePrice DESC LIMIT 5"
   ]
  },
  {
   "cell_type": "code",
   "execution_count": null,
   "id": "e8194f03",
   "metadata": {},
   "outputs": [],
   "source": [
    "# Transactions"
   ]
  },
  {
   "cell_type": "code",
   "execution_count": null,
   "id": "69a5cffc",
   "metadata": {},
   "outputs": [],
   "source": [
    "MATCH (n:Transaction)\n",
    "RETURN n.Crypto AS crypto, count(*) AS count\n",
    "ORDER BY count DESC\n",
    "LIMIT 5"
   ]
  },
  {
   "cell_type": "code",
   "execution_count": null,
   "id": "d4274d5a",
   "metadata": {},
   "outputs": [],
   "source": [
    "MATCH (t:Transaction)\n",
    "RETURN t.Datetime_updated.year as year, count(*) as transactions, sum(t.Price_USD) as total_volume, avg(t.Price_USD) as average_price\n",
    "ORDER BY year "
   ]
  },
  {
   "cell_type": "code",
   "execution_count": null,
   "id": "8b53c380",
   "metadata": {},
   "outputs": [],
   "source": [
    "match (t:Trader)\n",
    "return t.username as username,size((t)-[:BOUGHT]->()) as bought,\n",
    "         size((t)-[:SOLD]->()) as sold\n",
    "ORDER BY bought + sold desc limit 5; "
   ]
  },
  {
   "cell_type": "code",
   "execution_count": null,
   "id": "6bd6467d",
   "metadata": {},
   "outputs": [],
   "source": [
    "match (t:Trader)\n",
    "OPTIONAL MATCH (t)-[:BOUGHT]->(bt)\n",
    "WITH t, sum(bt.Price_USD) AS boughtVolume\n",
    "OPTIONAL MATCH (t)-[:SOLD]->(st)\n",
    "WITH t, boughtVolume, sum(st.Price_USD) AS soldVolume\n",
    "RETURN t.username as username, t.address as address,boughtVolume, soldVolume\n",
    "ORDER BY boughtVolume + soldVolume\n",
    "DESC LIMIT 10"
   ]
  },
  {
   "cell_type": "code",
   "execution_count": null,
   "id": "1de9dc59",
   "metadata": {},
   "outputs": [],
   "source": [
    "MATCH (t:Trader)-[:SOLD]->(st:Transaction)-[:FOR_NFT]->(nft)\n",
    "WHERE st.Price_USD > 100000\n",
    "MATCH (t)-[:BOUGHT]->(bt:Transaction)-[:FOR_NFT]->(nft)\n",
    "WHERE st.Datetime_updated_seconds > bt.Datetime_updated_seconds\n",
    "RETURN t.username as trader, nft.Image_url_1 as nft, st.Datetime_updated_seconds AS soldTime, st.Price_USD AS soldAmount, bt.Datetime_updated_seconds as boughtTime, bt.Price_USD AS boughtAmount,\n",
    "        st.Price_USD - bt.Price_USD AS difference\n",
    "ORDER BY difference DESC LIMIT 10"
   ]
  },
  {
   "cell_type": "code",
   "execution_count": 4,
   "id": "d82b7640",
   "metadata": {},
   "outputs": [],
   "source": [
    "# Network analysis\n"
   ]
  },
  {
   "cell_type": "code",
   "execution_count": null,
   "id": "4ece3e39",
   "metadata": {},
   "outputs": [],
   "source": [
    "CALL gds.graph.create.cypher(\"nft\", \n",
    "\"MATCH (t:Trader) RETURN id(t) as id\",\n",
    "\"MATCH (t1:Trader)-[:BOUGHT]->(t)<-[:SOLD]-(t2:Trader)\n",
    " RETURN id(t1) AS source, id(t2) as target, coalesce(sum(t.Price_USD),1) as weight\")"
   ]
  },
  {
   "cell_type": "code",
   "execution_count": null,
   "id": "9c3b2918",
   "metadata": {},
   "outputs": [],
   "source": [
    "CALL gds.wcc.stats(\"nft\")"
   ]
  },
  {
   "cell_type": "code",
   "execution_count": null,
   "id": "3fad2ac6",
   "metadata": {},
   "outputs": [],
   "source": [
    "CALL gds.pageRank.stream(\"nft\", {relationshipWeightProperty:'weight'})\n",
    "YIELD nodeId, score\n",
    "RETURN gds.util.asNode(nodeId).username as username,gds.util.asNode(nodeId).address as address, score\n",
    "ORDER BY score DESC\n",
    "LIMIT 10"
   ]
  }
 ],
 "metadata": {
  "kernelspec": {
   "display_name": "Python 3",
   "language": "python",
   "name": "python3"
  },
  "language_info": {
   "codemirror_mode": {
    "name": "ipython",
    "version": 3
   },
   "file_extension": ".py",
   "mimetype": "text/x-python",
   "name": "python",
   "nbconvert_exporter": "python",
   "pygments_lexer": "ipython3",
   "version": "3.8.8"
  }
 },
 "nbformat": 4,
 "nbformat_minor": 5
}
