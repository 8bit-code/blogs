{
 "cells": [
  {
   "cell_type": "markdown",
   "metadata": {
    "colab_type": "text",
    "id": "view-in-github"
   },
   "source": [
    "<a href=\"https://colab.research.google.com/github/tomasonjo/blogs/blob/master/youtube/video2graph.ipynb\" target=\"_parent\"><img src=\"https://colab.research.google.com/assets/colab-badge.svg\" alt=\"Open In Colab\"/></a>"
   ]
  },
  {
   "cell_type": "code",
   "execution_count": 1,
   "metadata": {
    "colab": {
     "base_uri": "https://localhost:8080/"
    },
    "id": "KDqgx3RrK3KA",
    "outputId": "33553409-740e-49b9-e9c2-48ca12591dd5"
   },
   "outputs": [
    {
     "name": "stdout",
     "output_type": "stream",
     "text": [
      "Requirement already satisfied: openai in /home/tomaz/anaconda3/lib/python3.8/site-packages (0.27.2)\n",
      "Requirement already satisfied: youtube-transcript-api in /home/tomaz/anaconda3/lib/python3.8/site-packages (0.5.0)\n",
      "Requirement already satisfied: neo4j in /home/tomaz/.local/lib/python3.8/site-packages (4.4.3)\n",
      "Requirement already satisfied: retry in /home/tomaz/anaconda3/lib/python3.8/site-packages (0.9.2)\n",
      "Requirement already satisfied: pytz in /home/tomaz/anaconda3/lib/python3.8/site-packages (from neo4j) (2021.1)\n",
      "Requirement already satisfied: aiohttp in /home/tomaz/anaconda3/lib/python3.8/site-packages (from openai) (3.8.1)\n",
      "Requirement already satisfied: tqdm in /home/tomaz/.local/lib/python3.8/site-packages (from openai) (4.64.0)\n",
      "Requirement already satisfied: requests>=2.20 in /home/tomaz/anaconda3/lib/python3.8/site-packages (from openai) (2.28.2)\n",
      "Requirement already satisfied: charset-normalizer<4,>=2 in /home/tomaz/anaconda3/lib/python3.8/site-packages (from requests>=2.20->openai) (2.0.12)\n",
      "Requirement already satisfied: urllib3<1.27,>=1.21.1 in /home/tomaz/anaconda3/lib/python3.8/site-packages (from requests>=2.20->openai) (1.26.4)\n",
      "Requirement already satisfied: idna<4,>=2.5 in /home/tomaz/anaconda3/lib/python3.8/site-packages (from requests>=2.20->openai) (2.10)\n",
      "Requirement already satisfied: certifi>=2017.4.17 in /home/tomaz/anaconda3/lib/python3.8/site-packages (from requests>=2.20->openai) (2022.12.7)\n",
      "Requirement already satisfied: decorator>=3.4.2 in /home/tomaz/anaconda3/lib/python3.8/site-packages (from retry) (5.0.5)\n",
      "Requirement already satisfied: py<2.0.0,>=1.4.26 in /home/tomaz/anaconda3/lib/python3.8/site-packages (from retry) (1.10.0)\n",
      "Requirement already satisfied: async-timeout<5.0,>=4.0.0a3 in /home/tomaz/anaconda3/lib/python3.8/site-packages (from aiohttp->openai) (4.0.2)\n",
      "Requirement already satisfied: multidict<7.0,>=4.5 in /home/tomaz/anaconda3/lib/python3.8/site-packages (from aiohttp->openai) (6.0.2)\n",
      "Requirement already satisfied: frozenlist>=1.1.1 in /home/tomaz/anaconda3/lib/python3.8/site-packages (from aiohttp->openai) (1.3.0)\n",
      "Requirement already satisfied: yarl<2.0,>=1.0 in /home/tomaz/anaconda3/lib/python3.8/site-packages (from aiohttp->openai) (1.7.2)\n",
      "Requirement already satisfied: aiosignal>=1.1.2 in /home/tomaz/anaconda3/lib/python3.8/site-packages (from aiohttp->openai) (1.2.0)\n",
      "Requirement already satisfied: attrs>=17.3.0 in /home/tomaz/anaconda3/lib/python3.8/site-packages (from aiohttp->openai) (20.3.0)\n"
     ]
    }
   ],
   "source": [
    "!pip install openai youtube-transcript-api neo4j retry"
   ]
  },
  {
   "cell_type": "code",
   "execution_count": 2,
   "metadata": {
    "id": "stf9vu_mdlBn"
   },
   "outputs": [],
   "source": [
    "import pandas as pd\n",
    "import openai\n",
    "from retry import retry\n",
    "from neo4j import GraphDatabase\n",
    "\n",
    "pd.set_option(\"display.max_colwidth\", 150)\n",
    "\n",
    "openai.api_key = \"OPENAI_KEY\"\n",
    "\n",
    "uri = \"bolt://18.207.186.117:7687\"\n",
    "username = \"neo4j\"\n",
    "password = \"magazine-scream-roadside\"\n",
    "driver = GraphDatabase.driver(uri, auth=(username, password))"
   ]
  },
  {
   "cell_type": "code",
   "execution_count": 3,
   "metadata": {},
   "outputs": [],
   "source": [
    "def run_query(query, params={}):\n",
    "    with driver.session() as session:\n",
    "        result = session.run(query, params)\n",
    "        return pd.DataFrame([r.values() for r in result], columns=result.keys())"
   ]
  },
  {
   "cell_type": "code",
   "execution_count": 4,
   "metadata": {
    "id": "j_bDji05UECS"
   },
   "outputs": [],
   "source": [
    "from youtube_transcript_api import YouTubeTranscriptApi\n",
    "\n",
    "# CC BY 4 license\n",
    "video_id = \"nrI483C5Tro\"\n",
    "transcript = YouTubeTranscriptApi.get_transcript(video_id)"
   ]
  },
  {
   "cell_type": "code",
   "execution_count": 5,
   "metadata": {
    "id": "MVS38lqEaRbu"
   },
   "outputs": [],
   "source": [
    "# Split into sections and include start and end timestamps\n",
    "sections = []\n",
    "current_section = \"\"\n",
    "start_time = None\n",
    "previous_end = 0\n",
    "pause_threshold = 5\n",
    "\n",
    "for line in transcript:\n",
    "    if current_section and (line[\"start\"] - previous_end > pause_threshold):\n",
    "        # If there is a pause greater than 5s, we deem the end of section\n",
    "        end_time = line[\"start\"]\n",
    "        sections.append(\n",
    "            {\n",
    "                \"text\": current_section.strip(),\n",
    "                \"start_time\": start_time,\n",
    "                \"end_time\": end_time,\n",
    "            }\n",
    "        )\n",
    "        current_section = \"\"\n",
    "        start_time = None\n",
    "    else:\n",
    "        # If this is the start of a new section, record the start time\n",
    "        if not start_time:\n",
    "            start_time = line[\"start\"]\n",
    "\n",
    "        # Add the line to the current paragraph\n",
    "        clean_text = line[\"text\"].replace(\"\\n\", \" \").replace(\"\\xa0\", \" \")\n",
    "        current_section += \" \".join(clean_text.split()) + \" \"\n",
    "        # Tag the end of the dialogue\n",
    "        previous_end = line[\"start\"] + line[\"duration\"]\n",
    "\n",
    "# If there's a paragraph left at the end, add it to the list of paragraphs\n",
    "if current_section:\n",
    "    end_time = transcript[-1][\"start\"] + transcript[-1][\"duration\"]\n",
    "    sections.append(\n",
    "        {\n",
    "            \"text\": current_section.strip().replace(\"\\n\", \" \").replace(\"\\xa0\", \" \"),\n",
    "            \"start_time\": start_time,\n",
    "            \"end_time\": end_time,\n",
    "        }\n",
    "    )\n",
    "# Remove empty paragraphs\n",
    "sections = [p for p in sections if p[\"text\"]]\n"
   ]
  },
  {
   "cell_type": "code",
   "execution_count": 6,
   "metadata": {
    "colab": {
     "base_uri": "https://localhost:8080/"
    },
    "id": "dXp7PwoJVJe9",
    "outputId": "c3247dc1-eb60-40c5-c84e-34908b1dee28"
   },
   "outputs": [
    {
     "name": "stdout",
     "output_type": "stream",
     "text": [
      "Number of paragraphs: 77\n",
      "Max characters per paragraph: 1267\n"
     ]
    }
   ],
   "source": [
    "# Number of paragraphs\n",
    "print(f\"Number of paragraphs: {len(sections)}\")\n",
    "print(f\"Max characters per paragraph: {max([len(el['text']) for el in sections])}\")"
   ]
  },
  {
   "cell_type": "code",
   "execution_count": 7,
   "metadata": {
    "colab": {
     "base_uri": "https://localhost:8080/"
    },
    "id": "dy0sucRDaUPA",
    "outputId": "f7637a7d-dcff-427a-a474-2f1c3ce52190"
   },
   "outputs": [
    {
     "data": {
      "text/plain": [
       "{'text': 'water the liquid that oceans are made of and it fills endless depths only few will venture out into the endless open ocean of this vast underwater world most of the ocean inhabitants live in the city as it were like human societies very close together with friendly Neighbors and nasty cotenants while dangerous robbers lurk around at the edge of town',\n",
       " 'start_time': 5.46,\n",
       " 'end_time': 49.08}"
      ]
     },
     "execution_count": 7,
     "metadata": {},
     "output_type": "execute_result"
    }
   ],
   "source": [
    "sections[0]"
   ]
  },
  {
   "cell_type": "code",
   "execution_count": 8,
   "metadata": {
    "id": "GDqh6TY7dxCq"
   },
   "outputs": [],
   "source": [
    "def parse_entities_and_relationships(input_str):\n",
    "    # Parse the input string\n",
    "    entities = []\n",
    "    relationships = []\n",
    "    entity_mode = True\n",
    "    # Skip the first line\n",
    "    for line in input_str.split(\"\\n\")[1:]:\n",
    "        if line == \"relationships\":\n",
    "            entity_mode = False\n",
    "        elif line:\n",
    "            if entity_mode:\n",
    "                # Make sure the rel is in correct format\n",
    "                # GPT-4 sometimes returns n/a when no entities are found\n",
    "                if len(line.split(\", \")) != 3:\n",
    "                    continue\n",
    "                entities.append(line.split(\", \"))\n",
    "            else:\n",
    "                # Make sure the rel is in correct format\n",
    "                # GPT-4 sometimes returns n/a when no rels are found\n",
    "                if len(line.split(\", \")) != 3:\n",
    "                    continue\n",
    "                relationships.append(line.split(\", \"))\n",
    "    return entities, relationships"
   ]
  },
  {
   "cell_type": "code",
   "execution_count": 9,
   "metadata": {
    "id": "xL35GBGnK43H"
   },
   "outputs": [],
   "source": [
    "system = \"You are an archeology and biology expert helping us extract relevant information.\"\n",
    "\n",
    "    # Set up the prompt for GPT-3 to complete\n",
    "prompt = \"\"\"#This a transcript from a sea documentary. The task is to extract as many relevant entities to biology, chemistry, or archeology.\n",
    "#The entities should include all animals, biological entities, locations.\n",
    "#However, the entities should not include distances or time durations.\n",
    "#Also, return the type of an entity using the Wikipedia class system and the sentiment of the mentioned entity,\n",
    "#where the sentiment value ranges from -1 to 1, and -1 being very negative, 1 being very positive\n",
    "#Additionally, extract all relevant relationships between identified entities.\n",
    "#The relationships should follow the Wikipedia schema type.\n",
    "#The output of a relationship should be in a form of a triple Head, Relationship, Tail, for example\n",
    "#Peter, WORKS_AT, Hospital/n\n",
    "# An example \"St. Peter is located in Paris\" should have an output with the following format\n",
    "entity\n",
    "St. Peter, person, 0.0\n",
    "Paris, location, 0.0\n",
    "\n",
    "relationships\n",
    "St.Peter, LOCATED_IN, Paris\\n\"\"\"\n",
    "\n",
    "@retry(tries=3, delay=5)\n",
    "def process_gpt4(text):\n",
    "    paragraph = text\n",
    "\n",
    "    completion = openai.ChatCompletion.create(\n",
    "        model=\"gpt-4\",\n",
    "        # Try to be as deterministic as possible\n",
    "        temperature=0,\n",
    "        messages=[\n",
    "            {\"role\": \"system\", \"content\": system},\n",
    "            {\"role\": \"user\", \"content\": prompt + paragraph},\n",
    "        ],\n",
    "    )\n",
    "\n",
    "    nlp_results = completion.choices[0].message.content\n",
    "    \n",
    "    if not \"relationships\" in nlp_results:\n",
    "        raise Exception(\n",
    "            \"GPT-4 is not being nice and isn't returning results in correct format\"\n",
    "        )\n",
    "    \n",
    "    return parse_entities_and_relationships(nlp_results)\n"
   ]
  },
  {
   "cell_type": "code",
   "execution_count": 10,
   "metadata": {
    "colab": {
     "base_uri": "https://localhost:8080/",
     "height": 814
    },
    "id": "MmdQQnQReMKu",
    "outputId": "3a02a21e-e00f-4f6e-f31a-d634724896e0"
   },
   "outputs": [
    {
     "name": "stdout",
     "output_type": "stream",
     "text": [
      "Processing 0 paragraph\n",
      "Processing 1 paragraph\n",
      "Processing 2 paragraph\n",
      "Processing 3 paragraph\n",
      "Processing 4 paragraph\n",
      "Processing 5 paragraph\n",
      "Processing 6 paragraph\n",
      "Processing 7 paragraph\n",
      "Processing 8 paragraph\n",
      "Processing 9 paragraph\n",
      "Processing 10 paragraph\n",
      "Processing 11 paragraph\n",
      "Processing 12 paragraph\n",
      "Processing 13 paragraph\n",
      "Processing 14 paragraph\n",
      "Processing 15 paragraph\n",
      "Processing 16 paragraph\n",
      "Processing 17 paragraph\n",
      "Processing 18 paragraph\n",
      "Processing 19 paragraph\n",
      "Processing 20 paragraph\n",
      "Processing 21 paragraph\n",
      "Processing 22 paragraph\n",
      "Processing 23 paragraph\n",
      "Processing 24 paragraph\n",
      "Processing 25 paragraph\n",
      "Processing 26 paragraph\n",
      "Processing 27 paragraph\n",
      "Processing 28 paragraph\n",
      "Processing 29 paragraph\n",
      "Processing 30 paragraph\n",
      "Processing 31 paragraph\n",
      "Processing 32 paragraph\n",
      "Processing 33 paragraph\n",
      "Processing 34 paragraph\n",
      "Processing 35 paragraph\n",
      "Processing 36 paragraph\n",
      "Processing 37 paragraph\n",
      "Processing 38 paragraph\n",
      "Processing 39 paragraph\n",
      "Processing 40 paragraph\n",
      "Processing 41 paragraph\n",
      "Processing 42 paragraph\n",
      "Processing 43 paragraph\n",
      "Processing 44 paragraph\n",
      "Processing 45 paragraph\n",
      "Processing 46 paragraph\n",
      "Processing 47 paragraph\n",
      "Processing 48 paragraph\n",
      "Processing 49 paragraph\n",
      "Processing 50 paragraph\n",
      "Processing 51 paragraph\n",
      "Processing 52 paragraph\n",
      "Processing 53 paragraph\n",
      "Processing 54 paragraph\n",
      "Processing 55 paragraph\n",
      "Processing 56 paragraph\n",
      "Processing 57 paragraph\n",
      "Processing 58 paragraph\n",
      "Processing 59 paragraph\n",
      "Processing 60 paragraph\n",
      "Processing 61 paragraph\n",
      "Processing 62 paragraph\n",
      "Processing 63 paragraph\n",
      "Processing 64 paragraph\n",
      "Processing 65 paragraph\n",
      "Processing 66 paragraph\n",
      "Processing 67 paragraph\n",
      "Processing 68 paragraph\n",
      "Processing 69 paragraph\n",
      "Processing 70 paragraph\n",
      "Processing 71 paragraph\n",
      "Processing 72 paragraph\n",
      "Processing 73 paragraph\n",
      "Processing 74 paragraph\n",
      "Processing 75 paragraph\n",
      "Processing 76 paragraph\n"
     ]
    }
   ],
   "source": [
    "import_query = \"\"\"\n",
    "MERGE (v:Video {id:$videoId})\n",
    "CREATE (v)-[:HAS_SECTION]->(p:Section)\n",
    "SET p.startTime = toFloat($start),\n",
    "    p.endTime = toFloat($end),\n",
    "    p.text = $text\n",
    "FOREACH (e in $entities |\n",
    "  MERGE (entity:Entity {name: e[0]})\n",
    "  ON CREATE SET entity.type = e[1] \n",
    "  MERGE (p)-[:MENTIONS{sentiment:toFloat(e[2])}]->(entity))\n",
    "WITH p\n",
    "UNWIND $relationships AS relation\n",
    "MERGE (source:Entity {name: relation[0]})\n",
    "MERGE (target:Entity {name: relation[2]})\n",
    "MERGE (source)-[:RELATIONSHIP]->(r:Relationship {type: relation[1]})-[:RELATIONSHIP]->(target)\n",
    "MERGE (p)-[mr:MENTIONS_RELATIONSHIP]->(r)\n",
    "\"\"\"\n",
    "\n",
    "with driver.session() as session:\n",
    "    for i, section in enumerate(sections):\n",
    "        print(f\"Processing {i} paragraph\")\n",
    "        text = section[\"text\"]\n",
    "        start = section[\"start_time\"]\n",
    "        end = section[\"end_time\"]\n",
    "        try:\n",
    "            entities, relationships = process_gpt4(text)\n",
    "            params = {\n",
    "                \"videoId\": video_id,\n",
    "                \"start\": start,\n",
    "                \"end\": end,\n",
    "                \"text\": text,\n",
    "                \"entities\": entities,\n",
    "                \"relationships\": relationships,\n",
    "            }\n",
    "            session.run(import_query, params)\n",
    "        except:\n",
    "            pass"
   ]
  },
  {
   "cell_type": "markdown",
   "metadata": {},
   "source": [
    "# Entity disambiguation"
   ]
  },
  {
   "cell_type": "code",
   "execution_count": 11,
   "metadata": {},
   "outputs": [],
   "source": [
    "disambiguation_prompt = \"\"\"\n",
    "#Act as a entity disambiugation tool and tell me which values reference the same entity. \n",
    "#For example if I give you\n",
    "#\n",
    "#Birds\n",
    "#Bird\n",
    "#Ant\n",
    "#\n",
    "#You return to me\n",
    "#\n",
    "#Birds, 1\n",
    "#Bird, 1\n",
    "#Ant, 2\n",
    "#\n",
    "#As the Bird and Birds values have the same integer assigned to them, it means that they reference the same entity.\n",
    "#Now process the following values\\n\n",
    "\"\"\"\n",
    "\n",
    "def disambiguate(entities):\n",
    "    completion = openai.ChatCompletion.create(\n",
    "        model=\"gpt-4\",\n",
    "        # Try to be as deterministic as possible\n",
    "        temperature=0,\n",
    "        messages=[\n",
    "            {\"role\": \"user\", \"content\": disambiguation_prompt + \"\\n\".join(all_animals)},\n",
    "        ],\n",
    "    )\n",
    "\n",
    "    disambiguation_results = completion.choices[0].message.content\n",
    "    return [row.split(\", \") for row in disambiguation_results.split(\"\\n\")]"
   ]
  },
  {
   "cell_type": "code",
   "execution_count": 12,
   "metadata": {},
   "outputs": [
    {
     "data": {
      "text/html": [
       "<div>\n",
       "<style scoped>\n",
       "    .dataframe tbody tr th:only-of-type {\n",
       "        vertical-align: middle;\n",
       "    }\n",
       "\n",
       "    .dataframe tbody tr th {\n",
       "        vertical-align: top;\n",
       "    }\n",
       "\n",
       "    .dataframe thead th {\n",
       "        text-align: right;\n",
       "    }\n",
       "</style>\n",
       "<table border=\"1\" class=\"dataframe\">\n",
       "  <thead>\n",
       "    <tr style=\"text-align: right;\">\n",
       "      <th></th>\n",
       "    </tr>\n",
       "  </thead>\n",
       "  <tbody>\n",
       "  </tbody>\n",
       "</table>\n",
       "</div>"
      ],
      "text/plain": [
       "Empty DataFrame\n",
       "Columns: []\n",
       "Index: []"
      ]
     },
     "execution_count": 12,
     "metadata": {},
     "output_type": "execute_result"
    }
   ],
   "source": [
    "all_animals = run_query(\"\"\"\n",
    "MATCH (e:Entity {type: 'animal'})\n",
    "RETURN e.name AS animal\n",
    "\"\"\")['animal'].to_list()\n",
    "\n",
    "\n",
    "disambiguation_params = disambiguate(all_animals)\n",
    "run_query(\n",
    "    \"\"\"\n",
    "UNWIND $data AS row\n",
    "MATCH (e:Entity {name:row[0]})\n",
    "SET e.disambiguation = row[1]\n",
    "\"\"\",\n",
    "    {\"data\": disambiguation_params},\n",
    ")\n"
   ]
  },
  {
   "cell_type": "code",
   "execution_count": 13,
   "metadata": {},
   "outputs": [
    {
     "data": {
      "text/html": [
       "<div>\n",
       "<style scoped>\n",
       "    .dataframe tbody tr th:only-of-type {\n",
       "        vertical-align: middle;\n",
       "    }\n",
       "\n",
       "    .dataframe tbody tr th {\n",
       "        vertical-align: top;\n",
       "    }\n",
       "\n",
       "    .dataframe thead th {\n",
       "        text-align: right;\n",
       "    }\n",
       "</style>\n",
       "<table border=\"1\" class=\"dataframe\">\n",
       "  <thead>\n",
       "    <tr style=\"text-align: right;\">\n",
       "      <th></th>\n",
       "      <th>i</th>\n",
       "      <th>entities</th>\n",
       "    </tr>\n",
       "  </thead>\n",
       "  <tbody>\n",
       "    <tr>\n",
       "      <th>0</th>\n",
       "      <td>22</td>\n",
       "      <td>[moray eel, Moray, Moray Eel, moray, morays]</td>\n",
       "    </tr>\n",
       "    <tr>\n",
       "      <th>1</th>\n",
       "      <td>16</td>\n",
       "      <td>[lionfish, lionfishes, Lionfish]</td>\n",
       "    </tr>\n",
       "    <tr>\n",
       "      <th>2</th>\n",
       "      <td>9</td>\n",
       "      <td>[Brittle star, brittle stars, brittle star]</td>\n",
       "    </tr>\n",
       "    <tr>\n",
       "      <th>3</th>\n",
       "      <td>6</td>\n",
       "      <td>[hermit crab, Hermit crab]</td>\n",
       "    </tr>\n",
       "    <tr>\n",
       "      <th>4</th>\n",
       "      <td>5</td>\n",
       "      <td>[Monkfish, monkfish]</td>\n",
       "    </tr>\n",
       "  </tbody>\n",
       "</table>\n",
       "</div>"
      ],
      "text/plain": [
       "    i                                      entities\n",
       "0  22  [moray eel, Moray, Moray Eel, moray, morays]\n",
       "1  16              [lionfish, lionfishes, Lionfish]\n",
       "2   9   [Brittle star, brittle stars, brittle star]\n",
       "3   6                    [hermit crab, Hermit crab]\n",
       "4   5                          [Monkfish, monkfish]"
      ]
     },
     "execution_count": 13,
     "metadata": {},
     "output_type": "execute_result"
    }
   ],
   "source": [
    "run_query(\"\"\"\n",
    "MATCH (e:Entity {type:\"animal\"})\n",
    "RETURN e.disambiguation AS i, collect(e.name) AS entities\n",
    "ORDER BY size(entities) DESC\n",
    "LIMIT 5\n",
    "\"\"\")"
   ]
  },
  {
   "cell_type": "code",
   "execution_count": 14,
   "metadata": {},
   "outputs": [
    {
     "data": {
      "text/html": [
       "<div>\n",
       "<style scoped>\n",
       "    .dataframe tbody tr th:only-of-type {\n",
       "        vertical-align: middle;\n",
       "    }\n",
       "\n",
       "    .dataframe tbody tr th {\n",
       "        vertical-align: top;\n",
       "    }\n",
       "\n",
       "    .dataframe thead th {\n",
       "        text-align: right;\n",
       "    }\n",
       "</style>\n",
       "<table border=\"1\" class=\"dataframe\">\n",
       "  <thead>\n",
       "    <tr style=\"text-align: right;\">\n",
       "      <th></th>\n",
       "      <th>'done'</th>\n",
       "    </tr>\n",
       "  </thead>\n",
       "  <tbody>\n",
       "    <tr>\n",
       "      <th>0</th>\n",
       "      <td>done</td>\n",
       "    </tr>\n",
       "  </tbody>\n",
       "</table>\n",
       "</div>"
      ],
      "text/plain": [
       "  'done'\n",
       "0   done"
      ]
     },
     "execution_count": 14,
     "metadata": {},
     "output_type": "execute_result"
    }
   ],
   "source": [
    "run_query(\"\"\"\n",
    "MATCH (e:Entity {type:\"animal\"})\n",
    "WITH e.disambiguation AS i, collect(e) AS entities\n",
    "CALL apoc.refactor.mergeNodes(entities, {mergeRels:True})\n",
    "YIELD node\n",
    "RETURN distinct 'done'\n",
    "\"\"\")"
   ]
  },
  {
   "cell_type": "markdown",
   "metadata": {
    "id": "aKV8rtdQ3OXF"
   },
   "source": [
    "# Analysis"
   ]
  },
  {
   "cell_type": "code",
   "execution_count": 15,
   "metadata": {},
   "outputs": [
    {
     "data": {
      "text/html": [
       "<div>\n",
       "<style scoped>\n",
       "    .dataframe tbody tr th:only-of-type {\n",
       "        vertical-align: middle;\n",
       "    }\n",
       "\n",
       "    .dataframe tbody tr th {\n",
       "        vertical-align: top;\n",
       "    }\n",
       "\n",
       "    .dataframe thead th {\n",
       "        text-align: right;\n",
       "    }\n",
       "</style>\n",
       "<table border=\"1\" class=\"dataframe\">\n",
       "  <thead>\n",
       "    <tr style=\"text-align: right;\">\n",
       "      <th></th>\n",
       "      <th>e.name</th>\n",
       "      <th>e.type</th>\n",
       "      <th>mentions</th>\n",
       "    </tr>\n",
       "  </thead>\n",
       "  <tbody>\n",
       "    <tr>\n",
       "      <th>0</th>\n",
       "      <td>chief</td>\n",
       "      <td>person</td>\n",
       "      <td>1</td>\n",
       "    </tr>\n",
       "    <tr>\n",
       "      <th>1</th>\n",
       "      <td>strange visitors</td>\n",
       "      <td>person</td>\n",
       "      <td>1</td>\n",
       "    </tr>\n",
       "    <tr>\n",
       "      <th>2</th>\n",
       "      <td>divers</td>\n",
       "      <td>person</td>\n",
       "      <td>1</td>\n",
       "    </tr>\n",
       "  </tbody>\n",
       "</table>\n",
       "</div>"
      ],
      "text/plain": [
       "             e.name  e.type  mentions\n",
       "0             chief  person         1\n",
       "1  strange visitors  person         1\n",
       "2            divers  person         1"
      ]
     },
     "execution_count": 15,
     "metadata": {},
     "output_type": "execute_result"
    }
   ],
   "source": [
    "run_query(\"\"\"\n",
    "MATCH (e:Entity {type:\"person\"})\n",
    "RETURN e.name, e.type,\n",
    "       count{(e)<-[:MENTIONS]-()} AS mentions\n",
    "ORDER BY mentions DESC\n",
    "LIMIT 5\n",
    "\"\"\")"
   ]
  },
  {
   "cell_type": "code",
   "execution_count": 16,
   "metadata": {
    "id": "7tDw2i9z32Gn"
   },
   "outputs": [
    {
     "data": {
      "text/html": [
       "<div>\n",
       "<style scoped>\n",
       "    .dataframe tbody tr th:only-of-type {\n",
       "        vertical-align: middle;\n",
       "    }\n",
       "\n",
       "    .dataframe tbody tr th {\n",
       "        vertical-align: top;\n",
       "    }\n",
       "\n",
       "    .dataframe thead th {\n",
       "        text-align: right;\n",
       "    }\n",
       "</style>\n",
       "<table border=\"1\" class=\"dataframe\">\n",
       "  <thead>\n",
       "    <tr style=\"text-align: right;\">\n",
       "      <th></th>\n",
       "      <th>e.name</th>\n",
       "      <th>e.type</th>\n",
       "      <th>mentions</th>\n",
       "    </tr>\n",
       "  </thead>\n",
       "  <tbody>\n",
       "    <tr>\n",
       "      <th>0</th>\n",
       "      <td>morays</td>\n",
       "      <td>animal</td>\n",
       "      <td>7</td>\n",
       "    </tr>\n",
       "    <tr>\n",
       "      <th>1</th>\n",
       "      <td>Lionfish</td>\n",
       "      <td>animal</td>\n",
       "      <td>5</td>\n",
       "    </tr>\n",
       "    <tr>\n",
       "      <th>2</th>\n",
       "      <td>brittle star</td>\n",
       "      <td>animal</td>\n",
       "      <td>3</td>\n",
       "    </tr>\n",
       "    <tr>\n",
       "      <th>3</th>\n",
       "      <td>monkfish</td>\n",
       "      <td>animal</td>\n",
       "      <td>3</td>\n",
       "    </tr>\n",
       "    <tr>\n",
       "      <th>4</th>\n",
       "      <td>Cardinal fish</td>\n",
       "      <td>animal</td>\n",
       "      <td>3</td>\n",
       "    </tr>\n",
       "  </tbody>\n",
       "</table>\n",
       "</div>"
      ],
      "text/plain": [
       "          e.name  e.type  mentions\n",
       "0         morays  animal         7\n",
       "1       Lionfish  animal         5\n",
       "2   brittle star  animal         3\n",
       "3       monkfish  animal         3\n",
       "4  Cardinal fish  animal         3"
      ]
     },
     "execution_count": 16,
     "metadata": {},
     "output_type": "execute_result"
    }
   ],
   "source": [
    "run_query(\"\"\"\n",
    "MATCH (e:Entity {type:\"animal\"})\n",
    "RETURN e.name, e.type,\n",
    "       count{(e)<-[:MENTIONS]-()} AS mentions\n",
    "ORDER BY mentions DESC\n",
    "LIMIT 5\n",
    "\"\"\")"
   ]
  },
  {
   "cell_type": "code",
   "execution_count": 17,
   "metadata": {
    "id": "PeQHYqMq6SnB"
   },
   "outputs": [
    {
     "data": {
      "text/html": [
       "<div>\n",
       "<style scoped>\n",
       "    .dataframe tbody tr th:only-of-type {\n",
       "        vertical-align: middle;\n",
       "    }\n",
       "\n",
       "    .dataframe tbody tr th {\n",
       "        vertical-align: top;\n",
       "    }\n",
       "\n",
       "    .dataframe thead th {\n",
       "        text-align: right;\n",
       "    }\n",
       "</style>\n",
       "<table border=\"1\" class=\"dataframe\">\n",
       "  <thead>\n",
       "    <tr style=\"text-align: right;\">\n",
       "      <th></th>\n",
       "      <th>source</th>\n",
       "      <th>relationship</th>\n",
       "      <th>target</th>\n",
       "      <th>mentions</th>\n",
       "    </tr>\n",
       "  </thead>\n",
       "  <tbody>\n",
       "    <tr>\n",
       "      <th>0</th>\n",
       "      <td>Lionfish</td>\n",
       "      <td>HUNTS_IN</td>\n",
       "      <td>Reef</td>\n",
       "      <td>1</td>\n",
       "    </tr>\n",
       "    <tr>\n",
       "      <th>1</th>\n",
       "      <td>Lionfish</td>\n",
       "      <td>CARRY</td>\n",
       "      <td>poison</td>\n",
       "      <td>1</td>\n",
       "    </tr>\n",
       "    <tr>\n",
       "      <th>2</th>\n",
       "      <td>Lionfish</td>\n",
       "      <td>USES</td>\n",
       "      <td>Camouflage</td>\n",
       "      <td>1</td>\n",
       "    </tr>\n",
       "    <tr>\n",
       "      <th>3</th>\n",
       "      <td>Lionfish</td>\n",
       "      <td>USE</td>\n",
       "      <td>dive torches</td>\n",
       "      <td>1</td>\n",
       "    </tr>\n",
       "    <tr>\n",
       "      <th>4</th>\n",
       "      <td>Lionfish</td>\n",
       "      <td>HAS</td>\n",
       "      <td>Fins</td>\n",
       "      <td>1</td>\n",
       "    </tr>\n",
       "    <tr>\n",
       "      <th>5</th>\n",
       "      <td>Lionfish</td>\n",
       "      <td>POSE_DANGER_TO</td>\n",
       "      <td>Cardinal fish</td>\n",
       "      <td>1</td>\n",
       "    </tr>\n",
       "    <tr>\n",
       "      <th>6</th>\n",
       "      <td>Lionfish</td>\n",
       "      <td>PREDATOR_OF</td>\n",
       "      <td>Small prey</td>\n",
       "      <td>1</td>\n",
       "    </tr>\n",
       "    <tr>\n",
       "      <th>7</th>\n",
       "      <td>Eggs</td>\n",
       "      <td>EATEN_BY</td>\n",
       "      <td>Lionfish</td>\n",
       "      <td>1</td>\n",
       "    </tr>\n",
       "    <tr>\n",
       "      <th>8</th>\n",
       "      <td>morays</td>\n",
       "      <td>INTERACTS_WITH</td>\n",
       "      <td>Lionfish</td>\n",
       "      <td>1</td>\n",
       "    </tr>\n",
       "    <tr>\n",
       "      <th>9</th>\n",
       "      <td>Cardinal</td>\n",
       "      <td>EATEN_BY</td>\n",
       "      <td>Lionfish</td>\n",
       "      <td>1</td>\n",
       "    </tr>\n",
       "  </tbody>\n",
       "</table>\n",
       "</div>"
      ],
      "text/plain": [
       "     source    relationship         target  mentions\n",
       "0  Lionfish        HUNTS_IN           Reef         1\n",
       "1  Lionfish           CARRY         poison         1\n",
       "2  Lionfish            USES     Camouflage         1\n",
       "3  Lionfish             USE   dive torches         1\n",
       "4  Lionfish             HAS           Fins         1\n",
       "5  Lionfish  POSE_DANGER_TO  Cardinal fish         1\n",
       "6  Lionfish     PREDATOR_OF     Small prey         1\n",
       "7      Eggs        EATEN_BY       Lionfish         1\n",
       "8    morays  INTERACTS_WITH       Lionfish         1\n",
       "9  Cardinal        EATEN_BY       Lionfish         1"
      ]
     },
     "execution_count": 17,
     "metadata": {},
     "output_type": "execute_result"
    }
   ],
   "source": [
    "run_query(\"\"\"\n",
    "MATCH (e:Entity {name:\"Lionfish\"})-[:RELATIONSHIP]->(r)-[:RELATIONSHIP]->(target)\n",
    "RETURN e.name AS source, r.type AS relationship, target.name AS target,\n",
    "       count{(r)<-[:MENTIONS_RELATIONSHIP]-()} AS mentions\n",
    "UNION ALL\n",
    "MATCH (e:Entity {name:\"Lionfish\"})<-[:RELATIONSHIP]->(r)<-[:RELATIONSHIP]-(source)\n",
    "RETURN source.name AS source, r.type AS relationship, e.name AS target,\n",
    "       count{(r)<-[:MENTIONS_RELATIONSHIP]-()} AS mentions\n",
    "\"\"\")"
   ]
  },
  {
   "cell_type": "code",
   "execution_count": 21,
   "metadata": {},
   "outputs": [
    {
     "data": {
      "text/html": [
       "<div>\n",
       "<style scoped>\n",
       "    .dataframe tbody tr th:only-of-type {\n",
       "        vertical-align: middle;\n",
       "    }\n",
       "\n",
       "    .dataframe tbody tr th {\n",
       "        vertical-align: top;\n",
       "    }\n",
       "\n",
       "    .dataframe thead th {\n",
       "        text-align: right;\n",
       "    }\n",
       "</style>\n",
       "<table border=\"1\" class=\"dataframe\">\n",
       "  <thead>\n",
       "    <tr style=\"text-align: right;\">\n",
       "      <th></th>\n",
       "      <th>text</th>\n",
       "    </tr>\n",
       "  </thead>\n",
       "  <tbody>\n",
       "    <tr>\n",
       "      <th>0</th>\n",
       "      <td>the snail is fast and the prey disappears in the blink of an eye the night is still young and still full of danger and Terror these lionfishes pos...</td>\n",
       "    </tr>\n",
       "  </tbody>\n",
       "</table>\n",
       "</div>"
      ],
      "text/plain": [
       "                                                                                                                                                    text\n",
       "0  the snail is fast and the prey disappears in the blink of an eye the night is still young and still full of danger and Terror these lionfishes pos..."
      ]
     },
     "execution_count": 21,
     "metadata": {},
     "output_type": "execute_result"
    }
   ],
   "source": [
    "run_query(\"\"\"\n",
    "MATCH (e:Entity)-[:RELATIONSHIP]->(r)-[:RELATIONSHIP]->(t:Entity)\n",
    "WHERE e.name = \"Lionfish\" AND r.type = \"POSE_DANGER_TO\" AND t.name = \"Cardinal fish\"\n",
    "MATCH (r)<-[:MENTIONS_RELATIONSHIP]-(s:Section)\n",
    "RETURN s.text AS text\n",
    "\"\"\")"
   ]
  },
  {
   "cell_type": "code",
   "execution_count": 19,
   "metadata": {
    "id": "yCwxdBfz7RJF"
   },
   "outputs": [
    {
     "data": {
      "text/html": [
       "<div>\n",
       "<style scoped>\n",
       "    .dataframe tbody tr th:only-of-type {\n",
       "        vertical-align: middle;\n",
       "    }\n",
       "\n",
       "    .dataframe tbody tr th {\n",
       "        vertical-align: top;\n",
       "    }\n",
       "\n",
       "    .dataframe thead th {\n",
       "        text-align: right;\n",
       "    }\n",
       "</style>\n",
       "<table border=\"1\" class=\"dataframe\">\n",
       "  <thead>\n",
       "    <tr style=\"text-align: right;\">\n",
       "      <th></th>\n",
       "      <th>entity</th>\n",
       "      <th>sentiment</th>\n",
       "      <th>text</th>\n",
       "    </tr>\n",
       "  </thead>\n",
       "  <tbody>\n",
       "    <tr>\n",
       "      <th>0</th>\n",
       "      <td>Cardinal fish</td>\n",
       "      <td>-0.5</td>\n",
       "      <td>the snail is fast and the prey disappears in the blink of an eye the night is still young and still full of danger and Terror these lionfishes pos...</td>\n",
       "    </tr>\n",
       "    <tr>\n",
       "      <th>1</th>\n",
       "      <td>monkfish</td>\n",
       "      <td>-0.5</td>\n",
       "      <td>they're clearly telling this hermit crab to take a hike but they should have stayed with their offspring because there's new danger approaching a ...</td>\n",
       "    </tr>\n",
       "    <tr>\n",
       "      <th>2</th>\n",
       "      <td>sea urchin</td>\n",
       "      <td>-0.5</td>\n",
       "      <td>Sandy ocean floor and this means having to constantly protect this open Egg site on occasion they blow and fan the eggs but mostly they keep an ey...</td>\n",
       "    </tr>\n",
       "    <tr>\n",
       "      <th>3</th>\n",
       "      <td>sea urchin</td>\n",
       "      <td>-0.5</td>\n",
       "      <td>again and again Until It Breaks the sea urchin's guts spill out into the open a few more hits for good measure the danger has been averted everyth...</td>\n",
       "    </tr>\n",
       "    <tr>\n",
       "      <th>4</th>\n",
       "      <td>monkfish</td>\n",
       "      <td>-0.5</td>\n",
       "      <td>the hermit crab's best defense is its house that it carries around for protection the patience of the monkfishes is wearing thin</td>\n",
       "    </tr>\n",
       "  </tbody>\n",
       "</table>\n",
       "</div>"
      ],
      "text/plain": [
       "          entity  sentiment  \\\n",
       "0  Cardinal fish       -0.5   \n",
       "1       monkfish       -0.5   \n",
       "2     sea urchin       -0.5   \n",
       "3     sea urchin       -0.5   \n",
       "4       monkfish       -0.5   \n",
       "\n",
       "                                                                                                                                                    text  \n",
       "0  the snail is fast and the prey disappears in the blink of an eye the night is still young and still full of danger and Terror these lionfishes pos...  \n",
       "1  they're clearly telling this hermit crab to take a hike but they should have stayed with their offspring because there's new danger approaching a ...  \n",
       "2  Sandy ocean floor and this means having to constantly protect this open Egg site on occasion they blow and fan the eggs but mostly they keep an ey...  \n",
       "3  again and again Until It Breaks the sea urchin's guts spill out into the open a few more hits for good measure the danger has been averted everyth...  \n",
       "4                       the hermit crab's best defense is its house that it carries around for protection the patience of the monkfishes is wearing thin  "
      ]
     },
     "execution_count": 19,
     "metadata": {},
     "output_type": "execute_result"
    }
   ],
   "source": [
    "run_query(\"\"\"\n",
    "MATCH (e:Entity {type:\"animal\"})<-[m:MENTIONS]-(section:Section)\n",
    "WITH e,section, m.sentiment AS sentiment\n",
    "ORDER BY sentiment ASC\n",
    "LIMIT 5\n",
    "RETURN e.name AS entity, sentiment, section.text AS text\n",
    "\"\"\")"
   ]
  },
  {
   "cell_type": "code",
   "execution_count": 20,
   "metadata": {
    "id": "h-FD1GmC7u0T"
   },
   "outputs": [
    {
     "data": {
      "text/html": [
       "<div>\n",
       "<style scoped>\n",
       "    .dataframe tbody tr th:only-of-type {\n",
       "        vertical-align: middle;\n",
       "    }\n",
       "\n",
       "    .dataframe tbody tr th {\n",
       "        vertical-align: top;\n",
       "    }\n",
       "\n",
       "    .dataframe thead th {\n",
       "        text-align: right;\n",
       "    }\n",
       "</style>\n",
       "<table border=\"1\" class=\"dataframe\">\n",
       "  <thead>\n",
       "    <tr style=\"text-align: right;\">\n",
       "      <th></th>\n",
       "      <th>timestamp</th>\n",
       "      <th>endTime</th>\n",
       "      <th>URL</th>\n",
       "    </tr>\n",
       "  </thead>\n",
       "  <tbody>\n",
       "    <tr>\n",
       "      <th>0</th>\n",
       "      <td>1537.86</td>\n",
       "      <td>1560.48</td>\n",
       "      <td>https://youtube.com/watch?v=nrI483C5Tro&amp;t=1537</td>\n",
       "    </tr>\n",
       "    <tr>\n",
       "      <th>1</th>\n",
       "      <td>1664.64</td>\n",
       "      <td>1703.52</td>\n",
       "      <td>https://youtube.com/watch?v=nrI483C5Tro&amp;t=1664</td>\n",
       "    </tr>\n",
       "    <tr>\n",
       "      <th>2</th>\n",
       "      <td>1514.58</td>\n",
       "      <td>1529.10</td>\n",
       "      <td>https://youtube.com/watch?v=nrI483C5Tro&amp;t=1514</td>\n",
       "    </tr>\n",
       "    <tr>\n",
       "      <th>3</th>\n",
       "      <td>648.18</td>\n",
       "      <td>667.92</td>\n",
       "      <td>https://youtube.com/watch?v=nrI483C5Tro&amp;t=648</td>\n",
       "    </tr>\n",
       "    <tr>\n",
       "      <th>4</th>\n",
       "      <td>1455.24</td>\n",
       "      <td>1498.38</td>\n",
       "      <td>https://youtube.com/watch?v=nrI483C5Tro&amp;t=1455</td>\n",
       "    </tr>\n",
       "  </tbody>\n",
       "</table>\n",
       "</div>"
      ],
      "text/plain": [
       "   timestamp  endTime                                             URL\n",
       "0    1537.86  1560.48  https://youtube.com/watch?v=nrI483C5Tro&t=1537\n",
       "1    1664.64  1703.52  https://youtube.com/watch?v=nrI483C5Tro&t=1664\n",
       "2    1514.58  1529.10  https://youtube.com/watch?v=nrI483C5Tro&t=1514\n",
       "3     648.18   667.92   https://youtube.com/watch?v=nrI483C5Tro&t=648\n",
       "4    1455.24  1498.38  https://youtube.com/watch?v=nrI483C5Tro&t=1455"
      ]
     },
     "execution_count": 20,
     "metadata": {},
     "output_type": "execute_result"
    }
   ],
   "source": [
    "run_query(\"\"\"\n",
    "MATCH (e:Entity {name:\"Lionfish\"})<-[:MENTIONS]-(s:Section)<-[:HAS_SECTION]-(v:Video)\n",
    "RETURN s.startTime AS timestamp, s.endTime AS endTime, \"https://youtube.com/watch?v=\" + v.id + \"&t=\" + toString(toInteger(s.startTime)) AS URL\n",
    "\"\"\")\n"
   ]
  },
  {
   "cell_type": "code",
   "execution_count": null,
   "metadata": {
    "id": "2eJtztS-8C-k"
   },
   "outputs": [],
   "source": []
  }
 ],
 "metadata": {
  "colab": {
   "authorship_tag": "ABX9TyO2LGaGlfbtzZJWxfJzh3tc",
   "include_colab_link": true,
   "provenance": []
  },
  "kernelspec": {
   "display_name": "Python 3",
   "language": "python",
   "name": "python3"
  },
  "language_info": {
   "codemirror_mode": {
    "name": "ipython",
    "version": 3
   },
   "file_extension": ".py",
   "mimetype": "text/x-python",
   "name": "python",
   "nbconvert_exporter": "python",
   "pygments_lexer": "ipython3",
   "version": "3.8.8"
  }
 },
 "nbformat": 4,
 "nbformat_minor": 1
}
